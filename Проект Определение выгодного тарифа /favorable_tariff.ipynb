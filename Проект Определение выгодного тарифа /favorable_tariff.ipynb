{
  "cells": [
    {
      "cell_type": "markdown",
      "metadata": {
        "id": "evJqBtEap4H0"
      },
      "source": [
        "# Определение перспективного тарифа для телеком-компании\n",
        "\n",
        "Вы аналитик компании «Мегалайн» — федерального оператора сотовой связи. Клиентам предлагают два тарифных плана: «Смарт» и «Ультра». Чтобы скорректировать рекламный бюджет, коммерческий департамент хочет понять, какой тариф приносит больше денег.\n",
        "Вам предстоит сделать предварительный анализ тарифов на небольшой выборке клиентов. В вашем распоряжении данные 500 пользователей «Мегалайна»: кто они, откуда, каким тарифом пользуются, сколько звонков и сообщений каждый отправил за 2018 год. Нужно проанализировать поведение клиентов и сделать вывод — какой тариф лучше.\n",
        "\n",
        "### Описание тарифов \n",
        "\n",
        "#### Тариф «Смарт» \n",
        "Ежемесячная плата: 550 рублей.  \n",
        "Включено 500 минут разговора, 50 сообщений и 15 Гб интернет-трафика.  \n",
        "Стоимость услуг сверх тарифного пакета:  \n",
        "1. минута разговора:  3 рубля ;  \n",
        "2. сообщение: 3 рубля;  \n",
        "3. 1 Гб интернет-трафика: 200 рублей.\n",
        "\n",
        "#### Тариф «Ультра» \n",
        "Ежемесячная плата: 1950 рублей.  \n",
        "Включено 3000 минут разговора, 1000 сообщений и 30 Гб интернет-трафика.  \n",
        "Стоимость услуг сверх тарифного пакета:  \n",
        "1. минута разговора: 1 рубль;  \n",
        "2. сообщение: 1 рубль;  \n",
        "3. 1 Гб интернет-трафика: 150 рублей."
      ]
    },
    {
      "cell_type": "markdown",
      "metadata": {
        "id": "6XPKZRTAp4H0"
      },
      "source": [
        "## Шаг 1. Изучение данных."
      ]
    },
    {
      "cell_type": "markdown",
      "metadata": {
        "id": "gXTletYop4H1"
      },
      "source": [
        "Импортируем необходимые библиотеки."
      ]
    },
    {
      "cell_type": "code",
      "execution_count": null,
      "metadata": {
        "id": "r-e4-Zz7p4H1"
      },
      "outputs": [],
      "source": [
        "import pandas as pd\n",
        "import numpy as np\n",
        "from math import factorial\n",
        "from matplotlib import pyplot as plt\n",
        "from scipy import stats as st\n",
        "import scipy.stats\n",
        "import math as mt\n",
        "from matplotlib import pyplot as plt"
      ]
    },
    {
      "cell_type": "markdown",
      "metadata": {
        "id": "lsAUyzPIp4H2"
      },
      "source": [
        "Импортируем данные."
      ]
    },
    {
      "cell_type": "code",
      "execution_count": null,
      "metadata": {
        "id": "xeC1LadVp4H2"
      },
      "outputs": [],
      "source": [
        "calls = pd.read_csv('/datasets/calls.csv')\n",
        "internet = pd.read_csv('/datasets/internet.csv')\n",
        "messages = pd.read_csv('/datasets/messages.csv')\n",
        "tariffs = pd.read_csv('/datasets/tariffs.csv')\n",
        "users = pd.read_csv('/datasets/users.csv')"
      ]
    },
    {
      "cell_type": "markdown",
      "metadata": {
        "id": "mCohifMnp4H2"
      },
      "source": [
        "Ознакомимся с датасетами.\n",
        "\n",
        "Общая информация о тарифах."
      ]
    },
    {
      "cell_type": "code",
      "execution_count": null,
      "metadata": {
        "id": "UOmUFzYOp4H3",
        "outputId": "a451948b-8d01-4798-848c-bf3de8a1cc0c"
      },
      "outputs": [
        {
          "data": {
            "text/html": [
              "<div>\n",
              "<style scoped>\n",
              "    .dataframe tbody tr th:only-of-type {\n",
              "        vertical-align: middle;\n",
              "    }\n",
              "\n",
              "    .dataframe tbody tr th {\n",
              "        vertical-align: top;\n",
              "    }\n",
              "\n",
              "    .dataframe thead th {\n",
              "        text-align: right;\n",
              "    }\n",
              "</style>\n",
              "<table border=\"1\" class=\"dataframe\">\n",
              "  <thead>\n",
              "    <tr style=\"text-align: right;\">\n",
              "      <th></th>\n",
              "      <th>messages_included</th>\n",
              "      <th>mb_per_month_included</th>\n",
              "      <th>minutes_included</th>\n",
              "      <th>rub_monthly_fee</th>\n",
              "      <th>rub_per_gb</th>\n",
              "      <th>rub_per_message</th>\n",
              "      <th>rub_per_minute</th>\n",
              "      <th>tariff_name</th>\n",
              "    </tr>\n",
              "  </thead>\n",
              "  <tbody>\n",
              "    <tr>\n",
              "      <td>0</td>\n",
              "      <td>50</td>\n",
              "      <td>15360</td>\n",
              "      <td>500</td>\n",
              "      <td>550</td>\n",
              "      <td>200</td>\n",
              "      <td>3</td>\n",
              "      <td>3</td>\n",
              "      <td>smart</td>\n",
              "    </tr>\n",
              "    <tr>\n",
              "      <td>1</td>\n",
              "      <td>1000</td>\n",
              "      <td>30720</td>\n",
              "      <td>3000</td>\n",
              "      <td>1950</td>\n",
              "      <td>150</td>\n",
              "      <td>1</td>\n",
              "      <td>1</td>\n",
              "      <td>ultra</td>\n",
              "    </tr>\n",
              "  </tbody>\n",
              "</table>\n",
              "</div>"
            ],
            "text/plain": [
              "   messages_included  mb_per_month_included  minutes_included  \\\n",
              "0                 50                  15360               500   \n",
              "1               1000                  30720              3000   \n",
              "\n",
              "   rub_monthly_fee  rub_per_gb  rub_per_message  rub_per_minute tariff_name  \n",
              "0              550         200                3               3       smart  \n",
              "1             1950         150                1               1       ultra  "
            ]
          },
          "metadata": {},
          "output_type": "display_data"
        },
        {
          "name": "stdout",
          "output_type": "stream",
          "text": [
            "<class 'pandas.core.frame.DataFrame'>\n",
            "RangeIndex: 2 entries, 0 to 1\n",
            "Data columns (total 8 columns):\n",
            "messages_included        2 non-null int64\n",
            "mb_per_month_included    2 non-null int64\n",
            "minutes_included         2 non-null int64\n",
            "rub_monthly_fee          2 non-null int64\n",
            "rub_per_gb               2 non-null int64\n",
            "rub_per_message          2 non-null int64\n",
            "rub_per_minute           2 non-null int64\n",
            "tariff_name              2 non-null object\n",
            "dtypes: int64(7), object(1)\n",
            "memory usage: 256.0+ bytes\n"
          ]
        }
      ],
      "source": [
        "display(tariffs)\n",
        "tariffs.info()"
      ]
    },
    {
      "cell_type": "markdown",
      "metadata": {
        "id": "y4Kf4hYQp4H4"
      },
      "source": [
        "Пропусков нет.\n",
        "Типы данных корректные.\n",
        "\n",
        "Информация о пользователях."
      ]
    },
    {
      "cell_type": "code",
      "execution_count": null,
      "metadata": {
        "id": "hOFGE67Jp4H4",
        "outputId": "c36752ed-9936-40a5-8b08-2af1e1cb9888"
      },
      "outputs": [
        {
          "data": {
            "text/html": [
              "<div>\n",
              "<style scoped>\n",
              "    .dataframe tbody tr th:only-of-type {\n",
              "        vertical-align: middle;\n",
              "    }\n",
              "\n",
              "    .dataframe tbody tr th {\n",
              "        vertical-align: top;\n",
              "    }\n",
              "\n",
              "    .dataframe thead th {\n",
              "        text-align: right;\n",
              "    }\n",
              "</style>\n",
              "<table border=\"1\" class=\"dataframe\">\n",
              "  <thead>\n",
              "    <tr style=\"text-align: right;\">\n",
              "      <th></th>\n",
              "      <th>user_id</th>\n",
              "      <th>age</th>\n",
              "      <th>churn_date</th>\n",
              "      <th>city</th>\n",
              "      <th>first_name</th>\n",
              "      <th>last_name</th>\n",
              "      <th>reg_date</th>\n",
              "      <th>tariff</th>\n",
              "    </tr>\n",
              "  </thead>\n",
              "  <tbody>\n",
              "    <tr>\n",
              "      <td>0</td>\n",
              "      <td>1000</td>\n",
              "      <td>52</td>\n",
              "      <td>NaN</td>\n",
              "      <td>Краснодар</td>\n",
              "      <td>Рафаил</td>\n",
              "      <td>Верещагин</td>\n",
              "      <td>2018-05-25</td>\n",
              "      <td>ultra</td>\n",
              "    </tr>\n",
              "    <tr>\n",
              "      <td>1</td>\n",
              "      <td>1001</td>\n",
              "      <td>41</td>\n",
              "      <td>NaN</td>\n",
              "      <td>Москва</td>\n",
              "      <td>Иван</td>\n",
              "      <td>Ежов</td>\n",
              "      <td>2018-11-01</td>\n",
              "      <td>smart</td>\n",
              "    </tr>\n",
              "    <tr>\n",
              "      <td>2</td>\n",
              "      <td>1002</td>\n",
              "      <td>59</td>\n",
              "      <td>NaN</td>\n",
              "      <td>Стерлитамак</td>\n",
              "      <td>Евгений</td>\n",
              "      <td>Абрамович</td>\n",
              "      <td>2018-06-17</td>\n",
              "      <td>smart</td>\n",
              "    </tr>\n",
              "    <tr>\n",
              "      <td>3</td>\n",
              "      <td>1003</td>\n",
              "      <td>23</td>\n",
              "      <td>NaN</td>\n",
              "      <td>Москва</td>\n",
              "      <td>Белла</td>\n",
              "      <td>Белякова</td>\n",
              "      <td>2018-08-17</td>\n",
              "      <td>ultra</td>\n",
              "    </tr>\n",
              "    <tr>\n",
              "      <td>4</td>\n",
              "      <td>1004</td>\n",
              "      <td>68</td>\n",
              "      <td>NaN</td>\n",
              "      <td>Новокузнецк</td>\n",
              "      <td>Татьяна</td>\n",
              "      <td>Авдеенко</td>\n",
              "      <td>2018-05-14</td>\n",
              "      <td>ultra</td>\n",
              "    </tr>\n",
              "  </tbody>\n",
              "</table>\n",
              "</div>"
            ],
            "text/plain": [
              "   user_id  age churn_date         city first_name  last_name    reg_date  \\\n",
              "0     1000   52        NaN    Краснодар     Рафаил  Верещагин  2018-05-25   \n",
              "1     1001   41        NaN       Москва       Иван       Ежов  2018-11-01   \n",
              "2     1002   59        NaN  Стерлитамак    Евгений  Абрамович  2018-06-17   \n",
              "3     1003   23        NaN       Москва      Белла   Белякова  2018-08-17   \n",
              "4     1004   68        NaN  Новокузнецк    Татьяна   Авдеенко  2018-05-14   \n",
              "\n",
              "  tariff  \n",
              "0  ultra  \n",
              "1  smart  \n",
              "2  smart  \n",
              "3  ultra  \n",
              "4  ultra  "
            ]
          },
          "metadata": {},
          "output_type": "display_data"
        },
        {
          "name": "stdout",
          "output_type": "stream",
          "text": [
            "<class 'pandas.core.frame.DataFrame'>\n",
            "RangeIndex: 500 entries, 0 to 499\n",
            "Data columns (total 8 columns):\n",
            "user_id       500 non-null int64\n",
            "age           500 non-null int64\n",
            "churn_date    38 non-null object\n",
            "city          500 non-null object\n",
            "first_name    500 non-null object\n",
            "last_name     500 non-null object\n",
            "reg_date      500 non-null object\n",
            "tariff        500 non-null object\n",
            "dtypes: int64(2), object(6)\n",
            "memory usage: 31.4+ KB\n"
          ]
        }
      ],
      "source": [
        "display(users.head())\n",
        "users.info()"
      ]
    },
    {
      "cell_type": "markdown",
      "metadata": {
        "id": "Xn2NkWu3p4H5"
      },
      "source": [
        "Имеются пропуски в столбце `churn_date`, этот столбец отображает дату окончания пользования тарифом и логично, что если ячейка пуста, то тариф продолжает действовать для пользователя.\n",
        "Поэтому бороться с этими пропуками нет необходимости.\n",
        "Типы данных также корректны.\n",
        "\n",
        "Информация о звонках."
      ]
    },
    {
      "cell_type": "code",
      "execution_count": null,
      "metadata": {
        "id": "Vq4sBh4op4H5",
        "outputId": "62e72c28-a434-40eb-fb1b-6b329f5a3ab6"
      },
      "outputs": [
        {
          "data": {
            "text/html": [
              "<div>\n",
              "<style scoped>\n",
              "    .dataframe tbody tr th:only-of-type {\n",
              "        vertical-align: middle;\n",
              "    }\n",
              "\n",
              "    .dataframe tbody tr th {\n",
              "        vertical-align: top;\n",
              "    }\n",
              "\n",
              "    .dataframe thead th {\n",
              "        text-align: right;\n",
              "    }\n",
              "</style>\n",
              "<table border=\"1\" class=\"dataframe\">\n",
              "  <thead>\n",
              "    <tr style=\"text-align: right;\">\n",
              "      <th></th>\n",
              "      <th>id</th>\n",
              "      <th>call_date</th>\n",
              "      <th>duration</th>\n",
              "      <th>user_id</th>\n",
              "    </tr>\n",
              "  </thead>\n",
              "  <tbody>\n",
              "    <tr>\n",
              "      <td>0</td>\n",
              "      <td>1000_0</td>\n",
              "      <td>2018-07-25</td>\n",
              "      <td>0.00</td>\n",
              "      <td>1000</td>\n",
              "    </tr>\n",
              "    <tr>\n",
              "      <td>1</td>\n",
              "      <td>1000_1</td>\n",
              "      <td>2018-08-17</td>\n",
              "      <td>0.00</td>\n",
              "      <td>1000</td>\n",
              "    </tr>\n",
              "    <tr>\n",
              "      <td>2</td>\n",
              "      <td>1000_2</td>\n",
              "      <td>2018-06-11</td>\n",
              "      <td>2.85</td>\n",
              "      <td>1000</td>\n",
              "    </tr>\n",
              "    <tr>\n",
              "      <td>3</td>\n",
              "      <td>1000_3</td>\n",
              "      <td>2018-09-21</td>\n",
              "      <td>13.80</td>\n",
              "      <td>1000</td>\n",
              "    </tr>\n",
              "    <tr>\n",
              "      <td>4</td>\n",
              "      <td>1000_4</td>\n",
              "      <td>2018-12-15</td>\n",
              "      <td>5.18</td>\n",
              "      <td>1000</td>\n",
              "    </tr>\n",
              "    <tr>\n",
              "      <td>...</td>\n",
              "      <td>...</td>\n",
              "      <td>...</td>\n",
              "      <td>...</td>\n",
              "      <td>...</td>\n",
              "    </tr>\n",
              "    <tr>\n",
              "      <td>202602</td>\n",
              "      <td>1499_215</td>\n",
              "      <td>2018-12-26</td>\n",
              "      <td>0.76</td>\n",
              "      <td>1499</td>\n",
              "    </tr>\n",
              "    <tr>\n",
              "      <td>202603</td>\n",
              "      <td>1499_216</td>\n",
              "      <td>2018-10-18</td>\n",
              "      <td>18.83</td>\n",
              "      <td>1499</td>\n",
              "    </tr>\n",
              "    <tr>\n",
              "      <td>202604</td>\n",
              "      <td>1499_217</td>\n",
              "      <td>2018-11-10</td>\n",
              "      <td>10.81</td>\n",
              "      <td>1499</td>\n",
              "    </tr>\n",
              "    <tr>\n",
              "      <td>202605</td>\n",
              "      <td>1499_218</td>\n",
              "      <td>2018-10-06</td>\n",
              "      <td>4.27</td>\n",
              "      <td>1499</td>\n",
              "    </tr>\n",
              "    <tr>\n",
              "      <td>202606</td>\n",
              "      <td>1499_219</td>\n",
              "      <td>2018-12-14</td>\n",
              "      <td>19.62</td>\n",
              "      <td>1499</td>\n",
              "    </tr>\n",
              "  </tbody>\n",
              "</table>\n",
              "<p>202607 rows × 4 columns</p>\n",
              "</div>"
            ],
            "text/plain": [
              "              id   call_date  duration  user_id\n",
              "0         1000_0  2018-07-25      0.00     1000\n",
              "1         1000_1  2018-08-17      0.00     1000\n",
              "2         1000_2  2018-06-11      2.85     1000\n",
              "3         1000_3  2018-09-21     13.80     1000\n",
              "4         1000_4  2018-12-15      5.18     1000\n",
              "...          ...         ...       ...      ...\n",
              "202602  1499_215  2018-12-26      0.76     1499\n",
              "202603  1499_216  2018-10-18     18.83     1499\n",
              "202604  1499_217  2018-11-10     10.81     1499\n",
              "202605  1499_218  2018-10-06      4.27     1499\n",
              "202606  1499_219  2018-12-14     19.62     1499\n",
              "\n",
              "[202607 rows x 4 columns]"
            ]
          },
          "metadata": {},
          "output_type": "display_data"
        },
        {
          "name": "stdout",
          "output_type": "stream",
          "text": [
            "<class 'pandas.core.frame.DataFrame'>\n",
            "RangeIndex: 202607 entries, 0 to 202606\n",
            "Data columns (total 4 columns):\n",
            "id           202607 non-null object\n",
            "call_date    202607 non-null object\n",
            "duration     202607 non-null float64\n",
            "user_id      202607 non-null int64\n",
            "dtypes: float64(1), int64(1), object(2)\n",
            "memory usage: 6.2+ MB\n"
          ]
        }
      ],
      "source": [
        "display(calls)\n",
        "calls.info()"
      ]
    },
    {
      "cell_type": "markdown",
      "metadata": {
        "id": "auIN1VXNp4H5"
      },
      "source": [
        "Пропусков нет. Типы данных корректны, но нам известно, что оператор округляет время разговора до минут.\n",
        "Поэтому логично будет округлить значения до целы и изменит тип данных на целочисленный.\n",
        "Кроме того, в столбце `duration` содержатся нулевые значение, по условиям это пропущенные вызовы, поэтому не будем от них избавляться.\n",
        "\n",
        "Информация о сообщениях."
      ]
    },
    {
      "cell_type": "code",
      "execution_count": null,
      "metadata": {
        "id": "hRqEj1bhp4H6",
        "outputId": "0ab0ceb6-8e42-499b-ab9f-85ac3baf03b0"
      },
      "outputs": [
        {
          "data": {
            "text/html": [
              "<div>\n",
              "<style scoped>\n",
              "    .dataframe tbody tr th:only-of-type {\n",
              "        vertical-align: middle;\n",
              "    }\n",
              "\n",
              "    .dataframe tbody tr th {\n",
              "        vertical-align: top;\n",
              "    }\n",
              "\n",
              "    .dataframe thead th {\n",
              "        text-align: right;\n",
              "    }\n",
              "</style>\n",
              "<table border=\"1\" class=\"dataframe\">\n",
              "  <thead>\n",
              "    <tr style=\"text-align: right;\">\n",
              "      <th></th>\n",
              "      <th>id</th>\n",
              "      <th>message_date</th>\n",
              "      <th>user_id</th>\n",
              "    </tr>\n",
              "  </thead>\n",
              "  <tbody>\n",
              "    <tr>\n",
              "      <td>0</td>\n",
              "      <td>1000_0</td>\n",
              "      <td>2018-06-27</td>\n",
              "      <td>1000</td>\n",
              "    </tr>\n",
              "    <tr>\n",
              "      <td>1</td>\n",
              "      <td>1000_1</td>\n",
              "      <td>2018-10-08</td>\n",
              "      <td>1000</td>\n",
              "    </tr>\n",
              "    <tr>\n",
              "      <td>2</td>\n",
              "      <td>1000_2</td>\n",
              "      <td>2018-08-04</td>\n",
              "      <td>1000</td>\n",
              "    </tr>\n",
              "    <tr>\n",
              "      <td>3</td>\n",
              "      <td>1000_3</td>\n",
              "      <td>2018-06-16</td>\n",
              "      <td>1000</td>\n",
              "    </tr>\n",
              "    <tr>\n",
              "      <td>4</td>\n",
              "      <td>1000_4</td>\n",
              "      <td>2018-12-05</td>\n",
              "      <td>1000</td>\n",
              "    </tr>\n",
              "    <tr>\n",
              "      <td>5</td>\n",
              "      <td>1000_5</td>\n",
              "      <td>2018-06-20</td>\n",
              "      <td>1000</td>\n",
              "    </tr>\n",
              "    <tr>\n",
              "      <td>6</td>\n",
              "      <td>1000_6</td>\n",
              "      <td>2018-11-19</td>\n",
              "      <td>1000</td>\n",
              "    </tr>\n",
              "    <tr>\n",
              "      <td>7</td>\n",
              "      <td>1000_7</td>\n",
              "      <td>2018-10-29</td>\n",
              "      <td>1000</td>\n",
              "    </tr>\n",
              "    <tr>\n",
              "      <td>8</td>\n",
              "      <td>1000_8</td>\n",
              "      <td>2018-06-25</td>\n",
              "      <td>1000</td>\n",
              "    </tr>\n",
              "    <tr>\n",
              "      <td>9</td>\n",
              "      <td>1000_9</td>\n",
              "      <td>2018-12-18</td>\n",
              "      <td>1000</td>\n",
              "    </tr>\n",
              "  </tbody>\n",
              "</table>\n",
              "</div>"
            ],
            "text/plain": [
              "       id message_date  user_id\n",
              "0  1000_0   2018-06-27     1000\n",
              "1  1000_1   2018-10-08     1000\n",
              "2  1000_2   2018-08-04     1000\n",
              "3  1000_3   2018-06-16     1000\n",
              "4  1000_4   2018-12-05     1000\n",
              "5  1000_5   2018-06-20     1000\n",
              "6  1000_6   2018-11-19     1000\n",
              "7  1000_7   2018-10-29     1000\n",
              "8  1000_8   2018-06-25     1000\n",
              "9  1000_9   2018-12-18     1000"
            ]
          },
          "metadata": {},
          "output_type": "display_data"
        },
        {
          "name": "stdout",
          "output_type": "stream",
          "text": [
            "<class 'pandas.core.frame.DataFrame'>\n",
            "RangeIndex: 123036 entries, 0 to 123035\n",
            "Data columns (total 3 columns):\n",
            "id              123036 non-null object\n",
            "message_date    123036 non-null object\n",
            "user_id         123036 non-null int64\n",
            "dtypes: int64(1), object(2)\n",
            "memory usage: 2.8+ MB\n"
          ]
        }
      ],
      "source": [
        "display(messages.head(10))\n",
        "messages.info()"
      ]
    },
    {
      "cell_type": "markdown",
      "metadata": {
        "id": "NEJr1h1Jp4H6"
      },
      "source": [
        "Пропусков нет. Типы данных корректны.\n",
        "\n",
        "Информация об интернет сессиях."
      ]
    },
    {
      "cell_type": "code",
      "execution_count": null,
      "metadata": {
        "id": "k0kjf-3yp4H6",
        "outputId": "da535002-6a35-4ecd-b79d-ce598ae4f377"
      },
      "outputs": [
        {
          "data": {
            "text/html": [
              "<div>\n",
              "<style scoped>\n",
              "    .dataframe tbody tr th:only-of-type {\n",
              "        vertical-align: middle;\n",
              "    }\n",
              "\n",
              "    .dataframe tbody tr th {\n",
              "        vertical-align: top;\n",
              "    }\n",
              "\n",
              "    .dataframe thead th {\n",
              "        text-align: right;\n",
              "    }\n",
              "</style>\n",
              "<table border=\"1\" class=\"dataframe\">\n",
              "  <thead>\n",
              "    <tr style=\"text-align: right;\">\n",
              "      <th></th>\n",
              "      <th>Unnamed: 0</th>\n",
              "      <th>id</th>\n",
              "      <th>mb_used</th>\n",
              "      <th>session_date</th>\n",
              "      <th>user_id</th>\n",
              "    </tr>\n",
              "  </thead>\n",
              "  <tbody>\n",
              "    <tr>\n",
              "      <td>0</td>\n",
              "      <td>0</td>\n",
              "      <td>1000_0</td>\n",
              "      <td>112.95</td>\n",
              "      <td>2018-11-25</td>\n",
              "      <td>1000</td>\n",
              "    </tr>\n",
              "    <tr>\n",
              "      <td>1</td>\n",
              "      <td>1</td>\n",
              "      <td>1000_1</td>\n",
              "      <td>1052.81</td>\n",
              "      <td>2018-09-07</td>\n",
              "      <td>1000</td>\n",
              "    </tr>\n",
              "    <tr>\n",
              "      <td>2</td>\n",
              "      <td>2</td>\n",
              "      <td>1000_2</td>\n",
              "      <td>1197.26</td>\n",
              "      <td>2018-06-25</td>\n",
              "      <td>1000</td>\n",
              "    </tr>\n",
              "    <tr>\n",
              "      <td>3</td>\n",
              "      <td>3</td>\n",
              "      <td>1000_3</td>\n",
              "      <td>550.27</td>\n",
              "      <td>2018-08-22</td>\n",
              "      <td>1000</td>\n",
              "    </tr>\n",
              "    <tr>\n",
              "      <td>4</td>\n",
              "      <td>4</td>\n",
              "      <td>1000_4</td>\n",
              "      <td>302.56</td>\n",
              "      <td>2018-09-24</td>\n",
              "      <td>1000</td>\n",
              "    </tr>\n",
              "    <tr>\n",
              "      <td>5</td>\n",
              "      <td>5</td>\n",
              "      <td>1000_5</td>\n",
              "      <td>399.97</td>\n",
              "      <td>2018-10-02</td>\n",
              "      <td>1000</td>\n",
              "    </tr>\n",
              "    <tr>\n",
              "      <td>6</td>\n",
              "      <td>6</td>\n",
              "      <td>1000_6</td>\n",
              "      <td>540.08</td>\n",
              "      <td>2018-09-07</td>\n",
              "      <td>1000</td>\n",
              "    </tr>\n",
              "    <tr>\n",
              "      <td>7</td>\n",
              "      <td>7</td>\n",
              "      <td>1000_7</td>\n",
              "      <td>415.70</td>\n",
              "      <td>2018-07-11</td>\n",
              "      <td>1000</td>\n",
              "    </tr>\n",
              "    <tr>\n",
              "      <td>8</td>\n",
              "      <td>8</td>\n",
              "      <td>1000_8</td>\n",
              "      <td>505.40</td>\n",
              "      <td>2018-10-08</td>\n",
              "      <td>1000</td>\n",
              "    </tr>\n",
              "    <tr>\n",
              "      <td>9</td>\n",
              "      <td>9</td>\n",
              "      <td>1000_9</td>\n",
              "      <td>345.54</td>\n",
              "      <td>2018-09-03</td>\n",
              "      <td>1000</td>\n",
              "    </tr>\n",
              "  </tbody>\n",
              "</table>\n",
              "</div>"
            ],
            "text/plain": [
              "   Unnamed: 0      id  mb_used session_date  user_id\n",
              "0           0  1000_0   112.95   2018-11-25     1000\n",
              "1           1  1000_1  1052.81   2018-09-07     1000\n",
              "2           2  1000_2  1197.26   2018-06-25     1000\n",
              "3           3  1000_3   550.27   2018-08-22     1000\n",
              "4           4  1000_4   302.56   2018-09-24     1000\n",
              "5           5  1000_5   399.97   2018-10-02     1000\n",
              "6           6  1000_6   540.08   2018-09-07     1000\n",
              "7           7  1000_7   415.70   2018-07-11     1000\n",
              "8           8  1000_8   505.40   2018-10-08     1000\n",
              "9           9  1000_9   345.54   2018-09-03     1000"
            ]
          },
          "metadata": {},
          "output_type": "display_data"
        },
        {
          "name": "stdout",
          "output_type": "stream",
          "text": [
            "<class 'pandas.core.frame.DataFrame'>\n",
            "RangeIndex: 149396 entries, 0 to 149395\n",
            "Data columns (total 5 columns):\n",
            "Unnamed: 0      149396 non-null int64\n",
            "id              149396 non-null object\n",
            "mb_used         149396 non-null float64\n",
            "session_date    149396 non-null object\n",
            "user_id         149396 non-null int64\n",
            "dtypes: float64(1), int64(2), object(2)\n",
            "memory usage: 5.7+ MB\n"
          ]
        }
      ],
      "source": [
        "display(internet.head(10)) \n",
        "internet.info()"
      ]
    },
    {
      "cell_type": "markdown",
      "metadata": {
        "id": "KBx7_jXDp4H7"
      },
      "source": [
        "В теблице оказалось два столбца с индексами, от одного из них нужно бы избавиться. Столбец `mb_used` содержит количество потраченых МБ за сессию. Оператор округляет мб до ГБ, но делает это лишь по итогу месяца. А для каждой сессии предлагаю округлить данные до МБ и изменить тип данных на целочисленный."
      ]
    },
    {
      "cell_type": "markdown",
      "metadata": {
        "id": "XIZd626pp4H7"
      },
      "source": [
        "### Вывод \n",
        "Ознакомились с данными, нашли несколько проблем:\n",
        "- в столбце `churn_date` имеются пропуски, но заполнять их не имеет смысла;\n",
        "- для столбцов `duration` и `mb_used` необходимо осуществить округление до целого и изменить тип данных на целочисленный;\n",
        "- в таблице `internet` необходимо избавится от одного столбца с индексацией."
      ]
    },
    {
      "cell_type": "markdown",
      "metadata": {
        "id": "af-kPvJWp4H7"
      },
      "source": [
        "## Шаг 2. Подготовка данных.\n",
        "\n",
        "Для начала обработаем данные исходя из выводов сделанных в предыдущем шаге.\n",
        "\n",
        "Округлим значения в столбцах `duration` из таблицы `calls` и `mb_used` из таблицы `internet` до целого и переведем в тип int"
      ]
    },
    {
      "cell_type": "code",
      "execution_count": null,
      "metadata": {
        "id": "1naczLbFp4H8",
        "outputId": "90eca8e4-8ab9-460d-d775-a3b0739d9be7"
      },
      "outputs": [
        {
          "data": {
            "text/html": [
              "<div>\n",
              "<style scoped>\n",
              "    .dataframe tbody tr th:only-of-type {\n",
              "        vertical-align: middle;\n",
              "    }\n",
              "\n",
              "    .dataframe tbody tr th {\n",
              "        vertical-align: top;\n",
              "    }\n",
              "\n",
              "    .dataframe thead th {\n",
              "        text-align: right;\n",
              "    }\n",
              "</style>\n",
              "<table border=\"1\" class=\"dataframe\">\n",
              "  <thead>\n",
              "    <tr style=\"text-align: right;\">\n",
              "      <th></th>\n",
              "      <th>id</th>\n",
              "      <th>call_date</th>\n",
              "      <th>duration</th>\n",
              "      <th>user_id</th>\n",
              "    </tr>\n",
              "  </thead>\n",
              "  <tbody>\n",
              "    <tr>\n",
              "      <td>0</td>\n",
              "      <td>1000_0</td>\n",
              "      <td>2018-07-25</td>\n",
              "      <td>0</td>\n",
              "      <td>1000</td>\n",
              "    </tr>\n",
              "    <tr>\n",
              "      <td>1</td>\n",
              "      <td>1000_1</td>\n",
              "      <td>2018-08-17</td>\n",
              "      <td>0</td>\n",
              "      <td>1000</td>\n",
              "    </tr>\n",
              "    <tr>\n",
              "      <td>2</td>\n",
              "      <td>1000_2</td>\n",
              "      <td>2018-06-11</td>\n",
              "      <td>3</td>\n",
              "      <td>1000</td>\n",
              "    </tr>\n",
              "    <tr>\n",
              "      <td>3</td>\n",
              "      <td>1000_3</td>\n",
              "      <td>2018-09-21</td>\n",
              "      <td>14</td>\n",
              "      <td>1000</td>\n",
              "    </tr>\n",
              "    <tr>\n",
              "      <td>4</td>\n",
              "      <td>1000_4</td>\n",
              "      <td>2018-12-15</td>\n",
              "      <td>6</td>\n",
              "      <td>1000</td>\n",
              "    </tr>\n",
              "  </tbody>\n",
              "</table>\n",
              "</div>"
            ],
            "text/plain": [
              "       id   call_date  duration  user_id\n",
              "0  1000_0  2018-07-25         0     1000\n",
              "1  1000_1  2018-08-17         0     1000\n",
              "2  1000_2  2018-06-11         3     1000\n",
              "3  1000_3  2018-09-21        14     1000\n",
              "4  1000_4  2018-12-15         6     1000"
            ]
          },
          "execution_count": 8,
          "metadata": {},
          "output_type": "execute_result"
        }
      ],
      "source": [
        "calls['duration'] = np.ceil(calls['duration']).astype('int')\n",
        "calls.head()"
      ]
    },
    {
      "cell_type": "markdown",
      "metadata": {
        "id": "kSZC9dHKp4H9"
      },
      "source": [
        "В таблице `internet` неободимо избавиться от второго столбца с индексацией."
      ]
    },
    {
      "cell_type": "code",
      "execution_count": null,
      "metadata": {
        "id": "4H-J67_5p4H9",
        "outputId": "683c56ee-2ea0-4a7e-b262-c09c08995f6a"
      },
      "outputs": [
        {
          "data": {
            "text/html": [
              "<div>\n",
              "<style scoped>\n",
              "    .dataframe tbody tr th:only-of-type {\n",
              "        vertical-align: middle;\n",
              "    }\n",
              "\n",
              "    .dataframe tbody tr th {\n",
              "        vertical-align: top;\n",
              "    }\n",
              "\n",
              "    .dataframe thead th {\n",
              "        text-align: right;\n",
              "    }\n",
              "</style>\n",
              "<table border=\"1\" class=\"dataframe\">\n",
              "  <thead>\n",
              "    <tr style=\"text-align: right;\">\n",
              "      <th></th>\n",
              "      <th>id</th>\n",
              "      <th>mb_used</th>\n",
              "      <th>session_date</th>\n",
              "      <th>user_id</th>\n",
              "    </tr>\n",
              "  </thead>\n",
              "  <tbody>\n",
              "    <tr>\n",
              "      <td>0</td>\n",
              "      <td>1000_0</td>\n",
              "      <td>112.95</td>\n",
              "      <td>2018-11-25</td>\n",
              "      <td>1000</td>\n",
              "    </tr>\n",
              "    <tr>\n",
              "      <td>1</td>\n",
              "      <td>1000_1</td>\n",
              "      <td>1052.81</td>\n",
              "      <td>2018-09-07</td>\n",
              "      <td>1000</td>\n",
              "    </tr>\n",
              "    <tr>\n",
              "      <td>2</td>\n",
              "      <td>1000_2</td>\n",
              "      <td>1197.26</td>\n",
              "      <td>2018-06-25</td>\n",
              "      <td>1000</td>\n",
              "    </tr>\n",
              "    <tr>\n",
              "      <td>3</td>\n",
              "      <td>1000_3</td>\n",
              "      <td>550.27</td>\n",
              "      <td>2018-08-22</td>\n",
              "      <td>1000</td>\n",
              "    </tr>\n",
              "    <tr>\n",
              "      <td>4</td>\n",
              "      <td>1000_4</td>\n",
              "      <td>302.56</td>\n",
              "      <td>2018-09-24</td>\n",
              "      <td>1000</td>\n",
              "    </tr>\n",
              "    <tr>\n",
              "      <td>...</td>\n",
              "      <td>...</td>\n",
              "      <td>...</td>\n",
              "      <td>...</td>\n",
              "      <td>...</td>\n",
              "    </tr>\n",
              "    <tr>\n",
              "      <td>149391</td>\n",
              "      <td>1499_152</td>\n",
              "      <td>318.90</td>\n",
              "      <td>2018-10-03</td>\n",
              "      <td>1499</td>\n",
              "    </tr>\n",
              "    <tr>\n",
              "      <td>149392</td>\n",
              "      <td>1499_153</td>\n",
              "      <td>490.13</td>\n",
              "      <td>2018-12-14</td>\n",
              "      <td>1499</td>\n",
              "    </tr>\n",
              "    <tr>\n",
              "      <td>149393</td>\n",
              "      <td>1499_154</td>\n",
              "      <td>0.00</td>\n",
              "      <td>2018-10-27</td>\n",
              "      <td>1499</td>\n",
              "    </tr>\n",
              "    <tr>\n",
              "      <td>149394</td>\n",
              "      <td>1499_155</td>\n",
              "      <td>1246.32</td>\n",
              "      <td>2018-11-26</td>\n",
              "      <td>1499</td>\n",
              "    </tr>\n",
              "    <tr>\n",
              "      <td>149395</td>\n",
              "      <td>1499_156</td>\n",
              "      <td>544.37</td>\n",
              "      <td>2018-10-26</td>\n",
              "      <td>1499</td>\n",
              "    </tr>\n",
              "  </tbody>\n",
              "</table>\n",
              "<p>149396 rows × 4 columns</p>\n",
              "</div>"
            ],
            "text/plain": [
              "              id  mb_used session_date  user_id\n",
              "0         1000_0   112.95   2018-11-25     1000\n",
              "1         1000_1  1052.81   2018-09-07     1000\n",
              "2         1000_2  1197.26   2018-06-25     1000\n",
              "3         1000_3   550.27   2018-08-22     1000\n",
              "4         1000_4   302.56   2018-09-24     1000\n",
              "...          ...      ...          ...      ...\n",
              "149391  1499_152   318.90   2018-10-03     1499\n",
              "149392  1499_153   490.13   2018-12-14     1499\n",
              "149393  1499_154     0.00   2018-10-27     1499\n",
              "149394  1499_155  1246.32   2018-11-26     1499\n",
              "149395  1499_156   544.37   2018-10-26     1499\n",
              "\n",
              "[149396 rows x 4 columns]"
            ]
          },
          "execution_count": 10,
          "metadata": {},
          "output_type": "execute_result"
        }
      ],
      "source": [
        "internet = internet.drop(columns='Unnamed: 0')\n",
        "internet"
      ]
    },
    {
      "cell_type": "markdown",
      "metadata": {
        "id": "zXmCFi5tp4H9"
      },
      "source": [
        "Данные приведены в порядок.\n",
        "\n",
        "Теперь посчитаем для каждого пользователя:\n",
        "- количество сделанных звонков и израсходованных минут разговора по месяцам и запишем в таблицу `data_calls`;\n",
        "- количество отправленных сообщений по месяцам и запишем в таблицу `data_messages`;\n",
        "- объем израсходованного интернет-трафика по месяцам  запишем в таблицу `data_internet`;\n",
        "- помесячную выручку с каждого пользователя\n",
        "\n",
        "\n",
        "Создадим новую таблицу `data` и добавим туда столбцы с `user_id` и `tariff` ."
      ]
    },
    {
      "cell_type": "code",
      "execution_count": null,
      "metadata": {
        "scrolled": true,
        "id": "pcKqAIOQp4H-",
        "outputId": "b2dc18f6-2d66-448c-c136-265a4c484e35"
      },
      "outputs": [
        {
          "data": {
            "text/html": [
              "<div>\n",
              "<style scoped>\n",
              "    .dataframe tbody tr th:only-of-type {\n",
              "        vertical-align: middle;\n",
              "    }\n",
              "\n",
              "    .dataframe tbody tr th {\n",
              "        vertical-align: top;\n",
              "    }\n",
              "\n",
              "    .dataframe thead th {\n",
              "        text-align: right;\n",
              "    }\n",
              "</style>\n",
              "<table border=\"1\" class=\"dataframe\">\n",
              "  <thead>\n",
              "    <tr style=\"text-align: right;\">\n",
              "      <th></th>\n",
              "      <th>user_id</th>\n",
              "      <th>tariff</th>\n",
              "    </tr>\n",
              "  </thead>\n",
              "  <tbody>\n",
              "    <tr>\n",
              "      <td>0</td>\n",
              "      <td>1000</td>\n",
              "      <td>ultra</td>\n",
              "    </tr>\n",
              "    <tr>\n",
              "      <td>1</td>\n",
              "      <td>1001</td>\n",
              "      <td>smart</td>\n",
              "    </tr>\n",
              "    <tr>\n",
              "      <td>2</td>\n",
              "      <td>1002</td>\n",
              "      <td>smart</td>\n",
              "    </tr>\n",
              "    <tr>\n",
              "      <td>3</td>\n",
              "      <td>1003</td>\n",
              "      <td>ultra</td>\n",
              "    </tr>\n",
              "    <tr>\n",
              "      <td>4</td>\n",
              "      <td>1004</td>\n",
              "      <td>ultra</td>\n",
              "    </tr>\n",
              "  </tbody>\n",
              "</table>\n",
              "</div>"
            ],
            "text/plain": [
              "   user_id tariff\n",
              "0     1000  ultra\n",
              "1     1001  smart\n",
              "2     1002  smart\n",
              "3     1003  ultra\n",
              "4     1004  ultra"
            ]
          },
          "metadata": {},
          "output_type": "display_data"
        }
      ],
      "source": [
        "data = users[['user_id', 'tariff']].reset_index(drop=True)\n",
        "display(data.head())"
      ]
    },
    {
      "cell_type": "markdown",
      "metadata": {
        "id": "xy4XaBCrp4H-"
      },
      "source": [
        "Добавим в таблицу со звонками столбец с месяцем звонка."
      ]
    },
    {
      "cell_type": "code",
      "execution_count": null,
      "metadata": {
        "id": "LJrmEj5Kp4H-",
        "outputId": "0d9dc1f5-d86d-4db4-c72e-1e47fc7d4c59"
      },
      "outputs": [
        {
          "data": {
            "text/html": [
              "<div>\n",
              "<style scoped>\n",
              "    .dataframe tbody tr th:only-of-type {\n",
              "        vertical-align: middle;\n",
              "    }\n",
              "\n",
              "    .dataframe tbody tr th {\n",
              "        vertical-align: top;\n",
              "    }\n",
              "\n",
              "    .dataframe thead th {\n",
              "        text-align: right;\n",
              "    }\n",
              "</style>\n",
              "<table border=\"1\" class=\"dataframe\">\n",
              "  <thead>\n",
              "    <tr style=\"text-align: right;\">\n",
              "      <th></th>\n",
              "      <th>id</th>\n",
              "      <th>call_date</th>\n",
              "      <th>duration</th>\n",
              "      <th>user_id</th>\n",
              "      <th>month</th>\n",
              "    </tr>\n",
              "  </thead>\n",
              "  <tbody>\n",
              "    <tr>\n",
              "      <td>0</td>\n",
              "      <td>1000_0</td>\n",
              "      <td>2018-07-25</td>\n",
              "      <td>0</td>\n",
              "      <td>1000</td>\n",
              "      <td>7</td>\n",
              "    </tr>\n",
              "    <tr>\n",
              "      <td>1</td>\n",
              "      <td>1000_1</td>\n",
              "      <td>2018-08-17</td>\n",
              "      <td>0</td>\n",
              "      <td>1000</td>\n",
              "      <td>8</td>\n",
              "    </tr>\n",
              "    <tr>\n",
              "      <td>2</td>\n",
              "      <td>1000_2</td>\n",
              "      <td>2018-06-11</td>\n",
              "      <td>3</td>\n",
              "      <td>1000</td>\n",
              "      <td>6</td>\n",
              "    </tr>\n",
              "    <tr>\n",
              "      <td>3</td>\n",
              "      <td>1000_3</td>\n",
              "      <td>2018-09-21</td>\n",
              "      <td>14</td>\n",
              "      <td>1000</td>\n",
              "      <td>9</td>\n",
              "    </tr>\n",
              "    <tr>\n",
              "      <td>4</td>\n",
              "      <td>1000_4</td>\n",
              "      <td>2018-12-15</td>\n",
              "      <td>6</td>\n",
              "      <td>1000</td>\n",
              "      <td>12</td>\n",
              "    </tr>\n",
              "  </tbody>\n",
              "</table>\n",
              "</div>"
            ],
            "text/plain": [
              "       id   call_date  duration  user_id  month\n",
              "0  1000_0  2018-07-25         0     1000      7\n",
              "1  1000_1  2018-08-17         0     1000      8\n",
              "2  1000_2  2018-06-11         3     1000      6\n",
              "3  1000_3  2018-09-21        14     1000      9\n",
              "4  1000_4  2018-12-15         6     1000     12"
            ]
          },
          "execution_count": 12,
          "metadata": {},
          "output_type": "execute_result"
        }
      ],
      "source": [
        "calls['month'] = pd.DatetimeIndex(calls['call_date']).month\n",
        "calls.head()"
      ]
    },
    {
      "cell_type": "markdown",
      "metadata": {
        "id": "vrnX1Z4Ip4H-"
      },
      "source": [
        "Добавим в таблицу `data_calls` для каждого пользователя по каждому месяцу сумму потраченых минут и количество звонков."
      ]
    },
    {
      "cell_type": "code",
      "execution_count": null,
      "metadata": {
        "id": "tWkbycyAp4H-",
        "outputId": "0a9e7fe0-bb79-4564-b844-de6d32b2ed56"
      },
      "outputs": [
        {
          "data": {
            "text/html": [
              "<div>\n",
              "<style scoped>\n",
              "    .dataframe tbody tr th:only-of-type {\n",
              "        vertical-align: middle;\n",
              "    }\n",
              "\n",
              "    .dataframe tbody tr th {\n",
              "        vertical-align: top;\n",
              "    }\n",
              "\n",
              "    .dataframe thead th {\n",
              "        text-align: right;\n",
              "    }\n",
              "</style>\n",
              "<table border=\"1\" class=\"dataframe\">\n",
              "  <thead>\n",
              "    <tr style=\"text-align: right;\">\n",
              "      <th></th>\n",
              "      <th>user_id</th>\n",
              "      <th>month</th>\n",
              "      <th>duration_sum</th>\n",
              "      <th>count</th>\n",
              "    </tr>\n",
              "  </thead>\n",
              "  <tbody>\n",
              "    <tr>\n",
              "      <td>0</td>\n",
              "      <td>1000</td>\n",
              "      <td>5</td>\n",
              "      <td>159</td>\n",
              "      <td>22</td>\n",
              "    </tr>\n",
              "    <tr>\n",
              "      <td>1</td>\n",
              "      <td>1000</td>\n",
              "      <td>6</td>\n",
              "      <td>172</td>\n",
              "      <td>43</td>\n",
              "    </tr>\n",
              "    <tr>\n",
              "      <td>2</td>\n",
              "      <td>1000</td>\n",
              "      <td>7</td>\n",
              "      <td>340</td>\n",
              "      <td>47</td>\n",
              "    </tr>\n",
              "    <tr>\n",
              "      <td>3</td>\n",
              "      <td>1000</td>\n",
              "      <td>8</td>\n",
              "      <td>408</td>\n",
              "      <td>52</td>\n",
              "    </tr>\n",
              "    <tr>\n",
              "      <td>4</td>\n",
              "      <td>1000</td>\n",
              "      <td>9</td>\n",
              "      <td>466</td>\n",
              "      <td>58</td>\n",
              "    </tr>\n",
              "    <tr>\n",
              "      <td>...</td>\n",
              "      <td>...</td>\n",
              "      <td>...</td>\n",
              "      <td>...</td>\n",
              "      <td>...</td>\n",
              "    </tr>\n",
              "    <tr>\n",
              "      <td>3169</td>\n",
              "      <td>1498</td>\n",
              "      <td>10</td>\n",
              "      <td>247</td>\n",
              "      <td>41</td>\n",
              "    </tr>\n",
              "    <tr>\n",
              "      <td>3170</td>\n",
              "      <td>1499</td>\n",
              "      <td>9</td>\n",
              "      <td>70</td>\n",
              "      <td>9</td>\n",
              "    </tr>\n",
              "    <tr>\n",
              "      <td>3171</td>\n",
              "      <td>1499</td>\n",
              "      <td>10</td>\n",
              "      <td>449</td>\n",
              "      <td>68</td>\n",
              "    </tr>\n",
              "    <tr>\n",
              "      <td>3172</td>\n",
              "      <td>1499</td>\n",
              "      <td>11</td>\n",
              "      <td>612</td>\n",
              "      <td>74</td>\n",
              "    </tr>\n",
              "    <tr>\n",
              "      <td>3173</td>\n",
              "      <td>1499</td>\n",
              "      <td>12</td>\n",
              "      <td>492</td>\n",
              "      <td>69</td>\n",
              "    </tr>\n",
              "  </tbody>\n",
              "</table>\n",
              "<p>3174 rows × 4 columns</p>\n",
              "</div>"
            ],
            "text/plain": [
              "      user_id  month  duration_sum  count\n",
              "0        1000      5           159     22\n",
              "1        1000      6           172     43\n",
              "2        1000      7           340     47\n",
              "3        1000      8           408     52\n",
              "4        1000      9           466     58\n",
              "...       ...    ...           ...    ...\n",
              "3169     1498     10           247     41\n",
              "3170     1499      9            70      9\n",
              "3171     1499     10           449     68\n",
              "3172     1499     11           612     74\n",
              "3173     1499     12           492     69\n",
              "\n",
              "[3174 rows x 4 columns]"
            ]
          },
          "execution_count": 13,
          "metadata": {},
          "output_type": "execute_result"
        }
      ],
      "source": [
        "data_calls = calls.groupby(['user_id', 'month'], as_index=False).agg({'duration': 'sum', 'id': 'count'})\n",
        "data_calls.rename(columns={'duration':'duration_sum', 'id':'count'}, inplace=True)\n",
        "data_calls"
      ]
    },
    {
      "cell_type": "markdown",
      "metadata": {
        "id": "dMnz1cd8p4H_"
      },
      "source": [
        "Добавим в таблицу с данными о сообщениях столбец с месяцем отправления сообщения."
      ]
    },
    {
      "cell_type": "code",
      "execution_count": null,
      "metadata": {
        "id": "G4ZppacOp4H_",
        "outputId": "a423900f-b6da-4fbc-bd47-f18a35fd8678"
      },
      "outputs": [
        {
          "data": {
            "text/html": [
              "<div>\n",
              "<style scoped>\n",
              "    .dataframe tbody tr th:only-of-type {\n",
              "        vertical-align: middle;\n",
              "    }\n",
              "\n",
              "    .dataframe tbody tr th {\n",
              "        vertical-align: top;\n",
              "    }\n",
              "\n",
              "    .dataframe thead th {\n",
              "        text-align: right;\n",
              "    }\n",
              "</style>\n",
              "<table border=\"1\" class=\"dataframe\">\n",
              "  <thead>\n",
              "    <tr style=\"text-align: right;\">\n",
              "      <th></th>\n",
              "      <th>id</th>\n",
              "      <th>message_date</th>\n",
              "      <th>user_id</th>\n",
              "      <th>month</th>\n",
              "    </tr>\n",
              "  </thead>\n",
              "  <tbody>\n",
              "    <tr>\n",
              "      <td>0</td>\n",
              "      <td>1000_0</td>\n",
              "      <td>2018-06-27</td>\n",
              "      <td>1000</td>\n",
              "      <td>6</td>\n",
              "    </tr>\n",
              "    <tr>\n",
              "      <td>1</td>\n",
              "      <td>1000_1</td>\n",
              "      <td>2018-10-08</td>\n",
              "      <td>1000</td>\n",
              "      <td>10</td>\n",
              "    </tr>\n",
              "    <tr>\n",
              "      <td>2</td>\n",
              "      <td>1000_2</td>\n",
              "      <td>2018-08-04</td>\n",
              "      <td>1000</td>\n",
              "      <td>8</td>\n",
              "    </tr>\n",
              "    <tr>\n",
              "      <td>3</td>\n",
              "      <td>1000_3</td>\n",
              "      <td>2018-06-16</td>\n",
              "      <td>1000</td>\n",
              "      <td>6</td>\n",
              "    </tr>\n",
              "    <tr>\n",
              "      <td>4</td>\n",
              "      <td>1000_4</td>\n",
              "      <td>2018-12-05</td>\n",
              "      <td>1000</td>\n",
              "      <td>12</td>\n",
              "    </tr>\n",
              "  </tbody>\n",
              "</table>\n",
              "</div>"
            ],
            "text/plain": [
              "       id message_date  user_id  month\n",
              "0  1000_0   2018-06-27     1000      6\n",
              "1  1000_1   2018-10-08     1000     10\n",
              "2  1000_2   2018-08-04     1000      8\n",
              "3  1000_3   2018-06-16     1000      6\n",
              "4  1000_4   2018-12-05     1000     12"
            ]
          },
          "execution_count": 14,
          "metadata": {},
          "output_type": "execute_result"
        }
      ],
      "source": [
        "messages['month'] = pd.DatetimeIndex(messages['message_date']).month\n",
        "messages.head()"
      ]
    },
    {
      "cell_type": "markdown",
      "metadata": {
        "id": "LPyOfR64p4H_"
      },
      "source": [
        "Добавим в таблицу `data_messages` для каждого пользователя по каждому месяцу количество отправленых сообщений."
      ]
    },
    {
      "cell_type": "code",
      "execution_count": null,
      "metadata": {
        "id": "DS-pqQ2Wp4H_",
        "outputId": "44e68ae1-04b3-48fa-fd65-543f3f815367"
      },
      "outputs": [
        {
          "data": {
            "text/html": [
              "<div>\n",
              "<style scoped>\n",
              "    .dataframe tbody tr th:only-of-type {\n",
              "        vertical-align: middle;\n",
              "    }\n",
              "\n",
              "    .dataframe tbody tr th {\n",
              "        vertical-align: top;\n",
              "    }\n",
              "\n",
              "    .dataframe thead th {\n",
              "        text-align: right;\n",
              "    }\n",
              "</style>\n",
              "<table border=\"1\" class=\"dataframe\">\n",
              "  <thead>\n",
              "    <tr style=\"text-align: right;\">\n",
              "      <th></th>\n",
              "      <th>user_id</th>\n",
              "      <th>month</th>\n",
              "      <th>messages</th>\n",
              "    </tr>\n",
              "  </thead>\n",
              "  <tbody>\n",
              "    <tr>\n",
              "      <td>0</td>\n",
              "      <td>1000</td>\n",
              "      <td>5</td>\n",
              "      <td>22</td>\n",
              "    </tr>\n",
              "    <tr>\n",
              "      <td>1</td>\n",
              "      <td>1000</td>\n",
              "      <td>6</td>\n",
              "      <td>60</td>\n",
              "    </tr>\n",
              "    <tr>\n",
              "      <td>2</td>\n",
              "      <td>1000</td>\n",
              "      <td>7</td>\n",
              "      <td>75</td>\n",
              "    </tr>\n",
              "    <tr>\n",
              "      <td>3</td>\n",
              "      <td>1000</td>\n",
              "      <td>8</td>\n",
              "      <td>81</td>\n",
              "    </tr>\n",
              "    <tr>\n",
              "      <td>4</td>\n",
              "      <td>1000</td>\n",
              "      <td>9</td>\n",
              "      <td>57</td>\n",
              "    </tr>\n",
              "    <tr>\n",
              "      <td>...</td>\n",
              "      <td>...</td>\n",
              "      <td>...</td>\n",
              "      <td>...</td>\n",
              "    </tr>\n",
              "    <tr>\n",
              "      <td>2712</td>\n",
              "      <td>1498</td>\n",
              "      <td>10</td>\n",
              "      <td>42</td>\n",
              "    </tr>\n",
              "    <tr>\n",
              "      <td>2713</td>\n",
              "      <td>1499</td>\n",
              "      <td>9</td>\n",
              "      <td>11</td>\n",
              "    </tr>\n",
              "    <tr>\n",
              "      <td>2714</td>\n",
              "      <td>1499</td>\n",
              "      <td>10</td>\n",
              "      <td>48</td>\n",
              "    </tr>\n",
              "    <tr>\n",
              "      <td>2715</td>\n",
              "      <td>1499</td>\n",
              "      <td>11</td>\n",
              "      <td>59</td>\n",
              "    </tr>\n",
              "    <tr>\n",
              "      <td>2716</td>\n",
              "      <td>1499</td>\n",
              "      <td>12</td>\n",
              "      <td>66</td>\n",
              "    </tr>\n",
              "  </tbody>\n",
              "</table>\n",
              "<p>2717 rows × 3 columns</p>\n",
              "</div>"
            ],
            "text/plain": [
              "      user_id  month  messages\n",
              "0        1000      5        22\n",
              "1        1000      6        60\n",
              "2        1000      7        75\n",
              "3        1000      8        81\n",
              "4        1000      9        57\n",
              "...       ...    ...       ...\n",
              "2712     1498     10        42\n",
              "2713     1499      9        11\n",
              "2714     1499     10        48\n",
              "2715     1499     11        59\n",
              "2716     1499     12        66\n",
              "\n",
              "[2717 rows x 3 columns]"
            ]
          },
          "execution_count": 15,
          "metadata": {},
          "output_type": "execute_result"
        }
      ],
      "source": [
        "data_messages = messages.groupby(['user_id', 'month'], as_index=False).agg({'id': 'count'})\n",
        "data_messages.rename(columns={'id':'messages'}, inplace=True)\n",
        "data_messages"
      ]
    },
    {
      "cell_type": "markdown",
      "metadata": {
        "id": "-sYLTrLsp4H_"
      },
      "source": [
        "Добавим в таблицу с данными о интернет сессиях столбец с месяцем сессии."
      ]
    },
    {
      "cell_type": "code",
      "execution_count": null,
      "metadata": {
        "id": "ENr7Mytdp4H_",
        "outputId": "819527c9-0b03-450f-8861-297c60bbe0e5"
      },
      "outputs": [
        {
          "data": {
            "text/html": [
              "<div>\n",
              "<style scoped>\n",
              "    .dataframe tbody tr th:only-of-type {\n",
              "        vertical-align: middle;\n",
              "    }\n",
              "\n",
              "    .dataframe tbody tr th {\n",
              "        vertical-align: top;\n",
              "    }\n",
              "\n",
              "    .dataframe thead th {\n",
              "        text-align: right;\n",
              "    }\n",
              "</style>\n",
              "<table border=\"1\" class=\"dataframe\">\n",
              "  <thead>\n",
              "    <tr style=\"text-align: right;\">\n",
              "      <th></th>\n",
              "      <th>id</th>\n",
              "      <th>mb_used</th>\n",
              "      <th>session_date</th>\n",
              "      <th>user_id</th>\n",
              "      <th>month</th>\n",
              "    </tr>\n",
              "  </thead>\n",
              "  <tbody>\n",
              "    <tr>\n",
              "      <td>0</td>\n",
              "      <td>1000_0</td>\n",
              "      <td>112.95</td>\n",
              "      <td>2018-11-25</td>\n",
              "      <td>1000</td>\n",
              "      <td>11</td>\n",
              "    </tr>\n",
              "    <tr>\n",
              "      <td>1</td>\n",
              "      <td>1000_1</td>\n",
              "      <td>1052.81</td>\n",
              "      <td>2018-09-07</td>\n",
              "      <td>1000</td>\n",
              "      <td>9</td>\n",
              "    </tr>\n",
              "    <tr>\n",
              "      <td>2</td>\n",
              "      <td>1000_2</td>\n",
              "      <td>1197.26</td>\n",
              "      <td>2018-06-25</td>\n",
              "      <td>1000</td>\n",
              "      <td>6</td>\n",
              "    </tr>\n",
              "    <tr>\n",
              "      <td>3</td>\n",
              "      <td>1000_3</td>\n",
              "      <td>550.27</td>\n",
              "      <td>2018-08-22</td>\n",
              "      <td>1000</td>\n",
              "      <td>8</td>\n",
              "    </tr>\n",
              "    <tr>\n",
              "      <td>4</td>\n",
              "      <td>1000_4</td>\n",
              "      <td>302.56</td>\n",
              "      <td>2018-09-24</td>\n",
              "      <td>1000</td>\n",
              "      <td>9</td>\n",
              "    </tr>\n",
              "  </tbody>\n",
              "</table>\n",
              "</div>"
            ],
            "text/plain": [
              "       id  mb_used session_date  user_id  month\n",
              "0  1000_0   112.95   2018-11-25     1000     11\n",
              "1  1000_1  1052.81   2018-09-07     1000      9\n",
              "2  1000_2  1197.26   2018-06-25     1000      6\n",
              "3  1000_3   550.27   2018-08-22     1000      8\n",
              "4  1000_4   302.56   2018-09-24     1000      9"
            ]
          },
          "execution_count": 16,
          "metadata": {},
          "output_type": "execute_result"
        }
      ],
      "source": [
        "internet['month'] = pd.DatetimeIndex(internet['session_date']).month\n",
        "internet.head()"
      ]
    },
    {
      "cell_type": "markdown",
      "metadata": {
        "id": "uIdK2MB9p4IA"
      },
      "source": [
        "Добавим в таблицу `data_internet` объем израсходованного интернет-трафика по месяцам запишем для каждого пользователя."
      ]
    },
    {
      "cell_type": "code",
      "execution_count": null,
      "metadata": {
        "id": "ihUuJbsep4IA",
        "outputId": "156700b4-bcaf-4fe9-eab6-a151566e9aac"
      },
      "outputs": [
        {
          "name": "stdout",
          "output_type": "stream",
          "text": [
            " \n",
            "Сумма трафика в МБ\n"
          ]
        },
        {
          "data": {
            "text/html": [
              "<div>\n",
              "<style scoped>\n",
              "    .dataframe tbody tr th:only-of-type {\n",
              "        vertical-align: middle;\n",
              "    }\n",
              "\n",
              "    .dataframe tbody tr th {\n",
              "        vertical-align: top;\n",
              "    }\n",
              "\n",
              "    .dataframe thead th {\n",
              "        text-align: right;\n",
              "    }\n",
              "</style>\n",
              "<table border=\"1\" class=\"dataframe\">\n",
              "  <thead>\n",
              "    <tr style=\"text-align: right;\">\n",
              "      <th></th>\n",
              "      <th>user_id</th>\n",
              "      <th>month</th>\n",
              "      <th>mb_used_sum</th>\n",
              "    </tr>\n",
              "  </thead>\n",
              "  <tbody>\n",
              "    <tr>\n",
              "      <td>0</td>\n",
              "      <td>1000</td>\n",
              "      <td>5</td>\n",
              "      <td>2253.49</td>\n",
              "    </tr>\n",
              "    <tr>\n",
              "      <td>1</td>\n",
              "      <td>1000</td>\n",
              "      <td>6</td>\n",
              "      <td>23233.77</td>\n",
              "    </tr>\n",
              "    <tr>\n",
              "      <td>2</td>\n",
              "      <td>1000</td>\n",
              "      <td>7</td>\n",
              "      <td>14003.64</td>\n",
              "    </tr>\n",
              "    <tr>\n",
              "      <td>3</td>\n",
              "      <td>1000</td>\n",
              "      <td>8</td>\n",
              "      <td>14055.93</td>\n",
              "    </tr>\n",
              "    <tr>\n",
              "      <td>4</td>\n",
              "      <td>1000</td>\n",
              "      <td>9</td>\n",
              "      <td>14568.91</td>\n",
              "    </tr>\n",
              "    <tr>\n",
              "      <td>...</td>\n",
              "      <td>...</td>\n",
              "      <td>...</td>\n",
              "      <td>...</td>\n",
              "    </tr>\n",
              "    <tr>\n",
              "      <td>3198</td>\n",
              "      <td>1498</td>\n",
              "      <td>10</td>\n",
              "      <td>20579.36</td>\n",
              "    </tr>\n",
              "    <tr>\n",
              "      <td>3199</td>\n",
              "      <td>1499</td>\n",
              "      <td>9</td>\n",
              "      <td>1845.75</td>\n",
              "    </tr>\n",
              "    <tr>\n",
              "      <td>3200</td>\n",
              "      <td>1499</td>\n",
              "      <td>10</td>\n",
              "      <td>17788.51</td>\n",
              "    </tr>\n",
              "    <tr>\n",
              "      <td>3201</td>\n",
              "      <td>1499</td>\n",
              "      <td>11</td>\n",
              "      <td>17963.31</td>\n",
              "    </tr>\n",
              "    <tr>\n",
              "      <td>3202</td>\n",
              "      <td>1499</td>\n",
              "      <td>12</td>\n",
              "      <td>13055.58</td>\n",
              "    </tr>\n",
              "  </tbody>\n",
              "</table>\n",
              "<p>3203 rows × 3 columns</p>\n",
              "</div>"
            ],
            "text/plain": [
              "      user_id  month  mb_used_sum\n",
              "0        1000      5      2253.49\n",
              "1        1000      6     23233.77\n",
              "2        1000      7     14003.64\n",
              "3        1000      8     14055.93\n",
              "4        1000      9     14568.91\n",
              "...       ...    ...          ...\n",
              "3198     1498     10     20579.36\n",
              "3199     1499      9      1845.75\n",
              "3200     1499     10     17788.51\n",
              "3201     1499     11     17963.31\n",
              "3202     1499     12     13055.58\n",
              "\n",
              "[3203 rows x 3 columns]"
            ]
          },
          "execution_count": 17,
          "metadata": {},
          "output_type": "execute_result"
        }
      ],
      "source": [
        "data_internet = internet.groupby(['user_id', 'month'], as_index=False).agg({'mb_used': 'sum'})\n",
        "data_internet.rename(columns={'mb_used':'mb_used_sum'}, inplace=True)\n",
        "print(' ')\n",
        "print('Сумма трафика в МБ')\n",
        "data_internet"
      ]
    },
    {
      "cell_type": "markdown",
      "metadata": {
        "id": "O4bZChzRp4IA"
      },
      "source": [
        "Мы знаем, что оператор округляем месячный трафик до ГБ. Поэтому переведем суммы трафика в ГБ и округлим до целого."
      ]
    },
    {
      "cell_type": "code",
      "execution_count": null,
      "metadata": {
        "id": "GCVZ6gzJp4IA",
        "outputId": "f91d7f7f-d9c1-432b-fa22-b6a84394c968"
      },
      "outputs": [
        {
          "name": "stdout",
          "output_type": "stream",
          "text": [
            " \n",
            "Сумма трафика в ГБ\n"
          ]
        },
        {
          "data": {
            "text/html": [
              "<div>\n",
              "<style scoped>\n",
              "    .dataframe tbody tr th:only-of-type {\n",
              "        vertical-align: middle;\n",
              "    }\n",
              "\n",
              "    .dataframe tbody tr th {\n",
              "        vertical-align: top;\n",
              "    }\n",
              "\n",
              "    .dataframe thead th {\n",
              "        text-align: right;\n",
              "    }\n",
              "</style>\n",
              "<table border=\"1\" class=\"dataframe\">\n",
              "  <thead>\n",
              "    <tr style=\"text-align: right;\">\n",
              "      <th></th>\n",
              "      <th>user_id</th>\n",
              "      <th>month</th>\n",
              "      <th>mb_used_sum</th>\n",
              "    </tr>\n",
              "  </thead>\n",
              "  <tbody>\n",
              "    <tr>\n",
              "      <td>0</td>\n",
              "      <td>1000</td>\n",
              "      <td>5</td>\n",
              "      <td>3</td>\n",
              "    </tr>\n",
              "    <tr>\n",
              "      <td>1</td>\n",
              "      <td>1000</td>\n",
              "      <td>6</td>\n",
              "      <td>23</td>\n",
              "    </tr>\n",
              "    <tr>\n",
              "      <td>2</td>\n",
              "      <td>1000</td>\n",
              "      <td>7</td>\n",
              "      <td>14</td>\n",
              "    </tr>\n",
              "    <tr>\n",
              "      <td>3</td>\n",
              "      <td>1000</td>\n",
              "      <td>8</td>\n",
              "      <td>14</td>\n",
              "    </tr>\n",
              "    <tr>\n",
              "      <td>4</td>\n",
              "      <td>1000</td>\n",
              "      <td>9</td>\n",
              "      <td>15</td>\n",
              "    </tr>\n",
              "    <tr>\n",
              "      <td>...</td>\n",
              "      <td>...</td>\n",
              "      <td>...</td>\n",
              "      <td>...</td>\n",
              "    </tr>\n",
              "    <tr>\n",
              "      <td>3198</td>\n",
              "      <td>1498</td>\n",
              "      <td>10</td>\n",
              "      <td>21</td>\n",
              "    </tr>\n",
              "    <tr>\n",
              "      <td>3199</td>\n",
              "      <td>1499</td>\n",
              "      <td>9</td>\n",
              "      <td>2</td>\n",
              "    </tr>\n",
              "    <tr>\n",
              "      <td>3200</td>\n",
              "      <td>1499</td>\n",
              "      <td>10</td>\n",
              "      <td>18</td>\n",
              "    </tr>\n",
              "    <tr>\n",
              "      <td>3201</td>\n",
              "      <td>1499</td>\n",
              "      <td>11</td>\n",
              "      <td>18</td>\n",
              "    </tr>\n",
              "    <tr>\n",
              "      <td>3202</td>\n",
              "      <td>1499</td>\n",
              "      <td>12</td>\n",
              "      <td>13</td>\n",
              "    </tr>\n",
              "  </tbody>\n",
              "</table>\n",
              "<p>3203 rows × 3 columns</p>\n",
              "</div>"
            ],
            "text/plain": [
              "      user_id  month  mb_used_sum\n",
              "0        1000      5            3\n",
              "1        1000      6           23\n",
              "2        1000      7           14\n",
              "3        1000      8           14\n",
              "4        1000      9           15\n",
              "...       ...    ...          ...\n",
              "3198     1498     10           21\n",
              "3199     1499      9            2\n",
              "3200     1499     10           18\n",
              "3201     1499     11           18\n",
              "3202     1499     12           13\n",
              "\n",
              "[3203 rows x 3 columns]"
            ]
          },
          "metadata": {},
          "output_type": "display_data"
        }
      ],
      "source": [
        "data_internet['mb_used_sum'] = np.ceil(data_internet['mb_used_sum']/1024).astype(int)\n",
        "print(' ')\n",
        "print('Сумма трафика в ГБ')    \n",
        "display(data_internet)"
      ]
    },
    {
      "cell_type": "markdown",
      "metadata": {
        "id": "r8vlFRIUp4IB"
      },
      "source": [
        "Теперь нам необходимо рассчитать помесячную прибыль с каждого пользователя.\n",
        "Мы знаем, что абонентская плата пользователей с тарифом Смарт - 550 руб в месяц, а пользователей с тарифом Ультра - 1950 руб.\n",
        "Заполним ячейки после даты регистрации суммой абонентский платы для каждого пользователя в зависимости от тарифа.\n",
        "\n",
        "Добавим в таблицу о пользователях столбец с месяцем регистрации и месяцем окончания использования тарифа."
      ]
    },
    {
      "cell_type": "code",
      "execution_count": null,
      "metadata": {
        "id": "e2Dn9pBcp4IB",
        "outputId": "5375db50-5bd0-436c-9484-fcaf022015ae"
      },
      "outputs": [
        {
          "data": {
            "text/html": [
              "<div>\n",
              "<style scoped>\n",
              "    .dataframe tbody tr th:only-of-type {\n",
              "        vertical-align: middle;\n",
              "    }\n",
              "\n",
              "    .dataframe tbody tr th {\n",
              "        vertical-align: top;\n",
              "    }\n",
              "\n",
              "    .dataframe thead th {\n",
              "        text-align: right;\n",
              "    }\n",
              "</style>\n",
              "<table border=\"1\" class=\"dataframe\">\n",
              "  <thead>\n",
              "    <tr style=\"text-align: right;\">\n",
              "      <th></th>\n",
              "      <th>user_id</th>\n",
              "      <th>age</th>\n",
              "      <th>churn_date</th>\n",
              "      <th>city</th>\n",
              "      <th>first_name</th>\n",
              "      <th>last_name</th>\n",
              "      <th>reg_date</th>\n",
              "      <th>tariff</th>\n",
              "      <th>month_reg</th>\n",
              "      <th>month_end</th>\n",
              "    </tr>\n",
              "  </thead>\n",
              "  <tbody>\n",
              "    <tr>\n",
              "      <td>0</td>\n",
              "      <td>1000</td>\n",
              "      <td>52</td>\n",
              "      <td>NaN</td>\n",
              "      <td>Краснодар</td>\n",
              "      <td>Рафаил</td>\n",
              "      <td>Верещагин</td>\n",
              "      <td>2018-05-25</td>\n",
              "      <td>ultra</td>\n",
              "      <td>5</td>\n",
              "      <td>NaN</td>\n",
              "    </tr>\n",
              "    <tr>\n",
              "      <td>1</td>\n",
              "      <td>1001</td>\n",
              "      <td>41</td>\n",
              "      <td>NaN</td>\n",
              "      <td>Москва</td>\n",
              "      <td>Иван</td>\n",
              "      <td>Ежов</td>\n",
              "      <td>2018-11-01</td>\n",
              "      <td>smart</td>\n",
              "      <td>11</td>\n",
              "      <td>NaN</td>\n",
              "    </tr>\n",
              "    <tr>\n",
              "      <td>2</td>\n",
              "      <td>1002</td>\n",
              "      <td>59</td>\n",
              "      <td>NaN</td>\n",
              "      <td>Стерлитамак</td>\n",
              "      <td>Евгений</td>\n",
              "      <td>Абрамович</td>\n",
              "      <td>2018-06-17</td>\n",
              "      <td>smart</td>\n",
              "      <td>6</td>\n",
              "      <td>NaN</td>\n",
              "    </tr>\n",
              "    <tr>\n",
              "      <td>3</td>\n",
              "      <td>1003</td>\n",
              "      <td>23</td>\n",
              "      <td>NaN</td>\n",
              "      <td>Москва</td>\n",
              "      <td>Белла</td>\n",
              "      <td>Белякова</td>\n",
              "      <td>2018-08-17</td>\n",
              "      <td>ultra</td>\n",
              "      <td>8</td>\n",
              "      <td>NaN</td>\n",
              "    </tr>\n",
              "    <tr>\n",
              "      <td>4</td>\n",
              "      <td>1004</td>\n",
              "      <td>68</td>\n",
              "      <td>NaN</td>\n",
              "      <td>Новокузнецк</td>\n",
              "      <td>Татьяна</td>\n",
              "      <td>Авдеенко</td>\n",
              "      <td>2018-05-14</td>\n",
              "      <td>ultra</td>\n",
              "      <td>5</td>\n",
              "      <td>NaN</td>\n",
              "    </tr>\n",
              "    <tr>\n",
              "      <td>...</td>\n",
              "      <td>...</td>\n",
              "      <td>...</td>\n",
              "      <td>...</td>\n",
              "      <td>...</td>\n",
              "      <td>...</td>\n",
              "      <td>...</td>\n",
              "      <td>...</td>\n",
              "      <td>...</td>\n",
              "      <td>...</td>\n",
              "      <td>...</td>\n",
              "    </tr>\n",
              "    <tr>\n",
              "      <td>495</td>\n",
              "      <td>1495</td>\n",
              "      <td>65</td>\n",
              "      <td>NaN</td>\n",
              "      <td>Иркутск</td>\n",
              "      <td>Авксентий</td>\n",
              "      <td>Фокин</td>\n",
              "      <td>2018-08-28</td>\n",
              "      <td>ultra</td>\n",
              "      <td>8</td>\n",
              "      <td>NaN</td>\n",
              "    </tr>\n",
              "    <tr>\n",
              "      <td>496</td>\n",
              "      <td>1496</td>\n",
              "      <td>36</td>\n",
              "      <td>NaN</td>\n",
              "      <td>Вологда</td>\n",
              "      <td>Трифон</td>\n",
              "      <td>Блохин</td>\n",
              "      <td>2018-01-27</td>\n",
              "      <td>smart</td>\n",
              "      <td>1</td>\n",
              "      <td>NaN</td>\n",
              "    </tr>\n",
              "    <tr>\n",
              "      <td>497</td>\n",
              "      <td>1497</td>\n",
              "      <td>32</td>\n",
              "      <td>NaN</td>\n",
              "      <td>Челябинск</td>\n",
              "      <td>Каролина</td>\n",
              "      <td>Агеева</td>\n",
              "      <td>2018-10-09</td>\n",
              "      <td>smart</td>\n",
              "      <td>10</td>\n",
              "      <td>NaN</td>\n",
              "    </tr>\n",
              "    <tr>\n",
              "      <td>498</td>\n",
              "      <td>1498</td>\n",
              "      <td>68</td>\n",
              "      <td>2018-10-25</td>\n",
              "      <td>Владикавказ</td>\n",
              "      <td>Всеволод</td>\n",
              "      <td>Акимчин</td>\n",
              "      <td>2018-07-19</td>\n",
              "      <td>smart</td>\n",
              "      <td>7</td>\n",
              "      <td>10.0</td>\n",
              "    </tr>\n",
              "    <tr>\n",
              "      <td>499</td>\n",
              "      <td>1499</td>\n",
              "      <td>35</td>\n",
              "      <td>NaN</td>\n",
              "      <td>Пермь</td>\n",
              "      <td>Гектор</td>\n",
              "      <td>Корнилов</td>\n",
              "      <td>2018-09-27</td>\n",
              "      <td>smart</td>\n",
              "      <td>9</td>\n",
              "      <td>NaN</td>\n",
              "    </tr>\n",
              "  </tbody>\n",
              "</table>\n",
              "<p>500 rows × 10 columns</p>\n",
              "</div>"
            ],
            "text/plain": [
              "     user_id  age  churn_date         city first_name  last_name    reg_date  \\\n",
              "0       1000   52         NaN    Краснодар     Рафаил  Верещагин  2018-05-25   \n",
              "1       1001   41         NaN       Москва       Иван       Ежов  2018-11-01   \n",
              "2       1002   59         NaN  Стерлитамак    Евгений  Абрамович  2018-06-17   \n",
              "3       1003   23         NaN       Москва      Белла   Белякова  2018-08-17   \n",
              "4       1004   68         NaN  Новокузнецк    Татьяна   Авдеенко  2018-05-14   \n",
              "..       ...  ...         ...          ...        ...        ...         ...   \n",
              "495     1495   65         NaN      Иркутск  Авксентий      Фокин  2018-08-28   \n",
              "496     1496   36         NaN      Вологда     Трифон     Блохин  2018-01-27   \n",
              "497     1497   32         NaN    Челябинск   Каролина     Агеева  2018-10-09   \n",
              "498     1498   68  2018-10-25  Владикавказ   Всеволод    Акимчин  2018-07-19   \n",
              "499     1499   35         NaN        Пермь     Гектор   Корнилов  2018-09-27   \n",
              "\n",
              "    tariff  month_reg  month_end  \n",
              "0    ultra          5        NaN  \n",
              "1    smart         11        NaN  \n",
              "2    smart          6        NaN  \n",
              "3    ultra          8        NaN  \n",
              "4    ultra          5        NaN  \n",
              "..     ...        ...        ...  \n",
              "495  ultra          8        NaN  \n",
              "496  smart          1        NaN  \n",
              "497  smart         10        NaN  \n",
              "498  smart          7       10.0  \n",
              "499  smart          9        NaN  \n",
              "\n",
              "[500 rows x 10 columns]"
            ]
          },
          "execution_count": 19,
          "metadata": {},
          "output_type": "execute_result"
        }
      ],
      "source": [
        "users['month_reg'] = pd.DatetimeIndex(users['reg_date']).month\n",
        "users['month_end'] = pd.DatetimeIndex(users['churn_date']).month\n",
        "users"
      ]
    },
    {
      "cell_type": "markdown",
      "metadata": {
        "id": "Ga-u93p6p4IB"
      },
      "source": [
        "Так как мы знаем, что изучаем данные только за 1 календарный год, то для простоты расчетом заменим пропущенные значения в столюце `month_end` на 12 - последний месяц в году."
      ]
    },
    {
      "cell_type": "code",
      "execution_count": null,
      "metadata": {
        "id": "csONTop_p4IB",
        "outputId": "f02ead39-7fee-44f6-b670-068bc91f1a55"
      },
      "outputs": [
        {
          "data": {
            "text/html": [
              "<div>\n",
              "<style scoped>\n",
              "    .dataframe tbody tr th:only-of-type {\n",
              "        vertical-align: middle;\n",
              "    }\n",
              "\n",
              "    .dataframe tbody tr th {\n",
              "        vertical-align: top;\n",
              "    }\n",
              "\n",
              "    .dataframe thead th {\n",
              "        text-align: right;\n",
              "    }\n",
              "</style>\n",
              "<table border=\"1\" class=\"dataframe\">\n",
              "  <thead>\n",
              "    <tr style=\"text-align: right;\">\n",
              "      <th></th>\n",
              "      <th>user_id</th>\n",
              "      <th>age</th>\n",
              "      <th>churn_date</th>\n",
              "      <th>city</th>\n",
              "      <th>first_name</th>\n",
              "      <th>last_name</th>\n",
              "      <th>reg_date</th>\n",
              "      <th>tariff</th>\n",
              "      <th>month_reg</th>\n",
              "      <th>month_end</th>\n",
              "    </tr>\n",
              "  </thead>\n",
              "  <tbody>\n",
              "    <tr>\n",
              "      <td>0</td>\n",
              "      <td>1000</td>\n",
              "      <td>52</td>\n",
              "      <td>NaN</td>\n",
              "      <td>Краснодар</td>\n",
              "      <td>Рафаил</td>\n",
              "      <td>Верещагин</td>\n",
              "      <td>2018-05-25</td>\n",
              "      <td>ultra</td>\n",
              "      <td>5</td>\n",
              "      <td>12</td>\n",
              "    </tr>\n",
              "    <tr>\n",
              "      <td>1</td>\n",
              "      <td>1001</td>\n",
              "      <td>41</td>\n",
              "      <td>NaN</td>\n",
              "      <td>Москва</td>\n",
              "      <td>Иван</td>\n",
              "      <td>Ежов</td>\n",
              "      <td>2018-11-01</td>\n",
              "      <td>smart</td>\n",
              "      <td>11</td>\n",
              "      <td>12</td>\n",
              "    </tr>\n",
              "    <tr>\n",
              "      <td>2</td>\n",
              "      <td>1002</td>\n",
              "      <td>59</td>\n",
              "      <td>NaN</td>\n",
              "      <td>Стерлитамак</td>\n",
              "      <td>Евгений</td>\n",
              "      <td>Абрамович</td>\n",
              "      <td>2018-06-17</td>\n",
              "      <td>smart</td>\n",
              "      <td>6</td>\n",
              "      <td>12</td>\n",
              "    </tr>\n",
              "    <tr>\n",
              "      <td>3</td>\n",
              "      <td>1003</td>\n",
              "      <td>23</td>\n",
              "      <td>NaN</td>\n",
              "      <td>Москва</td>\n",
              "      <td>Белла</td>\n",
              "      <td>Белякова</td>\n",
              "      <td>2018-08-17</td>\n",
              "      <td>ultra</td>\n",
              "      <td>8</td>\n",
              "      <td>12</td>\n",
              "    </tr>\n",
              "    <tr>\n",
              "      <td>4</td>\n",
              "      <td>1004</td>\n",
              "      <td>68</td>\n",
              "      <td>NaN</td>\n",
              "      <td>Новокузнецк</td>\n",
              "      <td>Татьяна</td>\n",
              "      <td>Авдеенко</td>\n",
              "      <td>2018-05-14</td>\n",
              "      <td>ultra</td>\n",
              "      <td>5</td>\n",
              "      <td>12</td>\n",
              "    </tr>\n",
              "    <tr>\n",
              "      <td>...</td>\n",
              "      <td>...</td>\n",
              "      <td>...</td>\n",
              "      <td>...</td>\n",
              "      <td>...</td>\n",
              "      <td>...</td>\n",
              "      <td>...</td>\n",
              "      <td>...</td>\n",
              "      <td>...</td>\n",
              "      <td>...</td>\n",
              "      <td>...</td>\n",
              "    </tr>\n",
              "    <tr>\n",
              "      <td>495</td>\n",
              "      <td>1495</td>\n",
              "      <td>65</td>\n",
              "      <td>NaN</td>\n",
              "      <td>Иркутск</td>\n",
              "      <td>Авксентий</td>\n",
              "      <td>Фокин</td>\n",
              "      <td>2018-08-28</td>\n",
              "      <td>ultra</td>\n",
              "      <td>8</td>\n",
              "      <td>12</td>\n",
              "    </tr>\n",
              "    <tr>\n",
              "      <td>496</td>\n",
              "      <td>1496</td>\n",
              "      <td>36</td>\n",
              "      <td>NaN</td>\n",
              "      <td>Вологда</td>\n",
              "      <td>Трифон</td>\n",
              "      <td>Блохин</td>\n",
              "      <td>2018-01-27</td>\n",
              "      <td>smart</td>\n",
              "      <td>1</td>\n",
              "      <td>12</td>\n",
              "    </tr>\n",
              "    <tr>\n",
              "      <td>497</td>\n",
              "      <td>1497</td>\n",
              "      <td>32</td>\n",
              "      <td>NaN</td>\n",
              "      <td>Челябинск</td>\n",
              "      <td>Каролина</td>\n",
              "      <td>Агеева</td>\n",
              "      <td>2018-10-09</td>\n",
              "      <td>smart</td>\n",
              "      <td>10</td>\n",
              "      <td>12</td>\n",
              "    </tr>\n",
              "    <tr>\n",
              "      <td>498</td>\n",
              "      <td>1498</td>\n",
              "      <td>68</td>\n",
              "      <td>2018-10-25</td>\n",
              "      <td>Владикавказ</td>\n",
              "      <td>Всеволод</td>\n",
              "      <td>Акимчин</td>\n",
              "      <td>2018-07-19</td>\n",
              "      <td>smart</td>\n",
              "      <td>7</td>\n",
              "      <td>10</td>\n",
              "    </tr>\n",
              "    <tr>\n",
              "      <td>499</td>\n",
              "      <td>1499</td>\n",
              "      <td>35</td>\n",
              "      <td>NaN</td>\n",
              "      <td>Пермь</td>\n",
              "      <td>Гектор</td>\n",
              "      <td>Корнилов</td>\n",
              "      <td>2018-09-27</td>\n",
              "      <td>smart</td>\n",
              "      <td>9</td>\n",
              "      <td>12</td>\n",
              "    </tr>\n",
              "  </tbody>\n",
              "</table>\n",
              "<p>500 rows × 10 columns</p>\n",
              "</div>"
            ],
            "text/plain": [
              "     user_id  age  churn_date         city first_name  last_name    reg_date  \\\n",
              "0       1000   52         NaN    Краснодар     Рафаил  Верещагин  2018-05-25   \n",
              "1       1001   41         NaN       Москва       Иван       Ежов  2018-11-01   \n",
              "2       1002   59         NaN  Стерлитамак    Евгений  Абрамович  2018-06-17   \n",
              "3       1003   23         NaN       Москва      Белла   Белякова  2018-08-17   \n",
              "4       1004   68         NaN  Новокузнецк    Татьяна   Авдеенко  2018-05-14   \n",
              "..       ...  ...         ...          ...        ...        ...         ...   \n",
              "495     1495   65         NaN      Иркутск  Авксентий      Фокин  2018-08-28   \n",
              "496     1496   36         NaN      Вологда     Трифон     Блохин  2018-01-27   \n",
              "497     1497   32         NaN    Челябинск   Каролина     Агеева  2018-10-09   \n",
              "498     1498   68  2018-10-25  Владикавказ   Всеволод    Акимчин  2018-07-19   \n",
              "499     1499   35         NaN        Пермь     Гектор   Корнилов  2018-09-27   \n",
              "\n",
              "    tariff  month_reg  month_end  \n",
              "0    ultra          5         12  \n",
              "1    smart         11         12  \n",
              "2    smart          6         12  \n",
              "3    ultra          8         12  \n",
              "4    ultra          5         12  \n",
              "..     ...        ...        ...  \n",
              "495  ultra          8         12  \n",
              "496  smart          1         12  \n",
              "497  smart         10         12  \n",
              "498  smart          7         10  \n",
              "499  smart          9         12  \n",
              "\n",
              "[500 rows x 10 columns]"
            ]
          },
          "execution_count": 20,
          "metadata": {},
          "output_type": "execute_result"
        }
      ],
      "source": [
        "users['month_end']=users['month_end'].fillna(12).astype(int)\n",
        "users"
      ]
    },
    {
      "cell_type": "markdown",
      "metadata": {
        "id": "qg71HVoGp4IB"
      },
      "source": [
        "Добавим столбец с месяцами, в которые начислялась абонентская плата."
      ]
    },
    {
      "cell_type": "code",
      "execution_count": null,
      "metadata": {
        "id": "sZxnORPpp4IB",
        "outputId": "05f5674c-f186-4a4f-ade4-88ce3ddfae2c"
      },
      "outputs": [
        {
          "data": {
            "text/html": [
              "<div>\n",
              "<style scoped>\n",
              "    .dataframe tbody tr th:only-of-type {\n",
              "        vertical-align: middle;\n",
              "    }\n",
              "\n",
              "    .dataframe tbody tr th {\n",
              "        vertical-align: top;\n",
              "    }\n",
              "\n",
              "    .dataframe thead th {\n",
              "        text-align: right;\n",
              "    }\n",
              "</style>\n",
              "<table border=\"1\" class=\"dataframe\">\n",
              "  <thead>\n",
              "    <tr style=\"text-align: right;\">\n",
              "      <th></th>\n",
              "      <th>user_id</th>\n",
              "      <th>tariff</th>\n",
              "      <th>month</th>\n",
              "    </tr>\n",
              "  </thead>\n",
              "  <tbody>\n",
              "    <tr>\n",
              "      <td>0</td>\n",
              "      <td>1000</td>\n",
              "      <td>ultra</td>\n",
              "      <td>5</td>\n",
              "    </tr>\n",
              "    <tr>\n",
              "      <td>1</td>\n",
              "      <td>1000</td>\n",
              "      <td>ultra</td>\n",
              "      <td>6</td>\n",
              "    </tr>\n",
              "    <tr>\n",
              "      <td>2</td>\n",
              "      <td>1000</td>\n",
              "      <td>ultra</td>\n",
              "      <td>7</td>\n",
              "    </tr>\n",
              "    <tr>\n",
              "      <td>3</td>\n",
              "      <td>1000</td>\n",
              "      <td>ultra</td>\n",
              "      <td>8</td>\n",
              "    </tr>\n",
              "    <tr>\n",
              "      <td>4</td>\n",
              "      <td>1000</td>\n",
              "      <td>ultra</td>\n",
              "      <td>9</td>\n",
              "    </tr>\n",
              "    <tr>\n",
              "      <td>5</td>\n",
              "      <td>1000</td>\n",
              "      <td>ultra</td>\n",
              "      <td>10</td>\n",
              "    </tr>\n",
              "    <tr>\n",
              "      <td>6</td>\n",
              "      <td>1000</td>\n",
              "      <td>ultra</td>\n",
              "      <td>11</td>\n",
              "    </tr>\n",
              "    <tr>\n",
              "      <td>7</td>\n",
              "      <td>1000</td>\n",
              "      <td>ultra</td>\n",
              "      <td>12</td>\n",
              "    </tr>\n",
              "    <tr>\n",
              "      <td>8</td>\n",
              "      <td>1001</td>\n",
              "      <td>smart</td>\n",
              "      <td>11</td>\n",
              "    </tr>\n",
              "    <tr>\n",
              "      <td>9</td>\n",
              "      <td>1001</td>\n",
              "      <td>smart</td>\n",
              "      <td>12</td>\n",
              "    </tr>\n",
              "  </tbody>\n",
              "</table>\n",
              "</div>"
            ],
            "text/plain": [
              "  user_id tariff month\n",
              "0    1000  ultra     5\n",
              "1    1000  ultra     6\n",
              "2    1000  ultra     7\n",
              "3    1000  ultra     8\n",
              "4    1000  ultra     9\n",
              "5    1000  ultra    10\n",
              "6    1000  ultra    11\n",
              "7    1000  ultra    12\n",
              "8    1001  smart    11\n",
              "9    1001  smart    12"
            ]
          },
          "metadata": {},
          "output_type": "display_data"
        }
      ],
      "source": [
        "data_pay = pd.DataFrame(columns=['user_id', 'tariff', 'month'])\n",
        "\n",
        "for i in range(len(users['user_id'])):\n",
        "    j=users.loc[i, 'month_reg']\n",
        "    while j <= users.loc[i, 'month_end']:\n",
        "        data_pay = data_pay.append({'user_id': users.loc[i, 'user_id'], 'tariff': users.loc[i, 'tariff'], 'month': j}, ignore_index=True)\n",
        "        j=j+1\n",
        "\n",
        "display(data_pay.head(10))"
      ]
    },
    {
      "cell_type": "markdown",
      "metadata": {
        "id": "nwKS7jn0p4IC"
      },
      "source": [
        "Начнем расчет суммы, которую пользователи ежемесячно платили за услуги связи.\n",
        "Соединим нашу таблицу оплаты, с таблицей тарифов."
      ]
    },
    {
      "cell_type": "code",
      "execution_count": null,
      "metadata": {
        "scrolled": true,
        "id": "8Ye9X2qFp4IC",
        "outputId": "23109f59-ff0a-47c9-bb64-156de50638c4"
      },
      "outputs": [
        {
          "data": {
            "text/html": [
              "<div>\n",
              "<style scoped>\n",
              "    .dataframe tbody tr th:only-of-type {\n",
              "        vertical-align: middle;\n",
              "    }\n",
              "\n",
              "    .dataframe tbody tr th {\n",
              "        vertical-align: top;\n",
              "    }\n",
              "\n",
              "    .dataframe thead th {\n",
              "        text-align: right;\n",
              "    }\n",
              "</style>\n",
              "<table border=\"1\" class=\"dataframe\">\n",
              "  <thead>\n",
              "    <tr style=\"text-align: right;\">\n",
              "      <th></th>\n",
              "      <th>user_id</th>\n",
              "      <th>tariff</th>\n",
              "      <th>month</th>\n",
              "      <th>pay</th>\n",
              "      <th>messages_included</th>\n",
              "      <th>mb_per_month_included</th>\n",
              "      <th>minutes_included</th>\n",
              "      <th>rub_monthly_fee</th>\n",
              "      <th>rub_per_gb</th>\n",
              "      <th>rub_per_message</th>\n",
              "      <th>rub_per_minute</th>\n",
              "    </tr>\n",
              "  </thead>\n",
              "  <tbody>\n",
              "    <tr>\n",
              "      <td>0</td>\n",
              "      <td>1000</td>\n",
              "      <td>ultra</td>\n",
              "      <td>5</td>\n",
              "      <td>0</td>\n",
              "      <td>1000</td>\n",
              "      <td>30720</td>\n",
              "      <td>3000</td>\n",
              "      <td>1950</td>\n",
              "      <td>150</td>\n",
              "      <td>1</td>\n",
              "      <td>1</td>\n",
              "    </tr>\n",
              "    <tr>\n",
              "      <td>1</td>\n",
              "      <td>1000</td>\n",
              "      <td>ultra</td>\n",
              "      <td>6</td>\n",
              "      <td>0</td>\n",
              "      <td>1000</td>\n",
              "      <td>30720</td>\n",
              "      <td>3000</td>\n",
              "      <td>1950</td>\n",
              "      <td>150</td>\n",
              "      <td>1</td>\n",
              "      <td>1</td>\n",
              "    </tr>\n",
              "    <tr>\n",
              "      <td>2</td>\n",
              "      <td>1000</td>\n",
              "      <td>ultra</td>\n",
              "      <td>7</td>\n",
              "      <td>0</td>\n",
              "      <td>1000</td>\n",
              "      <td>30720</td>\n",
              "      <td>3000</td>\n",
              "      <td>1950</td>\n",
              "      <td>150</td>\n",
              "      <td>1</td>\n",
              "      <td>1</td>\n",
              "    </tr>\n",
              "    <tr>\n",
              "      <td>3</td>\n",
              "      <td>1000</td>\n",
              "      <td>ultra</td>\n",
              "      <td>8</td>\n",
              "      <td>0</td>\n",
              "      <td>1000</td>\n",
              "      <td>30720</td>\n",
              "      <td>3000</td>\n",
              "      <td>1950</td>\n",
              "      <td>150</td>\n",
              "      <td>1</td>\n",
              "      <td>1</td>\n",
              "    </tr>\n",
              "    <tr>\n",
              "      <td>4</td>\n",
              "      <td>1000</td>\n",
              "      <td>ultra</td>\n",
              "      <td>9</td>\n",
              "      <td>0</td>\n",
              "      <td>1000</td>\n",
              "      <td>30720</td>\n",
              "      <td>3000</td>\n",
              "      <td>1950</td>\n",
              "      <td>150</td>\n",
              "      <td>1</td>\n",
              "      <td>1</td>\n",
              "    </tr>\n",
              "    <tr>\n",
              "      <td>...</td>\n",
              "      <td>...</td>\n",
              "      <td>...</td>\n",
              "      <td>...</td>\n",
              "      <td>...</td>\n",
              "      <td>...</td>\n",
              "      <td>...</td>\n",
              "      <td>...</td>\n",
              "      <td>...</td>\n",
              "      <td>...</td>\n",
              "      <td>...</td>\n",
              "      <td>...</td>\n",
              "    </tr>\n",
              "    <tr>\n",
              "      <td>3211</td>\n",
              "      <td>1498</td>\n",
              "      <td>smart</td>\n",
              "      <td>10</td>\n",
              "      <td>0</td>\n",
              "      <td>50</td>\n",
              "      <td>15360</td>\n",
              "      <td>500</td>\n",
              "      <td>550</td>\n",
              "      <td>200</td>\n",
              "      <td>3</td>\n",
              "      <td>3</td>\n",
              "    </tr>\n",
              "    <tr>\n",
              "      <td>3212</td>\n",
              "      <td>1499</td>\n",
              "      <td>smart</td>\n",
              "      <td>9</td>\n",
              "      <td>0</td>\n",
              "      <td>50</td>\n",
              "      <td>15360</td>\n",
              "      <td>500</td>\n",
              "      <td>550</td>\n",
              "      <td>200</td>\n",
              "      <td>3</td>\n",
              "      <td>3</td>\n",
              "    </tr>\n",
              "    <tr>\n",
              "      <td>3213</td>\n",
              "      <td>1499</td>\n",
              "      <td>smart</td>\n",
              "      <td>10</td>\n",
              "      <td>0</td>\n",
              "      <td>50</td>\n",
              "      <td>15360</td>\n",
              "      <td>500</td>\n",
              "      <td>550</td>\n",
              "      <td>200</td>\n",
              "      <td>3</td>\n",
              "      <td>3</td>\n",
              "    </tr>\n",
              "    <tr>\n",
              "      <td>3214</td>\n",
              "      <td>1499</td>\n",
              "      <td>smart</td>\n",
              "      <td>11</td>\n",
              "      <td>0</td>\n",
              "      <td>50</td>\n",
              "      <td>15360</td>\n",
              "      <td>500</td>\n",
              "      <td>550</td>\n",
              "      <td>200</td>\n",
              "      <td>3</td>\n",
              "      <td>3</td>\n",
              "    </tr>\n",
              "    <tr>\n",
              "      <td>3215</td>\n",
              "      <td>1499</td>\n",
              "      <td>smart</td>\n",
              "      <td>12</td>\n",
              "      <td>0</td>\n",
              "      <td>50</td>\n",
              "      <td>15360</td>\n",
              "      <td>500</td>\n",
              "      <td>550</td>\n",
              "      <td>200</td>\n",
              "      <td>3</td>\n",
              "      <td>3</td>\n",
              "    </tr>\n",
              "  </tbody>\n",
              "</table>\n",
              "<p>3216 rows × 11 columns</p>\n",
              "</div>"
            ],
            "text/plain": [
              "     user_id tariff month  pay  messages_included  mb_per_month_included  \\\n",
              "0       1000  ultra     5    0               1000                  30720   \n",
              "1       1000  ultra     6    0               1000                  30720   \n",
              "2       1000  ultra     7    0               1000                  30720   \n",
              "3       1000  ultra     8    0               1000                  30720   \n",
              "4       1000  ultra     9    0               1000                  30720   \n",
              "...      ...    ...   ...  ...                ...                    ...   \n",
              "3211    1498  smart    10    0                 50                  15360   \n",
              "3212    1499  smart     9    0                 50                  15360   \n",
              "3213    1499  smart    10    0                 50                  15360   \n",
              "3214    1499  smart    11    0                 50                  15360   \n",
              "3215    1499  smart    12    0                 50                  15360   \n",
              "\n",
              "      minutes_included  rub_monthly_fee  rub_per_gb  rub_per_message  \\\n",
              "0                 3000             1950         150                1   \n",
              "1                 3000             1950         150                1   \n",
              "2                 3000             1950         150                1   \n",
              "3                 3000             1950         150                1   \n",
              "4                 3000             1950         150                1   \n",
              "...                ...              ...         ...              ...   \n",
              "3211               500              550         200                3   \n",
              "3212               500              550         200                3   \n",
              "3213               500              550         200                3   \n",
              "3214               500              550         200                3   \n",
              "3215               500              550         200                3   \n",
              "\n",
              "      rub_per_minute  \n",
              "0                  1  \n",
              "1                  1  \n",
              "2                  1  \n",
              "3                  1  \n",
              "4                  1  \n",
              "...              ...  \n",
              "3211               3  \n",
              "3212               3  \n",
              "3213               3  \n",
              "3214               3  \n",
              "3215               3  \n",
              "\n",
              "[3216 rows x 11 columns]"
            ]
          },
          "execution_count": 22,
          "metadata": {},
          "output_type": "execute_result"
        }
      ],
      "source": [
        "data_pay['pay'] = 0\n",
        "data_pay = data_pay.merge(tariffs, how='inner', left_on='tariff', right_on='tariff_name')\n",
        "data_pay = data_pay.drop(columns = 'tariff_name')\n",
        "data_pay"
      ]
    },
    {
      "cell_type": "markdown",
      "metadata": {
        "id": "qLpLKA9Vp4IC"
      },
      "source": [
        "Переведем столбец `mb_per_month_included` в ГБ и сохраним в столбце `gb_per_month_included`.\n",
        "А старый удалим."
      ]
    },
    {
      "cell_type": "code",
      "execution_count": null,
      "metadata": {
        "id": "myklJUnpp4IC",
        "outputId": "87b7362f-e493-4b9c-b4b7-e71302422239"
      },
      "outputs": [
        {
          "data": {
            "text/html": [
              "<div>\n",
              "<style scoped>\n",
              "    .dataframe tbody tr th:only-of-type {\n",
              "        vertical-align: middle;\n",
              "    }\n",
              "\n",
              "    .dataframe tbody tr th {\n",
              "        vertical-align: top;\n",
              "    }\n",
              "\n",
              "    .dataframe thead th {\n",
              "        text-align: right;\n",
              "    }\n",
              "</style>\n",
              "<table border=\"1\" class=\"dataframe\">\n",
              "  <thead>\n",
              "    <tr style=\"text-align: right;\">\n",
              "      <th></th>\n",
              "      <th>user_id</th>\n",
              "      <th>tariff</th>\n",
              "      <th>month</th>\n",
              "      <th>pay</th>\n",
              "      <th>messages_included</th>\n",
              "      <th>minutes_included</th>\n",
              "      <th>rub_monthly_fee</th>\n",
              "      <th>rub_per_gb</th>\n",
              "      <th>rub_per_message</th>\n",
              "      <th>rub_per_minute</th>\n",
              "      <th>gb_per_month_included</th>\n",
              "    </tr>\n",
              "  </thead>\n",
              "  <tbody>\n",
              "    <tr>\n",
              "      <td>0</td>\n",
              "      <td>1000</td>\n",
              "      <td>ultra</td>\n",
              "      <td>5</td>\n",
              "      <td>0</td>\n",
              "      <td>1000</td>\n",
              "      <td>3000</td>\n",
              "      <td>1950</td>\n",
              "      <td>150</td>\n",
              "      <td>1</td>\n",
              "      <td>1</td>\n",
              "      <td>30</td>\n",
              "    </tr>\n",
              "    <tr>\n",
              "      <td>1</td>\n",
              "      <td>1000</td>\n",
              "      <td>ultra</td>\n",
              "      <td>6</td>\n",
              "      <td>0</td>\n",
              "      <td>1000</td>\n",
              "      <td>3000</td>\n",
              "      <td>1950</td>\n",
              "      <td>150</td>\n",
              "      <td>1</td>\n",
              "      <td>1</td>\n",
              "      <td>30</td>\n",
              "    </tr>\n",
              "    <tr>\n",
              "      <td>2</td>\n",
              "      <td>1000</td>\n",
              "      <td>ultra</td>\n",
              "      <td>7</td>\n",
              "      <td>0</td>\n",
              "      <td>1000</td>\n",
              "      <td>3000</td>\n",
              "      <td>1950</td>\n",
              "      <td>150</td>\n",
              "      <td>1</td>\n",
              "      <td>1</td>\n",
              "      <td>30</td>\n",
              "    </tr>\n",
              "    <tr>\n",
              "      <td>3</td>\n",
              "      <td>1000</td>\n",
              "      <td>ultra</td>\n",
              "      <td>8</td>\n",
              "      <td>0</td>\n",
              "      <td>1000</td>\n",
              "      <td>3000</td>\n",
              "      <td>1950</td>\n",
              "      <td>150</td>\n",
              "      <td>1</td>\n",
              "      <td>1</td>\n",
              "      <td>30</td>\n",
              "    </tr>\n",
              "    <tr>\n",
              "      <td>4</td>\n",
              "      <td>1000</td>\n",
              "      <td>ultra</td>\n",
              "      <td>9</td>\n",
              "      <td>0</td>\n",
              "      <td>1000</td>\n",
              "      <td>3000</td>\n",
              "      <td>1950</td>\n",
              "      <td>150</td>\n",
              "      <td>1</td>\n",
              "      <td>1</td>\n",
              "      <td>30</td>\n",
              "    </tr>\n",
              "    <tr>\n",
              "      <td>...</td>\n",
              "      <td>...</td>\n",
              "      <td>...</td>\n",
              "      <td>...</td>\n",
              "      <td>...</td>\n",
              "      <td>...</td>\n",
              "      <td>...</td>\n",
              "      <td>...</td>\n",
              "      <td>...</td>\n",
              "      <td>...</td>\n",
              "      <td>...</td>\n",
              "      <td>...</td>\n",
              "    </tr>\n",
              "    <tr>\n",
              "      <td>3211</td>\n",
              "      <td>1498</td>\n",
              "      <td>smart</td>\n",
              "      <td>10</td>\n",
              "      <td>0</td>\n",
              "      <td>50</td>\n",
              "      <td>500</td>\n",
              "      <td>550</td>\n",
              "      <td>200</td>\n",
              "      <td>3</td>\n",
              "      <td>3</td>\n",
              "      <td>15</td>\n",
              "    </tr>\n",
              "    <tr>\n",
              "      <td>3212</td>\n",
              "      <td>1499</td>\n",
              "      <td>smart</td>\n",
              "      <td>9</td>\n",
              "      <td>0</td>\n",
              "      <td>50</td>\n",
              "      <td>500</td>\n",
              "      <td>550</td>\n",
              "      <td>200</td>\n",
              "      <td>3</td>\n",
              "      <td>3</td>\n",
              "      <td>15</td>\n",
              "    </tr>\n",
              "    <tr>\n",
              "      <td>3213</td>\n",
              "      <td>1499</td>\n",
              "      <td>smart</td>\n",
              "      <td>10</td>\n",
              "      <td>0</td>\n",
              "      <td>50</td>\n",
              "      <td>500</td>\n",
              "      <td>550</td>\n",
              "      <td>200</td>\n",
              "      <td>3</td>\n",
              "      <td>3</td>\n",
              "      <td>15</td>\n",
              "    </tr>\n",
              "    <tr>\n",
              "      <td>3214</td>\n",
              "      <td>1499</td>\n",
              "      <td>smart</td>\n",
              "      <td>11</td>\n",
              "      <td>0</td>\n",
              "      <td>50</td>\n",
              "      <td>500</td>\n",
              "      <td>550</td>\n",
              "      <td>200</td>\n",
              "      <td>3</td>\n",
              "      <td>3</td>\n",
              "      <td>15</td>\n",
              "    </tr>\n",
              "    <tr>\n",
              "      <td>3215</td>\n",
              "      <td>1499</td>\n",
              "      <td>smart</td>\n",
              "      <td>12</td>\n",
              "      <td>0</td>\n",
              "      <td>50</td>\n",
              "      <td>500</td>\n",
              "      <td>550</td>\n",
              "      <td>200</td>\n",
              "      <td>3</td>\n",
              "      <td>3</td>\n",
              "      <td>15</td>\n",
              "    </tr>\n",
              "  </tbody>\n",
              "</table>\n",
              "<p>3216 rows × 11 columns</p>\n",
              "</div>"
            ],
            "text/plain": [
              "     user_id tariff month  pay  messages_included  minutes_included  \\\n",
              "0       1000  ultra     5    0               1000              3000   \n",
              "1       1000  ultra     6    0               1000              3000   \n",
              "2       1000  ultra     7    0               1000              3000   \n",
              "3       1000  ultra     8    0               1000              3000   \n",
              "4       1000  ultra     9    0               1000              3000   \n",
              "...      ...    ...   ...  ...                ...               ...   \n",
              "3211    1498  smart    10    0                 50               500   \n",
              "3212    1499  smart     9    0                 50               500   \n",
              "3213    1499  smart    10    0                 50               500   \n",
              "3214    1499  smart    11    0                 50               500   \n",
              "3215    1499  smart    12    0                 50               500   \n",
              "\n",
              "      rub_monthly_fee  rub_per_gb  rub_per_message  rub_per_minute  \\\n",
              "0                1950         150                1               1   \n",
              "1                1950         150                1               1   \n",
              "2                1950         150                1               1   \n",
              "3                1950         150                1               1   \n",
              "4                1950         150                1               1   \n",
              "...               ...         ...              ...             ...   \n",
              "3211              550         200                3               3   \n",
              "3212              550         200                3               3   \n",
              "3213              550         200                3               3   \n",
              "3214              550         200                3               3   \n",
              "3215              550         200                3               3   \n",
              "\n",
              "      gb_per_month_included  \n",
              "0                        30  \n",
              "1                        30  \n",
              "2                        30  \n",
              "3                        30  \n",
              "4                        30  \n",
              "...                     ...  \n",
              "3211                     15  \n",
              "3212                     15  \n",
              "3213                     15  \n",
              "3214                     15  \n",
              "3215                     15  \n",
              "\n",
              "[3216 rows x 11 columns]"
            ]
          },
          "execution_count": 23,
          "metadata": {},
          "output_type": "execute_result"
        }
      ],
      "source": [
        "data_pay['gb_per_month_included'] = (data_pay['mb_per_month_included']/1024).astype(int)\n",
        "data_pay = data_pay.drop(columns = 'mb_per_month_included')\n",
        "data_pay"
      ]
    },
    {
      "cell_type": "markdown",
      "metadata": {
        "id": "2ZpIP7Fpp4IC"
      },
      "source": [
        "Теперь начислим абонентскую плату, которая ежемесячно начисляется в зависимости от тарифного плана. И удалим столбец `rub_monthly_fee`."
      ]
    },
    {
      "cell_type": "code",
      "execution_count": null,
      "metadata": {
        "id": "1ukd6aDZp4IC",
        "outputId": "690fe66a-d37d-4ab4-9acb-f383ce435ad6"
      },
      "outputs": [
        {
          "data": {
            "text/html": [
              "<div>\n",
              "<style scoped>\n",
              "    .dataframe tbody tr th:only-of-type {\n",
              "        vertical-align: middle;\n",
              "    }\n",
              "\n",
              "    .dataframe tbody tr th {\n",
              "        vertical-align: top;\n",
              "    }\n",
              "\n",
              "    .dataframe thead th {\n",
              "        text-align: right;\n",
              "    }\n",
              "</style>\n",
              "<table border=\"1\" class=\"dataframe\">\n",
              "  <thead>\n",
              "    <tr style=\"text-align: right;\">\n",
              "      <th></th>\n",
              "      <th>user_id</th>\n",
              "      <th>tariff</th>\n",
              "      <th>month</th>\n",
              "      <th>pay</th>\n",
              "      <th>messages_included</th>\n",
              "      <th>minutes_included</th>\n",
              "      <th>rub_per_gb</th>\n",
              "      <th>rub_per_message</th>\n",
              "      <th>rub_per_minute</th>\n",
              "      <th>gb_per_month_included</th>\n",
              "    </tr>\n",
              "  </thead>\n",
              "  <tbody>\n",
              "    <tr>\n",
              "      <td>0</td>\n",
              "      <td>1000</td>\n",
              "      <td>ultra</td>\n",
              "      <td>5</td>\n",
              "      <td>1950</td>\n",
              "      <td>1000</td>\n",
              "      <td>3000</td>\n",
              "      <td>150</td>\n",
              "      <td>1</td>\n",
              "      <td>1</td>\n",
              "      <td>30</td>\n",
              "    </tr>\n",
              "    <tr>\n",
              "      <td>1</td>\n",
              "      <td>1000</td>\n",
              "      <td>ultra</td>\n",
              "      <td>6</td>\n",
              "      <td>1950</td>\n",
              "      <td>1000</td>\n",
              "      <td>3000</td>\n",
              "      <td>150</td>\n",
              "      <td>1</td>\n",
              "      <td>1</td>\n",
              "      <td>30</td>\n",
              "    </tr>\n",
              "    <tr>\n",
              "      <td>2</td>\n",
              "      <td>1000</td>\n",
              "      <td>ultra</td>\n",
              "      <td>7</td>\n",
              "      <td>1950</td>\n",
              "      <td>1000</td>\n",
              "      <td>3000</td>\n",
              "      <td>150</td>\n",
              "      <td>1</td>\n",
              "      <td>1</td>\n",
              "      <td>30</td>\n",
              "    </tr>\n",
              "    <tr>\n",
              "      <td>3</td>\n",
              "      <td>1000</td>\n",
              "      <td>ultra</td>\n",
              "      <td>8</td>\n",
              "      <td>1950</td>\n",
              "      <td>1000</td>\n",
              "      <td>3000</td>\n",
              "      <td>150</td>\n",
              "      <td>1</td>\n",
              "      <td>1</td>\n",
              "      <td>30</td>\n",
              "    </tr>\n",
              "    <tr>\n",
              "      <td>4</td>\n",
              "      <td>1000</td>\n",
              "      <td>ultra</td>\n",
              "      <td>9</td>\n",
              "      <td>1950</td>\n",
              "      <td>1000</td>\n",
              "      <td>3000</td>\n",
              "      <td>150</td>\n",
              "      <td>1</td>\n",
              "      <td>1</td>\n",
              "      <td>30</td>\n",
              "    </tr>\n",
              "    <tr>\n",
              "      <td>...</td>\n",
              "      <td>...</td>\n",
              "      <td>...</td>\n",
              "      <td>...</td>\n",
              "      <td>...</td>\n",
              "      <td>...</td>\n",
              "      <td>...</td>\n",
              "      <td>...</td>\n",
              "      <td>...</td>\n",
              "      <td>...</td>\n",
              "      <td>...</td>\n",
              "    </tr>\n",
              "    <tr>\n",
              "      <td>3211</td>\n",
              "      <td>1498</td>\n",
              "      <td>smart</td>\n",
              "      <td>10</td>\n",
              "      <td>550</td>\n",
              "      <td>50</td>\n",
              "      <td>500</td>\n",
              "      <td>200</td>\n",
              "      <td>3</td>\n",
              "      <td>3</td>\n",
              "      <td>15</td>\n",
              "    </tr>\n",
              "    <tr>\n",
              "      <td>3212</td>\n",
              "      <td>1499</td>\n",
              "      <td>smart</td>\n",
              "      <td>9</td>\n",
              "      <td>550</td>\n",
              "      <td>50</td>\n",
              "      <td>500</td>\n",
              "      <td>200</td>\n",
              "      <td>3</td>\n",
              "      <td>3</td>\n",
              "      <td>15</td>\n",
              "    </tr>\n",
              "    <tr>\n",
              "      <td>3213</td>\n",
              "      <td>1499</td>\n",
              "      <td>smart</td>\n",
              "      <td>10</td>\n",
              "      <td>550</td>\n",
              "      <td>50</td>\n",
              "      <td>500</td>\n",
              "      <td>200</td>\n",
              "      <td>3</td>\n",
              "      <td>3</td>\n",
              "      <td>15</td>\n",
              "    </tr>\n",
              "    <tr>\n",
              "      <td>3214</td>\n",
              "      <td>1499</td>\n",
              "      <td>smart</td>\n",
              "      <td>11</td>\n",
              "      <td>550</td>\n",
              "      <td>50</td>\n",
              "      <td>500</td>\n",
              "      <td>200</td>\n",
              "      <td>3</td>\n",
              "      <td>3</td>\n",
              "      <td>15</td>\n",
              "    </tr>\n",
              "    <tr>\n",
              "      <td>3215</td>\n",
              "      <td>1499</td>\n",
              "      <td>smart</td>\n",
              "      <td>12</td>\n",
              "      <td>550</td>\n",
              "      <td>50</td>\n",
              "      <td>500</td>\n",
              "      <td>200</td>\n",
              "      <td>3</td>\n",
              "      <td>3</td>\n",
              "      <td>15</td>\n",
              "    </tr>\n",
              "  </tbody>\n",
              "</table>\n",
              "<p>3216 rows × 10 columns</p>\n",
              "</div>"
            ],
            "text/plain": [
              "     user_id tariff month   pay  messages_included  minutes_included  \\\n",
              "0       1000  ultra     5  1950               1000              3000   \n",
              "1       1000  ultra     6  1950               1000              3000   \n",
              "2       1000  ultra     7  1950               1000              3000   \n",
              "3       1000  ultra     8  1950               1000              3000   \n",
              "4       1000  ultra     9  1950               1000              3000   \n",
              "...      ...    ...   ...   ...                ...               ...   \n",
              "3211    1498  smart    10   550                 50               500   \n",
              "3212    1499  smart     9   550                 50               500   \n",
              "3213    1499  smart    10   550                 50               500   \n",
              "3214    1499  smart    11   550                 50               500   \n",
              "3215    1499  smart    12   550                 50               500   \n",
              "\n",
              "      rub_per_gb  rub_per_message  rub_per_minute  gb_per_month_included  \n",
              "0            150                1               1                     30  \n",
              "1            150                1               1                     30  \n",
              "2            150                1               1                     30  \n",
              "3            150                1               1                     30  \n",
              "4            150                1               1                     30  \n",
              "...          ...              ...             ...                    ...  \n",
              "3211         200                3               3                     15  \n",
              "3212         200                3               3                     15  \n",
              "3213         200                3               3                     15  \n",
              "3214         200                3               3                     15  \n",
              "3215         200                3               3                     15  \n",
              "\n",
              "[3216 rows x 10 columns]"
            ]
          },
          "execution_count": 24,
          "metadata": {},
          "output_type": "execute_result"
        }
      ],
      "source": [
        "data_pay['pay'] = data_pay['rub_monthly_fee']\n",
        "data_pay = data_pay.drop(columns = 'rub_monthly_fee')\n",
        "data_pay"
      ]
    },
    {
      "cell_type": "code",
      "execution_count": null,
      "metadata": {
        "scrolled": true,
        "id": "ExPo12bYp4ID",
        "outputId": "734af804-052b-4ecd-c632-88e49f0012b0"
      },
      "outputs": [
        {
          "data": {
            "text/html": [
              "<div>\n",
              "<style scoped>\n",
              "    .dataframe tbody tr th:only-of-type {\n",
              "        vertical-align: middle;\n",
              "    }\n",
              "\n",
              "    .dataframe tbody tr th {\n",
              "        vertical-align: top;\n",
              "    }\n",
              "\n",
              "    .dataframe thead th {\n",
              "        text-align: right;\n",
              "    }\n",
              "</style>\n",
              "<table border=\"1\" class=\"dataframe\">\n",
              "  <thead>\n",
              "    <tr style=\"text-align: right;\">\n",
              "      <th></th>\n",
              "      <th>user_id</th>\n",
              "      <th>month</th>\n",
              "      <th>duration_sum</th>\n",
              "      <th>count</th>\n",
              "      <th>id</th>\n",
              "    </tr>\n",
              "  </thead>\n",
              "  <tbody>\n",
              "    <tr>\n",
              "      <td>0</td>\n",
              "      <td>1000</td>\n",
              "      <td>5</td>\n",
              "      <td>159</td>\n",
              "      <td>22</td>\n",
              "      <td>1000_5</td>\n",
              "    </tr>\n",
              "    <tr>\n",
              "      <td>1</td>\n",
              "      <td>1000</td>\n",
              "      <td>6</td>\n",
              "      <td>172</td>\n",
              "      <td>43</td>\n",
              "      <td>1000_6</td>\n",
              "    </tr>\n",
              "    <tr>\n",
              "      <td>2</td>\n",
              "      <td>1000</td>\n",
              "      <td>7</td>\n",
              "      <td>340</td>\n",
              "      <td>47</td>\n",
              "      <td>1000_7</td>\n",
              "    </tr>\n",
              "    <tr>\n",
              "      <td>3</td>\n",
              "      <td>1000</td>\n",
              "      <td>8</td>\n",
              "      <td>408</td>\n",
              "      <td>52</td>\n",
              "      <td>1000_8</td>\n",
              "    </tr>\n",
              "    <tr>\n",
              "      <td>4</td>\n",
              "      <td>1000</td>\n",
              "      <td>9</td>\n",
              "      <td>466</td>\n",
              "      <td>58</td>\n",
              "      <td>1000_9</td>\n",
              "    </tr>\n",
              "    <tr>\n",
              "      <td>...</td>\n",
              "      <td>...</td>\n",
              "      <td>...</td>\n",
              "      <td>...</td>\n",
              "      <td>...</td>\n",
              "      <td>...</td>\n",
              "    </tr>\n",
              "    <tr>\n",
              "      <td>3169</td>\n",
              "      <td>1498</td>\n",
              "      <td>10</td>\n",
              "      <td>247</td>\n",
              "      <td>41</td>\n",
              "      <td>1498_10</td>\n",
              "    </tr>\n",
              "    <tr>\n",
              "      <td>3170</td>\n",
              "      <td>1499</td>\n",
              "      <td>9</td>\n",
              "      <td>70</td>\n",
              "      <td>9</td>\n",
              "      <td>1499_9</td>\n",
              "    </tr>\n",
              "    <tr>\n",
              "      <td>3171</td>\n",
              "      <td>1499</td>\n",
              "      <td>10</td>\n",
              "      <td>449</td>\n",
              "      <td>68</td>\n",
              "      <td>1499_10</td>\n",
              "    </tr>\n",
              "    <tr>\n",
              "      <td>3172</td>\n",
              "      <td>1499</td>\n",
              "      <td>11</td>\n",
              "      <td>612</td>\n",
              "      <td>74</td>\n",
              "      <td>1499_11</td>\n",
              "    </tr>\n",
              "    <tr>\n",
              "      <td>3173</td>\n",
              "      <td>1499</td>\n",
              "      <td>12</td>\n",
              "      <td>492</td>\n",
              "      <td>69</td>\n",
              "      <td>1499_12</td>\n",
              "    </tr>\n",
              "  </tbody>\n",
              "</table>\n",
              "<p>3174 rows × 5 columns</p>\n",
              "</div>"
            ],
            "text/plain": [
              "      user_id  month  duration_sum  count       id\n",
              "0        1000      5           159     22   1000_5\n",
              "1        1000      6           172     43   1000_6\n",
              "2        1000      7           340     47   1000_7\n",
              "3        1000      8           408     52   1000_8\n",
              "4        1000      9           466     58   1000_9\n",
              "...       ...    ...           ...    ...      ...\n",
              "3169     1498     10           247     41  1498_10\n",
              "3170     1499      9            70      9   1499_9\n",
              "3171     1499     10           449     68  1499_10\n",
              "3172     1499     11           612     74  1499_11\n",
              "3173     1499     12           492     69  1499_12\n",
              "\n",
              "[3174 rows x 5 columns]"
            ]
          },
          "execution_count": 25,
          "metadata": {},
          "output_type": "execute_result"
        }
      ],
      "source": [
        "data_calls['id'] = data_calls['user_id'].astype(str) + '_' + data_calls['month'].astype(str)\n",
        "data_calls"
      ]
    },
    {
      "cell_type": "code",
      "execution_count": null,
      "metadata": {
        "id": "ZnwOPo-1p4ID",
        "outputId": "c159b392-9a63-4bfd-b62d-924c5689b657"
      },
      "outputs": [
        {
          "data": {
            "text/html": [
              "<div>\n",
              "<style scoped>\n",
              "    .dataframe tbody tr th:only-of-type {\n",
              "        vertical-align: middle;\n",
              "    }\n",
              "\n",
              "    .dataframe tbody tr th {\n",
              "        vertical-align: top;\n",
              "    }\n",
              "\n",
              "    .dataframe thead th {\n",
              "        text-align: right;\n",
              "    }\n",
              "</style>\n",
              "<table border=\"1\" class=\"dataframe\">\n",
              "  <thead>\n",
              "    <tr style=\"text-align: right;\">\n",
              "      <th></th>\n",
              "      <th>user_id</th>\n",
              "      <th>tariff</th>\n",
              "      <th>month</th>\n",
              "      <th>pay</th>\n",
              "      <th>messages_included</th>\n",
              "      <th>minutes_included</th>\n",
              "      <th>rub_per_gb</th>\n",
              "      <th>rub_per_message</th>\n",
              "      <th>rub_per_minute</th>\n",
              "      <th>gb_per_month_included</th>\n",
              "      <th>id</th>\n",
              "      <th>duration_sum</th>\n",
              "    </tr>\n",
              "  </thead>\n",
              "  <tbody>\n",
              "    <tr>\n",
              "      <td>0</td>\n",
              "      <td>1000</td>\n",
              "      <td>ultra</td>\n",
              "      <td>5</td>\n",
              "      <td>1950</td>\n",
              "      <td>1000</td>\n",
              "      <td>3000</td>\n",
              "      <td>150</td>\n",
              "      <td>1</td>\n",
              "      <td>1</td>\n",
              "      <td>30</td>\n",
              "      <td>1000_5</td>\n",
              "      <td>159.0</td>\n",
              "    </tr>\n",
              "    <tr>\n",
              "      <td>1</td>\n",
              "      <td>1000</td>\n",
              "      <td>ultra</td>\n",
              "      <td>6</td>\n",
              "      <td>1950</td>\n",
              "      <td>1000</td>\n",
              "      <td>3000</td>\n",
              "      <td>150</td>\n",
              "      <td>1</td>\n",
              "      <td>1</td>\n",
              "      <td>30</td>\n",
              "      <td>1000_6</td>\n",
              "      <td>172.0</td>\n",
              "    </tr>\n",
              "    <tr>\n",
              "      <td>2</td>\n",
              "      <td>1000</td>\n",
              "      <td>ultra</td>\n",
              "      <td>7</td>\n",
              "      <td>1950</td>\n",
              "      <td>1000</td>\n",
              "      <td>3000</td>\n",
              "      <td>150</td>\n",
              "      <td>1</td>\n",
              "      <td>1</td>\n",
              "      <td>30</td>\n",
              "      <td>1000_7</td>\n",
              "      <td>340.0</td>\n",
              "    </tr>\n",
              "    <tr>\n",
              "      <td>3</td>\n",
              "      <td>1000</td>\n",
              "      <td>ultra</td>\n",
              "      <td>8</td>\n",
              "      <td>1950</td>\n",
              "      <td>1000</td>\n",
              "      <td>3000</td>\n",
              "      <td>150</td>\n",
              "      <td>1</td>\n",
              "      <td>1</td>\n",
              "      <td>30</td>\n",
              "      <td>1000_8</td>\n",
              "      <td>408.0</td>\n",
              "    </tr>\n",
              "    <tr>\n",
              "      <td>4</td>\n",
              "      <td>1000</td>\n",
              "      <td>ultra</td>\n",
              "      <td>9</td>\n",
              "      <td>1950</td>\n",
              "      <td>1000</td>\n",
              "      <td>3000</td>\n",
              "      <td>150</td>\n",
              "      <td>1</td>\n",
              "      <td>1</td>\n",
              "      <td>30</td>\n",
              "      <td>1000_9</td>\n",
              "      <td>466.0</td>\n",
              "    </tr>\n",
              "    <tr>\n",
              "      <td>...</td>\n",
              "      <td>...</td>\n",
              "      <td>...</td>\n",
              "      <td>...</td>\n",
              "      <td>...</td>\n",
              "      <td>...</td>\n",
              "      <td>...</td>\n",
              "      <td>...</td>\n",
              "      <td>...</td>\n",
              "      <td>...</td>\n",
              "      <td>...</td>\n",
              "      <td>...</td>\n",
              "      <td>...</td>\n",
              "    </tr>\n",
              "    <tr>\n",
              "      <td>3211</td>\n",
              "      <td>1498</td>\n",
              "      <td>smart</td>\n",
              "      <td>10</td>\n",
              "      <td>550</td>\n",
              "      <td>50</td>\n",
              "      <td>500</td>\n",
              "      <td>200</td>\n",
              "      <td>3</td>\n",
              "      <td>3</td>\n",
              "      <td>15</td>\n",
              "      <td>1498_10</td>\n",
              "      <td>247.0</td>\n",
              "    </tr>\n",
              "    <tr>\n",
              "      <td>3212</td>\n",
              "      <td>1499</td>\n",
              "      <td>smart</td>\n",
              "      <td>9</td>\n",
              "      <td>550</td>\n",
              "      <td>50</td>\n",
              "      <td>500</td>\n",
              "      <td>200</td>\n",
              "      <td>3</td>\n",
              "      <td>3</td>\n",
              "      <td>15</td>\n",
              "      <td>1499_9</td>\n",
              "      <td>70.0</td>\n",
              "    </tr>\n",
              "    <tr>\n",
              "      <td>3213</td>\n",
              "      <td>1499</td>\n",
              "      <td>smart</td>\n",
              "      <td>10</td>\n",
              "      <td>550</td>\n",
              "      <td>50</td>\n",
              "      <td>500</td>\n",
              "      <td>200</td>\n",
              "      <td>3</td>\n",
              "      <td>3</td>\n",
              "      <td>15</td>\n",
              "      <td>1499_10</td>\n",
              "      <td>449.0</td>\n",
              "    </tr>\n",
              "    <tr>\n",
              "      <td>3214</td>\n",
              "      <td>1499</td>\n",
              "      <td>smart</td>\n",
              "      <td>11</td>\n",
              "      <td>550</td>\n",
              "      <td>50</td>\n",
              "      <td>500</td>\n",
              "      <td>200</td>\n",
              "      <td>3</td>\n",
              "      <td>3</td>\n",
              "      <td>15</td>\n",
              "      <td>1499_11</td>\n",
              "      <td>612.0</td>\n",
              "    </tr>\n",
              "    <tr>\n",
              "      <td>3215</td>\n",
              "      <td>1499</td>\n",
              "      <td>smart</td>\n",
              "      <td>12</td>\n",
              "      <td>550</td>\n",
              "      <td>50</td>\n",
              "      <td>500</td>\n",
              "      <td>200</td>\n",
              "      <td>3</td>\n",
              "      <td>3</td>\n",
              "      <td>15</td>\n",
              "      <td>1499_12</td>\n",
              "      <td>492.0</td>\n",
              "    </tr>\n",
              "  </tbody>\n",
              "</table>\n",
              "<p>3216 rows × 12 columns</p>\n",
              "</div>"
            ],
            "text/plain": [
              "     user_id tariff month   pay  messages_included  minutes_included  \\\n",
              "0       1000  ultra     5  1950               1000              3000   \n",
              "1       1000  ultra     6  1950               1000              3000   \n",
              "2       1000  ultra     7  1950               1000              3000   \n",
              "3       1000  ultra     8  1950               1000              3000   \n",
              "4       1000  ultra     9  1950               1000              3000   \n",
              "...      ...    ...   ...   ...                ...               ...   \n",
              "3211    1498  smart    10   550                 50               500   \n",
              "3212    1499  smart     9   550                 50               500   \n",
              "3213    1499  smart    10   550                 50               500   \n",
              "3214    1499  smart    11   550                 50               500   \n",
              "3215    1499  smart    12   550                 50               500   \n",
              "\n",
              "      rub_per_gb  rub_per_message  rub_per_minute  gb_per_month_included  \\\n",
              "0            150                1               1                     30   \n",
              "1            150                1               1                     30   \n",
              "2            150                1               1                     30   \n",
              "3            150                1               1                     30   \n",
              "4            150                1               1                     30   \n",
              "...          ...              ...             ...                    ...   \n",
              "3211         200                3               3                     15   \n",
              "3212         200                3               3                     15   \n",
              "3213         200                3               3                     15   \n",
              "3214         200                3               3                     15   \n",
              "3215         200                3               3                     15   \n",
              "\n",
              "           id  duration_sum  \n",
              "0      1000_5         159.0  \n",
              "1      1000_6         172.0  \n",
              "2      1000_7         340.0  \n",
              "3      1000_8         408.0  \n",
              "4      1000_9         466.0  \n",
              "...       ...           ...  \n",
              "3211  1498_10         247.0  \n",
              "3212   1499_9          70.0  \n",
              "3213  1499_10         449.0  \n",
              "3214  1499_11         612.0  \n",
              "3215  1499_12         492.0  \n",
              "\n",
              "[3216 rows x 12 columns]"
            ]
          },
          "execution_count": 26,
          "metadata": {},
          "output_type": "execute_result"
        }
      ],
      "source": [
        "data_pay['id'] = data_pay['user_id'].astype(str) + '_' + data_pay['month'].astype(str)\n",
        "data_pay = data_pay.merge(data_calls[['duration_sum', 'id']], on = ['id'], how='left')\n",
        "data_pay"
      ]
    },
    {
      "cell_type": "markdown",
      "metadata": {
        "id": "kjVSmo42p4ID"
      },
      "source": [
        "Расчитаем, есть ли привешение лимита звонков заложенного в тарифный план и добавим сумму к оплате, если привышение было."
      ]
    },
    {
      "cell_type": "code",
      "execution_count": null,
      "metadata": {
        "id": "r1ecNn5wp4ID",
        "outputId": "18e77049-e728-485e-8dc6-01f426ca4c95"
      },
      "outputs": [
        {
          "data": {
            "text/html": [
              "<div>\n",
              "<style scoped>\n",
              "    .dataframe tbody tr th:only-of-type {\n",
              "        vertical-align: middle;\n",
              "    }\n",
              "\n",
              "    .dataframe tbody tr th {\n",
              "        vertical-align: top;\n",
              "    }\n",
              "\n",
              "    .dataframe thead th {\n",
              "        text-align: right;\n",
              "    }\n",
              "</style>\n",
              "<table border=\"1\" class=\"dataframe\">\n",
              "  <thead>\n",
              "    <tr style=\"text-align: right;\">\n",
              "      <th></th>\n",
              "      <th>user_id</th>\n",
              "      <th>tariff</th>\n",
              "      <th>month</th>\n",
              "      <th>pay</th>\n",
              "      <th>messages_included</th>\n",
              "      <th>minutes_included</th>\n",
              "      <th>rub_per_gb</th>\n",
              "      <th>rub_per_message</th>\n",
              "      <th>rub_per_minute</th>\n",
              "      <th>gb_per_month_included</th>\n",
              "      <th>id</th>\n",
              "      <th>duration_sum</th>\n",
              "    </tr>\n",
              "  </thead>\n",
              "  <tbody>\n",
              "    <tr>\n",
              "      <td>0</td>\n",
              "      <td>1000</td>\n",
              "      <td>ultra</td>\n",
              "      <td>5</td>\n",
              "      <td>1950.0</td>\n",
              "      <td>1000</td>\n",
              "      <td>3000</td>\n",
              "      <td>150</td>\n",
              "      <td>1</td>\n",
              "      <td>1</td>\n",
              "      <td>30</td>\n",
              "      <td>1000_5</td>\n",
              "      <td>159.0</td>\n",
              "    </tr>\n",
              "    <tr>\n",
              "      <td>1</td>\n",
              "      <td>1000</td>\n",
              "      <td>ultra</td>\n",
              "      <td>6</td>\n",
              "      <td>1950.0</td>\n",
              "      <td>1000</td>\n",
              "      <td>3000</td>\n",
              "      <td>150</td>\n",
              "      <td>1</td>\n",
              "      <td>1</td>\n",
              "      <td>30</td>\n",
              "      <td>1000_6</td>\n",
              "      <td>172.0</td>\n",
              "    </tr>\n",
              "    <tr>\n",
              "      <td>2</td>\n",
              "      <td>1000</td>\n",
              "      <td>ultra</td>\n",
              "      <td>7</td>\n",
              "      <td>1950.0</td>\n",
              "      <td>1000</td>\n",
              "      <td>3000</td>\n",
              "      <td>150</td>\n",
              "      <td>1</td>\n",
              "      <td>1</td>\n",
              "      <td>30</td>\n",
              "      <td>1000_7</td>\n",
              "      <td>340.0</td>\n",
              "    </tr>\n",
              "    <tr>\n",
              "      <td>3</td>\n",
              "      <td>1000</td>\n",
              "      <td>ultra</td>\n",
              "      <td>8</td>\n",
              "      <td>1950.0</td>\n",
              "      <td>1000</td>\n",
              "      <td>3000</td>\n",
              "      <td>150</td>\n",
              "      <td>1</td>\n",
              "      <td>1</td>\n",
              "      <td>30</td>\n",
              "      <td>1000_8</td>\n",
              "      <td>408.0</td>\n",
              "    </tr>\n",
              "    <tr>\n",
              "      <td>4</td>\n",
              "      <td>1000</td>\n",
              "      <td>ultra</td>\n",
              "      <td>9</td>\n",
              "      <td>1950.0</td>\n",
              "      <td>1000</td>\n",
              "      <td>3000</td>\n",
              "      <td>150</td>\n",
              "      <td>1</td>\n",
              "      <td>1</td>\n",
              "      <td>30</td>\n",
              "      <td>1000_9</td>\n",
              "      <td>466.0</td>\n",
              "    </tr>\n",
              "    <tr>\n",
              "      <td>...</td>\n",
              "      <td>...</td>\n",
              "      <td>...</td>\n",
              "      <td>...</td>\n",
              "      <td>...</td>\n",
              "      <td>...</td>\n",
              "      <td>...</td>\n",
              "      <td>...</td>\n",
              "      <td>...</td>\n",
              "      <td>...</td>\n",
              "      <td>...</td>\n",
              "      <td>...</td>\n",
              "      <td>...</td>\n",
              "    </tr>\n",
              "    <tr>\n",
              "      <td>3211</td>\n",
              "      <td>1498</td>\n",
              "      <td>smart</td>\n",
              "      <td>10</td>\n",
              "      <td>550.0</td>\n",
              "      <td>50</td>\n",
              "      <td>500</td>\n",
              "      <td>200</td>\n",
              "      <td>3</td>\n",
              "      <td>3</td>\n",
              "      <td>15</td>\n",
              "      <td>1498_10</td>\n",
              "      <td>247.0</td>\n",
              "    </tr>\n",
              "    <tr>\n",
              "      <td>3212</td>\n",
              "      <td>1499</td>\n",
              "      <td>smart</td>\n",
              "      <td>9</td>\n",
              "      <td>550.0</td>\n",
              "      <td>50</td>\n",
              "      <td>500</td>\n",
              "      <td>200</td>\n",
              "      <td>3</td>\n",
              "      <td>3</td>\n",
              "      <td>15</td>\n",
              "      <td>1499_9</td>\n",
              "      <td>70.0</td>\n",
              "    </tr>\n",
              "    <tr>\n",
              "      <td>3213</td>\n",
              "      <td>1499</td>\n",
              "      <td>smart</td>\n",
              "      <td>10</td>\n",
              "      <td>550.0</td>\n",
              "      <td>50</td>\n",
              "      <td>500</td>\n",
              "      <td>200</td>\n",
              "      <td>3</td>\n",
              "      <td>3</td>\n",
              "      <td>15</td>\n",
              "      <td>1499_10</td>\n",
              "      <td>449.0</td>\n",
              "    </tr>\n",
              "    <tr>\n",
              "      <td>3214</td>\n",
              "      <td>1499</td>\n",
              "      <td>smart</td>\n",
              "      <td>11</td>\n",
              "      <td>886.0</td>\n",
              "      <td>50</td>\n",
              "      <td>500</td>\n",
              "      <td>200</td>\n",
              "      <td>3</td>\n",
              "      <td>3</td>\n",
              "      <td>15</td>\n",
              "      <td>1499_11</td>\n",
              "      <td>612.0</td>\n",
              "    </tr>\n",
              "    <tr>\n",
              "      <td>3215</td>\n",
              "      <td>1499</td>\n",
              "      <td>smart</td>\n",
              "      <td>12</td>\n",
              "      <td>550.0</td>\n",
              "      <td>50</td>\n",
              "      <td>500</td>\n",
              "      <td>200</td>\n",
              "      <td>3</td>\n",
              "      <td>3</td>\n",
              "      <td>15</td>\n",
              "      <td>1499_12</td>\n",
              "      <td>492.0</td>\n",
              "    </tr>\n",
              "  </tbody>\n",
              "</table>\n",
              "<p>3216 rows × 12 columns</p>\n",
              "</div>"
            ],
            "text/plain": [
              "     user_id tariff month     pay  messages_included  minutes_included  \\\n",
              "0       1000  ultra     5  1950.0               1000              3000   \n",
              "1       1000  ultra     6  1950.0               1000              3000   \n",
              "2       1000  ultra     7  1950.0               1000              3000   \n",
              "3       1000  ultra     8  1950.0               1000              3000   \n",
              "4       1000  ultra     9  1950.0               1000              3000   \n",
              "...      ...    ...   ...     ...                ...               ...   \n",
              "3211    1498  smart    10   550.0                 50               500   \n",
              "3212    1499  smart     9   550.0                 50               500   \n",
              "3213    1499  smart    10   550.0                 50               500   \n",
              "3214    1499  smart    11   886.0                 50               500   \n",
              "3215    1499  smart    12   550.0                 50               500   \n",
              "\n",
              "      rub_per_gb  rub_per_message  rub_per_minute  gb_per_month_included  \\\n",
              "0            150                1               1                     30   \n",
              "1            150                1               1                     30   \n",
              "2            150                1               1                     30   \n",
              "3            150                1               1                     30   \n",
              "4            150                1               1                     30   \n",
              "...          ...              ...             ...                    ...   \n",
              "3211         200                3               3                     15   \n",
              "3212         200                3               3                     15   \n",
              "3213         200                3               3                     15   \n",
              "3214         200                3               3                     15   \n",
              "3215         200                3               3                     15   \n",
              "\n",
              "           id  duration_sum  \n",
              "0      1000_5         159.0  \n",
              "1      1000_6         172.0  \n",
              "2      1000_7         340.0  \n",
              "3      1000_8         408.0  \n",
              "4      1000_9         466.0  \n",
              "...       ...           ...  \n",
              "3211  1498_10         247.0  \n",
              "3212   1499_9          70.0  \n",
              "3213  1499_10         449.0  \n",
              "3214  1499_11         612.0  \n",
              "3215  1499_12         492.0  \n",
              "\n",
              "[3216 rows x 12 columns]"
            ]
          },
          "execution_count": 27,
          "metadata": {},
          "output_type": "execute_result"
        }
      ],
      "source": [
        "data_pay.loc[data_pay.loc[:, 'minutes_included']<data_pay.loc[:, 'duration_sum'], 'pay'] = \\\n",
        "    data_pay['pay'] + \\\n",
        "    (data_pay[data_pay['minutes_included']<data_pay['duration_sum']]['duration_sum'] - \\\n",
        "    data_pay[data_pay['minutes_included'] < data_pay['duration_sum']]['minutes_included'])* \\\n",
        "    data_pay[data_pay['minutes_included'] < data_pay['duration_sum']]['rub_per_minute']    \n",
        "    \n",
        "data_pay"
      ]
    },
    {
      "cell_type": "markdown",
      "metadata": {
        "id": "f7rtUvWOp4ID"
      },
      "source": [
        "Таким же образом расчитаем  сумму к оплате за превышение лимита сообщений."
      ]
    },
    {
      "cell_type": "code",
      "execution_count": null,
      "metadata": {
        "id": "CGaC-Jphp4IE",
        "outputId": "25162a6f-7386-4bc7-b639-10baac139b1a"
      },
      "outputs": [
        {
          "data": {
            "text/html": [
              "<div>\n",
              "<style scoped>\n",
              "    .dataframe tbody tr th:only-of-type {\n",
              "        vertical-align: middle;\n",
              "    }\n",
              "\n",
              "    .dataframe tbody tr th {\n",
              "        vertical-align: top;\n",
              "    }\n",
              "\n",
              "    .dataframe thead th {\n",
              "        text-align: right;\n",
              "    }\n",
              "</style>\n",
              "<table border=\"1\" class=\"dataframe\">\n",
              "  <thead>\n",
              "    <tr style=\"text-align: right;\">\n",
              "      <th></th>\n",
              "      <th>user_id</th>\n",
              "      <th>month</th>\n",
              "      <th>messages</th>\n",
              "      <th>id</th>\n",
              "    </tr>\n",
              "  </thead>\n",
              "  <tbody>\n",
              "    <tr>\n",
              "      <td>0</td>\n",
              "      <td>1000</td>\n",
              "      <td>5</td>\n",
              "      <td>22</td>\n",
              "      <td>1000_5</td>\n",
              "    </tr>\n",
              "    <tr>\n",
              "      <td>1</td>\n",
              "      <td>1000</td>\n",
              "      <td>6</td>\n",
              "      <td>60</td>\n",
              "      <td>1000_6</td>\n",
              "    </tr>\n",
              "    <tr>\n",
              "      <td>2</td>\n",
              "      <td>1000</td>\n",
              "      <td>7</td>\n",
              "      <td>75</td>\n",
              "      <td>1000_7</td>\n",
              "    </tr>\n",
              "    <tr>\n",
              "      <td>3</td>\n",
              "      <td>1000</td>\n",
              "      <td>8</td>\n",
              "      <td>81</td>\n",
              "      <td>1000_8</td>\n",
              "    </tr>\n",
              "    <tr>\n",
              "      <td>4</td>\n",
              "      <td>1000</td>\n",
              "      <td>9</td>\n",
              "      <td>57</td>\n",
              "      <td>1000_9</td>\n",
              "    </tr>\n",
              "    <tr>\n",
              "      <td>...</td>\n",
              "      <td>...</td>\n",
              "      <td>...</td>\n",
              "      <td>...</td>\n",
              "      <td>...</td>\n",
              "    </tr>\n",
              "    <tr>\n",
              "      <td>2712</td>\n",
              "      <td>1498</td>\n",
              "      <td>10</td>\n",
              "      <td>42</td>\n",
              "      <td>1498_10</td>\n",
              "    </tr>\n",
              "    <tr>\n",
              "      <td>2713</td>\n",
              "      <td>1499</td>\n",
              "      <td>9</td>\n",
              "      <td>11</td>\n",
              "      <td>1499_9</td>\n",
              "    </tr>\n",
              "    <tr>\n",
              "      <td>2714</td>\n",
              "      <td>1499</td>\n",
              "      <td>10</td>\n",
              "      <td>48</td>\n",
              "      <td>1499_10</td>\n",
              "    </tr>\n",
              "    <tr>\n",
              "      <td>2715</td>\n",
              "      <td>1499</td>\n",
              "      <td>11</td>\n",
              "      <td>59</td>\n",
              "      <td>1499_11</td>\n",
              "    </tr>\n",
              "    <tr>\n",
              "      <td>2716</td>\n",
              "      <td>1499</td>\n",
              "      <td>12</td>\n",
              "      <td>66</td>\n",
              "      <td>1499_12</td>\n",
              "    </tr>\n",
              "  </tbody>\n",
              "</table>\n",
              "<p>2717 rows × 4 columns</p>\n",
              "</div>"
            ],
            "text/plain": [
              "      user_id  month  messages       id\n",
              "0        1000      5        22   1000_5\n",
              "1        1000      6        60   1000_6\n",
              "2        1000      7        75   1000_7\n",
              "3        1000      8        81   1000_8\n",
              "4        1000      9        57   1000_9\n",
              "...       ...    ...       ...      ...\n",
              "2712     1498     10        42  1498_10\n",
              "2713     1499      9        11   1499_9\n",
              "2714     1499     10        48  1499_10\n",
              "2715     1499     11        59  1499_11\n",
              "2716     1499     12        66  1499_12\n",
              "\n",
              "[2717 rows x 4 columns]"
            ]
          },
          "execution_count": 28,
          "metadata": {},
          "output_type": "execute_result"
        }
      ],
      "source": [
        "data_messages['id'] = data_messages['user_id'].astype(str) + '_' + data_messages['month'].astype(str)\n",
        "data_messages\n"
      ]
    },
    {
      "cell_type": "code",
      "execution_count": null,
      "metadata": {
        "id": "kaMi7gvOp4IE",
        "outputId": "33a9db94-7ec8-4e9d-f8ab-b688206a409b"
      },
      "outputs": [
        {
          "data": {
            "text/html": [
              "<div>\n",
              "<style scoped>\n",
              "    .dataframe tbody tr th:only-of-type {\n",
              "        vertical-align: middle;\n",
              "    }\n",
              "\n",
              "    .dataframe tbody tr th {\n",
              "        vertical-align: top;\n",
              "    }\n",
              "\n",
              "    .dataframe thead th {\n",
              "        text-align: right;\n",
              "    }\n",
              "</style>\n",
              "<table border=\"1\" class=\"dataframe\">\n",
              "  <thead>\n",
              "    <tr style=\"text-align: right;\">\n",
              "      <th></th>\n",
              "      <th>user_id</th>\n",
              "      <th>tariff</th>\n",
              "      <th>month</th>\n",
              "      <th>pay</th>\n",
              "      <th>messages_included</th>\n",
              "      <th>rub_per_gb</th>\n",
              "      <th>rub_per_message</th>\n",
              "      <th>gb_per_month_included</th>\n",
              "      <th>id</th>\n",
              "      <th>duration_sum</th>\n",
              "      <th>messages</th>\n",
              "    </tr>\n",
              "  </thead>\n",
              "  <tbody>\n",
              "    <tr>\n",
              "      <td>0</td>\n",
              "      <td>1000</td>\n",
              "      <td>ultra</td>\n",
              "      <td>5</td>\n",
              "      <td>1950.0</td>\n",
              "      <td>1000</td>\n",
              "      <td>150</td>\n",
              "      <td>1</td>\n",
              "      <td>30</td>\n",
              "      <td>1000_5</td>\n",
              "      <td>159.0</td>\n",
              "      <td>22.0</td>\n",
              "    </tr>\n",
              "    <tr>\n",
              "      <td>1</td>\n",
              "      <td>1000</td>\n",
              "      <td>ultra</td>\n",
              "      <td>6</td>\n",
              "      <td>1950.0</td>\n",
              "      <td>1000</td>\n",
              "      <td>150</td>\n",
              "      <td>1</td>\n",
              "      <td>30</td>\n",
              "      <td>1000_6</td>\n",
              "      <td>172.0</td>\n",
              "      <td>60.0</td>\n",
              "    </tr>\n",
              "    <tr>\n",
              "      <td>2</td>\n",
              "      <td>1000</td>\n",
              "      <td>ultra</td>\n",
              "      <td>7</td>\n",
              "      <td>1950.0</td>\n",
              "      <td>1000</td>\n",
              "      <td>150</td>\n",
              "      <td>1</td>\n",
              "      <td>30</td>\n",
              "      <td>1000_7</td>\n",
              "      <td>340.0</td>\n",
              "      <td>75.0</td>\n",
              "    </tr>\n",
              "    <tr>\n",
              "      <td>3</td>\n",
              "      <td>1000</td>\n",
              "      <td>ultra</td>\n",
              "      <td>8</td>\n",
              "      <td>1950.0</td>\n",
              "      <td>1000</td>\n",
              "      <td>150</td>\n",
              "      <td>1</td>\n",
              "      <td>30</td>\n",
              "      <td>1000_8</td>\n",
              "      <td>408.0</td>\n",
              "      <td>81.0</td>\n",
              "    </tr>\n",
              "    <tr>\n",
              "      <td>4</td>\n",
              "      <td>1000</td>\n",
              "      <td>ultra</td>\n",
              "      <td>9</td>\n",
              "      <td>1950.0</td>\n",
              "      <td>1000</td>\n",
              "      <td>150</td>\n",
              "      <td>1</td>\n",
              "      <td>30</td>\n",
              "      <td>1000_9</td>\n",
              "      <td>466.0</td>\n",
              "      <td>57.0</td>\n",
              "    </tr>\n",
              "    <tr>\n",
              "      <td>...</td>\n",
              "      <td>...</td>\n",
              "      <td>...</td>\n",
              "      <td>...</td>\n",
              "      <td>...</td>\n",
              "      <td>...</td>\n",
              "      <td>...</td>\n",
              "      <td>...</td>\n",
              "      <td>...</td>\n",
              "      <td>...</td>\n",
              "      <td>...</td>\n",
              "      <td>...</td>\n",
              "    </tr>\n",
              "    <tr>\n",
              "      <td>3211</td>\n",
              "      <td>1498</td>\n",
              "      <td>smart</td>\n",
              "      <td>10</td>\n",
              "      <td>550.0</td>\n",
              "      <td>50</td>\n",
              "      <td>200</td>\n",
              "      <td>3</td>\n",
              "      <td>15</td>\n",
              "      <td>1498_10</td>\n",
              "      <td>247.0</td>\n",
              "      <td>42.0</td>\n",
              "    </tr>\n",
              "    <tr>\n",
              "      <td>3212</td>\n",
              "      <td>1499</td>\n",
              "      <td>smart</td>\n",
              "      <td>9</td>\n",
              "      <td>550.0</td>\n",
              "      <td>50</td>\n",
              "      <td>200</td>\n",
              "      <td>3</td>\n",
              "      <td>15</td>\n",
              "      <td>1499_9</td>\n",
              "      <td>70.0</td>\n",
              "      <td>11.0</td>\n",
              "    </tr>\n",
              "    <tr>\n",
              "      <td>3213</td>\n",
              "      <td>1499</td>\n",
              "      <td>smart</td>\n",
              "      <td>10</td>\n",
              "      <td>550.0</td>\n",
              "      <td>50</td>\n",
              "      <td>200</td>\n",
              "      <td>3</td>\n",
              "      <td>15</td>\n",
              "      <td>1499_10</td>\n",
              "      <td>449.0</td>\n",
              "      <td>48.0</td>\n",
              "    </tr>\n",
              "    <tr>\n",
              "      <td>3214</td>\n",
              "      <td>1499</td>\n",
              "      <td>smart</td>\n",
              "      <td>11</td>\n",
              "      <td>886.0</td>\n",
              "      <td>50</td>\n",
              "      <td>200</td>\n",
              "      <td>3</td>\n",
              "      <td>15</td>\n",
              "      <td>1499_11</td>\n",
              "      <td>612.0</td>\n",
              "      <td>59.0</td>\n",
              "    </tr>\n",
              "    <tr>\n",
              "      <td>3215</td>\n",
              "      <td>1499</td>\n",
              "      <td>smart</td>\n",
              "      <td>12</td>\n",
              "      <td>550.0</td>\n",
              "      <td>50</td>\n",
              "      <td>200</td>\n",
              "      <td>3</td>\n",
              "      <td>15</td>\n",
              "      <td>1499_12</td>\n",
              "      <td>492.0</td>\n",
              "      <td>66.0</td>\n",
              "    </tr>\n",
              "  </tbody>\n",
              "</table>\n",
              "<p>3216 rows × 11 columns</p>\n",
              "</div>"
            ],
            "text/plain": [
              "     user_id tariff month     pay  messages_included  rub_per_gb  \\\n",
              "0       1000  ultra     5  1950.0               1000         150   \n",
              "1       1000  ultra     6  1950.0               1000         150   \n",
              "2       1000  ultra     7  1950.0               1000         150   \n",
              "3       1000  ultra     8  1950.0               1000         150   \n",
              "4       1000  ultra     9  1950.0               1000         150   \n",
              "...      ...    ...   ...     ...                ...         ...   \n",
              "3211    1498  smart    10   550.0                 50         200   \n",
              "3212    1499  smart     9   550.0                 50         200   \n",
              "3213    1499  smart    10   550.0                 50         200   \n",
              "3214    1499  smart    11   886.0                 50         200   \n",
              "3215    1499  smart    12   550.0                 50         200   \n",
              "\n",
              "      rub_per_message  gb_per_month_included       id  duration_sum  messages  \n",
              "0                   1                     30   1000_5         159.0      22.0  \n",
              "1                   1                     30   1000_6         172.0      60.0  \n",
              "2                   1                     30   1000_7         340.0      75.0  \n",
              "3                   1                     30   1000_8         408.0      81.0  \n",
              "4                   1                     30   1000_9         466.0      57.0  \n",
              "...               ...                    ...      ...           ...       ...  \n",
              "3211                3                     15  1498_10         247.0      42.0  \n",
              "3212                3                     15   1499_9          70.0      11.0  \n",
              "3213                3                     15  1499_10         449.0      48.0  \n",
              "3214                3                     15  1499_11         612.0      59.0  \n",
              "3215                3                     15  1499_12         492.0      66.0  \n",
              "\n",
              "[3216 rows x 11 columns]"
            ]
          },
          "execution_count": 29,
          "metadata": {},
          "output_type": "execute_result"
        }
      ],
      "source": [
        "data_pay = data_pay.drop(columns = ['minutes_included', 'rub_per_minute'])\n",
        "\n",
        "data_pay = data_pay.merge(data_messages[['messages', 'id']], on = ['id'], how='left')\n",
        "\n",
        "data_pay"
      ]
    },
    {
      "cell_type": "code",
      "execution_count": null,
      "metadata": {
        "id": "iM_f4tVxp4IE",
        "outputId": "62b6bfbe-1386-4ece-fd6e-fb366f8cd93f"
      },
      "outputs": [
        {
          "data": {
            "text/html": [
              "<div>\n",
              "<style scoped>\n",
              "    .dataframe tbody tr th:only-of-type {\n",
              "        vertical-align: middle;\n",
              "    }\n",
              "\n",
              "    .dataframe tbody tr th {\n",
              "        vertical-align: top;\n",
              "    }\n",
              "\n",
              "    .dataframe thead th {\n",
              "        text-align: right;\n",
              "    }\n",
              "</style>\n",
              "<table border=\"1\" class=\"dataframe\">\n",
              "  <thead>\n",
              "    <tr style=\"text-align: right;\">\n",
              "      <th></th>\n",
              "      <th>user_id</th>\n",
              "      <th>tariff</th>\n",
              "      <th>month</th>\n",
              "      <th>pay</th>\n",
              "      <th>messages_included</th>\n",
              "      <th>rub_per_gb</th>\n",
              "      <th>rub_per_message</th>\n",
              "      <th>gb_per_month_included</th>\n",
              "      <th>id</th>\n",
              "      <th>duration_sum</th>\n",
              "      <th>messages</th>\n",
              "    </tr>\n",
              "  </thead>\n",
              "  <tbody>\n",
              "    <tr>\n",
              "      <td>0</td>\n",
              "      <td>1000</td>\n",
              "      <td>ultra</td>\n",
              "      <td>5</td>\n",
              "      <td>1950.0</td>\n",
              "      <td>1000</td>\n",
              "      <td>150</td>\n",
              "      <td>1</td>\n",
              "      <td>30</td>\n",
              "      <td>1000_5</td>\n",
              "      <td>159.0</td>\n",
              "      <td>22.0</td>\n",
              "    </tr>\n",
              "    <tr>\n",
              "      <td>1</td>\n",
              "      <td>1000</td>\n",
              "      <td>ultra</td>\n",
              "      <td>6</td>\n",
              "      <td>1950.0</td>\n",
              "      <td>1000</td>\n",
              "      <td>150</td>\n",
              "      <td>1</td>\n",
              "      <td>30</td>\n",
              "      <td>1000_6</td>\n",
              "      <td>172.0</td>\n",
              "      <td>60.0</td>\n",
              "    </tr>\n",
              "    <tr>\n",
              "      <td>2</td>\n",
              "      <td>1000</td>\n",
              "      <td>ultra</td>\n",
              "      <td>7</td>\n",
              "      <td>1950.0</td>\n",
              "      <td>1000</td>\n",
              "      <td>150</td>\n",
              "      <td>1</td>\n",
              "      <td>30</td>\n",
              "      <td>1000_7</td>\n",
              "      <td>340.0</td>\n",
              "      <td>75.0</td>\n",
              "    </tr>\n",
              "    <tr>\n",
              "      <td>3</td>\n",
              "      <td>1000</td>\n",
              "      <td>ultra</td>\n",
              "      <td>8</td>\n",
              "      <td>1950.0</td>\n",
              "      <td>1000</td>\n",
              "      <td>150</td>\n",
              "      <td>1</td>\n",
              "      <td>30</td>\n",
              "      <td>1000_8</td>\n",
              "      <td>408.0</td>\n",
              "      <td>81.0</td>\n",
              "    </tr>\n",
              "    <tr>\n",
              "      <td>4</td>\n",
              "      <td>1000</td>\n",
              "      <td>ultra</td>\n",
              "      <td>9</td>\n",
              "      <td>1950.0</td>\n",
              "      <td>1000</td>\n",
              "      <td>150</td>\n",
              "      <td>1</td>\n",
              "      <td>30</td>\n",
              "      <td>1000_9</td>\n",
              "      <td>466.0</td>\n",
              "      <td>57.0</td>\n",
              "    </tr>\n",
              "    <tr>\n",
              "      <td>...</td>\n",
              "      <td>...</td>\n",
              "      <td>...</td>\n",
              "      <td>...</td>\n",
              "      <td>...</td>\n",
              "      <td>...</td>\n",
              "      <td>...</td>\n",
              "      <td>...</td>\n",
              "      <td>...</td>\n",
              "      <td>...</td>\n",
              "      <td>...</td>\n",
              "      <td>...</td>\n",
              "    </tr>\n",
              "    <tr>\n",
              "      <td>3211</td>\n",
              "      <td>1498</td>\n",
              "      <td>smart</td>\n",
              "      <td>10</td>\n",
              "      <td>550.0</td>\n",
              "      <td>50</td>\n",
              "      <td>200</td>\n",
              "      <td>3</td>\n",
              "      <td>15</td>\n",
              "      <td>1498_10</td>\n",
              "      <td>247.0</td>\n",
              "      <td>42.0</td>\n",
              "    </tr>\n",
              "    <tr>\n",
              "      <td>3212</td>\n",
              "      <td>1499</td>\n",
              "      <td>smart</td>\n",
              "      <td>9</td>\n",
              "      <td>550.0</td>\n",
              "      <td>50</td>\n",
              "      <td>200</td>\n",
              "      <td>3</td>\n",
              "      <td>15</td>\n",
              "      <td>1499_9</td>\n",
              "      <td>70.0</td>\n",
              "      <td>11.0</td>\n",
              "    </tr>\n",
              "    <tr>\n",
              "      <td>3213</td>\n",
              "      <td>1499</td>\n",
              "      <td>smart</td>\n",
              "      <td>10</td>\n",
              "      <td>550.0</td>\n",
              "      <td>50</td>\n",
              "      <td>200</td>\n",
              "      <td>3</td>\n",
              "      <td>15</td>\n",
              "      <td>1499_10</td>\n",
              "      <td>449.0</td>\n",
              "      <td>48.0</td>\n",
              "    </tr>\n",
              "    <tr>\n",
              "      <td>3214</td>\n",
              "      <td>1499</td>\n",
              "      <td>smart</td>\n",
              "      <td>11</td>\n",
              "      <td>913.0</td>\n",
              "      <td>50</td>\n",
              "      <td>200</td>\n",
              "      <td>3</td>\n",
              "      <td>15</td>\n",
              "      <td>1499_11</td>\n",
              "      <td>612.0</td>\n",
              "      <td>59.0</td>\n",
              "    </tr>\n",
              "    <tr>\n",
              "      <td>3215</td>\n",
              "      <td>1499</td>\n",
              "      <td>smart</td>\n",
              "      <td>12</td>\n",
              "      <td>598.0</td>\n",
              "      <td>50</td>\n",
              "      <td>200</td>\n",
              "      <td>3</td>\n",
              "      <td>15</td>\n",
              "      <td>1499_12</td>\n",
              "      <td>492.0</td>\n",
              "      <td>66.0</td>\n",
              "    </tr>\n",
              "  </tbody>\n",
              "</table>\n",
              "<p>3216 rows × 11 columns</p>\n",
              "</div>"
            ],
            "text/plain": [
              "     user_id tariff month     pay  messages_included  rub_per_gb  \\\n",
              "0       1000  ultra     5  1950.0               1000         150   \n",
              "1       1000  ultra     6  1950.0               1000         150   \n",
              "2       1000  ultra     7  1950.0               1000         150   \n",
              "3       1000  ultra     8  1950.0               1000         150   \n",
              "4       1000  ultra     9  1950.0               1000         150   \n",
              "...      ...    ...   ...     ...                ...         ...   \n",
              "3211    1498  smart    10   550.0                 50         200   \n",
              "3212    1499  smart     9   550.0                 50         200   \n",
              "3213    1499  smart    10   550.0                 50         200   \n",
              "3214    1499  smart    11   913.0                 50         200   \n",
              "3215    1499  smart    12   598.0                 50         200   \n",
              "\n",
              "      rub_per_message  gb_per_month_included       id  duration_sum  messages  \n",
              "0                   1                     30   1000_5         159.0      22.0  \n",
              "1                   1                     30   1000_6         172.0      60.0  \n",
              "2                   1                     30   1000_7         340.0      75.0  \n",
              "3                   1                     30   1000_8         408.0      81.0  \n",
              "4                   1                     30   1000_9         466.0      57.0  \n",
              "...               ...                    ...      ...           ...       ...  \n",
              "3211                3                     15  1498_10         247.0      42.0  \n",
              "3212                3                     15   1499_9          70.0      11.0  \n",
              "3213                3                     15  1499_10         449.0      48.0  \n",
              "3214                3                     15  1499_11         612.0      59.0  \n",
              "3215                3                     15  1499_12         492.0      66.0  \n",
              "\n",
              "[3216 rows x 11 columns]"
            ]
          },
          "execution_count": 30,
          "metadata": {},
          "output_type": "execute_result"
        }
      ],
      "source": [
        "data_pay.loc[data_pay.loc[:, 'messages_included'] < data_pay.loc[:, 'messages'], 'pay'] = \\\n",
        "    data_pay['pay'] + \\\n",
        "    (data_pay[data_pay['messages_included'] < data_pay['messages']]['messages'] - \\\n",
        "    data_pay[data_pay['messages_included'] < data_pay['messages']]['messages_included'])* \\\n",
        "    data_pay[data_pay['messages_included'] < data_pay['messages']]['rub_per_message']    \n",
        "\n",
        "    \n",
        "data_pay"
      ]
    },
    {
      "cell_type": "markdown",
      "metadata": {
        "id": "99TtCmOJp4IE"
      },
      "source": [
        "Расчитаем сумму к оплате за превышение использования интернет трафика и добавим ее к общему счету за каждый месяц для каждого пользователя."
      ]
    },
    {
      "cell_type": "code",
      "execution_count": null,
      "metadata": {
        "id": "qUIl0somp4IE",
        "outputId": "b62c35a2-4f60-4b9a-d87f-bcd3061bffbf"
      },
      "outputs": [
        {
          "data": {
            "text/html": [
              "<div>\n",
              "<style scoped>\n",
              "    .dataframe tbody tr th:only-of-type {\n",
              "        vertical-align: middle;\n",
              "    }\n",
              "\n",
              "    .dataframe tbody tr th {\n",
              "        vertical-align: top;\n",
              "    }\n",
              "\n",
              "    .dataframe thead th {\n",
              "        text-align: right;\n",
              "    }\n",
              "</style>\n",
              "<table border=\"1\" class=\"dataframe\">\n",
              "  <thead>\n",
              "    <tr style=\"text-align: right;\">\n",
              "      <th></th>\n",
              "      <th>user_id</th>\n",
              "      <th>month</th>\n",
              "      <th>mb_used_sum</th>\n",
              "      <th>id</th>\n",
              "    </tr>\n",
              "  </thead>\n",
              "  <tbody>\n",
              "    <tr>\n",
              "      <td>0</td>\n",
              "      <td>1000</td>\n",
              "      <td>5</td>\n",
              "      <td>3</td>\n",
              "      <td>1000_5</td>\n",
              "    </tr>\n",
              "    <tr>\n",
              "      <td>1</td>\n",
              "      <td>1000</td>\n",
              "      <td>6</td>\n",
              "      <td>23</td>\n",
              "      <td>1000_6</td>\n",
              "    </tr>\n",
              "    <tr>\n",
              "      <td>2</td>\n",
              "      <td>1000</td>\n",
              "      <td>7</td>\n",
              "      <td>14</td>\n",
              "      <td>1000_7</td>\n",
              "    </tr>\n",
              "    <tr>\n",
              "      <td>3</td>\n",
              "      <td>1000</td>\n",
              "      <td>8</td>\n",
              "      <td>14</td>\n",
              "      <td>1000_8</td>\n",
              "    </tr>\n",
              "    <tr>\n",
              "      <td>4</td>\n",
              "      <td>1000</td>\n",
              "      <td>9</td>\n",
              "      <td>15</td>\n",
              "      <td>1000_9</td>\n",
              "    </tr>\n",
              "    <tr>\n",
              "      <td>...</td>\n",
              "      <td>...</td>\n",
              "      <td>...</td>\n",
              "      <td>...</td>\n",
              "      <td>...</td>\n",
              "    </tr>\n",
              "    <tr>\n",
              "      <td>3198</td>\n",
              "      <td>1498</td>\n",
              "      <td>10</td>\n",
              "      <td>21</td>\n",
              "      <td>1498_10</td>\n",
              "    </tr>\n",
              "    <tr>\n",
              "      <td>3199</td>\n",
              "      <td>1499</td>\n",
              "      <td>9</td>\n",
              "      <td>2</td>\n",
              "      <td>1499_9</td>\n",
              "    </tr>\n",
              "    <tr>\n",
              "      <td>3200</td>\n",
              "      <td>1499</td>\n",
              "      <td>10</td>\n",
              "      <td>18</td>\n",
              "      <td>1499_10</td>\n",
              "    </tr>\n",
              "    <tr>\n",
              "      <td>3201</td>\n",
              "      <td>1499</td>\n",
              "      <td>11</td>\n",
              "      <td>18</td>\n",
              "      <td>1499_11</td>\n",
              "    </tr>\n",
              "    <tr>\n",
              "      <td>3202</td>\n",
              "      <td>1499</td>\n",
              "      <td>12</td>\n",
              "      <td>13</td>\n",
              "      <td>1499_12</td>\n",
              "    </tr>\n",
              "  </tbody>\n",
              "</table>\n",
              "<p>3203 rows × 4 columns</p>\n",
              "</div>"
            ],
            "text/plain": [
              "      user_id  month  mb_used_sum       id\n",
              "0        1000      5            3   1000_5\n",
              "1        1000      6           23   1000_6\n",
              "2        1000      7           14   1000_7\n",
              "3        1000      8           14   1000_8\n",
              "4        1000      9           15   1000_9\n",
              "...       ...    ...          ...      ...\n",
              "3198     1498     10           21  1498_10\n",
              "3199     1499      9            2   1499_9\n",
              "3200     1499     10           18  1499_10\n",
              "3201     1499     11           18  1499_11\n",
              "3202     1499     12           13  1499_12\n",
              "\n",
              "[3203 rows x 4 columns]"
            ]
          },
          "execution_count": 31,
          "metadata": {},
          "output_type": "execute_result"
        }
      ],
      "source": [
        "data_internet['id'] = data_internet['user_id'].astype(str) + '_' + data_internet['month'].astype(str)\n",
        "data_internet"
      ]
    },
    {
      "cell_type": "code",
      "execution_count": null,
      "metadata": {
        "id": "ywws0kD2p4IE",
        "outputId": "13bd9887-4358-4c0d-8d3c-60ae357c763d"
      },
      "outputs": [
        {
          "data": {
            "text/html": [
              "<div>\n",
              "<style scoped>\n",
              "    .dataframe tbody tr th:only-of-type {\n",
              "        vertical-align: middle;\n",
              "    }\n",
              "\n",
              "    .dataframe tbody tr th {\n",
              "        vertical-align: top;\n",
              "    }\n",
              "\n",
              "    .dataframe thead th {\n",
              "        text-align: right;\n",
              "    }\n",
              "</style>\n",
              "<table border=\"1\" class=\"dataframe\">\n",
              "  <thead>\n",
              "    <tr style=\"text-align: right;\">\n",
              "      <th></th>\n",
              "      <th>user_id</th>\n",
              "      <th>tariff</th>\n",
              "      <th>month</th>\n",
              "      <th>pay</th>\n",
              "      <th>rub_per_gb</th>\n",
              "      <th>gb_per_month_included</th>\n",
              "      <th>id</th>\n",
              "      <th>duration_sum</th>\n",
              "      <th>messages</th>\n",
              "      <th>mb_used_sum</th>\n",
              "    </tr>\n",
              "  </thead>\n",
              "  <tbody>\n",
              "    <tr>\n",
              "      <td>0</td>\n",
              "      <td>1000</td>\n",
              "      <td>ultra</td>\n",
              "      <td>5</td>\n",
              "      <td>1950.0</td>\n",
              "      <td>150</td>\n",
              "      <td>30</td>\n",
              "      <td>1000_5</td>\n",
              "      <td>159.0</td>\n",
              "      <td>22.0</td>\n",
              "      <td>3.0</td>\n",
              "    </tr>\n",
              "    <tr>\n",
              "      <td>1</td>\n",
              "      <td>1000</td>\n",
              "      <td>ultra</td>\n",
              "      <td>6</td>\n",
              "      <td>1950.0</td>\n",
              "      <td>150</td>\n",
              "      <td>30</td>\n",
              "      <td>1000_6</td>\n",
              "      <td>172.0</td>\n",
              "      <td>60.0</td>\n",
              "      <td>23.0</td>\n",
              "    </tr>\n",
              "    <tr>\n",
              "      <td>2</td>\n",
              "      <td>1000</td>\n",
              "      <td>ultra</td>\n",
              "      <td>7</td>\n",
              "      <td>1950.0</td>\n",
              "      <td>150</td>\n",
              "      <td>30</td>\n",
              "      <td>1000_7</td>\n",
              "      <td>340.0</td>\n",
              "      <td>75.0</td>\n",
              "      <td>14.0</td>\n",
              "    </tr>\n",
              "    <tr>\n",
              "      <td>3</td>\n",
              "      <td>1000</td>\n",
              "      <td>ultra</td>\n",
              "      <td>8</td>\n",
              "      <td>1950.0</td>\n",
              "      <td>150</td>\n",
              "      <td>30</td>\n",
              "      <td>1000_8</td>\n",
              "      <td>408.0</td>\n",
              "      <td>81.0</td>\n",
              "      <td>14.0</td>\n",
              "    </tr>\n",
              "    <tr>\n",
              "      <td>4</td>\n",
              "      <td>1000</td>\n",
              "      <td>ultra</td>\n",
              "      <td>9</td>\n",
              "      <td>1950.0</td>\n",
              "      <td>150</td>\n",
              "      <td>30</td>\n",
              "      <td>1000_9</td>\n",
              "      <td>466.0</td>\n",
              "      <td>57.0</td>\n",
              "      <td>15.0</td>\n",
              "    </tr>\n",
              "    <tr>\n",
              "      <td>...</td>\n",
              "      <td>...</td>\n",
              "      <td>...</td>\n",
              "      <td>...</td>\n",
              "      <td>...</td>\n",
              "      <td>...</td>\n",
              "      <td>...</td>\n",
              "      <td>...</td>\n",
              "      <td>...</td>\n",
              "      <td>...</td>\n",
              "      <td>...</td>\n",
              "    </tr>\n",
              "    <tr>\n",
              "      <td>3211</td>\n",
              "      <td>1498</td>\n",
              "      <td>smart</td>\n",
              "      <td>10</td>\n",
              "      <td>550.0</td>\n",
              "      <td>200</td>\n",
              "      <td>15</td>\n",
              "      <td>1498_10</td>\n",
              "      <td>247.0</td>\n",
              "      <td>42.0</td>\n",
              "      <td>21.0</td>\n",
              "    </tr>\n",
              "    <tr>\n",
              "      <td>3212</td>\n",
              "      <td>1499</td>\n",
              "      <td>smart</td>\n",
              "      <td>9</td>\n",
              "      <td>550.0</td>\n",
              "      <td>200</td>\n",
              "      <td>15</td>\n",
              "      <td>1499_9</td>\n",
              "      <td>70.0</td>\n",
              "      <td>11.0</td>\n",
              "      <td>2.0</td>\n",
              "    </tr>\n",
              "    <tr>\n",
              "      <td>3213</td>\n",
              "      <td>1499</td>\n",
              "      <td>smart</td>\n",
              "      <td>10</td>\n",
              "      <td>550.0</td>\n",
              "      <td>200</td>\n",
              "      <td>15</td>\n",
              "      <td>1499_10</td>\n",
              "      <td>449.0</td>\n",
              "      <td>48.0</td>\n",
              "      <td>18.0</td>\n",
              "    </tr>\n",
              "    <tr>\n",
              "      <td>3214</td>\n",
              "      <td>1499</td>\n",
              "      <td>smart</td>\n",
              "      <td>11</td>\n",
              "      <td>913.0</td>\n",
              "      <td>200</td>\n",
              "      <td>15</td>\n",
              "      <td>1499_11</td>\n",
              "      <td>612.0</td>\n",
              "      <td>59.0</td>\n",
              "      <td>18.0</td>\n",
              "    </tr>\n",
              "    <tr>\n",
              "      <td>3215</td>\n",
              "      <td>1499</td>\n",
              "      <td>smart</td>\n",
              "      <td>12</td>\n",
              "      <td>598.0</td>\n",
              "      <td>200</td>\n",
              "      <td>15</td>\n",
              "      <td>1499_12</td>\n",
              "      <td>492.0</td>\n",
              "      <td>66.0</td>\n",
              "      <td>13.0</td>\n",
              "    </tr>\n",
              "  </tbody>\n",
              "</table>\n",
              "<p>3216 rows × 10 columns</p>\n",
              "</div>"
            ],
            "text/plain": [
              "     user_id tariff month     pay  rub_per_gb  gb_per_month_included       id  \\\n",
              "0       1000  ultra     5  1950.0         150                     30   1000_5   \n",
              "1       1000  ultra     6  1950.0         150                     30   1000_6   \n",
              "2       1000  ultra     7  1950.0         150                     30   1000_7   \n",
              "3       1000  ultra     8  1950.0         150                     30   1000_8   \n",
              "4       1000  ultra     9  1950.0         150                     30   1000_9   \n",
              "...      ...    ...   ...     ...         ...                    ...      ...   \n",
              "3211    1498  smart    10   550.0         200                     15  1498_10   \n",
              "3212    1499  smart     9   550.0         200                     15   1499_9   \n",
              "3213    1499  smart    10   550.0         200                     15  1499_10   \n",
              "3214    1499  smart    11   913.0         200                     15  1499_11   \n",
              "3215    1499  smart    12   598.0         200                     15  1499_12   \n",
              "\n",
              "      duration_sum  messages  mb_used_sum  \n",
              "0            159.0      22.0          3.0  \n",
              "1            172.0      60.0         23.0  \n",
              "2            340.0      75.0         14.0  \n",
              "3            408.0      81.0         14.0  \n",
              "4            466.0      57.0         15.0  \n",
              "...            ...       ...          ...  \n",
              "3211         247.0      42.0         21.0  \n",
              "3212          70.0      11.0          2.0  \n",
              "3213         449.0      48.0         18.0  \n",
              "3214         612.0      59.0         18.0  \n",
              "3215         492.0      66.0         13.0  \n",
              "\n",
              "[3216 rows x 10 columns]"
            ]
          },
          "execution_count": 32,
          "metadata": {},
          "output_type": "execute_result"
        }
      ],
      "source": [
        "data_pay = data_pay.drop(columns = ['rub_per_message', 'messages_included'])\n",
        "\n",
        "data_pay = data_pay.merge(data_internet[['mb_used_sum', 'id']], on = 'id', how='left')\n",
        "\n",
        "data_pay"
      ]
    },
    {
      "cell_type": "code",
      "execution_count": null,
      "metadata": {
        "id": "LD-q_dzjp4IF",
        "outputId": "e3492325-f8a8-4724-ab82-9d74f05119e7"
      },
      "outputs": [
        {
          "data": {
            "text/html": [
              "<div>\n",
              "<style scoped>\n",
              "    .dataframe tbody tr th:only-of-type {\n",
              "        vertical-align: middle;\n",
              "    }\n",
              "\n",
              "    .dataframe tbody tr th {\n",
              "        vertical-align: top;\n",
              "    }\n",
              "\n",
              "    .dataframe thead th {\n",
              "        text-align: right;\n",
              "    }\n",
              "</style>\n",
              "<table border=\"1\" class=\"dataframe\">\n",
              "  <thead>\n",
              "    <tr style=\"text-align: right;\">\n",
              "      <th></th>\n",
              "      <th>user_id</th>\n",
              "      <th>tariff</th>\n",
              "      <th>month</th>\n",
              "      <th>pay</th>\n",
              "      <th>rub_per_gb</th>\n",
              "      <th>gb_per_month_included</th>\n",
              "      <th>id</th>\n",
              "      <th>duration_sum</th>\n",
              "      <th>messages</th>\n",
              "      <th>mb_used_sum</th>\n",
              "    </tr>\n",
              "  </thead>\n",
              "  <tbody>\n",
              "    <tr>\n",
              "      <td>0</td>\n",
              "      <td>1000</td>\n",
              "      <td>ultra</td>\n",
              "      <td>5</td>\n",
              "      <td>1950.0</td>\n",
              "      <td>150</td>\n",
              "      <td>30</td>\n",
              "      <td>1000_5</td>\n",
              "      <td>159.0</td>\n",
              "      <td>22.0</td>\n",
              "      <td>3.0</td>\n",
              "    </tr>\n",
              "    <tr>\n",
              "      <td>1</td>\n",
              "      <td>1000</td>\n",
              "      <td>ultra</td>\n",
              "      <td>6</td>\n",
              "      <td>1950.0</td>\n",
              "      <td>150</td>\n",
              "      <td>30</td>\n",
              "      <td>1000_6</td>\n",
              "      <td>172.0</td>\n",
              "      <td>60.0</td>\n",
              "      <td>23.0</td>\n",
              "    </tr>\n",
              "    <tr>\n",
              "      <td>2</td>\n",
              "      <td>1000</td>\n",
              "      <td>ultra</td>\n",
              "      <td>7</td>\n",
              "      <td>1950.0</td>\n",
              "      <td>150</td>\n",
              "      <td>30</td>\n",
              "      <td>1000_7</td>\n",
              "      <td>340.0</td>\n",
              "      <td>75.0</td>\n",
              "      <td>14.0</td>\n",
              "    </tr>\n",
              "    <tr>\n",
              "      <td>3</td>\n",
              "      <td>1000</td>\n",
              "      <td>ultra</td>\n",
              "      <td>8</td>\n",
              "      <td>1950.0</td>\n",
              "      <td>150</td>\n",
              "      <td>30</td>\n",
              "      <td>1000_8</td>\n",
              "      <td>408.0</td>\n",
              "      <td>81.0</td>\n",
              "      <td>14.0</td>\n",
              "    </tr>\n",
              "    <tr>\n",
              "      <td>4</td>\n",
              "      <td>1000</td>\n",
              "      <td>ultra</td>\n",
              "      <td>9</td>\n",
              "      <td>1950.0</td>\n",
              "      <td>150</td>\n",
              "      <td>30</td>\n",
              "      <td>1000_9</td>\n",
              "      <td>466.0</td>\n",
              "      <td>57.0</td>\n",
              "      <td>15.0</td>\n",
              "    </tr>\n",
              "    <tr>\n",
              "      <td>...</td>\n",
              "      <td>...</td>\n",
              "      <td>...</td>\n",
              "      <td>...</td>\n",
              "      <td>...</td>\n",
              "      <td>...</td>\n",
              "      <td>...</td>\n",
              "      <td>...</td>\n",
              "      <td>...</td>\n",
              "      <td>...</td>\n",
              "      <td>...</td>\n",
              "    </tr>\n",
              "    <tr>\n",
              "      <td>3211</td>\n",
              "      <td>1498</td>\n",
              "      <td>smart</td>\n",
              "      <td>10</td>\n",
              "      <td>1750.0</td>\n",
              "      <td>200</td>\n",
              "      <td>15</td>\n",
              "      <td>1498_10</td>\n",
              "      <td>247.0</td>\n",
              "      <td>42.0</td>\n",
              "      <td>21.0</td>\n",
              "    </tr>\n",
              "    <tr>\n",
              "      <td>3212</td>\n",
              "      <td>1499</td>\n",
              "      <td>smart</td>\n",
              "      <td>9</td>\n",
              "      <td>550.0</td>\n",
              "      <td>200</td>\n",
              "      <td>15</td>\n",
              "      <td>1499_9</td>\n",
              "      <td>70.0</td>\n",
              "      <td>11.0</td>\n",
              "      <td>2.0</td>\n",
              "    </tr>\n",
              "    <tr>\n",
              "      <td>3213</td>\n",
              "      <td>1499</td>\n",
              "      <td>smart</td>\n",
              "      <td>10</td>\n",
              "      <td>1150.0</td>\n",
              "      <td>200</td>\n",
              "      <td>15</td>\n",
              "      <td>1499_10</td>\n",
              "      <td>449.0</td>\n",
              "      <td>48.0</td>\n",
              "      <td>18.0</td>\n",
              "    </tr>\n",
              "    <tr>\n",
              "      <td>3214</td>\n",
              "      <td>1499</td>\n",
              "      <td>smart</td>\n",
              "      <td>11</td>\n",
              "      <td>1513.0</td>\n",
              "      <td>200</td>\n",
              "      <td>15</td>\n",
              "      <td>1499_11</td>\n",
              "      <td>612.0</td>\n",
              "      <td>59.0</td>\n",
              "      <td>18.0</td>\n",
              "    </tr>\n",
              "    <tr>\n",
              "      <td>3215</td>\n",
              "      <td>1499</td>\n",
              "      <td>smart</td>\n",
              "      <td>12</td>\n",
              "      <td>598.0</td>\n",
              "      <td>200</td>\n",
              "      <td>15</td>\n",
              "      <td>1499_12</td>\n",
              "      <td>492.0</td>\n",
              "      <td>66.0</td>\n",
              "      <td>13.0</td>\n",
              "    </tr>\n",
              "  </tbody>\n",
              "</table>\n",
              "<p>3216 rows × 10 columns</p>\n",
              "</div>"
            ],
            "text/plain": [
              "     user_id tariff month     pay  rub_per_gb  gb_per_month_included       id  \\\n",
              "0       1000  ultra     5  1950.0         150                     30   1000_5   \n",
              "1       1000  ultra     6  1950.0         150                     30   1000_6   \n",
              "2       1000  ultra     7  1950.0         150                     30   1000_7   \n",
              "3       1000  ultra     8  1950.0         150                     30   1000_8   \n",
              "4       1000  ultra     9  1950.0         150                     30   1000_9   \n",
              "...      ...    ...   ...     ...         ...                    ...      ...   \n",
              "3211    1498  smart    10  1750.0         200                     15  1498_10   \n",
              "3212    1499  smart     9   550.0         200                     15   1499_9   \n",
              "3213    1499  smart    10  1150.0         200                     15  1499_10   \n",
              "3214    1499  smart    11  1513.0         200                     15  1499_11   \n",
              "3215    1499  smart    12   598.0         200                     15  1499_12   \n",
              "\n",
              "      duration_sum  messages  mb_used_sum  \n",
              "0            159.0      22.0          3.0  \n",
              "1            172.0      60.0         23.0  \n",
              "2            340.0      75.0         14.0  \n",
              "3            408.0      81.0         14.0  \n",
              "4            466.0      57.0         15.0  \n",
              "...            ...       ...          ...  \n",
              "3211         247.0      42.0         21.0  \n",
              "3212          70.0      11.0          2.0  \n",
              "3213         449.0      48.0         18.0  \n",
              "3214         612.0      59.0         18.0  \n",
              "3215         492.0      66.0         13.0  \n",
              "\n",
              "[3216 rows x 10 columns]"
            ]
          },
          "execution_count": 33,
          "metadata": {},
          "output_type": "execute_result"
        }
      ],
      "source": [
        "data_pay.loc[data_pay.loc[:, 'gb_per_month_included'] < data_pay.loc[:, 'mb_used_sum'], 'pay'] = \\\n",
        "    data_pay['pay'] + \\\n",
        "    (data_pay[data_pay['gb_per_month_included'] < data_pay['mb_used_sum']]['mb_used_sum'] - \\\n",
        "    data_pay[data_pay['gb_per_month_included'] < data_pay['mb_used_sum']]['gb_per_month_included'])* \\\n",
        "    data_pay[data_pay['gb_per_month_included'] < data_pay['mb_used_sum']]['rub_per_gb']    \n",
        "\n",
        "    \n",
        "data_pay"
      ]
    },
    {
      "cell_type": "code",
      "execution_count": null,
      "metadata": {
        "id": "Zx6ktTJvp4IF",
        "outputId": "0756b135-6216-4362-cb7d-172407d72f58"
      },
      "outputs": [
        {
          "data": {
            "text/html": [
              "<div>\n",
              "<style scoped>\n",
              "    .dataframe tbody tr th:only-of-type {\n",
              "        vertical-align: middle;\n",
              "    }\n",
              "\n",
              "    .dataframe tbody tr th {\n",
              "        vertical-align: top;\n",
              "    }\n",
              "\n",
              "    .dataframe thead th {\n",
              "        text-align: right;\n",
              "    }\n",
              "</style>\n",
              "<table border=\"1\" class=\"dataframe\">\n",
              "  <thead>\n",
              "    <tr style=\"text-align: right;\">\n",
              "      <th></th>\n",
              "      <th>user_id</th>\n",
              "      <th>tariff</th>\n",
              "      <th>month</th>\n",
              "      <th>pay</th>\n",
              "      <th>id</th>\n",
              "      <th>duration_sum</th>\n",
              "      <th>messages</th>\n",
              "      <th>mb_used_sum</th>\n",
              "    </tr>\n",
              "  </thead>\n",
              "  <tbody>\n",
              "    <tr>\n",
              "      <td>0</td>\n",
              "      <td>1000</td>\n",
              "      <td>ultra</td>\n",
              "      <td>5</td>\n",
              "      <td>1950.0</td>\n",
              "      <td>1000_5</td>\n",
              "      <td>159.0</td>\n",
              "      <td>22.0</td>\n",
              "      <td>3.0</td>\n",
              "    </tr>\n",
              "    <tr>\n",
              "      <td>1</td>\n",
              "      <td>1000</td>\n",
              "      <td>ultra</td>\n",
              "      <td>6</td>\n",
              "      <td>1950.0</td>\n",
              "      <td>1000_6</td>\n",
              "      <td>172.0</td>\n",
              "      <td>60.0</td>\n",
              "      <td>23.0</td>\n",
              "    </tr>\n",
              "    <tr>\n",
              "      <td>2</td>\n",
              "      <td>1000</td>\n",
              "      <td>ultra</td>\n",
              "      <td>7</td>\n",
              "      <td>1950.0</td>\n",
              "      <td>1000_7</td>\n",
              "      <td>340.0</td>\n",
              "      <td>75.0</td>\n",
              "      <td>14.0</td>\n",
              "    </tr>\n",
              "    <tr>\n",
              "      <td>3</td>\n",
              "      <td>1000</td>\n",
              "      <td>ultra</td>\n",
              "      <td>8</td>\n",
              "      <td>1950.0</td>\n",
              "      <td>1000_8</td>\n",
              "      <td>408.0</td>\n",
              "      <td>81.0</td>\n",
              "      <td>14.0</td>\n",
              "    </tr>\n",
              "    <tr>\n",
              "      <td>4</td>\n",
              "      <td>1000</td>\n",
              "      <td>ultra</td>\n",
              "      <td>9</td>\n",
              "      <td>1950.0</td>\n",
              "      <td>1000_9</td>\n",
              "      <td>466.0</td>\n",
              "      <td>57.0</td>\n",
              "      <td>15.0</td>\n",
              "    </tr>\n",
              "    <tr>\n",
              "      <td>...</td>\n",
              "      <td>...</td>\n",
              "      <td>...</td>\n",
              "      <td>...</td>\n",
              "      <td>...</td>\n",
              "      <td>...</td>\n",
              "      <td>...</td>\n",
              "      <td>...</td>\n",
              "      <td>...</td>\n",
              "    </tr>\n",
              "    <tr>\n",
              "      <td>3211</td>\n",
              "      <td>1498</td>\n",
              "      <td>smart</td>\n",
              "      <td>10</td>\n",
              "      <td>1750.0</td>\n",
              "      <td>1498_10</td>\n",
              "      <td>247.0</td>\n",
              "      <td>42.0</td>\n",
              "      <td>21.0</td>\n",
              "    </tr>\n",
              "    <tr>\n",
              "      <td>3212</td>\n",
              "      <td>1499</td>\n",
              "      <td>smart</td>\n",
              "      <td>9</td>\n",
              "      <td>550.0</td>\n",
              "      <td>1499_9</td>\n",
              "      <td>70.0</td>\n",
              "      <td>11.0</td>\n",
              "      <td>2.0</td>\n",
              "    </tr>\n",
              "    <tr>\n",
              "      <td>3213</td>\n",
              "      <td>1499</td>\n",
              "      <td>smart</td>\n",
              "      <td>10</td>\n",
              "      <td>1150.0</td>\n",
              "      <td>1499_10</td>\n",
              "      <td>449.0</td>\n",
              "      <td>48.0</td>\n",
              "      <td>18.0</td>\n",
              "    </tr>\n",
              "    <tr>\n",
              "      <td>3214</td>\n",
              "      <td>1499</td>\n",
              "      <td>smart</td>\n",
              "      <td>11</td>\n",
              "      <td>1513.0</td>\n",
              "      <td>1499_11</td>\n",
              "      <td>612.0</td>\n",
              "      <td>59.0</td>\n",
              "      <td>18.0</td>\n",
              "    </tr>\n",
              "    <tr>\n",
              "      <td>3215</td>\n",
              "      <td>1499</td>\n",
              "      <td>smart</td>\n",
              "      <td>12</td>\n",
              "      <td>598.0</td>\n",
              "      <td>1499_12</td>\n",
              "      <td>492.0</td>\n",
              "      <td>66.0</td>\n",
              "      <td>13.0</td>\n",
              "    </tr>\n",
              "  </tbody>\n",
              "</table>\n",
              "<p>3216 rows × 8 columns</p>\n",
              "</div>"
            ],
            "text/plain": [
              "     user_id tariff month     pay       id  duration_sum  messages  \\\n",
              "0       1000  ultra     5  1950.0   1000_5         159.0      22.0   \n",
              "1       1000  ultra     6  1950.0   1000_6         172.0      60.0   \n",
              "2       1000  ultra     7  1950.0   1000_7         340.0      75.0   \n",
              "3       1000  ultra     8  1950.0   1000_8         408.0      81.0   \n",
              "4       1000  ultra     9  1950.0   1000_9         466.0      57.0   \n",
              "...      ...    ...   ...     ...      ...           ...       ...   \n",
              "3211    1498  smart    10  1750.0  1498_10         247.0      42.0   \n",
              "3212    1499  smart     9   550.0   1499_9          70.0      11.0   \n",
              "3213    1499  smart    10  1150.0  1499_10         449.0      48.0   \n",
              "3214    1499  smart    11  1513.0  1499_11         612.0      59.0   \n",
              "3215    1499  smart    12   598.0  1499_12         492.0      66.0   \n",
              "\n",
              "      mb_used_sum  \n",
              "0             3.0  \n",
              "1            23.0  \n",
              "2            14.0  \n",
              "3            14.0  \n",
              "4            15.0  \n",
              "...           ...  \n",
              "3211         21.0  \n",
              "3212          2.0  \n",
              "3213         18.0  \n",
              "3214         18.0  \n",
              "3215         13.0  \n",
              "\n",
              "[3216 rows x 8 columns]"
            ]
          },
          "execution_count": 34,
          "metadata": {},
          "output_type": "execute_result"
        }
      ],
      "source": [
        "data_pay = data_pay.drop(columns = ['gb_per_month_included', 'rub_per_gb'])\n",
        "\n",
        "data_pay"
      ]
    },
    {
      "cell_type": "markdown",
      "metadata": {
        "id": "4zWjI7znp4IF"
      },
      "source": [
        "Таблица с ежемесячными доходами от каждого пользователя готова. Можно приступать к анализу данных."
      ]
    },
    {
      "cell_type": "markdown",
      "metadata": {
        "id": "fmwWTkW2p4IH"
      },
      "source": [
        "## Шаг 3. Анализ данных.\n",
        "\n",
        "Оценим поведение клиентов исходя из найденых данных. \n",
        "Для каждого тарифа по каждому клиенту найдем средние показатели потраченых минут, сообщений, интернет трафика и среднюю плату за услеги связи. Узнаем их дисперсию и стандартное отклонение, а также построим гистограмму и наглядно оценим происодящее.\n",
        "\n",
        "Для начала возьмем количество потраченых минут для пользователей на разных тарифах."
      ]
    },
    {
      "cell_type": "code",
      "execution_count": null,
      "metadata": {
        "id": "qwMHpGxUp4IH",
        "outputId": "d1e23fb6-619b-46c9-f942-ae91063fbaa5"
      },
      "outputs": [
        {
          "name": "stdout",
          "output_type": "stream",
          "text": [
            " \n",
            "Звонки\n",
            " \n",
            "Смарт\n",
            "Дисперсия: 35844.0\n",
            "Стандартное отклонение: 189.0\n",
            "Среднее: 419.0\n",
            " \n",
            "Ультра\n",
            "Дисперсия: 94203.0\n",
            "Стандартное отклонение: 307.0\n",
            "Среднее: 545.0\n"
          ]
        },
        {
          "data": {
            "text/plain": [
              "<matplotlib.legend.Legend at 0x7f6f59634210>"
            ]
          },
          "execution_count": 39,
          "metadata": {},
          "output_type": "execute_result"
        },
        {
          "data": {
            "image/png": "[encoded data removed]",
            "text/plain": [
              "<Figure size 1080x360 with 1 Axes>"
            ]
          },
          "metadata": {
            "needs_background": "light"
          },
          "output_type": "display_data"
        }
      ],
      "source": [
        "fig, ax = plt.subplots() ##################\n",
        "\n",
        "smart_call = data_pay[['user_id', 'tariff', 'month', 'duration_sum']]\n",
        "smart_call = smart_call[smart_call['tariff'] =='smart'].reset_index(drop=True)\n",
        "\n",
        "ultra_call = data_pay[['user_id', 'tariff', 'month', 'duration_sum']]\n",
        "ultra_call = ultra_call[ultra_call['tariff'] =='ultra'].reset_index(drop=True)\n",
        "\n",
        "print(' ')\n",
        "print('Звонки')\n",
        "print(' ')\n",
        "print('Смарт')\n",
        "smart_call['duration_sum'].hist(bins=40, label='Смарт', figsize=(15,5))\n",
        "smart_call_variance = np.var(smart_call['duration_sum'],ddof=1)\n",
        "print('Дисперсия:',smart_call_variance.round())\n",
        "smart_call_std = np.std(smart_call['duration_sum'],ddof=1)\n",
        "print('Стандартное отклонение:',smart_call_std.round())\n",
        "smart_call_mean = smart_call['duration_sum'].mean()\n",
        "print('Среднее:',smart_call_mean.round())\n",
        "\n",
        "print(' ')\n",
        "print('Ультра')\n",
        "ultra_call['duration_sum'].hist(bins=40, alpha=0.75, label='Ультра')\n",
        "ultra_call_variance = np.var(ultra_call['duration_sum'],ddof=1)\n",
        "print('Дисперсия:',ultra_call_variance.round())\n",
        "ultra_call_std = np.std(ultra_call['duration_sum'],ddof=1)\n",
        "print('Стандартное отклонение:',ultra_call_std.round())\n",
        "ultra_call_mean = ultra_call['duration_sum'].mean()\n",
        "print('Среднее:',ultra_call_mean.round())\n",
        "\n",
        "plt.axvline(ultra_call_mean, color='red', linestyle='--', label='Среднее Ультра')\n",
        "plt.axvline(smart_call_mean, color='blue', linestyle='--', label='Среднее Смарт')\n",
        "\n",
        "plt.axvline(500, color='yellow', label='Минуты включенные в тариф Смарт')\n",
        "plt.axvline(3000, color='green', label='Минуты включенные в тариф Ультра')\n",
        "\n",
        "\n",
        "fig.legend() ##################"
      ]
    },
    {
      "cell_type": "markdown",
      "metadata": {
        "id": "cmWQFGZJp4IH"
      },
      "source": [
        "Зеленая граница - количество минут включенное в тариф Ультра. Мы наглядно видим, что все распределение заканчивается далеко от этой границы. Пользователи даже близко не расходуют весь объем квлюченных минут.\n",
        "Чтобы раглядеть график подробнее откажемся от изображения этой границы. Главные выводы о ней мы уже сделали."
      ]
    },
    {
      "cell_type": "code",
      "execution_count": null,
      "metadata": {
        "id": "J2J63BX0p4IH",
        "outputId": "fab4e77f-61a6-43f2-cf07-7fc63268762c"
      },
      "outputs": [
        {
          "data": {
            "text/plain": [
              "<matplotlib.legend.Legend at 0x7f6f59554c10>"
            ]
          },
          "execution_count": 40,
          "metadata": {},
          "output_type": "execute_result"
        },
        {
          "data": {
            "image/png": "[encoded data removed]",
            "text/plain": [
              "<Figure size 1080x360 with 1 Axes>"
            ]
          },
          "metadata": {
            "needs_background": "light"
          },
          "output_type": "display_data"
        }
      ],
      "source": [
        "fig, ax = plt.subplots() ##################\n",
        "\n",
        "smart_call['duration_sum'].hist(bins=40, label='Смарт', figsize=(15,5))\n",
        "ultra_call['duration_sum'].hist(bins=40, alpha=0.75, label='Ультра')\n",
        "\n",
        "plt.axvline(ultra_call_mean, color='red', linestyle='--', label='Среднее Ультра')\n",
        "plt.axvline(smart_call_mean, color='blue', linestyle='--', label='Среднее Смарт')\n",
        "\n",
        "plt.axvline(500, color='yellow', label='Минуты включенные в тариф Смарт')\n",
        "\n",
        "fig.legend() ##################"
      ]
    },
    {
      "cell_type": "markdown",
      "metadata": {
        "id": "sBrz7lxkp4II"
      },
      "source": [
        "На графике мы видим 2 гистограммы. Синяя по тарифу Смарт, оранжевая - Ультра.\n",
        "Оба распределены нормально, на сколько это возможно при столь небольшой выборке. \n",
        "\n",
        "Гистограмма тарифа Ультра более пологая, растянутая по оси Х, имеет большую дисперсию и большее стандартное отклонение, что говорит о том, что значения достаточно широко раскинуты относительно среднего в 516 минут в месяц.\n",
        "\n",
        "Кроме того, на предыдущем графике мы видели, что граница включенных в тариф минут лежит далеко от распределения выборки, то есть с уверенностью можно сказать, что пользователи тарифа Ультра никогда не доплачивают за дополнительные минуты, более того, они и влюченные минуты никогда не используют.\n",
        "\n",
        "Расчитаем величину в 3 Сигмы, чтобы понять оптимальную границу включенных минут для пользователей тарифа Ультра:"
      ]
    },
    {
      "cell_type": "code",
      "execution_count": null,
      "metadata": {
        "id": "g38mzZd8p4II",
        "outputId": "1c5e996a-60c8-48a5-8913-a7ed89101543"
      },
      "outputs": [
        {
          "data": {
            "text/plain": [
              "1466.0"
            ]
          },
          "execution_count": 41,
          "metadata": {},
          "output_type": "execute_result"
        }
      ],
      "source": [
        "(ultra_call_mean + ultra_call_std*3).round()"
      ]
    },
    {
      "cell_type": "markdown",
      "metadata": {
        "id": "t5NC-rdQp4II"
      },
      "source": [
        "Если бы в тарифе Ультра было включено 1466 минут, то пользователи не переплачивали бы за лишние минуты разговора.  \n",
        "Выходит, что для пользователя выгодно выбирать тариф с границей включенных данный (минут, смс, гб) относительно 3 сигм. А для оператора что выгодно?\n",
        "\n",
        "Гистограмма тарифа Смарт более крутая, что говорит о том, что данные ближе расположены относительно среднего, все пользователи имеют близкое количество минут разговора.\n",
        "Однако, мы видим, что граница включеных минут проходит не далеко от среднего, а значит немногим меньше половины пользователей ежемесячно доплачивают за дополнительные минуты разговора. Что с точки зрения оператора, конечно, на руку.\n",
        "Выходит, что для оператора выгодно, чтобы граница включенныого пакета данных проходила по среднему значению.\n",
        "\n",
        "\n",
        "\n",
        "Теперь оценим количество сообщений потраченых пользователями в каждом из тарифов."
      ]
    },
    {
      "cell_type": "code",
      "execution_count": null,
      "metadata": {
        "id": "0W_XFY3np4II",
        "outputId": "1e415389-4e7f-4dd9-da0e-8e01adcd4cd1"
      },
      "outputs": [
        {
          "name": "stdout",
          "output_type": "stream",
          "text": [
            " \n",
            "Сообщения\n",
            " \n",
            "Смарт\n",
            "Дисперсия: 718.0\n",
            "Стандартное отклонение: 27.0\n",
            "Среднее: 39.0\n",
            " \n",
            "Ультра\n",
            "Дисперсия: 2110.0\n",
            "Стандартное отклонение: 46.0\n",
            "Среднее: 61.0\n"
          ]
        },
        {
          "data": {
            "text/plain": [
              "<matplotlib.legend.Legend at 0x7f6f50f89b90>"
            ]
          },
          "execution_count": 42,
          "metadata": {},
          "output_type": "execute_result"
        },
        {
          "data": {
            "image/png": "[encoded data removed]",
            "text/plain": [
              "<Figure size 1080x360 with 1 Axes>"
            ]
          },
          "metadata": {
            "needs_background": "light"
          },
          "output_type": "display_data"
        }
      ],
      "source": [
        "fig, ax = plt.subplots() ##################\n",
        "\n",
        "smart_messages = data_pay[['user_id', 'tariff', 'month', 'messages']]\n",
        "smart_messages = smart_messages[smart_messages['tariff'] =='smart'].reset_index(drop=True)\n",
        "\n",
        "ultra_messages = data_pay[['user_id', 'tariff', 'month', 'messages']]\n",
        "ultra_messages = ultra_messages[ultra_messages['tariff'] =='ultra'].reset_index(drop=True)\n",
        "\n",
        "print(' ')\n",
        "print('Сообщения')\n",
        "print(' ')\n",
        "print('Смарт')\n",
        "smart_messages['messages'].hist(bins=40, label='Смарт', figsize=(15,5))\n",
        "smart_messages_variance = np.var(smart_messages['messages'],ddof=1)\n",
        "print('Дисперсия:',smart_messages_variance.round())\n",
        "smart_messages_std = np.std(smart_messages['messages'],ddof=1)\n",
        "print('Стандартное отклонение:',smart_messages_std.round())\n",
        "smart_messages_mean = smart_messages['messages'].mean()\n",
        "print('Среднее:',smart_messages_mean.round())\n",
        "\n",
        "print(' ')\n",
        "print('Ультра')\n",
        "ultra_messages['messages'].hist(bins=40, alpha=0.75, label='Ультра')\n",
        "ultra_messages_variance = np.var(ultra_messages['messages'],ddof=1)\n",
        "print('Дисперсия:',ultra_messages_variance.round())\n",
        "ultra_messages_std = np.std(ultra_messages['messages'],ddof=1)\n",
        "print('Стандартное отклонение:',ultra_messages_std.round())\n",
        "ultra_messages_mean = ultra_messages['messages'].mean()\n",
        "print('Среднее:',ultra_messages_mean.round())\n",
        "\n",
        "plt.axvline(ultra_messages_mean, color='red', linestyle='--', label='Среднее Ультра')\n",
        "plt.axvline(smart_messages_mean, color='blue', linestyle='--', label='Среднее Смарт')\n",
        "\n",
        "plt.axvline(50, color='yellow', label='Смс включенные в тариф Смарт')\n",
        "plt.axvline(1000, color='green', label='Смс включенные в тариф Ультра')\n",
        "\n",
        "\n",
        "fig.legend() ##################"
      ]
    },
    {
      "cell_type": "markdown",
      "metadata": {
        "id": "6zx_QXywp4II"
      },
      "source": [
        "Аналогично с минутами, видим что и для сообщений граница включенных в пакет тарифа Ультра лежит очень далеко от распределения.\n",
        "Откажемся от ее изображения, чтобы лучше рассмотреть график."
      ]
    },
    {
      "cell_type": "code",
      "execution_count": null,
      "metadata": {
        "id": "yYCXSgryp4II",
        "outputId": "22a627e3-2f57-4b4d-9796-79b3d1c58228"
      },
      "outputs": [
        {
          "data": {
            "text/plain": [
              "<matplotlib.legend.Legend at 0x7f6f5a7cec10>"
            ]
          },
          "execution_count": 43,
          "metadata": {},
          "output_type": "execute_result"
        },
        {
          "data": {
            "image/png": "[encoded data removed]",
            "text/plain": [
              "<Figure size 1080x360 with 1 Axes>"
            ]
          },
          "metadata": {
            "needs_background": "light"
          },
          "output_type": "display_data"
        }
      ],
      "source": [
        "fig, ax = plt.subplots() ##################\n",
        "\n",
        "smart_messages['messages'].hist(bins=40, label='Смарт', figsize=(15,5))\n",
        "ultra_messages['messages'].hist(bins=40, alpha=0.75, label='Ультра')\n",
        "plt.axvline(ultra_messages_mean, color='red', linestyle='--', label='Среднее Ультра')\n",
        "plt.axvline(smart_messages_mean, color='blue', linestyle='--', label='Среднее Смарт')\n",
        "\n",
        "plt.axvline(50, color='yellow', label='Смс включенные в тариф Смарт')\n",
        "\n",
        "fig.legend() ##################"
      ]
    },
    {
      "cell_type": "markdown",
      "metadata": {
        "id": "pebVoqdMp4IJ"
      },
      "source": [
        "На графиках видно, что оба они скошенные, то есть распределены не нормально. Оба скошены вправо, то есть распределения с положительной скошенностью.Это означает, что для данных распределений медиана будет меньше стреднего.  \n",
        "О чем все это нам говорит в контекте данного исследования?  \n",
        "О том, что пользователи в целом практически не пользуются смс, все сидят в мессаджерах, и включая большой пакет смс оператор повышает цену, а пользователь им практически не пользуется.\n",
        "\n",
        "Однако, стоит заметить, что в тарифе Смарт все-таки достаточное количество клиентов превышает допустимое количество квлюченных сообщений и доплачивает за дополнительные сообщения. В тарифе Ультра, конечно, такого не происходит, слишком велика граница.\n",
        "\n",
        "\n",
        "\n",
        "Посмотрим такие же данные по расходу интернет трафика."
      ]
    },
    {
      "cell_type": "code",
      "execution_count": null,
      "metadata": {
        "id": "F3PVRpGxp4IJ",
        "outputId": "f0d220bf-d13c-4a8d-edc8-cebc582c04ba"
      },
      "outputs": [
        {
          "name": "stdout",
          "output_type": "stream",
          "text": [
            " \n",
            "Интернет трафик\n",
            " \n",
            "Смарт\n",
            "Дисперсия: 33.0\n",
            "Стандартное отклонение: 6.0\n",
            "Среднее: 16.0\n",
            " \n",
            "Ультра\n",
            "Дисперсия: 94.0\n",
            "Стандартное отклонение: 10.0\n",
            "Среднее: 20.0\n"
          ]
        },
        {
          "data": {
            "text/plain": [
              "<matplotlib.legend.Legend at 0x7f6f5ae698d0>"
            ]
          },
          "execution_count": 44,
          "metadata": {},
          "output_type": "execute_result"
        },
        {
          "data": {
            "image/png": "[encoded data removed]",
            "text/plain": [
              "<Figure size 1080x360 with 1 Axes>"
            ]
          },
          "metadata": {
            "needs_background": "light"
          },
          "output_type": "display_data"
        }
      ],
      "source": [
        "fig, ax = plt.subplots() ##################\n",
        "\n",
        "smart_internet = data_pay[['user_id', 'tariff', 'month', 'mb_used_sum']]\n",
        "smart_internet = smart_internet[smart_internet['tariff'] =='smart'].reset_index(drop=True)\n",
        "\n",
        "ultra_internet = data_pay[['user_id', 'tariff', 'month', 'mb_used_sum']]\n",
        "ultra_internet = ultra_internet[ultra_internet['tariff'] =='ultra'].reset_index(drop=True)\n",
        "\n",
        "print(' ')\n",
        "print('Интернет трафик')\n",
        "print(' ')\n",
        "print('Смарт')\n",
        "smart_internet['mb_used_sum'].hist(bins=40, label='Смарт', figsize=(15,5))\n",
        "smart_internet_variance = np.var(smart_internet['mb_used_sum'],ddof=1)\n",
        "print('Дисперсия:',smart_internet_variance.round())\n",
        "smart_internet_std = np.std(smart_internet['mb_used_sum'],ddof=1)\n",
        "print('Стандартное отклонение:',smart_internet_std.round())\n",
        "smart_internet_mean = smart_internet['mb_used_sum'].mean()\n",
        "print('Среднее:',smart_internet_mean.round())\n",
        "\n",
        "print(' ')\n",
        "print('Ультра')\n",
        "ultra_internet['mb_used_sum'].hist(bins=40, alpha=0.75, label='Ультра')\n",
        "ultra_internet_variance = np.var(ultra_internet['mb_used_sum'],ddof=1)\n",
        "print('Дисперсия:',ultra_internet_variance.round())\n",
        "ultra_internet_std = np.std(ultra_internet['mb_used_sum'],ddof=1)\n",
        "print('Стандартное отклонение:',ultra_internet_std.round())\n",
        "ultra_internet_mean = ultra_internet['mb_used_sum'].mean()\n",
        "print('Среднее:',ultra_internet_mean.round())\n",
        "\n",
        "plt.axvline(ultra_internet_mean, color='red', linestyle='--', label='Среднее Ультра')\n",
        "plt.axvline(smart_internet_mean, color='blue', linestyle='--', label='Среднее Смарт')\n",
        "\n",
        "plt.axvline(15, color='yellow', label='ГБ включенные в тариф Смарт')\n",
        "plt.axvline(30, color='green', label='ГБ включенные в тариф Ультра')\n",
        "\n",
        "\n",
        "fig.legend() ##################"
      ]
    },
    {
      "cell_type": "markdown",
      "metadata": {
        "id": "y2AXveZBp4IJ"
      },
      "source": [
        "Графики данных по интернет графику обоих тарифов распределены нормально, гистограмма тарифа Ультра снова более пологая, а Смарт - более крутой.\n",
        "Для тарифа Смарт граница включенных в тариф гигабайт даже ниже, чем среднее. На тарифе Ультра пользователи также выходят за границу. Интернета пользователям явно мало, но при этом они охотно доплачивают за него и не переходят на тариф включающий в себя больший пакет.\n",
        "\n",
        "\n",
        "И наконец оценим самое главное - выручку с клиентов по каждому из тарифов."
      ]
    },
    {
      "cell_type": "code",
      "execution_count": null,
      "metadata": {
        "id": "L6fXWoHjp4IJ",
        "outputId": "1271f175-a681-40a7-d05b-c947b08aabfb"
      },
      "outputs": [
        {
          "name": "stdout",
          "output_type": "stream",
          "text": [
            " \n",
            "Выручка\n",
            " \n",
            "Смарт\n",
            "Дисперсия: 669731.0\n",
            "Стандартное отклонение: 818.0\n",
            "Среднее: 1290.0\n",
            " \n",
            "Ультра\n",
            "Дисперсия: 141388.0\n",
            "Стандартное отклонение: 376.0\n",
            "Среднее: 2070.0\n"
          ]
        },
        {
          "data": {
            "text/plain": [
              "<matplotlib.legend.Legend at 0x7f6f50e03a50>"
            ]
          },
          "execution_count": 45,
          "metadata": {},
          "output_type": "execute_result"
        },
        {
          "data": {
            "image/png": "[encoded data removed]",
            "text/plain": [
              "<Figure size 1080x360 with 1 Axes>"
            ]
          },
          "metadata": {
            "needs_background": "light"
          },
          "output_type": "display_data"
        }
      ],
      "source": [
        "fig, ax = plt.subplots() ##################\n",
        "\n",
        "smart_payment = data_pay[['user_id', 'tariff', 'month', 'pay']]\n",
        "smart_payment = smart_payment[smart_payment['tariff'] =='smart'].reset_index(drop=True)\n",
        "\n",
        "ultra_payment = data_pay[['user_id', 'tariff', 'month', 'pay']]\n",
        "ultra_payment = ultra_payment[ultra_payment['tariff'] =='ultra'].reset_index(drop=True)\n",
        "\n",
        "print(' ')\n",
        "print('Выручка')\n",
        "print(' ')\n",
        "print('Смарт')\n",
        "smart_payment['pay'].hist(bins=40, label='Смарт', figsize=(15,5))\n",
        "smart_payment_variance = np.var(smart_payment['pay'],ddof=1)\n",
        "print('Дисперсия:',smart_payment_variance.round())\n",
        "smart_payment_std = np.std(smart_payment['pay'],ddof=1)\n",
        "print('Стандартное отклонение:',smart_payment_std.round())\n",
        "smart_payment_mean = smart_payment['pay'].mean()\n",
        "print('Среднее:',smart_payment_mean.round())\n",
        "\n",
        "print(' ')\n",
        "print('Ультра')\n",
        "ultra_payment['pay'].hist(bins=40, alpha=0.75, label='Ультра')\n",
        "ultra_payment_variance = np.var(ultra_payment['pay'],ddof=1)\n",
        "print('Дисперсия:',ultra_payment_variance.round())\n",
        "ultra_payment_std = np.std(ultra_payment['pay'],ddof=1)\n",
        "print('Стандартное отклонение:',ultra_payment_std.round())\n",
        "ultra_payment_mean = ultra_payment['pay'].mean()\n",
        "print('Среднее:',ultra_payment_mean.round())\n",
        "\n",
        "plt.axvline(ultra_payment_mean, color='red', linestyle='--', label='Среднее Ультра')\n",
        "plt.axvline(smart_payment_mean, color='blue', linestyle='--', label='Среднее Смарт')\n",
        "\n",
        "plt.axvline(550, color='yellow', label='Плата в месяц по тарифу Смарт')\n",
        "plt.axvline(1950, color='green', label='Плата в месяц по тарифу Ультра')\n",
        "\n",
        "\n",
        "fig.legend() ##################"
      ]
    },
    {
      "cell_type": "markdown",
      "metadata": {
        "id": "Dir_mPiXp4IJ"
      },
      "source": [
        "Эти гистограммы тоже скошены вправо.Очевидно, что большенство клиентов все-таки стараются не выходить за пределы включенных пакетов и платят лишь абонентскую плату.  \n",
        "  \n",
        "Лучше всего это получается у пользователей тарифа Ультра, огромный столбец на отметке 1950 руб говорит о тем, что пользователи тарифа Ультра практически никогда не доплачивают за дополнительные услуги.  \n",
        "  \n",
        "Тогда как пользователи тарифа Смарт делают это систематически. И при этом средние счета некоторых пользователей превышают даже плату клиентов тарифа Ультра.  \n",
        "  \n",
        "Это наглядная иллюстрация скошенности распределения данных. Не смотря на то, что медиана будет маленькой, есть пользователи готовые платить гораздо больше, чем в тарифе Ультра.\n",
        "\n",
        "Так какой же тариф принес большую сумму за год?"
      ]
    },
    {
      "cell_type": "code",
      "execution_count": null,
      "metadata": {
        "id": "9yNwOPJUp4IK",
        "outputId": "9257507c-3590-46cd-9675-42f89af33b24"
      },
      "outputs": [
        {
          "name": "stdout",
          "output_type": "stream",
          "text": [
            "Смарт: 2875901.0 рублей за год\n",
            "Ультра: 2041050.0 рублей за год\n"
          ]
        }
      ],
      "source": [
        "print('Смарт:', smart_payment['pay'].sum(), 'рублей за год')\n",
        "print('Ультра:', ultra_payment['pay'].sum(), 'рублей за год')"
      ]
    },
    {
      "cell_type": "code",
      "execution_count": null,
      "metadata": {
        "id": "tCIoRxHCp4IK",
        "outputId": "c33ac7b2-4037-421d-8cfb-9ae45ead0f81"
      },
      "outputs": [
        {
          "data": {
            "text/plain": [
              "'31%'"
            ]
          },
          "execution_count": 47,
          "metadata": {},
          "output_type": "execute_result"
        }
      ],
      "source": [
        "'{:.0%}'.format((2666523/2030550)-1)"
      ]
    },
    {
      "cell_type": "markdown",
      "metadata": {
        "id": "RqJqjBSOp4IK"
      },
      "source": [
        "Не смотря на то, что пользователи тарифа Ультра переплачивают за неисмпользуемые минуты разговора, смс, да в придачу еще иногда им приходится платить за недостаток трафика, они  приносят компании на 31% меньше прибыли в сравнении с тарифом Смарт."
      ]
    },
    {
      "cell_type": "markdown",
      "metadata": {
        "id": "u59EfUNYp4IK"
      },
      "source": [
        "### Вывод\n",
        "\n",
        "Проведя исследование мложно сделать следующие выводы:\n",
        "- Тариф Смарт более многочисленный в сравнении с тарифом Ультра. Тарифом Смарт пользуется 351 клиент, а Ультра 149.\n",
        "- Для оператора выгодно, чтобы колисество включеных единиц в пакете было равно среднему импользуемому. Чтобы в среднем \"умещался\" по тратам, но систематически доплачивал за дополнительные единицы связи.\n",
        "- Для клиента же выгоднее бы было, если бы границы тарифа устанавливались в районе 3 сигм.\n",
        "- Пользователи почти не пользуются сообщениями, при этом активно используют интернет трафик и охотно доплачивают за него при превышении лимитов.\n",
        "- Клиенты тарифа Ультра в основном платят только абонентскую плату и не превышают лимитов, тогда как пользователи тарифа Смарт систематически доплачивают.\n",
        "- Клиенты тарифа Смарт приносят на 31% больше прибыли в сравнении с клиентами тарифа Ультра."
      ]
    },
    {
      "cell_type": "markdown",
      "metadata": {
        "id": "T0LIiKKIp4IL"
      },
      "source": [
        "## Шаг 4. Проверка гипотиз.\n",
        "\n",
        "На данном этапе нам неободимо проверить две гипотизы:\n",
        "- средняя выручка пользователей тарифов «Ультра» и «Смарт» различаются;\n",
        "- средняя выручка пользователей из Москвы отличается от выручки пользователей из других регионов.\n",
        "\n",
        "Начнем с первой \"средняя выручка пользователей тарифов «Ультра» и «Смарт» различаются\".\n",
        "Возьмем за нулевую гипотезу H0 утверждение \"средняя выручка пользователей тарифов «Ультра» и «Смарт» равны\".\n",
        "В таком случае двусторонней альтернативной гипотезой H1 будет - \"средняя выручка пользователей тарифов «Ультра» и «Смарт» различаются\". Нам не важно что будет меньше, а что больше. Главное, что они не равны.\n",
        "\n",
        "Нам нужно посчитать вероятность того, что средняя выручка пользователей по тарифу Смарт равна средней выручке пользователей по тарифу Ультра. Для этого воспользуемся тестом `scipy.stats.ttest_ind`.\n",
        "Пороговое значение альфа примем равным 0,05."
      ]
    },
    {
      "cell_type": "code",
      "execution_count": null,
      "metadata": {
        "id": "GWmLzwBNp4IL",
        "outputId": "86240501-c731-42c2-dc25-eea1cd41a87d"
      },
      "outputs": [
        {
          "name": "stdout",
          "output_type": "stream",
          "text": [
            " \n",
            "p-значение:  1.4760419872988006e-40\n",
            "Отвергаем нулевую гипотезу\n"
          ]
        }
      ],
      "source": [
        "ultra = ultra_payment.groupby(['user_id'], as_index=False).agg({'pay': 'mean'})\n",
        "smart = smart_payment.groupby(['user_id'], as_index=False).agg({'pay': 'mean'})\n",
        "alpha = 0.05\n",
        "\n",
        "results = st.ttest_ind(smart['pay'], ultra['pay'])\n",
        "\n",
        "print(' ')\n",
        "print('p-значение: ', results.pvalue)\n",
        "\n",
        "if results.pvalue < alpha:\n",
        "    print(\"Отвергаем нулевую гипотезу\")\n",
        "else:\n",
        "    print(\"Не получилось отвергнуть нулевую гипотезу\") "
      ]
    },
    {
      "cell_type": "markdown",
      "metadata": {
        "id": "Xduzgx07p4IL"
      },
      "source": [
        "Полученое значение  p-value говорит о том, что вероятность того, что средняя выручка пользователей тарифов Смарт и Ультра практически равно нулю. Это означает, что нулевую гиполезу мы отвергаем и можем с некоторой долей вероятности утверждать, что да, средняя выручка пользователей разных тарифов отличается.  \n",
        "   \n",
        "     \n",
        "   \n",
        "Теперь проверим вторую гипотизу \"средняя выручка пользователей из Москвы отличается от выручки пользователей из других регионов\".\n",
        "Объявим нулевую гипотизу H0 утверждение \"средняя выручка пользователей из Москвы равна выручке пользователей из других регионов\", соответственно альтернативная двустороняя гипотеза H1 будет - \"средняя выручка пользователей из Москвы отличается от выручки пользователей из других регионов\".\n",
        "\n",
        "Точно так же как и в прошлый раз раз воспользуемся тестом `scipy.stats.ttest_ind`.\n",
        "Пороговое значение альфа примем равным 0,05."
      ]
    },
    {
      "cell_type": "code",
      "execution_count": null,
      "metadata": {
        "id": "CZGqdA3Mp4IL",
        "outputId": "aaacc786-a492-43bc-f491-85b6d2bdb33a"
      },
      "outputs": [
        {
          "name": "stdout",
          "output_type": "stream",
          "text": [
            " \n",
            "p-значение:  0.37273509521850456\n",
            "Не получилось отвергнуть нулевую гипотезу\n"
          ]
        }
      ],
      "source": [
        "moscow = data_pay[['user_id', 'pay']]\n",
        "moscow = moscow.merge(users[['city', 'user_id']], on = 'user_id', how='left')\n",
        "moscow = moscow[moscow['city'] == 'Москва']\n",
        "moscow = moscow.groupby(['user_id'], as_index=False).agg({'pay': 'mean'})\n",
        "\n",
        "\n",
        "region = data_pay[['user_id', 'pay']]\n",
        "region = region.merge(users[['city', 'user_id']], on = 'user_id', how='left')\n",
        "region = region[region['city'] != 'Москва']\n",
        "region = region.groupby(['user_id'], as_index=False).agg({'pay': 'mean'})\n",
        "\n",
        "alpha = 0.05\n",
        "\n",
        "results = st.ttest_ind(moscow['pay'], region['pay'])\n",
        "\n",
        "print(' ')\n",
        "print('p-значение: ', results.pvalue)\n",
        "\n",
        "if results.pvalue < alpha:\n",
        "    print(\"Отвергаем нулевую гипотезу\")\n",
        "else:\n",
        "    print(\"Не получилось отвергнуть нулевую гипотезу\") "
      ]
    },
    {
      "cell_type": "markdown",
      "metadata": {
        "id": "h6HgZvd_p4IM"
      },
      "source": [
        "Исходя из полученного значения p-value можно сделать вывод, что вероятность того, что средняя выручка пользователей из Москвы равна выручке пользователей из других регионов составляет аж 37%. Соотвественно нулевую гипотезу опровергнуть не удалось и с определенной долей вероятности мы можем утверждать, что выручка не зависит от того, в Москве проживает пользователь или в регионе."
      ]
    },
    {
      "cell_type": "markdown",
      "metadata": {
        "id": "tfAF_MATp4IM"
      },
      "source": [
        "## Общий вывод.\n",
        "\n",
        "Мы провели исследование данных за 2018 год федерального оператора сотовой связи \"Мегалайн\", предлагающего своим клиентам два тарифных плана «Смарт» и «Ультра».\n",
        "В рамках исследования были выделены следующие факты:\n",
        "- Более дешевым тарифом Смарт пользуется большее количество пользователей.\n",
        "- Клиента пости не используют сообщения, зато активно пользуется интернет трафиком и охотно доплачивают за него при окончании лимита.\n",
        "- Клиенты тарифа Смарт систематически доплачивают за дополнительные единицы связи, тогда как пользователи Ультра чаще всего используют намного меньше установленного лимита.\n",
        "- Несмотря на постоянные доплаты средняя плата за месяц дла клиентов тарифа Смарт все равно остается ниже платы клиентов тарифа Ультра.\n",
        "- Общая прибыль компании с пользователей тарифа Смарт на 31% выше прибыли с клиентов тарифа Ультра.  \n",
        "   \n",
        "Проверив две гипотезы мы выяснили, что вероятность того, что выручка с клиентов тарифов Смарт и Ультра будет равна - правктически нулевая. А также вероятность что средняя выручка Москвы и регионов не отличается составляет аж 40%.\n",
        "Выходит, что с некоторой долей вероятности мы можем утверждать, что средняя выручка на тарифах Смарт и Ультра будут различаться и что выручка не будет зависить от места жительства клиента.\n",
        "\n"
      ]
    }
  ],
  "metadata": {
    "ExecuteTimeLog": [
      {
        "duration": 309,
        "start_time": "2022-01-27T11:13:11.594Z"
      },
      {
        "duration": 1109,
        "start_time": "2022-01-27T11:13:37.540Z"
      },
      {
        "duration": 396,
        "start_time": "2022-01-27T11:13:39.995Z"
      },
      {
        "duration": 40,
        "start_time": "2022-01-27T11:14:47.844Z"
      },
      {
        "duration": 31,
        "start_time": "2022-01-27T11:15:06.762Z"
      },
      {
        "duration": 56,
        "start_time": "2022-01-27T11:16:01.246Z"
      },
      {
        "duration": 49,
        "start_time": "2022-01-27T11:16:15.694Z"
      },
      {
        "duration": 112,
        "start_time": "2022-01-27T11:18:01.259Z"
      },
      {
        "duration": 26,
        "start_time": "2022-01-27T11:19:54.142Z"
      },
      {
        "duration": 23,
        "start_time": "2022-01-27T11:20:14.650Z"
      },
      {
        "duration": 25,
        "start_time": "2022-01-27T11:20:36.738Z"
      },
      {
        "duration": 13,
        "start_time": "2022-01-27T11:20:57.834Z"
      },
      {
        "duration": 87,
        "start_time": "2022-01-27T11:21:04.476Z"
      },
      {
        "duration": 10,
        "start_time": "2022-01-27T11:21:08.429Z"
      },
      {
        "duration": 14,
        "start_time": "2022-01-27T11:21:38.082Z"
      },
      {
        "duration": 10,
        "start_time": "2022-01-27T11:22:40.789Z"
      },
      {
        "duration": 14,
        "start_time": "2022-01-27T11:22:58.054Z"
      },
      {
        "duration": 1157,
        "start_time": "2022-01-27T11:24:06.162Z"
      },
      {
        "duration": 444,
        "start_time": "2022-01-27T11:24:07.321Z"
      },
      {
        "duration": 15,
        "start_time": "2022-01-27T11:24:07.767Z"
      },
      {
        "duration": 14,
        "start_time": "2022-01-27T11:24:07.785Z"
      },
      {
        "duration": 26,
        "start_time": "2022-01-27T11:24:07.801Z"
      },
      {
        "duration": 22,
        "start_time": "2022-01-27T11:24:07.860Z"
      },
      {
        "duration": 25,
        "start_time": "2022-01-27T11:24:07.884Z"
      },
      {
        "duration": 20,
        "start_time": "2022-01-27T11:30:34.548Z"
      },
      {
        "duration": 32,
        "start_time": "2022-01-27T11:34:29.999Z"
      },
      {
        "duration": 24,
        "start_time": "2022-01-27T11:34:46.259Z"
      },
      {
        "duration": 104,
        "start_time": "2022-01-27T12:57:53.474Z"
      },
      {
        "duration": 7,
        "start_time": "2022-01-27T14:33:24.610Z"
      },
      {
        "duration": 392,
        "start_time": "2022-01-27T14:33:39.325Z"
      },
      {
        "duration": 9,
        "start_time": "2022-01-27T14:38:00.764Z"
      },
      {
        "duration": 9,
        "start_time": "2022-01-27T14:38:47.530Z"
      },
      {
        "duration": 8,
        "start_time": "2022-01-27T14:39:25.749Z"
      },
      {
        "duration": 7,
        "start_time": "2022-01-27T14:39:43.534Z"
      },
      {
        "duration": 7,
        "start_time": "2022-01-27T14:39:46.441Z"
      },
      {
        "duration": 265,
        "start_time": "2022-01-27T14:45:12.009Z"
      },
      {
        "duration": 20,
        "start_time": "2022-01-27T14:46:16.953Z"
      },
      {
        "duration": 14,
        "start_time": "2022-01-27T14:46:32.199Z"
      },
      {
        "duration": -92,
        "start_time": "2022-01-27T14:54:53.941Z"
      },
      {
        "duration": 6689,
        "start_time": "2022-01-27T14:55:09.698Z"
      },
      {
        "duration": 6868,
        "start_time": "2022-01-27T14:55:23.176Z"
      },
      {
        "duration": 10,
        "start_time": "2022-01-27T14:55:36.676Z"
      },
      {
        "duration": 8,
        "start_time": "2022-01-27T14:55:48.673Z"
      },
      {
        "duration": 128,
        "start_time": "2022-01-27T15:07:09.480Z"
      },
      {
        "duration": 80,
        "start_time": "2022-01-27T15:07:14.418Z"
      },
      {
        "duration": 7372,
        "start_time": "2022-01-27T15:07:50.866Z"
      },
      {
        "duration": 77,
        "start_time": "2022-01-27T15:08:36.898Z"
      },
      {
        "duration": 289,
        "start_time": "2022-01-27T15:09:14.875Z"
      },
      {
        "duration": 14,
        "start_time": "2022-01-27T15:09:54.068Z"
      },
      {
        "duration": 16284,
        "start_time": "2022-01-27T15:10:16.933Z"
      },
      {
        "duration": 97,
        "start_time": "2022-01-27T15:11:59.980Z"
      },
      {
        "duration": 247,
        "start_time": "2022-01-27T15:12:06.707Z"
      },
      {
        "duration": 52,
        "start_time": "2022-01-27T15:12:29.093Z"
      },
      {
        "duration": 323,
        "start_time": "2022-01-27T15:13:32.003Z"
      },
      {
        "duration": 306,
        "start_time": "2022-01-27T15:13:45.780Z"
      },
      {
        "duration": 293,
        "start_time": "2022-01-27T15:14:07.631Z"
      },
      {
        "duration": 324,
        "start_time": "2022-01-27T15:14:21.407Z"
      },
      {
        "duration": 291,
        "start_time": "2022-01-27T15:15:48.399Z"
      },
      {
        "duration": 99,
        "start_time": "2022-01-27T15:16:52.922Z"
      },
      {
        "duration": 348,
        "start_time": "2022-01-27T15:17:17.334Z"
      },
      {
        "duration": 3,
        "start_time": "2022-01-27T15:24:02.403Z"
      },
      {
        "duration": 5,
        "start_time": "2022-01-27T15:24:10.098Z"
      },
      {
        "duration": 5,
        "start_time": "2022-01-27T15:28:19.985Z"
      },
      {
        "duration": 249,
        "start_time": "2022-01-27T15:29:21.861Z"
      },
      {
        "duration": 1106,
        "start_time": "2022-01-27T15:29:49.648Z"
      },
      {
        "duration": 555,
        "start_time": "2022-01-27T15:29:50.756Z"
      },
      {
        "duration": 18,
        "start_time": "2022-01-27T15:29:51.313Z"
      },
      {
        "duration": 35,
        "start_time": "2022-01-27T15:29:51.333Z"
      },
      {
        "duration": 40,
        "start_time": "2022-01-27T15:29:51.370Z"
      },
      {
        "duration": 24,
        "start_time": "2022-01-27T15:29:51.412Z"
      },
      {
        "duration": 35,
        "start_time": "2022-01-27T15:29:51.437Z"
      },
      {
        "duration": 8,
        "start_time": "2022-01-27T15:29:51.475Z"
      },
      {
        "duration": 32,
        "start_time": "2022-01-27T15:29:51.485Z"
      },
      {
        "duration": 30,
        "start_time": "2022-01-27T15:29:51.518Z"
      },
      {
        "duration": 35,
        "start_time": "2022-01-27T15:29:51.550Z"
      },
      {
        "duration": 31,
        "start_time": "2022-01-27T15:29:51.588Z"
      },
      {
        "duration": 504,
        "start_time": "2022-01-27T15:29:51.621Z"
      },
      {
        "duration": -89,
        "start_time": "2022-01-27T15:29:52.216Z"
      },
      {
        "duration": 25,
        "start_time": "2022-01-27T15:30:07.067Z"
      },
      {
        "duration": 24,
        "start_time": "2022-01-27T15:30:44.662Z"
      },
      {
        "duration": 1042,
        "start_time": "2022-01-27T15:30:52.014Z"
      },
      {
        "duration": 430,
        "start_time": "2022-01-27T15:30:53.058Z"
      },
      {
        "duration": 14,
        "start_time": "2022-01-27T15:30:53.491Z"
      },
      {
        "duration": 35,
        "start_time": "2022-01-27T15:30:53.507Z"
      },
      {
        "duration": 55,
        "start_time": "2022-01-27T15:30:53.544Z"
      },
      {
        "duration": 31,
        "start_time": "2022-01-27T15:30:53.601Z"
      },
      {
        "duration": 53,
        "start_time": "2022-01-27T15:30:53.634Z"
      },
      {
        "duration": 8,
        "start_time": "2022-01-27T15:30:53.690Z"
      },
      {
        "duration": 26,
        "start_time": "2022-01-27T15:30:53.701Z"
      },
      {
        "duration": 46,
        "start_time": "2022-01-27T15:30:53.730Z"
      },
      {
        "duration": 46,
        "start_time": "2022-01-27T15:30:53.778Z"
      },
      {
        "duration": 59,
        "start_time": "2022-01-27T15:30:53.825Z"
      },
      {
        "duration": 410,
        "start_time": "2022-01-27T15:30:53.886Z"
      },
      {
        "duration": -63,
        "start_time": "2022-01-27T15:30:54.360Z"
      },
      {
        "duration": 19,
        "start_time": "2022-01-27T15:31:02.213Z"
      },
      {
        "duration": 297,
        "start_time": "2022-01-27T15:31:08.829Z"
      },
      {
        "duration": 317,
        "start_time": "2022-01-27T15:31:41.867Z"
      },
      {
        "duration": 88,
        "start_time": "2022-01-27T15:32:57.937Z"
      },
      {
        "duration": 1143,
        "start_time": "2022-01-27T15:35:12.196Z"
      },
      {
        "duration": 408,
        "start_time": "2022-01-27T15:35:13.341Z"
      },
      {
        "duration": 14,
        "start_time": "2022-01-27T15:35:13.751Z"
      },
      {
        "duration": 36,
        "start_time": "2022-01-27T15:35:13.767Z"
      },
      {
        "duration": 63,
        "start_time": "2022-01-27T15:35:13.805Z"
      },
      {
        "duration": 24,
        "start_time": "2022-01-27T15:35:13.869Z"
      },
      {
        "duration": 48,
        "start_time": "2022-01-27T15:35:13.895Z"
      },
      {
        "duration": 21,
        "start_time": "2022-01-27T15:35:13.945Z"
      },
      {
        "duration": 26,
        "start_time": "2022-01-27T15:35:13.968Z"
      },
      {
        "duration": 39,
        "start_time": "2022-01-27T15:35:13.996Z"
      },
      {
        "duration": 39,
        "start_time": "2022-01-27T15:35:14.037Z"
      },
      {
        "duration": 39,
        "start_time": "2022-01-27T15:35:14.078Z"
      },
      {
        "duration": 77022,
        "start_time": "2022-01-27T15:35:14.119Z"
      },
      {
        "duration": 50,
        "start_time": "2022-01-27T15:40:59.778Z"
      },
      {
        "duration": 59,
        "start_time": "2022-01-27T15:41:06.663Z"
      },
      {
        "duration": 142,
        "start_time": "2022-01-27T15:42:19.844Z"
      },
      {
        "duration": 142,
        "start_time": "2022-01-27T15:42:45.505Z"
      },
      {
        "duration": 8,
        "start_time": "2022-01-27T15:43:08.205Z"
      },
      {
        "duration": 59,
        "start_time": "2022-01-27T15:43:10.352Z"
      },
      {
        "duration": 163,
        "start_time": "2022-01-27T15:43:13.653Z"
      },
      {
        "duration": 122,
        "start_time": "2022-01-27T15:43:25.848Z"
      },
      {
        "duration": 149,
        "start_time": "2022-01-27T15:45:37.524Z"
      },
      {
        "duration": 148,
        "start_time": "2022-01-27T15:46:58.379Z"
      },
      {
        "duration": 133,
        "start_time": "2022-01-27T15:47:05.080Z"
      },
      {
        "duration": 197,
        "start_time": "2022-01-27T15:47:11.339Z"
      },
      {
        "duration": 146,
        "start_time": "2022-01-27T15:48:37.449Z"
      },
      {
        "duration": 13,
        "start_time": "2022-01-27T15:49:01.824Z"
      },
      {
        "duration": 8,
        "start_time": "2022-01-27T15:49:39.307Z"
      },
      {
        "duration": 215,
        "start_time": "2022-01-27T15:50:15.350Z"
      },
      {
        "duration": 1042,
        "start_time": "2022-01-27T15:50:24.706Z"
      },
      {
        "duration": 415,
        "start_time": "2022-01-27T15:50:25.749Z"
      },
      {
        "duration": 15,
        "start_time": "2022-01-27T15:50:26.166Z"
      },
      {
        "duration": 35,
        "start_time": "2022-01-27T15:50:26.182Z"
      },
      {
        "duration": 33,
        "start_time": "2022-01-27T15:50:26.218Z"
      },
      {
        "duration": 19,
        "start_time": "2022-01-27T15:50:26.260Z"
      },
      {
        "duration": 26,
        "start_time": "2022-01-27T15:50:26.280Z"
      },
      {
        "duration": 25,
        "start_time": "2022-01-27T15:50:26.309Z"
      },
      {
        "duration": 21,
        "start_time": "2022-01-27T15:50:26.336Z"
      },
      {
        "duration": 49,
        "start_time": "2022-01-27T15:50:26.359Z"
      },
      {
        "duration": 51,
        "start_time": "2022-01-27T15:50:26.410Z"
      },
      {
        "duration": 113,
        "start_time": "2022-01-27T15:50:26.463Z"
      },
      {
        "duration": 3,
        "start_time": "2022-01-27T15:50:26.578Z"
      },
      {
        "duration": 46,
        "start_time": "2022-01-27T15:50:26.583Z"
      },
      {
        "duration": 173,
        "start_time": "2022-01-27T15:50:26.631Z"
      },
      {
        "duration": 135,
        "start_time": "2022-01-27T15:51:44.610Z"
      },
      {
        "duration": 138,
        "start_time": "2022-01-27T15:51:53.206Z"
      },
      {
        "duration": 128,
        "start_time": "2022-01-27T15:52:29.828Z"
      },
      {
        "duration": 136,
        "start_time": "2022-01-27T15:53:21.479Z"
      },
      {
        "duration": 108,
        "start_time": "2022-01-27T15:56:34.269Z"
      },
      {
        "duration": 1062,
        "start_time": "2022-01-27T15:56:56.187Z"
      },
      {
        "duration": 409,
        "start_time": "2022-01-27T15:56:57.251Z"
      },
      {
        "duration": 14,
        "start_time": "2022-01-27T15:56:57.662Z"
      },
      {
        "duration": 24,
        "start_time": "2022-01-27T15:56:57.679Z"
      },
      {
        "duration": 51,
        "start_time": "2022-01-27T15:56:57.705Z"
      },
      {
        "duration": 54,
        "start_time": "2022-01-27T15:56:57.758Z"
      },
      {
        "duration": 24,
        "start_time": "2022-01-27T15:56:57.814Z"
      },
      {
        "duration": 18,
        "start_time": "2022-01-27T15:56:57.840Z"
      },
      {
        "duration": 24,
        "start_time": "2022-01-27T15:56:57.861Z"
      },
      {
        "duration": 28,
        "start_time": "2022-01-27T15:56:57.887Z"
      },
      {
        "duration": 39,
        "start_time": "2022-01-27T15:56:57.916Z"
      },
      {
        "duration": 90,
        "start_time": "2022-01-27T15:56:57.957Z"
      },
      {
        "duration": 2,
        "start_time": "2022-01-27T15:56:58.049Z"
      },
      {
        "duration": 30,
        "start_time": "2022-01-27T15:56:58.053Z"
      },
      {
        "duration": 147,
        "start_time": "2022-01-27T15:56:58.084Z"
      },
      {
        "duration": 122,
        "start_time": "2022-01-27T15:59:54.747Z"
      },
      {
        "duration": 1086,
        "start_time": "2022-01-27T16:00:03.679Z"
      },
      {
        "duration": 441,
        "start_time": "2022-01-27T16:00:04.768Z"
      },
      {
        "duration": 13,
        "start_time": "2022-01-27T16:00:05.212Z"
      },
      {
        "duration": 13,
        "start_time": "2022-01-27T16:00:05.227Z"
      },
      {
        "duration": 29,
        "start_time": "2022-01-27T16:00:05.242Z"
      },
      {
        "duration": 21,
        "start_time": "2022-01-27T16:00:05.272Z"
      },
      {
        "duration": 22,
        "start_time": "2022-01-27T16:00:05.295Z"
      },
      {
        "duration": 7,
        "start_time": "2022-01-27T16:00:05.319Z"
      },
      {
        "duration": 10,
        "start_time": "2022-01-27T16:00:05.328Z"
      },
      {
        "duration": 36,
        "start_time": "2022-01-27T16:00:05.340Z"
      },
      {
        "duration": 13,
        "start_time": "2022-01-27T16:00:05.377Z"
      },
      {
        "duration": 81,
        "start_time": "2022-01-27T16:00:05.392Z"
      },
      {
        "duration": 2,
        "start_time": "2022-01-27T16:00:05.475Z"
      },
      {
        "duration": 21,
        "start_time": "2022-01-27T16:00:05.478Z"
      },
      {
        "duration": 148,
        "start_time": "2022-01-27T16:00:05.501Z"
      },
      {
        "duration": 390,
        "start_time": "2022-01-27T16:04:44.465Z"
      },
      {
        "duration": 336,
        "start_time": "2022-01-27T16:06:01.007Z"
      },
      {
        "duration": 242,
        "start_time": "2022-01-27T16:18:17.170Z"
      },
      {
        "duration": 254,
        "start_time": "2022-01-27T16:19:09.508Z"
      },
      {
        "duration": 632,
        "start_time": "2022-01-27T16:19:19.075Z"
      },
      {
        "duration": 269,
        "start_time": "2022-01-27T16:19:44.406Z"
      },
      {
        "duration": 1060,
        "start_time": "2022-01-27T16:20:35.981Z"
      },
      {
        "duration": 419,
        "start_time": "2022-01-27T16:20:37.043Z"
      },
      {
        "duration": 14,
        "start_time": "2022-01-27T16:20:37.464Z"
      },
      {
        "duration": 33,
        "start_time": "2022-01-27T16:20:37.480Z"
      },
      {
        "duration": 41,
        "start_time": "2022-01-27T16:20:37.515Z"
      },
      {
        "duration": 34,
        "start_time": "2022-01-27T16:20:37.558Z"
      },
      {
        "duration": 60,
        "start_time": "2022-01-27T16:20:37.593Z"
      },
      {
        "duration": 19,
        "start_time": "2022-01-27T16:20:37.655Z"
      },
      {
        "duration": 32,
        "start_time": "2022-01-27T16:20:37.676Z"
      },
      {
        "duration": 43,
        "start_time": "2022-01-27T16:20:37.710Z"
      },
      {
        "duration": 31,
        "start_time": "2022-01-27T16:20:37.755Z"
      },
      {
        "duration": 72,
        "start_time": "2022-01-27T16:20:37.788Z"
      },
      {
        "duration": 3,
        "start_time": "2022-01-27T16:20:37.861Z"
      },
      {
        "duration": 30,
        "start_time": "2022-01-27T16:20:37.865Z"
      },
      {
        "duration": 349,
        "start_time": "2022-01-27T16:20:37.897Z"
      },
      {
        "duration": 275,
        "start_time": "2022-01-27T16:21:16.408Z"
      },
      {
        "duration": 1089,
        "start_time": "2022-01-27T16:21:35.257Z"
      },
      {
        "duration": 417,
        "start_time": "2022-01-27T16:21:36.347Z"
      },
      {
        "duration": 14,
        "start_time": "2022-01-27T16:21:36.767Z"
      },
      {
        "duration": 14,
        "start_time": "2022-01-27T16:21:36.782Z"
      },
      {
        "duration": 40,
        "start_time": "2022-01-27T16:21:36.798Z"
      },
      {
        "duration": 35,
        "start_time": "2022-01-27T16:21:36.840Z"
      },
      {
        "duration": 26,
        "start_time": "2022-01-27T16:21:36.876Z"
      },
      {
        "duration": 14,
        "start_time": "2022-01-27T16:21:36.904Z"
      },
      {
        "duration": 20,
        "start_time": "2022-01-27T16:21:36.920Z"
      },
      {
        "duration": 26,
        "start_time": "2022-01-27T16:21:36.942Z"
      },
      {
        "duration": 23,
        "start_time": "2022-01-27T16:21:36.970Z"
      },
      {
        "duration": 94,
        "start_time": "2022-01-27T16:21:36.995Z"
      },
      {
        "duration": 2,
        "start_time": "2022-01-27T16:21:37.090Z"
      },
      {
        "duration": 377,
        "start_time": "2022-01-27T16:21:37.094Z"
      },
      {
        "duration": 346,
        "start_time": "2022-01-27T16:23:13.248Z"
      },
      {
        "duration": 357,
        "start_time": "2022-01-27T16:23:32.301Z"
      },
      {
        "duration": 85,
        "start_time": "2022-01-27T16:24:34.435Z"
      },
      {
        "duration": 249,
        "start_time": "2022-01-27T16:24:41.775Z"
      },
      {
        "duration": 256,
        "start_time": "2022-01-27T16:24:53.044Z"
      },
      {
        "duration": 254,
        "start_time": "2022-01-27T16:25:08.188Z"
      },
      {
        "duration": 251,
        "start_time": "2022-01-27T16:39:10.135Z"
      },
      {
        "duration": 244,
        "start_time": "2022-01-27T16:53:43.210Z"
      },
      {
        "duration": 257,
        "start_time": "2022-01-27T16:54:43.178Z"
      },
      {
        "duration": 297,
        "start_time": "2022-01-27T16:55:18.113Z"
      },
      {
        "duration": 259,
        "start_time": "2022-01-27T16:57:20.044Z"
      },
      {
        "duration": 9,
        "start_time": "2022-01-27T16:58:33.250Z"
      },
      {
        "duration": 270,
        "start_time": "2022-01-27T17:01:36.640Z"
      },
      {
        "duration": 265,
        "start_time": "2022-01-27T17:03:00.684Z"
      },
      {
        "duration": 311,
        "start_time": "2022-01-27T17:03:21.243Z"
      },
      {
        "duration": 165,
        "start_time": "2022-01-27T17:06:24.963Z"
      },
      {
        "duration": 370,
        "start_time": "2022-01-27T17:07:26.946Z"
      },
      {
        "duration": 829,
        "start_time": "2022-01-27T17:07:32.379Z"
      },
      {
        "duration": 155,
        "start_time": "2022-01-27T17:07:39.534Z"
      },
      {
        "duration": 1042,
        "start_time": "2022-01-27T17:08:23.708Z"
      },
      {
        "duration": 406,
        "start_time": "2022-01-27T17:08:24.752Z"
      },
      {
        "duration": 14,
        "start_time": "2022-01-27T17:08:25.159Z"
      },
      {
        "duration": 13,
        "start_time": "2022-01-27T17:08:25.175Z"
      },
      {
        "duration": 26,
        "start_time": "2022-01-27T17:08:25.190Z"
      },
      {
        "duration": 47,
        "start_time": "2022-01-27T17:08:25.217Z"
      },
      {
        "duration": 33,
        "start_time": "2022-01-27T17:08:25.266Z"
      },
      {
        "duration": 7,
        "start_time": "2022-01-27T17:08:25.301Z"
      },
      {
        "duration": 6,
        "start_time": "2022-01-27T17:08:25.310Z"
      },
      {
        "duration": 14,
        "start_time": "2022-01-27T17:08:25.317Z"
      },
      {
        "duration": 30,
        "start_time": "2022-01-27T17:08:25.332Z"
      },
      {
        "duration": 64,
        "start_time": "2022-01-27T17:08:25.364Z"
      },
      {
        "duration": 353,
        "start_time": "2022-01-27T17:08:25.429Z"
      },
      {
        "duration": -216,
        "start_time": "2022-01-27T17:08:26.000Z"
      },
      {
        "duration": 1039,
        "start_time": "2022-01-27T17:08:41.321Z"
      },
      {
        "duration": 419,
        "start_time": "2022-01-27T17:08:42.362Z"
      },
      {
        "duration": 16,
        "start_time": "2022-01-27T17:08:42.784Z"
      },
      {
        "duration": 29,
        "start_time": "2022-01-27T17:08:42.802Z"
      },
      {
        "duration": 43,
        "start_time": "2022-01-27T17:08:42.833Z"
      },
      {
        "duration": 20,
        "start_time": "2022-01-27T17:08:42.878Z"
      },
      {
        "duration": 36,
        "start_time": "2022-01-27T17:08:42.900Z"
      },
      {
        "duration": 8,
        "start_time": "2022-01-27T17:08:42.938Z"
      },
      {
        "duration": 12,
        "start_time": "2022-01-27T17:08:42.961Z"
      },
      {
        "duration": 32,
        "start_time": "2022-01-27T17:08:42.975Z"
      },
      {
        "duration": 27,
        "start_time": "2022-01-27T17:08:43.009Z"
      },
      {
        "duration": 83,
        "start_time": "2022-01-27T17:08:43.037Z"
      },
      {
        "duration": 162,
        "start_time": "2022-01-27T17:08:43.122Z"
      },
      {
        "duration": 173,
        "start_time": "2022-01-27T17:09:34.767Z"
      },
      {
        "duration": 165,
        "start_time": "2022-01-27T17:10:07.874Z"
      },
      {
        "duration": 8,
        "start_time": "2022-01-27T17:12:58.680Z"
      },
      {
        "duration": 145,
        "start_time": "2022-01-27T17:13:04.207Z"
      },
      {
        "duration": 10,
        "start_time": "2022-01-27T17:13:49.500Z"
      },
      {
        "duration": 27,
        "start_time": "2022-01-27T17:14:07.822Z"
      },
      {
        "duration": 26,
        "start_time": "2022-01-27T17:14:34.048Z"
      },
      {
        "duration": 24,
        "start_time": "2022-01-27T17:14:37.342Z"
      },
      {
        "duration": 27,
        "start_time": "2022-01-27T17:14:39.331Z"
      },
      {
        "duration": 26,
        "start_time": "2022-01-27T17:14:43.643Z"
      },
      {
        "duration": 8,
        "start_time": "2022-01-27T17:15:07.471Z"
      },
      {
        "duration": 17,
        "start_time": "2022-01-27T17:15:15.701Z"
      },
      {
        "duration": 14,
        "start_time": "2022-01-27T17:16:13.964Z"
      },
      {
        "duration": 11,
        "start_time": "2022-01-27T17:19:04.040Z"
      },
      {
        "duration": 340,
        "start_time": "2022-01-27T17:21:23.593Z"
      },
      {
        "duration": 21,
        "start_time": "2022-01-27T17:21:41.454Z"
      },
      {
        "duration": 174,
        "start_time": "2022-01-27T17:21:59.046Z"
      },
      {
        "duration": 8,
        "start_time": "2022-01-27T17:22:22.505Z"
      },
      {
        "duration": 170,
        "start_time": "2022-01-27T17:22:24.913Z"
      },
      {
        "duration": 166,
        "start_time": "2022-01-27T17:23:21.184Z"
      },
      {
        "duration": 1097,
        "start_time": "2022-01-27T17:23:39.754Z"
      },
      {
        "duration": 408,
        "start_time": "2022-01-27T17:23:40.853Z"
      },
      {
        "duration": 14,
        "start_time": "2022-01-27T17:23:41.263Z"
      },
      {
        "duration": 25,
        "start_time": "2022-01-27T17:23:41.280Z"
      },
      {
        "duration": 33,
        "start_time": "2022-01-27T17:23:41.307Z"
      },
      {
        "duration": 44,
        "start_time": "2022-01-27T17:23:41.343Z"
      },
      {
        "duration": 23,
        "start_time": "2022-01-27T17:23:41.389Z"
      },
      {
        "duration": 6,
        "start_time": "2022-01-27T17:23:41.415Z"
      },
      {
        "duration": 24,
        "start_time": "2022-01-27T17:23:41.423Z"
      },
      {
        "duration": 25,
        "start_time": "2022-01-27T17:23:41.448Z"
      },
      {
        "duration": 28,
        "start_time": "2022-01-27T17:23:41.476Z"
      },
      {
        "duration": 79,
        "start_time": "2022-01-27T17:23:41.506Z"
      },
      {
        "duration": 14,
        "start_time": "2022-01-27T17:23:41.587Z"
      },
      {
        "duration": 185,
        "start_time": "2022-01-27T17:23:41.602Z"
      },
      {
        "duration": 11,
        "start_time": "2022-01-27T17:25:50.951Z"
      },
      {
        "duration": 1362,
        "start_time": "2022-01-27T17:26:05.499Z"
      },
      {
        "duration": 583,
        "start_time": "2022-01-27T17:26:06.863Z"
      },
      {
        "duration": 22,
        "start_time": "2022-01-27T17:26:07.449Z"
      },
      {
        "duration": 19,
        "start_time": "2022-01-27T17:26:07.473Z"
      },
      {
        "duration": 29,
        "start_time": "2022-01-27T17:26:07.494Z"
      },
      {
        "duration": 41,
        "start_time": "2022-01-27T17:26:07.525Z"
      },
      {
        "duration": 23,
        "start_time": "2022-01-27T17:26:07.568Z"
      },
      {
        "duration": 12,
        "start_time": "2022-01-27T17:26:07.593Z"
      },
      {
        "duration": 9,
        "start_time": "2022-01-27T17:26:07.607Z"
      },
      {
        "duration": 14,
        "start_time": "2022-01-27T17:26:07.617Z"
      },
      {
        "duration": 32,
        "start_time": "2022-01-27T17:26:07.633Z"
      },
      {
        "duration": 64,
        "start_time": "2022-01-27T17:26:07.666Z"
      },
      {
        "duration": 34,
        "start_time": "2022-01-27T17:26:07.732Z"
      },
      {
        "duration": 186,
        "start_time": "2022-01-27T17:26:07.767Z"
      },
      {
        "duration": 342,
        "start_time": "2022-01-27T17:26:42.345Z"
      },
      {
        "duration": 1031,
        "start_time": "2022-01-27T17:28:05.621Z"
      },
      {
        "duration": 423,
        "start_time": "2022-01-27T17:28:06.654Z"
      },
      {
        "duration": 15,
        "start_time": "2022-01-27T17:28:07.079Z"
      },
      {
        "duration": 17,
        "start_time": "2022-01-27T17:28:07.097Z"
      },
      {
        "duration": 29,
        "start_time": "2022-01-27T17:28:07.115Z"
      },
      {
        "duration": 33,
        "start_time": "2022-01-27T17:28:07.146Z"
      },
      {
        "duration": 23,
        "start_time": "2022-01-27T17:28:07.181Z"
      },
      {
        "duration": 19,
        "start_time": "2022-01-27T17:28:07.206Z"
      },
      {
        "duration": 34,
        "start_time": "2022-01-27T17:28:07.227Z"
      },
      {
        "duration": 17,
        "start_time": "2022-01-27T17:28:07.263Z"
      },
      {
        "duration": 9,
        "start_time": "2022-01-27T17:28:07.283Z"
      },
      {
        "duration": 78,
        "start_time": "2022-01-27T17:28:07.294Z"
      },
      {
        "duration": 15,
        "start_time": "2022-01-27T17:28:07.374Z"
      },
      {
        "duration": 198,
        "start_time": "2022-01-27T17:28:07.391Z"
      },
      {
        "duration": 91,
        "start_time": "2022-01-27T17:29:07.554Z"
      },
      {
        "duration": 30,
        "start_time": "2022-01-27T17:29:11.703Z"
      },
      {
        "duration": 410,
        "start_time": "2022-01-27T17:29:39.110Z"
      },
      {
        "duration": 14,
        "start_time": "2022-01-27T17:29:49.542Z"
      },
      {
        "duration": 30,
        "start_time": "2022-01-27T17:30:09.828Z"
      },
      {
        "duration": 16,
        "start_time": "2022-01-27T17:30:17.278Z"
      },
      {
        "duration": 341,
        "start_time": "2022-01-27T17:30:26.928Z"
      },
      {
        "duration": 388,
        "start_time": "2022-01-27T17:30:52.466Z"
      },
      {
        "duration": 5,
        "start_time": "2022-01-27T17:32:08.339Z"
      },
      {
        "duration": 12,
        "start_time": "2022-01-27T17:32:16.023Z"
      },
      {
        "duration": 8,
        "start_time": "2022-01-27T17:32:29.574Z"
      },
      {
        "duration": 266,
        "start_time": "2022-01-27T17:32:39.514Z"
      },
      {
        "duration": 1107,
        "start_time": "2022-01-27T17:32:52.548Z"
      },
      {
        "duration": 404,
        "start_time": "2022-01-27T17:32:53.657Z"
      },
      {
        "duration": 13,
        "start_time": "2022-01-27T17:32:54.063Z"
      },
      {
        "duration": 16,
        "start_time": "2022-01-27T17:32:54.079Z"
      },
      {
        "duration": 27,
        "start_time": "2022-01-27T17:32:54.096Z"
      },
      {
        "duration": 47,
        "start_time": "2022-01-27T17:32:54.125Z"
      },
      {
        "duration": 22,
        "start_time": "2022-01-27T17:32:54.173Z"
      },
      {
        "duration": 13,
        "start_time": "2022-01-27T17:32:54.198Z"
      },
      {
        "duration": 16,
        "start_time": "2022-01-27T17:32:54.213Z"
      },
      {
        "duration": 42,
        "start_time": "2022-01-27T17:32:54.231Z"
      },
      {
        "duration": 8,
        "start_time": "2022-01-27T17:32:54.275Z"
      },
      {
        "duration": 68,
        "start_time": "2022-01-27T17:32:54.284Z"
      },
      {
        "duration": 19,
        "start_time": "2022-01-27T17:32:54.353Z"
      },
      {
        "duration": 180,
        "start_time": "2022-01-27T17:32:54.374Z"
      },
      {
        "duration": 9,
        "start_time": "2022-01-27T17:33:18.520Z"
      },
      {
        "duration": 9,
        "start_time": "2022-01-27T17:33:22.827Z"
      },
      {
        "duration": 1114,
        "start_time": "2022-01-27T17:33:34.938Z"
      },
      {
        "duration": 423,
        "start_time": "2022-01-27T17:33:36.055Z"
      },
      {
        "duration": 14,
        "start_time": "2022-01-27T17:33:36.480Z"
      },
      {
        "duration": 39,
        "start_time": "2022-01-27T17:33:36.496Z"
      },
      {
        "duration": 54,
        "start_time": "2022-01-27T17:33:36.537Z"
      },
      {
        "duration": 35,
        "start_time": "2022-01-27T17:33:36.593Z"
      },
      {
        "duration": 50,
        "start_time": "2022-01-27T17:33:36.629Z"
      },
      {
        "duration": 36,
        "start_time": "2022-01-27T17:33:36.681Z"
      },
      {
        "duration": 32,
        "start_time": "2022-01-27T17:33:36.719Z"
      },
      {
        "duration": 51,
        "start_time": "2022-01-27T17:33:36.753Z"
      },
      {
        "duration": 18,
        "start_time": "2022-01-27T17:33:36.806Z"
      },
      {
        "duration": 89,
        "start_time": "2022-01-27T17:33:36.826Z"
      },
      {
        "duration": 21,
        "start_time": "2022-01-27T17:33:36.917Z"
      },
      {
        "duration": 203,
        "start_time": "2022-01-27T17:33:36.939Z"
      },
      {
        "duration": 58,
        "start_time": "2022-01-27T17:33:56.578Z"
      },
      {
        "duration": 338,
        "start_time": "2022-01-27T17:35:07.618Z"
      },
      {
        "duration": 185,
        "start_time": "2022-01-27T17:35:26.094Z"
      },
      {
        "duration": 188,
        "start_time": "2022-01-27T17:35:39.888Z"
      },
      {
        "duration": 1098,
        "start_time": "2022-01-27T17:35:52.151Z"
      },
      {
        "duration": 418,
        "start_time": "2022-01-27T17:35:53.251Z"
      },
      {
        "duration": 13,
        "start_time": "2022-01-27T17:35:53.671Z"
      },
      {
        "duration": 34,
        "start_time": "2022-01-27T17:35:53.686Z"
      },
      {
        "duration": 40,
        "start_time": "2022-01-27T17:35:53.721Z"
      },
      {
        "duration": 18,
        "start_time": "2022-01-27T17:35:53.763Z"
      },
      {
        "duration": 29,
        "start_time": "2022-01-27T17:35:53.782Z"
      },
      {
        "duration": 10,
        "start_time": "2022-01-27T17:35:53.813Z"
      },
      {
        "duration": 27,
        "start_time": "2022-01-27T17:35:53.824Z"
      },
      {
        "duration": 22,
        "start_time": "2022-01-27T17:35:53.853Z"
      },
      {
        "duration": 7,
        "start_time": "2022-01-27T17:35:53.876Z"
      },
      {
        "duration": 84,
        "start_time": "2022-01-27T17:35:53.884Z"
      },
      {
        "duration": 14,
        "start_time": "2022-01-27T17:35:53.969Z"
      },
      {
        "duration": 173,
        "start_time": "2022-01-27T17:35:53.984Z"
      },
      {
        "duration": 185,
        "start_time": "2022-01-27T17:36:27.491Z"
      },
      {
        "duration": 80,
        "start_time": "2022-01-27T17:41:51.352Z"
      },
      {
        "duration": 172,
        "start_time": "2022-01-27T17:42:07.170Z"
      },
      {
        "duration": 186,
        "start_time": "2022-01-27T17:52:31.891Z"
      },
      {
        "duration": 36,
        "start_time": "2022-01-27T18:05:20.884Z"
      },
      {
        "duration": 97,
        "start_time": "2022-01-27T18:07:57.559Z"
      },
      {
        "duration": 1074,
        "start_time": "2022-01-27T18:08:22.580Z"
      },
      {
        "duration": 409,
        "start_time": "2022-01-27T18:08:23.656Z"
      },
      {
        "duration": 14,
        "start_time": "2022-01-27T18:08:24.069Z"
      },
      {
        "duration": 12,
        "start_time": "2022-01-27T18:08:24.085Z"
      },
      {
        "duration": 26,
        "start_time": "2022-01-27T18:08:24.098Z"
      },
      {
        "duration": 42,
        "start_time": "2022-01-27T18:08:24.126Z"
      },
      {
        "duration": 21,
        "start_time": "2022-01-27T18:08:24.171Z"
      },
      {
        "duration": 10,
        "start_time": "2022-01-27T18:08:24.194Z"
      },
      {
        "duration": 7,
        "start_time": "2022-01-27T18:08:24.206Z"
      },
      {
        "duration": 47,
        "start_time": "2022-01-27T18:08:24.215Z"
      },
      {
        "duration": 7,
        "start_time": "2022-01-27T18:08:24.263Z"
      },
      {
        "duration": 58,
        "start_time": "2022-01-27T18:08:24.271Z"
      },
      {
        "duration": 163,
        "start_time": "2022-01-27T18:08:24.331Z"
      },
      {
        "duration": 36,
        "start_time": "2022-01-27T18:08:24.496Z"
      },
      {
        "duration": 93,
        "start_time": "2022-01-27T18:08:24.533Z"
      },
      {
        "duration": 65,
        "start_time": "2022-01-27T18:09:05.728Z"
      },
      {
        "duration": 216,
        "start_time": "2022-01-27T18:11:21.821Z"
      },
      {
        "duration": 147,
        "start_time": "2022-01-27T18:11:34.717Z"
      },
      {
        "duration": 177,
        "start_time": "2022-01-27T18:12:34.696Z"
      },
      {
        "duration": 165,
        "start_time": "2022-01-27T18:13:18.201Z"
      },
      {
        "duration": 88,
        "start_time": "2022-01-27T18:13:33.110Z"
      },
      {
        "duration": 1057,
        "start_time": "2022-01-27T18:13:44.589Z"
      },
      {
        "duration": 411,
        "start_time": "2022-01-27T18:13:45.648Z"
      },
      {
        "duration": 14,
        "start_time": "2022-01-27T18:13:46.061Z"
      },
      {
        "duration": 33,
        "start_time": "2022-01-27T18:13:46.077Z"
      },
      {
        "duration": 55,
        "start_time": "2022-01-27T18:13:46.112Z"
      },
      {
        "duration": 18,
        "start_time": "2022-01-27T18:13:46.168Z"
      },
      {
        "duration": 33,
        "start_time": "2022-01-27T18:13:46.188Z"
      },
      {
        "duration": 10,
        "start_time": "2022-01-27T18:13:46.223Z"
      },
      {
        "duration": 28,
        "start_time": "2022-01-27T18:13:46.235Z"
      },
      {
        "duration": 37,
        "start_time": "2022-01-27T18:13:46.264Z"
      },
      {
        "duration": 18,
        "start_time": "2022-01-27T18:13:46.302Z"
      },
      {
        "duration": 82,
        "start_time": "2022-01-27T18:13:46.321Z"
      },
      {
        "duration": 162,
        "start_time": "2022-01-27T18:13:46.404Z"
      },
      {
        "duration": 35,
        "start_time": "2022-01-27T18:13:46.568Z"
      },
      {
        "duration": 81,
        "start_time": "2022-01-27T18:13:46.604Z"
      },
      {
        "duration": 78,
        "start_time": "2022-01-27T18:14:02.476Z"
      },
      {
        "duration": 92,
        "start_time": "2022-01-27T18:14:16.660Z"
      },
      {
        "duration": 87,
        "start_time": "2022-01-27T18:14:23.533Z"
      },
      {
        "duration": 86,
        "start_time": "2022-01-27T18:14:31.894Z"
      },
      {
        "duration": 81,
        "start_time": "2022-01-27T18:16:45.318Z"
      },
      {
        "duration": 46,
        "start_time": "2022-01-27T18:17:57.022Z"
      },
      {
        "duration": 95,
        "start_time": "2022-01-27T18:19:07.550Z"
      },
      {
        "duration": 83,
        "start_time": "2022-01-27T18:19:43.958Z"
      },
      {
        "duration": 86,
        "start_time": "2022-01-27T18:47:57.059Z"
      },
      {
        "duration": 82,
        "start_time": "2022-01-27T18:48:18.965Z"
      },
      {
        "duration": 92,
        "start_time": "2022-01-27T18:49:40.899Z"
      },
      {
        "duration": 87,
        "start_time": "2022-01-27T18:49:51.121Z"
      },
      {
        "duration": 83,
        "start_time": "2022-01-27T18:53:28.059Z"
      },
      {
        "duration": 7616,
        "start_time": "2022-01-27T18:53:34.479Z"
      },
      {
        "duration": 138,
        "start_time": "2022-01-27T18:53:59.917Z"
      },
      {
        "duration": 115,
        "start_time": "2022-01-27T18:55:37.032Z"
      },
      {
        "duration": 6785,
        "start_time": "2022-01-27T18:56:13.952Z"
      },
      {
        "duration": 6439,
        "start_time": "2022-01-27T18:59:35.963Z"
      },
      {
        "duration": 299,
        "start_time": "2022-01-27T19:03:49.225Z"
      },
      {
        "duration": 94,
        "start_time": "2022-01-27T19:07:15.700Z"
      },
      {
        "duration": 283,
        "start_time": "2022-01-27T19:07:37.560Z"
      },
      {
        "duration": 263,
        "start_time": "2022-01-27T19:08:02.462Z"
      },
      {
        "duration": 266,
        "start_time": "2022-01-27T19:09:03.001Z"
      },
      {
        "duration": 19,
        "start_time": "2022-01-27T19:12:21.103Z"
      },
      {
        "duration": 266,
        "start_time": "2022-01-27T19:12:30.756Z"
      },
      {
        "duration": 332,
        "start_time": "2022-01-27T19:13:04.896Z"
      },
      {
        "duration": 18,
        "start_time": "2022-01-27T19:13:35.331Z"
      },
      {
        "duration": 251,
        "start_time": "2022-01-27T19:14:58.524Z"
      },
      {
        "duration": 256,
        "start_time": "2022-01-27T19:15:43.586Z"
      },
      {
        "duration": 4,
        "start_time": "2022-01-27T19:16:14.786Z"
      },
      {
        "duration": 5,
        "start_time": "2022-01-27T19:16:19.551Z"
      },
      {
        "duration": 20,
        "start_time": "2022-01-27T19:17:02.859Z"
      },
      {
        "duration": 87,
        "start_time": "2022-01-27T19:17:47.582Z"
      },
      {
        "duration": 11,
        "start_time": "2022-01-27T19:25:45.316Z"
      },
      {
        "duration": 9,
        "start_time": "2022-01-27T19:30:38.093Z"
      },
      {
        "duration": 1053,
        "start_time": "2022-01-27T19:30:48.991Z"
      },
      {
        "duration": 396,
        "start_time": "2022-01-27T19:30:50.046Z"
      },
      {
        "duration": 14,
        "start_time": "2022-01-27T19:30:50.444Z"
      },
      {
        "duration": 31,
        "start_time": "2022-01-27T19:30:50.460Z"
      },
      {
        "duration": 42,
        "start_time": "2022-01-27T19:30:50.493Z"
      },
      {
        "duration": 20,
        "start_time": "2022-01-27T19:30:50.537Z"
      },
      {
        "duration": 34,
        "start_time": "2022-01-27T19:30:50.558Z"
      },
      {
        "duration": 10,
        "start_time": "2022-01-27T19:30:50.594Z"
      },
      {
        "duration": 14,
        "start_time": "2022-01-27T19:30:50.605Z"
      },
      {
        "duration": 25,
        "start_time": "2022-01-27T19:30:50.621Z"
      },
      {
        "duration": 7,
        "start_time": "2022-01-27T19:30:50.648Z"
      },
      {
        "duration": 55,
        "start_time": "2022-01-27T19:30:50.660Z"
      },
      {
        "duration": 173,
        "start_time": "2022-01-27T19:30:50.717Z"
      },
      {
        "duration": 35,
        "start_time": "2022-01-27T19:30:50.891Z"
      },
      {
        "duration": 90,
        "start_time": "2022-01-27T19:30:50.928Z"
      },
      {
        "duration": 8,
        "start_time": "2022-01-27T19:30:51.020Z"
      },
      {
        "duration": 69,
        "start_time": "2022-01-27T19:30:51.029Z"
      },
      {
        "duration": 21,
        "start_time": "2022-01-27T19:30:51.099Z"
      },
      {
        "duration": 8,
        "start_time": "2022-01-27T19:30:51.121Z"
      },
      {
        "duration": 105,
        "start_time": "2022-01-27T19:30:51.130Z"
      },
      {
        "duration": 382,
        "start_time": "2022-01-27T19:32:11.226Z"
      },
      {
        "duration": 12,
        "start_time": "2022-01-27T19:32:18.885Z"
      },
      {
        "duration": 10,
        "start_time": "2022-01-27T19:33:29.807Z"
      },
      {
        "duration": 8,
        "start_time": "2022-01-27T19:33:32.857Z"
      },
      {
        "duration": 1032,
        "start_time": "2022-01-27T19:33:58.400Z"
      },
      {
        "duration": 398,
        "start_time": "2022-01-27T19:33:59.434Z"
      },
      {
        "duration": 14,
        "start_time": "2022-01-27T19:33:59.834Z"
      },
      {
        "duration": 30,
        "start_time": "2022-01-27T19:33:59.850Z"
      },
      {
        "duration": 40,
        "start_time": "2022-01-27T19:33:59.881Z"
      },
      {
        "duration": 30,
        "start_time": "2022-01-27T19:33:59.922Z"
      },
      {
        "duration": 25,
        "start_time": "2022-01-27T19:33:59.953Z"
      },
      {
        "duration": 9,
        "start_time": "2022-01-27T19:33:59.981Z"
      },
      {
        "duration": 20,
        "start_time": "2022-01-27T19:33:59.992Z"
      },
      {
        "duration": 19,
        "start_time": "2022-01-27T19:34:00.014Z"
      },
      {
        "duration": 24,
        "start_time": "2022-01-27T19:34:00.035Z"
      },
      {
        "duration": 70,
        "start_time": "2022-01-27T19:34:00.061Z"
      },
      {
        "duration": 164,
        "start_time": "2022-01-27T19:34:00.133Z"
      },
      {
        "duration": 36,
        "start_time": "2022-01-27T19:34:00.298Z"
      },
      {
        "duration": 93,
        "start_time": "2022-01-27T19:34:00.335Z"
      },
      {
        "duration": 9,
        "start_time": "2022-01-27T19:34:00.430Z"
      },
      {
        "duration": 68,
        "start_time": "2022-01-27T19:34:00.441Z"
      },
      {
        "duration": 21,
        "start_time": "2022-01-27T19:34:00.510Z"
      },
      {
        "duration": 8,
        "start_time": "2022-01-27T19:34:00.533Z"
      },
      {
        "duration": 23,
        "start_time": "2022-01-27T19:34:00.543Z"
      },
      {
        "duration": 17,
        "start_time": "2022-01-27T19:35:09.220Z"
      },
      {
        "duration": 13,
        "start_time": "2022-01-27T19:36:07.493Z"
      },
      {
        "duration": 13,
        "start_time": "2022-01-27T19:39:39.237Z"
      },
      {
        "duration": 1070,
        "start_time": "2022-01-27T19:40:07.388Z"
      },
      {
        "duration": 427,
        "start_time": "2022-01-27T19:40:08.461Z"
      },
      {
        "duration": 17,
        "start_time": "2022-01-27T19:40:08.890Z"
      },
      {
        "duration": 15,
        "start_time": "2022-01-27T19:40:08.909Z"
      },
      {
        "duration": 34,
        "start_time": "2022-01-27T19:40:08.926Z"
      },
      {
        "duration": 20,
        "start_time": "2022-01-27T19:40:08.962Z"
      },
      {
        "duration": 24,
        "start_time": "2022-01-27T19:40:08.984Z"
      },
      {
        "duration": 10,
        "start_time": "2022-01-27T19:40:09.011Z"
      },
      {
        "duration": 39,
        "start_time": "2022-01-27T19:40:09.023Z"
      },
      {
        "duration": 14,
        "start_time": "2022-01-27T19:40:09.064Z"
      },
      {
        "duration": 8,
        "start_time": "2022-01-27T19:40:09.080Z"
      },
      {
        "duration": 75,
        "start_time": "2022-01-27T19:40:09.090Z"
      },
      {
        "duration": 179,
        "start_time": "2022-01-27T19:40:09.167Z"
      },
      {
        "duration": 38,
        "start_time": "2022-01-27T19:40:09.348Z"
      },
      {
        "duration": 96,
        "start_time": "2022-01-27T19:40:09.388Z"
      },
      {
        "duration": 9,
        "start_time": "2022-01-27T19:40:09.486Z"
      },
      {
        "duration": 73,
        "start_time": "2022-01-27T19:40:09.497Z"
      },
      {
        "duration": 22,
        "start_time": "2022-01-27T19:40:09.572Z"
      },
      {
        "duration": 17,
        "start_time": "2022-01-27T19:40:09.595Z"
      },
      {
        "duration": 28,
        "start_time": "2022-01-27T19:40:09.614Z"
      },
      {
        "duration": 11,
        "start_time": "2022-01-27T19:40:56.165Z"
      },
      {
        "duration": 15,
        "start_time": "2022-01-27T19:41:34.766Z"
      },
      {
        "duration": 1344,
        "start_time": "2022-01-27T19:41:59.771Z"
      },
      {
        "duration": 568,
        "start_time": "2022-01-27T19:42:01.117Z"
      },
      {
        "duration": 22,
        "start_time": "2022-01-27T19:42:01.688Z"
      },
      {
        "duration": 21,
        "start_time": "2022-01-27T19:42:01.713Z"
      },
      {
        "duration": 36,
        "start_time": "2022-01-27T19:42:01.735Z"
      },
      {
        "duration": 20,
        "start_time": "2022-01-27T19:42:01.773Z"
      },
      {
        "duration": 40,
        "start_time": "2022-01-27T19:42:01.795Z"
      },
      {
        "duration": 16,
        "start_time": "2022-01-27T19:42:01.863Z"
      },
      {
        "duration": 25,
        "start_time": "2022-01-27T19:42:01.881Z"
      },
      {
        "duration": 24,
        "start_time": "2022-01-27T19:42:01.908Z"
      },
      {
        "duration": 29,
        "start_time": "2022-01-27T19:42:01.933Z"
      },
      {
        "duration": 88,
        "start_time": "2022-01-27T19:42:01.964Z"
      },
      {
        "duration": 216,
        "start_time": "2022-01-27T19:42:02.053Z"
      },
      {
        "duration": 39,
        "start_time": "2022-01-27T19:42:02.271Z"
      },
      {
        "duration": 117,
        "start_time": "2022-01-27T19:42:02.312Z"
      },
      {
        "duration": 9,
        "start_time": "2022-01-27T19:42:02.430Z"
      },
      {
        "duration": 75,
        "start_time": "2022-01-27T19:42:02.441Z"
      },
      {
        "duration": 22,
        "start_time": "2022-01-27T19:42:02.518Z"
      },
      {
        "duration": 29,
        "start_time": "2022-01-27T19:42:02.542Z"
      },
      {
        "duration": 22,
        "start_time": "2022-01-27T19:42:02.573Z"
      },
      {
        "duration": 11,
        "start_time": "2022-01-27T19:42:17.590Z"
      },
      {
        "duration": 13,
        "start_time": "2022-01-27T19:42:21.165Z"
      },
      {
        "duration": 1061,
        "start_time": "2022-01-27T19:42:44.597Z"
      },
      {
        "duration": 432,
        "start_time": "2022-01-27T19:42:45.660Z"
      },
      {
        "duration": 15,
        "start_time": "2022-01-27T19:42:46.094Z"
      },
      {
        "duration": 14,
        "start_time": "2022-01-27T19:42:46.111Z"
      },
      {
        "duration": 29,
        "start_time": "2022-01-27T19:42:46.127Z"
      },
      {
        "duration": 21,
        "start_time": "2022-01-27T19:42:46.157Z"
      },
      {
        "duration": 25,
        "start_time": "2022-01-27T19:42:46.180Z"
      },
      {
        "duration": 10,
        "start_time": "2022-01-27T19:42:46.207Z"
      },
      {
        "duration": 9,
        "start_time": "2022-01-27T19:42:46.219Z"
      },
      {
        "duration": 43,
        "start_time": "2022-01-27T19:42:46.229Z"
      },
      {
        "duration": 7,
        "start_time": "2022-01-27T19:42:46.274Z"
      },
      {
        "duration": 56,
        "start_time": "2022-01-27T19:42:46.282Z"
      },
      {
        "duration": 167,
        "start_time": "2022-01-27T19:42:46.360Z"
      },
      {
        "duration": 45,
        "start_time": "2022-01-27T19:42:46.528Z"
      },
      {
        "duration": 87,
        "start_time": "2022-01-27T19:42:46.574Z"
      },
      {
        "duration": 18,
        "start_time": "2022-01-27T19:42:46.663Z"
      },
      {
        "duration": 67,
        "start_time": "2022-01-27T19:42:46.683Z"
      },
      {
        "duration": 23,
        "start_time": "2022-01-27T19:42:46.751Z"
      },
      {
        "duration": 21,
        "start_time": "2022-01-27T19:42:46.776Z"
      },
      {
        "duration": 18,
        "start_time": "2022-01-27T19:42:46.799Z"
      },
      {
        "duration": 41,
        "start_time": "2022-01-27T19:42:46.819Z"
      },
      {
        "duration": 5,
        "start_time": "2022-01-27T19:45:19.694Z"
      },
      {
        "duration": 5,
        "start_time": "2022-01-27T19:45:42.112Z"
      },
      {
        "duration": 5,
        "start_time": "2022-01-27T19:46:04.279Z"
      },
      {
        "duration": 10,
        "start_time": "2022-01-27T19:47:23.159Z"
      },
      {
        "duration": 8,
        "start_time": "2022-01-27T19:47:37.236Z"
      },
      {
        "duration": 1120,
        "start_time": "2022-01-27T19:47:48.827Z"
      },
      {
        "duration": 409,
        "start_time": "2022-01-27T19:47:49.950Z"
      },
      {
        "duration": 16,
        "start_time": "2022-01-27T19:47:50.361Z"
      },
      {
        "duration": 17,
        "start_time": "2022-01-27T19:47:50.379Z"
      },
      {
        "duration": 27,
        "start_time": "2022-01-27T19:47:50.398Z"
      },
      {
        "duration": 38,
        "start_time": "2022-01-27T19:47:50.427Z"
      },
      {
        "duration": 22,
        "start_time": "2022-01-27T19:47:50.467Z"
      },
      {
        "duration": 9,
        "start_time": "2022-01-27T19:47:50.491Z"
      },
      {
        "duration": 8,
        "start_time": "2022-01-27T19:47:50.502Z"
      },
      {
        "duration": 12,
        "start_time": "2022-01-27T19:47:50.512Z"
      },
      {
        "duration": 36,
        "start_time": "2022-01-27T19:47:50.526Z"
      },
      {
        "duration": 54,
        "start_time": "2022-01-27T19:47:50.564Z"
      },
      {
        "duration": 179,
        "start_time": "2022-01-27T19:47:50.620Z"
      },
      {
        "duration": 33,
        "start_time": "2022-01-27T19:47:50.801Z"
      },
      {
        "duration": 92,
        "start_time": "2022-01-27T19:47:50.836Z"
      },
      {
        "duration": 8,
        "start_time": "2022-01-27T19:47:50.930Z"
      },
      {
        "duration": 68,
        "start_time": "2022-01-27T19:47:50.939Z"
      },
      {
        "duration": 20,
        "start_time": "2022-01-27T19:47:51.009Z"
      },
      {
        "duration": 29,
        "start_time": "2022-01-27T19:47:51.031Z"
      },
      {
        "duration": 5,
        "start_time": "2022-01-27T19:47:51.062Z"
      },
      {
        "duration": 14,
        "start_time": "2022-01-27T19:47:51.068Z"
      },
      {
        "duration": 19,
        "start_time": "2022-01-27T19:47:51.084Z"
      },
      {
        "duration": 18,
        "start_time": "2022-01-27T19:48:49.314Z"
      },
      {
        "duration": 14,
        "start_time": "2022-01-27T19:49:04.665Z"
      },
      {
        "duration": 6,
        "start_time": "2022-01-27T19:53:53.152Z"
      },
      {
        "duration": 349,
        "start_time": "2022-01-27T19:54:19.232Z"
      },
      {
        "duration": 286,
        "start_time": "2022-01-27T21:00:45.048Z"
      },
      {
        "duration": 243,
        "start_time": "2022-01-27T21:01:25.228Z"
      },
      {
        "duration": 280,
        "start_time": "2022-01-27T21:01:37.833Z"
      },
      {
        "duration": 264,
        "start_time": "2022-01-27T21:02:24.637Z"
      },
      {
        "duration": 272,
        "start_time": "2022-01-27T21:03:55.621Z"
      },
      {
        "duration": 294,
        "start_time": "2022-01-27T21:10:44.319Z"
      },
      {
        "duration": 289,
        "start_time": "2022-01-27T21:11:06.697Z"
      },
      {
        "duration": 1114,
        "start_time": "2022-01-27T21:11:21.041Z"
      },
      {
        "duration": 455,
        "start_time": "2022-01-27T21:11:22.157Z"
      },
      {
        "duration": 14,
        "start_time": "2022-01-27T21:11:22.615Z"
      },
      {
        "duration": 48,
        "start_time": "2022-01-27T21:11:22.632Z"
      },
      {
        "duration": 39,
        "start_time": "2022-01-27T21:11:22.682Z"
      },
      {
        "duration": 22,
        "start_time": "2022-01-27T21:11:22.722Z"
      },
      {
        "duration": 32,
        "start_time": "2022-01-27T21:11:22.746Z"
      },
      {
        "duration": 12,
        "start_time": "2022-01-27T21:11:22.780Z"
      },
      {
        "duration": 22,
        "start_time": "2022-01-27T21:11:22.794Z"
      },
      {
        "duration": 28,
        "start_time": "2022-01-27T21:11:22.818Z"
      },
      {
        "duration": 13,
        "start_time": "2022-01-27T21:11:22.848Z"
      },
      {
        "duration": 70,
        "start_time": "2022-01-27T21:11:22.863Z"
      },
      {
        "duration": 205,
        "start_time": "2022-01-27T21:11:22.934Z"
      },
      {
        "duration": 47,
        "start_time": "2022-01-27T21:11:23.141Z"
      },
      {
        "duration": 96,
        "start_time": "2022-01-27T21:11:23.191Z"
      },
      {
        "duration": 9,
        "start_time": "2022-01-27T21:11:23.289Z"
      },
      {
        "duration": 74,
        "start_time": "2022-01-27T21:11:23.300Z"
      },
      {
        "duration": 24,
        "start_time": "2022-01-27T21:11:23.376Z"
      },
      {
        "duration": 17,
        "start_time": "2022-01-27T21:11:23.401Z"
      },
      {
        "duration": 14,
        "start_time": "2022-01-27T21:11:23.420Z"
      },
      {
        "duration": 30,
        "start_time": "2022-01-27T21:11:23.437Z"
      },
      {
        "duration": 36,
        "start_time": "2022-01-27T21:11:23.469Z"
      },
      {
        "duration": 19,
        "start_time": "2022-01-27T21:11:55.299Z"
      },
      {
        "duration": 11,
        "start_time": "2022-01-27T21:12:00.480Z"
      },
      {
        "duration": 20,
        "start_time": "2022-01-27T21:12:08.446Z"
      },
      {
        "duration": 1116,
        "start_time": "2022-01-27T21:14:05.112Z"
      },
      {
        "duration": 1351,
        "start_time": "2022-01-27T21:16:21.121Z"
      },
      {
        "duration": 2423,
        "start_time": "2022-01-27T21:17:19.271Z"
      },
      {
        "duration": 1832,
        "start_time": "2022-01-27T21:17:41.792Z"
      },
      {
        "duration": 975,
        "start_time": "2022-01-27T21:17:48.101Z"
      },
      {
        "duration": 1659,
        "start_time": "2022-01-27T21:18:06.169Z"
      },
      {
        "duration": 14,
        "start_time": "2022-01-27T21:20:16.828Z"
      },
      {
        "duration": 43,
        "start_time": "2022-01-27T21:20:43.024Z"
      },
      {
        "duration": 7,
        "start_time": "2022-01-27T21:21:05.151Z"
      },
      {
        "duration": 5,
        "start_time": "2022-01-27T21:21:48.358Z"
      },
      {
        "duration": 68,
        "start_time": "2022-01-27T21:22:24.338Z"
      },
      {
        "duration": 11,
        "start_time": "2022-01-27T21:22:51.206Z"
      },
      {
        "duration": 9,
        "start_time": "2022-01-27T21:23:36.840Z"
      },
      {
        "duration": 9,
        "start_time": "2022-01-27T21:23:37.201Z"
      },
      {
        "duration": 49,
        "start_time": "2022-01-27T21:23:37.670Z"
      },
      {
        "duration": 1048,
        "start_time": "2022-01-27T21:24:46.209Z"
      },
      {
        "duration": 411,
        "start_time": "2022-01-27T21:24:47.260Z"
      },
      {
        "duration": 14,
        "start_time": "2022-01-27T21:24:47.673Z"
      },
      {
        "duration": 12,
        "start_time": "2022-01-27T21:24:47.689Z"
      },
      {
        "duration": 27,
        "start_time": "2022-01-27T21:24:47.703Z"
      },
      {
        "duration": 39,
        "start_time": "2022-01-27T21:24:47.731Z"
      },
      {
        "duration": 21,
        "start_time": "2022-01-27T21:24:47.772Z"
      },
      {
        "duration": 10,
        "start_time": "2022-01-27T21:24:47.796Z"
      },
      {
        "duration": 9,
        "start_time": "2022-01-27T21:24:47.808Z"
      },
      {
        "duration": 42,
        "start_time": "2022-01-27T21:24:47.818Z"
      },
      {
        "duration": 8,
        "start_time": "2022-01-27T21:24:47.862Z"
      },
      {
        "duration": 58,
        "start_time": "2022-01-27T21:24:47.871Z"
      },
      {
        "duration": 187,
        "start_time": "2022-01-27T21:24:47.931Z"
      },
      {
        "duration": 46,
        "start_time": "2022-01-27T21:24:48.120Z"
      },
      {
        "duration": 94,
        "start_time": "2022-01-27T21:24:48.168Z"
      },
      {
        "duration": 8,
        "start_time": "2022-01-27T21:24:48.264Z"
      },
      {
        "duration": 75,
        "start_time": "2022-01-27T21:24:48.274Z"
      },
      {
        "duration": 21,
        "start_time": "2022-01-27T21:24:48.351Z"
      },
      {
        "duration": 16,
        "start_time": "2022-01-27T21:24:48.374Z"
      },
      {
        "duration": 13,
        "start_time": "2022-01-27T21:24:48.392Z"
      },
      {
        "duration": 10,
        "start_time": "2022-01-27T21:24:48.406Z"
      },
      {
        "duration": 76,
        "start_time": "2022-01-27T21:24:48.417Z"
      },
      {
        "duration": 9,
        "start_time": "2022-01-27T21:24:48.496Z"
      },
      {
        "duration": 60,
        "start_time": "2022-01-27T21:25:12.443Z"
      },
      {
        "duration": 18,
        "start_time": "2022-01-27T21:25:15.717Z"
      },
      {
        "duration": 1122,
        "start_time": "2022-01-27T21:25:24.025Z"
      },
      {
        "duration": 393,
        "start_time": "2022-01-27T21:25:25.149Z"
      },
      {
        "duration": 14,
        "start_time": "2022-01-27T21:25:25.545Z"
      },
      {
        "duration": 13,
        "start_time": "2022-01-27T21:25:25.562Z"
      },
      {
        "duration": 30,
        "start_time": "2022-01-27T21:25:25.577Z"
      },
      {
        "duration": 19,
        "start_time": "2022-01-27T21:25:25.608Z"
      },
      {
        "duration": 47,
        "start_time": "2022-01-27T21:25:25.628Z"
      },
      {
        "duration": 10,
        "start_time": "2022-01-27T21:25:25.678Z"
      },
      {
        "duration": 9,
        "start_time": "2022-01-27T21:25:25.690Z"
      },
      {
        "duration": 30,
        "start_time": "2022-01-27T21:25:25.700Z"
      },
      {
        "duration": 21,
        "start_time": "2022-01-27T21:25:25.732Z"
      },
      {
        "duration": 61,
        "start_time": "2022-01-27T21:25:25.754Z"
      },
      {
        "duration": 161,
        "start_time": "2022-01-27T21:25:25.817Z"
      },
      {
        "duration": 36,
        "start_time": "2022-01-27T21:25:25.979Z"
      },
      {
        "duration": 103,
        "start_time": "2022-01-27T21:25:26.017Z"
      },
      {
        "duration": 8,
        "start_time": "2022-01-27T21:25:26.122Z"
      },
      {
        "duration": 64,
        "start_time": "2022-01-27T21:25:26.132Z"
      },
      {
        "duration": 21,
        "start_time": "2022-01-27T21:25:26.198Z"
      },
      {
        "duration": 16,
        "start_time": "2022-01-27T21:25:26.220Z"
      },
      {
        "duration": 24,
        "start_time": "2022-01-27T21:25:26.238Z"
      },
      {
        "duration": 27,
        "start_time": "2022-01-27T21:25:26.264Z"
      },
      {
        "duration": 57,
        "start_time": "2022-01-27T21:25:26.293Z"
      },
      {
        "duration": 16,
        "start_time": "2022-01-27T21:25:26.353Z"
      },
      {
        "duration": 62,
        "start_time": "2022-01-27T21:26:06.667Z"
      },
      {
        "duration": 28,
        "start_time": "2022-01-27T21:26:07.820Z"
      },
      {
        "duration": 55,
        "start_time": "2022-01-27T21:26:21.482Z"
      },
      {
        "duration": 19,
        "start_time": "2022-01-27T21:26:24.289Z"
      },
      {
        "duration": 1085,
        "start_time": "2022-01-27T21:26:30.078Z"
      },
      {
        "duration": 408,
        "start_time": "2022-01-27T21:26:31.165Z"
      },
      {
        "duration": 14,
        "start_time": "2022-01-27T21:26:31.575Z"
      },
      {
        "duration": 13,
        "start_time": "2022-01-27T21:26:31.591Z"
      },
      {
        "duration": 29,
        "start_time": "2022-01-27T21:26:31.606Z"
      },
      {
        "duration": 42,
        "start_time": "2022-01-27T21:26:31.637Z"
      },
      {
        "duration": 24,
        "start_time": "2022-01-27T21:26:31.681Z"
      },
      {
        "duration": 10,
        "start_time": "2022-01-27T21:26:31.707Z"
      },
      {
        "duration": 8,
        "start_time": "2022-01-27T21:26:31.720Z"
      },
      {
        "duration": 43,
        "start_time": "2022-01-27T21:26:31.730Z"
      },
      {
        "duration": 8,
        "start_time": "2022-01-27T21:26:31.774Z"
      },
      {
        "duration": 59,
        "start_time": "2022-01-27T21:26:31.783Z"
      },
      {
        "duration": 172,
        "start_time": "2022-01-27T21:26:31.860Z"
      },
      {
        "duration": 39,
        "start_time": "2022-01-27T21:26:32.034Z"
      },
      {
        "duration": 90,
        "start_time": "2022-01-27T21:26:32.075Z"
      },
      {
        "duration": 9,
        "start_time": "2022-01-27T21:26:32.166Z"
      },
      {
        "duration": 54,
        "start_time": "2022-01-27T21:26:32.176Z"
      },
      {
        "duration": 39,
        "start_time": "2022-01-27T21:26:32.232Z"
      },
      {
        "duration": 17,
        "start_time": "2022-01-27T21:26:32.272Z"
      },
      {
        "duration": 13,
        "start_time": "2022-01-27T21:26:32.291Z"
      },
      {
        "duration": 12,
        "start_time": "2022-01-27T21:26:32.305Z"
      },
      {
        "duration": 84,
        "start_time": "2022-01-27T21:26:32.318Z"
      },
      {
        "duration": 18,
        "start_time": "2022-01-27T21:26:32.403Z"
      },
      {
        "duration": 68,
        "start_time": "2022-01-27T21:28:08.017Z"
      },
      {
        "duration": 19,
        "start_time": "2022-01-27T21:29:51.011Z"
      },
      {
        "duration": 22,
        "start_time": "2022-01-27T21:30:19.334Z"
      },
      {
        "duration": 1182,
        "start_time": "2022-01-27T21:30:33.698Z"
      },
      {
        "duration": 455,
        "start_time": "2022-01-27T21:30:34.882Z"
      },
      {
        "duration": 15,
        "start_time": "2022-01-27T21:30:35.339Z"
      },
      {
        "duration": 23,
        "start_time": "2022-01-27T21:30:35.356Z"
      },
      {
        "duration": 41,
        "start_time": "2022-01-27T21:30:35.381Z"
      },
      {
        "duration": 21,
        "start_time": "2022-01-27T21:30:35.424Z"
      },
      {
        "duration": 39,
        "start_time": "2022-01-27T21:30:35.447Z"
      },
      {
        "duration": 10,
        "start_time": "2022-01-27T21:30:35.489Z"
      },
      {
        "duration": 46,
        "start_time": "2022-01-27T21:30:35.501Z"
      },
      {
        "duration": 15,
        "start_time": "2022-01-27T21:30:35.549Z"
      },
      {
        "duration": 8,
        "start_time": "2022-01-27T21:30:35.566Z"
      },
      {
        "duration": 60,
        "start_time": "2022-01-27T21:30:35.575Z"
      },
      {
        "duration": 193,
        "start_time": "2022-01-27T21:30:35.637Z"
      },
      {
        "duration": 42,
        "start_time": "2022-01-27T21:30:35.832Z"
      },
      {
        "duration": 105,
        "start_time": "2022-01-27T21:30:35.876Z"
      },
      {
        "duration": 10,
        "start_time": "2022-01-27T21:30:35.983Z"
      },
      {
        "duration": 72,
        "start_time": "2022-01-27T21:30:35.995Z"
      },
      {
        "duration": 31,
        "start_time": "2022-01-27T21:30:36.069Z"
      },
      {
        "duration": 17,
        "start_time": "2022-01-27T21:30:36.102Z"
      },
      {
        "duration": 14,
        "start_time": "2022-01-27T21:30:36.121Z"
      },
      {
        "duration": 28,
        "start_time": "2022-01-27T21:30:36.137Z"
      },
      {
        "duration": 81,
        "start_time": "2022-01-27T21:30:36.167Z"
      },
      {
        "duration": 74,
        "start_time": "2022-01-27T21:51:27.370Z"
      },
      {
        "duration": 77,
        "start_time": "2022-01-27T21:51:35.088Z"
      },
      {
        "duration": 78,
        "start_time": "2022-01-27T21:51:48.860Z"
      },
      {
        "duration": 84,
        "start_time": "2022-01-27T21:52:06.946Z"
      },
      {
        "duration": 1078,
        "start_time": "2022-01-27T21:52:28.474Z"
      },
      {
        "duration": 415,
        "start_time": "2022-01-27T21:52:29.554Z"
      },
      {
        "duration": 14,
        "start_time": "2022-01-27T21:52:29.971Z"
      },
      {
        "duration": 13,
        "start_time": "2022-01-27T21:52:29.988Z"
      },
      {
        "duration": 32,
        "start_time": "2022-01-27T21:52:30.004Z"
      },
      {
        "duration": 22,
        "start_time": "2022-01-27T21:52:30.061Z"
      },
      {
        "duration": 34,
        "start_time": "2022-01-27T21:52:30.085Z"
      },
      {
        "duration": 46,
        "start_time": "2022-01-27T21:52:30.122Z"
      },
      {
        "duration": 91,
        "start_time": "2022-01-27T21:52:30.171Z"
      },
      {
        "duration": 154,
        "start_time": "2022-01-27T21:52:30.264Z"
      },
      {
        "duration": 123,
        "start_time": "2022-01-27T21:52:30.420Z"
      },
      {
        "duration": 162,
        "start_time": "2022-01-27T21:52:30.545Z"
      },
      {
        "duration": 179,
        "start_time": "2022-01-27T21:52:30.709Z"
      },
      {
        "duration": 36,
        "start_time": "2022-01-27T21:52:30.890Z"
      },
      {
        "duration": 101,
        "start_time": "2022-01-27T21:52:30.928Z"
      },
      {
        "duration": 10,
        "start_time": "2022-01-27T21:52:31.030Z"
      },
      {
        "duration": 87,
        "start_time": "2022-01-27T21:52:31.041Z"
      },
      {
        "duration": 21,
        "start_time": "2022-01-27T21:52:31.129Z"
      },
      {
        "duration": 19,
        "start_time": "2022-01-27T21:52:31.152Z"
      },
      {
        "duration": 38,
        "start_time": "2022-01-27T21:52:31.174Z"
      },
      {
        "duration": 92,
        "start_time": "2022-01-27T21:52:31.214Z"
      },
      {
        "duration": 1132,
        "start_time": "2022-01-27T21:52:50.226Z"
      },
      {
        "duration": 414,
        "start_time": "2022-01-27T21:52:51.361Z"
      },
      {
        "duration": 16,
        "start_time": "2022-01-27T21:52:51.777Z"
      },
      {
        "duration": 16,
        "start_time": "2022-01-27T21:52:51.795Z"
      },
      {
        "duration": 35,
        "start_time": "2022-01-27T21:52:51.813Z"
      },
      {
        "duration": 29,
        "start_time": "2022-01-27T21:52:51.849Z"
      },
      {
        "duration": 25,
        "start_time": "2022-01-27T21:52:51.880Z"
      },
      {
        "duration": 18,
        "start_time": "2022-01-27T21:52:51.908Z"
      },
      {
        "duration": 36,
        "start_time": "2022-01-27T21:52:51.928Z"
      },
      {
        "duration": 14,
        "start_time": "2022-01-27T21:52:51.965Z"
      },
      {
        "duration": 17,
        "start_time": "2022-01-27T21:52:51.981Z"
      },
      {
        "duration": 70,
        "start_time": "2022-01-27T21:52:52.000Z"
      },
      {
        "duration": 174,
        "start_time": "2022-01-27T21:52:52.072Z"
      },
      {
        "duration": 38,
        "start_time": "2022-01-27T21:52:52.255Z"
      },
      {
        "duration": 96,
        "start_time": "2022-01-27T21:52:52.294Z"
      },
      {
        "duration": 10,
        "start_time": "2022-01-27T21:52:52.391Z"
      },
      {
        "duration": 71,
        "start_time": "2022-01-27T21:52:52.402Z"
      },
      {
        "duration": 21,
        "start_time": "2022-01-27T21:52:52.475Z"
      },
      {
        "duration": 17,
        "start_time": "2022-01-27T21:52:52.497Z"
      },
      {
        "duration": 14,
        "start_time": "2022-01-27T21:52:52.515Z"
      },
      {
        "duration": 106,
        "start_time": "2022-01-27T21:52:52.530Z"
      },
      {
        "duration": 86,
        "start_time": "2022-01-27T21:53:36.645Z"
      },
      {
        "duration": 74,
        "start_time": "2022-01-27T21:53:48.009Z"
      },
      {
        "duration": 85,
        "start_time": "2022-01-27T21:54:55.844Z"
      },
      {
        "duration": 1114,
        "start_time": "2022-01-27T21:55:19.337Z"
      },
      {
        "duration": 430,
        "start_time": "2022-01-27T21:55:20.453Z"
      },
      {
        "duration": 14,
        "start_time": "2022-01-27T21:55:20.885Z"
      },
      {
        "duration": 22,
        "start_time": "2022-01-27T21:55:20.901Z"
      },
      {
        "duration": 39,
        "start_time": "2022-01-27T21:55:20.925Z"
      },
      {
        "duration": 18,
        "start_time": "2022-01-27T21:55:20.966Z"
      },
      {
        "duration": 36,
        "start_time": "2022-01-27T21:55:20.985Z"
      },
      {
        "duration": 11,
        "start_time": "2022-01-27T21:55:21.024Z"
      },
      {
        "duration": 30,
        "start_time": "2022-01-27T21:55:21.037Z"
      },
      {
        "duration": 14,
        "start_time": "2022-01-27T21:55:21.069Z"
      },
      {
        "duration": 8,
        "start_time": "2022-01-27T21:55:21.085Z"
      },
      {
        "duration": 89,
        "start_time": "2022-01-27T21:55:21.094Z"
      },
      {
        "duration": 184,
        "start_time": "2022-01-27T21:55:21.185Z"
      },
      {
        "duration": 38,
        "start_time": "2022-01-27T21:55:21.371Z"
      },
      {
        "duration": 107,
        "start_time": "2022-01-27T21:55:21.410Z"
      },
      {
        "duration": 9,
        "start_time": "2022-01-27T21:55:21.519Z"
      },
      {
        "duration": 77,
        "start_time": "2022-01-27T21:55:21.529Z"
      },
      {
        "duration": 23,
        "start_time": "2022-01-27T21:55:21.608Z"
      },
      {
        "duration": 37,
        "start_time": "2022-01-27T21:55:21.633Z"
      },
      {
        "duration": 34,
        "start_time": "2022-01-27T21:55:21.672Z"
      },
      {
        "duration": 121,
        "start_time": "2022-01-27T21:55:21.708Z"
      },
      {
        "duration": 101,
        "start_time": "2022-01-27T21:55:41.805Z"
      },
      {
        "duration": 1050,
        "start_time": "2022-01-27T21:55:48.206Z"
      },
      {
        "duration": 464,
        "start_time": "2022-01-27T21:55:49.260Z"
      },
      {
        "duration": 15,
        "start_time": "2022-01-27T21:55:49.726Z"
      },
      {
        "duration": 18,
        "start_time": "2022-01-27T21:55:49.743Z"
      },
      {
        "duration": 39,
        "start_time": "2022-01-27T21:55:49.763Z"
      },
      {
        "duration": 20,
        "start_time": "2022-01-27T21:55:49.803Z"
      },
      {
        "duration": 40,
        "start_time": "2022-01-27T21:55:49.825Z"
      },
      {
        "duration": 10,
        "start_time": "2022-01-27T21:55:49.867Z"
      },
      {
        "duration": 16,
        "start_time": "2022-01-27T21:55:49.879Z"
      },
      {
        "duration": 17,
        "start_time": "2022-01-27T21:55:49.897Z"
      },
      {
        "duration": 7,
        "start_time": "2022-01-27T21:55:49.916Z"
      },
      {
        "duration": 73,
        "start_time": "2022-01-27T21:55:49.924Z"
      },
      {
        "duration": 185,
        "start_time": "2022-01-27T21:55:49.999Z"
      },
      {
        "duration": 34,
        "start_time": "2022-01-27T21:55:50.186Z"
      },
      {
        "duration": 97,
        "start_time": "2022-01-27T21:55:50.222Z"
      },
      {
        "duration": 7,
        "start_time": "2022-01-27T21:55:50.321Z"
      },
      {
        "duration": 66,
        "start_time": "2022-01-27T21:55:50.330Z"
      },
      {
        "duration": 21,
        "start_time": "2022-01-27T21:55:50.397Z"
      },
      {
        "duration": 17,
        "start_time": "2022-01-27T21:55:50.419Z"
      },
      {
        "duration": 33,
        "start_time": "2022-01-27T21:55:50.437Z"
      },
      {
        "duration": 104,
        "start_time": "2022-01-27T21:55:50.472Z"
      },
      {
        "duration": 89,
        "start_time": "2022-01-27T21:57:52.461Z"
      },
      {
        "duration": 82,
        "start_time": "2022-01-27T21:57:59.606Z"
      },
      {
        "duration": 1023,
        "start_time": "2022-01-27T21:58:05.518Z"
      },
      {
        "duration": 420,
        "start_time": "2022-01-27T21:58:06.543Z"
      },
      {
        "duration": 14,
        "start_time": "2022-01-27T21:58:06.965Z"
      },
      {
        "duration": 13,
        "start_time": "2022-01-27T21:58:06.981Z"
      },
      {
        "duration": 29,
        "start_time": "2022-01-27T21:58:06.995Z"
      },
      {
        "duration": 45,
        "start_time": "2022-01-27T21:58:07.026Z"
      },
      {
        "duration": 23,
        "start_time": "2022-01-27T21:58:07.073Z"
      },
      {
        "duration": 11,
        "start_time": "2022-01-27T21:58:07.099Z"
      },
      {
        "duration": 12,
        "start_time": "2022-01-27T21:58:07.112Z"
      },
      {
        "duration": 43,
        "start_time": "2022-01-27T21:58:07.126Z"
      },
      {
        "duration": 8,
        "start_time": "2022-01-27T21:58:07.171Z"
      },
      {
        "duration": 65,
        "start_time": "2022-01-27T21:58:07.180Z"
      },
      {
        "duration": 181,
        "start_time": "2022-01-27T21:58:07.247Z"
      },
      {
        "duration": 44,
        "start_time": "2022-01-27T21:58:07.430Z"
      },
      {
        "duration": 88,
        "start_time": "2022-01-27T21:58:07.476Z"
      },
      {
        "duration": 9,
        "start_time": "2022-01-27T21:58:07.566Z"
      },
      {
        "duration": 62,
        "start_time": "2022-01-27T21:58:07.577Z"
      },
      {
        "duration": 32,
        "start_time": "2022-01-27T21:58:07.641Z"
      },
      {
        "duration": 18,
        "start_time": "2022-01-27T21:58:07.675Z"
      },
      {
        "duration": 14,
        "start_time": "2022-01-27T21:58:07.694Z"
      },
      {
        "duration": 101,
        "start_time": "2022-01-27T21:58:07.710Z"
      },
      {
        "duration": 100,
        "start_time": "2022-01-27T21:58:32.319Z"
      },
      {
        "duration": 169,
        "start_time": "2022-01-27T22:01:24.335Z"
      },
      {
        "duration": 1124,
        "start_time": "2022-01-27T22:01:51.830Z"
      },
      {
        "duration": 415,
        "start_time": "2022-01-27T22:01:52.956Z"
      },
      {
        "duration": 15,
        "start_time": "2022-01-27T22:01:53.373Z"
      },
      {
        "duration": 24,
        "start_time": "2022-01-27T22:01:53.390Z"
      },
      {
        "duration": 54,
        "start_time": "2022-01-27T22:01:53.416Z"
      },
      {
        "duration": 29,
        "start_time": "2022-01-27T22:01:53.471Z"
      },
      {
        "duration": 35,
        "start_time": "2022-01-27T22:01:53.502Z"
      },
      {
        "duration": 11,
        "start_time": "2022-01-27T22:01:53.539Z"
      },
      {
        "duration": 15,
        "start_time": "2022-01-27T22:01:53.553Z"
      },
      {
        "duration": 14,
        "start_time": "2022-01-27T22:01:53.571Z"
      },
      {
        "duration": 8,
        "start_time": "2022-01-27T22:01:53.587Z"
      },
      {
        "duration": 82,
        "start_time": "2022-01-27T22:01:53.597Z"
      },
      {
        "duration": 184,
        "start_time": "2022-01-27T22:01:53.681Z"
      },
      {
        "duration": 35,
        "start_time": "2022-01-27T22:01:53.867Z"
      },
      {
        "duration": 107,
        "start_time": "2022-01-27T22:01:53.904Z"
      },
      {
        "duration": 10,
        "start_time": "2022-01-27T22:01:54.013Z"
      },
      {
        "duration": 68,
        "start_time": "2022-01-27T22:01:54.024Z"
      },
      {
        "duration": 21,
        "start_time": "2022-01-27T22:01:54.094Z"
      },
      {
        "duration": 18,
        "start_time": "2022-01-27T22:01:54.117Z"
      },
      {
        "duration": 31,
        "start_time": "2022-01-27T22:01:54.137Z"
      },
      {
        "duration": 169,
        "start_time": "2022-01-27T22:01:54.169Z"
      },
      {
        "duration": 84,
        "start_time": "2022-01-27T22:02:39.487Z"
      },
      {
        "duration": 1054,
        "start_time": "2022-01-27T22:02:44.500Z"
      },
      {
        "duration": 420,
        "start_time": "2022-01-27T22:02:45.556Z"
      },
      {
        "duration": 15,
        "start_time": "2022-01-27T22:02:45.979Z"
      },
      {
        "duration": 14,
        "start_time": "2022-01-27T22:02:45.996Z"
      },
      {
        "duration": 30,
        "start_time": "2022-01-27T22:02:46.011Z"
      },
      {
        "duration": 33,
        "start_time": "2022-01-27T22:02:46.042Z"
      },
      {
        "duration": 24,
        "start_time": "2022-01-27T22:02:46.077Z"
      },
      {
        "duration": 10,
        "start_time": "2022-01-27T22:02:46.104Z"
      },
      {
        "duration": 44,
        "start_time": "2022-01-27T22:02:46.117Z"
      },
      {
        "duration": 15,
        "start_time": "2022-01-27T22:02:46.163Z"
      },
      {
        "duration": 8,
        "start_time": "2022-01-27T22:02:46.180Z"
      },
      {
        "duration": 73,
        "start_time": "2022-01-27T22:02:46.189Z"
      },
      {
        "duration": 177,
        "start_time": "2022-01-27T22:02:46.263Z"
      },
      {
        "duration": 40,
        "start_time": "2022-01-27T22:02:46.442Z"
      },
      {
        "duration": 96,
        "start_time": "2022-01-27T22:02:46.484Z"
      },
      {
        "duration": 8,
        "start_time": "2022-01-27T22:02:46.582Z"
      },
      {
        "duration": 69,
        "start_time": "2022-01-27T22:02:46.592Z"
      },
      {
        "duration": 27,
        "start_time": "2022-01-27T22:02:46.663Z"
      },
      {
        "duration": 19,
        "start_time": "2022-01-27T22:02:46.692Z"
      },
      {
        "duration": 18,
        "start_time": "2022-01-27T22:02:46.713Z"
      },
      {
        "duration": 105,
        "start_time": "2022-01-27T22:02:46.733Z"
      },
      {
        "duration": 86,
        "start_time": "2022-01-27T22:03:57.998Z"
      },
      {
        "duration": 166,
        "start_time": "2022-01-27T22:04:04.223Z"
      },
      {
        "duration": 179,
        "start_time": "2022-01-27T22:11:19.608Z"
      },
      {
        "duration": 178,
        "start_time": "2022-01-27T22:11:44.678Z"
      },
      {
        "duration": 1042,
        "start_time": "2022-01-27T22:11:56.213Z"
      },
      {
        "duration": 557,
        "start_time": "2022-01-27T22:11:57.257Z"
      },
      {
        "duration": 15,
        "start_time": "2022-01-27T22:11:57.816Z"
      },
      {
        "duration": 12,
        "start_time": "2022-01-27T22:11:57.833Z"
      },
      {
        "duration": 31,
        "start_time": "2022-01-27T22:11:57.847Z"
      },
      {
        "duration": 18,
        "start_time": "2022-01-27T22:11:57.880Z"
      },
      {
        "duration": 24,
        "start_time": "2022-01-27T22:11:57.900Z"
      },
      {
        "duration": 37,
        "start_time": "2022-01-27T22:11:57.927Z"
      },
      {
        "duration": 9,
        "start_time": "2022-01-27T22:11:57.966Z"
      },
      {
        "duration": 23,
        "start_time": "2022-01-27T22:11:57.977Z"
      },
      {
        "duration": 9,
        "start_time": "2022-01-27T22:11:58.002Z"
      },
      {
        "duration": 74,
        "start_time": "2022-01-27T22:11:58.013Z"
      },
      {
        "duration": 194,
        "start_time": "2022-01-27T22:11:58.090Z"
      },
      {
        "duration": 38,
        "start_time": "2022-01-27T22:11:58.286Z"
      },
      {
        "duration": 104,
        "start_time": "2022-01-27T22:11:58.325Z"
      },
      {
        "duration": 9,
        "start_time": "2022-01-27T22:11:58.432Z"
      },
      {
        "duration": 71,
        "start_time": "2022-01-27T22:11:58.443Z"
      },
      {
        "duration": 22,
        "start_time": "2022-01-27T22:11:58.516Z"
      },
      {
        "duration": 36,
        "start_time": "2022-01-27T22:11:58.540Z"
      },
      {
        "duration": 18,
        "start_time": "2022-01-27T22:11:58.578Z"
      },
      {
        "duration": 187,
        "start_time": "2022-01-27T22:11:58.599Z"
      },
      {
        "duration": 193,
        "start_time": "2022-01-27T22:12:29.686Z"
      },
      {
        "duration": 1094,
        "start_time": "2022-01-27T22:12:34.907Z"
      },
      {
        "duration": 592,
        "start_time": "2022-01-27T22:12:36.005Z"
      },
      {
        "duration": 14,
        "start_time": "2022-01-27T22:12:36.599Z"
      },
      {
        "duration": 12,
        "start_time": "2022-01-27T22:12:36.615Z"
      },
      {
        "duration": 28,
        "start_time": "2022-01-27T22:12:36.629Z"
      },
      {
        "duration": 19,
        "start_time": "2022-01-27T22:12:36.659Z"
      },
      {
        "duration": 23,
        "start_time": "2022-01-27T22:12:36.680Z"
      },
      {
        "duration": 10,
        "start_time": "2022-01-27T22:12:36.706Z"
      },
      {
        "duration": 8,
        "start_time": "2022-01-27T22:12:36.718Z"
      },
      {
        "duration": 39,
        "start_time": "2022-01-27T22:12:36.728Z"
      },
      {
        "duration": 11,
        "start_time": "2022-01-27T22:12:36.768Z"
      },
      {
        "duration": 59,
        "start_time": "2022-01-27T22:12:36.781Z"
      },
      {
        "duration": 213,
        "start_time": "2022-01-27T22:12:36.842Z"
      },
      {
        "duration": 38,
        "start_time": "2022-01-27T22:12:37.058Z"
      },
      {
        "duration": 109,
        "start_time": "2022-01-27T22:12:37.098Z"
      },
      {
        "duration": 10,
        "start_time": "2022-01-27T22:12:37.209Z"
      },
      {
        "duration": 70,
        "start_time": "2022-01-27T22:12:37.221Z"
      },
      {
        "duration": 19,
        "start_time": "2022-01-27T22:12:37.294Z"
      },
      {
        "duration": 21,
        "start_time": "2022-01-27T22:12:37.315Z"
      },
      {
        "duration": 31,
        "start_time": "2022-01-27T22:12:37.338Z"
      },
      {
        "duration": 168,
        "start_time": "2022-01-27T22:12:37.371Z"
      },
      {
        "duration": 23,
        "start_time": "2022-01-27T22:13:48.391Z"
      },
      {
        "duration": 95,
        "start_time": "2022-01-27T22:23:45.551Z"
      },
      {
        "duration": 428,
        "start_time": "2022-01-27T22:23:56.423Z"
      },
      {
        "duration": 268,
        "start_time": "2022-01-27T22:25:27.087Z"
      },
      {
        "duration": 257,
        "start_time": "2022-01-27T22:26:40.544Z"
      },
      {
        "duration": 249,
        "start_time": "2022-01-27T22:27:40.372Z"
      },
      {
        "duration": 1019,
        "start_time": "2022-01-27T22:28:44.011Z"
      },
      {
        "duration": 406,
        "start_time": "2022-01-27T22:28:45.032Z"
      },
      {
        "duration": 14,
        "start_time": "2022-01-27T22:28:45.441Z"
      },
      {
        "duration": 12,
        "start_time": "2022-01-27T22:28:45.457Z"
      },
      {
        "duration": 26,
        "start_time": "2022-01-27T22:28:45.471Z"
      },
      {
        "duration": 18,
        "start_time": "2022-01-27T22:28:45.499Z"
      },
      {
        "duration": 47,
        "start_time": "2022-01-27T22:28:45.518Z"
      },
      {
        "duration": 10,
        "start_time": "2022-01-27T22:28:45.567Z"
      },
      {
        "duration": 8,
        "start_time": "2022-01-27T22:28:45.579Z"
      },
      {
        "duration": 13,
        "start_time": "2022-01-27T22:28:45.589Z"
      },
      {
        "duration": 7,
        "start_time": "2022-01-27T22:28:45.604Z"
      },
      {
        "duration": 86,
        "start_time": "2022-01-27T22:28:45.612Z"
      },
      {
        "duration": 185,
        "start_time": "2022-01-27T22:28:45.700Z"
      },
      {
        "duration": 37,
        "start_time": "2022-01-27T22:28:45.886Z"
      },
      {
        "duration": 104,
        "start_time": "2022-01-27T22:28:45.925Z"
      },
      {
        "duration": 9,
        "start_time": "2022-01-27T22:28:46.031Z"
      },
      {
        "duration": 69,
        "start_time": "2022-01-27T22:28:46.042Z"
      },
      {
        "duration": 21,
        "start_time": "2022-01-27T22:28:46.113Z"
      },
      {
        "duration": 31,
        "start_time": "2022-01-27T22:28:46.135Z"
      },
      {
        "duration": 15,
        "start_time": "2022-01-27T22:28:46.167Z"
      },
      {
        "duration": 171,
        "start_time": "2022-01-27T22:28:46.183Z"
      },
      {
        "duration": 22,
        "start_time": "2022-01-27T22:28:46.360Z"
      },
      {
        "duration": 330,
        "start_time": "2022-01-27T22:28:46.384Z"
      },
      {
        "duration": 247,
        "start_time": "2022-01-27T22:29:23.071Z"
      },
      {
        "duration": 329,
        "start_time": "2022-01-27T22:30:03.964Z"
      },
      {
        "duration": 253,
        "start_time": "2022-01-27T22:31:40.322Z"
      },
      {
        "duration": 263,
        "start_time": "2022-01-27T22:31:54.947Z"
      },
      {
        "duration": 262,
        "start_time": "2022-01-27T22:33:34.186Z"
      },
      {
        "duration": 1045,
        "start_time": "2022-01-27T22:33:42.976Z"
      },
      {
        "duration": 410,
        "start_time": "2022-01-27T22:33:44.023Z"
      },
      {
        "duration": 14,
        "start_time": "2022-01-27T22:33:44.435Z"
      },
      {
        "duration": 10,
        "start_time": "2022-01-27T22:33:44.451Z"
      },
      {
        "duration": 28,
        "start_time": "2022-01-27T22:33:44.463Z"
      },
      {
        "duration": 18,
        "start_time": "2022-01-27T22:33:44.493Z"
      },
      {
        "duration": 22,
        "start_time": "2022-01-27T22:33:44.513Z"
      },
      {
        "duration": 32,
        "start_time": "2022-01-27T22:33:44.537Z"
      },
      {
        "duration": 9,
        "start_time": "2022-01-27T22:33:44.571Z"
      },
      {
        "duration": 13,
        "start_time": "2022-01-27T22:33:44.582Z"
      },
      {
        "duration": 8,
        "start_time": "2022-01-27T22:33:44.596Z"
      },
      {
        "duration": 86,
        "start_time": "2022-01-27T22:33:44.606Z"
      },
      {
        "duration": 183,
        "start_time": "2022-01-27T22:33:44.695Z"
      },
      {
        "duration": 36,
        "start_time": "2022-01-27T22:33:44.880Z"
      },
      {
        "duration": 106,
        "start_time": "2022-01-27T22:33:44.918Z"
      },
      {
        "duration": 11,
        "start_time": "2022-01-27T22:33:45.026Z"
      },
      {
        "duration": 67,
        "start_time": "2022-01-27T22:33:45.039Z"
      },
      {
        "duration": 22,
        "start_time": "2022-01-27T22:33:45.109Z"
      },
      {
        "duration": 38,
        "start_time": "2022-01-27T22:33:45.133Z"
      },
      {
        "duration": 13,
        "start_time": "2022-01-27T22:33:45.173Z"
      },
      {
        "duration": 166,
        "start_time": "2022-01-27T22:33:45.187Z"
      },
      {
        "duration": 26,
        "start_time": "2022-01-27T22:33:45.354Z"
      },
      {
        "duration": 329,
        "start_time": "2022-01-27T22:33:45.382Z"
      },
      {
        "duration": 270,
        "start_time": "2022-01-27T22:34:00.242Z"
      },
      {
        "duration": 255,
        "start_time": "2022-01-27T22:34:17.189Z"
      },
      {
        "duration": 265,
        "start_time": "2022-01-27T22:36:35.128Z"
      },
      {
        "duration": 246,
        "start_time": "2022-01-27T22:39:08.190Z"
      },
      {
        "duration": 252,
        "start_time": "2022-01-27T22:39:25.782Z"
      },
      {
        "duration": 270,
        "start_time": "2022-01-27T22:39:59.684Z"
      },
      {
        "duration": 339,
        "start_time": "2022-01-27T22:40:16.599Z"
      },
      {
        "duration": 1099,
        "start_time": "2022-01-27T22:42:45.761Z"
      },
      {
        "duration": 410,
        "start_time": "2022-01-27T22:42:46.863Z"
      },
      {
        "duration": 14,
        "start_time": "2022-01-27T22:42:47.275Z"
      },
      {
        "duration": 19,
        "start_time": "2022-01-27T22:42:47.291Z"
      },
      {
        "duration": 26,
        "start_time": "2022-01-27T22:42:47.311Z"
      },
      {
        "duration": 26,
        "start_time": "2022-01-27T22:42:47.339Z"
      },
      {
        "duration": 22,
        "start_time": "2022-01-27T22:42:47.367Z"
      },
      {
        "duration": 10,
        "start_time": "2022-01-27T22:42:47.392Z"
      },
      {
        "duration": 13,
        "start_time": "2022-01-27T22:42:47.404Z"
      },
      {
        "duration": 26,
        "start_time": "2022-01-27T22:42:47.419Z"
      },
      {
        "duration": 25,
        "start_time": "2022-01-27T22:42:47.447Z"
      },
      {
        "duration": 79,
        "start_time": "2022-01-27T22:42:47.474Z"
      },
      {
        "duration": 170,
        "start_time": "2022-01-27T22:42:47.555Z"
      },
      {
        "duration": 44,
        "start_time": "2022-01-27T22:42:47.726Z"
      },
      {
        "duration": 88,
        "start_time": "2022-01-27T22:42:47.772Z"
      },
      {
        "duration": 8,
        "start_time": "2022-01-27T22:42:47.862Z"
      },
      {
        "duration": 63,
        "start_time": "2022-01-27T22:42:47.872Z"
      },
      {
        "duration": 25,
        "start_time": "2022-01-27T22:42:47.937Z"
      },
      {
        "duration": 18,
        "start_time": "2022-01-27T22:42:47.964Z"
      },
      {
        "duration": 24,
        "start_time": "2022-01-27T22:42:47.984Z"
      },
      {
        "duration": 167,
        "start_time": "2022-01-27T22:42:48.009Z"
      },
      {
        "duration": 20,
        "start_time": "2022-01-27T22:42:48.178Z"
      },
      {
        "duration": 6295,
        "start_time": "2022-01-27T22:42:48.200Z"
      },
      {
        "duration": 6034,
        "start_time": "2022-01-27T22:43:39.985Z"
      },
      {
        "duration": 5956,
        "start_time": "2022-01-27T22:45:15.352Z"
      },
      {
        "duration": 1066,
        "start_time": "2022-01-27T22:45:31.022Z"
      },
      {
        "duration": 401,
        "start_time": "2022-01-27T22:45:32.090Z"
      },
      {
        "duration": 15,
        "start_time": "2022-01-27T22:45:32.493Z"
      },
      {
        "duration": 22,
        "start_time": "2022-01-27T22:45:32.510Z"
      },
      {
        "duration": 32,
        "start_time": "2022-01-27T22:45:32.534Z"
      },
      {
        "duration": 17,
        "start_time": "2022-01-27T22:45:32.568Z"
      },
      {
        "duration": 25,
        "start_time": "2022-01-27T22:45:32.587Z"
      },
      {
        "duration": 9,
        "start_time": "2022-01-27T22:45:32.615Z"
      },
      {
        "duration": 13,
        "start_time": "2022-01-27T22:45:32.626Z"
      },
      {
        "duration": 29,
        "start_time": "2022-01-27T22:45:32.640Z"
      },
      {
        "duration": 8,
        "start_time": "2022-01-27T22:45:32.670Z"
      },
      {
        "duration": 72,
        "start_time": "2022-01-27T22:45:32.679Z"
      },
      {
        "duration": 168,
        "start_time": "2022-01-27T22:45:32.753Z"
      },
      {
        "duration": 44,
        "start_time": "2022-01-27T22:45:32.922Z"
      },
      {
        "duration": 79,
        "start_time": "2022-01-27T22:45:32.967Z"
      },
      {
        "duration": 17,
        "start_time": "2022-01-27T22:45:33.048Z"
      },
      {
        "duration": 51,
        "start_time": "2022-01-27T22:45:33.067Z"
      },
      {
        "duration": 21,
        "start_time": "2022-01-27T22:45:33.120Z"
      },
      {
        "duration": 34,
        "start_time": "2022-01-27T22:45:33.143Z"
      },
      {
        "duration": 13,
        "start_time": "2022-01-27T22:45:33.179Z"
      },
      {
        "duration": 173,
        "start_time": "2022-01-27T22:45:33.193Z"
      },
      {
        "duration": 24,
        "start_time": "2022-01-27T22:45:33.368Z"
      },
      {
        "duration": 6847,
        "start_time": "2022-01-27T22:45:33.395Z"
      },
      {
        "duration": 339,
        "start_time": "2022-01-27T22:47:25.528Z"
      },
      {
        "duration": 368,
        "start_time": "2022-01-27T22:48:43.235Z"
      },
      {
        "duration": 1014,
        "start_time": "2022-01-27T22:48:59.007Z"
      },
      {
        "duration": 402,
        "start_time": "2022-01-27T22:49:00.023Z"
      },
      {
        "duration": 14,
        "start_time": "2022-01-27T22:49:00.427Z"
      },
      {
        "duration": 12,
        "start_time": "2022-01-27T22:49:00.443Z"
      },
      {
        "duration": 26,
        "start_time": "2022-01-27T22:49:00.457Z"
      },
      {
        "duration": 17,
        "start_time": "2022-01-27T22:49:00.484Z"
      },
      {
        "duration": 21,
        "start_time": "2022-01-27T22:49:00.503Z"
      },
      {
        "duration": 9,
        "start_time": "2022-01-27T22:49:00.526Z"
      },
      {
        "duration": 10,
        "start_time": "2022-01-27T22:49:00.561Z"
      },
      {
        "duration": 14,
        "start_time": "2022-01-27T22:49:00.573Z"
      },
      {
        "duration": 7,
        "start_time": "2022-01-27T22:49:00.589Z"
      },
      {
        "duration": 74,
        "start_time": "2022-01-27T22:49:00.598Z"
      },
      {
        "duration": 218,
        "start_time": "2022-01-27T22:49:00.674Z"
      },
      {
        "duration": 86,
        "start_time": "2022-01-27T22:49:00.894Z"
      },
      {
        "duration": 112,
        "start_time": "2022-01-27T22:49:00.981Z"
      },
      {
        "duration": 9,
        "start_time": "2022-01-27T22:49:01.094Z"
      },
      {
        "duration": 63,
        "start_time": "2022-01-27T22:49:01.105Z"
      },
      {
        "duration": 29,
        "start_time": "2022-01-27T22:49:01.170Z"
      },
      {
        "duration": 21,
        "start_time": "2022-01-27T22:49:01.201Z"
      },
      {
        "duration": 17,
        "start_time": "2022-01-27T22:49:01.224Z"
      },
      {
        "duration": 154,
        "start_time": "2022-01-27T22:49:01.243Z"
      },
      {
        "duration": 22,
        "start_time": "2022-01-27T22:49:01.398Z"
      },
      {
        "duration": 403,
        "start_time": "2022-01-27T22:49:01.423Z"
      },
      {
        "duration": 17,
        "start_time": "2022-01-27T22:50:06.173Z"
      },
      {
        "duration": 17,
        "start_time": "2022-01-27T22:51:17.436Z"
      },
      {
        "duration": 316,
        "start_time": "2022-01-27T22:53:28.281Z"
      },
      {
        "duration": 17,
        "start_time": "2022-01-27T22:54:19.536Z"
      },
      {
        "duration": 67,
        "start_time": "2022-01-27T22:54:58.880Z"
      },
      {
        "duration": 993,
        "start_time": "2022-01-27T22:55:28.062Z"
      },
      {
        "duration": 398,
        "start_time": "2022-01-27T22:55:29.056Z"
      },
      {
        "duration": 14,
        "start_time": "2022-01-27T22:55:29.456Z"
      },
      {
        "duration": 30,
        "start_time": "2022-01-27T22:55:29.472Z"
      },
      {
        "duration": 41,
        "start_time": "2022-01-27T22:55:29.504Z"
      },
      {
        "duration": 19,
        "start_time": "2022-01-27T22:55:29.546Z"
      },
      {
        "duration": 24,
        "start_time": "2022-01-27T22:55:29.566Z"
      },
      {
        "duration": 12,
        "start_time": "2022-01-27T22:55:29.593Z"
      },
      {
        "duration": 29,
        "start_time": "2022-01-27T22:55:29.607Z"
      },
      {
        "duration": 15,
        "start_time": "2022-01-27T22:55:29.638Z"
      },
      {
        "duration": 14,
        "start_time": "2022-01-27T22:55:29.660Z"
      },
      {
        "duration": 64,
        "start_time": "2022-01-27T22:55:29.676Z"
      },
      {
        "duration": 181,
        "start_time": "2022-01-27T22:55:29.741Z"
      },
      {
        "duration": 41,
        "start_time": "2022-01-27T22:55:29.925Z"
      },
      {
        "duration": 98,
        "start_time": "2022-01-27T22:55:29.967Z"
      },
      {
        "duration": 8,
        "start_time": "2022-01-27T22:55:30.067Z"
      },
      {
        "duration": 73,
        "start_time": "2022-01-27T22:55:30.077Z"
      },
      {
        "duration": 20,
        "start_time": "2022-01-27T22:55:30.152Z"
      },
      {
        "duration": 16,
        "start_time": "2022-01-27T22:55:30.174Z"
      },
      {
        "duration": 16,
        "start_time": "2022-01-27T22:55:30.191Z"
      },
      {
        "duration": 173,
        "start_time": "2022-01-27T22:55:30.209Z"
      },
      {
        "duration": 412,
        "start_time": "2022-01-27T22:55:30.384Z"
      },
      {
        "duration": 374,
        "start_time": "2022-01-27T22:55:30.800Z"
      },
      {
        "duration": 17,
        "start_time": "2022-01-27T22:55:31.176Z"
      },
      {
        "duration": 131,
        "start_time": "2022-01-27T23:01:07.868Z"
      },
      {
        "duration": 1317,
        "start_time": "2022-01-28T11:55:11.305Z"
      },
      {
        "duration": 562,
        "start_time": "2022-01-28T11:55:12.624Z"
      },
      {
        "duration": 22,
        "start_time": "2022-01-28T11:55:13.188Z"
      },
      {
        "duration": 21,
        "start_time": "2022-01-28T11:55:13.213Z"
      },
      {
        "duration": 48,
        "start_time": "2022-01-28T11:55:13.237Z"
      },
      {
        "duration": 26,
        "start_time": "2022-01-28T11:55:13.287Z"
      },
      {
        "duration": 60,
        "start_time": "2022-01-28T11:55:13.316Z"
      },
      {
        "duration": 14,
        "start_time": "2022-01-28T11:55:13.379Z"
      },
      {
        "duration": 13,
        "start_time": "2022-01-28T11:55:13.397Z"
      },
      {
        "duration": 48,
        "start_time": "2022-01-28T11:55:13.413Z"
      },
      {
        "duration": 11,
        "start_time": "2022-01-28T11:55:13.464Z"
      },
      {
        "duration": 99,
        "start_time": "2022-01-28T11:55:13.478Z"
      },
      {
        "duration": 246,
        "start_time": "2022-01-28T11:55:13.580Z"
      },
      {
        "duration": 59,
        "start_time": "2022-01-28T11:55:13.828Z"
      },
      {
        "duration": 130,
        "start_time": "2022-01-28T11:55:13.889Z"
      },
      {
        "duration": 13,
        "start_time": "2022-01-28T11:55:14.022Z"
      },
      {
        "duration": 107,
        "start_time": "2022-01-28T11:55:14.036Z"
      },
      {
        "duration": 41,
        "start_time": "2022-01-28T11:55:14.146Z"
      },
      {
        "duration": 27,
        "start_time": "2022-01-28T11:55:14.190Z"
      },
      {
        "duration": 47,
        "start_time": "2022-01-28T11:55:14.220Z"
      },
      {
        "duration": 322,
        "start_time": "2022-01-28T11:55:14.270Z"
      },
      {
        "duration": 733,
        "start_time": "2022-01-28T11:55:14.594Z"
      },
      {
        "duration": 649,
        "start_time": "2022-01-28T11:55:15.330Z"
      },
      {
        "duration": 26,
        "start_time": "2022-01-28T11:55:15.982Z"
      },
      {
        "duration": 272,
        "start_time": "2022-01-28T11:55:16.010Z"
      },
      {
        "duration": 132,
        "start_time": "2022-01-28T11:57:41.300Z"
      },
      {
        "duration": 80,
        "start_time": "2022-01-28T11:57:58.673Z"
      },
      {
        "duration": 80,
        "start_time": "2022-01-28T11:58:50.437Z"
      },
      {
        "duration": 114,
        "start_time": "2022-01-28T11:59:02.893Z"
      },
      {
        "duration": 82,
        "start_time": "2022-01-28T11:59:18.204Z"
      },
      {
        "duration": 1411,
        "start_time": "2022-01-28T12:00:31.940Z"
      },
      {
        "duration": 521,
        "start_time": "2022-01-28T12:00:33.354Z"
      },
      {
        "duration": 21,
        "start_time": "2022-01-28T12:00:33.879Z"
      },
      {
        "duration": 20,
        "start_time": "2022-01-28T12:00:33.903Z"
      },
      {
        "duration": 56,
        "start_time": "2022-01-28T12:00:33.925Z"
      },
      {
        "duration": 26,
        "start_time": "2022-01-28T12:00:33.984Z"
      },
      {
        "duration": 64,
        "start_time": "2022-01-28T12:00:34.012Z"
      },
      {
        "duration": 16,
        "start_time": "2022-01-28T12:00:34.079Z"
      },
      {
        "duration": 22,
        "start_time": "2022-01-28T12:00:34.100Z"
      },
      {
        "duration": 44,
        "start_time": "2022-01-28T12:00:34.126Z"
      },
      {
        "duration": 12,
        "start_time": "2022-01-28T12:00:34.173Z"
      },
      {
        "duration": 104,
        "start_time": "2022-01-28T12:00:34.188Z"
      },
      {
        "duration": 273,
        "start_time": "2022-01-28T12:00:34.294Z"
      },
      {
        "duration": 54,
        "start_time": "2022-01-28T12:00:34.570Z"
      },
      {
        "duration": 144,
        "start_time": "2022-01-28T12:00:34.627Z"
      },
      {
        "duration": 14,
        "start_time": "2022-01-28T12:00:34.773Z"
      },
      {
        "duration": 115,
        "start_time": "2022-01-28T12:00:34.789Z"
      },
      {
        "duration": 38,
        "start_time": "2022-01-28T12:00:34.906Z"
      },
      {
        "duration": 28,
        "start_time": "2022-01-28T12:00:34.959Z"
      },
      {
        "duration": 33,
        "start_time": "2022-01-28T12:00:34.989Z"
      },
      {
        "duration": 311,
        "start_time": "2022-01-28T12:00:35.024Z"
      },
      {
        "duration": 1106,
        "start_time": "2022-01-28T12:00:35.337Z"
      },
      {
        "duration": 1024,
        "start_time": "2022-01-28T12:00:36.446Z"
      },
      {
        "duration": 40,
        "start_time": "2022-01-28T12:00:37.473Z"
      },
      {
        "duration": 469,
        "start_time": "2022-01-28T12:00:37.516Z"
      },
      {
        "duration": 123,
        "start_time": "2022-01-28T12:01:29.074Z"
      },
      {
        "duration": 1356,
        "start_time": "2022-01-28T12:01:37.359Z"
      },
      {
        "duration": 525,
        "start_time": "2022-01-28T12:01:38.718Z"
      },
      {
        "duration": 21,
        "start_time": "2022-01-28T12:01:39.247Z"
      },
      {
        "duration": 19,
        "start_time": "2022-01-28T12:01:39.271Z"
      },
      {
        "duration": 70,
        "start_time": "2022-01-28T12:01:39.293Z"
      },
      {
        "duration": 27,
        "start_time": "2022-01-28T12:01:39.366Z"
      },
      {
        "duration": 66,
        "start_time": "2022-01-28T12:01:39.395Z"
      },
      {
        "duration": 16,
        "start_time": "2022-01-28T12:01:39.464Z"
      },
      {
        "duration": 14,
        "start_time": "2022-01-28T12:01:39.486Z"
      },
      {
        "duration": 56,
        "start_time": "2022-01-28T12:01:39.503Z"
      },
      {
        "duration": 11,
        "start_time": "2022-01-28T12:01:39.562Z"
      },
      {
        "duration": 94,
        "start_time": "2022-01-28T12:01:39.576Z"
      },
      {
        "duration": 259,
        "start_time": "2022-01-28T12:01:39.673Z"
      },
      {
        "duration": 60,
        "start_time": "2022-01-28T12:01:39.935Z"
      },
      {
        "duration": 140,
        "start_time": "2022-01-28T12:01:39.998Z"
      },
      {
        "duration": 20,
        "start_time": "2022-01-28T12:01:40.141Z"
      },
      {
        "duration": 112,
        "start_time": "2022-01-28T12:01:40.164Z"
      },
      {
        "duration": 37,
        "start_time": "2022-01-28T12:01:40.278Z"
      },
      {
        "duration": 44,
        "start_time": "2022-01-28T12:01:40.318Z"
      },
      {
        "duration": 25,
        "start_time": "2022-01-28T12:01:40.365Z"
      },
      {
        "duration": 304,
        "start_time": "2022-01-28T12:01:40.392Z"
      },
      {
        "duration": 661,
        "start_time": "2022-01-28T12:01:40.698Z"
      },
      {
        "duration": 646,
        "start_time": "2022-01-28T12:01:41.361Z"
      },
      {
        "duration": 26,
        "start_time": "2022-01-28T12:01:42.010Z"
      },
      {
        "duration": 263,
        "start_time": "2022-01-28T12:01:42.039Z"
      },
      {
        "duration": 148,
        "start_time": "2022-01-28T12:02:27.781Z"
      },
      {
        "duration": 1468,
        "start_time": "2022-01-28T12:02:35.471Z"
      },
      {
        "duration": 523,
        "start_time": "2022-01-28T12:02:36.942Z"
      },
      {
        "duration": 21,
        "start_time": "2022-01-28T12:02:37.468Z"
      },
      {
        "duration": 19,
        "start_time": "2022-01-28T12:02:37.491Z"
      },
      {
        "duration": 76,
        "start_time": "2022-01-28T12:02:37.512Z"
      },
      {
        "duration": 28,
        "start_time": "2022-01-28T12:02:37.591Z"
      },
      {
        "duration": 60,
        "start_time": "2022-01-28T12:02:37.623Z"
      },
      {
        "duration": 14,
        "start_time": "2022-01-28T12:02:37.687Z"
      },
      {
        "duration": 13,
        "start_time": "2022-01-28T12:02:37.704Z"
      },
      {
        "duration": 50,
        "start_time": "2022-01-28T12:02:37.720Z"
      },
      {
        "duration": 12,
        "start_time": "2022-01-28T12:02:37.773Z"
      },
      {
        "duration": 118,
        "start_time": "2022-01-28T12:02:37.788Z"
      },
      {
        "duration": 271,
        "start_time": "2022-01-28T12:02:37.908Z"
      },
      {
        "duration": 53,
        "start_time": "2022-01-28T12:02:38.182Z"
      },
      {
        "duration": 145,
        "start_time": "2022-01-28T12:02:38.238Z"
      },
      {
        "duration": 13,
        "start_time": "2022-01-28T12:02:38.386Z"
      },
      {
        "duration": 125,
        "start_time": "2022-01-28T12:02:38.401Z"
      },
      {
        "duration": 47,
        "start_time": "2022-01-28T12:02:38.528Z"
      },
      {
        "duration": 28,
        "start_time": "2022-01-28T12:02:38.577Z"
      },
      {
        "duration": 23,
        "start_time": "2022-01-28T12:02:38.608Z"
      },
      {
        "duration": 432,
        "start_time": "2022-01-28T12:02:38.660Z"
      },
      {
        "duration": 1101,
        "start_time": "2022-01-28T12:02:39.096Z"
      },
      {
        "duration": 932,
        "start_time": "2022-01-28T12:02:40.203Z"
      },
      {
        "duration": 45,
        "start_time": "2022-01-28T12:02:41.139Z"
      },
      {
        "duration": 387,
        "start_time": "2022-01-28T12:02:41.186Z"
      },
      {
        "duration": 795,
        "start_time": "2022-01-28T12:04:01.748Z"
      },
      {
        "duration": 1381,
        "start_time": "2022-01-28T12:04:08.597Z"
      },
      {
        "duration": 529,
        "start_time": "2022-01-28T12:04:09.981Z"
      },
      {
        "duration": 22,
        "start_time": "2022-01-28T12:04:10.513Z"
      },
      {
        "duration": 22,
        "start_time": "2022-01-28T12:04:10.539Z"
      },
      {
        "duration": 40,
        "start_time": "2022-01-28T12:04:10.564Z"
      },
      {
        "duration": 61,
        "start_time": "2022-01-28T12:04:10.607Z"
      },
      {
        "duration": 35,
        "start_time": "2022-01-28T12:04:10.671Z"
      },
      {
        "duration": 14,
        "start_time": "2022-01-28T12:04:10.710Z"
      },
      {
        "duration": 13,
        "start_time": "2022-01-28T12:04:10.759Z"
      },
      {
        "duration": 15,
        "start_time": "2022-01-28T12:04:10.774Z"
      },
      {
        "duration": 10,
        "start_time": "2022-01-28T12:04:10.792Z"
      },
      {
        "duration": 115,
        "start_time": "2022-01-28T12:04:10.804Z"
      },
      {
        "duration": 262,
        "start_time": "2022-01-28T12:04:10.921Z"
      },
      {
        "duration": 52,
        "start_time": "2022-01-28T12:04:11.186Z"
      },
      {
        "duration": 134,
        "start_time": "2022-01-28T12:04:11.240Z"
      },
      {
        "duration": 20,
        "start_time": "2022-01-28T12:04:11.378Z"
      },
      {
        "duration": 192,
        "start_time": "2022-01-28T12:04:11.401Z"
      },
      {
        "duration": 65,
        "start_time": "2022-01-28T12:04:11.596Z"
      },
      {
        "duration": 31,
        "start_time": "2022-01-28T12:04:11.665Z"
      },
      {
        "duration": 22,
        "start_time": "2022-01-28T12:04:11.698Z"
      },
      {
        "duration": 305,
        "start_time": "2022-01-28T12:04:11.722Z"
      },
      {
        "duration": 685,
        "start_time": "2022-01-28T12:04:12.030Z"
      },
      {
        "duration": 705,
        "start_time": "2022-01-28T12:04:12.720Z"
      },
      {
        "duration": 39,
        "start_time": "2022-01-28T12:04:13.427Z"
      },
      {
        "duration": 252,
        "start_time": "2022-01-28T12:04:13.468Z"
      },
      {
        "duration": 871,
        "start_time": "2022-01-28T12:05:28.544Z"
      },
      {
        "duration": 1394,
        "start_time": "2022-01-28T12:05:36.618Z"
      },
      {
        "duration": 761,
        "start_time": "2022-01-28T12:05:38.014Z"
      },
      {
        "duration": 34,
        "start_time": "2022-01-28T12:05:38.779Z"
      },
      {
        "duration": 48,
        "start_time": "2022-01-28T12:05:38.817Z"
      },
      {
        "duration": 63,
        "start_time": "2022-01-28T12:05:38.868Z"
      },
      {
        "duration": 62,
        "start_time": "2022-01-28T12:05:38.934Z"
      },
      {
        "duration": 31,
        "start_time": "2022-01-28T12:05:38.999Z"
      },
      {
        "duration": 40,
        "start_time": "2022-01-28T12:05:39.033Z"
      },
      {
        "duration": 14,
        "start_time": "2022-01-28T12:05:39.077Z"
      },
      {
        "duration": 17,
        "start_time": "2022-01-28T12:05:39.094Z"
      },
      {
        "duration": 56,
        "start_time": "2022-01-28T12:05:39.114Z"
      },
      {
        "duration": 102,
        "start_time": "2022-01-28T12:05:39.173Z"
      },
      {
        "duration": 257,
        "start_time": "2022-01-28T12:05:39.278Z"
      },
      {
        "duration": 61,
        "start_time": "2022-01-28T12:05:39.537Z"
      },
      {
        "duration": 135,
        "start_time": "2022-01-28T12:05:39.601Z"
      },
      {
        "duration": 26,
        "start_time": "2022-01-28T12:05:39.738Z"
      },
      {
        "duration": 124,
        "start_time": "2022-01-28T12:05:39.766Z"
      },
      {
        "duration": 33,
        "start_time": "2022-01-28T12:05:39.892Z"
      },
      {
        "duration": 43,
        "start_time": "2022-01-28T12:05:39.928Z"
      },
      {
        "duration": 22,
        "start_time": "2022-01-28T12:05:39.973Z"
      },
      {
        "duration": 319,
        "start_time": "2022-01-28T12:05:39.997Z"
      },
      {
        "duration": 708,
        "start_time": "2022-01-28T12:05:40.318Z"
      },
      {
        "duration": 646,
        "start_time": "2022-01-28T12:05:41.032Z"
      },
      {
        "duration": 32,
        "start_time": "2022-01-28T12:05:41.681Z"
      },
      {
        "duration": 477,
        "start_time": "2022-01-28T12:05:41.716Z"
      },
      {
        "duration": 39,
        "start_time": "2022-01-28T12:06:40.129Z"
      },
      {
        "duration": 1456,
        "start_time": "2022-01-28T12:07:15.871Z"
      },
      {
        "duration": 529,
        "start_time": "2022-01-28T12:07:17.330Z"
      },
      {
        "duration": 22,
        "start_time": "2022-01-28T12:07:17.862Z"
      },
      {
        "duration": 19,
        "start_time": "2022-01-28T12:07:17.886Z"
      },
      {
        "duration": 77,
        "start_time": "2022-01-28T12:07:17.908Z"
      },
      {
        "duration": 26,
        "start_time": "2022-01-28T12:07:17.987Z"
      },
      {
        "duration": 56,
        "start_time": "2022-01-28T12:07:18.015Z"
      },
      {
        "duration": 14,
        "start_time": "2022-01-28T12:07:18.074Z"
      },
      {
        "duration": 13,
        "start_time": "2022-01-28T12:07:18.093Z"
      },
      {
        "duration": 51,
        "start_time": "2022-01-28T12:07:18.109Z"
      },
      {
        "duration": 10,
        "start_time": "2022-01-28T12:07:18.163Z"
      },
      {
        "duration": 106,
        "start_time": "2022-01-28T12:07:18.176Z"
      },
      {
        "duration": 371,
        "start_time": "2022-01-28T12:07:18.285Z"
      },
      {
        "duration": 64,
        "start_time": "2022-01-28T12:07:18.660Z"
      },
      {
        "duration": 201,
        "start_time": "2022-01-28T12:07:18.727Z"
      },
      {
        "duration": 32,
        "start_time": "2022-01-28T12:07:18.931Z"
      },
      {
        "duration": 126,
        "start_time": "2022-01-28T12:07:18.965Z"
      },
      {
        "duration": 24,
        "start_time": "2022-01-28T12:07:19.093Z"
      },
      {
        "duration": 485,
        "start_time": "2022-01-28T12:07:19.119Z"
      },
      {
        "duration": -82,
        "start_time": "2022-01-28T12:07:19.690Z"
      },
      {
        "duration": -82,
        "start_time": "2022-01-28T12:07:19.693Z"
      },
      {
        "duration": -82,
        "start_time": "2022-01-28T12:07:19.695Z"
      },
      {
        "duration": -82,
        "start_time": "2022-01-28T12:07:19.697Z"
      },
      {
        "duration": -112,
        "start_time": "2022-01-28T12:07:19.729Z"
      },
      {
        "duration": -112,
        "start_time": "2022-01-28T12:07:19.732Z"
      },
      {
        "duration": -119,
        "start_time": "2022-01-28T12:07:19.741Z"
      },
      {
        "duration": -119,
        "start_time": "2022-01-28T12:07:19.743Z"
      },
      {
        "duration": 25,
        "start_time": "2022-01-28T12:07:39.922Z"
      },
      {
        "duration": 33,
        "start_time": "2022-01-28T12:08:18.183Z"
      },
      {
        "duration": 9,
        "start_time": "2022-01-28T12:08:54.196Z"
      },
      {
        "duration": 95,
        "start_time": "2022-01-28T12:09:35.890Z"
      },
      {
        "duration": 91,
        "start_time": "2022-01-28T12:11:16.580Z"
      },
      {
        "duration": 91,
        "start_time": "2022-01-28T12:11:44.280Z"
      },
      {
        "duration": 98,
        "start_time": "2022-01-28T12:11:57.642Z"
      },
      {
        "duration": 91,
        "start_time": "2022-01-28T12:12:06.841Z"
      },
      {
        "duration": 12,
        "start_time": "2022-01-28T12:12:20.771Z"
      },
      {
        "duration": 15,
        "start_time": "2022-01-28T12:12:27.916Z"
      },
      {
        "duration": 1442,
        "start_time": "2022-01-28T12:12:34.377Z"
      },
      {
        "duration": 547,
        "start_time": "2022-01-28T12:12:35.821Z"
      },
      {
        "duration": 21,
        "start_time": "2022-01-28T12:12:36.371Z"
      },
      {
        "duration": 20,
        "start_time": "2022-01-28T12:12:36.395Z"
      },
      {
        "duration": 66,
        "start_time": "2022-01-28T12:12:36.418Z"
      },
      {
        "duration": 30,
        "start_time": "2022-01-28T12:12:36.487Z"
      },
      {
        "duration": 68,
        "start_time": "2022-01-28T12:12:36.520Z"
      },
      {
        "duration": 15,
        "start_time": "2022-01-28T12:12:36.594Z"
      },
      {
        "duration": 50,
        "start_time": "2022-01-28T12:12:36.614Z"
      },
      {
        "duration": 17,
        "start_time": "2022-01-28T12:12:36.666Z"
      },
      {
        "duration": 12,
        "start_time": "2022-01-28T12:12:36.685Z"
      },
      {
        "duration": 114,
        "start_time": "2022-01-28T12:12:36.699Z"
      },
      {
        "duration": 271,
        "start_time": "2022-01-28T12:12:36.815Z"
      },
      {
        "duration": 69,
        "start_time": "2022-01-28T12:12:37.089Z"
      },
      {
        "duration": 128,
        "start_time": "2022-01-28T12:12:37.160Z"
      },
      {
        "duration": 12,
        "start_time": "2022-01-28T12:12:37.291Z"
      },
      {
        "duration": 122,
        "start_time": "2022-01-28T12:12:37.306Z"
      },
      {
        "duration": 592,
        "start_time": "2022-01-28T12:12:37.431Z"
      },
      {
        "duration": -70,
        "start_time": "2022-01-28T12:12:38.098Z"
      },
      {
        "duration": -72,
        "start_time": "2022-01-28T12:12:38.102Z"
      },
      {
        "duration": -83,
        "start_time": "2022-01-28T12:12:38.115Z"
      },
      {
        "duration": -83,
        "start_time": "2022-01-28T12:12:38.118Z"
      },
      {
        "duration": -91,
        "start_time": "2022-01-28T12:12:38.128Z"
      },
      {
        "duration": -93,
        "start_time": "2022-01-28T12:12:38.132Z"
      },
      {
        "duration": -93,
        "start_time": "2022-01-28T12:12:38.135Z"
      },
      {
        "duration": -98,
        "start_time": "2022-01-28T12:12:38.142Z"
      },
      {
        "duration": 13,
        "start_time": "2022-01-28T12:12:52.612Z"
      },
      {
        "duration": 1541,
        "start_time": "2022-01-28T12:13:09.073Z"
      },
      {
        "duration": 550,
        "start_time": "2022-01-28T12:13:10.617Z"
      },
      {
        "duration": 22,
        "start_time": "2022-01-28T12:13:11.170Z"
      },
      {
        "duration": 30,
        "start_time": "2022-01-28T12:13:11.195Z"
      },
      {
        "duration": 67,
        "start_time": "2022-01-28T12:13:11.227Z"
      },
      {
        "duration": 27,
        "start_time": "2022-01-28T12:13:11.297Z"
      },
      {
        "duration": 54,
        "start_time": "2022-01-28T12:13:11.326Z"
      },
      {
        "duration": 13,
        "start_time": "2022-01-28T12:13:11.383Z"
      },
      {
        "duration": 16,
        "start_time": "2022-01-28T12:13:11.401Z"
      },
      {
        "duration": 47,
        "start_time": "2022-01-28T12:13:11.420Z"
      },
      {
        "duration": 11,
        "start_time": "2022-01-28T12:13:11.470Z"
      },
      {
        "duration": 101,
        "start_time": "2022-01-28T12:13:11.484Z"
      },
      {
        "duration": 259,
        "start_time": "2022-01-28T12:13:11.588Z"
      },
      {
        "duration": 59,
        "start_time": "2022-01-28T12:13:11.849Z"
      },
      {
        "duration": 139,
        "start_time": "2022-01-28T12:13:11.911Z"
      },
      {
        "duration": 13,
        "start_time": "2022-01-28T12:13:12.060Z"
      },
      {
        "duration": 110,
        "start_time": "2022-01-28T12:13:12.076Z"
      },
      {
        "duration": 754,
        "start_time": "2022-01-28T12:13:12.189Z"
      },
      {
        "duration": -194,
        "start_time": "2022-01-28T12:13:13.139Z"
      },
      {
        "duration": -202,
        "start_time": "2022-01-28T12:13:13.149Z"
      },
      {
        "duration": -202,
        "start_time": "2022-01-28T12:13:13.151Z"
      },
      {
        "duration": -202,
        "start_time": "2022-01-28T12:13:13.153Z"
      },
      {
        "duration": -241,
        "start_time": "2022-01-28T12:13:13.193Z"
      },
      {
        "duration": -241,
        "start_time": "2022-01-28T12:13:13.195Z"
      },
      {
        "duration": -243,
        "start_time": "2022-01-28T12:13:13.198Z"
      },
      {
        "duration": -243,
        "start_time": "2022-01-28T12:13:13.200Z"
      },
      {
        "duration": 14,
        "start_time": "2022-01-28T12:14:22.819Z"
      },
      {
        "duration": 9,
        "start_time": "2022-01-28T12:14:31.315Z"
      },
      {
        "duration": 53,
        "start_time": "2022-01-28T12:14:42.412Z"
      },
      {
        "duration": 12,
        "start_time": "2022-01-28T12:14:50.657Z"
      },
      {
        "duration": 375,
        "start_time": "2022-01-28T12:15:13.132Z"
      },
      {
        "duration": 658,
        "start_time": "2022-01-28T12:15:25.164Z"
      },
      {
        "duration": 1390,
        "start_time": "2022-01-28T12:15:33.322Z"
      },
      {
        "duration": 516,
        "start_time": "2022-01-28T12:15:34.715Z"
      },
      {
        "duration": 24,
        "start_time": "2022-01-28T12:15:35.235Z"
      },
      {
        "duration": 25,
        "start_time": "2022-01-28T12:15:35.263Z"
      },
      {
        "duration": 41,
        "start_time": "2022-01-28T12:15:35.291Z"
      },
      {
        "duration": 49,
        "start_time": "2022-01-28T12:15:35.335Z"
      },
      {
        "duration": 32,
        "start_time": "2022-01-28T12:15:35.386Z"
      },
      {
        "duration": 42,
        "start_time": "2022-01-28T12:15:35.420Z"
      },
      {
        "duration": 12,
        "start_time": "2022-01-28T12:15:35.466Z"
      },
      {
        "duration": 32,
        "start_time": "2022-01-28T12:15:35.481Z"
      },
      {
        "duration": 47,
        "start_time": "2022-01-28T12:15:35.516Z"
      },
      {
        "duration": 97,
        "start_time": "2022-01-28T12:15:35.566Z"
      },
      {
        "duration": 265,
        "start_time": "2022-01-28T12:15:35.666Z"
      },
      {
        "duration": 60,
        "start_time": "2022-01-28T12:15:35.933Z"
      },
      {
        "duration": 137,
        "start_time": "2022-01-28T12:15:35.996Z"
      },
      {
        "duration": 76,
        "start_time": "2022-01-28T12:15:36.135Z"
      },
      {
        "duration": 142,
        "start_time": "2022-01-28T12:15:36.213Z"
      },
      {
        "duration": 479,
        "start_time": "2022-01-28T12:15:36.359Z"
      },
      {
        "duration": -72,
        "start_time": "2022-01-28T12:15:36.913Z"
      },
      {
        "duration": -73,
        "start_time": "2022-01-28T12:15:36.915Z"
      },
      {
        "duration": -75,
        "start_time": "2022-01-28T12:15:36.918Z"
      },
      {
        "duration": -75,
        "start_time": "2022-01-28T12:15:36.920Z"
      },
      {
        "duration": -77,
        "start_time": "2022-01-28T12:15:36.923Z"
      },
      {
        "duration": -79,
        "start_time": "2022-01-28T12:15:36.927Z"
      },
      {
        "duration": -80,
        "start_time": "2022-01-28T12:15:36.929Z"
      },
      {
        "duration": -80,
        "start_time": "2022-01-28T12:15:36.931Z"
      },
      {
        "duration": 1425,
        "start_time": "2022-01-28T12:15:58.689Z"
      },
      {
        "duration": 519,
        "start_time": "2022-01-28T12:16:00.117Z"
      },
      {
        "duration": 22,
        "start_time": "2022-01-28T12:16:00.639Z"
      },
      {
        "duration": 20,
        "start_time": "2022-01-28T12:16:00.664Z"
      },
      {
        "duration": 39,
        "start_time": "2022-01-28T12:16:00.687Z"
      },
      {
        "duration": 26,
        "start_time": "2022-01-28T12:16:00.761Z"
      },
      {
        "duration": 34,
        "start_time": "2022-01-28T12:16:00.790Z"
      },
      {
        "duration": 44,
        "start_time": "2022-01-28T12:16:00.826Z"
      },
      {
        "duration": 13,
        "start_time": "2022-01-28T12:16:00.874Z"
      },
      {
        "duration": 29,
        "start_time": "2022-01-28T12:16:00.890Z"
      },
      {
        "duration": 47,
        "start_time": "2022-01-28T12:16:00.921Z"
      },
      {
        "duration": 98,
        "start_time": "2022-01-28T12:16:00.970Z"
      },
      {
        "duration": 280,
        "start_time": "2022-01-28T12:16:01.071Z"
      },
      {
        "duration": 59,
        "start_time": "2022-01-28T12:16:01.354Z"
      },
      {
        "duration": 130,
        "start_time": "2022-01-28T12:16:01.415Z"
      },
      {
        "duration": 75,
        "start_time": "2022-01-28T12:16:01.547Z"
      },
      {
        "duration": 137,
        "start_time": "2022-01-28T12:16:01.624Z"
      },
      {
        "duration": 481,
        "start_time": "2022-01-28T12:16:01.764Z"
      },
      {
        "duration": -359,
        "start_time": "2022-01-28T12:16:02.607Z"
      },
      {
        "duration": -361,
        "start_time": "2022-01-28T12:16:02.611Z"
      },
      {
        "duration": -361,
        "start_time": "2022-01-28T12:16:02.613Z"
      },
      {
        "duration": -361,
        "start_time": "2022-01-28T12:16:02.617Z"
      },
      {
        "duration": -361,
        "start_time": "2022-01-28T12:16:02.619Z"
      },
      {
        "duration": -362,
        "start_time": "2022-01-28T12:16:02.622Z"
      },
      {
        "duration": -363,
        "start_time": "2022-01-28T12:16:02.625Z"
      },
      {
        "duration": -363,
        "start_time": "2022-01-28T12:16:02.627Z"
      },
      {
        "duration": 1509,
        "start_time": "2022-01-28T12:16:20.080Z"
      },
      {
        "duration": 516,
        "start_time": "2022-01-28T12:16:21.592Z"
      },
      {
        "duration": 21,
        "start_time": "2022-01-28T12:16:22.111Z"
      },
      {
        "duration": 20,
        "start_time": "2022-01-28T12:16:22.134Z"
      },
      {
        "duration": 38,
        "start_time": "2022-01-28T12:16:22.156Z"
      },
      {
        "duration": 27,
        "start_time": "2022-01-28T12:16:22.196Z"
      },
      {
        "duration": 57,
        "start_time": "2022-01-28T12:16:22.225Z"
      },
      {
        "duration": 14,
        "start_time": "2022-01-28T12:16:22.285Z"
      },
      {
        "duration": 14,
        "start_time": "2022-01-28T12:16:22.303Z"
      },
      {
        "duration": 68,
        "start_time": "2022-01-28T12:16:22.320Z"
      },
      {
        "duration": 11,
        "start_time": "2022-01-28T12:16:22.391Z"
      },
      {
        "duration": 102,
        "start_time": "2022-01-28T12:16:22.404Z"
      },
      {
        "duration": 264,
        "start_time": "2022-01-28T12:16:22.509Z"
      },
      {
        "duration": 54,
        "start_time": "2022-01-28T12:16:22.776Z"
      },
      {
        "duration": 134,
        "start_time": "2022-01-28T12:16:22.833Z"
      },
      {
        "duration": 66,
        "start_time": "2022-01-28T12:16:22.969Z"
      },
      {
        "duration": 148,
        "start_time": "2022-01-28T12:16:23.038Z"
      },
      {
        "duration": 39,
        "start_time": "2022-01-28T12:16:23.188Z"
      },
      {
        "duration": 52,
        "start_time": "2022-01-28T12:16:23.230Z"
      },
      {
        "duration": 25,
        "start_time": "2022-01-28T12:16:23.285Z"
      },
      {
        "duration": 315,
        "start_time": "2022-01-28T12:16:23.313Z"
      },
      {
        "duration": 647,
        "start_time": "2022-01-28T12:16:23.630Z"
      },
      {
        "duration": 607,
        "start_time": "2022-01-28T12:16:24.279Z"
      },
      {
        "duration": 28,
        "start_time": "2022-01-28T12:16:24.888Z"
      },
      {
        "duration": 1084,
        "start_time": "2022-01-28T12:16:24.918Z"
      },
      {
        "duration": 1038,
        "start_time": "2022-01-28T12:17:40.996Z"
      },
      {
        "duration": 608,
        "start_time": "2022-01-28T12:18:28.427Z"
      },
      {
        "duration": 1337,
        "start_time": "2022-01-28T12:18:36.686Z"
      },
      {
        "duration": 524,
        "start_time": "2022-01-28T12:18:38.025Z"
      },
      {
        "duration": 21,
        "start_time": "2022-01-28T12:18:38.552Z"
      },
      {
        "duration": 20,
        "start_time": "2022-01-28T12:18:38.576Z"
      },
      {
        "duration": 67,
        "start_time": "2022-01-28T12:18:38.599Z"
      },
      {
        "duration": 30,
        "start_time": "2022-01-28T12:18:38.668Z"
      },
      {
        "duration": 33,
        "start_time": "2022-01-28T12:18:38.700Z"
      },
      {
        "duration": 14,
        "start_time": "2022-01-28T12:18:38.760Z"
      },
      {
        "duration": 13,
        "start_time": "2022-01-28T12:18:38.778Z"
      },
      {
        "duration": 28,
        "start_time": "2022-01-28T12:18:38.793Z"
      },
      {
        "duration": 43,
        "start_time": "2022-01-28T12:18:38.824Z"
      },
      {
        "duration": 101,
        "start_time": "2022-01-28T12:18:38.869Z"
      },
      {
        "duration": 260,
        "start_time": "2022-01-28T12:18:38.972Z"
      },
      {
        "duration": 65,
        "start_time": "2022-01-28T12:18:39.234Z"
      },
      {
        "duration": 132,
        "start_time": "2022-01-28T12:18:39.302Z"
      },
      {
        "duration": 74,
        "start_time": "2022-01-28T12:18:39.437Z"
      },
      {
        "duration": 154,
        "start_time": "2022-01-28T12:18:39.514Z"
      },
      {
        "duration": 44,
        "start_time": "2022-01-28T12:18:39.670Z"
      },
      {
        "duration": 43,
        "start_time": "2022-01-28T12:18:39.717Z"
      },
      {
        "duration": 23,
        "start_time": "2022-01-28T12:18:39.763Z"
      },
      {
        "duration": 303,
        "start_time": "2022-01-28T12:18:39.789Z"
      },
      {
        "duration": 646,
        "start_time": "2022-01-28T12:18:40.095Z"
      },
      {
        "duration": 754,
        "start_time": "2022-01-28T12:18:40.743Z"
      },
      {
        "duration": 972,
        "start_time": "2022-01-28T12:18:41.500Z"
      },
      {
        "duration": 1848,
        "start_time": "2022-01-28T12:20:18.179Z"
      },
      {
        "duration": 526,
        "start_time": "2022-01-28T12:20:20.030Z"
      },
      {
        "duration": 23,
        "start_time": "2022-01-28T12:20:20.559Z"
      },
      {
        "duration": 20,
        "start_time": "2022-01-28T12:20:20.585Z"
      },
      {
        "duration": 76,
        "start_time": "2022-01-28T12:20:20.607Z"
      },
      {
        "duration": 26,
        "start_time": "2022-01-28T12:20:20.685Z"
      },
      {
        "duration": 66,
        "start_time": "2022-01-28T12:20:20.714Z"
      },
      {
        "duration": 14,
        "start_time": "2022-01-28T12:20:20.784Z"
      },
      {
        "duration": 12,
        "start_time": "2022-01-28T12:20:20.801Z"
      },
      {
        "duration": 65,
        "start_time": "2022-01-28T12:20:20.816Z"
      },
      {
        "duration": 11,
        "start_time": "2022-01-28T12:20:20.883Z"
      },
      {
        "duration": 101,
        "start_time": "2022-01-28T12:20:20.897Z"
      },
      {
        "duration": 269,
        "start_time": "2022-01-28T12:20:21.000Z"
      },
      {
        "duration": 52,
        "start_time": "2022-01-28T12:20:21.271Z"
      },
      {
        "duration": 136,
        "start_time": "2022-01-28T12:20:21.326Z"
      },
      {
        "duration": 61,
        "start_time": "2022-01-28T12:20:21.465Z"
      },
      {
        "duration": 150,
        "start_time": "2022-01-28T12:20:21.528Z"
      },
      {
        "duration": 34,
        "start_time": "2022-01-28T12:20:21.681Z"
      },
      {
        "duration": 45,
        "start_time": "2022-01-28T12:20:21.718Z"
      },
      {
        "duration": 25,
        "start_time": "2022-01-28T12:20:21.765Z"
      },
      {
        "duration": 308,
        "start_time": "2022-01-28T12:20:21.793Z"
      },
      {
        "duration": 749,
        "start_time": "2022-01-28T12:20:22.103Z"
      },
      {
        "duration": 642,
        "start_time": "2022-01-28T12:20:22.856Z"
      },
      {
        "duration": 1154,
        "start_time": "2022-01-28T12:20:23.500Z"
      },
      {
        "duration": 42,
        "start_time": "2022-01-28T12:25:50.852Z"
      },
      {
        "duration": 61,
        "start_time": "2022-01-28T12:26:12.978Z"
      },
      {
        "duration": 134,
        "start_time": "2022-01-28T12:39:08.375Z"
      },
      {
        "duration": 142,
        "start_time": "2022-01-28T12:40:53.904Z"
      },
      {
        "duration": 5091,
        "start_time": "2022-01-28T12:41:04.072Z"
      },
      {
        "duration": 6,
        "start_time": "2022-01-28T12:41:39.205Z"
      },
      {
        "duration": 19,
        "start_time": "2022-01-28T12:41:49.420Z"
      },
      {
        "duration": 5120,
        "start_time": "2022-01-28T12:41:59.611Z"
      },
      {
        "duration": 378,
        "start_time": "2022-01-28T12:42:12.837Z"
      },
      {
        "duration": 20,
        "start_time": "2022-01-28T12:42:38.563Z"
      },
      {
        "duration": 156,
        "start_time": "2022-01-28T12:43:09.100Z"
      },
      {
        "duration": 6,
        "start_time": "2022-01-28T12:43:50.569Z"
      },
      {
        "duration": 28,
        "start_time": "2022-01-28T12:44:10.312Z"
      },
      {
        "duration": 10,
        "start_time": "2022-01-28T12:44:20.534Z"
      },
      {
        "duration": 12,
        "start_time": "2022-01-28T12:44:38.852Z"
      },
      {
        "duration": 7,
        "start_time": "2022-01-28T12:45:18.149Z"
      },
      {
        "duration": 13,
        "start_time": "2022-01-28T12:45:42.980Z"
      },
      {
        "duration": 12,
        "start_time": "2022-01-28T12:46:13.828Z"
      },
      {
        "duration": 13,
        "start_time": "2022-01-28T12:46:25.483Z"
      },
      {
        "duration": 8,
        "start_time": "2022-01-28T12:46:48.195Z"
      },
      {
        "duration": 9,
        "start_time": "2022-01-28T12:46:56.102Z"
      },
      {
        "duration": 30,
        "start_time": "2022-01-28T12:48:29.867Z"
      },
      {
        "duration": 9,
        "start_time": "2022-01-28T12:48:38.941Z"
      },
      {
        "duration": 8,
        "start_time": "2022-01-28T12:50:27.002Z"
      },
      {
        "duration": 148,
        "start_time": "2022-01-28T12:53:20.846Z"
      },
      {
        "duration": 377,
        "start_time": "2022-01-28T12:53:25.653Z"
      },
      {
        "duration": 15,
        "start_time": "2022-01-28T12:53:47.109Z"
      },
      {
        "duration": 11,
        "start_time": "2022-01-28T12:54:05.178Z"
      },
      {
        "duration": 10,
        "start_time": "2022-01-28T12:54:11.485Z"
      },
      {
        "duration": 10,
        "start_time": "2022-01-28T12:54:46.455Z"
      },
      {
        "duration": 10,
        "start_time": "2022-01-28T12:55:19.496Z"
      },
      {
        "duration": 11,
        "start_time": "2022-01-28T12:55:39.551Z"
      },
      {
        "duration": 10,
        "start_time": "2022-01-28T12:58:06.080Z"
      },
      {
        "duration": 11,
        "start_time": "2022-01-28T12:58:15.634Z"
      },
      {
        "duration": 10,
        "start_time": "2022-01-28T12:58:18.800Z"
      },
      {
        "duration": 10,
        "start_time": "2022-01-28T12:58:23.234Z"
      },
      {
        "duration": 10,
        "start_time": "2022-01-28T12:58:26.261Z"
      },
      {
        "duration": 10,
        "start_time": "2022-01-28T12:58:29.492Z"
      },
      {
        "duration": 1120,
        "start_time": "2022-01-28T15:50:17.192Z"
      },
      {
        "duration": 446,
        "start_time": "2022-01-28T15:50:18.314Z"
      },
      {
        "duration": 21,
        "start_time": "2022-01-28T15:50:18.763Z"
      },
      {
        "duration": 19,
        "start_time": "2022-01-28T15:50:18.787Z"
      },
      {
        "duration": 35,
        "start_time": "2022-01-28T15:50:18.808Z"
      },
      {
        "duration": 25,
        "start_time": "2022-01-28T15:50:18.845Z"
      },
      {
        "duration": 57,
        "start_time": "2022-01-28T15:50:18.872Z"
      },
      {
        "duration": 12,
        "start_time": "2022-01-28T15:50:18.931Z"
      },
      {
        "duration": 10,
        "start_time": "2022-01-28T15:50:18.946Z"
      },
      {
        "duration": 58,
        "start_time": "2022-01-28T15:50:18.959Z"
      },
      {
        "duration": 9,
        "start_time": "2022-01-28T15:50:19.019Z"
      },
      {
        "duration": 81,
        "start_time": "2022-01-28T15:50:19.030Z"
      },
      {
        "duration": 217,
        "start_time": "2022-01-28T15:50:19.113Z"
      },
      {
        "duration": 42,
        "start_time": "2022-01-28T15:50:19.333Z"
      },
      {
        "duration": 115,
        "start_time": "2022-01-28T15:50:19.377Z"
      },
      {
        "duration": 51,
        "start_time": "2022-01-28T15:50:19.494Z"
      },
      {
        "duration": 113,
        "start_time": "2022-01-28T15:50:19.547Z"
      },
      {
        "duration": 26,
        "start_time": "2022-01-28T15:50:19.662Z"
      },
      {
        "duration": 31,
        "start_time": "2022-01-28T15:50:19.690Z"
      },
      {
        "duration": 22,
        "start_time": "2022-01-28T15:50:19.724Z"
      },
      {
        "duration": 203,
        "start_time": "2022-01-28T15:50:19.748Z"
      },
      {
        "duration": 411,
        "start_time": "2022-01-28T15:50:19.953Z"
      },
      {
        "duration": 407,
        "start_time": "2022-01-28T15:50:20.366Z"
      },
      {
        "duration": 613,
        "start_time": "2022-01-28T15:50:20.776Z"
      },
      {
        "duration": 45,
        "start_time": "2022-01-28T15:50:21.391Z"
      },
      {
        "duration": 9,
        "start_time": "2022-01-28T15:50:21.438Z"
      },
      {
        "duration": 9,
        "start_time": "2022-01-28T15:50:21.451Z"
      },
      {
        "duration": 9,
        "start_time": "2022-01-28T15:50:21.462Z"
      },
      {
        "duration": 40,
        "start_time": "2022-01-28T15:50:21.473Z"
      },
      {
        "duration": 12,
        "start_time": "2022-01-28T15:50:21.515Z"
      },
      {
        "duration": 12,
        "start_time": "2022-01-28T15:50:21.530Z"
      },
      {
        "duration": 10,
        "start_time": "2022-01-28T15:59:42.047Z"
      },
      {
        "duration": 7,
        "start_time": "2022-01-28T15:59:56.179Z"
      },
      {
        "duration": 9,
        "start_time": "2022-01-28T16:00:09.357Z"
      },
      {
        "duration": 7,
        "start_time": "2022-01-28T16:00:17.731Z"
      },
      {
        "duration": 8,
        "start_time": "2022-01-28T16:00:36.290Z"
      },
      {
        "duration": 8,
        "start_time": "2022-01-28T16:00:38.752Z"
      },
      {
        "duration": 7,
        "start_time": "2022-01-28T16:00:41.346Z"
      },
      {
        "duration": 7,
        "start_time": "2022-01-28T16:02:39.123Z"
      },
      {
        "duration": 7,
        "start_time": "2022-01-28T16:03:21.223Z"
      },
      {
        "duration": 8,
        "start_time": "2022-01-28T16:04:16.782Z"
      },
      {
        "duration": 7,
        "start_time": "2022-01-28T16:04:19.587Z"
      },
      {
        "duration": 7,
        "start_time": "2022-01-28T16:04:22.620Z"
      },
      {
        "duration": 9,
        "start_time": "2022-01-28T16:07:04.359Z"
      },
      {
        "duration": 8,
        "start_time": "2022-01-28T16:07:30.596Z"
      },
      {
        "duration": 9,
        "start_time": "2022-01-28T16:07:40.848Z"
      },
      {
        "duration": 9,
        "start_time": "2022-01-28T16:07:48.449Z"
      },
      {
        "duration": 9,
        "start_time": "2022-01-28T16:08:14.549Z"
      },
      {
        "duration": 1112,
        "start_time": "2022-01-28T16:08:57.811Z"
      },
      {
        "duration": 458,
        "start_time": "2022-01-28T16:08:58.925Z"
      },
      {
        "duration": 18,
        "start_time": "2022-01-28T16:08:59.385Z"
      },
      {
        "duration": 16,
        "start_time": "2022-01-28T16:08:59.405Z"
      },
      {
        "duration": 32,
        "start_time": "2022-01-28T16:08:59.423Z"
      },
      {
        "duration": 51,
        "start_time": "2022-01-28T16:08:59.457Z"
      },
      {
        "duration": 28,
        "start_time": "2022-01-28T16:08:59.510Z"
      },
      {
        "duration": 11,
        "start_time": "2022-01-28T16:08:59.541Z"
      },
      {
        "duration": 11,
        "start_time": "2022-01-28T16:08:59.554Z"
      },
      {
        "duration": 56,
        "start_time": "2022-01-28T16:08:59.566Z"
      },
      {
        "duration": 9,
        "start_time": "2022-01-28T16:08:59.624Z"
      },
      {
        "duration": 82,
        "start_time": "2022-01-28T16:08:59.635Z"
      },
      {
        "duration": 222,
        "start_time": "2022-01-28T16:08:59.719Z"
      },
      {
        "duration": 42,
        "start_time": "2022-01-28T16:08:59.943Z"
      },
      {
        "duration": 134,
        "start_time": "2022-01-28T16:08:59.987Z"
      },
      {
        "duration": 51,
        "start_time": "2022-01-28T16:09:00.124Z"
      },
      {
        "duration": 124,
        "start_time": "2022-01-28T16:09:00.176Z"
      },
      {
        "duration": 32,
        "start_time": "2022-01-28T16:09:00.302Z"
      },
      {
        "duration": 21,
        "start_time": "2022-01-28T16:09:00.336Z"
      },
      {
        "duration": 17,
        "start_time": "2022-01-28T16:09:00.359Z"
      },
      {
        "duration": 223,
        "start_time": "2022-01-28T16:09:00.377Z"
      },
      {
        "duration": 462,
        "start_time": "2022-01-28T16:09:00.602Z"
      },
      {
        "duration": 400,
        "start_time": "2022-01-28T16:09:01.067Z"
      },
      {
        "duration": 700,
        "start_time": "2022-01-28T16:09:01.469Z"
      },
      {
        "duration": 49,
        "start_time": "2022-01-28T16:09:02.171Z"
      },
      {
        "duration": 7,
        "start_time": "2022-01-28T16:09:02.223Z"
      },
      {
        "duration": 27,
        "start_time": "2022-01-28T16:09:02.232Z"
      },
      {
        "duration": 28,
        "start_time": "2022-01-28T16:09:02.261Z"
      },
      {
        "duration": 58,
        "start_time": "2022-01-28T16:09:02.290Z"
      },
      {
        "duration": 19,
        "start_time": "2022-01-28T16:09:02.350Z"
      },
      {
        "duration": 11,
        "start_time": "2022-01-28T16:09:02.372Z"
      },
      {
        "duration": 13,
        "start_time": "2022-01-28T16:09:02.385Z"
      },
      {
        "duration": 12,
        "start_time": "2022-01-28T16:09:02.400Z"
      },
      {
        "duration": 9,
        "start_time": "2022-01-28T16:12:58.284Z"
      },
      {
        "duration": 8,
        "start_time": "2022-01-28T16:13:44.718Z"
      },
      {
        "duration": 9,
        "start_time": "2022-01-28T16:14:24.465Z"
      },
      {
        "duration": 13,
        "start_time": "2022-01-28T16:17:35.474Z"
      },
      {
        "duration": 476,
        "start_time": "2022-01-28T17:33:41.324Z"
      },
      {
        "duration": 992,
        "start_time": "2022-01-28T17:33:51.351Z"
      },
      {
        "duration": 391,
        "start_time": "2022-01-28T17:33:52.345Z"
      },
      {
        "duration": 18,
        "start_time": "2022-01-28T17:33:52.738Z"
      },
      {
        "duration": 10,
        "start_time": "2022-01-28T17:33:52.758Z"
      },
      {
        "duration": 40,
        "start_time": "2022-01-28T17:33:52.770Z"
      },
      {
        "duration": 26,
        "start_time": "2022-01-28T17:33:52.812Z"
      },
      {
        "duration": 49,
        "start_time": "2022-01-28T17:33:52.839Z"
      },
      {
        "duration": 10,
        "start_time": "2022-01-28T17:33:52.890Z"
      },
      {
        "duration": 8,
        "start_time": "2022-01-28T17:33:52.902Z"
      },
      {
        "duration": 17,
        "start_time": "2022-01-28T17:33:52.912Z"
      },
      {
        "duration": 8,
        "start_time": "2022-01-28T17:33:52.930Z"
      },
      {
        "duration": 89,
        "start_time": "2022-01-28T17:33:52.939Z"
      },
      {
        "duration": 169,
        "start_time": "2022-01-28T17:33:53.029Z"
      },
      {
        "duration": 33,
        "start_time": "2022-01-28T17:33:53.199Z"
      },
      {
        "duration": 86,
        "start_time": "2022-01-28T17:33:53.233Z"
      },
      {
        "duration": 37,
        "start_time": "2022-01-28T17:33:53.320Z"
      },
      {
        "duration": 87,
        "start_time": "2022-01-28T17:33:53.359Z"
      },
      {
        "duration": 33,
        "start_time": "2022-01-28T17:33:53.448Z"
      },
      {
        "duration": 20,
        "start_time": "2022-01-28T17:33:53.483Z"
      },
      {
        "duration": 20,
        "start_time": "2022-01-28T17:33:53.505Z"
      },
      {
        "duration": 252,
        "start_time": "2022-01-28T17:33:53.527Z"
      },
      {
        "duration": 389,
        "start_time": "2022-01-28T17:33:53.781Z"
      },
      {
        "duration": 408,
        "start_time": "2022-01-28T17:33:54.173Z"
      },
      {
        "duration": 522,
        "start_time": "2022-01-28T17:33:54.583Z"
      },
      {
        "duration": 24,
        "start_time": "2022-01-28T17:33:55.106Z"
      },
      {
        "duration": 5,
        "start_time": "2022-01-28T17:33:55.132Z"
      },
      {
        "duration": 6,
        "start_time": "2022-01-28T17:33:55.138Z"
      },
      {
        "duration": 29,
        "start_time": "2022-01-28T17:33:55.146Z"
      },
      {
        "duration": 19,
        "start_time": "2022-01-28T17:33:55.176Z"
      },
      {
        "duration": 8,
        "start_time": "2022-01-28T17:33:55.196Z"
      },
      {
        "duration": 7,
        "start_time": "2022-01-28T17:33:55.205Z"
      },
      {
        "duration": 13,
        "start_time": "2022-01-28T17:33:55.213Z"
      },
      {
        "duration": 9,
        "start_time": "2022-01-28T17:33:55.228Z"
      },
      {
        "duration": 17,
        "start_time": "2022-01-28T17:33:55.239Z"
      },
      {
        "duration": 116,
        "start_time": "2022-01-28T17:34:35.135Z"
      },
      {
        "duration": 10,
        "start_time": "2022-01-28T17:34:40.249Z"
      },
      {
        "duration": 9,
        "start_time": "2022-01-28T17:34:51.484Z"
      },
      {
        "duration": 10,
        "start_time": "2022-01-28T17:35:15.935Z"
      },
      {
        "duration": 3,
        "start_time": "2022-01-28T17:37:08.157Z"
      },
      {
        "duration": 535,
        "start_time": "2022-01-28T17:40:45.965Z"
      },
      {
        "duration": 226,
        "start_time": "2022-01-28T17:41:44.297Z"
      },
      {
        "duration": 2251,
        "start_time": "2022-01-28T17:42:15.935Z"
      },
      {
        "duration": 170,
        "start_time": "2022-01-28T17:42:41.037Z"
      },
      {
        "duration": 24,
        "start_time": "2022-01-28T17:48:28.787Z"
      },
      {
        "duration": 35,
        "start_time": "2022-01-28T17:49:01.245Z"
      },
      {
        "duration": 23,
        "start_time": "2022-01-28T18:07:36.376Z"
      },
      {
        "duration": 4,
        "start_time": "2022-01-28T18:09:59.405Z"
      },
      {
        "duration": 17,
        "start_time": "2022-01-28T18:10:09.897Z"
      },
      {
        "duration": 108,
        "start_time": "2022-01-28T18:10:48.157Z"
      },
      {
        "duration": 325,
        "start_time": "2022-01-28T18:10:53.417Z"
      },
      {
        "duration": 299,
        "start_time": "2022-01-28T18:11:05.792Z"
      },
      {
        "duration": 19,
        "start_time": "2022-01-28T18:11:15.223Z"
      },
      {
        "duration": 332,
        "start_time": "2022-01-28T18:12:03.703Z"
      },
      {
        "duration": 295,
        "start_time": "2022-01-28T18:12:14.781Z"
      },
      {
        "duration": 7,
        "start_time": "2022-01-28T18:13:12.229Z"
      },
      {
        "duration": 5,
        "start_time": "2022-01-28T18:13:44.861Z"
      },
      {
        "duration": 316,
        "start_time": "2022-01-28T18:13:48.135Z"
      },
      {
        "duration": 6,
        "start_time": "2022-01-28T18:13:50.703Z"
      },
      {
        "duration": 17,
        "start_time": "2022-01-28T18:14:04.594Z"
      },
      {
        "duration": 19,
        "start_time": "2022-01-28T18:14:10.488Z"
      },
      {
        "duration": 287,
        "start_time": "2022-01-28T18:16:21.251Z"
      },
      {
        "duration": 5,
        "start_time": "2022-01-28T18:22:55.445Z"
      },
      {
        "duration": 6,
        "start_time": "2022-01-28T18:23:13.278Z"
      },
      {
        "duration": 6,
        "start_time": "2022-01-28T18:24:57.896Z"
      },
      {
        "duration": 6,
        "start_time": "2022-01-28T18:25:03.211Z"
      },
      {
        "duration": 18,
        "start_time": "2022-01-28T18:26:06.939Z"
      },
      {
        "duration": 8,
        "start_time": "2022-01-28T18:26:14.672Z"
      },
      {
        "duration": 218,
        "start_time": "2022-01-28T18:30:48.399Z"
      },
      {
        "duration": 859,
        "start_time": "2022-01-28T18:39:16.459Z"
      },
      {
        "duration": 1365,
        "start_time": "2022-01-28T18:39:36.384Z"
      },
      {
        "duration": 919,
        "start_time": "2022-01-28T18:39:59.518Z"
      },
      {
        "duration": 368,
        "start_time": "2022-01-28T18:40:00.438Z"
      },
      {
        "duration": 13,
        "start_time": "2022-01-28T18:40:00.808Z"
      },
      {
        "duration": 14,
        "start_time": "2022-01-28T18:40:00.823Z"
      },
      {
        "duration": 24,
        "start_time": "2022-01-28T18:40:00.839Z"
      },
      {
        "duration": 17,
        "start_time": "2022-01-28T18:40:00.864Z"
      },
      {
        "duration": 21,
        "start_time": "2022-01-28T18:40:00.883Z"
      },
      {
        "duration": 9,
        "start_time": "2022-01-28T18:40:00.907Z"
      },
      {
        "duration": 8,
        "start_time": "2022-01-28T18:40:00.918Z"
      },
      {
        "duration": 45,
        "start_time": "2022-01-28T18:40:00.927Z"
      },
      {
        "duration": 7,
        "start_time": "2022-01-28T18:40:00.974Z"
      },
      {
        "duration": 53,
        "start_time": "2022-01-28T18:40:00.982Z"
      },
      {
        "duration": 190,
        "start_time": "2022-01-28T18:40:01.036Z"
      },
      {
        "duration": 45,
        "start_time": "2022-01-28T18:40:01.228Z"
      },
      {
        "duration": 78,
        "start_time": "2022-01-28T18:40:01.274Z"
      },
      {
        "duration": 53,
        "start_time": "2022-01-28T18:40:01.353Z"
      },
      {
        "duration": 85,
        "start_time": "2022-01-28T18:40:01.407Z"
      },
      {
        "duration": 17,
        "start_time": "2022-01-28T18:40:01.494Z"
      },
      {
        "duration": 28,
        "start_time": "2022-01-28T18:40:01.513Z"
      },
      {
        "duration": 19,
        "start_time": "2022-01-28T18:40:01.542Z"
      },
      {
        "duration": 157,
        "start_time": "2022-01-28T18:40:01.562Z"
      },
      {
        "duration": 395,
        "start_time": "2022-01-28T18:40:01.721Z"
      },
      {
        "duration": 325,
        "start_time": "2022-01-28T18:40:02.119Z"
      },
      {
        "duration": 509,
        "start_time": "2022-01-28T18:40:02.446Z"
      },
      {
        "duration": 22,
        "start_time": "2022-01-28T18:40:02.956Z"
      },
      {
        "duration": 554,
        "start_time": "2022-01-28T18:40:02.979Z"
      },
      {
        "duration": -237,
        "start_time": "2022-01-28T18:40:03.772Z"
      },
      {
        "duration": -241,
        "start_time": "2022-01-28T18:40:03.776Z"
      },
      {
        "duration": -242,
        "start_time": "2022-01-28T18:40:03.778Z"
      },
      {
        "duration": -244,
        "start_time": "2022-01-28T18:40:03.781Z"
      },
      {
        "duration": 18,
        "start_time": "2022-01-28T18:40:16.926Z"
      },
      {
        "duration": 6,
        "start_time": "2022-01-28T18:40:21.343Z"
      },
      {
        "duration": 15,
        "start_time": "2022-01-28T18:40:30.004Z"
      },
      {
        "duration": 214,
        "start_time": "2022-01-28T18:40:56.886Z"
      },
      {
        "duration": 193,
        "start_time": "2022-01-28T18:41:30.884Z"
      },
      {
        "duration": 274,
        "start_time": "2022-01-28T18:41:36.742Z"
      },
      {
        "duration": 353,
        "start_time": "2022-01-28T18:41:45.705Z"
      },
      {
        "duration": 235,
        "start_time": "2022-01-28T18:44:28.221Z"
      },
      {
        "duration": 301,
        "start_time": "2022-01-28T18:44:51.031Z"
      },
      {
        "duration": 6,
        "start_time": "2022-01-28T18:44:56.223Z"
      },
      {
        "duration": 10,
        "start_time": "2022-01-28T18:51:44.174Z"
      },
      {
        "duration": 438,
        "start_time": "2022-01-28T18:53:11.355Z"
      },
      {
        "duration": 323,
        "start_time": "2022-01-28T18:53:36.604Z"
      },
      {
        "duration": 618,
        "start_time": "2022-01-28T18:54:16.790Z"
      },
      {
        "duration": 371,
        "start_time": "2022-01-28T18:54:30.668Z"
      },
      {
        "duration": 384,
        "start_time": "2022-01-28T18:54:41.476Z"
      },
      {
        "duration": 633,
        "start_time": "2022-01-28T18:54:48.912Z"
      },
      {
        "duration": 861,
        "start_time": "2022-01-28T18:55:07.600Z"
      },
      {
        "duration": 606,
        "start_time": "2022-01-28T18:55:17.801Z"
      },
      {
        "duration": 600,
        "start_time": "2022-01-28T18:55:24.501Z"
      },
      {
        "duration": 306,
        "start_time": "2022-01-28T18:55:29.321Z"
      },
      {
        "duration": 314,
        "start_time": "2022-01-28T18:56:30.469Z"
      },
      {
        "duration": 523,
        "start_time": "2022-01-28T18:57:19.058Z"
      },
      {
        "duration": 7970,
        "start_time": "2022-01-28T18:59:23.101Z"
      },
      {
        "duration": 287,
        "start_time": "2022-01-28T18:59:33.736Z"
      },
      {
        "duration": 299,
        "start_time": "2022-01-28T18:59:56.954Z"
      },
      {
        "duration": 298,
        "start_time": "2022-01-28T19:01:23.267Z"
      },
      {
        "duration": 303,
        "start_time": "2022-01-28T19:01:35.439Z"
      },
      {
        "duration": 385,
        "start_time": "2022-01-28T19:01:43.652Z"
      },
      {
        "duration": 860,
        "start_time": "2022-01-28T19:02:58.191Z"
      },
      {
        "duration": 495,
        "start_time": "2022-01-28T19:03:28.011Z"
      },
      {
        "duration": 601,
        "start_time": "2022-01-28T19:03:37.967Z"
      },
      {
        "duration": 607,
        "start_time": "2022-01-28T19:04:41.327Z"
      },
      {
        "duration": 543,
        "start_time": "2022-01-28T19:04:48.315Z"
      },
      {
        "duration": 601,
        "start_time": "2022-01-28T19:04:52.873Z"
      },
      {
        "duration": 501,
        "start_time": "2022-01-28T19:05:06.666Z"
      },
      {
        "duration": 517,
        "start_time": "2022-01-28T19:05:13.992Z"
      },
      {
        "duration": 531,
        "start_time": "2022-01-28T19:05:30.005Z"
      },
      {
        "duration": 437,
        "start_time": "2022-01-28T19:05:44.942Z"
      },
      {
        "duration": 434,
        "start_time": "2022-01-28T19:05:50.979Z"
      },
      {
        "duration": 429,
        "start_time": "2022-01-28T19:05:57.888Z"
      },
      {
        "duration": 605,
        "start_time": "2022-01-28T19:06:03.147Z"
      },
      {
        "duration": 308,
        "start_time": "2022-01-28T19:06:10.447Z"
      },
      {
        "duration": 314,
        "start_time": "2022-01-28T19:06:28.221Z"
      },
      {
        "duration": 371,
        "start_time": "2022-01-28T19:06:46.590Z"
      },
      {
        "duration": 327,
        "start_time": "2022-01-28T19:12:28.549Z"
      },
      {
        "duration": 3,
        "start_time": "2022-01-28T19:12:52.893Z"
      },
      {
        "duration": 311,
        "start_time": "2022-01-28T19:13:06.768Z"
      },
      {
        "duration": 318,
        "start_time": "2022-01-28T19:13:25.457Z"
      },
      {
        "duration": 8,
        "start_time": "2022-01-28T19:25:33.644Z"
      },
      {
        "duration": 8,
        "start_time": "2022-01-28T19:25:40.936Z"
      },
      {
        "duration": 322,
        "start_time": "2022-01-28T19:25:42.572Z"
      },
      {
        "duration": 332,
        "start_time": "2022-01-28T19:28:41.089Z"
      },
      {
        "duration": 402,
        "start_time": "2022-01-28T19:29:42.602Z"
      },
      {
        "duration": 326,
        "start_time": "2022-01-28T19:30:35.622Z"
      },
      {
        "duration": 324,
        "start_time": "2022-01-28T19:30:55.133Z"
      },
      {
        "duration": 325,
        "start_time": "2022-01-28T19:39:38.452Z"
      },
      {
        "duration": 331,
        "start_time": "2022-01-28T19:41:02.837Z"
      },
      {
        "duration": 414,
        "start_time": "2022-01-28T19:48:33.303Z"
      },
      {
        "duration": 326,
        "start_time": "2022-01-28T19:49:18.172Z"
      },
      {
        "duration": 323,
        "start_time": "2022-01-28T19:49:32.256Z"
      },
      {
        "duration": 947,
        "start_time": "2022-01-28T19:50:01.296Z"
      },
      {
        "duration": 357,
        "start_time": "2022-01-28T19:50:02.245Z"
      },
      {
        "duration": 13,
        "start_time": "2022-01-28T19:50:02.603Z"
      },
      {
        "duration": 11,
        "start_time": "2022-01-28T19:50:02.618Z"
      },
      {
        "duration": 24,
        "start_time": "2022-01-28T19:50:02.630Z"
      },
      {
        "duration": 16,
        "start_time": "2022-01-28T19:50:02.655Z"
      },
      {
        "duration": 19,
        "start_time": "2022-01-28T19:50:02.672Z"
      },
      {
        "duration": 7,
        "start_time": "2022-01-28T19:50:02.693Z"
      },
      {
        "duration": 8,
        "start_time": "2022-01-28T19:50:02.702Z"
      },
      {
        "duration": 18,
        "start_time": "2022-01-28T19:50:02.711Z"
      },
      {
        "duration": 6,
        "start_time": "2022-01-28T19:50:02.730Z"
      },
      {
        "duration": 81,
        "start_time": "2022-01-28T19:50:02.738Z"
      },
      {
        "duration": 163,
        "start_time": "2022-01-28T19:50:02.821Z"
      },
      {
        "duration": 34,
        "start_time": "2022-01-28T19:50:02.986Z"
      },
      {
        "duration": 87,
        "start_time": "2022-01-28T19:50:03.022Z"
      },
      {
        "duration": 39,
        "start_time": "2022-01-28T19:50:03.111Z"
      },
      {
        "duration": 86,
        "start_time": "2022-01-28T19:50:03.151Z"
      },
      {
        "duration": 33,
        "start_time": "2022-01-28T19:50:03.239Z"
      },
      {
        "duration": 15,
        "start_time": "2022-01-28T19:50:03.274Z"
      },
      {
        "duration": 12,
        "start_time": "2022-01-28T19:50:03.291Z"
      },
      {
        "duration": 171,
        "start_time": "2022-01-28T19:50:03.304Z"
      },
      {
        "duration": 338,
        "start_time": "2022-01-28T19:50:03.477Z"
      },
      {
        "duration": 332,
        "start_time": "2022-01-28T19:50:03.818Z"
      },
      {
        "duration": 530,
        "start_time": "2022-01-28T19:50:04.151Z"
      },
      {
        "duration": 337,
        "start_time": "2022-01-28T19:50:04.682Z"
      },
      {
        "duration": 335,
        "start_time": "2022-01-28T19:50:05.021Z"
      },
      {
        "duration": 315,
        "start_time": "2022-01-28T19:50:05.358Z"
      },
      {
        "duration": 327,
        "start_time": "2022-01-28T19:50:05.674Z"
      },
      {
        "duration": 18,
        "start_time": "2022-01-28T19:50:20.254Z"
      },
      {
        "duration": 17,
        "start_time": "2022-01-28T19:51:13.050Z"
      },
      {
        "duration": 21,
        "start_time": "2022-01-28T19:53:11.204Z"
      },
      {
        "duration": 935,
        "start_time": "2022-01-28T19:53:17.806Z"
      },
      {
        "duration": 380,
        "start_time": "2022-01-28T19:53:18.743Z"
      },
      {
        "duration": 13,
        "start_time": "2022-01-28T19:53:19.125Z"
      },
      {
        "duration": 11,
        "start_time": "2022-01-28T19:53:19.140Z"
      },
      {
        "duration": 25,
        "start_time": "2022-01-28T19:53:19.153Z"
      },
      {
        "duration": 17,
        "start_time": "2022-01-28T19:53:19.180Z"
      },
      {
        "duration": 24,
        "start_time": "2022-01-28T19:53:19.198Z"
      },
      {
        "duration": 8,
        "start_time": "2022-01-28T19:53:19.224Z"
      },
      {
        "duration": 37,
        "start_time": "2022-01-28T19:53:19.234Z"
      },
      {
        "duration": 18,
        "start_time": "2022-01-28T19:53:19.273Z"
      },
      {
        "duration": 6,
        "start_time": "2022-01-28T19:53:19.292Z"
      },
      {
        "duration": 51,
        "start_time": "2022-01-28T19:53:19.300Z"
      },
      {
        "duration": 167,
        "start_time": "2022-01-28T19:53:19.353Z"
      },
      {
        "duration": 33,
        "start_time": "2022-01-28T19:53:19.522Z"
      },
      {
        "duration": 85,
        "start_time": "2022-01-28T19:53:19.556Z"
      },
      {
        "duration": 42,
        "start_time": "2022-01-28T19:53:19.643Z"
      },
      {
        "duration": 85,
        "start_time": "2022-01-28T19:53:19.686Z"
      },
      {
        "duration": 23,
        "start_time": "2022-01-28T19:53:19.773Z"
      },
      {
        "duration": 16,
        "start_time": "2022-01-28T19:53:19.797Z"
      },
      {
        "duration": 13,
        "start_time": "2022-01-28T19:53:19.814Z"
      },
      {
        "duration": 166,
        "start_time": "2022-01-28T19:53:19.828Z"
      },
      {
        "duration": 342,
        "start_time": "2022-01-28T19:53:19.995Z"
      },
      {
        "duration": 290,
        "start_time": "2022-01-28T19:53:20.340Z"
      },
      {
        "duration": 530,
        "start_time": "2022-01-28T19:53:20.631Z"
      },
      {
        "duration": 323,
        "start_time": "2022-01-28T19:53:21.163Z"
      },
      {
        "duration": 344,
        "start_time": "2022-01-28T19:53:21.488Z"
      },
      {
        "duration": 333,
        "start_time": "2022-01-28T19:53:21.834Z"
      },
      {
        "duration": 19,
        "start_time": "2022-01-28T19:53:22.169Z"
      },
      {
        "duration": 358,
        "start_time": "2022-01-28T19:53:22.190Z"
      },
      {
        "duration": 964,
        "start_time": "2022-01-28T19:55:47.212Z"
      },
      {
        "duration": 370,
        "start_time": "2022-01-28T19:55:48.178Z"
      },
      {
        "duration": 13,
        "start_time": "2022-01-28T19:55:48.549Z"
      },
      {
        "duration": 11,
        "start_time": "2022-01-28T19:55:48.564Z"
      },
      {
        "duration": 35,
        "start_time": "2022-01-28T19:55:48.577Z"
      },
      {
        "duration": 16,
        "start_time": "2022-01-28T19:55:48.614Z"
      },
      {
        "duration": 20,
        "start_time": "2022-01-28T19:55:48.631Z"
      },
      {
        "duration": 26,
        "start_time": "2022-01-28T19:55:48.653Z"
      },
      {
        "duration": 8,
        "start_time": "2022-01-28T19:55:48.681Z"
      },
      {
        "duration": 35,
        "start_time": "2022-01-28T19:55:48.690Z"
      },
      {
        "duration": 6,
        "start_time": "2022-01-28T19:55:48.727Z"
      },
      {
        "duration": 60,
        "start_time": "2022-01-28T19:55:48.735Z"
      },
      {
        "duration": 165,
        "start_time": "2022-01-28T19:55:48.796Z"
      },
      {
        "duration": 34,
        "start_time": "2022-01-28T19:55:48.962Z"
      },
      {
        "duration": 86,
        "start_time": "2022-01-28T19:55:48.998Z"
      },
      {
        "duration": 38,
        "start_time": "2022-01-28T19:55:49.086Z"
      },
      {
        "duration": 89,
        "start_time": "2022-01-28T19:55:49.125Z"
      },
      {
        "duration": 22,
        "start_time": "2022-01-28T19:55:49.215Z"
      },
      {
        "duration": 15,
        "start_time": "2022-01-28T19:55:49.238Z"
      },
      {
        "duration": 26,
        "start_time": "2022-01-28T19:55:49.255Z"
      },
      {
        "duration": 154,
        "start_time": "2022-01-28T19:55:49.282Z"
      },
      {
        "duration": 331,
        "start_time": "2022-01-28T19:55:49.438Z"
      },
      {
        "duration": 321,
        "start_time": "2022-01-28T19:55:49.773Z"
      },
      {
        "duration": 512,
        "start_time": "2022-01-28T19:55:50.095Z"
      },
      {
        "duration": 338,
        "start_time": "2022-01-28T19:55:50.609Z"
      },
      {
        "duration": 343,
        "start_time": "2022-01-28T19:55:50.949Z"
      },
      {
        "duration": 322,
        "start_time": "2022-01-28T19:55:51.294Z"
      },
      {
        "duration": 20,
        "start_time": "2022-01-28T19:55:51.617Z"
      },
      {
        "duration": 346,
        "start_time": "2022-01-28T19:55:51.638Z"
      },
      {
        "duration": 161,
        "start_time": "2022-01-28T20:03:28.520Z"
      },
      {
        "duration": 983,
        "start_time": "2022-01-28T20:03:37.947Z"
      },
      {
        "duration": 367,
        "start_time": "2022-01-28T20:03:38.932Z"
      },
      {
        "duration": 15,
        "start_time": "2022-01-28T20:03:39.301Z"
      },
      {
        "duration": 12,
        "start_time": "2022-01-28T20:03:39.317Z"
      },
      {
        "duration": 26,
        "start_time": "2022-01-28T20:03:39.330Z"
      },
      {
        "duration": 21,
        "start_time": "2022-01-28T20:03:39.358Z"
      },
      {
        "duration": 22,
        "start_time": "2022-01-28T20:03:39.381Z"
      },
      {
        "duration": 9,
        "start_time": "2022-01-28T20:03:39.406Z"
      },
      {
        "duration": 8,
        "start_time": "2022-01-28T20:03:39.418Z"
      },
      {
        "duration": 51,
        "start_time": "2022-01-28T20:03:39.428Z"
      },
      {
        "duration": 7,
        "start_time": "2022-01-28T20:03:39.481Z"
      },
      {
        "duration": 51,
        "start_time": "2022-01-28T20:03:39.490Z"
      },
      {
        "duration": 177,
        "start_time": "2022-01-28T20:03:39.543Z"
      },
      {
        "duration": 35,
        "start_time": "2022-01-28T20:03:39.722Z"
      },
      {
        "duration": 86,
        "start_time": "2022-01-28T20:03:39.758Z"
      },
      {
        "duration": 46,
        "start_time": "2022-01-28T20:03:39.846Z"
      },
      {
        "duration": 84,
        "start_time": "2022-01-28T20:03:39.894Z"
      },
      {
        "duration": 22,
        "start_time": "2022-01-28T20:03:39.980Z"
      },
      {
        "duration": 17,
        "start_time": "2022-01-28T20:03:40.004Z"
      },
      {
        "duration": 18,
        "start_time": "2022-01-28T20:03:40.022Z"
      },
      {
        "duration": 163,
        "start_time": "2022-01-28T20:03:40.042Z"
      },
      {
        "duration": 383,
        "start_time": "2022-01-28T20:03:40.207Z"
      },
      {
        "duration": 341,
        "start_time": "2022-01-28T20:03:40.593Z"
      },
      {
        "duration": 510,
        "start_time": "2022-01-28T20:03:40.936Z"
      },
      {
        "duration": 387,
        "start_time": "2022-01-28T20:03:41.448Z"
      },
      {
        "duration": 340,
        "start_time": "2022-01-28T20:03:41.837Z"
      },
      {
        "duration": 318,
        "start_time": "2022-01-28T20:03:42.179Z"
      },
      {
        "duration": 18,
        "start_time": "2022-01-28T20:03:42.498Z"
      },
      {
        "duration": 341,
        "start_time": "2022-01-28T20:03:42.517Z"
      },
      {
        "duration": 167,
        "start_time": "2022-01-28T20:09:48.454Z"
      },
      {
        "duration": 169,
        "start_time": "2022-01-28T20:10:06.689Z"
      },
      {
        "duration": 100,
        "start_time": "2022-01-28T20:10:33.677Z"
      },
      {
        "duration": 398,
        "start_time": "2022-01-28T20:10:39.079Z"
      },
      {
        "duration": 314,
        "start_time": "2022-01-28T20:11:36.866Z"
      },
      {
        "duration": 96,
        "start_time": "2022-01-28T20:15:17.713Z"
      },
      {
        "duration": 96,
        "start_time": "2022-01-28T20:15:37.934Z"
      },
      {
        "duration": 173,
        "start_time": "2022-01-28T20:16:26.118Z"
      },
      {
        "duration": 933,
        "start_time": "2022-01-28T20:16:53.603Z"
      },
      {
        "duration": 360,
        "start_time": "2022-01-28T20:16:54.538Z"
      },
      {
        "duration": 12,
        "start_time": "2022-01-28T20:16:54.900Z"
      },
      {
        "duration": 11,
        "start_time": "2022-01-28T20:16:54.914Z"
      },
      {
        "duration": 24,
        "start_time": "2022-01-28T20:16:54.926Z"
      },
      {
        "duration": 16,
        "start_time": "2022-01-28T20:16:54.951Z"
      },
      {
        "duration": 21,
        "start_time": "2022-01-28T20:16:54.968Z"
      },
      {
        "duration": 7,
        "start_time": "2022-01-28T20:16:54.991Z"
      },
      {
        "duration": 7,
        "start_time": "2022-01-28T20:16:55.000Z"
      },
      {
        "duration": 20,
        "start_time": "2022-01-28T20:16:55.008Z"
      },
      {
        "duration": 6,
        "start_time": "2022-01-28T20:16:55.029Z"
      },
      {
        "duration": 76,
        "start_time": "2022-01-28T20:16:55.036Z"
      },
      {
        "duration": 160,
        "start_time": "2022-01-28T20:16:55.113Z"
      },
      {
        "duration": 34,
        "start_time": "2022-01-28T20:16:55.274Z"
      },
      {
        "duration": 90,
        "start_time": "2022-01-28T20:16:55.309Z"
      },
      {
        "duration": 38,
        "start_time": "2022-01-28T20:16:55.401Z"
      },
      {
        "duration": 85,
        "start_time": "2022-01-28T20:16:55.440Z"
      },
      {
        "duration": 22,
        "start_time": "2022-01-28T20:16:55.527Z"
      },
      {
        "duration": 24,
        "start_time": "2022-01-28T20:16:55.551Z"
      },
      {
        "duration": 12,
        "start_time": "2022-01-28T20:16:55.577Z"
      },
      {
        "duration": 170,
        "start_time": "2022-01-28T20:16:55.591Z"
      },
      {
        "duration": 329,
        "start_time": "2022-01-28T20:16:55.762Z"
      },
      {
        "duration": 339,
        "start_time": "2022-01-28T20:16:56.093Z"
      },
      {
        "duration": 531,
        "start_time": "2022-01-28T20:16:56.434Z"
      },
      {
        "duration": 509,
        "start_time": "2022-01-28T20:16:56.966Z"
      },
      {
        "duration": -214,
        "start_time": "2022-01-28T20:16:57.691Z"
      },
      {
        "duration": -217,
        "start_time": "2022-01-28T20:16:57.695Z"
      },
      {
        "duration": -221,
        "start_time": "2022-01-28T20:16:57.699Z"
      },
      {
        "duration": -223,
        "start_time": "2022-01-28T20:16:57.702Z"
      },
      {
        "duration": 109,
        "start_time": "2022-01-28T20:18:01.001Z"
      },
      {
        "duration": 101,
        "start_time": "2022-01-28T20:18:06.967Z"
      },
      {
        "duration": 340,
        "start_time": "2022-01-28T20:18:15.576Z"
      },
      {
        "duration": 1081,
        "start_time": "2022-01-28T20:18:25.454Z"
      },
      {
        "duration": 421,
        "start_time": "2022-01-28T20:18:26.537Z"
      },
      {
        "duration": 15,
        "start_time": "2022-01-28T20:18:26.960Z"
      },
      {
        "duration": 11,
        "start_time": "2022-01-28T20:18:26.977Z"
      },
      {
        "duration": 24,
        "start_time": "2022-01-28T20:18:26.990Z"
      },
      {
        "duration": 17,
        "start_time": "2022-01-28T20:18:27.015Z"
      },
      {
        "duration": 44,
        "start_time": "2022-01-28T20:18:27.033Z"
      },
      {
        "duration": 9,
        "start_time": "2022-01-28T20:18:27.079Z"
      },
      {
        "duration": 8,
        "start_time": "2022-01-28T20:18:27.089Z"
      },
      {
        "duration": 18,
        "start_time": "2022-01-28T20:18:27.098Z"
      },
      {
        "duration": 7,
        "start_time": "2022-01-28T20:18:27.117Z"
      },
      {
        "duration": 78,
        "start_time": "2022-01-28T20:18:27.125Z"
      },
      {
        "duration": 161,
        "start_time": "2022-01-28T20:18:27.205Z"
      },
      {
        "duration": 32,
        "start_time": "2022-01-28T20:18:27.367Z"
      },
      {
        "duration": 89,
        "start_time": "2022-01-28T20:18:27.401Z"
      },
      {
        "duration": 40,
        "start_time": "2022-01-28T20:18:27.492Z"
      },
      {
        "duration": 89,
        "start_time": "2022-01-28T20:18:27.533Z"
      },
      {
        "duration": 23,
        "start_time": "2022-01-28T20:18:27.624Z"
      },
      {
        "duration": 28,
        "start_time": "2022-01-28T20:18:27.648Z"
      },
      {
        "duration": 13,
        "start_time": "2022-01-28T20:18:27.678Z"
      },
      {
        "duration": 160,
        "start_time": "2022-01-28T20:18:27.692Z"
      },
      {
        "duration": 348,
        "start_time": "2022-01-28T20:18:27.853Z"
      },
      {
        "duration": 346,
        "start_time": "2022-01-28T20:18:28.203Z"
      },
      {
        "duration": 537,
        "start_time": "2022-01-28T20:18:28.551Z"
      },
      {
        "duration": 335,
        "start_time": "2022-01-28T20:18:29.090Z"
      },
      {
        "duration": 359,
        "start_time": "2022-01-28T20:18:29.427Z"
      },
      {
        "duration": 331,
        "start_time": "2022-01-28T20:18:29.788Z"
      },
      {
        "duration": 19,
        "start_time": "2022-01-28T20:18:30.121Z"
      },
      {
        "duration": 345,
        "start_time": "2022-01-28T20:18:30.141Z"
      },
      {
        "duration": 918,
        "start_time": "2022-01-28T20:19:53.212Z"
      },
      {
        "duration": 358,
        "start_time": "2022-01-28T20:19:54.131Z"
      },
      {
        "duration": 15,
        "start_time": "2022-01-28T20:19:54.491Z"
      },
      {
        "duration": 13,
        "start_time": "2022-01-28T20:19:54.508Z"
      },
      {
        "duration": 25,
        "start_time": "2022-01-28T20:19:54.522Z"
      },
      {
        "duration": 30,
        "start_time": "2022-01-28T20:19:54.549Z"
      },
      {
        "duration": 19,
        "start_time": "2022-01-28T20:19:54.580Z"
      },
      {
        "duration": 8,
        "start_time": "2022-01-28T20:19:54.601Z"
      },
      {
        "duration": 7,
        "start_time": "2022-01-28T20:19:54.611Z"
      },
      {
        "duration": 18,
        "start_time": "2022-01-28T20:19:54.619Z"
      },
      {
        "duration": 37,
        "start_time": "2022-01-28T20:19:54.638Z"
      },
      {
        "duration": 51,
        "start_time": "2022-01-28T20:19:54.677Z"
      },
      {
        "duration": 166,
        "start_time": "2022-01-28T20:19:54.729Z"
      },
      {
        "duration": 32,
        "start_time": "2022-01-28T20:19:54.897Z"
      },
      {
        "duration": 87,
        "start_time": "2022-01-28T20:19:54.930Z"
      },
      {
        "duration": 40,
        "start_time": "2022-01-28T20:19:55.018Z"
      },
      {
        "duration": 74,
        "start_time": "2022-01-28T20:19:55.072Z"
      },
      {
        "duration": 35,
        "start_time": "2022-01-28T20:19:55.147Z"
      },
      {
        "duration": 15,
        "start_time": "2022-01-28T20:19:55.184Z"
      },
      {
        "duration": 11,
        "start_time": "2022-01-28T20:19:55.200Z"
      },
      {
        "duration": 168,
        "start_time": "2022-01-28T20:19:55.212Z"
      },
      {
        "duration": 324,
        "start_time": "2022-01-28T20:19:55.382Z"
      },
      {
        "duration": 310,
        "start_time": "2022-01-28T20:19:55.709Z"
      },
      {
        "duration": 512,
        "start_time": "2022-01-28T20:19:56.021Z"
      },
      {
        "duration": 377,
        "start_time": "2022-01-28T20:19:56.535Z"
      },
      {
        "duration": 343,
        "start_time": "2022-01-28T20:19:56.914Z"
      },
      {
        "duration": 325,
        "start_time": "2022-01-28T20:19:57.259Z"
      },
      {
        "duration": 18,
        "start_time": "2022-01-28T20:19:57.586Z"
      },
      {
        "duration": 343,
        "start_time": "2022-01-28T20:19:57.605Z"
      },
      {
        "duration": 186,
        "start_time": "2022-01-28T20:21:11.002Z"
      },
      {
        "duration": 87,
        "start_time": "2022-01-28T20:22:25.146Z"
      },
      {
        "duration": 86,
        "start_time": "2022-01-28T20:23:11.272Z"
      },
      {
        "duration": 88,
        "start_time": "2022-01-28T20:23:19.381Z"
      },
      {
        "duration": 89,
        "start_time": "2022-01-28T20:23:23.527Z"
      },
      {
        "duration": 89,
        "start_time": "2022-01-28T20:23:32.212Z"
      },
      {
        "duration": 180,
        "start_time": "2022-01-28T20:23:42.398Z"
      },
      {
        "duration": 47,
        "start_time": "2022-01-28T20:24:04.464Z"
      },
      {
        "duration": 1024,
        "start_time": "2022-01-28T20:30:17.250Z"
      },
      {
        "duration": 367,
        "start_time": "2022-01-28T20:30:18.275Z"
      },
      {
        "duration": 12,
        "start_time": "2022-01-28T20:30:18.644Z"
      },
      {
        "duration": 15,
        "start_time": "2022-01-28T20:30:18.658Z"
      },
      {
        "duration": 40,
        "start_time": "2022-01-28T20:30:18.674Z"
      },
      {
        "duration": 17,
        "start_time": "2022-01-28T20:30:18.716Z"
      },
      {
        "duration": 42,
        "start_time": "2022-01-28T20:30:18.734Z"
      },
      {
        "duration": 9,
        "start_time": "2022-01-28T20:30:18.778Z"
      },
      {
        "duration": 7,
        "start_time": "2022-01-28T20:30:18.789Z"
      },
      {
        "duration": 18,
        "start_time": "2022-01-28T20:30:18.798Z"
      },
      {
        "duration": 7,
        "start_time": "2022-01-28T20:30:18.817Z"
      },
      {
        "duration": 74,
        "start_time": "2022-01-28T20:30:18.831Z"
      },
      {
        "duration": 185,
        "start_time": "2022-01-28T20:30:18.907Z"
      },
      {
        "duration": 32,
        "start_time": "2022-01-28T20:30:19.094Z"
      },
      {
        "duration": 93,
        "start_time": "2022-01-28T20:30:19.128Z"
      },
      {
        "duration": 39,
        "start_time": "2022-01-28T20:30:19.223Z"
      },
      {
        "duration": 76,
        "start_time": "2022-01-28T20:30:19.271Z"
      },
      {
        "duration": 36,
        "start_time": "2022-01-28T20:30:19.349Z"
      },
      {
        "duration": 16,
        "start_time": "2022-01-28T20:30:19.387Z"
      },
      {
        "duration": 14,
        "start_time": "2022-01-28T20:30:19.404Z"
      },
      {
        "duration": 167,
        "start_time": "2022-01-28T20:30:19.420Z"
      },
      {
        "duration": 336,
        "start_time": "2022-01-28T20:30:19.589Z"
      },
      {
        "duration": 311,
        "start_time": "2022-01-28T20:30:19.928Z"
      },
      {
        "duration": 532,
        "start_time": "2022-01-28T20:30:20.241Z"
      },
      {
        "duration": 340,
        "start_time": "2022-01-28T20:30:20.774Z"
      },
      {
        "duration": 340,
        "start_time": "2022-01-28T20:30:21.115Z"
      },
      {
        "duration": 326,
        "start_time": "2022-01-28T20:30:21.457Z"
      },
      {
        "duration": 20,
        "start_time": "2022-01-28T20:30:21.785Z"
      },
      {
        "duration": 342,
        "start_time": "2022-01-28T20:30:21.807Z"
      },
      {
        "duration": 16,
        "start_time": "2022-01-28T20:32:55.530Z"
      },
      {
        "duration": 244,
        "start_time": "2022-01-28T20:36:02.028Z"
      },
      {
        "duration": 511,
        "start_time": "2022-01-28T20:36:06.927Z"
      },
      {
        "duration": 500,
        "start_time": "2022-01-28T20:36:14.119Z"
      },
      {
        "duration": 19,
        "start_time": "2022-01-28T20:37:24.816Z"
      },
      {
        "duration": 534,
        "start_time": "2022-01-28T20:37:58.494Z"
      },
      {
        "duration": 920,
        "start_time": "2022-01-28T20:38:13.509Z"
      },
      {
        "duration": 389,
        "start_time": "2022-01-28T20:38:14.431Z"
      },
      {
        "duration": 13,
        "start_time": "2022-01-28T20:38:14.821Z"
      },
      {
        "duration": 11,
        "start_time": "2022-01-28T20:38:14.835Z"
      },
      {
        "duration": 24,
        "start_time": "2022-01-28T20:38:14.848Z"
      },
      {
        "duration": 15,
        "start_time": "2022-01-28T20:38:14.873Z"
      },
      {
        "duration": 18,
        "start_time": "2022-01-28T20:38:14.890Z"
      },
      {
        "duration": 9,
        "start_time": "2022-01-28T20:38:14.910Z"
      },
      {
        "duration": 18,
        "start_time": "2022-01-28T20:38:14.921Z"
      },
      {
        "duration": 36,
        "start_time": "2022-01-28T20:38:14.940Z"
      },
      {
        "duration": 6,
        "start_time": "2022-01-28T20:38:14.978Z"
      },
      {
        "duration": 62,
        "start_time": "2022-01-28T20:38:14.985Z"
      },
      {
        "duration": 160,
        "start_time": "2022-01-28T20:38:15.049Z"
      },
      {
        "duration": 33,
        "start_time": "2022-01-28T20:38:15.210Z"
      },
      {
        "duration": 91,
        "start_time": "2022-01-28T20:38:15.244Z"
      },
      {
        "duration": 47,
        "start_time": "2022-01-28T20:38:15.337Z"
      },
      {
        "duration": 73,
        "start_time": "2022-01-28T20:38:15.386Z"
      },
      {
        "duration": 31,
        "start_time": "2022-01-28T20:38:15.460Z"
      },
      {
        "duration": 15,
        "start_time": "2022-01-28T20:38:15.492Z"
      },
      {
        "duration": 27,
        "start_time": "2022-01-28T20:38:15.509Z"
      },
      {
        "duration": 152,
        "start_time": "2022-01-28T20:38:15.537Z"
      },
      {
        "duration": 341,
        "start_time": "2022-01-28T20:38:15.690Z"
      },
      {
        "duration": 327,
        "start_time": "2022-01-28T20:38:16.034Z"
      },
      {
        "duration": 16,
        "start_time": "2022-01-28T20:38:16.372Z"
      },
      {
        "duration": 582,
        "start_time": "2022-01-28T20:38:16.389Z"
      },
      {
        "duration": 326,
        "start_time": "2022-01-28T20:38:16.973Z"
      },
      {
        "duration": 331,
        "start_time": "2022-01-28T20:38:17.301Z"
      },
      {
        "duration": 317,
        "start_time": "2022-01-28T20:38:17.634Z"
      },
      {
        "duration": 23,
        "start_time": "2022-01-28T20:38:17.953Z"
      },
      {
        "duration": 339,
        "start_time": "2022-01-28T20:38:17.977Z"
      },
      {
        "duration": 1009,
        "start_time": "2022-01-28T20:38:45.910Z"
      },
      {
        "duration": 370,
        "start_time": "2022-01-28T20:38:46.921Z"
      },
      {
        "duration": 14,
        "start_time": "2022-01-28T20:38:47.293Z"
      },
      {
        "duration": 12,
        "start_time": "2022-01-28T20:38:47.309Z"
      },
      {
        "duration": 23,
        "start_time": "2022-01-28T20:38:47.322Z"
      },
      {
        "duration": 25,
        "start_time": "2022-01-28T20:38:47.346Z"
      },
      {
        "duration": 32,
        "start_time": "2022-01-28T20:38:47.373Z"
      },
      {
        "duration": 10,
        "start_time": "2022-01-28T20:38:47.407Z"
      },
      {
        "duration": 8,
        "start_time": "2022-01-28T20:38:47.419Z"
      },
      {
        "duration": 43,
        "start_time": "2022-01-28T20:38:47.429Z"
      },
      {
        "duration": 7,
        "start_time": "2022-01-28T20:38:47.474Z"
      },
      {
        "duration": 51,
        "start_time": "2022-01-28T20:38:47.483Z"
      },
      {
        "duration": 183,
        "start_time": "2022-01-28T20:38:47.535Z"
      },
      {
        "duration": 33,
        "start_time": "2022-01-28T20:38:47.719Z"
      },
      {
        "duration": 94,
        "start_time": "2022-01-28T20:38:47.753Z"
      },
      {
        "duration": 46,
        "start_time": "2022-01-28T20:38:47.849Z"
      },
      {
        "duration": 87,
        "start_time": "2022-01-28T20:38:47.897Z"
      },
      {
        "duration": 23,
        "start_time": "2022-01-28T20:38:47.985Z"
      },
      {
        "duration": 15,
        "start_time": "2022-01-28T20:38:48.010Z"
      },
      {
        "duration": 12,
        "start_time": "2022-01-28T20:38:48.026Z"
      },
      {
        "duration": 176,
        "start_time": "2022-01-28T20:38:48.039Z"
      },
      {
        "duration": 321,
        "start_time": "2022-01-28T20:38:48.217Z"
      },
      {
        "duration": 335,
        "start_time": "2022-01-28T20:38:48.540Z"
      },
      {
        "duration": 17,
        "start_time": "2022-01-28T20:38:48.876Z"
      },
      {
        "duration": 548,
        "start_time": "2022-01-28T20:38:48.894Z"
      },
      {
        "duration": 329,
        "start_time": "2022-01-28T20:38:49.443Z"
      },
      {
        "duration": 339,
        "start_time": "2022-01-28T20:38:49.775Z"
      },
      {
        "duration": 440,
        "start_time": "2022-01-28T20:38:50.116Z"
      },
      {
        "duration": 28,
        "start_time": "2022-01-28T20:38:50.558Z"
      },
      {
        "duration": 332,
        "start_time": "2022-01-28T20:38:50.588Z"
      },
      {
        "duration": 1702,
        "start_time": "2022-01-28T20:40:26.538Z"
      },
      {
        "duration": 375,
        "start_time": "2022-01-28T20:40:28.241Z"
      },
      {
        "duration": 12,
        "start_time": "2022-01-28T20:40:28.618Z"
      },
      {
        "duration": 10,
        "start_time": "2022-01-28T20:40:28.632Z"
      },
      {
        "duration": 24,
        "start_time": "2022-01-28T20:40:28.644Z"
      },
      {
        "duration": 15,
        "start_time": "2022-01-28T20:40:28.670Z"
      },
      {
        "duration": 19,
        "start_time": "2022-01-28T20:40:28.687Z"
      },
      {
        "duration": 9,
        "start_time": "2022-01-28T20:40:28.708Z"
      },
      {
        "duration": 8,
        "start_time": "2022-01-28T20:40:28.718Z"
      },
      {
        "duration": 45,
        "start_time": "2022-01-28T20:40:28.727Z"
      },
      {
        "duration": 7,
        "start_time": "2022-01-28T20:40:28.774Z"
      },
      {
        "duration": 59,
        "start_time": "2022-01-28T20:40:28.782Z"
      },
      {
        "duration": 170,
        "start_time": "2022-01-28T20:40:28.843Z"
      },
      {
        "duration": 38,
        "start_time": "2022-01-28T20:40:29.014Z"
      },
      {
        "duration": 90,
        "start_time": "2022-01-28T20:40:29.053Z"
      },
      {
        "duration": 53,
        "start_time": "2022-01-28T20:40:29.145Z"
      },
      {
        "duration": 84,
        "start_time": "2022-01-28T20:40:29.200Z"
      },
      {
        "duration": 23,
        "start_time": "2022-01-28T20:40:29.285Z"
      },
      {
        "duration": 16,
        "start_time": "2022-01-28T20:40:29.310Z"
      },
      {
        "duration": 13,
        "start_time": "2022-01-28T20:40:29.328Z"
      },
      {
        "duration": 178,
        "start_time": "2022-01-28T20:40:29.342Z"
      },
      {
        "duration": 350,
        "start_time": "2022-01-28T20:40:29.522Z"
      },
      {
        "duration": 346,
        "start_time": "2022-01-28T20:40:29.876Z"
      },
      {
        "duration": 580,
        "start_time": "2022-01-28T20:40:30.224Z"
      },
      {
        "duration": 351,
        "start_time": "2022-01-28T20:40:30.806Z"
      },
      {
        "duration": 341,
        "start_time": "2022-01-28T20:40:31.159Z"
      },
      {
        "duration": 326,
        "start_time": "2022-01-28T20:40:31.502Z"
      },
      {
        "duration": 19,
        "start_time": "2022-01-28T20:40:31.830Z"
      },
      {
        "duration": 338,
        "start_time": "2022-01-28T20:40:31.851Z"
      },
      {
        "duration": 334,
        "start_time": "2022-01-28T20:41:26.871Z"
      },
      {
        "duration": 262,
        "start_time": "2022-01-28T20:41:45.322Z"
      },
      {
        "duration": 294,
        "start_time": "2022-01-28T20:41:56.235Z"
      },
      {
        "duration": 256,
        "start_time": "2022-01-28T20:42:10.700Z"
      },
      {
        "duration": 367,
        "start_time": "2022-01-28T20:44:33.946Z"
      },
      {
        "duration": 637,
        "start_time": "2022-01-28T20:45:04.665Z"
      },
      {
        "duration": 482,
        "start_time": "2022-01-28T20:45:13.110Z"
      },
      {
        "duration": 655,
        "start_time": "2022-01-28T20:45:50.406Z"
      },
      {
        "duration": 388,
        "start_time": "2022-01-28T20:46:06.444Z"
      },
      {
        "duration": 395,
        "start_time": "2022-01-28T20:46:44.459Z"
      },
      {
        "duration": 385,
        "start_time": "2022-01-28T20:47:43.287Z"
      },
      {
        "duration": 376,
        "start_time": "2022-01-28T20:49:08.370Z"
      },
      {
        "duration": 549,
        "start_time": "2022-01-28T20:50:27.703Z"
      },
      {
        "duration": 421,
        "start_time": "2022-01-28T20:52:04.910Z"
      },
      {
        "duration": 414,
        "start_time": "2022-01-28T20:52:20.541Z"
      },
      {
        "duration": 455,
        "start_time": "2022-01-28T20:52:53.062Z"
      },
      {
        "duration": 490,
        "start_time": "2022-01-28T20:53:56.791Z"
      },
      {
        "duration": 543,
        "start_time": "2022-01-28T20:55:29.175Z"
      },
      {
        "duration": 464,
        "start_time": "2022-01-28T20:55:55.219Z"
      },
      {
        "duration": 735,
        "start_time": "2022-01-28T20:57:34.104Z"
      },
      {
        "duration": 536,
        "start_time": "2022-01-28T20:59:23.485Z"
      },
      {
        "duration": 455,
        "start_time": "2022-01-28T20:59:36.647Z"
      },
      {
        "duration": 468,
        "start_time": "2022-01-28T20:59:45.603Z"
      },
      {
        "duration": 1085,
        "start_time": "2022-01-29T11:24:15.431Z"
      },
      {
        "duration": 428,
        "start_time": "2022-01-29T11:24:16.518Z"
      },
      {
        "duration": 21,
        "start_time": "2022-01-29T11:24:16.948Z"
      },
      {
        "duration": 19,
        "start_time": "2022-01-29T11:24:16.972Z"
      },
      {
        "duration": 29,
        "start_time": "2022-01-29T11:24:16.993Z"
      },
      {
        "duration": 22,
        "start_time": "2022-01-29T11:24:17.024Z"
      },
      {
        "duration": 35,
        "start_time": "2022-01-29T11:24:17.049Z"
      },
      {
        "duration": 37,
        "start_time": "2022-01-29T11:24:17.088Z"
      },
      {
        "duration": 11,
        "start_time": "2022-01-29T11:24:17.128Z"
      },
      {
        "duration": 28,
        "start_time": "2022-01-29T11:24:17.141Z"
      },
      {
        "duration": 41,
        "start_time": "2022-01-29T11:24:17.171Z"
      },
      {
        "duration": 62,
        "start_time": "2022-01-29T11:24:17.215Z"
      },
      {
        "duration": 212,
        "start_time": "2022-01-29T11:24:17.278Z"
      },
      {
        "duration": 50,
        "start_time": "2022-01-29T11:24:17.492Z"
      },
      {
        "duration": 105,
        "start_time": "2022-01-29T11:24:17.543Z"
      },
      {
        "duration": 88,
        "start_time": "2022-01-29T11:24:17.650Z"
      },
      {
        "duration": 105,
        "start_time": "2022-01-29T11:24:17.740Z"
      },
      {
        "duration": 27,
        "start_time": "2022-01-29T11:24:17.846Z"
      },
      {
        "duration": 44,
        "start_time": "2022-01-29T11:24:17.875Z"
      },
      {
        "duration": 17,
        "start_time": "2022-01-29T11:24:17.920Z"
      },
      {
        "duration": 192,
        "start_time": "2022-01-29T11:24:17.938Z"
      },
      {
        "duration": 388,
        "start_time": "2022-01-29T11:24:18.131Z"
      },
      {
        "duration": 392,
        "start_time": "2022-01-29T11:24:18.522Z"
      },
      {
        "duration": 751,
        "start_time": "2022-01-29T11:24:18.916Z"
      },
      {
        "duration": 543,
        "start_time": "2022-01-29T11:24:19.669Z"
      },
      {
        "duration": 518,
        "start_time": "2022-01-29T11:24:20.214Z"
      },
      {
        "duration": 581,
        "start_time": "2022-01-29T11:24:20.735Z"
      },
      {
        "duration": 23,
        "start_time": "2022-01-29T11:24:21.317Z"
      },
      {
        "duration": 581,
        "start_time": "2022-01-29T11:24:21.342Z"
      },
      {
        "duration": 598,
        "start_time": "2022-01-29T11:27:36.425Z"
      },
      {
        "duration": 544,
        "start_time": "2022-01-29T11:28:14.674Z"
      },
      {
        "duration": 549,
        "start_time": "2022-01-29T11:28:29.842Z"
      },
      {
        "duration": 541,
        "start_time": "2022-01-29T11:28:50.601Z"
      },
      {
        "duration": 602,
        "start_time": "2022-01-29T11:30:50.448Z"
      },
      {
        "duration": 616,
        "start_time": "2022-01-29T11:31:05.716Z"
      },
      {
        "duration": 462,
        "start_time": "2022-01-29T11:34:30.386Z"
      },
      {
        "duration": 538,
        "start_time": "2022-01-29T11:35:09.227Z"
      },
      {
        "duration": 633,
        "start_time": "2022-01-29T11:35:21.246Z"
      },
      {
        "duration": 597,
        "start_time": "2022-01-29T11:35:32.982Z"
      },
      {
        "duration": 661,
        "start_time": "2022-01-29T11:35:41.287Z"
      },
      {
        "duration": 718,
        "start_time": "2022-01-29T11:36:42.207Z"
      },
      {
        "duration": 895,
        "start_time": "2022-01-29T11:36:52.901Z"
      },
      {
        "duration": 1016,
        "start_time": "2022-01-29T11:37:05.302Z"
      },
      {
        "duration": 625,
        "start_time": "2022-01-29T11:37:17.950Z"
      },
      {
        "duration": 640,
        "start_time": "2022-01-29T11:37:25.154Z"
      },
      {
        "duration": 944,
        "start_time": "2022-01-29T11:38:48.396Z"
      },
      {
        "duration": 663,
        "start_time": "2022-01-29T11:39:53.831Z"
      },
      {
        "duration": 492,
        "start_time": "2022-01-29T11:40:08.194Z"
      },
      {
        "duration": 484,
        "start_time": "2022-01-29T11:40:23.800Z"
      },
      {
        "duration": 464,
        "start_time": "2022-01-29T11:40:43.024Z"
      },
      {
        "duration": 4,
        "start_time": "2022-01-29T12:05:01.104Z"
      },
      {
        "duration": 4,
        "start_time": "2022-01-29T12:05:18.188Z"
      },
      {
        "duration": 596,
        "start_time": "2022-01-29T12:40:15.241Z"
      },
      {
        "duration": 534,
        "start_time": "2022-01-29T12:41:19.868Z"
      },
      {
        "duration": 542,
        "start_time": "2022-01-29T12:41:28.145Z"
      },
      {
        "duration": 553,
        "start_time": "2022-01-29T12:41:36.670Z"
      },
      {
        "duration": 655,
        "start_time": "2022-01-29T12:42:33.941Z"
      },
      {
        "duration": 77,
        "start_time": "2022-01-29T12:59:21.436Z"
      },
      {
        "duration": 6,
        "start_time": "2022-01-29T12:59:25.407Z"
      },
      {
        "duration": 6,
        "start_time": "2022-01-29T12:59:42.492Z"
      },
      {
        "duration": 7,
        "start_time": "2022-01-29T13:00:13.077Z"
      },
      {
        "duration": 7,
        "start_time": "2022-01-29T13:00:34.564Z"
      },
      {
        "duration": 10,
        "start_time": "2022-01-29T13:01:14.477Z"
      },
      {
        "duration": 7,
        "start_time": "2022-01-29T13:01:36.537Z"
      },
      {
        "duration": 7,
        "start_time": "2022-01-29T13:01:59.685Z"
      },
      {
        "duration": 23,
        "start_time": "2022-01-29T13:29:30.624Z"
      },
      {
        "duration": 10,
        "start_time": "2022-01-29T13:29:52.780Z"
      },
      {
        "duration": 20,
        "start_time": "2022-01-29T13:30:29.073Z"
      },
      {
        "duration": 11,
        "start_time": "2022-01-29T13:30:45.533Z"
      },
      {
        "duration": 1003,
        "start_time": "2022-01-29T13:31:02.077Z"
      },
      {
        "duration": 379,
        "start_time": "2022-01-29T13:31:03.082Z"
      },
      {
        "duration": 14,
        "start_time": "2022-01-29T13:31:03.463Z"
      },
      {
        "duration": 13,
        "start_time": "2022-01-29T13:31:03.478Z"
      },
      {
        "duration": 29,
        "start_time": "2022-01-29T13:31:03.492Z"
      },
      {
        "duration": 20,
        "start_time": "2022-01-29T13:31:03.523Z"
      },
      {
        "duration": 30,
        "start_time": "2022-01-29T13:31:03.545Z"
      },
      {
        "duration": 10,
        "start_time": "2022-01-29T13:31:03.579Z"
      },
      {
        "duration": 11,
        "start_time": "2022-01-29T13:31:03.613Z"
      },
      {
        "duration": 20,
        "start_time": "2022-01-29T13:31:03.625Z"
      },
      {
        "duration": 8,
        "start_time": "2022-01-29T13:31:03.647Z"
      },
      {
        "duration": 106,
        "start_time": "2022-01-29T13:31:03.657Z"
      },
      {
        "duration": 177,
        "start_time": "2022-01-29T13:31:03.765Z"
      },
      {
        "duration": 36,
        "start_time": "2022-01-29T13:31:03.943Z"
      },
      {
        "duration": 105,
        "start_time": "2022-01-29T13:31:03.980Z"
      },
      {
        "duration": 46,
        "start_time": "2022-01-29T13:31:04.087Z"
      },
      {
        "duration": 94,
        "start_time": "2022-01-29T13:31:04.134Z"
      },
      {
        "duration": 23,
        "start_time": "2022-01-29T13:31:04.229Z"
      },
      {
        "duration": 18,
        "start_time": "2022-01-29T13:31:04.254Z"
      },
      {
        "duration": 14,
        "start_time": "2022-01-29T13:31:04.273Z"
      },
      {
        "duration": 167,
        "start_time": "2022-01-29T13:31:04.313Z"
      },
      {
        "duration": 367,
        "start_time": "2022-01-29T13:31:04.482Z"
      },
      {
        "duration": 338,
        "start_time": "2022-01-29T13:31:04.852Z"
      },
      {
        "duration": 604,
        "start_time": "2022-01-29T13:31:05.192Z"
      },
      {
        "duration": 552,
        "start_time": "2022-01-29T13:31:05.798Z"
      },
      {
        "duration": 486,
        "start_time": "2022-01-29T13:31:06.352Z"
      },
      {
        "duration": 4,
        "start_time": "2022-01-29T13:31:06.840Z"
      },
      {
        "duration": 597,
        "start_time": "2022-01-29T13:31:06.846Z"
      },
      {
        "duration": 467,
        "start_time": "2022-01-29T13:31:07.445Z"
      },
      {
        "duration": 571,
        "start_time": "2022-01-29T13:31:07.913Z"
      },
      {
        "duration": 510,
        "start_time": "2022-01-29T13:31:08.486Z"
      },
      {
        "duration": 9,
        "start_time": "2022-01-29T13:31:08.998Z"
      },
      {
        "duration": 7,
        "start_time": "2022-01-29T13:31:09.012Z"
      },
      {
        "duration": 18,
        "start_time": "2022-01-29T13:31:35.356Z"
      },
      {
        "duration": 4,
        "start_time": "2022-01-29T13:49:49.938Z"
      },
      {
        "duration": 68,
        "start_time": "2022-01-29T13:50:12.823Z"
      },
      {
        "duration": 5,
        "start_time": "2022-01-29T13:51:06.524Z"
      },
      {
        "duration": 3,
        "start_time": "2022-01-29T13:51:29.883Z"
      },
      {
        "duration": 4,
        "start_time": "2022-01-29T13:51:40.758Z"
      },
      {
        "duration": 7,
        "start_time": "2022-01-29T14:07:40.570Z"
      },
      {
        "duration": 8,
        "start_time": "2022-01-29T14:08:21.509Z"
      },
      {
        "duration": 267,
        "start_time": "2022-01-29T14:09:25.193Z"
      },
      {
        "duration": 8,
        "start_time": "2022-01-29T14:09:53.894Z"
      },
      {
        "duration": 7,
        "start_time": "2022-01-29T14:19:16.278Z"
      },
      {
        "duration": 5,
        "start_time": "2022-01-29T14:22:11.259Z"
      },
      {
        "duration": 11,
        "start_time": "2022-01-29T14:22:16.533Z"
      },
      {
        "duration": 24,
        "start_time": "2022-01-29T14:22:41.970Z"
      },
      {
        "duration": 1002,
        "start_time": "2022-01-29T14:22:53.952Z"
      },
      {
        "duration": 382,
        "start_time": "2022-01-29T14:22:54.956Z"
      },
      {
        "duration": 15,
        "start_time": "2022-01-29T14:22:55.340Z"
      },
      {
        "duration": 12,
        "start_time": "2022-01-29T14:22:55.357Z"
      },
      {
        "duration": 26,
        "start_time": "2022-01-29T14:22:55.371Z"
      },
      {
        "duration": 22,
        "start_time": "2022-01-29T14:22:55.399Z"
      },
      {
        "duration": 22,
        "start_time": "2022-01-29T14:22:55.423Z"
      },
      {
        "duration": 10,
        "start_time": "2022-01-29T14:22:55.447Z"
      },
      {
        "duration": 8,
        "start_time": "2022-01-29T14:22:55.459Z"
      },
      {
        "duration": 47,
        "start_time": "2022-01-29T14:22:55.469Z"
      },
      {
        "duration": 8,
        "start_time": "2022-01-29T14:22:55.518Z"
      },
      {
        "duration": 56,
        "start_time": "2022-01-29T14:22:55.528Z"
      },
      {
        "duration": 188,
        "start_time": "2022-01-29T14:22:55.585Z"
      },
      {
        "duration": 48,
        "start_time": "2022-01-29T14:22:55.775Z"
      },
      {
        "duration": 89,
        "start_time": "2022-01-29T14:22:55.825Z"
      },
      {
        "duration": 41,
        "start_time": "2022-01-29T14:22:55.916Z"
      },
      {
        "duration": 99,
        "start_time": "2022-01-29T14:22:55.958Z"
      },
      {
        "duration": 24,
        "start_time": "2022-01-29T14:22:56.059Z"
      },
      {
        "duration": 34,
        "start_time": "2022-01-29T14:22:56.085Z"
      },
      {
        "duration": 15,
        "start_time": "2022-01-29T14:22:56.120Z"
      },
      {
        "duration": 178,
        "start_time": "2022-01-29T14:22:56.136Z"
      },
      {
        "duration": 370,
        "start_time": "2022-01-29T14:22:56.316Z"
      },
      {
        "duration": 348,
        "start_time": "2022-01-29T14:22:56.689Z"
      },
      {
        "duration": 594,
        "start_time": "2022-01-29T14:22:57.039Z"
      },
      {
        "duration": 559,
        "start_time": "2022-01-29T14:22:57.634Z"
      },
      {
        "duration": 462,
        "start_time": "2022-01-29T14:22:58.196Z"
      },
      {
        "duration": 6,
        "start_time": "2022-01-29T14:22:58.660Z"
      },
      {
        "duration": 587,
        "start_time": "2022-01-29T14:22:58.668Z"
      },
      {
        "duration": 525,
        "start_time": "2022-01-29T14:22:59.257Z"
      },
      {
        "duration": 572,
        "start_time": "2022-01-29T14:22:59.784Z"
      },
      {
        "duration": 536,
        "start_time": "2022-01-29T14:23:00.358Z"
      },
      {
        "duration": 22,
        "start_time": "2022-01-29T14:23:00.896Z"
      },
      {
        "duration": 7,
        "start_time": "2022-01-29T14:23:00.919Z"
      },
      {
        "duration": 5,
        "start_time": "2022-01-29T14:23:00.928Z"
      },
      {
        "duration": 7,
        "start_time": "2022-01-29T14:23:00.935Z"
      },
      {
        "duration": 23,
        "start_time": "2022-01-29T14:23:00.943Z"
      },
      {
        "duration": 19,
        "start_time": "2022-01-29T14:23:31.447Z"
      },
      {
        "duration": 23,
        "start_time": "2022-01-29T14:23:55.142Z"
      },
      {
        "duration": 22,
        "start_time": "2022-01-29T14:25:14.703Z"
      },
      {
        "duration": 30,
        "start_time": "2022-01-29T14:26:31.090Z"
      },
      {
        "duration": 439,
        "start_time": "2022-01-29T14:27:14.533Z"
      },
      {
        "duration": 16,
        "start_time": "2022-01-29T14:29:29.179Z"
      },
      {
        "duration": 1103,
        "start_time": "2022-02-07T07:00:06.685Z"
      },
      {
        "duration": 393,
        "start_time": "2022-02-07T07:00:07.790Z"
      },
      {
        "duration": 13,
        "start_time": "2022-02-07T07:00:08.185Z"
      },
      {
        "duration": 18,
        "start_time": "2022-02-07T07:00:08.200Z"
      },
      {
        "duration": 27,
        "start_time": "2022-02-07T07:00:08.220Z"
      },
      {
        "duration": 16,
        "start_time": "2022-02-07T07:00:08.249Z"
      },
      {
        "duration": 19,
        "start_time": "2022-02-07T07:00:08.267Z"
      },
      {
        "duration": 9,
        "start_time": "2022-02-07T07:00:08.289Z"
      },
      {
        "duration": 28,
        "start_time": "2022-02-07T07:00:08.300Z"
      },
      {
        "duration": 21,
        "start_time": "2022-02-07T07:00:08.330Z"
      },
      {
        "duration": 6,
        "start_time": "2022-02-07T07:00:08.353Z"
      },
      {
        "duration": 71,
        "start_time": "2022-02-07T07:00:08.360Z"
      },
      {
        "duration": 159,
        "start_time": "2022-02-07T07:00:08.433Z"
      },
      {
        "duration": 44,
        "start_time": "2022-02-07T07:00:08.594Z"
      },
      {
        "duration": 73,
        "start_time": "2022-02-07T07:00:08.640Z"
      },
      {
        "duration": 47,
        "start_time": "2022-02-07T07:00:08.714Z"
      },
      {
        "duration": 89,
        "start_time": "2022-02-07T07:00:08.763Z"
      },
      {
        "duration": 22,
        "start_time": "2022-02-07T07:00:08.854Z"
      },
      {
        "duration": 15,
        "start_time": "2022-02-07T07:00:08.878Z"
      },
      {
        "duration": 12,
        "start_time": "2022-02-07T07:00:08.894Z"
      },
      {
        "duration": 148,
        "start_time": "2022-02-07T07:00:08.927Z"
      },
      {
        "duration": 354,
        "start_time": "2022-02-07T07:00:09.077Z"
      },
      {
        "duration": 328,
        "start_time": "2022-02-07T07:00:09.434Z"
      },
      {
        "duration": 526,
        "start_time": "2022-02-07T07:00:09.764Z"
      },
      {
        "duration": 504,
        "start_time": "2022-02-07T07:00:10.291Z"
      },
      {
        "duration": 427,
        "start_time": "2022-02-07T07:00:10.796Z"
      },
      {
        "duration": 4,
        "start_time": "2022-02-07T07:00:11.227Z"
      },
      {
        "duration": 559,
        "start_time": "2022-02-07T07:00:11.233Z"
      },
      {
        "duration": 422,
        "start_time": "2022-02-07T07:00:11.793Z"
      },
      {
        "duration": 497,
        "start_time": "2022-02-07T07:00:12.216Z"
      },
      {
        "duration": 443,
        "start_time": "2022-02-07T07:00:12.715Z"
      },
      {
        "duration": 18,
        "start_time": "2022-02-07T07:00:13.160Z"
      },
      {
        "duration": 7,
        "start_time": "2022-02-07T07:00:13.180Z"
      },
      {
        "duration": 8,
        "start_time": "2022-02-07T07:00:13.189Z"
      },
      {
        "duration": 28,
        "start_time": "2022-02-07T07:00:13.199Z"
      },
      {
        "duration": 14,
        "start_time": "2022-02-07T07:00:13.229Z"
      },
      {
        "duration": 4,
        "start_time": "2022-02-07T07:13:56.894Z"
      },
      {
        "duration": 9,
        "start_time": "2022-02-07T10:28:11.140Z"
      },
      {
        "duration": 32,
        "start_time": "2022-02-07T10:29:55.523Z"
      },
      {
        "duration": 33,
        "start_time": "2022-02-07T10:30:08.580Z"
      },
      {
        "duration": 379,
        "start_time": "2022-02-07T10:31:09.980Z"
      },
      {
        "duration": 284,
        "start_time": "2022-02-07T10:31:14.558Z"
      },
      {
        "duration": 13,
        "start_time": "2022-02-07T10:31:31.740Z"
      },
      {
        "duration": 13,
        "start_time": "2022-02-07T10:32:36.346Z"
      },
      {
        "duration": 12,
        "start_time": "2022-02-07T10:32:51.146Z"
      },
      {
        "duration": 433,
        "start_time": "2022-02-07T10:33:23.736Z"
      },
      {
        "duration": 689,
        "start_time": "2022-02-07T10:33:48.924Z"
      },
      {
        "duration": 469,
        "start_time": "2022-02-07T10:33:52.486Z"
      },
      {
        "duration": 386,
        "start_time": "2022-02-07T10:33:58.729Z"
      },
      {
        "duration": 528,
        "start_time": "2022-02-07T10:34:21.030Z"
      },
      {
        "duration": 432,
        "start_time": "2022-02-07T10:34:25.480Z"
      },
      {
        "duration": 402,
        "start_time": "2022-02-07T10:35:17.212Z"
      },
      {
        "duration": 407,
        "start_time": "2022-02-07T10:35:25.196Z"
      },
      {
        "duration": 407,
        "start_time": "2022-02-07T10:35:30.071Z"
      },
      {
        "duration": 612,
        "start_time": "2022-02-07T10:37:13.813Z"
      },
      {
        "duration": 298,
        "start_time": "2022-02-07T10:37:20.960Z"
      },
      {
        "duration": 313,
        "start_time": "2022-02-07T10:37:27.588Z"
      },
      {
        "duration": 427,
        "start_time": "2022-02-07T11:07:01.869Z"
      },
      {
        "duration": 1340,
        "start_time": "2022-02-07T11:07:23.070Z"
      },
      {
        "duration": 491,
        "start_time": "2022-02-07T11:07:24.412Z"
      },
      {
        "duration": 21,
        "start_time": "2022-02-07T11:07:24.906Z"
      },
      {
        "duration": 18,
        "start_time": "2022-02-07T11:07:24.930Z"
      },
      {
        "duration": 38,
        "start_time": "2022-02-07T11:07:24.950Z"
      },
      {
        "duration": 25,
        "start_time": "2022-02-07T11:07:24.990Z"
      },
      {
        "duration": 55,
        "start_time": "2022-02-07T11:07:25.018Z"
      },
      {
        "duration": 13,
        "start_time": "2022-02-07T11:07:25.077Z"
      },
      {
        "duration": 12,
        "start_time": "2022-02-07T11:07:25.093Z"
      },
      {
        "duration": 681,
        "start_time": "2022-02-07T11:07:25.107Z"
      },
      {
        "duration": -118,
        "start_time": "2022-02-07T11:07:25.909Z"
      },
      {
        "duration": -130,
        "start_time": "2022-02-07T11:07:25.923Z"
      },
      {
        "duration": -140,
        "start_time": "2022-02-07T11:07:25.934Z"
      },
      {
        "duration": -142,
        "start_time": "2022-02-07T11:07:25.937Z"
      },
      {
        "duration": -143,
        "start_time": "2022-02-07T11:07:25.940Z"
      },
      {
        "duration": -145,
        "start_time": "2022-02-07T11:07:25.943Z"
      },
      {
        "duration": -146,
        "start_time": "2022-02-07T11:07:25.946Z"
      },
      {
        "duration": -149,
        "start_time": "2022-02-07T11:07:25.950Z"
      },
      {
        "duration": -151,
        "start_time": "2022-02-07T11:07:25.953Z"
      },
      {
        "duration": -152,
        "start_time": "2022-02-07T11:07:25.956Z"
      },
      {
        "duration": -155,
        "start_time": "2022-02-07T11:07:25.960Z"
      },
      {
        "duration": -157,
        "start_time": "2022-02-07T11:07:25.963Z"
      },
      {
        "duration": -158,
        "start_time": "2022-02-07T11:07:25.966Z"
      },
      {
        "duration": -159,
        "start_time": "2022-02-07T11:07:25.969Z"
      },
      {
        "duration": -161,
        "start_time": "2022-02-07T11:07:25.972Z"
      },
      {
        "duration": -162,
        "start_time": "2022-02-07T11:07:25.975Z"
      },
      {
        "duration": -165,
        "start_time": "2022-02-07T11:07:25.979Z"
      },
      {
        "duration": -167,
        "start_time": "2022-02-07T11:07:25.982Z"
      },
      {
        "duration": -168,
        "start_time": "2022-02-07T11:07:25.985Z"
      },
      {
        "duration": -169,
        "start_time": "2022-02-07T11:07:25.988Z"
      },
      {
        "duration": -171,
        "start_time": "2022-02-07T11:07:25.991Z"
      },
      {
        "duration": -173,
        "start_time": "2022-02-07T11:07:25.994Z"
      },
      {
        "duration": -181,
        "start_time": "2022-02-07T11:07:26.004Z"
      },
      {
        "duration": -183,
        "start_time": "2022-02-07T11:07:26.007Z"
      },
      {
        "duration": -185,
        "start_time": "2022-02-07T11:07:26.010Z"
      },
      {
        "duration": -186,
        "start_time": "2022-02-07T11:07:26.013Z"
      },
      {
        "duration": -157,
        "start_time": "2022-02-07T11:07:26.016Z"
      },
      {
        "duration": -159,
        "start_time": "2022-02-07T11:07:26.019Z"
      },
      {
        "duration": -161,
        "start_time": "2022-02-07T11:07:26.023Z"
      },
      {
        "duration": -163,
        "start_time": "2022-02-07T11:07:26.026Z"
      },
      {
        "duration": -165,
        "start_time": "2022-02-07T11:07:26.029Z"
      },
      {
        "duration": 12,
        "start_time": "2022-02-07T11:08:00.094Z"
      },
      {
        "duration": 14,
        "start_time": "2022-02-07T11:08:29.862Z"
      },
      {
        "duration": 6,
        "start_time": "2022-02-07T11:08:35.423Z"
      },
      {
        "duration": 12,
        "start_time": "2022-02-07T11:08:50.182Z"
      },
      {
        "duration": 366,
        "start_time": "2022-02-07T11:09:16.776Z"
      },
      {
        "duration": 1336,
        "start_time": "2022-02-07T11:09:26.471Z"
      },
      {
        "duration": 505,
        "start_time": "2022-02-07T11:09:27.810Z"
      },
      {
        "duration": 22,
        "start_time": "2022-02-07T11:09:28.318Z"
      },
      {
        "duration": 18,
        "start_time": "2022-02-07T11:09:28.343Z"
      },
      {
        "duration": 39,
        "start_time": "2022-02-07T11:09:28.364Z"
      },
      {
        "duration": 56,
        "start_time": "2022-02-07T11:09:28.405Z"
      },
      {
        "duration": 33,
        "start_time": "2022-02-07T11:09:28.464Z"
      },
      {
        "duration": 15,
        "start_time": "2022-02-07T11:09:28.503Z"
      },
      {
        "duration": 15,
        "start_time": "2022-02-07T11:09:28.558Z"
      },
      {
        "duration": 6,
        "start_time": "2022-02-07T11:09:28.575Z"
      },
      {
        "duration": 30,
        "start_time": "2022-02-07T11:09:28.584Z"
      },
      {
        "duration": 42,
        "start_time": "2022-02-07T11:09:28.617Z"
      },
      {
        "duration": 103,
        "start_time": "2022-02-07T11:09:28.661Z"
      },
      {
        "duration": 259,
        "start_time": "2022-02-07T11:09:28.766Z"
      },
      {
        "duration": 64,
        "start_time": "2022-02-07T11:09:29.027Z"
      },
      {
        "duration": 134,
        "start_time": "2022-02-07T11:09:29.093Z"
      },
      {
        "duration": 67,
        "start_time": "2022-02-07T11:09:29.229Z"
      },
      {
        "duration": 140,
        "start_time": "2022-02-07T11:09:29.299Z"
      },
      {
        "duration": 48,
        "start_time": "2022-02-07T11:09:29.441Z"
      },
      {
        "duration": 31,
        "start_time": "2022-02-07T11:09:29.491Z"
      },
      {
        "duration": 50,
        "start_time": "2022-02-07T11:09:29.525Z"
      },
      {
        "duration": 296,
        "start_time": "2022-02-07T11:09:29.578Z"
      },
      {
        "duration": 714,
        "start_time": "2022-02-07T11:09:29.879Z"
      },
      {
        "duration": 639,
        "start_time": "2022-02-07T11:09:30.595Z"
      },
      {
        "duration": 1080,
        "start_time": "2022-02-07T11:09:31.236Z"
      },
      {
        "duration": 58,
        "start_time": "2022-02-07T11:09:32.318Z"
      },
      {
        "duration": 21,
        "start_time": "2022-02-07T11:09:32.378Z"
      },
      {
        "duration": 798,
        "start_time": "2022-02-07T11:09:32.401Z"
      },
      {
        "duration": 607,
        "start_time": "2022-02-07T11:09:33.202Z"
      },
      {
        "duration": 834,
        "start_time": "2022-02-07T11:09:33.811Z"
      },
      {
        "duration": 890,
        "start_time": "2022-02-07T11:09:34.647Z"
      },
      {
        "duration": 5,
        "start_time": "2022-02-07T11:09:35.540Z"
      },
      {
        "duration": 934,
        "start_time": "2022-02-07T11:09:35.548Z"
      },
      {
        "duration": 703,
        "start_time": "2022-02-07T11:09:36.485Z"
      },
      {
        "duration": 802,
        "start_time": "2022-02-07T11:09:37.191Z"
      },
      {
        "duration": 773,
        "start_time": "2022-02-07T11:09:37.996Z"
      },
      {
        "duration": 29,
        "start_time": "2022-02-07T11:09:38.771Z"
      },
      {
        "duration": 10,
        "start_time": "2022-02-07T11:09:38.802Z"
      },
      {
        "duration": 6,
        "start_time": "2022-02-07T11:09:38.814Z"
      },
      {
        "duration": 45,
        "start_time": "2022-02-07T11:09:38.822Z"
      },
      {
        "duration": 23,
        "start_time": "2022-02-07T11:09:38.870Z"
      },
      {
        "duration": 514,
        "start_time": "2022-02-07T11:32:43.593Z"
      },
      {
        "duration": 40,
        "start_time": "2022-02-07T11:33:02.253Z"
      },
      {
        "duration": 35,
        "start_time": "2022-02-07T11:33:31.985Z"
      },
      {
        "duration": 1406,
        "start_time": "2022-02-07T11:33:39.842Z"
      },
      {
        "duration": 561,
        "start_time": "2022-02-07T11:33:41.251Z"
      },
      {
        "duration": 30,
        "start_time": "2022-02-07T11:33:41.816Z"
      },
      {
        "duration": 27,
        "start_time": "2022-02-07T11:33:41.850Z"
      },
      {
        "duration": 40,
        "start_time": "2022-02-07T11:33:41.880Z"
      },
      {
        "duration": 52,
        "start_time": "2022-02-07T11:33:41.923Z"
      },
      {
        "duration": 33,
        "start_time": "2022-02-07T11:33:41.978Z"
      },
      {
        "duration": 46,
        "start_time": "2022-02-07T11:33:42.014Z"
      },
      {
        "duration": 11,
        "start_time": "2022-02-07T11:33:42.063Z"
      },
      {
        "duration": 31,
        "start_time": "2022-02-07T11:33:42.077Z"
      },
      {
        "duration": 63,
        "start_time": "2022-02-07T11:33:42.110Z"
      },
      {
        "duration": 210,
        "start_time": "2022-02-07T11:33:42.192Z"
      },
      {
        "duration": 473,
        "start_time": "2022-02-07T11:33:42.405Z"
      },
      {
        "duration": 93,
        "start_time": "2022-02-07T11:33:42.888Z"
      },
      {
        "duration": 171,
        "start_time": "2022-02-07T11:33:42.984Z"
      },
      {
        "duration": 114,
        "start_time": "2022-02-07T11:33:43.160Z"
      },
      {
        "duration": 142,
        "start_time": "2022-02-07T11:33:43.277Z"
      },
      {
        "duration": 53,
        "start_time": "2022-02-07T11:33:43.422Z"
      },
      {
        "duration": 29,
        "start_time": "2022-02-07T11:33:43.478Z"
      },
      {
        "duration": 51,
        "start_time": "2022-02-07T11:33:43.510Z"
      },
      {
        "duration": 311,
        "start_time": "2022-02-07T11:33:43.565Z"
      },
      {
        "duration": 718,
        "start_time": "2022-02-07T11:33:43.878Z"
      },
      {
        "duration": 627,
        "start_time": "2022-02-07T11:33:44.603Z"
      },
      {
        "duration": 1134,
        "start_time": "2022-02-07T11:33:45.233Z"
      },
      {
        "duration": 49,
        "start_time": "2022-02-07T11:33:46.370Z"
      },
      {
        "duration": 46,
        "start_time": "2022-02-07T11:33:46.421Z"
      },
      {
        "duration": 830,
        "start_time": "2022-02-07T11:33:46.470Z"
      },
      {
        "duration": 594,
        "start_time": "2022-02-07T11:33:47.303Z"
      },
      {
        "duration": 807,
        "start_time": "2022-02-07T11:33:47.900Z"
      },
      {
        "duration": 635,
        "start_time": "2022-02-07T11:33:48.710Z"
      },
      {
        "duration": 14,
        "start_time": "2022-02-07T11:33:49.347Z"
      },
      {
        "duration": 1005,
        "start_time": "2022-02-07T11:33:49.363Z"
      },
      {
        "duration": 691,
        "start_time": "2022-02-07T11:33:50.371Z"
      },
      {
        "duration": 768,
        "start_time": "2022-02-07T11:33:51.065Z"
      },
      {
        "duration": 819,
        "start_time": "2022-02-07T11:33:51.835Z"
      },
      {
        "duration": 29,
        "start_time": "2022-02-07T11:33:52.659Z"
      },
      {
        "duration": 10,
        "start_time": "2022-02-07T11:33:52.691Z"
      },
      {
        "duration": 6,
        "start_time": "2022-02-07T11:33:52.704Z"
      },
      {
        "duration": 55,
        "start_time": "2022-02-07T11:33:52.713Z"
      },
      {
        "duration": 25,
        "start_time": "2022-02-07T11:33:52.771Z"
      },
      {
        "duration": 118,
        "start_time": "2022-02-07T11:34:16.056Z"
      },
      {
        "duration": 37,
        "start_time": "2022-02-07T11:34:20.676Z"
      },
      {
        "duration": 1392,
        "start_time": "2022-02-07T11:34:26.135Z"
      },
      {
        "duration": 575,
        "start_time": "2022-02-07T11:34:27.530Z"
      },
      {
        "duration": 24,
        "start_time": "2022-02-07T11:34:28.108Z"
      },
      {
        "duration": 22,
        "start_time": "2022-02-07T11:34:28.136Z"
      },
      {
        "duration": 42,
        "start_time": "2022-02-07T11:34:28.161Z"
      },
      {
        "duration": 54,
        "start_time": "2022-02-07T11:34:28.206Z"
      },
      {
        "duration": 31,
        "start_time": "2022-02-07T11:34:28.262Z"
      },
      {
        "duration": 13,
        "start_time": "2022-02-07T11:34:28.297Z"
      },
      {
        "duration": 5,
        "start_time": "2022-02-07T11:34:28.313Z"
      },
      {
        "duration": 70,
        "start_time": "2022-02-07T11:34:28.320Z"
      },
      {
        "duration": 23,
        "start_time": "2022-02-07T11:34:28.392Z"
      },
      {
        "duration": 88,
        "start_time": "2022-02-07T11:34:28.418Z"
      },
      {
        "duration": 264,
        "start_time": "2022-02-07T11:34:28.508Z"
      },
      {
        "duration": 56,
        "start_time": "2022-02-07T11:34:28.774Z"
      },
      {
        "duration": 160,
        "start_time": "2022-02-07T11:34:28.832Z"
      },
      {
        "duration": 75,
        "start_time": "2022-02-07T11:34:28.995Z"
      },
      {
        "duration": 146,
        "start_time": "2022-02-07T11:34:29.073Z"
      },
      {
        "duration": 49,
        "start_time": "2022-02-07T11:34:29.222Z"
      },
      {
        "duration": 28,
        "start_time": "2022-02-07T11:34:29.273Z"
      },
      {
        "duration": 22,
        "start_time": "2022-02-07T11:34:29.303Z"
      },
      {
        "duration": 324,
        "start_time": "2022-02-07T11:34:29.327Z"
      },
      {
        "duration": 723,
        "start_time": "2022-02-07T11:34:29.653Z"
      },
      {
        "duration": 587,
        "start_time": "2022-02-07T11:34:30.381Z"
      },
      {
        "duration": 1117,
        "start_time": "2022-02-07T11:34:30.971Z"
      },
      {
        "duration": 47,
        "start_time": "2022-02-07T11:34:32.091Z"
      },
      {
        "duration": 23,
        "start_time": "2022-02-07T11:34:32.160Z"
      },
      {
        "duration": 846,
        "start_time": "2022-02-07T11:34:32.185Z"
      },
      {
        "duration": 593,
        "start_time": "2022-02-07T11:34:33.033Z"
      },
      {
        "duration": 946,
        "start_time": "2022-02-07T11:34:33.628Z"
      },
      {
        "duration": 819,
        "start_time": "2022-02-07T11:34:34.576Z"
      },
      {
        "duration": 6,
        "start_time": "2022-02-07T11:34:35.397Z"
      },
      {
        "duration": 999,
        "start_time": "2022-02-07T11:34:35.405Z"
      },
      {
        "duration": 656,
        "start_time": "2022-02-07T11:34:36.406Z"
      },
      {
        "duration": 768,
        "start_time": "2022-02-07T11:34:37.065Z"
      },
      {
        "duration": 789,
        "start_time": "2022-02-07T11:34:37.835Z"
      },
      {
        "duration": 40,
        "start_time": "2022-02-07T11:34:38.626Z"
      },
      {
        "duration": 9,
        "start_time": "2022-02-07T11:34:38.669Z"
      },
      {
        "duration": 5,
        "start_time": "2022-02-07T11:34:38.681Z"
      },
      {
        "duration": 11,
        "start_time": "2022-02-07T11:34:38.689Z"
      },
      {
        "duration": 70,
        "start_time": "2022-02-07T11:34:38.703Z"
      },
      {
        "duration": 1413,
        "start_time": "2022-02-07T11:35:24.486Z"
      },
      {
        "duration": 544,
        "start_time": "2022-02-07T11:35:25.902Z"
      },
      {
        "duration": 20,
        "start_time": "2022-02-07T11:35:26.452Z"
      },
      {
        "duration": 19,
        "start_time": "2022-02-07T11:35:26.475Z"
      },
      {
        "duration": 65,
        "start_time": "2022-02-07T11:35:26.496Z"
      },
      {
        "duration": 27,
        "start_time": "2022-02-07T11:35:26.564Z"
      },
      {
        "duration": 31,
        "start_time": "2022-02-07T11:35:26.594Z"
      },
      {
        "duration": 41,
        "start_time": "2022-02-07T11:35:26.628Z"
      },
      {
        "duration": 6,
        "start_time": "2022-02-07T11:35:26.671Z"
      },
      {
        "duration": 28,
        "start_time": "2022-02-07T11:35:26.679Z"
      },
      {
        "duration": 10,
        "start_time": "2022-02-07T11:35:26.709Z"
      },
      {
        "duration": 115,
        "start_time": "2022-02-07T11:35:26.722Z"
      },
      {
        "duration": 293,
        "start_time": "2022-02-07T11:35:26.841Z"
      },
      {
        "duration": 71,
        "start_time": "2022-02-07T11:35:27.138Z"
      },
      {
        "duration": 139,
        "start_time": "2022-02-07T11:35:27.212Z"
      },
      {
        "duration": 70,
        "start_time": "2022-02-07T11:35:27.354Z"
      },
      {
        "duration": 155,
        "start_time": "2022-02-07T11:35:27.427Z"
      },
      {
        "duration": 42,
        "start_time": "2022-02-07T11:35:27.584Z"
      },
      {
        "duration": 51,
        "start_time": "2022-02-07T11:35:27.629Z"
      },
      {
        "duration": 23,
        "start_time": "2022-02-07T11:35:27.683Z"
      },
      {
        "duration": 344,
        "start_time": "2022-02-07T11:35:27.708Z"
      },
      {
        "duration": 712,
        "start_time": "2022-02-07T11:35:28.059Z"
      },
      {
        "duration": 592,
        "start_time": "2022-02-07T11:35:28.774Z"
      },
      {
        "duration": 1200,
        "start_time": "2022-02-07T11:35:29.369Z"
      },
      {
        "duration": 1610,
        "start_time": "2022-02-07T11:35:30.572Z"
      },
      {
        "duration": -104,
        "start_time": "2022-02-07T11:35:32.289Z"
      },
      {
        "duration": -106,
        "start_time": "2022-02-07T11:35:32.292Z"
      },
      {
        "duration": -118,
        "start_time": "2022-02-07T11:35:32.305Z"
      },
      {
        "duration": -121,
        "start_time": "2022-02-07T11:35:32.309Z"
      },
      {
        "duration": -126,
        "start_time": "2022-02-07T11:35:32.316Z"
      },
      {
        "duration": -128,
        "start_time": "2022-02-07T11:35:32.319Z"
      },
      {
        "duration": -131,
        "start_time": "2022-02-07T11:35:32.323Z"
      },
      {
        "duration": -133,
        "start_time": "2022-02-07T11:35:32.327Z"
      },
      {
        "duration": -135,
        "start_time": "2022-02-07T11:35:32.330Z"
      },
      {
        "duration": -139,
        "start_time": "2022-02-07T11:35:32.335Z"
      },
      {
        "duration": -141,
        "start_time": "2022-02-07T11:35:32.339Z"
      },
      {
        "duration": -144,
        "start_time": "2022-02-07T11:35:32.343Z"
      },
      {
        "duration": -146,
        "start_time": "2022-02-07T11:35:32.347Z"
      },
      {
        "duration": -148,
        "start_time": "2022-02-07T11:35:32.350Z"
      },
      {
        "duration": -151,
        "start_time": "2022-02-07T11:35:32.354Z"
      },
      {
        "duration": -154,
        "start_time": "2022-02-07T11:35:32.358Z"
      },
      {
        "duration": 1167,
        "start_time": "2022-02-07T11:35:37.821Z"
      },
      {
        "duration": 38,
        "start_time": "2022-02-07T11:36:02.328Z"
      },
      {
        "duration": 1498,
        "start_time": "2022-02-07T11:36:14.563Z"
      },
      {
        "duration": 530,
        "start_time": "2022-02-07T11:36:16.064Z"
      },
      {
        "duration": 23,
        "start_time": "2022-02-07T11:36:16.598Z"
      },
      {
        "duration": 20,
        "start_time": "2022-02-07T11:36:16.625Z"
      },
      {
        "duration": 46,
        "start_time": "2022-02-07T11:36:16.648Z"
      },
      {
        "duration": 28,
        "start_time": "2022-02-07T11:36:16.697Z"
      },
      {
        "duration": 63,
        "start_time": "2022-02-07T11:36:16.728Z"
      },
      {
        "duration": 14,
        "start_time": "2022-02-07T11:36:16.797Z"
      },
      {
        "duration": 6,
        "start_time": "2022-02-07T11:36:16.814Z"
      },
      {
        "duration": 64,
        "start_time": "2022-02-07T11:36:16.823Z"
      },
      {
        "duration": 13,
        "start_time": "2022-02-07T11:36:16.890Z"
      },
      {
        "duration": 170,
        "start_time": "2022-02-07T11:36:16.906Z"
      },
      {
        "duration": 357,
        "start_time": "2022-02-07T11:36:17.079Z"
      },
      {
        "duration": 97,
        "start_time": "2022-02-07T11:36:17.439Z"
      },
      {
        "duration": 179,
        "start_time": "2022-02-07T11:36:17.539Z"
      },
      {
        "duration": 109,
        "start_time": "2022-02-07T11:36:17.722Z"
      },
      {
        "duration": 139,
        "start_time": "2022-02-07T11:36:17.834Z"
      },
      {
        "duration": 42,
        "start_time": "2022-02-07T11:36:17.975Z"
      },
      {
        "duration": 53,
        "start_time": "2022-02-07T11:36:18.019Z"
      },
      {
        "duration": 21,
        "start_time": "2022-02-07T11:36:18.075Z"
      },
      {
        "duration": 301,
        "start_time": "2022-02-07T11:36:18.099Z"
      },
      {
        "duration": 813,
        "start_time": "2022-02-07T11:36:18.402Z"
      },
      {
        "duration": 630,
        "start_time": "2022-02-07T11:36:19.219Z"
      },
      {
        "duration": 1134,
        "start_time": "2022-02-07T11:36:19.861Z"
      },
      {
        "duration": 810,
        "start_time": "2022-02-07T11:36:20.997Z"
      },
      {
        "duration": -205,
        "start_time": "2022-02-07T11:36:22.014Z"
      },
      {
        "duration": -242,
        "start_time": "2022-02-07T11:36:22.053Z"
      },
      {
        "duration": -246,
        "start_time": "2022-02-07T11:36:22.058Z"
      },
      {
        "duration": -246,
        "start_time": "2022-02-07T11:36:22.061Z"
      },
      {
        "duration": -260,
        "start_time": "2022-02-07T11:36:22.076Z"
      },
      {
        "duration": -262,
        "start_time": "2022-02-07T11:36:22.080Z"
      },
      {
        "duration": -272,
        "start_time": "2022-02-07T11:36:22.092Z"
      },
      {
        "duration": -276,
        "start_time": "2022-02-07T11:36:22.097Z"
      },
      {
        "duration": -286,
        "start_time": "2022-02-07T11:36:22.109Z"
      },
      {
        "duration": -289,
        "start_time": "2022-02-07T11:36:22.113Z"
      },
      {
        "duration": -300,
        "start_time": "2022-02-07T11:36:22.126Z"
      },
      {
        "duration": -302,
        "start_time": "2022-02-07T11:36:22.130Z"
      },
      {
        "duration": -316,
        "start_time": "2022-02-07T11:36:22.145Z"
      },
      {
        "duration": -327,
        "start_time": "2022-02-07T11:36:22.158Z"
      },
      {
        "duration": -330,
        "start_time": "2022-02-07T11:36:22.162Z"
      },
      {
        "duration": -342,
        "start_time": "2022-02-07T11:36:22.175Z"
      },
      {
        "duration": 41,
        "start_time": "2022-02-07T11:40:12.836Z"
      },
      {
        "duration": 1440,
        "start_time": "2022-02-07T11:40:39.879Z"
      },
      {
        "duration": 510,
        "start_time": "2022-02-07T11:40:41.321Z"
      },
      {
        "duration": 20,
        "start_time": "2022-02-07T11:40:41.834Z"
      },
      {
        "duration": 19,
        "start_time": "2022-02-07T11:40:41.857Z"
      },
      {
        "duration": 37,
        "start_time": "2022-02-07T11:40:41.879Z"
      },
      {
        "duration": 55,
        "start_time": "2022-02-07T11:40:41.922Z"
      },
      {
        "duration": 34,
        "start_time": "2022-02-07T11:40:41.979Z"
      },
      {
        "duration": 43,
        "start_time": "2022-02-07T11:40:42.017Z"
      },
      {
        "duration": 6,
        "start_time": "2022-02-07T11:40:42.063Z"
      },
      {
        "duration": 26,
        "start_time": "2022-02-07T11:40:42.071Z"
      },
      {
        "duration": 10,
        "start_time": "2022-02-07T11:40:42.100Z"
      },
      {
        "duration": 122,
        "start_time": "2022-02-07T11:40:42.112Z"
      },
      {
        "duration": 252,
        "start_time": "2022-02-07T11:40:42.237Z"
      },
      {
        "duration": 36,
        "start_time": "2022-02-07T11:40:42.492Z"
      },
      {
        "duration": 701,
        "start_time": "2022-02-07T11:40:42.531Z"
      },
      {
        "duration": -118,
        "start_time": "2022-02-07T11:40:43.354Z"
      },
      {
        "duration": -121,
        "start_time": "2022-02-07T11:40:43.359Z"
      },
      {
        "duration": -123,
        "start_time": "2022-02-07T11:40:43.363Z"
      },
      {
        "duration": -167,
        "start_time": "2022-02-07T11:40:43.408Z"
      },
      {
        "duration": -170,
        "start_time": "2022-02-07T11:40:43.413Z"
      },
      {
        "duration": -171,
        "start_time": "2022-02-07T11:40:43.417Z"
      },
      {
        "duration": -172,
        "start_time": "2022-02-07T11:40:43.420Z"
      },
      {
        "duration": -177,
        "start_time": "2022-02-07T11:40:43.426Z"
      },
      {
        "duration": -180,
        "start_time": "2022-02-07T11:40:43.431Z"
      },
      {
        "duration": -198,
        "start_time": "2022-02-07T11:40:43.450Z"
      },
      {
        "duration": -200,
        "start_time": "2022-02-07T11:40:43.453Z"
      },
      {
        "duration": -204,
        "start_time": "2022-02-07T11:40:43.458Z"
      },
      {
        "duration": -205,
        "start_time": "2022-02-07T11:40:43.461Z"
      },
      {
        "duration": -218,
        "start_time": "2022-02-07T11:40:43.475Z"
      },
      {
        "duration": -221,
        "start_time": "2022-02-07T11:40:43.479Z"
      },
      {
        "duration": -223,
        "start_time": "2022-02-07T11:40:43.483Z"
      },
      {
        "duration": -224,
        "start_time": "2022-02-07T11:40:43.485Z"
      },
      {
        "duration": -227,
        "start_time": "2022-02-07T11:40:43.489Z"
      },
      {
        "duration": -230,
        "start_time": "2022-02-07T11:40:43.493Z"
      },
      {
        "duration": -232,
        "start_time": "2022-02-07T11:40:43.497Z"
      },
      {
        "duration": -245,
        "start_time": "2022-02-07T11:40:43.511Z"
      },
      {
        "duration": -249,
        "start_time": "2022-02-07T11:40:43.516Z"
      },
      {
        "duration": -250,
        "start_time": "2022-02-07T11:40:43.519Z"
      },
      {
        "duration": -254,
        "start_time": "2022-02-07T11:40:43.524Z"
      },
      {
        "duration": -256,
        "start_time": "2022-02-07T11:40:43.527Z"
      },
      {
        "duration": -269,
        "start_time": "2022-02-07T11:40:43.541Z"
      },
      {
        "duration": -271,
        "start_time": "2022-02-07T11:40:43.545Z"
      },
      {
        "duration": -273,
        "start_time": "2022-02-07T11:40:43.548Z"
      },
      {
        "duration": 43,
        "start_time": "2022-02-07T11:41:08.830Z"
      },
      {
        "duration": 66,
        "start_time": "2022-02-07T11:54:00.949Z"
      },
      {
        "duration": 52,
        "start_time": "2022-02-07T11:54:45.260Z"
      },
      {
        "duration": 124,
        "start_time": "2022-02-07T11:55:01.865Z"
      },
      {
        "duration": 401,
        "start_time": "2022-02-07T11:57:57.576Z"
      },
      {
        "duration": 419,
        "start_time": "2022-02-07T11:58:08.835Z"
      },
      {
        "duration": 1871,
        "start_time": "2022-02-07T11:58:29.564Z"
      },
      {
        "duration": 764,
        "start_time": "2022-02-07T11:58:31.438Z"
      },
      {
        "duration": 31,
        "start_time": "2022-02-07T11:58:32.206Z"
      },
      {
        "duration": 25,
        "start_time": "2022-02-07T11:58:32.240Z"
      },
      {
        "duration": 52,
        "start_time": "2022-02-07T11:58:32.267Z"
      },
      {
        "duration": 59,
        "start_time": "2022-02-07T11:58:32.322Z"
      },
      {
        "duration": 47,
        "start_time": "2022-02-07T11:58:32.384Z"
      },
      {
        "duration": 20,
        "start_time": "2022-02-07T11:58:32.461Z"
      },
      {
        "duration": 8,
        "start_time": "2022-02-07T11:58:32.485Z"
      },
      {
        "duration": 65,
        "start_time": "2022-02-07T11:58:32.496Z"
      },
      {
        "duration": 15,
        "start_time": "2022-02-07T11:58:32.564Z"
      },
      {
        "duration": 105,
        "start_time": "2022-02-07T11:58:32.582Z"
      },
      {
        "duration": 51,
        "start_time": "2022-02-07T11:58:32.689Z"
      },
      {
        "duration": 63,
        "start_time": "2022-02-07T11:58:32.743Z"
      },
      {
        "duration": 152,
        "start_time": "2022-02-07T11:58:32.809Z"
      },
      {
        "duration": 651,
        "start_time": "2022-02-07T11:58:32.963Z"
      },
      {
        "duration": -1423,
        "start_time": "2022-02-07T11:58:35.040Z"
      },
      {
        "duration": -1434,
        "start_time": "2022-02-07T11:58:35.053Z"
      },
      {
        "duration": -1437,
        "start_time": "2022-02-07T11:58:35.057Z"
      },
      {
        "duration": -1447,
        "start_time": "2022-02-07T11:58:35.069Z"
      },
      {
        "duration": -1450,
        "start_time": "2022-02-07T11:58:35.073Z"
      },
      {
        "duration": -1460,
        "start_time": "2022-02-07T11:58:35.085Z"
      },
      {
        "duration": -1463,
        "start_time": "2022-02-07T11:58:35.089Z"
      },
      {
        "duration": -1473,
        "start_time": "2022-02-07T11:58:35.100Z"
      },
      {
        "duration": -1475,
        "start_time": "2022-02-07T11:58:35.104Z"
      },
      {
        "duration": -1477,
        "start_time": "2022-02-07T11:58:35.107Z"
      },
      {
        "duration": -1489,
        "start_time": "2022-02-07T11:58:35.121Z"
      },
      {
        "duration": -1492,
        "start_time": "2022-02-07T11:58:35.126Z"
      },
      {
        "duration": -1495,
        "start_time": "2022-02-07T11:58:35.131Z"
      },
      {
        "duration": -1496,
        "start_time": "2022-02-07T11:58:35.134Z"
      },
      {
        "duration": -1497,
        "start_time": "2022-02-07T11:58:35.137Z"
      },
      {
        "duration": -1498,
        "start_time": "2022-02-07T11:58:35.140Z"
      },
      {
        "duration": -1499,
        "start_time": "2022-02-07T11:58:35.143Z"
      },
      {
        "duration": -1500,
        "start_time": "2022-02-07T11:58:35.146Z"
      },
      {
        "duration": -1501,
        "start_time": "2022-02-07T11:58:35.149Z"
      },
      {
        "duration": -1502,
        "start_time": "2022-02-07T11:58:35.152Z"
      },
      {
        "duration": -1504,
        "start_time": "2022-02-07T11:58:35.155Z"
      },
      {
        "duration": -1505,
        "start_time": "2022-02-07T11:58:35.158Z"
      },
      {
        "duration": -1506,
        "start_time": "2022-02-07T11:58:35.161Z"
      },
      {
        "duration": -1507,
        "start_time": "2022-02-07T11:58:35.164Z"
      },
      {
        "duration": -1508,
        "start_time": "2022-02-07T11:58:35.167Z"
      },
      {
        "duration": -1510,
        "start_time": "2022-02-07T11:58:35.170Z"
      },
      {
        "duration": -1511,
        "start_time": "2022-02-07T11:58:35.173Z"
      },
      {
        "duration": 18,
        "start_time": "2022-02-07T11:59:16.216Z"
      },
      {
        "duration": 385,
        "start_time": "2022-02-07T11:59:47.612Z"
      },
      {
        "duration": 30,
        "start_time": "2022-02-07T12:00:25.891Z"
      },
      {
        "duration": 29,
        "start_time": "2022-02-07T12:02:17.018Z"
      },
      {
        "duration": 399,
        "start_time": "2022-02-07T12:03:19.473Z"
      },
      {
        "duration": 100,
        "start_time": "2022-02-07T12:03:23.029Z"
      },
      {
        "duration": 134,
        "start_time": "2022-02-07T12:03:32.906Z"
      },
      {
        "duration": 42,
        "start_time": "2022-02-07T12:05:34.581Z"
      },
      {
        "duration": 45,
        "start_time": "2022-02-07T12:05:51.723Z"
      },
      {
        "duration": 435,
        "start_time": "2022-02-07T12:06:19.606Z"
      },
      {
        "duration": 30,
        "start_time": "2022-02-07T12:06:56.934Z"
      },
      {
        "duration": 375,
        "start_time": "2022-02-07T12:07:22.863Z"
      },
      {
        "duration": 22,
        "start_time": "2022-02-07T12:07:34.992Z"
      },
      {
        "duration": 18,
        "start_time": "2022-02-07T12:08:14.404Z"
      },
      {
        "duration": 1469,
        "start_time": "2022-02-07T12:08:30.548Z"
      },
      {
        "duration": 564,
        "start_time": "2022-02-07T12:08:32.020Z"
      },
      {
        "duration": 23,
        "start_time": "2022-02-07T12:08:32.587Z"
      },
      {
        "duration": 20,
        "start_time": "2022-02-07T12:08:32.612Z"
      },
      {
        "duration": 47,
        "start_time": "2022-02-07T12:08:32.635Z"
      },
      {
        "duration": 26,
        "start_time": "2022-02-07T12:08:32.685Z"
      },
      {
        "duration": 61,
        "start_time": "2022-02-07T12:08:32.714Z"
      },
      {
        "duration": 16,
        "start_time": "2022-02-07T12:08:32.779Z"
      },
      {
        "duration": 6,
        "start_time": "2022-02-07T12:08:32.798Z"
      },
      {
        "duration": 72,
        "start_time": "2022-02-07T12:08:32.807Z"
      },
      {
        "duration": 14,
        "start_time": "2022-02-07T12:08:32.881Z"
      },
      {
        "duration": 165,
        "start_time": "2022-02-07T12:08:32.898Z"
      },
      {
        "duration": 52,
        "start_time": "2022-02-07T12:08:33.066Z"
      },
      {
        "duration": 89,
        "start_time": "2022-02-07T12:08:33.120Z"
      },
      {
        "duration": 34,
        "start_time": "2022-02-07T12:08:33.211Z"
      },
      {
        "duration": 76,
        "start_time": "2022-02-07T12:08:33.247Z"
      },
      {
        "duration": 46,
        "start_time": "2022-02-07T12:08:33.325Z"
      },
      {
        "duration": 31,
        "start_time": "2022-02-07T12:08:33.374Z"
      },
      {
        "duration": 794,
        "start_time": "2022-02-07T12:08:33.407Z"
      },
      {
        "duration": -1021,
        "start_time": "2022-02-07T12:08:35.226Z"
      },
      {
        "duration": -1023,
        "start_time": "2022-02-07T12:08:35.229Z"
      },
      {
        "duration": -1055,
        "start_time": "2022-02-07T12:08:35.263Z"
      },
      {
        "duration": -1059,
        "start_time": "2022-02-07T12:08:35.268Z"
      },
      {
        "duration": -1061,
        "start_time": "2022-02-07T12:08:35.272Z"
      },
      {
        "duration": -1063,
        "start_time": "2022-02-07T12:08:35.276Z"
      },
      {
        "duration": -1065,
        "start_time": "2022-02-07T12:08:35.279Z"
      },
      {
        "duration": -1066,
        "start_time": "2022-02-07T12:08:35.282Z"
      },
      {
        "duration": -1069,
        "start_time": "2022-02-07T12:08:35.286Z"
      },
      {
        "duration": -1070,
        "start_time": "2022-02-07T12:08:35.289Z"
      },
      {
        "duration": -1072,
        "start_time": "2022-02-07T12:08:35.292Z"
      },
      {
        "duration": -1072,
        "start_time": "2022-02-07T12:08:35.294Z"
      },
      {
        "duration": -1075,
        "start_time": "2022-02-07T12:08:35.298Z"
      },
      {
        "duration": -1079,
        "start_time": "2022-02-07T12:08:35.303Z"
      },
      {
        "duration": -1080,
        "start_time": "2022-02-07T12:08:35.306Z"
      },
      {
        "duration": -1082,
        "start_time": "2022-02-07T12:08:35.309Z"
      },
      {
        "duration": -1084,
        "start_time": "2022-02-07T12:08:35.312Z"
      },
      {
        "duration": -1086,
        "start_time": "2022-02-07T12:08:35.315Z"
      },
      {
        "duration": -1090,
        "start_time": "2022-02-07T12:08:35.320Z"
      },
      {
        "duration": -1092,
        "start_time": "2022-02-07T12:08:35.323Z"
      },
      {
        "duration": -1094,
        "start_time": "2022-02-07T12:08:35.326Z"
      },
      {
        "duration": -1096,
        "start_time": "2022-02-07T12:08:35.329Z"
      },
      {
        "duration": -1099,
        "start_time": "2022-02-07T12:08:35.333Z"
      },
      {
        "duration": 18,
        "start_time": "2022-02-07T12:09:08.756Z"
      },
      {
        "duration": 17,
        "start_time": "2022-02-07T12:09:20.299Z"
      },
      {
        "duration": 2141,
        "start_time": "2022-02-07T12:09:29.226Z"
      },
      {
        "duration": 577,
        "start_time": "2022-02-07T12:09:31.371Z"
      },
      {
        "duration": 21,
        "start_time": "2022-02-07T12:09:31.952Z"
      },
      {
        "duration": 21,
        "start_time": "2022-02-07T12:09:31.976Z"
      },
      {
        "duration": 74,
        "start_time": "2022-02-07T12:09:32.000Z"
      },
      {
        "duration": 27,
        "start_time": "2022-02-07T12:09:32.077Z"
      },
      {
        "duration": 78,
        "start_time": "2022-02-07T12:09:32.107Z"
      },
      {
        "duration": 20,
        "start_time": "2022-02-07T12:09:32.191Z"
      },
      {
        "duration": 8,
        "start_time": "2022-02-07T12:09:32.216Z"
      },
      {
        "duration": 63,
        "start_time": "2022-02-07T12:09:32.227Z"
      },
      {
        "duration": 15,
        "start_time": "2022-02-07T12:09:32.293Z"
      },
      {
        "duration": 114,
        "start_time": "2022-02-07T12:09:32.310Z"
      },
      {
        "duration": 64,
        "start_time": "2022-02-07T12:09:32.427Z"
      },
      {
        "duration": 52,
        "start_time": "2022-02-07T12:09:32.493Z"
      },
      {
        "duration": 33,
        "start_time": "2022-02-07T12:09:32.560Z"
      },
      {
        "duration": 83,
        "start_time": "2022-02-07T12:09:32.595Z"
      },
      {
        "duration": 33,
        "start_time": "2022-02-07T12:09:32.681Z"
      },
      {
        "duration": 45,
        "start_time": "2022-02-07T12:09:32.716Z"
      },
      {
        "duration": 506,
        "start_time": "2022-02-07T12:09:32.764Z"
      },
      {
        "duration": -140,
        "start_time": "2022-02-07T12:09:33.414Z"
      },
      {
        "duration": -142,
        "start_time": "2022-02-07T12:09:33.417Z"
      },
      {
        "duration": -144,
        "start_time": "2022-02-07T12:09:33.420Z"
      },
      {
        "duration": -147,
        "start_time": "2022-02-07T12:09:33.425Z"
      },
      {
        "duration": -176,
        "start_time": "2022-02-07T12:09:33.455Z"
      },
      {
        "duration": -181,
        "start_time": "2022-02-07T12:09:33.462Z"
      },
      {
        "duration": -183,
        "start_time": "2022-02-07T12:09:33.465Z"
      },
      {
        "duration": -185,
        "start_time": "2022-02-07T12:09:33.468Z"
      },
      {
        "duration": -190,
        "start_time": "2022-02-07T12:09:33.475Z"
      },
      {
        "duration": -202,
        "start_time": "2022-02-07T12:09:33.488Z"
      },
      {
        "duration": -204,
        "start_time": "2022-02-07T12:09:33.492Z"
      },
      {
        "duration": -206,
        "start_time": "2022-02-07T12:09:33.495Z"
      },
      {
        "duration": -207,
        "start_time": "2022-02-07T12:09:33.498Z"
      },
      {
        "duration": -210,
        "start_time": "2022-02-07T12:09:33.502Z"
      },
      {
        "duration": -225,
        "start_time": "2022-02-07T12:09:33.518Z"
      },
      {
        "duration": -237,
        "start_time": "2022-02-07T12:09:33.531Z"
      },
      {
        "duration": -238,
        "start_time": "2022-02-07T12:09:33.534Z"
      },
      {
        "duration": -241,
        "start_time": "2022-02-07T12:09:33.538Z"
      },
      {
        "duration": -253,
        "start_time": "2022-02-07T12:09:33.551Z"
      },
      {
        "duration": -262,
        "start_time": "2022-02-07T12:09:33.562Z"
      },
      {
        "duration": -264,
        "start_time": "2022-02-07T12:09:33.565Z"
      },
      {
        "duration": -267,
        "start_time": "2022-02-07T12:09:33.569Z"
      },
      {
        "duration": -277,
        "start_time": "2022-02-07T12:09:33.581Z"
      },
      {
        "duration": 25,
        "start_time": "2022-02-07T12:09:45.603Z"
      },
      {
        "duration": 18,
        "start_time": "2022-02-07T12:09:50.157Z"
      },
      {
        "duration": 18,
        "start_time": "2022-02-07T12:10:07.312Z"
      },
      {
        "duration": 1881,
        "start_time": "2022-02-07T12:10:17.964Z"
      },
      {
        "duration": 789,
        "start_time": "2022-02-07T12:10:19.848Z"
      },
      {
        "duration": 34,
        "start_time": "2022-02-07T12:10:20.641Z"
      },
      {
        "duration": 24,
        "start_time": "2022-02-07T12:10:20.678Z"
      },
      {
        "duration": 67,
        "start_time": "2022-02-07T12:10:20.705Z"
      },
      {
        "duration": 30,
        "start_time": "2022-02-07T12:10:20.775Z"
      },
      {
        "duration": 71,
        "start_time": "2022-02-07T12:10:20.808Z"
      },
      {
        "duration": 16,
        "start_time": "2022-02-07T12:10:20.883Z"
      },
      {
        "duration": 7,
        "start_time": "2022-02-07T12:10:20.902Z"
      },
      {
        "duration": 61,
        "start_time": "2022-02-07T12:10:20.913Z"
      },
      {
        "duration": 12,
        "start_time": "2022-02-07T12:10:20.976Z"
      },
      {
        "duration": 99,
        "start_time": "2022-02-07T12:10:20.990Z"
      },
      {
        "duration": 50,
        "start_time": "2022-02-07T12:10:21.091Z"
      },
      {
        "duration": 99,
        "start_time": "2022-02-07T12:10:21.160Z"
      },
      {
        "duration": 31,
        "start_time": "2022-02-07T12:10:21.261Z"
      },
      {
        "duration": 107,
        "start_time": "2022-02-07T12:10:21.295Z"
      },
      {
        "duration": 69,
        "start_time": "2022-02-07T12:10:21.406Z"
      },
      {
        "duration": 30,
        "start_time": "2022-02-07T12:10:21.478Z"
      },
      {
        "duration": 594,
        "start_time": "2022-02-07T12:10:21.511Z"
      },
      {
        "duration": -149,
        "start_time": "2022-02-07T12:10:22.258Z"
      },
      {
        "duration": -154,
        "start_time": "2022-02-07T12:10:22.264Z"
      },
      {
        "duration": -157,
        "start_time": "2022-02-07T12:10:22.269Z"
      },
      {
        "duration": -158,
        "start_time": "2022-02-07T12:10:22.272Z"
      },
      {
        "duration": -164,
        "start_time": "2022-02-07T12:10:22.279Z"
      },
      {
        "duration": -167,
        "start_time": "2022-02-07T12:10:22.283Z"
      },
      {
        "duration": -169,
        "start_time": "2022-02-07T12:10:22.286Z"
      },
      {
        "duration": -171,
        "start_time": "2022-02-07T12:10:22.289Z"
      },
      {
        "duration": -174,
        "start_time": "2022-02-07T12:10:22.294Z"
      },
      {
        "duration": -185,
        "start_time": "2022-02-07T12:10:22.306Z"
      },
      {
        "duration": -188,
        "start_time": "2022-02-07T12:10:22.312Z"
      },
      {
        "duration": -198,
        "start_time": "2022-02-07T12:10:22.323Z"
      },
      {
        "duration": -201,
        "start_time": "2022-02-07T12:10:22.328Z"
      },
      {
        "duration": -209,
        "start_time": "2022-02-07T12:10:22.338Z"
      },
      {
        "duration": -212,
        "start_time": "2022-02-07T12:10:22.342Z"
      },
      {
        "duration": -221,
        "start_time": "2022-02-07T12:10:22.353Z"
      },
      {
        "duration": -223,
        "start_time": "2022-02-07T12:10:22.356Z"
      },
      {
        "duration": -225,
        "start_time": "2022-02-07T12:10:22.360Z"
      },
      {
        "duration": -236,
        "start_time": "2022-02-07T12:10:22.372Z"
      },
      {
        "duration": -238,
        "start_time": "2022-02-07T12:10:22.376Z"
      },
      {
        "duration": -248,
        "start_time": "2022-02-07T12:10:22.387Z"
      },
      {
        "duration": -249,
        "start_time": "2022-02-07T12:10:22.390Z"
      },
      {
        "duration": -260,
        "start_time": "2022-02-07T12:10:22.402Z"
      },
      {
        "duration": 390,
        "start_time": "2022-02-07T12:12:38.547Z"
      },
      {
        "duration": 29,
        "start_time": "2022-02-07T12:12:41.695Z"
      },
      {
        "duration": 24,
        "start_time": "2022-02-07T12:15:37.336Z"
      },
      {
        "duration": 450,
        "start_time": "2022-02-07T12:22:07.760Z"
      },
      {
        "duration": 23,
        "start_time": "2022-02-07T12:27:33.804Z"
      },
      {
        "duration": 117,
        "start_time": "2022-02-07T12:41:40.084Z"
      },
      {
        "duration": 111,
        "start_time": "2022-02-07T12:41:49.053Z"
      },
      {
        "duration": 372,
        "start_time": "2022-02-07T12:41:57.766Z"
      },
      {
        "duration": 374,
        "start_time": "2022-02-07T12:53:44.264Z"
      },
      {
        "duration": 8825,
        "start_time": "2022-02-07T13:00:46.994Z"
      },
      {
        "duration": 21,
        "start_time": "2022-02-07T13:01:02.086Z"
      },
      {
        "duration": 18,
        "start_time": "2022-02-07T13:01:26.414Z"
      },
      {
        "duration": 19,
        "start_time": "2022-02-07T13:02:10.791Z"
      },
      {
        "duration": 20,
        "start_time": "2022-02-07T13:02:19.900Z"
      },
      {
        "duration": 117,
        "start_time": "2022-02-07T13:03:12.680Z"
      },
      {
        "duration": 19,
        "start_time": "2022-02-07T13:03:17.721Z"
      },
      {
        "duration": 20,
        "start_time": "2022-02-07T13:03:52.145Z"
      },
      {
        "duration": 18,
        "start_time": "2022-02-07T13:04:15.958Z"
      },
      {
        "duration": 362,
        "start_time": "2022-02-07T13:12:51.186Z"
      },
      {
        "duration": 379,
        "start_time": "2022-02-07T13:13:28.122Z"
      },
      {
        "duration": 1391,
        "start_time": "2022-02-07T13:13:58.743Z"
      },
      {
        "duration": 544,
        "start_time": "2022-02-07T13:14:00.137Z"
      },
      {
        "duration": 25,
        "start_time": "2022-02-07T13:14:00.684Z"
      },
      {
        "duration": 21,
        "start_time": "2022-02-07T13:14:00.712Z"
      },
      {
        "duration": 55,
        "start_time": "2022-02-07T13:14:00.736Z"
      },
      {
        "duration": 30,
        "start_time": "2022-02-07T13:14:00.794Z"
      },
      {
        "duration": 63,
        "start_time": "2022-02-07T13:14:00.826Z"
      },
      {
        "duration": 19,
        "start_time": "2022-02-07T13:14:00.893Z"
      },
      {
        "duration": 42,
        "start_time": "2022-02-07T13:14:00.915Z"
      },
      {
        "duration": 55,
        "start_time": "2022-02-07T13:14:00.959Z"
      },
      {
        "duration": 13,
        "start_time": "2022-02-07T13:14:01.017Z"
      },
      {
        "duration": 84,
        "start_time": "2022-02-07T13:14:01.033Z"
      },
      {
        "duration": 65,
        "start_time": "2022-02-07T13:14:01.119Z"
      },
      {
        "duration": 53,
        "start_time": "2022-02-07T13:14:01.187Z"
      },
      {
        "duration": 45,
        "start_time": "2022-02-07T13:14:01.259Z"
      },
      {
        "duration": 108,
        "start_time": "2022-02-07T13:14:01.307Z"
      },
      {
        "duration": 51,
        "start_time": "2022-02-07T13:14:01.418Z"
      },
      {
        "duration": 38,
        "start_time": "2022-02-07T13:14:01.471Z"
      },
      {
        "duration": 53,
        "start_time": "2022-02-07T13:14:01.512Z"
      },
      {
        "duration": 27,
        "start_time": "2022-02-07T13:14:01.567Z"
      },
      {
        "duration": 9413,
        "start_time": "2022-02-07T13:14:01.596Z"
      },
      {
        "duration": -195,
        "start_time": "2022-02-07T13:14:11.208Z"
      },
      {
        "duration": -200,
        "start_time": "2022-02-07T13:14:11.215Z"
      },
      {
        "duration": -202,
        "start_time": "2022-02-07T13:14:11.219Z"
      },
      {
        "duration": -204,
        "start_time": "2022-02-07T13:14:11.223Z"
      },
      {
        "duration": -219,
        "start_time": "2022-02-07T13:14:11.239Z"
      },
      {
        "duration": -231,
        "start_time": "2022-02-07T13:14:11.253Z"
      },
      {
        "duration": -232,
        "start_time": "2022-02-07T13:14:11.256Z"
      },
      {
        "duration": -245,
        "start_time": "2022-02-07T13:14:11.271Z"
      },
      {
        "duration": -249,
        "start_time": "2022-02-07T13:14:11.276Z"
      },
      {
        "duration": -261,
        "start_time": "2022-02-07T13:14:11.290Z"
      },
      {
        "duration": -274,
        "start_time": "2022-02-07T13:14:11.305Z"
      },
      {
        "duration": -289,
        "start_time": "2022-02-07T13:14:11.321Z"
      },
      {
        "duration": -300,
        "start_time": "2022-02-07T13:14:11.334Z"
      },
      {
        "duration": -302,
        "start_time": "2022-02-07T13:14:11.338Z"
      },
      {
        "duration": -313,
        "start_time": "2022-02-07T13:14:11.350Z"
      },
      {
        "duration": -315,
        "start_time": "2022-02-07T13:14:11.354Z"
      },
      {
        "duration": -317,
        "start_time": "2022-02-07T13:14:11.358Z"
      },
      {
        "duration": -328,
        "start_time": "2022-02-07T13:14:11.370Z"
      },
      {
        "duration": -330,
        "start_time": "2022-02-07T13:14:11.374Z"
      },
      {
        "duration": -339,
        "start_time": "2022-02-07T13:14:11.385Z"
      },
      {
        "duration": -342,
        "start_time": "2022-02-07T13:14:11.389Z"
      },
      {
        "duration": 407,
        "start_time": "2022-02-07T13:15:02.792Z"
      },
      {
        "duration": 48049,
        "start_time": "2022-02-07T13:16:05.856Z"
      },
      {
        "duration": 395,
        "start_time": "2022-02-07T13:17:40.648Z"
      },
      {
        "duration": 1389,
        "start_time": "2022-02-07T13:18:01.225Z"
      },
      {
        "duration": 522,
        "start_time": "2022-02-07T13:18:02.617Z"
      },
      {
        "duration": 24,
        "start_time": "2022-02-07T13:18:03.142Z"
      },
      {
        "duration": 24,
        "start_time": "2022-02-07T13:18:03.169Z"
      },
      {
        "duration": 69,
        "start_time": "2022-02-07T13:18:03.196Z"
      },
      {
        "duration": 26,
        "start_time": "2022-02-07T13:18:03.268Z"
      },
      {
        "duration": 31,
        "start_time": "2022-02-07T13:18:03.297Z"
      },
      {
        "duration": 14,
        "start_time": "2022-02-07T13:18:03.360Z"
      },
      {
        "duration": 6,
        "start_time": "2022-02-07T13:18:03.376Z"
      },
      {
        "duration": 26,
        "start_time": "2022-02-07T13:18:03.385Z"
      },
      {
        "duration": 46,
        "start_time": "2022-02-07T13:18:03.413Z"
      },
      {
        "duration": 78,
        "start_time": "2022-02-07T13:18:03.462Z"
      },
      {
        "duration": 63,
        "start_time": "2022-02-07T13:18:03.542Z"
      },
      {
        "duration": 72,
        "start_time": "2022-02-07T13:18:03.608Z"
      },
      {
        "duration": 32,
        "start_time": "2022-02-07T13:18:03.682Z"
      },
      {
        "duration": 75,
        "start_time": "2022-02-07T13:18:03.716Z"
      },
      {
        "duration": 35,
        "start_time": "2022-02-07T13:18:03.793Z"
      },
      {
        "duration": 47,
        "start_time": "2022-02-07T13:18:03.831Z"
      },
      {
        "duration": 28,
        "start_time": "2022-02-07T13:18:03.880Z"
      },
      {
        "duration": 54,
        "start_time": "2022-02-07T13:18:03.911Z"
      },
      {
        "duration": 1552,
        "start_time": "2022-02-07T13:18:03.968Z"
      },
      {
        "duration": -114,
        "start_time": "2022-02-07T13:18:05.637Z"
      },
      {
        "duration": -137,
        "start_time": "2022-02-07T13:18:05.662Z"
      },
      {
        "duration": -139,
        "start_time": "2022-02-07T13:18:05.665Z"
      },
      {
        "duration": -141,
        "start_time": "2022-02-07T13:18:05.668Z"
      },
      {
        "duration": -152,
        "start_time": "2022-02-07T13:18:05.681Z"
      },
      {
        "duration": -154,
        "start_time": "2022-02-07T13:18:05.684Z"
      },
      {
        "duration": -166,
        "start_time": "2022-02-07T13:18:05.698Z"
      },
      {
        "duration": -167,
        "start_time": "2022-02-07T13:18:05.701Z"
      },
      {
        "duration": -177,
        "start_time": "2022-02-07T13:18:05.713Z"
      },
      {
        "duration": -179,
        "start_time": "2022-02-07T13:18:05.716Z"
      },
      {
        "duration": -181,
        "start_time": "2022-02-07T13:18:05.719Z"
      },
      {
        "duration": -192,
        "start_time": "2022-02-07T13:18:05.732Z"
      },
      {
        "duration": -194,
        "start_time": "2022-02-07T13:18:05.735Z"
      },
      {
        "duration": -204,
        "start_time": "2022-02-07T13:18:05.747Z"
      },
      {
        "duration": -206,
        "start_time": "2022-02-07T13:18:05.751Z"
      },
      {
        "duration": -217,
        "start_time": "2022-02-07T13:18:05.763Z"
      },
      {
        "duration": -218,
        "start_time": "2022-02-07T13:18:05.766Z"
      },
      {
        "duration": -221,
        "start_time": "2022-02-07T13:18:05.770Z"
      },
      {
        "duration": -232,
        "start_time": "2022-02-07T13:18:05.783Z"
      },
      {
        "duration": -235,
        "start_time": "2022-02-07T13:18:05.787Z"
      },
      {
        "duration": -246,
        "start_time": "2022-02-07T13:18:05.799Z"
      },
      {
        "duration": 2691,
        "start_time": "2022-02-07T13:20:08.368Z"
      },
      {
        "duration": 1190,
        "start_time": "2022-02-07T13:20:21.182Z"
      },
      {
        "duration": 357,
        "start_time": "2022-02-07T13:23:43.542Z"
      },
      {
        "duration": 30,
        "start_time": "2022-02-07T13:25:23.851Z"
      },
      {
        "duration": 1351,
        "start_time": "2022-02-07T13:25:32.160Z"
      },
      {
        "duration": 496,
        "start_time": "2022-02-07T13:25:33.514Z"
      },
      {
        "duration": 22,
        "start_time": "2022-02-07T13:25:34.012Z"
      },
      {
        "duration": 19,
        "start_time": "2022-02-07T13:25:34.037Z"
      },
      {
        "duration": 38,
        "start_time": "2022-02-07T13:25:34.058Z"
      },
      {
        "duration": 25,
        "start_time": "2022-02-07T13:25:34.098Z"
      },
      {
        "duration": 61,
        "start_time": "2022-02-07T13:25:34.125Z"
      },
      {
        "duration": 13,
        "start_time": "2022-02-07T13:25:34.190Z"
      },
      {
        "duration": 6,
        "start_time": "2022-02-07T13:25:34.206Z"
      },
      {
        "duration": 63,
        "start_time": "2022-02-07T13:25:34.214Z"
      },
      {
        "duration": 10,
        "start_time": "2022-02-07T13:25:34.280Z"
      },
      {
        "duration": 99,
        "start_time": "2022-02-07T13:25:34.292Z"
      },
      {
        "duration": 50,
        "start_time": "2022-02-07T13:25:34.393Z"
      },
      {
        "duration": 50,
        "start_time": "2022-02-07T13:25:34.459Z"
      },
      {
        "duration": 54,
        "start_time": "2022-02-07T13:25:34.511Z"
      },
      {
        "duration": 62,
        "start_time": "2022-02-07T13:25:34.568Z"
      },
      {
        "duration": 52,
        "start_time": "2022-02-07T13:25:34.633Z"
      },
      {
        "duration": 23,
        "start_time": "2022-02-07T13:25:34.688Z"
      },
      {
        "duration": 63,
        "start_time": "2022-02-07T13:25:34.713Z"
      },
      {
        "duration": 8966,
        "start_time": "2022-02-07T13:25:34.779Z"
      },
      {
        "duration": -131,
        "start_time": "2022-02-07T13:25:43.880Z"
      },
      {
        "duration": -136,
        "start_time": "2022-02-07T13:25:43.886Z"
      },
      {
        "duration": -141,
        "start_time": "2022-02-07T13:25:43.893Z"
      },
      {
        "duration": -145,
        "start_time": "2022-02-07T13:25:43.898Z"
      },
      {
        "duration": -148,
        "start_time": "2022-02-07T13:25:43.903Z"
      },
      {
        "duration": -151,
        "start_time": "2022-02-07T13:25:43.907Z"
      },
      {
        "duration": -163,
        "start_time": "2022-02-07T13:25:43.920Z"
      },
      {
        "duration": -166,
        "start_time": "2022-02-07T13:25:43.925Z"
      },
      {
        "duration": -170,
        "start_time": "2022-02-07T13:25:43.930Z"
      },
      {
        "duration": -171,
        "start_time": "2022-02-07T13:25:43.933Z"
      },
      {
        "duration": -175,
        "start_time": "2022-02-07T13:25:43.938Z"
      },
      {
        "duration": -176,
        "start_time": "2022-02-07T13:25:43.941Z"
      },
      {
        "duration": -180,
        "start_time": "2022-02-07T13:25:43.946Z"
      },
      {
        "duration": -181,
        "start_time": "2022-02-07T13:25:43.949Z"
      },
      {
        "duration": -185,
        "start_time": "2022-02-07T13:25:43.954Z"
      },
      {
        "duration": -185,
        "start_time": "2022-02-07T13:25:43.957Z"
      },
      {
        "duration": -189,
        "start_time": "2022-02-07T13:25:43.962Z"
      },
      {
        "duration": -191,
        "start_time": "2022-02-07T13:25:43.966Z"
      },
      {
        "duration": -195,
        "start_time": "2022-02-07T13:25:43.971Z"
      },
      {
        "duration": -196,
        "start_time": "2022-02-07T13:25:43.974Z"
      },
      {
        "duration": -200,
        "start_time": "2022-02-07T13:25:43.979Z"
      },
      {
        "duration": -201,
        "start_time": "2022-02-07T13:25:43.982Z"
      },
      {
        "duration": 28,
        "start_time": "2022-02-07T13:30:39.432Z"
      },
      {
        "duration": 26,
        "start_time": "2022-02-07T13:30:58.204Z"
      },
      {
        "duration": 10313,
        "start_time": "2022-02-07T13:31:15.373Z"
      },
      {
        "duration": 30697,
        "start_time": "2022-02-07T13:32:18.100Z"
      },
      {
        "duration": 13197,
        "start_time": "2022-02-07T13:32:52.237Z"
      },
      {
        "duration": 1618,
        "start_time": "2022-02-07T13:35:15.271Z"
      },
      {
        "duration": 919,
        "start_time": "2022-02-07T13:35:24.766Z"
      },
      {
        "duration": 1095,
        "start_time": "2022-02-07T13:35:35.185Z"
      },
      {
        "duration": 9,
        "start_time": "2022-02-07T13:35:53.964Z"
      },
      {
        "duration": 326,
        "start_time": "2022-02-07T13:36:10.531Z"
      },
      {
        "duration": 13,
        "start_time": "2022-02-07T13:36:30.358Z"
      },
      {
        "duration": 13711,
        "start_time": "2022-02-07T13:36:43.176Z"
      },
      {
        "duration": 10238,
        "start_time": "2022-02-07T13:38:47.780Z"
      },
      {
        "duration": 12054,
        "start_time": "2022-02-07T13:39:43.744Z"
      },
      {
        "duration": 11967,
        "start_time": "2022-02-07T13:41:12.628Z"
      },
      {
        "duration": 1307,
        "start_time": "2022-02-07T13:41:31.804Z"
      },
      {
        "duration": 494,
        "start_time": "2022-02-07T13:41:33.113Z"
      },
      {
        "duration": 20,
        "start_time": "2022-02-07T13:41:33.610Z"
      },
      {
        "duration": 19,
        "start_time": "2022-02-07T13:41:33.633Z"
      },
      {
        "duration": 38,
        "start_time": "2022-02-07T13:41:33.655Z"
      },
      {
        "duration": 25,
        "start_time": "2022-02-07T13:41:33.695Z"
      },
      {
        "duration": 59,
        "start_time": "2022-02-07T13:41:33.723Z"
      },
      {
        "duration": 14,
        "start_time": "2022-02-07T13:41:33.786Z"
      },
      {
        "duration": 5,
        "start_time": "2022-02-07T13:41:33.803Z"
      },
      {
        "duration": 65,
        "start_time": "2022-02-07T13:41:33.810Z"
      },
      {
        "duration": 10,
        "start_time": "2022-02-07T13:41:33.877Z"
      },
      {
        "duration": 94,
        "start_time": "2022-02-07T13:41:33.890Z"
      },
      {
        "duration": 48,
        "start_time": "2022-02-07T13:41:33.986Z"
      },
      {
        "duration": 70,
        "start_time": "2022-02-07T13:41:34.037Z"
      },
      {
        "duration": 53,
        "start_time": "2022-02-07T13:41:34.110Z"
      },
      {
        "duration": 61,
        "start_time": "2022-02-07T13:41:34.166Z"
      },
      {
        "duration": 56,
        "start_time": "2022-02-07T13:41:34.230Z"
      },
      {
        "duration": 24,
        "start_time": "2022-02-07T13:41:34.289Z"
      },
      {
        "duration": 74,
        "start_time": "2022-02-07T13:41:34.316Z"
      },
      {
        "duration": 35,
        "start_time": "2022-02-07T13:41:34.393Z"
      },
      {
        "duration": 12152,
        "start_time": "2022-02-07T13:41:34.431Z"
      },
      {
        "duration": 485,
        "start_time": "2022-02-07T13:41:46.585Z"
      },
      {
        "duration": -86,
        "start_time": "2022-02-07T13:41:47.160Z"
      },
      {
        "duration": -89,
        "start_time": "2022-02-07T13:41:47.164Z"
      },
      {
        "duration": -91,
        "start_time": "2022-02-07T13:41:47.168Z"
      },
      {
        "duration": -93,
        "start_time": "2022-02-07T13:41:47.172Z"
      },
      {
        "duration": -94,
        "start_time": "2022-02-07T13:41:47.175Z"
      },
      {
        "duration": -97,
        "start_time": "2022-02-07T13:41:47.180Z"
      },
      {
        "duration": -114,
        "start_time": "2022-02-07T13:41:47.198Z"
      },
      {
        "duration": -116,
        "start_time": "2022-02-07T13:41:47.202Z"
      },
      {
        "duration": -117,
        "start_time": "2022-02-07T13:41:47.205Z"
      },
      {
        "duration": -119,
        "start_time": "2022-02-07T13:41:47.209Z"
      },
      {
        "duration": -122,
        "start_time": "2022-02-07T13:41:47.213Z"
      },
      {
        "duration": -126,
        "start_time": "2022-02-07T13:41:47.219Z"
      },
      {
        "duration": -130,
        "start_time": "2022-02-07T13:41:47.224Z"
      },
      {
        "duration": -133,
        "start_time": "2022-02-07T13:41:47.229Z"
      },
      {
        "duration": -137,
        "start_time": "2022-02-07T13:41:47.234Z"
      },
      {
        "duration": -140,
        "start_time": "2022-02-07T13:41:47.239Z"
      },
      {
        "duration": -150,
        "start_time": "2022-02-07T13:41:47.251Z"
      },
      {
        "duration": -153,
        "start_time": "2022-02-07T13:41:47.255Z"
      },
      {
        "duration": -156,
        "start_time": "2022-02-07T13:41:47.259Z"
      },
      {
        "duration": -159,
        "start_time": "2022-02-07T13:41:47.264Z"
      },
      {
        "duration": 11755,
        "start_time": "2022-02-07T13:42:07.321Z"
      },
      {
        "duration": 12328,
        "start_time": "2022-02-07T13:43:49.152Z"
      },
      {
        "duration": 355,
        "start_time": "2022-02-07T13:48:35.169Z"
      },
      {
        "duration": 20,
        "start_time": "2022-02-07T13:48:42.776Z"
      },
      {
        "duration": 19,
        "start_time": "2022-02-07T13:49:13.828Z"
      },
      {
        "duration": 7,
        "start_time": "2022-02-07T13:49:48.647Z"
      },
      {
        "duration": 14,
        "start_time": "2022-02-07T13:50:35.861Z"
      },
      {
        "duration": 10,
        "start_time": "2022-02-07T13:50:45.362Z"
      },
      {
        "duration": 17,
        "start_time": "2022-02-07T13:51:18.827Z"
      },
      {
        "duration": 23,
        "start_time": "2022-02-07T13:51:41.246Z"
      },
      {
        "duration": 20,
        "start_time": "2022-02-07T13:52:32.542Z"
      },
      {
        "duration": 21,
        "start_time": "2022-02-07T13:53:45.994Z"
      },
      {
        "duration": 24,
        "start_time": "2022-02-07T13:54:19.732Z"
      },
      {
        "duration": 131,
        "start_time": "2022-02-07T13:54:46.352Z"
      },
      {
        "duration": 22,
        "start_time": "2022-02-07T13:54:50.472Z"
      },
      {
        "duration": 1508,
        "start_time": "2022-02-07T13:54:57.283Z"
      },
      {
        "duration": 493,
        "start_time": "2022-02-07T13:54:58.793Z"
      },
      {
        "duration": 22,
        "start_time": "2022-02-07T13:54:59.288Z"
      },
      {
        "duration": 20,
        "start_time": "2022-02-07T13:54:59.313Z"
      },
      {
        "duration": 49,
        "start_time": "2022-02-07T13:54:59.336Z"
      },
      {
        "duration": 26,
        "start_time": "2022-02-07T13:54:59.387Z"
      },
      {
        "duration": 54,
        "start_time": "2022-02-07T13:54:59.416Z"
      },
      {
        "duration": 14,
        "start_time": "2022-02-07T13:54:59.474Z"
      },
      {
        "duration": 5,
        "start_time": "2022-02-07T13:54:59.491Z"
      },
      {
        "duration": 65,
        "start_time": "2022-02-07T13:54:59.498Z"
      },
      {
        "duration": 11,
        "start_time": "2022-02-07T13:54:59.566Z"
      },
      {
        "duration": 103,
        "start_time": "2022-02-07T13:54:59.580Z"
      },
      {
        "duration": 50,
        "start_time": "2022-02-07T13:54:59.685Z"
      },
      {
        "duration": 67,
        "start_time": "2022-02-07T13:54:59.737Z"
      },
      {
        "duration": 31,
        "start_time": "2022-02-07T13:54:59.807Z"
      },
      {
        "duration": 77,
        "start_time": "2022-02-07T13:54:59.840Z"
      },
      {
        "duration": 55,
        "start_time": "2022-02-07T13:54:59.919Z"
      },
      {
        "duration": 22,
        "start_time": "2022-02-07T13:54:59.976Z"
      },
      {
        "duration": 30,
        "start_time": "2022-02-07T13:55:00.000Z"
      },
      {
        "duration": 24,
        "start_time": "2022-02-07T13:55:00.060Z"
      },
      {
        "duration": 12692,
        "start_time": "2022-02-07T13:55:00.087Z"
      },
      {
        "duration": 81,
        "start_time": "2022-02-07T13:55:12.781Z"
      },
      {
        "duration": 662,
        "start_time": "2022-02-07T13:55:12.869Z"
      },
      {
        "duration": -82,
        "start_time": "2022-02-07T13:55:13.616Z"
      },
      {
        "duration": -115,
        "start_time": "2022-02-07T13:55:13.651Z"
      },
      {
        "duration": -120,
        "start_time": "2022-02-07T13:55:13.657Z"
      },
      {
        "duration": -134,
        "start_time": "2022-02-07T13:55:13.673Z"
      },
      {
        "duration": -148,
        "start_time": "2022-02-07T13:55:13.688Z"
      },
      {
        "duration": -151,
        "start_time": "2022-02-07T13:55:13.692Z"
      },
      {
        "duration": -162,
        "start_time": "2022-02-07T13:55:13.704Z"
      },
      {
        "duration": -165,
        "start_time": "2022-02-07T13:55:13.709Z"
      },
      {
        "duration": -180,
        "start_time": "2022-02-07T13:55:13.725Z"
      },
      {
        "duration": -183,
        "start_time": "2022-02-07T13:55:13.730Z"
      },
      {
        "duration": -185,
        "start_time": "2022-02-07T13:55:13.733Z"
      },
      {
        "duration": -188,
        "start_time": "2022-02-07T13:55:13.737Z"
      },
      {
        "duration": -202,
        "start_time": "2022-02-07T13:55:13.753Z"
      },
      {
        "duration": -205,
        "start_time": "2022-02-07T13:55:13.757Z"
      },
      {
        "duration": -217,
        "start_time": "2022-02-07T13:55:13.770Z"
      },
      {
        "duration": -229,
        "start_time": "2022-02-07T13:55:13.784Z"
      },
      {
        "duration": -232,
        "start_time": "2022-02-07T13:55:13.788Z"
      },
      {
        "duration": -245,
        "start_time": "2022-02-07T13:55:13.802Z"
      },
      {
        "duration": -247,
        "start_time": "2022-02-07T13:55:13.806Z"
      },
      {
        "duration": -256,
        "start_time": "2022-02-07T13:55:13.816Z"
      },
      {
        "duration": 23,
        "start_time": "2022-02-07T13:55:46.392Z"
      },
      {
        "duration": 22,
        "start_time": "2022-02-07T13:55:52.466Z"
      },
      {
        "duration": 27,
        "start_time": "2022-02-07T13:56:43.745Z"
      },
      {
        "duration": 23,
        "start_time": "2022-02-07T13:58:16.012Z"
      },
      {
        "duration": 1397,
        "start_time": "2022-02-07T13:58:22.709Z"
      },
      {
        "duration": 541,
        "start_time": "2022-02-07T13:58:24.108Z"
      },
      {
        "duration": 24,
        "start_time": "2022-02-07T13:58:24.652Z"
      },
      {
        "duration": 30,
        "start_time": "2022-02-07T13:58:24.679Z"
      },
      {
        "duration": 89,
        "start_time": "2022-02-07T13:58:24.713Z"
      },
      {
        "duration": 31,
        "start_time": "2022-02-07T13:58:24.805Z"
      },
      {
        "duration": 41,
        "start_time": "2022-02-07T13:58:24.860Z"
      },
      {
        "duration": 16,
        "start_time": "2022-02-07T13:58:24.906Z"
      },
      {
        "duration": 36,
        "start_time": "2022-02-07T13:58:24.926Z"
      },
      {
        "duration": 30,
        "start_time": "2022-02-07T13:58:24.965Z"
      },
      {
        "duration": 15,
        "start_time": "2022-02-07T13:58:24.998Z"
      },
      {
        "duration": 112,
        "start_time": "2022-02-07T13:58:25.015Z"
      },
      {
        "duration": 67,
        "start_time": "2022-02-07T13:58:25.129Z"
      },
      {
        "duration": 67,
        "start_time": "2022-02-07T13:58:25.199Z"
      },
      {
        "duration": 34,
        "start_time": "2022-02-07T13:58:25.269Z"
      },
      {
        "duration": 100,
        "start_time": "2022-02-07T13:58:25.306Z"
      },
      {
        "duration": 67,
        "start_time": "2022-02-07T13:58:25.408Z"
      },
      {
        "duration": 108,
        "start_time": "2022-02-07T13:58:25.477Z"
      },
      {
        "duration": 80,
        "start_time": "2022-02-07T13:58:25.587Z"
      },
      {
        "duration": 89,
        "start_time": "2022-02-07T13:58:25.670Z"
      },
      {
        "duration": 14614,
        "start_time": "2022-02-07T13:58:25.763Z"
      },
      {
        "duration": 22,
        "start_time": "2022-02-07T13:58:40.380Z"
      },
      {
        "duration": 932,
        "start_time": "2022-02-07T13:58:40.410Z"
      },
      {
        "duration": -107,
        "start_time": "2022-02-07T13:58:41.453Z"
      },
      {
        "duration": -108,
        "start_time": "2022-02-07T13:58:41.456Z"
      },
      {
        "duration": -110,
        "start_time": "2022-02-07T13:58:41.460Z"
      },
      {
        "duration": -130,
        "start_time": "2022-02-07T13:58:41.482Z"
      },
      {
        "duration": -134,
        "start_time": "2022-02-07T13:58:41.487Z"
      },
      {
        "duration": -136,
        "start_time": "2022-02-07T13:58:41.491Z"
      },
      {
        "duration": -138,
        "start_time": "2022-02-07T13:58:41.494Z"
      },
      {
        "duration": -139,
        "start_time": "2022-02-07T13:58:41.497Z"
      },
      {
        "duration": -141,
        "start_time": "2022-02-07T13:58:41.501Z"
      },
      {
        "duration": -151,
        "start_time": "2022-02-07T13:58:41.512Z"
      },
      {
        "duration": -153,
        "start_time": "2022-02-07T13:58:41.516Z"
      },
      {
        "duration": -156,
        "start_time": "2022-02-07T13:58:41.520Z"
      },
      {
        "duration": -158,
        "start_time": "2022-02-07T13:58:41.524Z"
      },
      {
        "duration": -159,
        "start_time": "2022-02-07T13:58:41.527Z"
      },
      {
        "duration": -160,
        "start_time": "2022-02-07T13:58:41.530Z"
      },
      {
        "duration": -162,
        "start_time": "2022-02-07T13:58:41.534Z"
      },
      {
        "duration": -164,
        "start_time": "2022-02-07T13:58:41.538Z"
      },
      {
        "duration": -166,
        "start_time": "2022-02-07T13:58:41.541Z"
      },
      {
        "duration": -168,
        "start_time": "2022-02-07T13:58:41.545Z"
      },
      {
        "duration": -170,
        "start_time": "2022-02-07T13:58:41.549Z"
      },
      {
        "duration": 19,
        "start_time": "2022-02-07T13:59:23.556Z"
      },
      {
        "duration": 18,
        "start_time": "2022-02-07T14:00:20.906Z"
      },
      {
        "duration": 19,
        "start_time": "2022-02-07T14:00:49.234Z"
      },
      {
        "duration": 21,
        "start_time": "2022-02-07T14:01:01.134Z"
      },
      {
        "duration": 23,
        "start_time": "2022-02-07T14:01:25.223Z"
      },
      {
        "duration": 26,
        "start_time": "2022-02-07T14:02:13.371Z"
      },
      {
        "duration": 2574,
        "start_time": "2022-02-07T14:03:14.671Z"
      },
      {
        "duration": 2558,
        "start_time": "2022-02-07T14:03:29.694Z"
      },
      {
        "duration": 17,
        "start_time": "2022-02-07T14:04:03.092Z"
      },
      {
        "duration": 23,
        "start_time": "2022-02-07T14:04:10.097Z"
      },
      {
        "duration": 426,
        "start_time": "2022-02-07T14:05:15.608Z"
      },
      {
        "duration": 21,
        "start_time": "2022-02-07T14:05:29.807Z"
      },
      {
        "duration": 11468,
        "start_time": "2022-02-07T14:07:11.257Z"
      },
      {
        "duration": 23,
        "start_time": "2022-02-07T14:08:09.493Z"
      },
      {
        "duration": 367,
        "start_time": "2022-02-07T14:16:51.652Z"
      },
      {
        "duration": 24,
        "start_time": "2022-02-07T14:17:20.875Z"
      },
      {
        "duration": 27,
        "start_time": "2022-02-07T14:17:47.133Z"
      },
      {
        "duration": 1339,
        "start_time": "2022-02-07T14:17:56.211Z"
      },
      {
        "duration": 592,
        "start_time": "2022-02-07T14:17:57.553Z"
      },
      {
        "duration": 22,
        "start_time": "2022-02-07T14:17:58.148Z"
      },
      {
        "duration": 22,
        "start_time": "2022-02-07T14:17:58.173Z"
      },
      {
        "duration": 81,
        "start_time": "2022-02-07T14:17:58.198Z"
      },
      {
        "duration": 28,
        "start_time": "2022-02-07T14:17:58.282Z"
      },
      {
        "duration": 61,
        "start_time": "2022-02-07T14:17:58.313Z"
      },
      {
        "duration": 14,
        "start_time": "2022-02-07T14:17:58.378Z"
      },
      {
        "duration": 6,
        "start_time": "2022-02-07T14:17:58.394Z"
      },
      {
        "duration": 67,
        "start_time": "2022-02-07T14:17:58.402Z"
      },
      {
        "duration": 14,
        "start_time": "2022-02-07T14:17:58.472Z"
      },
      {
        "duration": 110,
        "start_time": "2022-02-07T14:17:58.488Z"
      },
      {
        "duration": 78,
        "start_time": "2022-02-07T14:17:58.600Z"
      },
      {
        "duration": 60,
        "start_time": "2022-02-07T14:17:58.681Z"
      },
      {
        "duration": 46,
        "start_time": "2022-02-07T14:17:58.744Z"
      },
      {
        "duration": 78,
        "start_time": "2022-02-07T14:17:58.793Z"
      },
      {
        "duration": 34,
        "start_time": "2022-02-07T14:17:58.873Z"
      },
      {
        "duration": 62,
        "start_time": "2022-02-07T14:17:58.910Z"
      },
      {
        "duration": 89,
        "start_time": "2022-02-07T14:17:58.975Z"
      },
      {
        "duration": 26,
        "start_time": "2022-02-07T14:17:59.066Z"
      },
      {
        "duration": 13837,
        "start_time": "2022-02-07T14:17:59.095Z"
      },
      {
        "duration": 38,
        "start_time": "2022-02-07T14:18:12.935Z"
      },
      {
        "duration": 24,
        "start_time": "2022-02-07T14:18:12.979Z"
      },
      {
        "duration": 925,
        "start_time": "2022-02-07T14:18:13.007Z"
      },
      {
        "duration": -103,
        "start_time": "2022-02-07T14:18:14.038Z"
      },
      {
        "duration": -106,
        "start_time": "2022-02-07T14:18:14.043Z"
      },
      {
        "duration": -110,
        "start_time": "2022-02-07T14:18:14.048Z"
      },
      {
        "duration": -120,
        "start_time": "2022-02-07T14:18:14.060Z"
      },
      {
        "duration": -123,
        "start_time": "2022-02-07T14:18:14.064Z"
      },
      {
        "duration": -126,
        "start_time": "2022-02-07T14:18:14.068Z"
      },
      {
        "duration": -128,
        "start_time": "2022-02-07T14:18:14.072Z"
      },
      {
        "duration": -132,
        "start_time": "2022-02-07T14:18:14.077Z"
      },
      {
        "duration": -133,
        "start_time": "2022-02-07T14:18:14.080Z"
      },
      {
        "duration": -136,
        "start_time": "2022-02-07T14:18:14.084Z"
      },
      {
        "duration": -139,
        "start_time": "2022-02-07T14:18:14.088Z"
      },
      {
        "duration": -140,
        "start_time": "2022-02-07T14:18:14.091Z"
      },
      {
        "duration": -142,
        "start_time": "2022-02-07T14:18:14.094Z"
      },
      {
        "duration": -144,
        "start_time": "2022-02-07T14:18:14.098Z"
      },
      {
        "duration": -147,
        "start_time": "2022-02-07T14:18:14.102Z"
      },
      {
        "duration": -149,
        "start_time": "2022-02-07T14:18:14.106Z"
      },
      {
        "duration": -151,
        "start_time": "2022-02-07T14:18:14.109Z"
      },
      {
        "duration": -154,
        "start_time": "2022-02-07T14:18:14.113Z"
      },
      {
        "duration": -155,
        "start_time": "2022-02-07T14:18:14.116Z"
      },
      {
        "duration": -158,
        "start_time": "2022-02-07T14:18:14.120Z"
      },
      {
        "duration": 768,
        "start_time": "2022-02-07T14:18:33.198Z"
      },
      {
        "duration": 1331,
        "start_time": "2022-02-07T14:18:59.699Z"
      },
      {
        "duration": 554,
        "start_time": "2022-02-07T14:19:01.033Z"
      },
      {
        "duration": 21,
        "start_time": "2022-02-07T14:19:01.590Z"
      },
      {
        "duration": 21,
        "start_time": "2022-02-07T14:19:01.613Z"
      },
      {
        "duration": 54,
        "start_time": "2022-02-07T14:19:01.637Z"
      },
      {
        "duration": 28,
        "start_time": "2022-02-07T14:19:01.693Z"
      },
      {
        "duration": 58,
        "start_time": "2022-02-07T14:19:01.723Z"
      },
      {
        "duration": 13,
        "start_time": "2022-02-07T14:19:01.785Z"
      },
      {
        "duration": 6,
        "start_time": "2022-02-07T14:19:01.801Z"
      },
      {
        "duration": 60,
        "start_time": "2022-02-07T14:19:01.809Z"
      },
      {
        "duration": 11,
        "start_time": "2022-02-07T14:19:01.871Z"
      },
      {
        "duration": 103,
        "start_time": "2022-02-07T14:19:01.885Z"
      },
      {
        "duration": 52,
        "start_time": "2022-02-07T14:19:01.990Z"
      },
      {
        "duration": 51,
        "start_time": "2022-02-07T14:19:02.059Z"
      },
      {
        "duration": 48,
        "start_time": "2022-02-07T14:19:02.112Z"
      },
      {
        "duration": 62,
        "start_time": "2022-02-07T14:19:02.163Z"
      },
      {
        "duration": 58,
        "start_time": "2022-02-07T14:19:02.227Z"
      },
      {
        "duration": 22,
        "start_time": "2022-02-07T14:19:02.287Z"
      },
      {
        "duration": 49,
        "start_time": "2022-02-07T14:19:02.311Z"
      },
      {
        "duration": 23,
        "start_time": "2022-02-07T14:19:02.363Z"
      },
      {
        "duration": 12759,
        "start_time": "2022-02-07T14:19:02.388Z"
      },
      {
        "duration": 492,
        "start_time": "2022-02-07T14:19:15.150Z"
      },
      {
        "duration": -172,
        "start_time": "2022-02-07T14:19:15.819Z"
      },
      {
        "duration": -176,
        "start_time": "2022-02-07T14:19:15.824Z"
      },
      {
        "duration": -177,
        "start_time": "2022-02-07T14:19:15.828Z"
      },
      {
        "duration": -178,
        "start_time": "2022-02-07T14:19:15.831Z"
      },
      {
        "duration": -182,
        "start_time": "2022-02-07T14:19:15.836Z"
      },
      {
        "duration": -184,
        "start_time": "2022-02-07T14:19:15.839Z"
      },
      {
        "duration": -188,
        "start_time": "2022-02-07T14:19:15.845Z"
      },
      {
        "duration": -190,
        "start_time": "2022-02-07T14:19:15.848Z"
      },
      {
        "duration": -192,
        "start_time": "2022-02-07T14:19:15.852Z"
      },
      {
        "duration": -195,
        "start_time": "2022-02-07T14:19:15.856Z"
      },
      {
        "duration": -198,
        "start_time": "2022-02-07T14:19:15.860Z"
      },
      {
        "duration": -200,
        "start_time": "2022-02-07T14:19:15.864Z"
      },
      {
        "duration": -203,
        "start_time": "2022-02-07T14:19:15.868Z"
      },
      {
        "duration": -205,
        "start_time": "2022-02-07T14:19:15.871Z"
      },
      {
        "duration": -206,
        "start_time": "2022-02-07T14:19:15.874Z"
      },
      {
        "duration": -209,
        "start_time": "2022-02-07T14:19:15.878Z"
      },
      {
        "duration": -210,
        "start_time": "2022-02-07T14:19:15.881Z"
      },
      {
        "duration": -213,
        "start_time": "2022-02-07T14:19:15.885Z"
      },
      {
        "duration": -226,
        "start_time": "2022-02-07T14:19:15.899Z"
      },
      {
        "duration": -228,
        "start_time": "2022-02-07T14:19:15.903Z"
      },
      {
        "duration": -232,
        "start_time": "2022-02-07T14:19:15.908Z"
      },
      {
        "duration": -235,
        "start_time": "2022-02-07T14:19:15.912Z"
      },
      {
        "duration": 32,
        "start_time": "2022-02-07T14:26:01.056Z"
      },
      {
        "duration": 37,
        "start_time": "2022-02-07T14:28:41.192Z"
      },
      {
        "duration": 47,
        "start_time": "2022-02-07T14:29:41.013Z"
      },
      {
        "duration": 1336,
        "start_time": "2022-02-07T14:29:48.819Z"
      },
      {
        "duration": 509,
        "start_time": "2022-02-07T14:29:50.157Z"
      },
      {
        "duration": 23,
        "start_time": "2022-02-07T14:29:50.670Z"
      },
      {
        "duration": 20,
        "start_time": "2022-02-07T14:29:50.697Z"
      },
      {
        "duration": 70,
        "start_time": "2022-02-07T14:29:50.720Z"
      },
      {
        "duration": 26,
        "start_time": "2022-02-07T14:29:50.792Z"
      },
      {
        "duration": 59,
        "start_time": "2022-02-07T14:29:50.820Z"
      },
      {
        "duration": 14,
        "start_time": "2022-02-07T14:29:50.883Z"
      },
      {
        "duration": 7,
        "start_time": "2022-02-07T14:29:50.900Z"
      },
      {
        "duration": 63,
        "start_time": "2022-02-07T14:29:50.909Z"
      },
      {
        "duration": 11,
        "start_time": "2022-02-07T14:29:50.974Z"
      },
      {
        "duration": 102,
        "start_time": "2022-02-07T14:29:50.988Z"
      },
      {
        "duration": 51,
        "start_time": "2022-02-07T14:29:51.092Z"
      },
      {
        "duration": 52,
        "start_time": "2022-02-07T14:29:51.160Z"
      },
      {
        "duration": 63,
        "start_time": "2022-02-07T14:29:51.214Z"
      },
      {
        "duration": 61,
        "start_time": "2022-02-07T14:29:51.280Z"
      },
      {
        "duration": 36,
        "start_time": "2022-02-07T14:29:51.359Z"
      },
      {
        "duration": 22,
        "start_time": "2022-02-07T14:29:51.398Z"
      },
      {
        "duration": 55,
        "start_time": "2022-02-07T14:29:51.422Z"
      },
      {
        "duration": 25,
        "start_time": "2022-02-07T14:29:51.479Z"
      },
      {
        "duration": 13605,
        "start_time": "2022-02-07T14:29:51.507Z"
      },
      {
        "duration": 47,
        "start_time": "2022-02-07T14:30:05.114Z"
      },
      {
        "duration": 481,
        "start_time": "2022-02-07T14:30:05.167Z"
      },
      {
        "duration": -174,
        "start_time": "2022-02-07T14:30:05.825Z"
      },
      {
        "duration": -177,
        "start_time": "2022-02-07T14:30:05.829Z"
      },
      {
        "duration": -179,
        "start_time": "2022-02-07T14:30:05.833Z"
      },
      {
        "duration": -181,
        "start_time": "2022-02-07T14:30:05.836Z"
      },
      {
        "duration": -186,
        "start_time": "2022-02-07T14:30:05.842Z"
      },
      {
        "duration": -198,
        "start_time": "2022-02-07T14:30:05.856Z"
      },
      {
        "duration": -200,
        "start_time": "2022-02-07T14:30:05.859Z"
      },
      {
        "duration": -203,
        "start_time": "2022-02-07T14:30:05.864Z"
      },
      {
        "duration": -205,
        "start_time": "2022-02-07T14:30:05.868Z"
      },
      {
        "duration": -207,
        "start_time": "2022-02-07T14:30:05.871Z"
      },
      {
        "duration": -209,
        "start_time": "2022-02-07T14:30:05.875Z"
      },
      {
        "duration": -212,
        "start_time": "2022-02-07T14:30:05.879Z"
      },
      {
        "duration": -215,
        "start_time": "2022-02-07T14:30:05.883Z"
      },
      {
        "duration": -217,
        "start_time": "2022-02-07T14:30:05.886Z"
      },
      {
        "duration": -219,
        "start_time": "2022-02-07T14:30:05.890Z"
      },
      {
        "duration": -222,
        "start_time": "2022-02-07T14:30:05.894Z"
      },
      {
        "duration": -223,
        "start_time": "2022-02-07T14:30:05.897Z"
      },
      {
        "duration": -226,
        "start_time": "2022-02-07T14:30:05.901Z"
      },
      {
        "duration": -228,
        "start_time": "2022-02-07T14:30:05.904Z"
      },
      {
        "duration": -230,
        "start_time": "2022-02-07T14:30:05.908Z"
      },
      {
        "duration": 27,
        "start_time": "2022-02-07T14:32:58.517Z"
      },
      {
        "duration": 32,
        "start_time": "2022-02-07T14:33:24.933Z"
      },
      {
        "duration": 375,
        "start_time": "2022-02-07T14:34:07.777Z"
      },
      {
        "duration": 28,
        "start_time": "2022-02-07T14:34:28.992Z"
      },
      {
        "duration": 27,
        "start_time": "2022-02-07T14:34:39.181Z"
      },
      {
        "duration": 25,
        "start_time": "2022-02-07T14:35:30.466Z"
      },
      {
        "duration": 29,
        "start_time": "2022-02-07T14:36:47.928Z"
      },
      {
        "duration": 1973,
        "start_time": "2022-02-07T14:40:19.655Z"
      },
      {
        "duration": 71,
        "start_time": "2022-02-07T14:40:31.043Z"
      },
      {
        "duration": 125,
        "start_time": "2022-02-07T14:42:15.689Z"
      },
      {
        "duration": 1329,
        "start_time": "2022-02-07T14:42:23.305Z"
      },
      {
        "duration": 524,
        "start_time": "2022-02-07T14:42:24.636Z"
      },
      {
        "duration": 22,
        "start_time": "2022-02-07T14:42:25.163Z"
      },
      {
        "duration": 20,
        "start_time": "2022-02-07T14:42:25.187Z"
      },
      {
        "duration": 71,
        "start_time": "2022-02-07T14:42:25.209Z"
      },
      {
        "duration": 28,
        "start_time": "2022-02-07T14:42:25.283Z"
      },
      {
        "duration": 59,
        "start_time": "2022-02-07T14:42:25.313Z"
      },
      {
        "duration": 13,
        "start_time": "2022-02-07T14:42:25.378Z"
      },
      {
        "duration": 5,
        "start_time": "2022-02-07T14:42:25.394Z"
      },
      {
        "duration": 59,
        "start_time": "2022-02-07T14:42:25.402Z"
      },
      {
        "duration": 11,
        "start_time": "2022-02-07T14:42:25.463Z"
      },
      {
        "duration": 103,
        "start_time": "2022-02-07T14:42:25.477Z"
      },
      {
        "duration": 51,
        "start_time": "2022-02-07T14:42:25.582Z"
      },
      {
        "duration": 72,
        "start_time": "2022-02-07T14:42:25.636Z"
      },
      {
        "duration": 49,
        "start_time": "2022-02-07T14:42:25.711Z"
      },
      {
        "duration": 61,
        "start_time": "2022-02-07T14:42:25.763Z"
      },
      {
        "duration": 53,
        "start_time": "2022-02-07T14:42:25.826Z"
      },
      {
        "duration": 21,
        "start_time": "2022-02-07T14:42:25.882Z"
      },
      {
        "duration": 26,
        "start_time": "2022-02-07T14:42:25.905Z"
      },
      {
        "duration": 50,
        "start_time": "2022-02-07T14:42:25.933Z"
      },
      {
        "duration": 14566,
        "start_time": "2022-02-07T14:42:25.986Z"
      },
      {
        "duration": 31,
        "start_time": "2022-02-07T14:42:40.558Z"
      },
      {
        "duration": 28,
        "start_time": "2022-02-07T14:42:40.594Z"
      },
      {
        "duration": 51,
        "start_time": "2022-02-07T14:42:40.625Z"
      },
      {
        "duration": 42,
        "start_time": "2022-02-07T14:42:40.678Z"
      },
      {
        "duration": 496,
        "start_time": "2022-02-07T14:42:40.723Z"
      },
      {
        "duration": -79,
        "start_time": "2022-02-07T14:42:41.300Z"
      },
      {
        "duration": -80,
        "start_time": "2022-02-07T14:42:41.303Z"
      },
      {
        "duration": -83,
        "start_time": "2022-02-07T14:42:41.307Z"
      },
      {
        "duration": -85,
        "start_time": "2022-02-07T14:42:41.311Z"
      },
      {
        "duration": -88,
        "start_time": "2022-02-07T14:42:41.315Z"
      },
      {
        "duration": -89,
        "start_time": "2022-02-07T14:42:41.318Z"
      },
      {
        "duration": -91,
        "start_time": "2022-02-07T14:42:41.321Z"
      },
      {
        "duration": -92,
        "start_time": "2022-02-07T14:42:41.324Z"
      },
      {
        "duration": -121,
        "start_time": "2022-02-07T14:42:41.354Z"
      },
      {
        "duration": -133,
        "start_time": "2022-02-07T14:42:41.368Z"
      },
      {
        "duration": -136,
        "start_time": "2022-02-07T14:42:41.372Z"
      },
      {
        "duration": -138,
        "start_time": "2022-02-07T14:42:41.376Z"
      },
      {
        "duration": -142,
        "start_time": "2022-02-07T14:42:41.381Z"
      },
      {
        "duration": -143,
        "start_time": "2022-02-07T14:42:41.384Z"
      },
      {
        "duration": -145,
        "start_time": "2022-02-07T14:42:41.388Z"
      },
      {
        "duration": -147,
        "start_time": "2022-02-07T14:42:41.391Z"
      },
      {
        "duration": -150,
        "start_time": "2022-02-07T14:42:41.395Z"
      },
      {
        "duration": -151,
        "start_time": "2022-02-07T14:42:41.398Z"
      },
      {
        "duration": -153,
        "start_time": "2022-02-07T14:42:41.401Z"
      },
      {
        "duration": -154,
        "start_time": "2022-02-07T14:42:41.404Z"
      },
      {
        "duration": 120,
        "start_time": "2022-02-07T14:43:20.269Z"
      },
      {
        "duration": 1390,
        "start_time": "2022-02-07T14:43:28.227Z"
      },
      {
        "duration": 524,
        "start_time": "2022-02-07T14:43:29.620Z"
      },
      {
        "duration": 22,
        "start_time": "2022-02-07T14:43:30.148Z"
      },
      {
        "duration": 20,
        "start_time": "2022-02-07T14:43:30.173Z"
      },
      {
        "duration": 71,
        "start_time": "2022-02-07T14:43:30.195Z"
      },
      {
        "duration": 30,
        "start_time": "2022-02-07T14:43:30.268Z"
      },
      {
        "duration": 61,
        "start_time": "2022-02-07T14:43:30.301Z"
      },
      {
        "duration": 13,
        "start_time": "2022-02-07T14:43:30.366Z"
      },
      {
        "duration": 6,
        "start_time": "2022-02-07T14:43:30.382Z"
      },
      {
        "duration": 28,
        "start_time": "2022-02-07T14:43:30.390Z"
      },
      {
        "duration": 41,
        "start_time": "2022-02-07T14:43:30.421Z"
      },
      {
        "duration": 102,
        "start_time": "2022-02-07T14:43:30.464Z"
      },
      {
        "duration": 49,
        "start_time": "2022-02-07T14:43:30.568Z"
      },
      {
        "duration": 72,
        "start_time": "2022-02-07T14:43:30.619Z"
      },
      {
        "duration": 33,
        "start_time": "2022-02-07T14:43:30.694Z"
      },
      {
        "duration": 88,
        "start_time": "2022-02-07T14:43:30.729Z"
      },
      {
        "duration": 52,
        "start_time": "2022-02-07T14:43:30.819Z"
      },
      {
        "duration": 22,
        "start_time": "2022-02-07T14:43:30.874Z"
      },
      {
        "duration": 30,
        "start_time": "2022-02-07T14:43:30.899Z"
      },
      {
        "duration": 27,
        "start_time": "2022-02-07T14:43:30.963Z"
      },
      {
        "duration": 13310,
        "start_time": "2022-02-07T14:43:30.992Z"
      },
      {
        "duration": 30,
        "start_time": "2022-02-07T14:43:44.304Z"
      },
      {
        "duration": 29,
        "start_time": "2022-02-07T14:43:44.359Z"
      },
      {
        "duration": 26,
        "start_time": "2022-02-07T14:43:44.391Z"
      },
      {
        "duration": 69,
        "start_time": "2022-02-07T14:43:44.420Z"
      },
      {
        "duration": 531,
        "start_time": "2022-02-07T14:43:44.491Z"
      },
      {
        "duration": -91,
        "start_time": "2022-02-07T14:43:45.116Z"
      },
      {
        "duration": -93,
        "start_time": "2022-02-07T14:43:45.120Z"
      },
      {
        "duration": -132,
        "start_time": "2022-02-07T14:43:45.161Z"
      },
      {
        "duration": -136,
        "start_time": "2022-02-07T14:43:45.167Z"
      },
      {
        "duration": -137,
        "start_time": "2022-02-07T14:43:45.170Z"
      },
      {
        "duration": -139,
        "start_time": "2022-02-07T14:43:45.174Z"
      },
      {
        "duration": -141,
        "start_time": "2022-02-07T14:43:45.178Z"
      },
      {
        "duration": -145,
        "start_time": "2022-02-07T14:43:45.183Z"
      },
      {
        "duration": -148,
        "start_time": "2022-02-07T14:43:45.187Z"
      },
      {
        "duration": -149,
        "start_time": "2022-02-07T14:43:45.191Z"
      },
      {
        "duration": -152,
        "start_time": "2022-02-07T14:43:45.195Z"
      },
      {
        "duration": -155,
        "start_time": "2022-02-07T14:43:45.199Z"
      },
      {
        "duration": -157,
        "start_time": "2022-02-07T14:43:45.203Z"
      },
      {
        "duration": -160,
        "start_time": "2022-02-07T14:43:45.207Z"
      },
      {
        "duration": -163,
        "start_time": "2022-02-07T14:43:45.211Z"
      },
      {
        "duration": -166,
        "start_time": "2022-02-07T14:43:45.216Z"
      },
      {
        "duration": -167,
        "start_time": "2022-02-07T14:43:45.219Z"
      },
      {
        "duration": -170,
        "start_time": "2022-02-07T14:43:45.223Z"
      },
      {
        "duration": -172,
        "start_time": "2022-02-07T14:43:45.227Z"
      },
      {
        "duration": -177,
        "start_time": "2022-02-07T14:43:45.233Z"
      },
      {
        "duration": 399,
        "start_time": "2022-02-07T14:45:44.652Z"
      },
      {
        "duration": 9825,
        "start_time": "2022-02-07T14:47:38.528Z"
      },
      {
        "duration": 406,
        "start_time": "2022-02-07T14:49:26.084Z"
      },
      {
        "duration": 20,
        "start_time": "2022-02-07T14:53:32.975Z"
      },
      {
        "duration": 7,
        "start_time": "2022-02-07T14:54:10.998Z"
      },
      {
        "duration": 427,
        "start_time": "2022-02-07T14:55:55.255Z"
      },
      {
        "duration": 23,
        "start_time": "2022-02-07T15:35:02.644Z"
      },
      {
        "duration": 27,
        "start_time": "2022-02-07T15:35:13.683Z"
      },
      {
        "duration": 1529,
        "start_time": "2022-02-07T15:35:27.883Z"
      },
      {
        "duration": 535,
        "start_time": "2022-02-07T15:35:29.414Z"
      },
      {
        "duration": 21,
        "start_time": "2022-02-07T15:35:29.951Z"
      },
      {
        "duration": 22,
        "start_time": "2022-02-07T15:35:29.975Z"
      },
      {
        "duration": 68,
        "start_time": "2022-02-07T15:35:30.000Z"
      },
      {
        "duration": 28,
        "start_time": "2022-02-07T15:35:30.070Z"
      },
      {
        "duration": 66,
        "start_time": "2022-02-07T15:35:30.100Z"
      },
      {
        "duration": 15,
        "start_time": "2022-02-07T15:35:30.170Z"
      },
      {
        "duration": 7,
        "start_time": "2022-02-07T15:35:30.188Z"
      },
      {
        "duration": 25,
        "start_time": "2022-02-07T15:35:30.197Z"
      },
      {
        "duration": 41,
        "start_time": "2022-02-07T15:35:30.225Z"
      },
      {
        "duration": 92,
        "start_time": "2022-02-07T15:35:30.269Z"
      },
      {
        "duration": 52,
        "start_time": "2022-02-07T15:35:30.363Z"
      },
      {
        "duration": 68,
        "start_time": "2022-02-07T15:35:30.417Z"
      },
      {
        "duration": 32,
        "start_time": "2022-02-07T15:35:30.487Z"
      },
      {
        "duration": 86,
        "start_time": "2022-02-07T15:35:30.521Z"
      },
      {
        "duration": 55,
        "start_time": "2022-02-07T15:35:30.610Z"
      },
      {
        "duration": 22,
        "start_time": "2022-02-07T15:35:30.668Z"
      },
      {
        "duration": 37,
        "start_time": "2022-02-07T15:35:30.692Z"
      },
      {
        "duration": 51,
        "start_time": "2022-02-07T15:35:30.731Z"
      },
      {
        "duration": 12649,
        "start_time": "2022-02-07T15:35:30.784Z"
      },
      {
        "duration": 38,
        "start_time": "2022-02-07T15:35:43.435Z"
      },
      {
        "duration": 26,
        "start_time": "2022-02-07T15:35:43.478Z"
      },
      {
        "duration": 51,
        "start_time": "2022-02-07T15:35:43.508Z"
      },
      {
        "duration": 7,
        "start_time": "2022-02-07T15:35:43.561Z"
      },
      {
        "duration": 37,
        "start_time": "2022-02-07T15:35:43.570Z"
      },
      {
        "duration": 57,
        "start_time": "2022-02-07T15:35:43.610Z"
      },
      {
        "duration": 1212,
        "start_time": "2022-02-07T15:35:43.669Z"
      },
      {
        "duration": -136,
        "start_time": "2022-02-07T15:35:45.019Z"
      },
      {
        "duration": -159,
        "start_time": "2022-02-07T15:35:45.044Z"
      },
      {
        "duration": -165,
        "start_time": "2022-02-07T15:35:45.051Z"
      },
      {
        "duration": -179,
        "start_time": "2022-02-07T15:35:45.066Z"
      },
      {
        "duration": -194,
        "start_time": "2022-02-07T15:35:45.082Z"
      },
      {
        "duration": -218,
        "start_time": "2022-02-07T15:35:45.108Z"
      },
      {
        "duration": -229,
        "start_time": "2022-02-07T15:35:45.121Z"
      },
      {
        "duration": -252,
        "start_time": "2022-02-07T15:35:45.145Z"
      },
      {
        "duration": -268,
        "start_time": "2022-02-07T15:35:45.163Z"
      },
      {
        "duration": -270,
        "start_time": "2022-02-07T15:35:45.166Z"
      },
      {
        "duration": -280,
        "start_time": "2022-02-07T15:35:45.177Z"
      },
      {
        "duration": -281,
        "start_time": "2022-02-07T15:35:45.180Z"
      },
      {
        "duration": -290,
        "start_time": "2022-02-07T15:35:45.190Z"
      },
      {
        "duration": -293,
        "start_time": "2022-02-07T15:35:45.194Z"
      },
      {
        "duration": -296,
        "start_time": "2022-02-07T15:35:45.199Z"
      },
      {
        "duration": -304,
        "start_time": "2022-02-07T15:35:45.208Z"
      },
      {
        "duration": -308,
        "start_time": "2022-02-07T15:35:45.213Z"
      },
      {
        "duration": -310,
        "start_time": "2022-02-07T15:35:45.216Z"
      },
      {
        "duration": -318,
        "start_time": "2022-02-07T15:35:45.225Z"
      },
      {
        "duration": -320,
        "start_time": "2022-02-07T15:35:45.229Z"
      },
      {
        "duration": 36,
        "start_time": "2022-02-07T15:36:51.638Z"
      },
      {
        "duration": 47,
        "start_time": "2022-02-07T15:37:11.519Z"
      },
      {
        "duration": 1421,
        "start_time": "2022-02-07T15:37:16.820Z"
      },
      {
        "duration": 555,
        "start_time": "2022-02-07T15:37:18.244Z"
      },
      {
        "duration": 27,
        "start_time": "2022-02-07T15:37:18.803Z"
      },
      {
        "duration": 39,
        "start_time": "2022-02-07T15:37:18.833Z"
      },
      {
        "duration": 40,
        "start_time": "2022-02-07T15:37:18.875Z"
      },
      {
        "duration": 61,
        "start_time": "2022-02-07T15:37:18.917Z"
      },
      {
        "duration": 32,
        "start_time": "2022-02-07T15:37:18.980Z"
      },
      {
        "duration": 49,
        "start_time": "2022-02-07T15:37:19.016Z"
      },
      {
        "duration": 6,
        "start_time": "2022-02-07T15:37:19.068Z"
      },
      {
        "duration": 31,
        "start_time": "2022-02-07T15:37:19.077Z"
      },
      {
        "duration": 11,
        "start_time": "2022-02-07T15:37:19.111Z"
      },
      {
        "duration": 111,
        "start_time": "2022-02-07T15:37:19.124Z"
      },
      {
        "duration": 66,
        "start_time": "2022-02-07T15:37:19.238Z"
      },
      {
        "duration": 69,
        "start_time": "2022-02-07T15:37:19.307Z"
      },
      {
        "duration": 34,
        "start_time": "2022-02-07T15:37:19.379Z"
      },
      {
        "duration": 80,
        "start_time": "2022-02-07T15:37:19.416Z"
      },
      {
        "duration": 35,
        "start_time": "2022-02-07T15:37:19.498Z"
      },
      {
        "duration": 47,
        "start_time": "2022-02-07T15:37:19.535Z"
      },
      {
        "duration": 31,
        "start_time": "2022-02-07T15:37:19.585Z"
      },
      {
        "duration": 58,
        "start_time": "2022-02-07T15:37:19.619Z"
      },
      {
        "duration": 12412,
        "start_time": "2022-02-07T15:37:19.680Z"
      },
      {
        "duration": 28,
        "start_time": "2022-02-07T15:37:32.095Z"
      },
      {
        "duration": 47,
        "start_time": "2022-02-07T15:37:32.129Z"
      },
      {
        "duration": 25,
        "start_time": "2022-02-07T15:37:32.179Z"
      },
      {
        "duration": 54,
        "start_time": "2022-02-07T15:37:32.207Z"
      },
      {
        "duration": 47,
        "start_time": "2022-02-07T15:37:32.265Z"
      },
      {
        "duration": 482,
        "start_time": "2022-02-07T15:37:32.315Z"
      },
      {
        "duration": -99,
        "start_time": "2022-02-07T15:37:32.898Z"
      },
      {
        "duration": -104,
        "start_time": "2022-02-07T15:37:32.905Z"
      },
      {
        "duration": -108,
        "start_time": "2022-02-07T15:37:32.911Z"
      },
      {
        "duration": -118,
        "start_time": "2022-02-07T15:37:32.922Z"
      },
      {
        "duration": -122,
        "start_time": "2022-02-07T15:37:32.928Z"
      },
      {
        "duration": -131,
        "start_time": "2022-02-07T15:37:32.938Z"
      },
      {
        "duration": -136,
        "start_time": "2022-02-07T15:37:32.945Z"
      },
      {
        "duration": -144,
        "start_time": "2022-02-07T15:37:32.954Z"
      },
      {
        "duration": -148,
        "start_time": "2022-02-07T15:37:32.960Z"
      },
      {
        "duration": -195,
        "start_time": "2022-02-07T15:37:33.008Z"
      },
      {
        "duration": -199,
        "start_time": "2022-02-07T15:37:33.014Z"
      },
      {
        "duration": -202,
        "start_time": "2022-02-07T15:37:33.018Z"
      },
      {
        "duration": -206,
        "start_time": "2022-02-07T15:37:33.024Z"
      },
      {
        "duration": -210,
        "start_time": "2022-02-07T15:37:33.029Z"
      },
      {
        "duration": -213,
        "start_time": "2022-02-07T15:37:33.033Z"
      },
      {
        "duration": -215,
        "start_time": "2022-02-07T15:37:33.037Z"
      },
      {
        "duration": -218,
        "start_time": "2022-02-07T15:37:33.041Z"
      },
      {
        "duration": -221,
        "start_time": "2022-02-07T15:37:33.045Z"
      },
      {
        "duration": -224,
        "start_time": "2022-02-07T15:37:33.049Z"
      },
      {
        "duration": -226,
        "start_time": "2022-02-07T15:37:33.053Z"
      },
      {
        "duration": 34238,
        "start_time": "2022-02-07T15:40:10.188Z"
      },
      {
        "duration": 1384,
        "start_time": "2022-02-07T15:41:37.438Z"
      },
      {
        "duration": 519,
        "start_time": "2022-02-07T15:41:38.825Z"
      },
      {
        "duration": 23,
        "start_time": "2022-02-07T15:41:39.348Z"
      },
      {
        "duration": 23,
        "start_time": "2022-02-07T15:41:39.374Z"
      },
      {
        "duration": 71,
        "start_time": "2022-02-07T15:41:39.399Z"
      },
      {
        "duration": 26,
        "start_time": "2022-02-07T15:41:39.473Z"
      },
      {
        "duration": 58,
        "start_time": "2022-02-07T15:41:39.502Z"
      },
      {
        "duration": 16,
        "start_time": "2022-02-07T15:41:39.564Z"
      },
      {
        "duration": 6,
        "start_time": "2022-02-07T15:41:39.583Z"
      },
      {
        "duration": 27,
        "start_time": "2022-02-07T15:41:39.591Z"
      },
      {
        "duration": 11,
        "start_time": "2022-02-07T15:41:39.660Z"
      },
      {
        "duration": 95,
        "start_time": "2022-02-07T15:41:39.674Z"
      },
      {
        "duration": 51,
        "start_time": "2022-02-07T15:41:39.772Z"
      },
      {
        "duration": 69,
        "start_time": "2022-02-07T15:41:39.825Z"
      },
      {
        "duration": 31,
        "start_time": "2022-02-07T15:41:39.896Z"
      },
      {
        "duration": 82,
        "start_time": "2022-02-07T15:41:39.929Z"
      },
      {
        "duration": 57,
        "start_time": "2022-02-07T15:41:40.014Z"
      },
      {
        "duration": 24,
        "start_time": "2022-02-07T15:41:40.074Z"
      },
      {
        "duration": 73,
        "start_time": "2022-02-07T15:41:40.101Z"
      },
      {
        "duration": 24,
        "start_time": "2022-02-07T15:41:40.176Z"
      },
      {
        "duration": 12894,
        "start_time": "2022-02-07T15:41:40.202Z"
      },
      {
        "duration": 29,
        "start_time": "2022-02-07T15:41:53.099Z"
      },
      {
        "duration": 47,
        "start_time": "2022-02-07T15:41:53.132Z"
      },
      {
        "duration": 21,
        "start_time": "2022-02-07T15:41:53.182Z"
      },
      {
        "duration": 23,
        "start_time": "2022-02-07T15:41:53.205Z"
      },
      {
        "duration": 48,
        "start_time": "2022-02-07T15:41:53.259Z"
      },
      {
        "duration": 487,
        "start_time": "2022-02-07T15:41:53.309Z"
      },
      {
        "duration": -123,
        "start_time": "2022-02-07T15:41:53.922Z"
      },
      {
        "duration": -127,
        "start_time": "2022-02-07T15:41:53.927Z"
      },
      {
        "duration": -151,
        "start_time": "2022-02-07T15:41:53.953Z"
      },
      {
        "duration": -157,
        "start_time": "2022-02-07T15:41:53.960Z"
      },
      {
        "duration": -161,
        "start_time": "2022-02-07T15:41:53.966Z"
      },
      {
        "duration": -165,
        "start_time": "2022-02-07T15:41:53.971Z"
      },
      {
        "duration": -168,
        "start_time": "2022-02-07T15:41:53.975Z"
      },
      {
        "duration": -172,
        "start_time": "2022-02-07T15:41:53.981Z"
      },
      {
        "duration": -188,
        "start_time": "2022-02-07T15:41:53.999Z"
      },
      {
        "duration": -192,
        "start_time": "2022-02-07T15:41:54.004Z"
      },
      {
        "duration": -194,
        "start_time": "2022-02-07T15:41:54.007Z"
      },
      {
        "duration": -196,
        "start_time": "2022-02-07T15:41:54.011Z"
      },
      {
        "duration": -212,
        "start_time": "2022-02-07T15:41:54.028Z"
      },
      {
        "duration": -214,
        "start_time": "2022-02-07T15:41:54.032Z"
      },
      {
        "duration": -218,
        "start_time": "2022-02-07T15:41:54.037Z"
      },
      {
        "duration": -219,
        "start_time": "2022-02-07T15:41:54.040Z"
      },
      {
        "duration": -231,
        "start_time": "2022-02-07T15:41:54.053Z"
      },
      {
        "duration": -234,
        "start_time": "2022-02-07T15:41:54.057Z"
      },
      {
        "duration": -245,
        "start_time": "2022-02-07T15:41:54.070Z"
      },
      {
        "duration": -248,
        "start_time": "2022-02-07T15:41:54.074Z"
      },
      {
        "duration": 9997,
        "start_time": "2022-02-07T15:43:13.173Z"
      },
      {
        "duration": 1439,
        "start_time": "2022-02-07T15:43:27.934Z"
      },
      {
        "duration": 795,
        "start_time": "2022-02-07T15:43:29.376Z"
      },
      {
        "duration": 23,
        "start_time": "2022-02-07T15:43:30.175Z"
      },
      {
        "duration": 21,
        "start_time": "2022-02-07T15:43:30.202Z"
      },
      {
        "duration": 71,
        "start_time": "2022-02-07T15:43:30.227Z"
      },
      {
        "duration": 29,
        "start_time": "2022-02-07T15:43:30.300Z"
      },
      {
        "duration": 62,
        "start_time": "2022-02-07T15:43:30.331Z"
      },
      {
        "duration": 20,
        "start_time": "2022-02-07T15:43:30.399Z"
      },
      {
        "duration": 42,
        "start_time": "2022-02-07T15:43:30.423Z"
      },
      {
        "duration": 29,
        "start_time": "2022-02-07T15:43:30.468Z"
      },
      {
        "duration": 15,
        "start_time": "2022-02-07T15:43:30.500Z"
      },
      {
        "duration": 113,
        "start_time": "2022-02-07T15:43:30.517Z"
      },
      {
        "duration": 63,
        "start_time": "2022-02-07T15:43:30.633Z"
      },
      {
        "duration": 93,
        "start_time": "2022-02-07T15:43:30.699Z"
      },
      {
        "duration": 71,
        "start_time": "2022-02-07T15:43:30.796Z"
      },
      {
        "duration": 117,
        "start_time": "2022-02-07T15:43:30.870Z"
      },
      {
        "duration": 70,
        "start_time": "2022-02-07T15:43:30.990Z"
      },
      {
        "duration": 29,
        "start_time": "2022-02-07T15:43:31.063Z"
      },
      {
        "duration": 30,
        "start_time": "2022-02-07T15:43:31.094Z"
      },
      {
        "duration": 72,
        "start_time": "2022-02-07T15:43:31.127Z"
      },
      {
        "duration": 16012,
        "start_time": "2022-02-07T15:43:31.202Z"
      },
      {
        "duration": 54,
        "start_time": "2022-02-07T15:43:47.217Z"
      },
      {
        "duration": 23,
        "start_time": "2022-02-07T15:43:47.276Z"
      },
      {
        "duration": 22,
        "start_time": "2022-02-07T15:43:47.303Z"
      },
      {
        "duration": 23,
        "start_time": "2022-02-07T15:43:47.359Z"
      },
      {
        "duration": 36,
        "start_time": "2022-02-07T15:43:47.385Z"
      },
      {
        "duration": 478,
        "start_time": "2022-02-07T15:43:47.423Z"
      },
      {
        "duration": -91,
        "start_time": "2022-02-07T15:43:47.995Z"
      },
      {
        "duration": -116,
        "start_time": "2022-02-07T15:43:48.021Z"
      },
      {
        "duration": -118,
        "start_time": "2022-02-07T15:43:48.025Z"
      },
      {
        "duration": -121,
        "start_time": "2022-02-07T15:43:48.029Z"
      },
      {
        "duration": -131,
        "start_time": "2022-02-07T15:43:48.042Z"
      },
      {
        "duration": -135,
        "start_time": "2022-02-07T15:43:48.047Z"
      },
      {
        "duration": -144,
        "start_time": "2022-02-07T15:43:48.058Z"
      },
      {
        "duration": -154,
        "start_time": "2022-02-07T15:43:48.070Z"
      },
      {
        "duration": -162,
        "start_time": "2022-02-07T15:43:48.079Z"
      },
      {
        "duration": -167,
        "start_time": "2022-02-07T15:43:48.086Z"
      },
      {
        "duration": -168,
        "start_time": "2022-02-07T15:43:48.089Z"
      },
      {
        "duration": -169,
        "start_time": "2022-02-07T15:43:48.092Z"
      },
      {
        "duration": -172,
        "start_time": "2022-02-07T15:43:48.096Z"
      },
      {
        "duration": -174,
        "start_time": "2022-02-07T15:43:48.099Z"
      },
      {
        "duration": -175,
        "start_time": "2022-02-07T15:43:48.102Z"
      },
      {
        "duration": -177,
        "start_time": "2022-02-07T15:43:48.105Z"
      },
      {
        "duration": -179,
        "start_time": "2022-02-07T15:43:48.109Z"
      },
      {
        "duration": -180,
        "start_time": "2022-02-07T15:43:48.112Z"
      },
      {
        "duration": -183,
        "start_time": "2022-02-07T15:43:48.116Z"
      },
      {
        "duration": -182,
        "start_time": "2022-02-07T15:43:48.118Z"
      },
      {
        "duration": 123,
        "start_time": "2022-02-07T15:56:22.638Z"
      },
      {
        "duration": 362,
        "start_time": "2022-02-07T15:56:33.647Z"
      },
      {
        "duration": 374,
        "start_time": "2022-02-07T15:57:00.304Z"
      },
      {
        "duration": 50,
        "start_time": "2022-02-07T16:07:29.962Z"
      },
      {
        "duration": 34,
        "start_time": "2022-02-07T16:08:14.372Z"
      },
      {
        "duration": 115,
        "start_time": "2022-02-07T16:09:10.214Z"
      },
      {
        "duration": 200,
        "start_time": "2022-02-07T16:10:08.546Z"
      },
      {
        "duration": 121,
        "start_time": "2022-02-07T16:10:16.288Z"
      },
      {
        "duration": 39,
        "start_time": "2022-02-07T16:10:44.753Z"
      },
      {
        "duration": 38,
        "start_time": "2022-02-07T16:10:52.993Z"
      },
      {
        "duration": 1778,
        "start_time": "2022-02-07T16:11:26.905Z"
      },
      {
        "duration": 743,
        "start_time": "2022-02-07T16:11:28.686Z"
      },
      {
        "duration": 33,
        "start_time": "2022-02-07T16:11:29.434Z"
      },
      {
        "duration": 26,
        "start_time": "2022-02-07T16:11:29.470Z"
      },
      {
        "duration": 73,
        "start_time": "2022-02-07T16:11:29.498Z"
      },
      {
        "duration": 27,
        "start_time": "2022-02-07T16:11:29.573Z"
      },
      {
        "duration": 69,
        "start_time": "2022-02-07T16:11:29.603Z"
      },
      {
        "duration": 13,
        "start_time": "2022-02-07T16:11:29.675Z"
      },
      {
        "duration": 7,
        "start_time": "2022-02-07T16:11:29.692Z"
      },
      {
        "duration": 68,
        "start_time": "2022-02-07T16:11:29.703Z"
      },
      {
        "duration": 38,
        "start_time": "2022-02-07T16:11:29.774Z"
      },
      {
        "duration": 97,
        "start_time": "2022-02-07T16:11:29.815Z"
      },
      {
        "duration": 62,
        "start_time": "2022-02-07T16:11:29.914Z"
      },
      {
        "duration": 53,
        "start_time": "2022-02-07T16:11:29.978Z"
      },
      {
        "duration": 55,
        "start_time": "2022-02-07T16:11:30.033Z"
      },
      {
        "duration": 84,
        "start_time": "2022-02-07T16:11:30.090Z"
      },
      {
        "duration": 35,
        "start_time": "2022-02-07T16:11:30.176Z"
      },
      {
        "duration": 49,
        "start_time": "2022-02-07T16:11:30.214Z"
      },
      {
        "duration": 29,
        "start_time": "2022-02-07T16:11:30.265Z"
      },
      {
        "duration": 25,
        "start_time": "2022-02-07T16:11:30.296Z"
      },
      {
        "duration": 19111,
        "start_time": "2022-02-07T16:11:30.324Z"
      },
      {
        "duration": 44,
        "start_time": "2022-02-07T16:11:49.438Z"
      },
      {
        "duration": 24,
        "start_time": "2022-02-07T16:11:49.489Z"
      },
      {
        "duration": 48,
        "start_time": "2022-02-07T16:11:49.517Z"
      },
      {
        "duration": 24,
        "start_time": "2022-02-07T16:11:49.567Z"
      },
      {
        "duration": 68,
        "start_time": "2022-02-07T16:11:49.593Z"
      },
      {
        "duration": 36,
        "start_time": "2022-02-07T16:11:49.664Z"
      },
      {
        "duration": 470,
        "start_time": "2022-02-07T16:11:49.702Z"
      },
      {
        "duration": -178,
        "start_time": "2022-02-07T16:11:50.352Z"
      },
      {
        "duration": -181,
        "start_time": "2022-02-07T16:11:50.356Z"
      },
      {
        "duration": -183,
        "start_time": "2022-02-07T16:11:50.360Z"
      },
      {
        "duration": -185,
        "start_time": "2022-02-07T16:11:50.363Z"
      },
      {
        "duration": -193,
        "start_time": "2022-02-07T16:11:50.372Z"
      },
      {
        "duration": -202,
        "start_time": "2022-02-07T16:11:50.383Z"
      },
      {
        "duration": -206,
        "start_time": "2022-02-07T16:11:50.388Z"
      },
      {
        "duration": -208,
        "start_time": "2022-02-07T16:11:50.392Z"
      },
      {
        "duration": -211,
        "start_time": "2022-02-07T16:11:50.396Z"
      },
      {
        "duration": -212,
        "start_time": "2022-02-07T16:11:50.399Z"
      },
      {
        "duration": -214,
        "start_time": "2022-02-07T16:11:50.403Z"
      },
      {
        "duration": -216,
        "start_time": "2022-02-07T16:11:50.406Z"
      },
      {
        "duration": -218,
        "start_time": "2022-02-07T16:11:50.410Z"
      },
      {
        "duration": -221,
        "start_time": "2022-02-07T16:11:50.414Z"
      },
      {
        "duration": -223,
        "start_time": "2022-02-07T16:11:50.418Z"
      },
      {
        "duration": -226,
        "start_time": "2022-02-07T16:11:50.422Z"
      },
      {
        "duration": -227,
        "start_time": "2022-02-07T16:11:50.425Z"
      },
      {
        "duration": -230,
        "start_time": "2022-02-07T16:11:50.429Z"
      },
      {
        "duration": -232,
        "start_time": "2022-02-07T16:11:50.432Z"
      },
      {
        "duration": -242,
        "start_time": "2022-02-07T16:11:50.444Z"
      },
      {
        "duration": 36,
        "start_time": "2022-02-07T16:16:36.864Z"
      },
      {
        "duration": 11084,
        "start_time": "2022-02-07T16:17:14.429Z"
      },
      {
        "duration": 31,
        "start_time": "2022-02-07T16:17:44.602Z"
      },
      {
        "duration": 38,
        "start_time": "2022-02-07T16:17:51.936Z"
      },
      {
        "duration": 55,
        "start_time": "2022-02-07T16:17:59.449Z"
      },
      {
        "duration": 1403,
        "start_time": "2022-02-07T16:18:09.626Z"
      },
      {
        "duration": 520,
        "start_time": "2022-02-07T16:18:11.031Z"
      },
      {
        "duration": 21,
        "start_time": "2022-02-07T16:18:11.555Z"
      },
      {
        "duration": 19,
        "start_time": "2022-02-07T16:18:11.579Z"
      },
      {
        "duration": 71,
        "start_time": "2022-02-07T16:18:11.600Z"
      },
      {
        "duration": 27,
        "start_time": "2022-02-07T16:18:11.674Z"
      },
      {
        "duration": 56,
        "start_time": "2022-02-07T16:18:11.703Z"
      },
      {
        "duration": 14,
        "start_time": "2022-02-07T16:18:11.763Z"
      },
      {
        "duration": 6,
        "start_time": "2022-02-07T16:18:11.780Z"
      },
      {
        "duration": 27,
        "start_time": "2022-02-07T16:18:11.788Z"
      },
      {
        "duration": 47,
        "start_time": "2022-02-07T16:18:11.817Z"
      },
      {
        "duration": 103,
        "start_time": "2022-02-07T16:18:11.867Z"
      },
      {
        "duration": 51,
        "start_time": "2022-02-07T16:18:11.973Z"
      },
      {
        "duration": 73,
        "start_time": "2022-02-07T16:18:12.026Z"
      },
      {
        "duration": 33,
        "start_time": "2022-02-07T16:18:12.102Z"
      },
      {
        "duration": 84,
        "start_time": "2022-02-07T16:18:12.137Z"
      },
      {
        "duration": 50,
        "start_time": "2022-02-07T16:18:12.224Z"
      },
      {
        "duration": 22,
        "start_time": "2022-02-07T16:18:12.276Z"
      },
      {
        "duration": 28,
        "start_time": "2022-02-07T16:18:12.300Z"
      },
      {
        "duration": 48,
        "start_time": "2022-02-07T16:18:12.331Z"
      },
      {
        "duration": 13032,
        "start_time": "2022-02-07T16:18:12.382Z"
      },
      {
        "duration": 43,
        "start_time": "2022-02-07T16:18:25.417Z"
      },
      {
        "duration": 30,
        "start_time": "2022-02-07T16:18:25.467Z"
      },
      {
        "duration": 23,
        "start_time": "2022-02-07T16:18:25.500Z"
      },
      {
        "duration": 56,
        "start_time": "2022-02-07T16:18:25.526Z"
      },
      {
        "duration": 43,
        "start_time": "2022-02-07T16:18:25.584Z"
      },
      {
        "duration": 68,
        "start_time": "2022-02-07T16:18:25.630Z"
      },
      {
        "duration": 659,
        "start_time": "2022-02-07T16:18:25.701Z"
      },
      {
        "duration": -190,
        "start_time": "2022-02-07T16:18:26.552Z"
      },
      {
        "duration": -191,
        "start_time": "2022-02-07T16:18:26.555Z"
      },
      {
        "duration": -195,
        "start_time": "2022-02-07T16:18:26.560Z"
      },
      {
        "duration": -200,
        "start_time": "2022-02-07T16:18:26.566Z"
      },
      {
        "duration": -213,
        "start_time": "2022-02-07T16:18:26.580Z"
      },
      {
        "duration": -216,
        "start_time": "2022-02-07T16:18:26.585Z"
      },
      {
        "duration": -219,
        "start_time": "2022-02-07T16:18:26.589Z"
      },
      {
        "duration": -222,
        "start_time": "2022-02-07T16:18:26.593Z"
      },
      {
        "duration": -225,
        "start_time": "2022-02-07T16:18:26.597Z"
      },
      {
        "duration": -227,
        "start_time": "2022-02-07T16:18:26.601Z"
      },
      {
        "duration": -229,
        "start_time": "2022-02-07T16:18:26.604Z"
      },
      {
        "duration": -230,
        "start_time": "2022-02-07T16:18:26.607Z"
      },
      {
        "duration": -233,
        "start_time": "2022-02-07T16:18:26.611Z"
      },
      {
        "duration": -235,
        "start_time": "2022-02-07T16:18:26.614Z"
      },
      {
        "duration": -237,
        "start_time": "2022-02-07T16:18:26.618Z"
      },
      {
        "duration": -237,
        "start_time": "2022-02-07T16:18:26.621Z"
      },
      {
        "duration": -239,
        "start_time": "2022-02-07T16:18:26.625Z"
      },
      {
        "duration": -242,
        "start_time": "2022-02-07T16:18:26.629Z"
      },
      {
        "duration": -244,
        "start_time": "2022-02-07T16:18:26.633Z"
      },
      {
        "duration": -247,
        "start_time": "2022-02-07T16:18:26.637Z"
      },
      {
        "duration": 28,
        "start_time": "2022-02-07T16:30:24.556Z"
      },
      {
        "duration": 374,
        "start_time": "2022-02-07T16:31:38.203Z"
      },
      {
        "duration": 1863,
        "start_time": "2022-02-07T16:31:54.166Z"
      },
      {
        "duration": 1003,
        "start_time": "2022-02-07T16:31:56.033Z"
      },
      {
        "duration": 37,
        "start_time": "2022-02-07T16:31:57.039Z"
      },
      {
        "duration": 22,
        "start_time": "2022-02-07T16:31:57.079Z"
      },
      {
        "duration": 71,
        "start_time": "2022-02-07T16:31:57.103Z"
      },
      {
        "duration": 28,
        "start_time": "2022-02-07T16:31:57.176Z"
      },
      {
        "duration": 60,
        "start_time": "2022-02-07T16:31:57.207Z"
      },
      {
        "duration": 14,
        "start_time": "2022-02-07T16:31:57.271Z"
      },
      {
        "duration": 6,
        "start_time": "2022-02-07T16:31:57.288Z"
      },
      {
        "duration": 25,
        "start_time": "2022-02-07T16:31:57.296Z"
      },
      {
        "duration": 43,
        "start_time": "2022-02-07T16:31:57.324Z"
      },
      {
        "duration": 95,
        "start_time": "2022-02-07T16:31:57.370Z"
      },
      {
        "duration": 50,
        "start_time": "2022-02-07T16:31:57.467Z"
      },
      {
        "duration": 76,
        "start_time": "2022-02-07T16:31:57.520Z"
      },
      {
        "duration": 35,
        "start_time": "2022-02-07T16:31:57.599Z"
      },
      {
        "duration": 81,
        "start_time": "2022-02-07T16:31:57.636Z"
      },
      {
        "duration": 63,
        "start_time": "2022-02-07T16:31:57.719Z"
      },
      {
        "duration": 22,
        "start_time": "2022-02-07T16:31:57.784Z"
      },
      {
        "duration": 58,
        "start_time": "2022-02-07T16:31:57.809Z"
      },
      {
        "duration": 32,
        "start_time": "2022-02-07T16:31:57.870Z"
      },
      {
        "duration": 12855,
        "start_time": "2022-02-07T16:31:57.904Z"
      },
      {
        "duration": 30,
        "start_time": "2022-02-07T16:32:10.761Z"
      },
      {
        "duration": 24,
        "start_time": "2022-02-07T16:32:10.797Z"
      },
      {
        "duration": 55,
        "start_time": "2022-02-07T16:32:10.823Z"
      },
      {
        "duration": 23,
        "start_time": "2022-02-07T16:32:10.880Z"
      },
      {
        "duration": 75,
        "start_time": "2022-02-07T16:32:10.905Z"
      },
      {
        "duration": 38,
        "start_time": "2022-02-07T16:32:10.982Z"
      },
      {
        "duration": 51,
        "start_time": "2022-02-07T16:32:11.023Z"
      },
      {
        "duration": 57,
        "start_time": "2022-02-07T16:32:11.077Z"
      },
      {
        "duration": 9053,
        "start_time": "2022-02-07T16:32:11.136Z"
      },
      {
        "duration": -230,
        "start_time": "2022-02-07T16:32:20.421Z"
      },
      {
        "duration": -243,
        "start_time": "2022-02-07T16:32:20.435Z"
      },
      {
        "duration": -248,
        "start_time": "2022-02-07T16:32:20.441Z"
      },
      {
        "duration": -251,
        "start_time": "2022-02-07T16:32:20.446Z"
      },
      {
        "duration": -254,
        "start_time": "2022-02-07T16:32:20.450Z"
      },
      {
        "duration": -256,
        "start_time": "2022-02-07T16:32:20.454Z"
      },
      {
        "duration": -260,
        "start_time": "2022-02-07T16:32:20.459Z"
      },
      {
        "duration": -263,
        "start_time": "2022-02-07T16:32:20.463Z"
      },
      {
        "duration": -265,
        "start_time": "2022-02-07T16:32:20.467Z"
      },
      {
        "duration": -269,
        "start_time": "2022-02-07T16:32:20.472Z"
      },
      {
        "duration": -271,
        "start_time": "2022-02-07T16:32:20.476Z"
      },
      {
        "duration": -274,
        "start_time": "2022-02-07T16:32:20.480Z"
      },
      {
        "duration": -276,
        "start_time": "2022-02-07T16:32:20.484Z"
      },
      {
        "duration": -278,
        "start_time": "2022-02-07T16:32:20.488Z"
      },
      {
        "duration": -290,
        "start_time": "2022-02-07T16:32:20.501Z"
      },
      {
        "duration": -292,
        "start_time": "2022-02-07T16:32:20.505Z"
      },
      {
        "duration": -296,
        "start_time": "2022-02-07T16:32:20.510Z"
      },
      {
        "duration": -298,
        "start_time": "2022-02-07T16:32:20.514Z"
      },
      {
        "duration": -302,
        "start_time": "2022-02-07T16:32:20.519Z"
      },
      {
        "duration": -304,
        "start_time": "2022-02-07T16:32:20.523Z"
      },
      {
        "duration": 373,
        "start_time": "2022-02-07T16:33:12.827Z"
      },
      {
        "duration": 1383,
        "start_time": "2022-02-07T16:33:22.437Z"
      },
      {
        "duration": 532,
        "start_time": "2022-02-07T16:33:23.824Z"
      },
      {
        "duration": 23,
        "start_time": "2022-02-07T16:33:24.360Z"
      },
      {
        "duration": 21,
        "start_time": "2022-02-07T16:33:24.387Z"
      },
      {
        "duration": 79,
        "start_time": "2022-02-07T16:33:24.411Z"
      },
      {
        "duration": 28,
        "start_time": "2022-02-07T16:33:24.493Z"
      },
      {
        "duration": 63,
        "start_time": "2022-02-07T16:33:24.524Z"
      },
      {
        "duration": 15,
        "start_time": "2022-02-07T16:33:24.590Z"
      },
      {
        "duration": 6,
        "start_time": "2022-02-07T16:33:24.611Z"
      },
      {
        "duration": 67,
        "start_time": "2022-02-07T16:33:24.620Z"
      },
      {
        "duration": 15,
        "start_time": "2022-02-07T16:33:24.691Z"
      },
      {
        "duration": 173,
        "start_time": "2022-02-07T16:33:24.709Z"
      },
      {
        "duration": 86,
        "start_time": "2022-02-07T16:33:24.884Z"
      },
      {
        "duration": 99,
        "start_time": "2022-02-07T16:33:24.973Z"
      },
      {
        "duration": 46,
        "start_time": "2022-02-07T16:33:25.075Z"
      },
      {
        "duration": 115,
        "start_time": "2022-02-07T16:33:25.124Z"
      },
      {
        "duration": 63,
        "start_time": "2022-02-07T16:33:25.242Z"
      },
      {
        "duration": 26,
        "start_time": "2022-02-07T16:33:25.308Z"
      },
      {
        "duration": 60,
        "start_time": "2022-02-07T16:33:25.337Z"
      },
      {
        "duration": 36,
        "start_time": "2022-02-07T16:33:25.400Z"
      },
      {
        "duration": 13511,
        "start_time": "2022-02-07T16:33:25.460Z"
      },
      {
        "duration": 28,
        "start_time": "2022-02-07T16:33:38.973Z"
      },
      {
        "duration": 23,
        "start_time": "2022-02-07T16:33:39.004Z"
      },
      {
        "duration": 49,
        "start_time": "2022-02-07T16:33:39.029Z"
      },
      {
        "duration": 23,
        "start_time": "2022-02-07T16:33:39.080Z"
      },
      {
        "duration": 71,
        "start_time": "2022-02-07T16:33:39.106Z"
      },
      {
        "duration": 37,
        "start_time": "2022-02-07T16:33:39.183Z"
      },
      {
        "duration": 52,
        "start_time": "2022-02-07T16:33:39.224Z"
      },
      {
        "duration": 37,
        "start_time": "2022-02-07T16:33:39.279Z"
      },
      {
        "duration": 493,
        "start_time": "2022-02-07T16:33:39.318Z"
      },
      {
        "duration": -79,
        "start_time": "2022-02-07T16:33:39.893Z"
      },
      {
        "duration": -82,
        "start_time": "2022-02-07T16:33:39.897Z"
      },
      {
        "duration": -86,
        "start_time": "2022-02-07T16:33:39.902Z"
      },
      {
        "duration": -90,
        "start_time": "2022-02-07T16:33:39.908Z"
      },
      {
        "duration": -93,
        "start_time": "2022-02-07T16:33:39.912Z"
      },
      {
        "duration": -99,
        "start_time": "2022-02-07T16:33:39.919Z"
      },
      {
        "duration": -105,
        "start_time": "2022-02-07T16:33:39.926Z"
      },
      {
        "duration": -108,
        "start_time": "2022-02-07T16:33:39.931Z"
      },
      {
        "duration": -111,
        "start_time": "2022-02-07T16:33:39.935Z"
      },
      {
        "duration": -120,
        "start_time": "2022-02-07T16:33:39.945Z"
      },
      {
        "duration": -123,
        "start_time": "2022-02-07T16:33:39.949Z"
      },
      {
        "duration": -126,
        "start_time": "2022-02-07T16:33:39.953Z"
      },
      {
        "duration": -133,
        "start_time": "2022-02-07T16:33:39.961Z"
      },
      {
        "duration": -137,
        "start_time": "2022-02-07T16:33:39.966Z"
      },
      {
        "duration": -139,
        "start_time": "2022-02-07T16:33:39.969Z"
      },
      {
        "duration": -145,
        "start_time": "2022-02-07T16:33:39.976Z"
      },
      {
        "duration": -148,
        "start_time": "2022-02-07T16:33:39.980Z"
      },
      {
        "duration": -151,
        "start_time": "2022-02-07T16:33:39.984Z"
      },
      {
        "duration": -153,
        "start_time": "2022-02-07T16:33:39.987Z"
      },
      {
        "duration": -160,
        "start_time": "2022-02-07T16:33:39.995Z"
      },
      {
        "duration": -163,
        "start_time": "2022-02-07T16:33:39.999Z"
      },
      {
        "duration": 437,
        "start_time": "2022-02-07T16:34:12.771Z"
      },
      {
        "duration": 1413,
        "start_time": "2022-02-07T16:34:22.140Z"
      },
      {
        "duration": 522,
        "start_time": "2022-02-07T16:34:23.556Z"
      },
      {
        "duration": 21,
        "start_time": "2022-02-07T16:34:24.081Z"
      },
      {
        "duration": 22,
        "start_time": "2022-02-07T16:34:24.105Z"
      },
      {
        "duration": 71,
        "start_time": "2022-02-07T16:34:24.129Z"
      },
      {
        "duration": 59,
        "start_time": "2022-02-07T16:34:24.203Z"
      },
      {
        "duration": 33,
        "start_time": "2022-02-07T16:34:24.265Z"
      },
      {
        "duration": 14,
        "start_time": "2022-02-07T16:34:24.304Z"
      },
      {
        "duration": 39,
        "start_time": "2022-02-07T16:34:24.322Z"
      },
      {
        "duration": 40,
        "start_time": "2022-02-07T16:34:24.364Z"
      },
      {
        "duration": 54,
        "start_time": "2022-02-07T16:34:24.407Z"
      },
      {
        "duration": 132,
        "start_time": "2022-02-07T16:34:24.464Z"
      },
      {
        "duration": 99,
        "start_time": "2022-02-07T16:34:24.598Z"
      },
      {
        "duration": 99,
        "start_time": "2022-02-07T16:34:24.700Z"
      },
      {
        "duration": 157,
        "start_time": "2022-02-07T16:34:24.802Z"
      },
      {
        "duration": 209,
        "start_time": "2022-02-07T16:34:24.962Z"
      },
      {
        "duration": 99,
        "start_time": "2022-02-07T16:34:25.174Z"
      },
      {
        "duration": 23,
        "start_time": "2022-02-07T16:34:25.276Z"
      },
      {
        "duration": 83,
        "start_time": "2022-02-07T16:34:25.301Z"
      },
      {
        "duration": 78,
        "start_time": "2022-02-07T16:34:25.386Z"
      },
      {
        "duration": 12997,
        "start_time": "2022-02-07T16:34:25.467Z"
      },
      {
        "duration": 28,
        "start_time": "2022-02-07T16:34:38.466Z"
      },
      {
        "duration": 23,
        "start_time": "2022-02-07T16:34:38.499Z"
      },
      {
        "duration": 53,
        "start_time": "2022-02-07T16:34:38.525Z"
      },
      {
        "duration": 24,
        "start_time": "2022-02-07T16:34:38.580Z"
      },
      {
        "duration": 70,
        "start_time": "2022-02-07T16:34:38.607Z"
      },
      {
        "duration": 41,
        "start_time": "2022-02-07T16:34:38.680Z"
      },
      {
        "duration": 56,
        "start_time": "2022-02-07T16:34:38.724Z"
      },
      {
        "duration": 43,
        "start_time": "2022-02-07T16:34:38.782Z"
      },
      {
        "duration": 476,
        "start_time": "2022-02-07T16:34:38.827Z"
      },
      {
        "duration": -144,
        "start_time": "2022-02-07T16:34:39.449Z"
      },
      {
        "duration": -147,
        "start_time": "2022-02-07T16:34:39.454Z"
      },
      {
        "duration": -151,
        "start_time": "2022-02-07T16:34:39.459Z"
      },
      {
        "duration": -154,
        "start_time": "2022-02-07T16:34:39.463Z"
      },
      {
        "duration": -155,
        "start_time": "2022-02-07T16:34:39.466Z"
      },
      {
        "duration": -158,
        "start_time": "2022-02-07T16:34:39.470Z"
      },
      {
        "duration": -161,
        "start_time": "2022-02-07T16:34:39.474Z"
      },
      {
        "duration": -163,
        "start_time": "2022-02-07T16:34:39.478Z"
      },
      {
        "duration": -166,
        "start_time": "2022-02-07T16:34:39.482Z"
      },
      {
        "duration": -168,
        "start_time": "2022-02-07T16:34:39.486Z"
      },
      {
        "duration": -169,
        "start_time": "2022-02-07T16:34:39.489Z"
      },
      {
        "duration": -182,
        "start_time": "2022-02-07T16:34:39.503Z"
      },
      {
        "duration": -184,
        "start_time": "2022-02-07T16:34:39.507Z"
      },
      {
        "duration": -187,
        "start_time": "2022-02-07T16:34:39.511Z"
      },
      {
        "duration": -190,
        "start_time": "2022-02-07T16:34:39.515Z"
      },
      {
        "duration": -193,
        "start_time": "2022-02-07T16:34:39.520Z"
      },
      {
        "duration": -196,
        "start_time": "2022-02-07T16:34:39.524Z"
      },
      {
        "duration": -199,
        "start_time": "2022-02-07T16:34:39.528Z"
      },
      {
        "duration": -200,
        "start_time": "2022-02-07T16:34:39.531Z"
      },
      {
        "duration": -203,
        "start_time": "2022-02-07T16:34:39.535Z"
      },
      {
        "duration": -206,
        "start_time": "2022-02-07T16:34:39.539Z"
      },
      {
        "duration": 21180,
        "start_time": "2022-02-07T16:35:41.584Z"
      },
      {
        "duration": 1397,
        "start_time": "2022-02-07T16:36:16.413Z"
      },
      {
        "duration": 521,
        "start_time": "2022-02-07T16:36:17.813Z"
      },
      {
        "duration": 24,
        "start_time": "2022-02-07T16:36:18.338Z"
      },
      {
        "duration": 23,
        "start_time": "2022-02-07T16:36:18.366Z"
      },
      {
        "duration": 70,
        "start_time": "2022-02-07T16:36:18.391Z"
      },
      {
        "duration": 25,
        "start_time": "2022-02-07T16:36:18.464Z"
      },
      {
        "duration": 34,
        "start_time": "2022-02-07T16:36:18.492Z"
      },
      {
        "duration": 15,
        "start_time": "2022-02-07T16:36:18.564Z"
      },
      {
        "duration": 7,
        "start_time": "2022-02-07T16:36:18.583Z"
      },
      {
        "duration": 26,
        "start_time": "2022-02-07T16:36:18.592Z"
      },
      {
        "duration": 48,
        "start_time": "2022-02-07T16:36:18.620Z"
      },
      {
        "duration": 104,
        "start_time": "2022-02-07T16:36:18.671Z"
      },
      {
        "duration": 51,
        "start_time": "2022-02-07T16:36:18.777Z"
      },
      {
        "duration": 68,
        "start_time": "2022-02-07T16:36:18.830Z"
      },
      {
        "duration": 58,
        "start_time": "2022-02-07T16:36:18.901Z"
      },
      {
        "duration": 61,
        "start_time": "2022-02-07T16:36:18.962Z"
      },
      {
        "duration": 60,
        "start_time": "2022-02-07T16:36:19.025Z"
      },
      {
        "duration": 21,
        "start_time": "2022-02-07T16:36:19.088Z"
      },
      {
        "duration": 56,
        "start_time": "2022-02-07T16:36:19.111Z"
      },
      {
        "duration": 27,
        "start_time": "2022-02-07T16:36:19.169Z"
      },
      {
        "duration": 12515,
        "start_time": "2022-02-07T16:36:19.199Z"
      },
      {
        "duration": 27,
        "start_time": "2022-02-07T16:36:31.716Z"
      },
      {
        "duration": 24,
        "start_time": "2022-02-07T16:36:31.763Z"
      },
      {
        "duration": 22,
        "start_time": "2022-02-07T16:36:31.790Z"
      },
      {
        "duration": 58,
        "start_time": "2022-02-07T16:36:31.815Z"
      },
      {
        "duration": 57,
        "start_time": "2022-02-07T16:36:31.876Z"
      },
      {
        "duration": 74,
        "start_time": "2022-02-07T16:36:31.936Z"
      },
      {
        "duration": 48,
        "start_time": "2022-02-07T16:36:32.013Z"
      },
      {
        "duration": 38,
        "start_time": "2022-02-07T16:36:32.064Z"
      },
      {
        "duration": 13390,
        "start_time": "2022-02-07T16:36:32.105Z"
      },
      {
        "duration": -152,
        "start_time": "2022-02-07T16:36:45.649Z"
      },
      {
        "duration": -154,
        "start_time": "2022-02-07T16:36:45.653Z"
      },
      {
        "duration": -158,
        "start_time": "2022-02-07T16:36:45.658Z"
      },
      {
        "duration": -162,
        "start_time": "2022-02-07T16:36:45.663Z"
      },
      {
        "duration": -164,
        "start_time": "2022-02-07T16:36:45.666Z"
      },
      {
        "duration": -166,
        "start_time": "2022-02-07T16:36:45.670Z"
      },
      {
        "duration": -169,
        "start_time": "2022-02-07T16:36:45.674Z"
      },
      {
        "duration": -172,
        "start_time": "2022-02-07T16:36:45.678Z"
      },
      {
        "duration": -174,
        "start_time": "2022-02-07T16:36:45.682Z"
      },
      {
        "duration": -178,
        "start_time": "2022-02-07T16:36:45.687Z"
      },
      {
        "duration": -181,
        "start_time": "2022-02-07T16:36:45.691Z"
      },
      {
        "duration": -182,
        "start_time": "2022-02-07T16:36:45.694Z"
      },
      {
        "duration": -185,
        "start_time": "2022-02-07T16:36:45.698Z"
      },
      {
        "duration": -187,
        "start_time": "2022-02-07T16:36:45.702Z"
      },
      {
        "duration": -190,
        "start_time": "2022-02-07T16:36:45.706Z"
      },
      {
        "duration": -193,
        "start_time": "2022-02-07T16:36:45.710Z"
      },
      {
        "duration": -209,
        "start_time": "2022-02-07T16:36:45.728Z"
      },
      {
        "duration": -215,
        "start_time": "2022-02-07T16:36:45.735Z"
      },
      {
        "duration": -222,
        "start_time": "2022-02-07T16:36:45.744Z"
      },
      {
        "duration": -226,
        "start_time": "2022-02-07T16:36:45.749Z"
      },
      {
        "duration": 34,
        "start_time": "2022-02-07T16:37:29.400Z"
      },
      {
        "duration": 25,
        "start_time": "2022-02-07T16:39:03.154Z"
      },
      {
        "duration": 39,
        "start_time": "2022-02-07T16:40:17.624Z"
      },
      {
        "duration": 742,
        "start_time": "2022-02-07T16:40:28.606Z"
      },
      {
        "duration": 1693,
        "start_time": "2022-02-07T16:40:37.936Z"
      },
      {
        "duration": 570,
        "start_time": "2022-02-07T16:40:39.632Z"
      },
      {
        "duration": 21,
        "start_time": "2022-02-07T16:40:40.205Z"
      },
      {
        "duration": 19,
        "start_time": "2022-02-07T16:40:40.229Z"
      },
      {
        "duration": 48,
        "start_time": "2022-02-07T16:40:40.250Z"
      },
      {
        "duration": 29,
        "start_time": "2022-02-07T16:40:40.301Z"
      },
      {
        "duration": 60,
        "start_time": "2022-02-07T16:40:40.333Z"
      },
      {
        "duration": 15,
        "start_time": "2022-02-07T16:40:40.397Z"
      },
      {
        "duration": 6,
        "start_time": "2022-02-07T16:40:40.416Z"
      },
      {
        "duration": 35,
        "start_time": "2022-02-07T16:40:40.460Z"
      },
      {
        "duration": 11,
        "start_time": "2022-02-07T16:40:40.497Z"
      },
      {
        "duration": 118,
        "start_time": "2022-02-07T16:40:40.510Z"
      },
      {
        "duration": 55,
        "start_time": "2022-02-07T16:40:40.631Z"
      },
      {
        "duration": 53,
        "start_time": "2022-02-07T16:40:40.689Z"
      },
      {
        "duration": 53,
        "start_time": "2022-02-07T16:40:40.745Z"
      },
      {
        "duration": 88,
        "start_time": "2022-02-07T16:40:40.801Z"
      },
      {
        "duration": 35,
        "start_time": "2022-02-07T16:40:40.892Z"
      },
      {
        "duration": 43,
        "start_time": "2022-02-07T16:40:40.930Z"
      },
      {
        "duration": 52,
        "start_time": "2022-02-07T16:40:40.977Z"
      },
      {
        "duration": 50,
        "start_time": "2022-02-07T16:40:41.031Z"
      },
      {
        "duration": 14475,
        "start_time": "2022-02-07T16:40:41.084Z"
      },
      {
        "duration": 28,
        "start_time": "2022-02-07T16:40:55.561Z"
      },
      {
        "duration": 25,
        "start_time": "2022-02-07T16:40:55.594Z"
      },
      {
        "duration": 53,
        "start_time": "2022-02-07T16:40:55.622Z"
      },
      {
        "duration": 25,
        "start_time": "2022-02-07T16:40:55.679Z"
      },
      {
        "duration": 83,
        "start_time": "2022-02-07T16:40:55.707Z"
      },
      {
        "duration": 37,
        "start_time": "2022-02-07T16:40:55.793Z"
      },
      {
        "duration": 37,
        "start_time": "2022-02-07T16:40:55.833Z"
      },
      {
        "duration": 39,
        "start_time": "2022-02-07T16:40:55.873Z"
      },
      {
        "duration": 72,
        "start_time": "2022-02-07T16:40:55.914Z"
      },
      {
        "duration": 30,
        "start_time": "2022-02-07T16:40:55.988Z"
      },
      {
        "duration": 60,
        "start_time": "2022-02-07T16:40:56.021Z"
      },
      {
        "duration": 629,
        "start_time": "2022-02-07T16:40:56.083Z"
      },
      {
        "duration": -184,
        "start_time": "2022-02-07T16:40:56.899Z"
      },
      {
        "duration": -185,
        "start_time": "2022-02-07T16:40:56.903Z"
      },
      {
        "duration": -187,
        "start_time": "2022-02-07T16:40:56.907Z"
      },
      {
        "duration": -189,
        "start_time": "2022-02-07T16:40:56.912Z"
      },
      {
        "duration": -199,
        "start_time": "2022-02-07T16:40:56.925Z"
      },
      {
        "duration": -202,
        "start_time": "2022-02-07T16:40:56.930Z"
      },
      {
        "duration": -211,
        "start_time": "2022-02-07T16:40:56.941Z"
      },
      {
        "duration": -215,
        "start_time": "2022-02-07T16:40:56.947Z"
      },
      {
        "duration": -218,
        "start_time": "2022-02-07T16:40:56.951Z"
      },
      {
        "duration": -221,
        "start_time": "2022-02-07T16:40:56.955Z"
      },
      {
        "duration": -224,
        "start_time": "2022-02-07T16:40:56.959Z"
      },
      {
        "duration": -227,
        "start_time": "2022-02-07T16:40:56.964Z"
      },
      {
        "duration": -230,
        "start_time": "2022-02-07T16:40:56.968Z"
      },
      {
        "duration": -232,
        "start_time": "2022-02-07T16:40:56.972Z"
      },
      {
        "duration": -235,
        "start_time": "2022-02-07T16:40:56.976Z"
      },
      {
        "duration": -239,
        "start_time": "2022-02-07T16:40:56.981Z"
      },
      {
        "duration": -241,
        "start_time": "2022-02-07T16:40:56.985Z"
      },
      {
        "duration": -244,
        "start_time": "2022-02-07T16:40:56.989Z"
      },
      {
        "duration": 37,
        "start_time": "2022-02-07T16:42:50.106Z"
      },
      {
        "duration": 460,
        "start_time": "2022-02-07T16:44:00.952Z"
      },
      {
        "duration": 22,
        "start_time": "2022-02-07T16:44:09.644Z"
      },
      {
        "duration": 493,
        "start_time": "2022-02-07T16:48:03.239Z"
      },
      {
        "duration": 1473,
        "start_time": "2022-02-07T16:48:23.362Z"
      },
      {
        "duration": 568,
        "start_time": "2022-02-07T16:48:24.838Z"
      },
      {
        "duration": 23,
        "start_time": "2022-02-07T16:48:25.409Z"
      },
      {
        "duration": 19,
        "start_time": "2022-02-07T16:48:25.434Z"
      },
      {
        "duration": 38,
        "start_time": "2022-02-07T16:48:25.455Z"
      },
      {
        "duration": 29,
        "start_time": "2022-02-07T16:48:25.496Z"
      },
      {
        "duration": 61,
        "start_time": "2022-02-07T16:48:25.527Z"
      },
      {
        "duration": 14,
        "start_time": "2022-02-07T16:48:25.592Z"
      },
      {
        "duration": 6,
        "start_time": "2022-02-07T16:48:25.609Z"
      },
      {
        "duration": 57,
        "start_time": "2022-02-07T16:48:25.619Z"
      },
      {
        "duration": 11,
        "start_time": "2022-02-07T16:48:25.679Z"
      },
      {
        "duration": 127,
        "start_time": "2022-02-07T16:48:25.692Z"
      },
      {
        "duration": 61,
        "start_time": "2022-02-07T16:48:25.821Z"
      },
      {
        "duration": 57,
        "start_time": "2022-02-07T16:48:25.885Z"
      },
      {
        "duration": 54,
        "start_time": "2022-02-07T16:48:25.944Z"
      },
      {
        "duration": 78,
        "start_time": "2022-02-07T16:48:26.000Z"
      },
      {
        "duration": 34,
        "start_time": "2022-02-07T16:48:26.080Z"
      },
      {
        "duration": 45,
        "start_time": "2022-02-07T16:48:26.117Z"
      },
      {
        "duration": 32,
        "start_time": "2022-02-07T16:48:26.165Z"
      },
      {
        "duration": 24,
        "start_time": "2022-02-07T16:48:26.199Z"
      },
      {
        "duration": 13559,
        "start_time": "2022-02-07T16:48:26.226Z"
      },
      {
        "duration": 27,
        "start_time": "2022-02-07T16:48:39.788Z"
      },
      {
        "duration": 50,
        "start_time": "2022-02-07T16:48:39.822Z"
      },
      {
        "duration": 20,
        "start_time": "2022-02-07T16:48:39.875Z"
      },
      {
        "duration": 26,
        "start_time": "2022-02-07T16:48:39.898Z"
      },
      {
        "duration": 74,
        "start_time": "2022-02-07T16:48:39.926Z"
      },
      {
        "duration": 58,
        "start_time": "2022-02-07T16:48:40.003Z"
      },
      {
        "duration": 21,
        "start_time": "2022-02-07T16:48:40.063Z"
      },
      {
        "duration": 41,
        "start_time": "2022-02-07T16:48:40.087Z"
      },
      {
        "duration": 63,
        "start_time": "2022-02-07T16:48:40.131Z"
      },
      {
        "duration": 24,
        "start_time": "2022-02-07T16:48:40.197Z"
      },
      {
        "duration": 586,
        "start_time": "2022-02-07T16:48:40.224Z"
      },
      {
        "duration": -184,
        "start_time": "2022-02-07T16:48:40.996Z"
      },
      {
        "duration": -194,
        "start_time": "2022-02-07T16:48:41.008Z"
      },
      {
        "duration": -197,
        "start_time": "2022-02-07T16:48:41.013Z"
      },
      {
        "duration": -200,
        "start_time": "2022-02-07T16:48:41.017Z"
      },
      {
        "duration": -203,
        "start_time": "2022-02-07T16:48:41.021Z"
      },
      {
        "duration": -205,
        "start_time": "2022-02-07T16:48:41.025Z"
      },
      {
        "duration": -209,
        "start_time": "2022-02-07T16:48:41.030Z"
      },
      {
        "duration": -211,
        "start_time": "2022-02-07T16:48:41.033Z"
      },
      {
        "duration": -214,
        "start_time": "2022-02-07T16:48:41.037Z"
      },
      {
        "duration": -216,
        "start_time": "2022-02-07T16:48:41.041Z"
      },
      {
        "duration": -219,
        "start_time": "2022-02-07T16:48:41.045Z"
      },
      {
        "duration": -221,
        "start_time": "2022-02-07T16:48:41.049Z"
      },
      {
        "duration": -224,
        "start_time": "2022-02-07T16:48:41.053Z"
      },
      {
        "duration": -225,
        "start_time": "2022-02-07T16:48:41.056Z"
      },
      {
        "duration": -228,
        "start_time": "2022-02-07T16:48:41.060Z"
      },
      {
        "duration": -231,
        "start_time": "2022-02-07T16:48:41.064Z"
      },
      {
        "duration": -232,
        "start_time": "2022-02-07T16:48:41.067Z"
      },
      {
        "duration": -235,
        "start_time": "2022-02-07T16:48:41.071Z"
      },
      {
        "duration": -237,
        "start_time": "2022-02-07T16:48:41.075Z"
      },
      {
        "duration": 1631,
        "start_time": "2022-02-07T16:52:45.859Z"
      },
      {
        "duration": 575,
        "start_time": "2022-02-07T16:52:47.495Z"
      },
      {
        "duration": 23,
        "start_time": "2022-02-07T16:52:48.073Z"
      },
      {
        "duration": 20,
        "start_time": "2022-02-07T16:52:48.098Z"
      },
      {
        "duration": 71,
        "start_time": "2022-02-07T16:52:48.121Z"
      },
      {
        "duration": 37,
        "start_time": "2022-02-07T16:52:48.195Z"
      },
      {
        "duration": 70,
        "start_time": "2022-02-07T16:52:48.235Z"
      },
      {
        "duration": 20,
        "start_time": "2022-02-07T16:52:48.310Z"
      },
      {
        "duration": 8,
        "start_time": "2022-02-07T16:52:48.360Z"
      },
      {
        "duration": 30,
        "start_time": "2022-02-07T16:52:48.371Z"
      },
      {
        "duration": 11,
        "start_time": "2022-02-07T16:52:48.404Z"
      },
      {
        "duration": 116,
        "start_time": "2022-02-07T16:52:48.417Z"
      },
      {
        "duration": 71,
        "start_time": "2022-02-07T16:52:48.536Z"
      },
      {
        "duration": 153,
        "start_time": "2022-02-07T16:52:48.610Z"
      },
      {
        "duration": 95,
        "start_time": "2022-02-07T16:52:48.766Z"
      },
      {
        "duration": 116,
        "start_time": "2022-02-07T16:52:48.863Z"
      },
      {
        "duration": 103,
        "start_time": "2022-02-07T16:52:48.982Z"
      },
      {
        "duration": 80,
        "start_time": "2022-02-07T16:52:49.088Z"
      },
      {
        "duration": 92,
        "start_time": "2022-02-07T16:52:49.171Z"
      },
      {
        "duration": 24,
        "start_time": "2022-02-07T16:52:49.266Z"
      },
      {
        "duration": 12886,
        "start_time": "2022-02-07T16:52:49.292Z"
      },
      {
        "duration": 42,
        "start_time": "2022-02-07T16:53:02.181Z"
      },
      {
        "duration": 55,
        "start_time": "2022-02-07T16:53:02.231Z"
      },
      {
        "duration": 31,
        "start_time": "2022-02-07T16:53:02.290Z"
      },
      {
        "duration": 51,
        "start_time": "2022-02-07T16:53:02.324Z"
      },
      {
        "duration": 46,
        "start_time": "2022-02-07T16:53:02.378Z"
      },
      {
        "duration": 69,
        "start_time": "2022-02-07T16:53:02.426Z"
      },
      {
        "duration": 34,
        "start_time": "2022-02-07T16:53:02.498Z"
      },
      {
        "duration": 55,
        "start_time": "2022-02-07T16:53:02.535Z"
      },
      {
        "duration": 35,
        "start_time": "2022-02-07T16:53:02.593Z"
      },
      {
        "duration": 48,
        "start_time": "2022-02-07T16:53:02.630Z"
      },
      {
        "duration": 497,
        "start_time": "2022-02-07T16:53:02.681Z"
      },
      {
        "duration": -160,
        "start_time": "2022-02-07T16:53:03.342Z"
      },
      {
        "duration": -163,
        "start_time": "2022-02-07T16:53:03.347Z"
      },
      {
        "duration": -165,
        "start_time": "2022-02-07T16:53:03.351Z"
      },
      {
        "duration": -167,
        "start_time": "2022-02-07T16:53:03.356Z"
      },
      {
        "duration": -168,
        "start_time": "2022-02-07T16:53:03.359Z"
      },
      {
        "duration": -171,
        "start_time": "2022-02-07T16:53:03.364Z"
      },
      {
        "duration": -172,
        "start_time": "2022-02-07T16:53:03.367Z"
      },
      {
        "duration": -174,
        "start_time": "2022-02-07T16:53:03.371Z"
      },
      {
        "duration": -175,
        "start_time": "2022-02-07T16:53:03.375Z"
      },
      {
        "duration": -177,
        "start_time": "2022-02-07T16:53:03.379Z"
      },
      {
        "duration": -179,
        "start_time": "2022-02-07T16:53:03.383Z"
      },
      {
        "duration": -181,
        "start_time": "2022-02-07T16:53:03.387Z"
      },
      {
        "duration": -182,
        "start_time": "2022-02-07T16:53:03.391Z"
      },
      {
        "duration": -184,
        "start_time": "2022-02-07T16:53:03.395Z"
      },
      {
        "duration": -194,
        "start_time": "2022-02-07T16:53:03.407Z"
      },
      {
        "duration": -198,
        "start_time": "2022-02-07T16:53:03.413Z"
      },
      {
        "duration": -200,
        "start_time": "2022-02-07T16:53:03.417Z"
      },
      {
        "duration": -202,
        "start_time": "2022-02-07T16:53:03.421Z"
      },
      {
        "duration": -164,
        "start_time": "2022-02-07T16:53:03.424Z"
      },
      {
        "duration": 398,
        "start_time": "2022-02-07T16:53:28.994Z"
      },
      {
        "duration": 397,
        "start_time": "2022-02-07T16:53:53.543Z"
      },
      {
        "duration": 381,
        "start_time": "2022-02-07T16:54:02.200Z"
      },
      {
        "duration": 39,
        "start_time": "2022-02-07T16:54:14.028Z"
      },
      {
        "duration": 1483,
        "start_time": "2022-02-07T16:56:28.250Z"
      },
      {
        "duration": 597,
        "start_time": "2022-02-07T16:56:29.735Z"
      },
      {
        "duration": 24,
        "start_time": "2022-02-07T16:56:30.335Z"
      },
      {
        "duration": 28,
        "start_time": "2022-02-07T16:56:30.363Z"
      },
      {
        "duration": 88,
        "start_time": "2022-02-07T16:56:30.394Z"
      },
      {
        "duration": 40,
        "start_time": "2022-02-07T16:56:30.485Z"
      },
      {
        "duration": 63,
        "start_time": "2022-02-07T16:56:30.528Z"
      },
      {
        "duration": 15,
        "start_time": "2022-02-07T16:56:30.595Z"
      },
      {
        "duration": 44,
        "start_time": "2022-02-07T16:56:30.615Z"
      },
      {
        "duration": 38,
        "start_time": "2022-02-07T16:56:30.663Z"
      },
      {
        "duration": 25,
        "start_time": "2022-02-07T16:56:30.704Z"
      },
      {
        "duration": 156,
        "start_time": "2022-02-07T16:56:30.732Z"
      },
      {
        "duration": 77,
        "start_time": "2022-02-07T16:56:30.891Z"
      },
      {
        "duration": 53,
        "start_time": "2022-02-07T16:56:30.971Z"
      },
      {
        "duration": 59,
        "start_time": "2022-02-07T16:56:31.028Z"
      },
      {
        "duration": 115,
        "start_time": "2022-02-07T16:56:31.089Z"
      },
      {
        "duration": 101,
        "start_time": "2022-02-07T16:56:31.260Z"
      },
      {
        "duration": 29,
        "start_time": "2022-02-07T16:56:31.364Z"
      },
      {
        "duration": 97,
        "start_time": "2022-02-07T16:56:31.396Z"
      },
      {
        "duration": 93,
        "start_time": "2022-02-07T16:56:31.496Z"
      },
      {
        "duration": 18745,
        "start_time": "2022-02-07T16:56:31.592Z"
      },
      {
        "duration": 46,
        "start_time": "2022-02-07T16:56:50.340Z"
      },
      {
        "duration": 33,
        "start_time": "2022-02-07T16:56:50.394Z"
      },
      {
        "duration": 55,
        "start_time": "2022-02-07T16:56:50.431Z"
      },
      {
        "duration": 35,
        "start_time": "2022-02-07T16:56:50.489Z"
      },
      {
        "duration": 78,
        "start_time": "2022-02-07T16:56:50.527Z"
      },
      {
        "duration": 61,
        "start_time": "2022-02-07T16:56:50.609Z"
      },
      {
        "duration": 24,
        "start_time": "2022-02-07T16:56:50.673Z"
      },
      {
        "duration": 9259,
        "start_time": "2022-02-07T16:56:50.700Z"
      },
      {
        "duration": -141,
        "start_time": "2022-02-07T16:57:00.103Z"
      },
      {
        "duration": -145,
        "start_time": "2022-02-07T16:57:00.108Z"
      },
      {
        "duration": -148,
        "start_time": "2022-02-07T16:57:00.112Z"
      },
      {
        "duration": -150,
        "start_time": "2022-02-07T16:57:00.116Z"
      },
      {
        "duration": -152,
        "start_time": "2022-02-07T16:57:00.120Z"
      },
      {
        "duration": -155,
        "start_time": "2022-02-07T16:57:00.124Z"
      },
      {
        "duration": -157,
        "start_time": "2022-02-07T16:57:00.128Z"
      },
      {
        "duration": -160,
        "start_time": "2022-02-07T16:57:00.132Z"
      },
      {
        "duration": -163,
        "start_time": "2022-02-07T16:57:00.136Z"
      },
      {
        "duration": -165,
        "start_time": "2022-02-07T16:57:00.140Z"
      },
      {
        "duration": -169,
        "start_time": "2022-02-07T16:57:00.145Z"
      },
      {
        "duration": -171,
        "start_time": "2022-02-07T16:57:00.149Z"
      },
      {
        "duration": -173,
        "start_time": "2022-02-07T16:57:00.152Z"
      },
      {
        "duration": -175,
        "start_time": "2022-02-07T16:57:00.156Z"
      },
      {
        "duration": -177,
        "start_time": "2022-02-07T16:57:00.160Z"
      },
      {
        "duration": -179,
        "start_time": "2022-02-07T16:57:00.164Z"
      },
      {
        "duration": -191,
        "start_time": "2022-02-07T16:57:00.178Z"
      },
      {
        "duration": -194,
        "start_time": "2022-02-07T16:57:00.183Z"
      },
      {
        "duration": -195,
        "start_time": "2022-02-07T16:57:00.186Z"
      },
      {
        "duration": -198,
        "start_time": "2022-02-07T16:57:00.191Z"
      },
      {
        "duration": -200,
        "start_time": "2022-02-07T16:57:00.195Z"
      },
      {
        "duration": -204,
        "start_time": "2022-02-07T16:57:00.200Z"
      },
      {
        "duration": 382,
        "start_time": "2022-02-07T16:57:18.775Z"
      },
      {
        "duration": 1420,
        "start_time": "2022-02-07T16:57:26.886Z"
      },
      {
        "duration": 795,
        "start_time": "2022-02-07T16:57:28.308Z"
      },
      {
        "duration": 62,
        "start_time": "2022-02-07T16:57:29.122Z"
      },
      {
        "duration": 54,
        "start_time": "2022-02-07T16:57:29.188Z"
      },
      {
        "duration": 161,
        "start_time": "2022-02-07T16:57:29.245Z"
      },
      {
        "duration": 70,
        "start_time": "2022-02-07T16:57:29.412Z"
      },
      {
        "duration": 89,
        "start_time": "2022-02-07T16:57:29.488Z"
      },
      {
        "duration": 20,
        "start_time": "2022-02-07T16:57:29.580Z"
      },
      {
        "duration": 6,
        "start_time": "2022-02-07T16:57:29.659Z"
      },
      {
        "duration": 92,
        "start_time": "2022-02-07T16:57:29.668Z"
      },
      {
        "duration": 15,
        "start_time": "2022-02-07T16:57:29.763Z"
      },
      {
        "duration": 179,
        "start_time": "2022-02-07T16:57:29.781Z"
      },
      {
        "duration": 130,
        "start_time": "2022-02-07T16:57:29.964Z"
      },
      {
        "duration": 182,
        "start_time": "2022-02-07T16:57:30.097Z"
      },
      {
        "duration": 103,
        "start_time": "2022-02-07T16:57:30.282Z"
      },
      {
        "duration": 184,
        "start_time": "2022-02-07T16:57:30.388Z"
      },
      {
        "duration": 51,
        "start_time": "2022-02-07T16:57:30.575Z"
      },
      {
        "duration": 48,
        "start_time": "2022-02-07T16:57:30.629Z"
      },
      {
        "duration": 40,
        "start_time": "2022-02-07T16:57:30.681Z"
      },
      {
        "duration": 55,
        "start_time": "2022-02-07T16:57:30.724Z"
      },
      {
        "duration": 13193,
        "start_time": "2022-02-07T16:57:30.781Z"
      },
      {
        "duration": 29,
        "start_time": "2022-02-07T16:57:43.980Z"
      },
      {
        "duration": 56,
        "start_time": "2022-02-07T16:57:44.014Z"
      },
      {
        "duration": 23,
        "start_time": "2022-02-07T16:57:44.072Z"
      },
      {
        "duration": 24,
        "start_time": "2022-02-07T16:57:44.098Z"
      },
      {
        "duration": 69,
        "start_time": "2022-02-07T16:57:44.124Z"
      },
      {
        "duration": 62,
        "start_time": "2022-02-07T16:57:44.197Z"
      },
      {
        "duration": 23,
        "start_time": "2022-02-07T16:57:44.262Z"
      },
      {
        "duration": 38,
        "start_time": "2022-02-07T16:57:44.288Z"
      },
      {
        "duration": 67,
        "start_time": "2022-02-07T16:57:44.328Z"
      },
      {
        "duration": 26,
        "start_time": "2022-02-07T16:57:44.398Z"
      },
      {
        "duration": 37,
        "start_time": "2022-02-07T16:57:44.458Z"
      },
      {
        "duration": 482,
        "start_time": "2022-02-07T16:57:44.498Z"
      },
      {
        "duration": -74,
        "start_time": "2022-02-07T16:57:45.057Z"
      },
      {
        "duration": -77,
        "start_time": "2022-02-07T16:57:45.061Z"
      },
      {
        "duration": -81,
        "start_time": "2022-02-07T16:57:45.066Z"
      },
      {
        "duration": -91,
        "start_time": "2022-02-07T16:57:45.078Z"
      },
      {
        "duration": -101,
        "start_time": "2022-02-07T16:57:45.089Z"
      },
      {
        "duration": -106,
        "start_time": "2022-02-07T16:57:45.095Z"
      },
      {
        "duration": -108,
        "start_time": "2022-02-07T16:57:45.100Z"
      },
      {
        "duration": -109,
        "start_time": "2022-02-07T16:57:45.104Z"
      },
      {
        "duration": -111,
        "start_time": "2022-02-07T16:57:45.108Z"
      },
      {
        "duration": -113,
        "start_time": "2022-02-07T16:57:45.112Z"
      },
      {
        "duration": -115,
        "start_time": "2022-02-07T16:57:45.116Z"
      },
      {
        "duration": -116,
        "start_time": "2022-02-07T16:57:45.120Z"
      },
      {
        "duration": -126,
        "start_time": "2022-02-07T16:57:45.132Z"
      },
      {
        "duration": -129,
        "start_time": "2022-02-07T16:57:45.137Z"
      },
      {
        "duration": -131,
        "start_time": "2022-02-07T16:57:45.141Z"
      },
      {
        "duration": -132,
        "start_time": "2022-02-07T16:57:45.145Z"
      },
      {
        "duration": -135,
        "start_time": "2022-02-07T16:57:45.150Z"
      },
      {
        "duration": -136,
        "start_time": "2022-02-07T16:57:45.153Z"
      },
      {
        "duration": 55,
        "start_time": "2022-02-07T16:58:06.151Z"
      },
      {
        "duration": 23,
        "start_time": "2022-02-07T16:58:11.038Z"
      },
      {
        "duration": 15,
        "start_time": "2022-02-07T17:00:19.204Z"
      },
      {
        "duration": 567,
        "start_time": "2022-02-07T17:01:55.460Z"
      },
      {
        "duration": 377,
        "start_time": "2022-02-07T17:04:48.589Z"
      },
      {
        "duration": 1430,
        "start_time": "2022-02-07T17:05:15.384Z"
      },
      {
        "duration": 544,
        "start_time": "2022-02-07T17:05:16.817Z"
      },
      {
        "duration": 21,
        "start_time": "2022-02-07T17:05:17.364Z"
      },
      {
        "duration": 20,
        "start_time": "2022-02-07T17:05:17.388Z"
      },
      {
        "duration": 90,
        "start_time": "2022-02-07T17:05:17.410Z"
      },
      {
        "duration": 59,
        "start_time": "2022-02-07T17:05:17.504Z"
      },
      {
        "duration": 38,
        "start_time": "2022-02-07T17:05:17.566Z"
      },
      {
        "duration": 15,
        "start_time": "2022-02-07T17:05:17.607Z"
      },
      {
        "duration": 6,
        "start_time": "2022-02-07T17:05:17.660Z"
      },
      {
        "duration": 27,
        "start_time": "2022-02-07T17:05:17.668Z"
      },
      {
        "duration": 11,
        "start_time": "2022-02-07T17:05:17.697Z"
      },
      {
        "duration": 121,
        "start_time": "2022-02-07T17:05:17.711Z"
      },
      {
        "duration": 69,
        "start_time": "2022-02-07T17:05:17.835Z"
      },
      {
        "duration": 79,
        "start_time": "2022-02-07T17:05:17.907Z"
      },
      {
        "duration": 33,
        "start_time": "2022-02-07T17:05:17.988Z"
      },
      {
        "duration": 78,
        "start_time": "2022-02-07T17:05:18.023Z"
      },
      {
        "duration": 34,
        "start_time": "2022-02-07T17:05:18.104Z"
      },
      {
        "duration": 21,
        "start_time": "2022-02-07T17:05:18.160Z"
      },
      {
        "duration": 27,
        "start_time": "2022-02-07T17:05:18.183Z"
      },
      {
        "duration": 56,
        "start_time": "2022-02-07T17:05:18.213Z"
      },
      {
        "duration": 12607,
        "start_time": "2022-02-07T17:05:18.271Z"
      },
      {
        "duration": 27,
        "start_time": "2022-02-07T17:05:30.880Z"
      },
      {
        "duration": 49,
        "start_time": "2022-02-07T17:05:30.914Z"
      },
      {
        "duration": 23,
        "start_time": "2022-02-07T17:05:30.967Z"
      },
      {
        "duration": 36,
        "start_time": "2022-02-07T17:05:30.992Z"
      },
      {
        "duration": 68,
        "start_time": "2022-02-07T17:05:31.031Z"
      },
      {
        "duration": 42,
        "start_time": "2022-02-07T17:05:31.101Z"
      },
      {
        "duration": 24,
        "start_time": "2022-02-07T17:05:31.159Z"
      },
      {
        "duration": 77,
        "start_time": "2022-02-07T17:05:31.186Z"
      },
      {
        "duration": 51,
        "start_time": "2022-02-07T17:05:31.266Z"
      },
      {
        "duration": 52,
        "start_time": "2022-02-07T17:05:31.320Z"
      },
      {
        "duration": 38,
        "start_time": "2022-02-07T17:05:31.374Z"
      },
      {
        "duration": 67,
        "start_time": "2022-02-07T17:05:31.415Z"
      },
      {
        "duration": 27,
        "start_time": "2022-02-07T17:05:31.484Z"
      },
      {
        "duration": 76,
        "start_time": "2022-02-07T17:05:31.513Z"
      },
      {
        "duration": 21,
        "start_time": "2022-02-07T17:05:31.591Z"
      },
      {
        "duration": 1058,
        "start_time": "2022-02-07T17:05:31.615Z"
      },
      {
        "duration": 698,
        "start_time": "2022-02-07T17:05:32.676Z"
      },
      {
        "duration": 16,
        "start_time": "2022-02-07T17:05:33.377Z"
      },
      {
        "duration": 488,
        "start_time": "2022-02-07T17:05:33.396Z"
      },
      {
        "duration": -96,
        "start_time": "2022-02-07T17:05:33.983Z"
      },
      {
        "duration": -101,
        "start_time": "2022-02-07T17:05:33.989Z"
      },
      {
        "duration": -111,
        "start_time": "2022-02-07T17:05:34.000Z"
      },
      {
        "duration": -119,
        "start_time": "2022-02-07T17:05:34.010Z"
      },
      {
        "duration": -124,
        "start_time": "2022-02-07T17:05:34.016Z"
      },
      {
        "duration": -132,
        "start_time": "2022-02-07T17:05:34.025Z"
      },
      {
        "duration": -135,
        "start_time": "2022-02-07T17:05:34.030Z"
      },
      {
        "duration": -143,
        "start_time": "2022-02-07T17:05:34.039Z"
      },
      {
        "duration": -146,
        "start_time": "2022-02-07T17:05:34.043Z"
      },
      {
        "duration": -149,
        "start_time": "2022-02-07T17:05:34.047Z"
      },
      {
        "duration": -151,
        "start_time": "2022-02-07T17:05:34.051Z"
      },
      {
        "duration": -154,
        "start_time": "2022-02-07T17:05:34.055Z"
      },
      {
        "duration": -156,
        "start_time": "2022-02-07T17:05:34.058Z"
      },
      {
        "duration": 26,
        "start_time": "2022-02-07T17:06:10.027Z"
      },
      {
        "duration": 20,
        "start_time": "2022-02-07T17:07:16.221Z"
      },
      {
        "duration": 26,
        "start_time": "2022-02-07T17:08:15.287Z"
      },
      {
        "duration": 834,
        "start_time": "2022-02-07T17:15:26.232Z"
      },
      {
        "duration": 130,
        "start_time": "2022-02-07T17:16:19.779Z"
      },
      {
        "duration": 142,
        "start_time": "2022-02-07T17:16:29.061Z"
      },
      {
        "duration": 794,
        "start_time": "2022-02-07T17:16:37.415Z"
      },
      {
        "duration": 942,
        "start_time": "2022-02-07T17:17:12.519Z"
      },
      {
        "duration": 827,
        "start_time": "2022-02-07T17:17:19.364Z"
      },
      {
        "duration": 795,
        "start_time": "2022-02-07T17:17:25.293Z"
      },
      {
        "duration": 839,
        "start_time": "2022-02-07T17:17:34.571Z"
      },
      {
        "duration": 877,
        "start_time": "2022-02-07T17:17:45.790Z"
      },
      {
        "duration": 780,
        "start_time": "2022-02-07T17:19:36.983Z"
      },
      {
        "duration": 6,
        "start_time": "2022-02-07T17:20:12.124Z"
      },
      {
        "duration": 915,
        "start_time": "2022-02-07T17:28:20.126Z"
      },
      {
        "duration": 827,
        "start_time": "2022-02-07T17:28:37.045Z"
      },
      {
        "duration": 1147,
        "start_time": "2022-02-07T17:29:56.853Z"
      },
      {
        "duration": 971,
        "start_time": "2022-02-07T17:37:03.141Z"
      },
      {
        "duration": 961,
        "start_time": "2022-02-07T17:37:28.628Z"
      },
      {
        "duration": 1110,
        "start_time": "2022-02-07T17:37:45.605Z"
      },
      {
        "duration": 782,
        "start_time": "2022-02-07T17:38:28.485Z"
      },
      {
        "duration": 796,
        "start_time": "2022-02-07T17:38:49.404Z"
      },
      {
        "duration": 10014,
        "start_time": "2022-02-07T17:44:39.485Z"
      },
      {
        "duration": 1340,
        "start_time": "2022-02-07T17:45:47.305Z"
      },
      {
        "duration": 1689,
        "start_time": "2022-02-07T17:45:48.648Z"
      },
      {
        "duration": 23,
        "start_time": "2022-02-07T17:45:50.340Z"
      },
      {
        "duration": 21,
        "start_time": "2022-02-07T17:45:50.367Z"
      },
      {
        "duration": 79,
        "start_time": "2022-02-07T17:45:50.391Z"
      },
      {
        "duration": 25,
        "start_time": "2022-02-07T17:45:50.472Z"
      },
      {
        "duration": 60,
        "start_time": "2022-02-07T17:45:50.499Z"
      },
      {
        "duration": 16,
        "start_time": "2022-02-07T17:45:50.565Z"
      },
      {
        "duration": 6,
        "start_time": "2022-02-07T17:45:50.585Z"
      },
      {
        "duration": 31,
        "start_time": "2022-02-07T17:45:50.594Z"
      },
      {
        "duration": 47,
        "start_time": "2022-02-07T17:45:50.627Z"
      },
      {
        "duration": 103,
        "start_time": "2022-02-07T17:45:50.677Z"
      },
      {
        "duration": 49,
        "start_time": "2022-02-07T17:45:50.782Z"
      },
      {
        "duration": 63,
        "start_time": "2022-02-07T17:45:50.834Z"
      },
      {
        "duration": 33,
        "start_time": "2022-02-07T17:45:50.899Z"
      },
      {
        "duration": 86,
        "start_time": "2022-02-07T17:45:50.935Z"
      },
      {
        "duration": 60,
        "start_time": "2022-02-07T17:45:51.024Z"
      },
      {
        "duration": 21,
        "start_time": "2022-02-07T17:45:51.086Z"
      },
      {
        "duration": 63,
        "start_time": "2022-02-07T17:45:51.109Z"
      },
      {
        "duration": 30,
        "start_time": "2022-02-07T17:45:51.174Z"
      },
      {
        "duration": 12469,
        "start_time": "2022-02-07T17:45:51.206Z"
      },
      {
        "duration": 27,
        "start_time": "2022-02-07T17:46:03.678Z"
      },
      {
        "duration": 53,
        "start_time": "2022-02-07T17:46:03.711Z"
      },
      {
        "duration": 24,
        "start_time": "2022-02-07T17:46:03.767Z"
      },
      {
        "duration": 33,
        "start_time": "2022-02-07T17:46:03.793Z"
      },
      {
        "duration": 64,
        "start_time": "2022-02-07T17:46:03.828Z"
      },
      {
        "duration": 66,
        "start_time": "2022-02-07T17:46:03.894Z"
      },
      {
        "duration": 25,
        "start_time": "2022-02-07T17:46:03.962Z"
      },
      {
        "duration": 69,
        "start_time": "2022-02-07T17:46:03.990Z"
      },
      {
        "duration": 39,
        "start_time": "2022-02-07T17:46:04.062Z"
      },
      {
        "duration": 23,
        "start_time": "2022-02-07T17:46:04.104Z"
      },
      {
        "duration": 65,
        "start_time": "2022-02-07T17:46:04.129Z"
      },
      {
        "duration": 37,
        "start_time": "2022-02-07T17:46:04.196Z"
      },
      {
        "duration": 26,
        "start_time": "2022-02-07T17:46:04.260Z"
      },
      {
        "duration": 75,
        "start_time": "2022-02-07T17:46:04.289Z"
      },
      {
        "duration": 21,
        "start_time": "2022-02-07T17:46:04.367Z"
      },
      {
        "duration": 941,
        "start_time": "2022-02-07T17:46:04.391Z"
      },
      {
        "duration": 848,
        "start_time": "2022-02-07T17:46:05.334Z"
      },
      {
        "duration": 974,
        "start_time": "2022-02-07T17:46:06.185Z"
      },
      {
        "duration": 823,
        "start_time": "2022-02-07T17:46:07.162Z"
      },
      {
        "duration": 5,
        "start_time": "2022-02-07T17:46:07.988Z"
      },
      {
        "duration": 1206,
        "start_time": "2022-02-07T17:46:07.996Z"
      },
      {
        "duration": 763,
        "start_time": "2022-02-07T17:46:09.204Z"
      },
      {
        "duration": 813,
        "start_time": "2022-02-07T17:46:09.969Z"
      },
      {
        "duration": 10081,
        "start_time": "2022-02-07T17:46:10.784Z"
      },
      {
        "duration": -162,
        "start_time": "2022-02-07T17:46:21.031Z"
      },
      {
        "duration": -176,
        "start_time": "2022-02-07T17:46:21.047Z"
      },
      {
        "duration": -187,
        "start_time": "2022-02-07T17:46:21.061Z"
      },
      {
        "duration": -189,
        "start_time": "2022-02-07T17:46:21.065Z"
      },
      {
        "duration": -200,
        "start_time": "2022-02-07T17:46:21.078Z"
      },
      {
        "duration": -203,
        "start_time": "2022-02-07T17:46:21.083Z"
      },
      {
        "duration": -212,
        "start_time": "2022-02-07T17:46:21.095Z"
      },
      {
        "duration": 804,
        "start_time": "2022-02-07T17:46:41.961Z"
      },
      {
        "duration": 822,
        "start_time": "2022-02-07T17:47:00.903Z"
      },
      {
        "duration": 18,
        "start_time": "2022-02-07T17:47:30.009Z"
      },
      {
        "duration": 6,
        "start_time": "2022-02-07T17:48:46.346Z"
      },
      {
        "duration": 6,
        "start_time": "2022-02-07T17:48:54.205Z"
      },
      {
        "duration": 390,
        "start_time": "2022-02-07T17:49:43.630Z"
      },
      {
        "duration": 15,
        "start_time": "2022-02-07T17:49:58.198Z"
      },
      {
        "duration": 7,
        "start_time": "2022-02-07T17:50:49.371Z"
      },
      {
        "duration": 10,
        "start_time": "2022-02-07T17:52:11.544Z"
      },
      {
        "duration": 1347,
        "start_time": "2022-02-07T17:52:35.772Z"
      },
      {
        "duration": 513,
        "start_time": "2022-02-07T17:52:37.122Z"
      },
      {
        "duration": 20,
        "start_time": "2022-02-07T17:52:37.638Z"
      },
      {
        "duration": 20,
        "start_time": "2022-02-07T17:52:37.661Z"
      },
      {
        "duration": 37,
        "start_time": "2022-02-07T17:52:37.683Z"
      },
      {
        "duration": 62,
        "start_time": "2022-02-07T17:52:37.722Z"
      },
      {
        "duration": 45,
        "start_time": "2022-02-07T17:52:37.786Z"
      },
      {
        "duration": 22,
        "start_time": "2022-02-07T17:52:37.863Z"
      },
      {
        "duration": 8,
        "start_time": "2022-02-07T17:52:37.889Z"
      },
      {
        "duration": 70,
        "start_time": "2022-02-07T17:52:37.900Z"
      },
      {
        "duration": 16,
        "start_time": "2022-02-07T17:52:37.973Z"
      },
      {
        "duration": 98,
        "start_time": "2022-02-07T17:52:37.992Z"
      },
      {
        "duration": 67,
        "start_time": "2022-02-07T17:52:38.093Z"
      },
      {
        "duration": 51,
        "start_time": "2022-02-07T17:52:38.163Z"
      },
      {
        "duration": 53,
        "start_time": "2022-02-07T17:52:38.216Z"
      },
      {
        "duration": 113,
        "start_time": "2022-02-07T17:52:38.272Z"
      },
      {
        "duration": 52,
        "start_time": "2022-02-07T17:52:38.388Z"
      },
      {
        "duration": 30,
        "start_time": "2022-02-07T17:52:38.459Z"
      },
      {
        "duration": 67,
        "start_time": "2022-02-07T17:52:38.492Z"
      },
      {
        "duration": 27,
        "start_time": "2022-02-07T17:52:38.562Z"
      },
      {
        "duration": 12745,
        "start_time": "2022-02-07T17:52:38.592Z"
      },
      {
        "duration": 52,
        "start_time": "2022-02-07T17:52:51.340Z"
      },
      {
        "duration": 37,
        "start_time": "2022-02-07T17:52:51.401Z"
      },
      {
        "duration": 34,
        "start_time": "2022-02-07T17:52:51.461Z"
      },
      {
        "duration": 23,
        "start_time": "2022-02-07T17:52:51.497Z"
      },
      {
        "duration": 68,
        "start_time": "2022-02-07T17:52:51.522Z"
      },
      {
        "duration": 41,
        "start_time": "2022-02-07T17:52:51.592Z"
      },
      {
        "duration": 22,
        "start_time": "2022-02-07T17:52:51.659Z"
      },
      {
        "duration": 40,
        "start_time": "2022-02-07T17:52:51.684Z"
      },
      {
        "duration": 63,
        "start_time": "2022-02-07T17:52:51.727Z"
      },
      {
        "duration": 24,
        "start_time": "2022-02-07T17:52:51.792Z"
      },
      {
        "duration": 66,
        "start_time": "2022-02-07T17:52:51.819Z"
      },
      {
        "duration": 42,
        "start_time": "2022-02-07T17:52:51.889Z"
      },
      {
        "duration": 49,
        "start_time": "2022-02-07T17:52:51.934Z"
      },
      {
        "duration": 47,
        "start_time": "2022-02-07T17:52:51.986Z"
      },
      {
        "duration": 40,
        "start_time": "2022-02-07T17:52:52.035Z"
      },
      {
        "duration": 802,
        "start_time": "2022-02-07T17:52:52.077Z"
      },
      {
        "duration": 606,
        "start_time": "2022-02-07T17:52:52.882Z"
      },
      {
        "duration": 817,
        "start_time": "2022-02-07T17:52:53.491Z"
      },
      {
        "duration": 792,
        "start_time": "2022-02-07T17:52:54.311Z"
      },
      {
        "duration": 6,
        "start_time": "2022-02-07T17:52:55.106Z"
      },
      {
        "duration": 943,
        "start_time": "2022-02-07T17:52:55.116Z"
      },
      {
        "duration": 780,
        "start_time": "2022-02-07T17:52:56.061Z"
      },
      {
        "duration": 820,
        "start_time": "2022-02-07T17:52:56.844Z"
      },
      {
        "duration": 924,
        "start_time": "2022-02-07T17:52:57.667Z"
      },
      {
        "duration": 7,
        "start_time": "2022-02-07T17:52:58.593Z"
      },
      {
        "duration": 6,
        "start_time": "2022-02-07T17:52:58.603Z"
      },
      {
        "duration": 10,
        "start_time": "2022-02-07T17:52:58.612Z"
      },
      {
        "duration": 491,
        "start_time": "2022-02-07T17:52:58.660Z"
      },
      {
        "duration": -169,
        "start_time": "2022-02-07T17:52:59.324Z"
      },
      {
        "duration": 127,
        "start_time": "2022-02-07T17:57:53.586Z"
      },
      {
        "duration": 405,
        "start_time": "2022-02-07T17:57:59.019Z"
      },
      {
        "duration": 8,
        "start_time": "2022-02-07T17:59:17.865Z"
      },
      {
        "duration": 6,
        "start_time": "2022-02-07T17:59:40.695Z"
      },
      {
        "duration": 23,
        "start_time": "2022-02-07T18:00:39.231Z"
      },
      {
        "duration": 24,
        "start_time": "2022-02-07T18:01:06.313Z"
      },
      {
        "duration": 30,
        "start_time": "2022-02-07T18:08:57.027Z"
      },
      {
        "duration": 28,
        "start_time": "2022-02-07T18:09:14.278Z"
      },
      {
        "duration": 28,
        "start_time": "2022-02-07T18:09:53.389Z"
      },
      {
        "duration": 31,
        "start_time": "2022-02-07T18:12:25.712Z"
      },
      {
        "duration": 370,
        "start_time": "2022-02-07T18:14:31.494Z"
      },
      {
        "duration": 35,
        "start_time": "2022-02-07T18:14:38.859Z"
      },
      {
        "duration": 45,
        "start_time": "2022-02-07T18:15:05.069Z"
      },
      {
        "duration": 25,
        "start_time": "2022-02-07T18:15:34.896Z"
      },
      {
        "duration": 370,
        "start_time": "2022-02-07T18:16:13.160Z"
      },
      {
        "duration": 451,
        "start_time": "2022-02-07T18:16:33.061Z"
      },
      {
        "duration": 387,
        "start_time": "2022-02-07T18:16:52.126Z"
      },
      {
        "duration": 42,
        "start_time": "2022-02-07T18:16:59.498Z"
      },
      {
        "duration": 26,
        "start_time": "2022-02-07T18:17:36.439Z"
      },
      {
        "duration": 31,
        "start_time": "2022-02-07T18:18:05.921Z"
      },
      {
        "duration": 11489,
        "start_time": "2022-02-07T18:18:09.571Z"
      },
      {
        "duration": 9360,
        "start_time": "2022-02-07T18:18:59.352Z"
      },
      {
        "duration": 42,
        "start_time": "2022-02-07T18:19:16.947Z"
      },
      {
        "duration": 30,
        "start_time": "2022-02-07T18:19:41.289Z"
      },
      {
        "duration": 42,
        "start_time": "2022-02-07T18:20:10.328Z"
      },
      {
        "duration": 42,
        "start_time": "2022-02-07T18:20:21.361Z"
      },
      {
        "duration": 1386,
        "start_time": "2022-02-07T18:21:21.528Z"
      },
      {
        "duration": 517,
        "start_time": "2022-02-07T18:21:22.916Z"
      },
      {
        "duration": 22,
        "start_time": "2022-02-07T18:21:23.436Z"
      },
      {
        "duration": 20,
        "start_time": "2022-02-07T18:21:23.461Z"
      },
      {
        "duration": 40,
        "start_time": "2022-02-07T18:21:23.483Z"
      },
      {
        "duration": 52,
        "start_time": "2022-02-07T18:21:23.526Z"
      },
      {
        "duration": 32,
        "start_time": "2022-02-07T18:21:23.581Z"
      },
      {
        "duration": 48,
        "start_time": "2022-02-07T18:21:23.617Z"
      },
      {
        "duration": 7,
        "start_time": "2022-02-07T18:21:23.668Z"
      },
      {
        "duration": 27,
        "start_time": "2022-02-07T18:21:23.678Z"
      },
      {
        "duration": 12,
        "start_time": "2022-02-07T18:21:23.708Z"
      },
      {
        "duration": 77,
        "start_time": "2022-02-07T18:21:23.760Z"
      },
      {
        "duration": 66,
        "start_time": "2022-02-07T18:21:23.840Z"
      },
      {
        "duration": 71,
        "start_time": "2022-02-07T18:21:23.908Z"
      },
      {
        "duration": 32,
        "start_time": "2022-02-07T18:21:23.981Z"
      },
      {
        "duration": 75,
        "start_time": "2022-02-07T18:21:24.015Z"
      },
      {
        "duration": 36,
        "start_time": "2022-02-07T18:21:24.093Z"
      },
      {
        "duration": 21,
        "start_time": "2022-02-07T18:21:24.159Z"
      },
      {
        "duration": 29,
        "start_time": "2022-02-07T18:21:24.183Z"
      },
      {
        "duration": 54,
        "start_time": "2022-02-07T18:21:24.215Z"
      },
      {
        "duration": 13148,
        "start_time": "2022-02-07T18:21:24.271Z"
      },
      {
        "duration": 43,
        "start_time": "2022-02-07T18:21:37.422Z"
      },
      {
        "duration": 23,
        "start_time": "2022-02-07T18:21:37.471Z"
      },
      {
        "duration": 21,
        "start_time": "2022-02-07T18:21:37.497Z"
      },
      {
        "duration": 52,
        "start_time": "2022-02-07T18:21:37.521Z"
      },
      {
        "duration": 39,
        "start_time": "2022-02-07T18:21:37.576Z"
      },
      {
        "duration": 76,
        "start_time": "2022-02-07T18:21:37.617Z"
      },
      {
        "duration": 22,
        "start_time": "2022-02-07T18:21:37.696Z"
      },
      {
        "duration": 63,
        "start_time": "2022-02-07T18:21:37.720Z"
      },
      {
        "duration": 36,
        "start_time": "2022-02-07T18:21:37.785Z"
      },
      {
        "duration": 48,
        "start_time": "2022-02-07T18:21:37.824Z"
      },
      {
        "duration": 42,
        "start_time": "2022-02-07T18:21:37.874Z"
      },
      {
        "duration": 59,
        "start_time": "2022-02-07T18:21:37.918Z"
      },
      {
        "duration": 27,
        "start_time": "2022-02-07T18:21:37.980Z"
      },
      {
        "duration": 72,
        "start_time": "2022-02-07T18:21:38.009Z"
      },
      {
        "duration": 20,
        "start_time": "2022-02-07T18:21:38.084Z"
      },
      {
        "duration": 793,
        "start_time": "2022-02-07T18:21:38.107Z"
      },
      {
        "duration": 721,
        "start_time": "2022-02-07T18:21:38.902Z"
      },
      {
        "duration": 869,
        "start_time": "2022-02-07T18:21:39.626Z"
      },
      {
        "duration": 801,
        "start_time": "2022-02-07T18:21:40.498Z"
      },
      {
        "duration": 6,
        "start_time": "2022-02-07T18:21:41.302Z"
      },
      {
        "duration": 952,
        "start_time": "2022-02-07T18:21:41.311Z"
      },
      {
        "duration": 848,
        "start_time": "2022-02-07T18:21:42.265Z"
      },
      {
        "duration": 827,
        "start_time": "2022-02-07T18:21:43.116Z"
      },
      {
        "duration": 843,
        "start_time": "2022-02-07T18:21:43.946Z"
      },
      {
        "duration": 7,
        "start_time": "2022-02-07T18:21:44.792Z"
      },
      {
        "duration": 7,
        "start_time": "2022-02-07T18:21:44.802Z"
      },
      {
        "duration": 52,
        "start_time": "2022-02-07T18:21:44.812Z"
      },
      {
        "duration": 43,
        "start_time": "2022-02-07T18:21:44.866Z"
      },
      {
        "duration": 1362,
        "start_time": "2022-02-08T07:28:39.638Z"
      },
      {
        "duration": 539,
        "start_time": "2022-02-08T07:28:41.004Z"
      },
      {
        "duration": 21,
        "start_time": "2022-02-08T07:28:41.546Z"
      },
      {
        "duration": 19,
        "start_time": "2022-02-08T07:28:41.570Z"
      },
      {
        "duration": 70,
        "start_time": "2022-02-08T07:28:41.591Z"
      },
      {
        "duration": 25,
        "start_time": "2022-02-08T07:28:41.664Z"
      },
      {
        "duration": 31,
        "start_time": "2022-02-08T07:28:41.691Z"
      },
      {
        "duration": 37,
        "start_time": "2022-02-08T07:28:41.725Z"
      },
      {
        "duration": 7,
        "start_time": "2022-02-08T07:28:41.766Z"
      },
      {
        "duration": 27,
        "start_time": "2022-02-08T07:28:41.776Z"
      },
      {
        "duration": 55,
        "start_time": "2022-02-08T07:28:41.806Z"
      },
      {
        "duration": 76,
        "start_time": "2022-02-08T07:28:41.863Z"
      },
      {
        "duration": 45,
        "start_time": "2022-02-08T07:28:41.960Z"
      },
      {
        "duration": 72,
        "start_time": "2022-02-08T07:28:42.007Z"
      },
      {
        "duration": 33,
        "start_time": "2022-02-08T07:28:42.082Z"
      },
      {
        "duration": 89,
        "start_time": "2022-02-08T07:28:42.118Z"
      },
      {
        "duration": 50,
        "start_time": "2022-02-08T07:28:42.209Z"
      },
      {
        "duration": 23,
        "start_time": "2022-02-08T07:28:42.261Z"
      },
      {
        "duration": 27,
        "start_time": "2022-02-08T07:28:42.286Z"
      },
      {
        "duration": 55,
        "start_time": "2022-02-08T07:28:42.316Z"
      },
      {
        "duration": 11841,
        "start_time": "2022-02-08T07:28:42.373Z"
      },
      {
        "duration": 25,
        "start_time": "2022-02-08T07:28:54.217Z"
      },
      {
        "duration": 22,
        "start_time": "2022-02-08T07:28:54.262Z"
      },
      {
        "duration": 21,
        "start_time": "2022-02-08T07:28:54.287Z"
      },
      {
        "duration": 59,
        "start_time": "2022-02-08T07:28:54.311Z"
      },
      {
        "duration": 39,
        "start_time": "2022-02-08T07:28:54.373Z"
      },
      {
        "duration": 73,
        "start_time": "2022-02-08T07:28:54.415Z"
      },
      {
        "duration": 22,
        "start_time": "2022-02-08T07:28:54.491Z"
      },
      {
        "duration": 68,
        "start_time": "2022-02-08T07:28:54.516Z"
      },
      {
        "duration": 36,
        "start_time": "2022-02-08T07:28:54.587Z"
      },
      {
        "duration": 46,
        "start_time": "2022-02-08T07:28:54.625Z"
      },
      {
        "duration": 39,
        "start_time": "2022-02-08T07:28:54.675Z"
      },
      {
        "duration": 67,
        "start_time": "2022-02-08T07:28:54.717Z"
      },
      {
        "duration": 26,
        "start_time": "2022-02-08T07:28:54.787Z"
      },
      {
        "duration": 76,
        "start_time": "2022-02-08T07:28:54.815Z"
      },
      {
        "duration": 19,
        "start_time": "2022-02-08T07:28:54.893Z"
      },
      {
        "duration": 787,
        "start_time": "2022-02-08T07:28:54.915Z"
      },
      {
        "duration": 591,
        "start_time": "2022-02-08T07:28:55.705Z"
      },
      {
        "duration": 778,
        "start_time": "2022-02-08T07:28:56.298Z"
      },
      {
        "duration": 792,
        "start_time": "2022-02-08T07:28:57.078Z"
      },
      {
        "duration": 6,
        "start_time": "2022-02-08T07:28:57.872Z"
      },
      {
        "duration": 842,
        "start_time": "2022-02-08T07:28:57.881Z"
      },
      {
        "duration": 742,
        "start_time": "2022-02-08T07:28:58.726Z"
      },
      {
        "duration": 795,
        "start_time": "2022-02-08T07:28:59.470Z"
      },
      {
        "duration": 809,
        "start_time": "2022-02-08T07:29:00.268Z"
      },
      {
        "duration": 7,
        "start_time": "2022-02-08T07:29:01.079Z"
      },
      {
        "duration": 10,
        "start_time": "2022-02-08T07:29:01.089Z"
      },
      {
        "duration": 19,
        "start_time": "2022-02-08T07:29:01.102Z"
      },
      {
        "duration": 71,
        "start_time": "2022-02-08T07:29:01.123Z"
      }
    ],
    "kernelspec": {
      "display_name": "Python 3 (ipykernel)",
      "language": "python",
      "name": "python3"
    },
    "language_info": {
      "codemirror_mode": {
        "name": "ipython",
        "version": 3
      },
      "file_extension": ".py",
      "mimetype": "text/x-python",
      "name": "python",
      "nbconvert_exporter": "python",
      "pygments_lexer": "ipython3",
      "version": "3.9.5"
    },
    "toc": {
      "base_numbering": 1,
      "nav_menu": {},
      "number_sections": false,
      "sideBar": true,
      "skip_h1_title": true,
      "title_cell": "Table of Contents",
      "title_sidebar": "Contents",
      "toc_cell": false,
      "toc_position": {
        "height": "calc(100% - 180px)",
        "left": "10px",
        "top": "150px",
        "width": "165px"
      },
      "toc_section_display": true,
      "toc_window_display": true
    },
    "colab": {
      "name": "4.ipynb",
      "provenance": []
    }
  },
  "nbformat": 4,
  "nbformat_minor": 0
}