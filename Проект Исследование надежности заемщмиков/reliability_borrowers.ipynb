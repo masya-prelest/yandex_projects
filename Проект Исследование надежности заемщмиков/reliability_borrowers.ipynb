{
  "cells": [
    {
      "cell_type": "markdown",
      "metadata": {
        "id": "rv4veKmFdvxJ"
      },
      "source": [
        "# Исследование надёжности заёмщиков\n",
        "\n",
        "Заказчик — кредитный отдел банка. Нужно разобраться, влияет ли семейное положение и количество детей клиента на факт погашения кредита в срок. Входные данные от банка — статистика о платёжеспособности клиентов.\n",
        "\n",
        "Результаты исследования будут учтены при построении модели **кредитного скоринга** — специальной системы, которая оценивает способность потенциального заёмщика вернуть кредит банку."
      ]
    },
    {
      "cell_type": "markdown",
      "metadata": {
        "id": "xftOAUzvdvxK"
      },
      "source": [
        "## Шаг 1. Откроем файл с данными и изучим общую информацию\n",
        "\n",
        "\n",
        "Импортируем библиотеки необходимые в работе."
      ]
    },
    {
      "cell_type": "code",
      "execution_count": null,
      "metadata": {
        "id": "wAkuyAd-dvxK"
      },
      "outputs": [],
      "source": [
        "import pandas as pd\n",
        "\n",
        "from pymystem3 import Mystem\n",
        "m = Mystem()\n",
        "\n",
        "from nltk.stem import SnowballStemmer\n",
        "russian_stemmer = SnowballStemmer('russian')\n",
        "\n",
        "import seaborn"
      ]
    },
    {
      "cell_type": "markdown",
      "metadata": {
        "id": "169DX5i3dvxL"
      },
      "source": [
        "Откроем файл с данными.\n",
        "Путь к файлу: `/datasets/data.csv`"
      ]
    },
    {
      "cell_type": "code",
      "execution_count": null,
      "metadata": {
        "id": "jwTlbXp1dvxM"
      },
      "outputs": [],
      "source": [
        "data = pd.read_csv('/datasets/data.csv')"
      ]
    },
    {
      "cell_type": "markdown",
      "metadata": {
        "id": "tFtodpj6dvxM"
      },
      "source": [
        "Теперь рассмотрим датасет:"
      ]
    },
    {
      "cell_type": "code",
      "execution_count": null,
      "metadata": {
        "id": "gmxAsN-7dvxM",
        "outputId": "935549d9-0fa0-4d4a-8a50-5c8d2a2af963"
      },
      "outputs": [
        {
          "data": {
            "text/html": [
              "<div>\n",
              "<style scoped>\n",
              "    .dataframe tbody tr th:only-of-type {\n",
              "        vertical-align: middle;\n",
              "    }\n",
              "\n",
              "    .dataframe tbody tr th {\n",
              "        vertical-align: top;\n",
              "    }\n",
              "\n",
              "    .dataframe thead th {\n",
              "        text-align: right;\n",
              "    }\n",
              "</style>\n",
              "<table border=\"1\" class=\"dataframe\">\n",
              "  <thead>\n",
              "    <tr style=\"text-align: right;\">\n",
              "      <th></th>\n",
              "      <th>children</th>\n",
              "      <th>days_employed</th>\n",
              "      <th>dob_years</th>\n",
              "      <th>education</th>\n",
              "      <th>education_id</th>\n",
              "      <th>family_status</th>\n",
              "      <th>family_status_id</th>\n",
              "      <th>gender</th>\n",
              "      <th>income_type</th>\n",
              "      <th>debt</th>\n",
              "      <th>total_income</th>\n",
              "      <th>purpose</th>\n",
              "    </tr>\n",
              "  </thead>\n",
              "  <tbody>\n",
              "    <tr>\n",
              "      <td>0</td>\n",
              "      <td>1</td>\n",
              "      <td>-8437.673028</td>\n",
              "      <td>42</td>\n",
              "      <td>высшее</td>\n",
              "      <td>0</td>\n",
              "      <td>женат / замужем</td>\n",
              "      <td>0</td>\n",
              "      <td>F</td>\n",
              "      <td>сотрудник</td>\n",
              "      <td>0</td>\n",
              "      <td>253875.639453</td>\n",
              "      <td>покупка жилья</td>\n",
              "    </tr>\n",
              "    <tr>\n",
              "      <td>1</td>\n",
              "      <td>1</td>\n",
              "      <td>-4024.803754</td>\n",
              "      <td>36</td>\n",
              "      <td>среднее</td>\n",
              "      <td>1</td>\n",
              "      <td>женат / замужем</td>\n",
              "      <td>0</td>\n",
              "      <td>F</td>\n",
              "      <td>сотрудник</td>\n",
              "      <td>0</td>\n",
              "      <td>112080.014102</td>\n",
              "      <td>приобретение автомобиля</td>\n",
              "    </tr>\n",
              "    <tr>\n",
              "      <td>2</td>\n",
              "      <td>0</td>\n",
              "      <td>-5623.422610</td>\n",
              "      <td>33</td>\n",
              "      <td>Среднее</td>\n",
              "      <td>1</td>\n",
              "      <td>женат / замужем</td>\n",
              "      <td>0</td>\n",
              "      <td>M</td>\n",
              "      <td>сотрудник</td>\n",
              "      <td>0</td>\n",
              "      <td>145885.952297</td>\n",
              "      <td>покупка жилья</td>\n",
              "    </tr>\n",
              "    <tr>\n",
              "      <td>3</td>\n",
              "      <td>3</td>\n",
              "      <td>-4124.747207</td>\n",
              "      <td>32</td>\n",
              "      <td>среднее</td>\n",
              "      <td>1</td>\n",
              "      <td>женат / замужем</td>\n",
              "      <td>0</td>\n",
              "      <td>M</td>\n",
              "      <td>сотрудник</td>\n",
              "      <td>0</td>\n",
              "      <td>267628.550329</td>\n",
              "      <td>дополнительное образование</td>\n",
              "    </tr>\n",
              "    <tr>\n",
              "      <td>4</td>\n",
              "      <td>0</td>\n",
              "      <td>340266.072047</td>\n",
              "      <td>53</td>\n",
              "      <td>среднее</td>\n",
              "      <td>1</td>\n",
              "      <td>гражданский брак</td>\n",
              "      <td>1</td>\n",
              "      <td>F</td>\n",
              "      <td>пенсионер</td>\n",
              "      <td>0</td>\n",
              "      <td>158616.077870</td>\n",
              "      <td>сыграть свадьбу</td>\n",
              "    </tr>\n",
              "    <tr>\n",
              "      <td>...</td>\n",
              "      <td>...</td>\n",
              "      <td>...</td>\n",
              "      <td>...</td>\n",
              "      <td>...</td>\n",
              "      <td>...</td>\n",
              "      <td>...</td>\n",
              "      <td>...</td>\n",
              "      <td>...</td>\n",
              "      <td>...</td>\n",
              "      <td>...</td>\n",
              "      <td>...</td>\n",
              "      <td>...</td>\n",
              "    </tr>\n",
              "    <tr>\n",
              "      <td>21520</td>\n",
              "      <td>1</td>\n",
              "      <td>-4529.316663</td>\n",
              "      <td>43</td>\n",
              "      <td>среднее</td>\n",
              "      <td>1</td>\n",
              "      <td>гражданский брак</td>\n",
              "      <td>1</td>\n",
              "      <td>F</td>\n",
              "      <td>компаньон</td>\n",
              "      <td>0</td>\n",
              "      <td>224791.862382</td>\n",
              "      <td>операции с жильем</td>\n",
              "    </tr>\n",
              "    <tr>\n",
              "      <td>21521</td>\n",
              "      <td>0</td>\n",
              "      <td>343937.404131</td>\n",
              "      <td>67</td>\n",
              "      <td>среднее</td>\n",
              "      <td>1</td>\n",
              "      <td>женат / замужем</td>\n",
              "      <td>0</td>\n",
              "      <td>F</td>\n",
              "      <td>пенсионер</td>\n",
              "      <td>0</td>\n",
              "      <td>155999.806512</td>\n",
              "      <td>сделка с автомобилем</td>\n",
              "    </tr>\n",
              "    <tr>\n",
              "      <td>21522</td>\n",
              "      <td>1</td>\n",
              "      <td>-2113.346888</td>\n",
              "      <td>38</td>\n",
              "      <td>среднее</td>\n",
              "      <td>1</td>\n",
              "      <td>гражданский брак</td>\n",
              "      <td>1</td>\n",
              "      <td>M</td>\n",
              "      <td>сотрудник</td>\n",
              "      <td>1</td>\n",
              "      <td>89672.561153</td>\n",
              "      <td>недвижимость</td>\n",
              "    </tr>\n",
              "    <tr>\n",
              "      <td>21523</td>\n",
              "      <td>3</td>\n",
              "      <td>-3112.481705</td>\n",
              "      <td>38</td>\n",
              "      <td>среднее</td>\n",
              "      <td>1</td>\n",
              "      <td>женат / замужем</td>\n",
              "      <td>0</td>\n",
              "      <td>M</td>\n",
              "      <td>сотрудник</td>\n",
              "      <td>1</td>\n",
              "      <td>244093.050500</td>\n",
              "      <td>на покупку своего автомобиля</td>\n",
              "    </tr>\n",
              "    <tr>\n",
              "      <td>21524</td>\n",
              "      <td>2</td>\n",
              "      <td>-1984.507589</td>\n",
              "      <td>40</td>\n",
              "      <td>среднее</td>\n",
              "      <td>1</td>\n",
              "      <td>женат / замужем</td>\n",
              "      <td>0</td>\n",
              "      <td>F</td>\n",
              "      <td>сотрудник</td>\n",
              "      <td>0</td>\n",
              "      <td>82047.418899</td>\n",
              "      <td>на покупку автомобиля</td>\n",
              "    </tr>\n",
              "  </tbody>\n",
              "</table>\n",
              "<p>21525 rows × 12 columns</p>\n",
              "</div>"
            ],
            "text/plain": [
              "       children  days_employed  dob_years education  education_id  \\\n",
              "0             1   -8437.673028         42    высшее             0   \n",
              "1             1   -4024.803754         36   среднее             1   \n",
              "2             0   -5623.422610         33   Среднее             1   \n",
              "3             3   -4124.747207         32   среднее             1   \n",
              "4             0  340266.072047         53   среднее             1   \n",
              "...         ...            ...        ...       ...           ...   \n",
              "21520         1   -4529.316663         43   среднее             1   \n",
              "21521         0  343937.404131         67   среднее             1   \n",
              "21522         1   -2113.346888         38   среднее             1   \n",
              "21523         3   -3112.481705         38   среднее             1   \n",
              "21524         2   -1984.507589         40   среднее             1   \n",
              "\n",
              "          family_status  family_status_id gender income_type  debt  \\\n",
              "0       женат / замужем                 0      F   сотрудник     0   \n",
              "1       женат / замужем                 0      F   сотрудник     0   \n",
              "2       женат / замужем                 0      M   сотрудник     0   \n",
              "3       женат / замужем                 0      M   сотрудник     0   \n",
              "4      гражданский брак                 1      F   пенсионер     0   \n",
              "...                 ...               ...    ...         ...   ...   \n",
              "21520  гражданский брак                 1      F   компаньон     0   \n",
              "21521   женат / замужем                 0      F   пенсионер     0   \n",
              "21522  гражданский брак                 1      M   сотрудник     1   \n",
              "21523   женат / замужем                 0      M   сотрудник     1   \n",
              "21524   женат / замужем                 0      F   сотрудник     0   \n",
              "\n",
              "        total_income                       purpose  \n",
              "0      253875.639453                 покупка жилья  \n",
              "1      112080.014102       приобретение автомобиля  \n",
              "2      145885.952297                 покупка жилья  \n",
              "3      267628.550329    дополнительное образование  \n",
              "4      158616.077870               сыграть свадьбу  \n",
              "...              ...                           ...  \n",
              "21520  224791.862382             операции с жильем  \n",
              "21521  155999.806512          сделка с автомобилем  \n",
              "21522   89672.561153                  недвижимость  \n",
              "21523  244093.050500  на покупку своего автомобиля  \n",
              "21524   82047.418899         на покупку автомобиля  \n",
              "\n",
              "[21525 rows x 12 columns]"
            ]
          },
          "metadata": {},
          "output_type": "display_data"
        }
      ],
      "source": [
        "display(data)"
      ]
    },
    {
      "cell_type": "markdown",
      "metadata": {
        "id": "glFgIOrmdvxO"
      },
      "source": [
        "Рассмотрим общую информацию о таблице:"
      ]
    },
    {
      "cell_type": "code",
      "execution_count": null,
      "metadata": {
        "id": "lnVP29ESdvxO",
        "outputId": "56e6ac12-d911-49fd-d9d9-c7964bc0f36b"
      },
      "outputs": [
        {
          "name": "stdout",
          "output_type": "stream",
          "text": [
            "<class 'pandas.core.frame.DataFrame'>\n",
            "RangeIndex: 21525 entries, 0 to 21524\n",
            "Data columns (total 12 columns):\n",
            "children            21525 non-null int64\n",
            "days_employed       19351 non-null float64\n",
            "dob_years           21525 non-null int64\n",
            "education           21525 non-null object\n",
            "education_id        21525 non-null int64\n",
            "family_status       21525 non-null object\n",
            "family_status_id    21525 non-null int64\n",
            "gender              21525 non-null object\n",
            "income_type         21525 non-null object\n",
            "debt                21525 non-null int64\n",
            "total_income        19351 non-null float64\n",
            "purpose             21525 non-null object\n",
            "dtypes: float64(2), int64(5), object(5)\n",
            "memory usage: 2.0+ MB\n"
          ]
        }
      ],
      "source": [
        "data.info()"
      ]
    },
    {
      "cell_type": "markdown",
      "metadata": {
        "id": "E_SoFkOvdvxO"
      },
      "source": [
        "**Вывод**"
      ]
    },
    {
      "cell_type": "markdown",
      "metadata": {
        "id": "yYf6WWFYdvxP"
      },
      "source": [
        "Из выборки мы видим, что датасет имеет следующие явные проблемы:\n",
        "- столбец `'days_employed'` Трудовой стаж имеет отрицательные значения;\n",
        "- столбцы `'days_employed'` Трудовой стаж и `'total_income'` Ежемесячный доход имеют пропуски;\n",
        "- тип данных столбцов `'days_employed'` Трудовой стаж и `'total_income'` Ежемесячный доход лучше перевести в целочисленный; \n",
        "- столбец `'education'` Образоание имеет разный регистр;\n",
        "- в столбце `'purpose'` Цель кредита одинаковые категории сформулированны по разному, нужно привечти к единообразию."
      ]
    },
    {
      "cell_type": "markdown",
      "metadata": {
        "id": "Ams1eKVTdvxQ"
      },
      "source": [
        "## Шаг 2. Предобработка данных\n",
        "Теперь обработаем выявленные ошибки."
      ]
    },
    {
      "cell_type": "markdown",
      "metadata": {
        "id": "RZlldwl4dvxQ"
      },
      "source": [
        "### Обработка пропусков\n",
        "Обработаем пропуски в столбцах `'days_employed'` Трудовой стаж и `'total_income'` Ежемесячный доход. Для этого найдем пропущенные значения и посмотрим кому они соотвествуют. "
      ]
    },
    {
      "cell_type": "code",
      "execution_count": null,
      "metadata": {
        "id": "VWslS6UfdvxQ",
        "outputId": "f4c34d33-0dca-4066-dc3a-12851f882daf"
      },
      "outputs": [
        {
          "data": {
            "text/html": [
              "<div>\n",
              "<style scoped>\n",
              "    .dataframe tbody tr th:only-of-type {\n",
              "        vertical-align: middle;\n",
              "    }\n",
              "\n",
              "    .dataframe tbody tr th {\n",
              "        vertical-align: top;\n",
              "    }\n",
              "\n",
              "    .dataframe thead th {\n",
              "        text-align: right;\n",
              "    }\n",
              "</style>\n",
              "<table border=\"1\" class=\"dataframe\">\n",
              "  <thead>\n",
              "    <tr style=\"text-align: right;\">\n",
              "      <th></th>\n",
              "      <th>children</th>\n",
              "      <th>days_employed</th>\n",
              "      <th>dob_years</th>\n",
              "      <th>education</th>\n",
              "      <th>education_id</th>\n",
              "      <th>family_status</th>\n",
              "      <th>family_status_id</th>\n",
              "      <th>gender</th>\n",
              "      <th>income_type</th>\n",
              "      <th>debt</th>\n",
              "      <th>total_income</th>\n",
              "      <th>purpose</th>\n",
              "    </tr>\n",
              "  </thead>\n",
              "  <tbody>\n",
              "    <tr>\n",
              "      <td>12</td>\n",
              "      <td>0</td>\n",
              "      <td>NaN</td>\n",
              "      <td>65</td>\n",
              "      <td>среднее</td>\n",
              "      <td>1</td>\n",
              "      <td>гражданский брак</td>\n",
              "      <td>1</td>\n",
              "      <td>M</td>\n",
              "      <td>пенсионер</td>\n",
              "      <td>0</td>\n",
              "      <td>NaN</td>\n",
              "      <td>сыграть свадьбу</td>\n",
              "    </tr>\n",
              "    <tr>\n",
              "      <td>26</td>\n",
              "      <td>0</td>\n",
              "      <td>NaN</td>\n",
              "      <td>41</td>\n",
              "      <td>среднее</td>\n",
              "      <td>1</td>\n",
              "      <td>женат / замужем</td>\n",
              "      <td>0</td>\n",
              "      <td>M</td>\n",
              "      <td>госслужащий</td>\n",
              "      <td>0</td>\n",
              "      <td>NaN</td>\n",
              "      <td>образование</td>\n",
              "    </tr>\n",
              "    <tr>\n",
              "      <td>29</td>\n",
              "      <td>0</td>\n",
              "      <td>NaN</td>\n",
              "      <td>63</td>\n",
              "      <td>среднее</td>\n",
              "      <td>1</td>\n",
              "      <td>Не женат / не замужем</td>\n",
              "      <td>4</td>\n",
              "      <td>F</td>\n",
              "      <td>пенсионер</td>\n",
              "      <td>0</td>\n",
              "      <td>NaN</td>\n",
              "      <td>строительство жилой недвижимости</td>\n",
              "    </tr>\n",
              "    <tr>\n",
              "      <td>41</td>\n",
              "      <td>0</td>\n",
              "      <td>NaN</td>\n",
              "      <td>50</td>\n",
              "      <td>среднее</td>\n",
              "      <td>1</td>\n",
              "      <td>женат / замужем</td>\n",
              "      <td>0</td>\n",
              "      <td>F</td>\n",
              "      <td>госслужащий</td>\n",
              "      <td>0</td>\n",
              "      <td>NaN</td>\n",
              "      <td>сделка с подержанным автомобилем</td>\n",
              "    </tr>\n",
              "    <tr>\n",
              "      <td>55</td>\n",
              "      <td>0</td>\n",
              "      <td>NaN</td>\n",
              "      <td>54</td>\n",
              "      <td>среднее</td>\n",
              "      <td>1</td>\n",
              "      <td>гражданский брак</td>\n",
              "      <td>1</td>\n",
              "      <td>F</td>\n",
              "      <td>пенсионер</td>\n",
              "      <td>1</td>\n",
              "      <td>NaN</td>\n",
              "      <td>сыграть свадьбу</td>\n",
              "    </tr>\n",
              "    <tr>\n",
              "      <td>65</td>\n",
              "      <td>0</td>\n",
              "      <td>NaN</td>\n",
              "      <td>21</td>\n",
              "      <td>среднее</td>\n",
              "      <td>1</td>\n",
              "      <td>Не женат / не замужем</td>\n",
              "      <td>4</td>\n",
              "      <td>M</td>\n",
              "      <td>компаньон</td>\n",
              "      <td>0</td>\n",
              "      <td>NaN</td>\n",
              "      <td>операции с коммерческой недвижимостью</td>\n",
              "    </tr>\n",
              "    <tr>\n",
              "      <td>67</td>\n",
              "      <td>0</td>\n",
              "      <td>NaN</td>\n",
              "      <td>52</td>\n",
              "      <td>высшее</td>\n",
              "      <td>0</td>\n",
              "      <td>женат / замужем</td>\n",
              "      <td>0</td>\n",
              "      <td>F</td>\n",
              "      <td>пенсионер</td>\n",
              "      <td>0</td>\n",
              "      <td>NaN</td>\n",
              "      <td>покупка жилья для семьи</td>\n",
              "    </tr>\n",
              "    <tr>\n",
              "      <td>72</td>\n",
              "      <td>1</td>\n",
              "      <td>NaN</td>\n",
              "      <td>32</td>\n",
              "      <td>высшее</td>\n",
              "      <td>0</td>\n",
              "      <td>женат / замужем</td>\n",
              "      <td>0</td>\n",
              "      <td>M</td>\n",
              "      <td>госслужащий</td>\n",
              "      <td>0</td>\n",
              "      <td>NaN</td>\n",
              "      <td>операции с коммерческой недвижимостью</td>\n",
              "    </tr>\n",
              "    <tr>\n",
              "      <td>82</td>\n",
              "      <td>2</td>\n",
              "      <td>NaN</td>\n",
              "      <td>50</td>\n",
              "      <td>высшее</td>\n",
              "      <td>0</td>\n",
              "      <td>женат / замужем</td>\n",
              "      <td>0</td>\n",
              "      <td>F</td>\n",
              "      <td>сотрудник</td>\n",
              "      <td>0</td>\n",
              "      <td>NaN</td>\n",
              "      <td>жилье</td>\n",
              "    </tr>\n",
              "    <tr>\n",
              "      <td>83</td>\n",
              "      <td>0</td>\n",
              "      <td>NaN</td>\n",
              "      <td>52</td>\n",
              "      <td>среднее</td>\n",
              "      <td>1</td>\n",
              "      <td>женат / замужем</td>\n",
              "      <td>0</td>\n",
              "      <td>M</td>\n",
              "      <td>сотрудник</td>\n",
              "      <td>0</td>\n",
              "      <td>NaN</td>\n",
              "      <td>жилье</td>\n",
              "    </tr>\n",
              "  </tbody>\n",
              "</table>\n",
              "</div>"
            ],
            "text/plain": [
              "    children  days_employed  dob_years education  education_id  \\\n",
              "12         0            NaN         65   среднее             1   \n",
              "26         0            NaN         41   среднее             1   \n",
              "29         0            NaN         63   среднее             1   \n",
              "41         0            NaN         50   среднее             1   \n",
              "55         0            NaN         54   среднее             1   \n",
              "65         0            NaN         21   среднее             1   \n",
              "67         0            NaN         52    высшее             0   \n",
              "72         1            NaN         32    высшее             0   \n",
              "82         2            NaN         50    высшее             0   \n",
              "83         0            NaN         52   среднее             1   \n",
              "\n",
              "            family_status  family_status_id gender  income_type  debt  \\\n",
              "12       гражданский брак                 1      M    пенсионер     0   \n",
              "26        женат / замужем                 0      M  госслужащий     0   \n",
              "29  Не женат / не замужем                 4      F    пенсионер     0   \n",
              "41        женат / замужем                 0      F  госслужащий     0   \n",
              "55       гражданский брак                 1      F    пенсионер     1   \n",
              "65  Не женат / не замужем                 4      M    компаньон     0   \n",
              "67        женат / замужем                 0      F    пенсионер     0   \n",
              "72        женат / замужем                 0      M  госслужащий     0   \n",
              "82        женат / замужем                 0      F    сотрудник     0   \n",
              "83        женат / замужем                 0      M    сотрудник     0   \n",
              "\n",
              "    total_income                                purpose  \n",
              "12           NaN                        сыграть свадьбу  \n",
              "26           NaN                            образование  \n",
              "29           NaN       строительство жилой недвижимости  \n",
              "41           NaN       сделка с подержанным автомобилем  \n",
              "55           NaN                        сыграть свадьбу  \n",
              "65           NaN  операции с коммерческой недвижимостью  \n",
              "67           NaN                покупка жилья для семьи  \n",
              "72           NaN  операции с коммерческой недвижимостью  \n",
              "82           NaN                                  жилье  \n",
              "83           NaN                                  жилье  "
            ]
          },
          "metadata": {},
          "output_type": "display_data"
        }
      ],
      "source": [
        "display(data[data['days_employed'].isna() == True].head(10))"
      ]
    },
    {
      "cell_type": "markdown",
      "metadata": {
        "id": "7hS_Ov9wdvxR"
      },
      "source": [
        "Очевидно, что пропуск в графе Трудовой стаж соответствует также и пропуску в графе Ежемесячный доход. Похоже, что эти пропуски не случайны и у банка просто нет сведений о Стаже и Доходе клиента. Возможно клиент не работает или работает не официально.\n",
        "А раз официальных сведений нет, то их можно принять за 0. \n",
        "\n",
        "Заменим пропуски на нули."
      ]
    },
    {
      "cell_type": "code",
      "execution_count": null,
      "metadata": {
        "id": "h-d9PKJTdvxR",
        "outputId": "22b774a7-a2ad-4a17-b46f-8da0d100bd41"
      },
      "outputs": [
        {
          "data": {
            "text/html": [
              "<div>\n",
              "<style scoped>\n",
              "    .dataframe tbody tr th:only-of-type {\n",
              "        vertical-align: middle;\n",
              "    }\n",
              "\n",
              "    .dataframe tbody tr th {\n",
              "        vertical-align: top;\n",
              "    }\n",
              "\n",
              "    .dataframe thead th {\n",
              "        text-align: right;\n",
              "    }\n",
              "</style>\n",
              "<table border=\"1\" class=\"dataframe\">\n",
              "  <thead>\n",
              "    <tr style=\"text-align: right;\">\n",
              "      <th></th>\n",
              "      <th>children</th>\n",
              "      <th>days_employed</th>\n",
              "      <th>dob_years</th>\n",
              "      <th>education</th>\n",
              "      <th>education_id</th>\n",
              "      <th>family_status</th>\n",
              "      <th>family_status_id</th>\n",
              "      <th>gender</th>\n",
              "      <th>income_type</th>\n",
              "      <th>debt</th>\n",
              "      <th>total_income</th>\n",
              "      <th>purpose</th>\n",
              "    </tr>\n",
              "  </thead>\n",
              "  <tbody>\n",
              "    <tr>\n",
              "      <td>0</td>\n",
              "      <td>1</td>\n",
              "      <td>-8437.673028</td>\n",
              "      <td>42</td>\n",
              "      <td>высшее</td>\n",
              "      <td>0</td>\n",
              "      <td>женат / замужем</td>\n",
              "      <td>0</td>\n",
              "      <td>F</td>\n",
              "      <td>сотрудник</td>\n",
              "      <td>0</td>\n",
              "      <td>253875.639453</td>\n",
              "      <td>покупка жилья</td>\n",
              "    </tr>\n",
              "    <tr>\n",
              "      <td>1</td>\n",
              "      <td>1</td>\n",
              "      <td>-4024.803754</td>\n",
              "      <td>36</td>\n",
              "      <td>среднее</td>\n",
              "      <td>1</td>\n",
              "      <td>женат / замужем</td>\n",
              "      <td>0</td>\n",
              "      <td>F</td>\n",
              "      <td>сотрудник</td>\n",
              "      <td>0</td>\n",
              "      <td>112080.014102</td>\n",
              "      <td>приобретение автомобиля</td>\n",
              "    </tr>\n",
              "    <tr>\n",
              "      <td>2</td>\n",
              "      <td>0</td>\n",
              "      <td>-5623.422610</td>\n",
              "      <td>33</td>\n",
              "      <td>Среднее</td>\n",
              "      <td>1</td>\n",
              "      <td>женат / замужем</td>\n",
              "      <td>0</td>\n",
              "      <td>M</td>\n",
              "      <td>сотрудник</td>\n",
              "      <td>0</td>\n",
              "      <td>145885.952297</td>\n",
              "      <td>покупка жилья</td>\n",
              "    </tr>\n",
              "    <tr>\n",
              "      <td>3</td>\n",
              "      <td>3</td>\n",
              "      <td>-4124.747207</td>\n",
              "      <td>32</td>\n",
              "      <td>среднее</td>\n",
              "      <td>1</td>\n",
              "      <td>женат / замужем</td>\n",
              "      <td>0</td>\n",
              "      <td>M</td>\n",
              "      <td>сотрудник</td>\n",
              "      <td>0</td>\n",
              "      <td>267628.550329</td>\n",
              "      <td>дополнительное образование</td>\n",
              "    </tr>\n",
              "    <tr>\n",
              "      <td>4</td>\n",
              "      <td>0</td>\n",
              "      <td>340266.072047</td>\n",
              "      <td>53</td>\n",
              "      <td>среднее</td>\n",
              "      <td>1</td>\n",
              "      <td>гражданский брак</td>\n",
              "      <td>1</td>\n",
              "      <td>F</td>\n",
              "      <td>пенсионер</td>\n",
              "      <td>0</td>\n",
              "      <td>158616.077870</td>\n",
              "      <td>сыграть свадьбу</td>\n",
              "    </tr>\n",
              "    <tr>\n",
              "      <td>5</td>\n",
              "      <td>0</td>\n",
              "      <td>-926.185831</td>\n",
              "      <td>27</td>\n",
              "      <td>высшее</td>\n",
              "      <td>0</td>\n",
              "      <td>гражданский брак</td>\n",
              "      <td>1</td>\n",
              "      <td>M</td>\n",
              "      <td>компаньон</td>\n",
              "      <td>0</td>\n",
              "      <td>255763.565419</td>\n",
              "      <td>покупка жилья</td>\n",
              "    </tr>\n",
              "    <tr>\n",
              "      <td>6</td>\n",
              "      <td>0</td>\n",
              "      <td>-2879.202052</td>\n",
              "      <td>43</td>\n",
              "      <td>высшее</td>\n",
              "      <td>0</td>\n",
              "      <td>женат / замужем</td>\n",
              "      <td>0</td>\n",
              "      <td>F</td>\n",
              "      <td>компаньон</td>\n",
              "      <td>0</td>\n",
              "      <td>240525.971920</td>\n",
              "      <td>операции с жильем</td>\n",
              "    </tr>\n",
              "    <tr>\n",
              "      <td>7</td>\n",
              "      <td>0</td>\n",
              "      <td>-152.779569</td>\n",
              "      <td>50</td>\n",
              "      <td>СРЕДНЕЕ</td>\n",
              "      <td>1</td>\n",
              "      <td>женат / замужем</td>\n",
              "      <td>0</td>\n",
              "      <td>M</td>\n",
              "      <td>сотрудник</td>\n",
              "      <td>0</td>\n",
              "      <td>135823.934197</td>\n",
              "      <td>образование</td>\n",
              "    </tr>\n",
              "    <tr>\n",
              "      <td>8</td>\n",
              "      <td>2</td>\n",
              "      <td>-6929.865299</td>\n",
              "      <td>35</td>\n",
              "      <td>ВЫСШЕЕ</td>\n",
              "      <td>0</td>\n",
              "      <td>гражданский брак</td>\n",
              "      <td>1</td>\n",
              "      <td>F</td>\n",
              "      <td>сотрудник</td>\n",
              "      <td>0</td>\n",
              "      <td>95856.832424</td>\n",
              "      <td>на проведение свадьбы</td>\n",
              "    </tr>\n",
              "    <tr>\n",
              "      <td>9</td>\n",
              "      <td>0</td>\n",
              "      <td>-2188.756445</td>\n",
              "      <td>41</td>\n",
              "      <td>среднее</td>\n",
              "      <td>1</td>\n",
              "      <td>женат / замужем</td>\n",
              "      <td>0</td>\n",
              "      <td>M</td>\n",
              "      <td>сотрудник</td>\n",
              "      <td>0</td>\n",
              "      <td>144425.938277</td>\n",
              "      <td>покупка жилья для семьи</td>\n",
              "    </tr>\n",
              "  </tbody>\n",
              "</table>\n",
              "</div>"
            ],
            "text/plain": [
              "   children  days_employed  dob_years education  education_id  \\\n",
              "0         1   -8437.673028         42    высшее             0   \n",
              "1         1   -4024.803754         36   среднее             1   \n",
              "2         0   -5623.422610         33   Среднее             1   \n",
              "3         3   -4124.747207         32   среднее             1   \n",
              "4         0  340266.072047         53   среднее             1   \n",
              "5         0    -926.185831         27    высшее             0   \n",
              "6         0   -2879.202052         43    высшее             0   \n",
              "7         0    -152.779569         50   СРЕДНЕЕ             1   \n",
              "8         2   -6929.865299         35    ВЫСШЕЕ             0   \n",
              "9         0   -2188.756445         41   среднее             1   \n",
              "\n",
              "      family_status  family_status_id gender income_type  debt   total_income  \\\n",
              "0   женат / замужем                 0      F   сотрудник     0  253875.639453   \n",
              "1   женат / замужем                 0      F   сотрудник     0  112080.014102   \n",
              "2   женат / замужем                 0      M   сотрудник     0  145885.952297   \n",
              "3   женат / замужем                 0      M   сотрудник     0  267628.550329   \n",
              "4  гражданский брак                 1      F   пенсионер     0  158616.077870   \n",
              "5  гражданский брак                 1      M   компаньон     0  255763.565419   \n",
              "6   женат / замужем                 0      F   компаньон     0  240525.971920   \n",
              "7   женат / замужем                 0      M   сотрудник     0  135823.934197   \n",
              "8  гражданский брак                 1      F   сотрудник     0   95856.832424   \n",
              "9   женат / замужем                 0      M   сотрудник     0  144425.938277   \n",
              "\n",
              "                      purpose  \n",
              "0               покупка жилья  \n",
              "1     приобретение автомобиля  \n",
              "2               покупка жилья  \n",
              "3  дополнительное образование  \n",
              "4             сыграть свадьбу  \n",
              "5               покупка жилья  \n",
              "6           операции с жильем  \n",
              "7                 образование  \n",
              "8       на проведение свадьбы  \n",
              "9     покупка жилья для семьи  "
            ]
          },
          "metadata": {},
          "output_type": "display_data"
        }
      ],
      "source": [
        "data = data.fillna(0)\n",
        "display(data.head(10))"
      ]
    },
    {
      "cell_type": "markdown",
      "metadata": {
        "id": "24QzlMZHdvxR"
      },
      "source": [
        "**Вывод**\n",
        "\n",
        "Мы заменили пропуски нулями, так как выяснили, что пропуски не случайны, а являются следствием отсуствия данных о клиенте.\n",
        "Так как банк обычно интересцют официальные данные для оценки платежеспособности клиента, то будем считать их нулевыми."
      ]
    },
    {
      "cell_type": "markdown",
      "metadata": {
        "id": "-0ZgVMcZdvxS"
      },
      "source": [
        "### Замена типа данных\n",
        "\n",
        "Тип данных у столбцов `'days_employed'` Трудовой стаж и `'total_income'` Ежемесячный доход имеет тип данных `float`, но для этих данных вполне можно использовать и `int`. Так как мало кого интересует половина рабочего дня и копейки в дооде. При этом значения будут намного легче читаться.\n",
        "Поэтому переведем типы данных для столбцов `'days_employed'` и `'total_income'` с `float` на `int`."
      ]
    },
    {
      "cell_type": "code",
      "execution_count": null,
      "metadata": {
        "id": "zNWaDfabdvxS",
        "outputId": "29c14f78-f5e4-4c08-a0a6-7ec80cbeee90"
      },
      "outputs": [
        {
          "name": "stdout",
          "output_type": "stream",
          "text": [
            "<class 'pandas.core.frame.DataFrame'>\n",
            "RangeIndex: 21525 entries, 0 to 21524\n",
            "Data columns (total 12 columns):\n",
            "children            21525 non-null int64\n",
            "days_employed       21525 non-null int64\n",
            "dob_years           21525 non-null int64\n",
            "education           21525 non-null object\n",
            "education_id        21525 non-null int64\n",
            "family_status       21525 non-null object\n",
            "family_status_id    21525 non-null int64\n",
            "gender              21525 non-null object\n",
            "income_type         21525 non-null object\n",
            "debt                21525 non-null int64\n",
            "total_income        21525 non-null int64\n",
            "purpose             21525 non-null object\n",
            "dtypes: int64(7), object(5)\n",
            "memory usage: 2.0+ MB\n"
          ]
        }
      ],
      "source": [
        "data['days_employed'] = data['days_employed'].astype('int')\n",
        "data['total_income'] = data['total_income'].astype('int')\n",
        "data.info()"
      ]
    },
    {
      "cell_type": "markdown",
      "metadata": {
        "id": "qe2Qqy9gdvxS"
      },
      "source": [
        "По информации о таблице видно, что столбцы сменили тип данных.\n",
        "Посмотрим, как это выглядит в таблице."
      ]
    },
    {
      "cell_type": "code",
      "execution_count": null,
      "metadata": {
        "id": "w56WAB4YdvxS",
        "outputId": "c09b09be-daa2-4176-bc16-59a37866e566"
      },
      "outputs": [
        {
          "data": {
            "text/html": [
              "<div>\n",
              "<style scoped>\n",
              "    .dataframe tbody tr th:only-of-type {\n",
              "        vertical-align: middle;\n",
              "    }\n",
              "\n",
              "    .dataframe tbody tr th {\n",
              "        vertical-align: top;\n",
              "    }\n",
              "\n",
              "    .dataframe thead th {\n",
              "        text-align: right;\n",
              "    }\n",
              "</style>\n",
              "<table border=\"1\" class=\"dataframe\">\n",
              "  <thead>\n",
              "    <tr style=\"text-align: right;\">\n",
              "      <th></th>\n",
              "      <th>children</th>\n",
              "      <th>days_employed</th>\n",
              "      <th>dob_years</th>\n",
              "      <th>education</th>\n",
              "      <th>education_id</th>\n",
              "      <th>family_status</th>\n",
              "      <th>family_status_id</th>\n",
              "      <th>gender</th>\n",
              "      <th>income_type</th>\n",
              "      <th>debt</th>\n",
              "      <th>total_income</th>\n",
              "      <th>purpose</th>\n",
              "    </tr>\n",
              "  </thead>\n",
              "  <tbody>\n",
              "    <tr>\n",
              "      <td>0</td>\n",
              "      <td>1</td>\n",
              "      <td>-8437</td>\n",
              "      <td>42</td>\n",
              "      <td>высшее</td>\n",
              "      <td>0</td>\n",
              "      <td>женат / замужем</td>\n",
              "      <td>0</td>\n",
              "      <td>F</td>\n",
              "      <td>сотрудник</td>\n",
              "      <td>0</td>\n",
              "      <td>253875</td>\n",
              "      <td>покупка жилья</td>\n",
              "    </tr>\n",
              "    <tr>\n",
              "      <td>1</td>\n",
              "      <td>1</td>\n",
              "      <td>-4024</td>\n",
              "      <td>36</td>\n",
              "      <td>среднее</td>\n",
              "      <td>1</td>\n",
              "      <td>женат / замужем</td>\n",
              "      <td>0</td>\n",
              "      <td>F</td>\n",
              "      <td>сотрудник</td>\n",
              "      <td>0</td>\n",
              "      <td>112080</td>\n",
              "      <td>приобретение автомобиля</td>\n",
              "    </tr>\n",
              "    <tr>\n",
              "      <td>2</td>\n",
              "      <td>0</td>\n",
              "      <td>-5623</td>\n",
              "      <td>33</td>\n",
              "      <td>Среднее</td>\n",
              "      <td>1</td>\n",
              "      <td>женат / замужем</td>\n",
              "      <td>0</td>\n",
              "      <td>M</td>\n",
              "      <td>сотрудник</td>\n",
              "      <td>0</td>\n",
              "      <td>145885</td>\n",
              "      <td>покупка жилья</td>\n",
              "    </tr>\n",
              "    <tr>\n",
              "      <td>3</td>\n",
              "      <td>3</td>\n",
              "      <td>-4124</td>\n",
              "      <td>32</td>\n",
              "      <td>среднее</td>\n",
              "      <td>1</td>\n",
              "      <td>женат / замужем</td>\n",
              "      <td>0</td>\n",
              "      <td>M</td>\n",
              "      <td>сотрудник</td>\n",
              "      <td>0</td>\n",
              "      <td>267628</td>\n",
              "      <td>дополнительное образование</td>\n",
              "    </tr>\n",
              "    <tr>\n",
              "      <td>4</td>\n",
              "      <td>0</td>\n",
              "      <td>340266</td>\n",
              "      <td>53</td>\n",
              "      <td>среднее</td>\n",
              "      <td>1</td>\n",
              "      <td>гражданский брак</td>\n",
              "      <td>1</td>\n",
              "      <td>F</td>\n",
              "      <td>пенсионер</td>\n",
              "      <td>0</td>\n",
              "      <td>158616</td>\n",
              "      <td>сыграть свадьбу</td>\n",
              "    </tr>\n",
              "    <tr>\n",
              "      <td>5</td>\n",
              "      <td>0</td>\n",
              "      <td>-926</td>\n",
              "      <td>27</td>\n",
              "      <td>высшее</td>\n",
              "      <td>0</td>\n",
              "      <td>гражданский брак</td>\n",
              "      <td>1</td>\n",
              "      <td>M</td>\n",
              "      <td>компаньон</td>\n",
              "      <td>0</td>\n",
              "      <td>255763</td>\n",
              "      <td>покупка жилья</td>\n",
              "    </tr>\n",
              "    <tr>\n",
              "      <td>6</td>\n",
              "      <td>0</td>\n",
              "      <td>-2879</td>\n",
              "      <td>43</td>\n",
              "      <td>высшее</td>\n",
              "      <td>0</td>\n",
              "      <td>женат / замужем</td>\n",
              "      <td>0</td>\n",
              "      <td>F</td>\n",
              "      <td>компаньон</td>\n",
              "      <td>0</td>\n",
              "      <td>240525</td>\n",
              "      <td>операции с жильем</td>\n",
              "    </tr>\n",
              "    <tr>\n",
              "      <td>7</td>\n",
              "      <td>0</td>\n",
              "      <td>-152</td>\n",
              "      <td>50</td>\n",
              "      <td>СРЕДНЕЕ</td>\n",
              "      <td>1</td>\n",
              "      <td>женат / замужем</td>\n",
              "      <td>0</td>\n",
              "      <td>M</td>\n",
              "      <td>сотрудник</td>\n",
              "      <td>0</td>\n",
              "      <td>135823</td>\n",
              "      <td>образование</td>\n",
              "    </tr>\n",
              "    <tr>\n",
              "      <td>8</td>\n",
              "      <td>2</td>\n",
              "      <td>-6929</td>\n",
              "      <td>35</td>\n",
              "      <td>ВЫСШЕЕ</td>\n",
              "      <td>0</td>\n",
              "      <td>гражданский брак</td>\n",
              "      <td>1</td>\n",
              "      <td>F</td>\n",
              "      <td>сотрудник</td>\n",
              "      <td>0</td>\n",
              "      <td>95856</td>\n",
              "      <td>на проведение свадьбы</td>\n",
              "    </tr>\n",
              "    <tr>\n",
              "      <td>9</td>\n",
              "      <td>0</td>\n",
              "      <td>-2188</td>\n",
              "      <td>41</td>\n",
              "      <td>среднее</td>\n",
              "      <td>1</td>\n",
              "      <td>женат / замужем</td>\n",
              "      <td>0</td>\n",
              "      <td>M</td>\n",
              "      <td>сотрудник</td>\n",
              "      <td>0</td>\n",
              "      <td>144425</td>\n",
              "      <td>покупка жилья для семьи</td>\n",
              "    </tr>\n",
              "  </tbody>\n",
              "</table>\n",
              "</div>"
            ],
            "text/plain": [
              "   children  days_employed  dob_years education  education_id  \\\n",
              "0         1          -8437         42    высшее             0   \n",
              "1         1          -4024         36   среднее             1   \n",
              "2         0          -5623         33   Среднее             1   \n",
              "3         3          -4124         32   среднее             1   \n",
              "4         0         340266         53   среднее             1   \n",
              "5         0           -926         27    высшее             0   \n",
              "6         0          -2879         43    высшее             0   \n",
              "7         0           -152         50   СРЕДНЕЕ             1   \n",
              "8         2          -6929         35    ВЫСШЕЕ             0   \n",
              "9         0          -2188         41   среднее             1   \n",
              "\n",
              "      family_status  family_status_id gender income_type  debt  total_income  \\\n",
              "0   женат / замужем                 0      F   сотрудник     0        253875   \n",
              "1   женат / замужем                 0      F   сотрудник     0        112080   \n",
              "2   женат / замужем                 0      M   сотрудник     0        145885   \n",
              "3   женат / замужем                 0      M   сотрудник     0        267628   \n",
              "4  гражданский брак                 1      F   пенсионер     0        158616   \n",
              "5  гражданский брак                 1      M   компаньон     0        255763   \n",
              "6   женат / замужем                 0      F   компаньон     0        240525   \n",
              "7   женат / замужем                 0      M   сотрудник     0        135823   \n",
              "8  гражданский брак                 1      F   сотрудник     0         95856   \n",
              "9   женат / замужем                 0      M   сотрудник     0        144425   \n",
              "\n",
              "                      purpose  \n",
              "0               покупка жилья  \n",
              "1     приобретение автомобиля  \n",
              "2               покупка жилья  \n",
              "3  дополнительное образование  \n",
              "4             сыграть свадьбу  \n",
              "5               покупка жилья  \n",
              "6           операции с жильем  \n",
              "7                 образование  \n",
              "8       на проведение свадьбы  \n",
              "9     покупка жилья для семьи  "
            ]
          },
          "metadata": {},
          "output_type": "display_data"
        }
      ],
      "source": [
        "display(data.head(10))"
      ]
    },
    {
      "cell_type": "markdown",
      "metadata": {
        "id": "SlYjAsvadvxT"
      },
      "source": [
        "**Вывод**"
      ]
    },
    {
      "cell_type": "markdown",
      "metadata": {
        "id": "rNFK6rwRdvxT"
      },
      "source": [
        "Изменили теп данных для столбцов `'days_employed'` и `'total_income'` с `float` на `int`. Столбцы стали легче читаться."
      ]
    },
    {
      "cell_type": "markdown",
      "metadata": {
        "id": "vzj6SlacdvxT"
      },
      "source": [
        "### Артефакты\n",
        "\n",
        "Помимо пропусков столбец `days_employed` содержит еще и артефакт - несвойственные значения. Это отрицательны значения дней трудового стажа, но количество дней не может быть отрицательным.\n",
        "Кроме того, те данные, что не отрицательны имеют слишком большую величину - около 400 тысяч дней - это больше 900 лет трудового стажа, что невозможно."
      ]
    },
    {
      "cell_type": "code",
      "execution_count": null,
      "metadata": {
        "id": "Nd8YbzFadvxT",
        "outputId": "cf935212-352e-4478-92ac-3813fa9ddd72"
      },
      "outputs": [
        {
          "data": {
            "text/html": [
              "<div>\n",
              "<style scoped>\n",
              "    .dataframe tbody tr th:only-of-type {\n",
              "        vertical-align: middle;\n",
              "    }\n",
              "\n",
              "    .dataframe tbody tr th {\n",
              "        vertical-align: top;\n",
              "    }\n",
              "\n",
              "    .dataframe thead th {\n",
              "        text-align: right;\n",
              "    }\n",
              "</style>\n",
              "<table border=\"1\" class=\"dataframe\">\n",
              "  <thead>\n",
              "    <tr style=\"text-align: right;\">\n",
              "      <th></th>\n",
              "      <th>children</th>\n",
              "      <th>days_employed</th>\n",
              "      <th>dob_years</th>\n",
              "      <th>education</th>\n",
              "      <th>education_id</th>\n",
              "      <th>family_status</th>\n",
              "      <th>family_status_id</th>\n",
              "      <th>gender</th>\n",
              "      <th>income_type</th>\n",
              "      <th>debt</th>\n",
              "      <th>total_income</th>\n",
              "      <th>purpose</th>\n",
              "    </tr>\n",
              "  </thead>\n",
              "  <tbody>\n",
              "    <tr>\n",
              "      <td>6954</td>\n",
              "      <td>0</td>\n",
              "      <td>401755</td>\n",
              "      <td>56</td>\n",
              "      <td>среднее</td>\n",
              "      <td>1</td>\n",
              "      <td>вдовец / вдова</td>\n",
              "      <td>2</td>\n",
              "      <td>F</td>\n",
              "      <td>пенсионер</td>\n",
              "      <td>0</td>\n",
              "      <td>176278</td>\n",
              "      <td>ремонт жилью</td>\n",
              "    </tr>\n",
              "    <tr>\n",
              "      <td>10006</td>\n",
              "      <td>0</td>\n",
              "      <td>401715</td>\n",
              "      <td>69</td>\n",
              "      <td>высшее</td>\n",
              "      <td>0</td>\n",
              "      <td>Не женат / не замужем</td>\n",
              "      <td>4</td>\n",
              "      <td>F</td>\n",
              "      <td>пенсионер</td>\n",
              "      <td>0</td>\n",
              "      <td>57390</td>\n",
              "      <td>получение образования</td>\n",
              "    </tr>\n",
              "    <tr>\n",
              "      <td>7664</td>\n",
              "      <td>1</td>\n",
              "      <td>401675</td>\n",
              "      <td>61</td>\n",
              "      <td>среднее</td>\n",
              "      <td>1</td>\n",
              "      <td>женат / замужем</td>\n",
              "      <td>0</td>\n",
              "      <td>F</td>\n",
              "      <td>пенсионер</td>\n",
              "      <td>0</td>\n",
              "      <td>126214</td>\n",
              "      <td>операции с жильем</td>\n",
              "    </tr>\n",
              "    <tr>\n",
              "      <td>2156</td>\n",
              "      <td>0</td>\n",
              "      <td>401674</td>\n",
              "      <td>60</td>\n",
              "      <td>среднее</td>\n",
              "      <td>1</td>\n",
              "      <td>женат / замужем</td>\n",
              "      <td>0</td>\n",
              "      <td>M</td>\n",
              "      <td>пенсионер</td>\n",
              "      <td>0</td>\n",
              "      <td>325395</td>\n",
              "      <td>автомобили</td>\n",
              "    </tr>\n",
              "    <tr>\n",
              "      <td>7794</td>\n",
              "      <td>0</td>\n",
              "      <td>401663</td>\n",
              "      <td>61</td>\n",
              "      <td>среднее</td>\n",
              "      <td>1</td>\n",
              "      <td>гражданский брак</td>\n",
              "      <td>1</td>\n",
              "      <td>F</td>\n",
              "      <td>пенсионер</td>\n",
              "      <td>0</td>\n",
              "      <td>48286</td>\n",
              "      <td>свадьба</td>\n",
              "    </tr>\n",
              "    <tr>\n",
              "      <td>4697</td>\n",
              "      <td>0</td>\n",
              "      <td>401635</td>\n",
              "      <td>56</td>\n",
              "      <td>среднее</td>\n",
              "      <td>1</td>\n",
              "      <td>женат / замужем</td>\n",
              "      <td>0</td>\n",
              "      <td>F</td>\n",
              "      <td>пенсионер</td>\n",
              "      <td>0</td>\n",
              "      <td>48242</td>\n",
              "      <td>покупка недвижимости</td>\n",
              "    </tr>\n",
              "    <tr>\n",
              "      <td>13420</td>\n",
              "      <td>0</td>\n",
              "      <td>401619</td>\n",
              "      <td>63</td>\n",
              "      <td>Среднее</td>\n",
              "      <td>1</td>\n",
              "      <td>гражданский брак</td>\n",
              "      <td>1</td>\n",
              "      <td>F</td>\n",
              "      <td>пенсионер</td>\n",
              "      <td>0</td>\n",
              "      <td>51449</td>\n",
              "      <td>сыграть свадьбу</td>\n",
              "    </tr>\n",
              "    <tr>\n",
              "      <td>17823</td>\n",
              "      <td>0</td>\n",
              "      <td>401614</td>\n",
              "      <td>59</td>\n",
              "      <td>среднее</td>\n",
              "      <td>1</td>\n",
              "      <td>женат / замужем</td>\n",
              "      <td>0</td>\n",
              "      <td>F</td>\n",
              "      <td>пенсионер</td>\n",
              "      <td>0</td>\n",
              "      <td>152769</td>\n",
              "      <td>покупка жилья для сдачи</td>\n",
              "    </tr>\n",
              "    <tr>\n",
              "      <td>10991</td>\n",
              "      <td>0</td>\n",
              "      <td>401591</td>\n",
              "      <td>56</td>\n",
              "      <td>среднее</td>\n",
              "      <td>1</td>\n",
              "      <td>в разводе</td>\n",
              "      <td>3</td>\n",
              "      <td>F</td>\n",
              "      <td>пенсионер</td>\n",
              "      <td>0</td>\n",
              "      <td>39513</td>\n",
              "      <td>получение дополнительного образования</td>\n",
              "    </tr>\n",
              "    <tr>\n",
              "      <td>8369</td>\n",
              "      <td>0</td>\n",
              "      <td>401590</td>\n",
              "      <td>58</td>\n",
              "      <td>среднее</td>\n",
              "      <td>1</td>\n",
              "      <td>женат / замужем</td>\n",
              "      <td>0</td>\n",
              "      <td>F</td>\n",
              "      <td>пенсионер</td>\n",
              "      <td>0</td>\n",
              "      <td>175306</td>\n",
              "      <td>образование</td>\n",
              "    </tr>\n",
              "  </tbody>\n",
              "</table>\n",
              "</div>"
            ],
            "text/plain": [
              "       children  days_employed  dob_years education  education_id  \\\n",
              "6954          0         401755         56   среднее             1   \n",
              "10006         0         401715         69    высшее             0   \n",
              "7664          1         401675         61   среднее             1   \n",
              "2156          0         401674         60   среднее             1   \n",
              "7794          0         401663         61   среднее             1   \n",
              "4697          0         401635         56   среднее             1   \n",
              "13420         0         401619         63   Среднее             1   \n",
              "17823         0         401614         59   среднее             1   \n",
              "10991         0         401591         56   среднее             1   \n",
              "8369          0         401590         58   среднее             1   \n",
              "\n",
              "               family_status  family_status_id gender income_type  debt  \\\n",
              "6954          вдовец / вдова                 2      F   пенсионер     0   \n",
              "10006  Не женат / не замужем                 4      F   пенсионер     0   \n",
              "7664         женат / замужем                 0      F   пенсионер     0   \n",
              "2156         женат / замужем                 0      M   пенсионер     0   \n",
              "7794        гражданский брак                 1      F   пенсионер     0   \n",
              "4697         женат / замужем                 0      F   пенсионер     0   \n",
              "13420       гражданский брак                 1      F   пенсионер     0   \n",
              "17823        женат / замужем                 0      F   пенсионер     0   \n",
              "10991              в разводе                 3      F   пенсионер     0   \n",
              "8369         женат / замужем                 0      F   пенсионер     0   \n",
              "\n",
              "       total_income                                purpose  \n",
              "6954         176278                           ремонт жилью  \n",
              "10006         57390                  получение образования  \n",
              "7664         126214                      операции с жильем  \n",
              "2156         325395                             автомобили  \n",
              "7794          48286                                свадьба  \n",
              "4697          48242                   покупка недвижимости  \n",
              "13420         51449                        сыграть свадьбу  \n",
              "17823        152769                покупка жилья для сдачи  \n",
              "10991         39513  получение дополнительного образования  \n",
              "8369         175306                            образование  "
            ]
          },
          "execution_count": 9,
          "metadata": {},
          "output_type": "execute_result"
        }
      ],
      "source": [
        "data.sort_values(by = 'days_employed', ascending = False).head(10)"
      ]
    },
    {
      "cell_type": "markdown",
      "metadata": {
        "id": "Wj-sbqWndvxT"
      },
      "source": [
        "Можно предположить, что тут количество указано не в дня, а в часах.\n",
        "Тогда разделим аномальные значения на 24 часа, чтобы получить дни."
      ]
    },
    {
      "cell_type": "code",
      "execution_count": null,
      "metadata": {
        "id": "JcK8ot0_dvxT",
        "outputId": "51ec54f7-3b7b-40cf-8a23-03963b4a3c8f"
      },
      "outputs": [
        {
          "data": {
            "text/html": [
              "<div>\n",
              "<style scoped>\n",
              "    .dataframe tbody tr th:only-of-type {\n",
              "        vertical-align: middle;\n",
              "    }\n",
              "\n",
              "    .dataframe tbody tr th {\n",
              "        vertical-align: top;\n",
              "    }\n",
              "\n",
              "    .dataframe thead th {\n",
              "        text-align: right;\n",
              "    }\n",
              "</style>\n",
              "<table border=\"1\" class=\"dataframe\">\n",
              "  <thead>\n",
              "    <tr style=\"text-align: right;\">\n",
              "      <th></th>\n",
              "      <th>children</th>\n",
              "      <th>days_employed</th>\n",
              "      <th>dob_years</th>\n",
              "      <th>education</th>\n",
              "      <th>education_id</th>\n",
              "      <th>family_status</th>\n",
              "      <th>family_status_id</th>\n",
              "      <th>gender</th>\n",
              "      <th>income_type</th>\n",
              "      <th>debt</th>\n",
              "      <th>total_income</th>\n",
              "      <th>purpose</th>\n",
              "    </tr>\n",
              "  </thead>\n",
              "  <tbody>\n",
              "    <tr>\n",
              "      <td>0</td>\n",
              "      <td>1</td>\n",
              "      <td>-8437.00</td>\n",
              "      <td>42</td>\n",
              "      <td>высшее</td>\n",
              "      <td>0</td>\n",
              "      <td>женат / замужем</td>\n",
              "      <td>0</td>\n",
              "      <td>F</td>\n",
              "      <td>сотрудник</td>\n",
              "      <td>0</td>\n",
              "      <td>253875</td>\n",
              "      <td>покупка жилья</td>\n",
              "    </tr>\n",
              "    <tr>\n",
              "      <td>1</td>\n",
              "      <td>1</td>\n",
              "      <td>-4024.00</td>\n",
              "      <td>36</td>\n",
              "      <td>среднее</td>\n",
              "      <td>1</td>\n",
              "      <td>женат / замужем</td>\n",
              "      <td>0</td>\n",
              "      <td>F</td>\n",
              "      <td>сотрудник</td>\n",
              "      <td>0</td>\n",
              "      <td>112080</td>\n",
              "      <td>приобретение автомобиля</td>\n",
              "    </tr>\n",
              "    <tr>\n",
              "      <td>2</td>\n",
              "      <td>0</td>\n",
              "      <td>-5623.00</td>\n",
              "      <td>33</td>\n",
              "      <td>Среднее</td>\n",
              "      <td>1</td>\n",
              "      <td>женат / замужем</td>\n",
              "      <td>0</td>\n",
              "      <td>M</td>\n",
              "      <td>сотрудник</td>\n",
              "      <td>0</td>\n",
              "      <td>145885</td>\n",
              "      <td>покупка жилья</td>\n",
              "    </tr>\n",
              "    <tr>\n",
              "      <td>3</td>\n",
              "      <td>3</td>\n",
              "      <td>-4124.00</td>\n",
              "      <td>32</td>\n",
              "      <td>среднее</td>\n",
              "      <td>1</td>\n",
              "      <td>женат / замужем</td>\n",
              "      <td>0</td>\n",
              "      <td>M</td>\n",
              "      <td>сотрудник</td>\n",
              "      <td>0</td>\n",
              "      <td>267628</td>\n",
              "      <td>дополнительное образование</td>\n",
              "    </tr>\n",
              "    <tr>\n",
              "      <td>4</td>\n",
              "      <td>0</td>\n",
              "      <td>14177.75</td>\n",
              "      <td>53</td>\n",
              "      <td>среднее</td>\n",
              "      <td>1</td>\n",
              "      <td>гражданский брак</td>\n",
              "      <td>1</td>\n",
              "      <td>F</td>\n",
              "      <td>пенсионер</td>\n",
              "      <td>0</td>\n",
              "      <td>158616</td>\n",
              "      <td>сыграть свадьбу</td>\n",
              "    </tr>\n",
              "  </tbody>\n",
              "</table>\n",
              "</div>"
            ],
            "text/plain": [
              "   children  days_employed  dob_years education  education_id  \\\n",
              "0         1       -8437.00         42    высшее             0   \n",
              "1         1       -4024.00         36   среднее             1   \n",
              "2         0       -5623.00         33   Среднее             1   \n",
              "3         3       -4124.00         32   среднее             1   \n",
              "4         0       14177.75         53   среднее             1   \n",
              "\n",
              "      family_status  family_status_id gender income_type  debt  total_income  \\\n",
              "0   женат / замужем                 0      F   сотрудник     0        253875   \n",
              "1   женат / замужем                 0      F   сотрудник     0        112080   \n",
              "2   женат / замужем                 0      M   сотрудник     0        145885   \n",
              "3   женат / замужем                 0      M   сотрудник     0        267628   \n",
              "4  гражданский брак                 1      F   пенсионер     0        158616   \n",
              "\n",
              "                      purpose  \n",
              "0               покупка жилья  \n",
              "1     приобретение автомобиля  \n",
              "2               покупка жилья  \n",
              "3  дополнительное образование  \n",
              "4             сыграть свадьбу  "
            ]
          },
          "metadata": {},
          "output_type": "display_data"
        }
      ],
      "source": [
        "for i in range(len(data['days_employed'])):\n",
        "    if data.loc[i, 'days_employed'] > 0:\n",
        "        data.loc[i, 'days_employed'] = data.loc[i, 'days_employed'] / 24\n",
        "display(data.head())"
      ]
    },
    {
      "cell_type": "markdown",
      "metadata": {
        "id": "-gX5_gaCdvxU"
      },
      "source": [
        "Теперь проверим значения."
      ]
    },
    {
      "cell_type": "code",
      "execution_count": null,
      "metadata": {
        "id": "EicsN6PqdvxU",
        "outputId": "dbc5348f-ac64-4bd2-c253-6a0a759d61ed"
      },
      "outputs": [
        {
          "data": {
            "text/html": [
              "<div>\n",
              "<style scoped>\n",
              "    .dataframe tbody tr th:only-of-type {\n",
              "        vertical-align: middle;\n",
              "    }\n",
              "\n",
              "    .dataframe tbody tr th {\n",
              "        vertical-align: top;\n",
              "    }\n",
              "\n",
              "    .dataframe thead th {\n",
              "        text-align: right;\n",
              "    }\n",
              "</style>\n",
              "<table border=\"1\" class=\"dataframe\">\n",
              "  <thead>\n",
              "    <tr style=\"text-align: right;\">\n",
              "      <th></th>\n",
              "      <th>children</th>\n",
              "      <th>days_employed</th>\n",
              "      <th>dob_years</th>\n",
              "      <th>education</th>\n",
              "      <th>education_id</th>\n",
              "      <th>family_status</th>\n",
              "      <th>family_status_id</th>\n",
              "      <th>gender</th>\n",
              "      <th>income_type</th>\n",
              "      <th>debt</th>\n",
              "      <th>total_income</th>\n",
              "      <th>purpose</th>\n",
              "    </tr>\n",
              "  </thead>\n",
              "  <tbody>\n",
              "    <tr>\n",
              "      <td>6954</td>\n",
              "      <td>0</td>\n",
              "      <td>16739.791667</td>\n",
              "      <td>56</td>\n",
              "      <td>среднее</td>\n",
              "      <td>1</td>\n",
              "      <td>вдовец / вдова</td>\n",
              "      <td>2</td>\n",
              "      <td>F</td>\n",
              "      <td>пенсионер</td>\n",
              "      <td>0</td>\n",
              "      <td>176278</td>\n",
              "      <td>ремонт жилью</td>\n",
              "    </tr>\n",
              "    <tr>\n",
              "      <td>10006</td>\n",
              "      <td>0</td>\n",
              "      <td>16738.125000</td>\n",
              "      <td>69</td>\n",
              "      <td>высшее</td>\n",
              "      <td>0</td>\n",
              "      <td>Не женат / не замужем</td>\n",
              "      <td>4</td>\n",
              "      <td>F</td>\n",
              "      <td>пенсионер</td>\n",
              "      <td>0</td>\n",
              "      <td>57390</td>\n",
              "      <td>получение образования</td>\n",
              "    </tr>\n",
              "    <tr>\n",
              "      <td>7664</td>\n",
              "      <td>1</td>\n",
              "      <td>16736.458333</td>\n",
              "      <td>61</td>\n",
              "      <td>среднее</td>\n",
              "      <td>1</td>\n",
              "      <td>женат / замужем</td>\n",
              "      <td>0</td>\n",
              "      <td>F</td>\n",
              "      <td>пенсионер</td>\n",
              "      <td>0</td>\n",
              "      <td>126214</td>\n",
              "      <td>операции с жильем</td>\n",
              "    </tr>\n",
              "    <tr>\n",
              "      <td>2156</td>\n",
              "      <td>0</td>\n",
              "      <td>16736.416667</td>\n",
              "      <td>60</td>\n",
              "      <td>среднее</td>\n",
              "      <td>1</td>\n",
              "      <td>женат / замужем</td>\n",
              "      <td>0</td>\n",
              "      <td>M</td>\n",
              "      <td>пенсионер</td>\n",
              "      <td>0</td>\n",
              "      <td>325395</td>\n",
              "      <td>автомобили</td>\n",
              "    </tr>\n",
              "    <tr>\n",
              "      <td>7794</td>\n",
              "      <td>0</td>\n",
              "      <td>16735.958333</td>\n",
              "      <td>61</td>\n",
              "      <td>среднее</td>\n",
              "      <td>1</td>\n",
              "      <td>гражданский брак</td>\n",
              "      <td>1</td>\n",
              "      <td>F</td>\n",
              "      <td>пенсионер</td>\n",
              "      <td>0</td>\n",
              "      <td>48286</td>\n",
              "      <td>свадьба</td>\n",
              "    </tr>\n",
              "    <tr>\n",
              "      <td>4697</td>\n",
              "      <td>0</td>\n",
              "      <td>16734.791667</td>\n",
              "      <td>56</td>\n",
              "      <td>среднее</td>\n",
              "      <td>1</td>\n",
              "      <td>женат / замужем</td>\n",
              "      <td>0</td>\n",
              "      <td>F</td>\n",
              "      <td>пенсионер</td>\n",
              "      <td>0</td>\n",
              "      <td>48242</td>\n",
              "      <td>покупка недвижимости</td>\n",
              "    </tr>\n",
              "    <tr>\n",
              "      <td>13420</td>\n",
              "      <td>0</td>\n",
              "      <td>16734.125000</td>\n",
              "      <td>63</td>\n",
              "      <td>Среднее</td>\n",
              "      <td>1</td>\n",
              "      <td>гражданский брак</td>\n",
              "      <td>1</td>\n",
              "      <td>F</td>\n",
              "      <td>пенсионер</td>\n",
              "      <td>0</td>\n",
              "      <td>51449</td>\n",
              "      <td>сыграть свадьбу</td>\n",
              "    </tr>\n",
              "    <tr>\n",
              "      <td>17823</td>\n",
              "      <td>0</td>\n",
              "      <td>16733.916667</td>\n",
              "      <td>59</td>\n",
              "      <td>среднее</td>\n",
              "      <td>1</td>\n",
              "      <td>женат / замужем</td>\n",
              "      <td>0</td>\n",
              "      <td>F</td>\n",
              "      <td>пенсионер</td>\n",
              "      <td>0</td>\n",
              "      <td>152769</td>\n",
              "      <td>покупка жилья для сдачи</td>\n",
              "    </tr>\n",
              "    <tr>\n",
              "      <td>10991</td>\n",
              "      <td>0</td>\n",
              "      <td>16732.958333</td>\n",
              "      <td>56</td>\n",
              "      <td>среднее</td>\n",
              "      <td>1</td>\n",
              "      <td>в разводе</td>\n",
              "      <td>3</td>\n",
              "      <td>F</td>\n",
              "      <td>пенсионер</td>\n",
              "      <td>0</td>\n",
              "      <td>39513</td>\n",
              "      <td>получение дополнительного образования</td>\n",
              "    </tr>\n",
              "    <tr>\n",
              "      <td>8369</td>\n",
              "      <td>0</td>\n",
              "      <td>16732.916667</td>\n",
              "      <td>58</td>\n",
              "      <td>среднее</td>\n",
              "      <td>1</td>\n",
              "      <td>женат / замужем</td>\n",
              "      <td>0</td>\n",
              "      <td>F</td>\n",
              "      <td>пенсионер</td>\n",
              "      <td>0</td>\n",
              "      <td>175306</td>\n",
              "      <td>образование</td>\n",
              "    </tr>\n",
              "  </tbody>\n",
              "</table>\n",
              "</div>"
            ],
            "text/plain": [
              "       children  days_employed  dob_years education  education_id  \\\n",
              "6954          0   16739.791667         56   среднее             1   \n",
              "10006         0   16738.125000         69    высшее             0   \n",
              "7664          1   16736.458333         61   среднее             1   \n",
              "2156          0   16736.416667         60   среднее             1   \n",
              "7794          0   16735.958333         61   среднее             1   \n",
              "4697          0   16734.791667         56   среднее             1   \n",
              "13420         0   16734.125000         63   Среднее             1   \n",
              "17823         0   16733.916667         59   среднее             1   \n",
              "10991         0   16732.958333         56   среднее             1   \n",
              "8369          0   16732.916667         58   среднее             1   \n",
              "\n",
              "               family_status  family_status_id gender income_type  debt  \\\n",
              "6954          вдовец / вдова                 2      F   пенсионер     0   \n",
              "10006  Не женат / не замужем                 4      F   пенсионер     0   \n",
              "7664         женат / замужем                 0      F   пенсионер     0   \n",
              "2156         женат / замужем                 0      M   пенсионер     0   \n",
              "7794        гражданский брак                 1      F   пенсионер     0   \n",
              "4697         женат / замужем                 0      F   пенсионер     0   \n",
              "13420       гражданский брак                 1      F   пенсионер     0   \n",
              "17823        женат / замужем                 0      F   пенсионер     0   \n",
              "10991              в разводе                 3      F   пенсионер     0   \n",
              "8369         женат / замужем                 0      F   пенсионер     0   \n",
              "\n",
              "       total_income                                purpose  \n",
              "6954         176278                           ремонт жилью  \n",
              "10006         57390                  получение образования  \n",
              "7664         126214                      операции с жильем  \n",
              "2156         325395                             автомобили  \n",
              "7794          48286                                свадьба  \n",
              "4697          48242                   покупка недвижимости  \n",
              "13420         51449                        сыграть свадьбу  \n",
              "17823        152769                покупка жилья для сдачи  \n",
              "10991         39513  получение дополнительного образования  \n",
              "8369         175306                            образование  "
            ]
          },
          "execution_count": 11,
          "metadata": {},
          "output_type": "execute_result"
        }
      ],
      "source": [
        "data.sort_values(by = 'days_employed', ascending = False).head(10)"
      ]
    },
    {
      "cell_type": "markdown",
      "metadata": {
        "id": "XpYFCwfkdvxU"
      },
      "source": [
        "Получились максимальные значения около 18 тысяч дней, что соответствует 50 годам стажа.\n",
        "Так как большинство клиентов имеющих такие аномальные значения пенсионеры, то это вполне вероятно.\n",
        "\n",
        "Теперь разберемся отрицательными значениями.\n",
        "Так как данные не вызывают вопросов в плане количество, то можно предположить, что минус это просто тире, которое набирали при вводе данных, тогда переведем отрицательные значения столбца `days_employed` в положительные."
      ]
    },
    {
      "cell_type": "code",
      "execution_count": null,
      "metadata": {
        "id": "KlUPPoOFdvxU",
        "outputId": "159b6f1f-e6eb-4e6c-be16-02400e42ddc6"
      },
      "outputs": [
        {
          "data": {
            "text/html": [
              "<div>\n",
              "<style scoped>\n",
              "    .dataframe tbody tr th:only-of-type {\n",
              "        vertical-align: middle;\n",
              "    }\n",
              "\n",
              "    .dataframe tbody tr th {\n",
              "        vertical-align: top;\n",
              "    }\n",
              "\n",
              "    .dataframe thead th {\n",
              "        text-align: right;\n",
              "    }\n",
              "</style>\n",
              "<table border=\"1\" class=\"dataframe\">\n",
              "  <thead>\n",
              "    <tr style=\"text-align: right;\">\n",
              "      <th></th>\n",
              "      <th>children</th>\n",
              "      <th>days_employed</th>\n",
              "      <th>dob_years</th>\n",
              "      <th>education</th>\n",
              "      <th>education_id</th>\n",
              "      <th>family_status</th>\n",
              "      <th>family_status_id</th>\n",
              "      <th>gender</th>\n",
              "      <th>income_type</th>\n",
              "      <th>debt</th>\n",
              "      <th>total_income</th>\n",
              "      <th>purpose</th>\n",
              "    </tr>\n",
              "  </thead>\n",
              "  <tbody>\n",
              "    <tr>\n",
              "      <td>0</td>\n",
              "      <td>1</td>\n",
              "      <td>8437.00</td>\n",
              "      <td>42</td>\n",
              "      <td>высшее</td>\n",
              "      <td>0</td>\n",
              "      <td>женат / замужем</td>\n",
              "      <td>0</td>\n",
              "      <td>F</td>\n",
              "      <td>сотрудник</td>\n",
              "      <td>0</td>\n",
              "      <td>253875</td>\n",
              "      <td>покупка жилья</td>\n",
              "    </tr>\n",
              "    <tr>\n",
              "      <td>1</td>\n",
              "      <td>1</td>\n",
              "      <td>4024.00</td>\n",
              "      <td>36</td>\n",
              "      <td>среднее</td>\n",
              "      <td>1</td>\n",
              "      <td>женат / замужем</td>\n",
              "      <td>0</td>\n",
              "      <td>F</td>\n",
              "      <td>сотрудник</td>\n",
              "      <td>0</td>\n",
              "      <td>112080</td>\n",
              "      <td>приобретение автомобиля</td>\n",
              "    </tr>\n",
              "    <tr>\n",
              "      <td>2</td>\n",
              "      <td>0</td>\n",
              "      <td>5623.00</td>\n",
              "      <td>33</td>\n",
              "      <td>Среднее</td>\n",
              "      <td>1</td>\n",
              "      <td>женат / замужем</td>\n",
              "      <td>0</td>\n",
              "      <td>M</td>\n",
              "      <td>сотрудник</td>\n",
              "      <td>0</td>\n",
              "      <td>145885</td>\n",
              "      <td>покупка жилья</td>\n",
              "    </tr>\n",
              "    <tr>\n",
              "      <td>3</td>\n",
              "      <td>3</td>\n",
              "      <td>4124.00</td>\n",
              "      <td>32</td>\n",
              "      <td>среднее</td>\n",
              "      <td>1</td>\n",
              "      <td>женат / замужем</td>\n",
              "      <td>0</td>\n",
              "      <td>M</td>\n",
              "      <td>сотрудник</td>\n",
              "      <td>0</td>\n",
              "      <td>267628</td>\n",
              "      <td>дополнительное образование</td>\n",
              "    </tr>\n",
              "    <tr>\n",
              "      <td>4</td>\n",
              "      <td>0</td>\n",
              "      <td>14177.75</td>\n",
              "      <td>53</td>\n",
              "      <td>среднее</td>\n",
              "      <td>1</td>\n",
              "      <td>гражданский брак</td>\n",
              "      <td>1</td>\n",
              "      <td>F</td>\n",
              "      <td>пенсионер</td>\n",
              "      <td>0</td>\n",
              "      <td>158616</td>\n",
              "      <td>сыграть свадьбу</td>\n",
              "    </tr>\n",
              "    <tr>\n",
              "      <td>5</td>\n",
              "      <td>0</td>\n",
              "      <td>926.00</td>\n",
              "      <td>27</td>\n",
              "      <td>высшее</td>\n",
              "      <td>0</td>\n",
              "      <td>гражданский брак</td>\n",
              "      <td>1</td>\n",
              "      <td>M</td>\n",
              "      <td>компаньон</td>\n",
              "      <td>0</td>\n",
              "      <td>255763</td>\n",
              "      <td>покупка жилья</td>\n",
              "    </tr>\n",
              "    <tr>\n",
              "      <td>6</td>\n",
              "      <td>0</td>\n",
              "      <td>2879.00</td>\n",
              "      <td>43</td>\n",
              "      <td>высшее</td>\n",
              "      <td>0</td>\n",
              "      <td>женат / замужем</td>\n",
              "      <td>0</td>\n",
              "      <td>F</td>\n",
              "      <td>компаньон</td>\n",
              "      <td>0</td>\n",
              "      <td>240525</td>\n",
              "      <td>операции с жильем</td>\n",
              "    </tr>\n",
              "    <tr>\n",
              "      <td>7</td>\n",
              "      <td>0</td>\n",
              "      <td>152.00</td>\n",
              "      <td>50</td>\n",
              "      <td>СРЕДНЕЕ</td>\n",
              "      <td>1</td>\n",
              "      <td>женат / замужем</td>\n",
              "      <td>0</td>\n",
              "      <td>M</td>\n",
              "      <td>сотрудник</td>\n",
              "      <td>0</td>\n",
              "      <td>135823</td>\n",
              "      <td>образование</td>\n",
              "    </tr>\n",
              "    <tr>\n",
              "      <td>8</td>\n",
              "      <td>2</td>\n",
              "      <td>6929.00</td>\n",
              "      <td>35</td>\n",
              "      <td>ВЫСШЕЕ</td>\n",
              "      <td>0</td>\n",
              "      <td>гражданский брак</td>\n",
              "      <td>1</td>\n",
              "      <td>F</td>\n",
              "      <td>сотрудник</td>\n",
              "      <td>0</td>\n",
              "      <td>95856</td>\n",
              "      <td>на проведение свадьбы</td>\n",
              "    </tr>\n",
              "    <tr>\n",
              "      <td>9</td>\n",
              "      <td>0</td>\n",
              "      <td>2188.00</td>\n",
              "      <td>41</td>\n",
              "      <td>среднее</td>\n",
              "      <td>1</td>\n",
              "      <td>женат / замужем</td>\n",
              "      <td>0</td>\n",
              "      <td>M</td>\n",
              "      <td>сотрудник</td>\n",
              "      <td>0</td>\n",
              "      <td>144425</td>\n",
              "      <td>покупка жилья для семьи</td>\n",
              "    </tr>\n",
              "  </tbody>\n",
              "</table>\n",
              "</div>"
            ],
            "text/plain": [
              "   children  days_employed  dob_years education  education_id  \\\n",
              "0         1        8437.00         42    высшее             0   \n",
              "1         1        4024.00         36   среднее             1   \n",
              "2         0        5623.00         33   Среднее             1   \n",
              "3         3        4124.00         32   среднее             1   \n",
              "4         0       14177.75         53   среднее             1   \n",
              "5         0         926.00         27    высшее             0   \n",
              "6         0        2879.00         43    высшее             0   \n",
              "7         0         152.00         50   СРЕДНЕЕ             1   \n",
              "8         2        6929.00         35    ВЫСШЕЕ             0   \n",
              "9         0        2188.00         41   среднее             1   \n",
              "\n",
              "      family_status  family_status_id gender income_type  debt  total_income  \\\n",
              "0   женат / замужем                 0      F   сотрудник     0        253875   \n",
              "1   женат / замужем                 0      F   сотрудник     0        112080   \n",
              "2   женат / замужем                 0      M   сотрудник     0        145885   \n",
              "3   женат / замужем                 0      M   сотрудник     0        267628   \n",
              "4  гражданский брак                 1      F   пенсионер     0        158616   \n",
              "5  гражданский брак                 1      M   компаньон     0        255763   \n",
              "6   женат / замужем                 0      F   компаньон     0        240525   \n",
              "7   женат / замужем                 0      M   сотрудник     0        135823   \n",
              "8  гражданский брак                 1      F   сотрудник     0         95856   \n",
              "9   женат / замужем                 0      M   сотрудник     0        144425   \n",
              "\n",
              "                      purpose  \n",
              "0               покупка жилья  \n",
              "1     приобретение автомобиля  \n",
              "2               покупка жилья  \n",
              "3  дополнительное образование  \n",
              "4             сыграть свадьбу  \n",
              "5               покупка жилья  \n",
              "6           операции с жильем  \n",
              "7                 образование  \n",
              "8       на проведение свадьбы  \n",
              "9     покупка жилья для семьи  "
            ]
          },
          "metadata": {},
          "output_type": "display_data"
        }
      ],
      "source": [
        "data['days_employed'] = data['days_employed'].abs()\n",
        "display(data.head(10))"
      ]
    },
    {
      "cell_type": "markdown",
      "metadata": {
        "id": "HG3954PldvxV"
      },
      "source": [
        "Теперь оценим на наличие Артефактов другие столбцы.\n",
        "\n",
        "Столбец Количество детей."
      ]
    },
    {
      "cell_type": "code",
      "execution_count": null,
      "metadata": {
        "id": "FiUSD4QVdvxV",
        "outputId": "d5e89273-aaa7-41c3-f32b-33f0f247baa6"
      },
      "outputs": [
        {
          "data": {
            "text/plain": [
              " 0     14149\n",
              " 1      4818\n",
              " 2      2055\n",
              " 3       330\n",
              " 20       76\n",
              "-1        47\n",
              " 4        41\n",
              " 5         9\n",
              "Name: children, dtype: int64"
            ]
          },
          "execution_count": 13,
          "metadata": {},
          "output_type": "execute_result"
        }
      ],
      "source": [
        "data['children'].value_counts()"
      ]
    },
    {
      "cell_type": "markdown",
      "metadata": {
        "id": "OwV5TNESdvxV"
      },
      "source": [
        "Вот и снова артефакты.\n",
        "Вопросы вызывают 47 клиентов с количеством детей -1 и 76 клиентов с количеством детей = 20.\n",
        "Отрицательного значения детей быть не может, а значит в данные закралась ошибка. Как и в прошлый раз могу предположить, что это всего лишь тире, которое допустили при вводе.\n",
        "Поэтому все значения с количеством детей -1 мы примем за 1."
      ]
    },
    {
      "cell_type": "code",
      "execution_count": null,
      "metadata": {
        "id": "KdUoMiyKdvxV",
        "outputId": "d582917e-6b8e-4ee3-f754-25e9374c2577"
      },
      "outputs": [
        {
          "data": {
            "text/plain": [
              "0     14149\n",
              "1      4865\n",
              "2      2055\n",
              "3       330\n",
              "20       76\n",
              "4        41\n",
              "5         9\n",
              "Name: children, dtype: int64"
            ]
          },
          "execution_count": 14,
          "metadata": {},
          "output_type": "execute_result"
        }
      ],
      "source": [
        "data.loc[data.loc[:, 'children'] == -1,'children'] = 1\n",
        "data['children'].value_counts()"
      ]
    },
    {
      "cell_type": "markdown",
      "metadata": {
        "id": "zHgiuJ2jdvxW"
      },
      "source": [
        "Теперь нужно решить, что делать с теми, кому записано 20 детей.\n",
        "Учитывая, что в данных нет людей с 6, 7 ... 19 детьми, то цифра 20 точно ошибочная.\n",
        "Я предлагаю причислить эти людей к числу клиентов с 2 детьми, посчитав, что 0 в данном случае проставлен по ошибке."
      ]
    },
    {
      "cell_type": "code",
      "execution_count": null,
      "metadata": {
        "id": "POj4E0sFdvxW",
        "outputId": "b4bb3b82-4668-4924-c7aa-29d5e124cdbc"
      },
      "outputs": [
        {
          "data": {
            "text/plain": [
              "0    14149\n",
              "1     4865\n",
              "2     2131\n",
              "3      330\n",
              "4       41\n",
              "5        9\n",
              "Name: children, dtype: int64"
            ]
          },
          "execution_count": 15,
          "metadata": {},
          "output_type": "execute_result"
        }
      ],
      "source": [
        "data.loc[data.loc[:, 'children'] == 20, 'children'] = 2\n",
        "data['children'].value_counts()"
      ]
    },
    {
      "cell_type": "markdown",
      "metadata": {
        "id": "o5p7MvI5dvxW"
      },
      "source": [
        "Теперь рассмотрим столбец Пол.\n",
        "В нем мы обнаружили не смойственное значение, скорее всего это отсутствие данных о поле клиента."
      ]
    },
    {
      "cell_type": "code",
      "execution_count": null,
      "metadata": {
        "id": "FmyW-l7ydvxW",
        "outputId": "9989261b-54a2-4c29-a757-371583d3081b"
      },
      "outputs": [
        {
          "data": {
            "text/plain": [
              "F      14236\n",
              "M       7288\n",
              "XNA        1\n",
              "Name: gender, dtype: int64"
            ]
          },
          "execution_count": 16,
          "metadata": {},
          "output_type": "execute_result"
        }
      ],
      "source": [
        "data['gender'].value_counts()"
      ]
    },
    {
      "cell_type": "code",
      "execution_count": null,
      "metadata": {
        "id": "v2alXVRbdvxX",
        "outputId": "8cbeafeb-78ab-4a26-e295-9354019f0ece"
      },
      "outputs": [
        {
          "data": {
            "text/html": [
              "<div>\n",
              "<style scoped>\n",
              "    .dataframe tbody tr th:only-of-type {\n",
              "        vertical-align: middle;\n",
              "    }\n",
              "\n",
              "    .dataframe tbody tr th {\n",
              "        vertical-align: top;\n",
              "    }\n",
              "\n",
              "    .dataframe thead th {\n",
              "        text-align: right;\n",
              "    }\n",
              "</style>\n",
              "<table border=\"1\" class=\"dataframe\">\n",
              "  <thead>\n",
              "    <tr style=\"text-align: right;\">\n",
              "      <th></th>\n",
              "      <th>children</th>\n",
              "      <th>days_employed</th>\n",
              "      <th>dob_years</th>\n",
              "      <th>education</th>\n",
              "      <th>education_id</th>\n",
              "      <th>family_status</th>\n",
              "      <th>family_status_id</th>\n",
              "      <th>gender</th>\n",
              "      <th>income_type</th>\n",
              "      <th>debt</th>\n",
              "      <th>total_income</th>\n",
              "      <th>purpose</th>\n",
              "    </tr>\n",
              "  </thead>\n",
              "  <tbody>\n",
              "    <tr>\n",
              "      <td>10701</td>\n",
              "      <td>0</td>\n",
              "      <td>2358.0</td>\n",
              "      <td>24</td>\n",
              "      <td>неоконченное высшее</td>\n",
              "      <td>2</td>\n",
              "      <td>гражданский брак</td>\n",
              "      <td>1</td>\n",
              "      <td>XNA</td>\n",
              "      <td>компаньон</td>\n",
              "      <td>0</td>\n",
              "      <td>203905</td>\n",
              "      <td>покупка недвижимости</td>\n",
              "    </tr>\n",
              "  </tbody>\n",
              "</table>\n",
              "</div>"
            ],
            "text/plain": [
              "       children  days_employed  dob_years            education  education_id  \\\n",
              "10701         0         2358.0         24  неоконченное высшее             2   \n",
              "\n",
              "          family_status  family_status_id gender income_type  debt  \\\n",
              "10701  гражданский брак                 1    XNA   компаньон     0   \n",
              "\n",
              "       total_income               purpose  \n",
              "10701        203905  покупка недвижимости  "
            ]
          },
          "metadata": {},
          "output_type": "display_data"
        }
      ],
      "source": [
        "display(data[data['gender'] == 'XNA'])\n"
      ]
    },
    {
      "cell_type": "markdown",
      "metadata": {
        "id": "Ey11Qs01dvxX"
      },
      "source": [
        "Так как это значение не помешает нашему исследованию, мы можем не трогать его или перевести в более понятный для себя вид, например, заменить на '-'."
      ]
    },
    {
      "cell_type": "code",
      "execution_count": null,
      "metadata": {
        "scrolled": true,
        "id": "WO9rl52-dvxX",
        "outputId": "8352a4d6-8bde-4992-a67f-2462d0894d6d"
      },
      "outputs": [
        {
          "data": {
            "text/plain": [
              "F    14236\n",
              "M     7288\n",
              "-        1\n",
              "Name: gender, dtype: int64"
            ]
          },
          "execution_count": 18,
          "metadata": {},
          "output_type": "execute_result"
        }
      ],
      "source": [
        "data.loc[data.loc[:, 'gender'] == 'XNA', 'gender'] = '-'\n",
        "data['gender'].value_counts()"
      ]
    },
    {
      "cell_type": "markdown",
      "metadata": {
        "id": "Rasz_J1IdvxX"
      },
      "source": [
        "**Вывод**\n",
        "\n",
        "Артефакты устранены, все данные привели в порядок."
      ]
    },
    {
      "cell_type": "markdown",
      "metadata": {
        "id": "apqsyO3udvxX"
      },
      "source": [
        "### Обработка дубликатов\n",
        "\n",
        "Визуально оценивая таблицу мы обнаружили, что многие данные имеют разный регистр, а разный регистр априори пораждает дубликаты.\n",
        "Проверим каждый категориальный столбец на дубликаты.\n",
        "\n",
        "Столбец образование:"
      ]
    },
    {
      "cell_type": "code",
      "execution_count": null,
      "metadata": {
        "id": "vRhLlTawdvxX",
        "outputId": "fdc9d59c-aa9a-4b6c-a313-8b642f1e4479"
      },
      "outputs": [
        {
          "name": "stdout",
          "output_type": "stream",
          "text": [
            "среднее                13750\n",
            "высшее                  4718\n",
            "СРЕДНЕЕ                  772\n",
            "Среднее                  711\n",
            "неоконченное высшее      668\n",
            "ВЫСШЕЕ                   274\n",
            "Высшее                   268\n",
            "начальное                250\n",
            "Неоконченное высшее       47\n",
            "НЕОКОНЧЕННОЕ ВЫСШЕЕ       29\n",
            "НАЧАЛЬНОЕ                 17\n",
            "Начальное                 15\n",
            "ученая степень             4\n",
            "Ученая степень             1\n",
            "УЧЕНАЯ СТЕПЕНЬ             1\n",
            "Name: education, dtype: int64\n"
          ]
        }
      ],
      "source": [
        "print(data['education'].value_counts())"
      ]
    },
    {
      "cell_type": "markdown",
      "metadata": {
        "id": "v5f-kxGJdvxY"
      },
      "source": [
        "Дубликаты на лицо.\n",
        "Приведем все категории к нижнему регистру."
      ]
    },
    {
      "cell_type": "code",
      "execution_count": null,
      "metadata": {
        "id": "ws5H5f_MdvxY",
        "outputId": "647e9f5a-c2d3-4850-f809-2427bf4ba49c"
      },
      "outputs": [
        {
          "name": "stdout",
          "output_type": "stream",
          "text": [
            "среднее                15233\n",
            "высшее                  5260\n",
            "неоконченное высшее      744\n",
            "начальное                282\n",
            "ученая степень             6\n",
            "Name: education, dtype: int64\n"
          ]
        }
      ],
      "source": [
        "data['education'] = data['education'].str.lower()\n",
        "print(data['education'].value_counts())"
      ]
    },
    {
      "cell_type": "markdown",
      "metadata": {
        "id": "jhoElYNPdvxY"
      },
      "source": [
        "Теперь все как нужно!\n",
        "\n",
        "Столбец семейное положение:"
      ]
    },
    {
      "cell_type": "code",
      "execution_count": null,
      "metadata": {
        "id": "gThbv_H8dvxY",
        "outputId": "b263a8a0-4ef2-4230-fe9d-86cb1b68ec2c"
      },
      "outputs": [
        {
          "name": "stdout",
          "output_type": "stream",
          "text": [
            "женат / замужем          12380\n",
            "гражданский брак          4177\n",
            "Не женат / не замужем     2813\n",
            "в разводе                 1195\n",
            "вдовец / вдова             960\n",
            "Name: family_status, dtype: int64\n"
          ]
        }
      ],
      "source": [
        "print(data['family_status'].value_counts())"
      ]
    },
    {
      "cell_type": "markdown",
      "metadata": {
        "id": "1KeJM-ukdvxY"
      },
      "source": [
        "Хорошо бы поменять регистр у категории \"Не женат / не замужем\"."
      ]
    },
    {
      "cell_type": "code",
      "execution_count": null,
      "metadata": {
        "id": "zPAxYS25dvxY",
        "outputId": "7551692a-d7c4-4bf0-8882-d3dd34dc9a5b"
      },
      "outputs": [
        {
          "name": "stdout",
          "output_type": "stream",
          "text": [
            "женат / замужем          12380\n",
            "гражданский брак          4177\n",
            "не женат / не замужем     2813\n",
            "в разводе                 1195\n",
            "вдовец / вдова             960\n",
            "Name: family_status, dtype: int64\n"
          ]
        }
      ],
      "source": [
        "data['family_status'] = data['family_status'].str.lower()\n",
        "print(data['family_status'].value_counts())"
      ]
    },
    {
      "cell_type": "markdown",
      "metadata": {
        "id": "DHVYn5bEdvxZ"
      },
      "source": [
        "Вот теперь все как нужно.\n",
        "\n",
        "Столбец Тип данных:"
      ]
    },
    {
      "cell_type": "code",
      "execution_count": null,
      "metadata": {
        "id": "FeSaquhOdvxZ",
        "outputId": "8a5cf0b4-12dd-4a7c-9d25-1d3f17290f49"
      },
      "outputs": [
        {
          "name": "stdout",
          "output_type": "stream",
          "text": [
            "сотрудник          11119\n",
            "компаньон           5085\n",
            "пенсионер           3856\n",
            "госслужащий         1459\n",
            "безработный            2\n",
            "предприниматель        2\n",
            "студент                1\n",
            "в декрете              1\n",
            "Name: income_type, dtype: int64\n"
          ]
        }
      ],
      "source": [
        "print(data['income_type'].value_counts())"
      ]
    },
    {
      "cell_type": "markdown",
      "metadata": {
        "id": "XlAcTAR0dvxZ"
      },
      "source": [
        "Так же без нареканий.\n",
        "\n",
        "И наконец столбец Цель получения кредита:"
      ]
    },
    {
      "cell_type": "code",
      "execution_count": null,
      "metadata": {
        "id": "J1eBzoWOdvxZ",
        "outputId": "7a4d1d47-d99e-441d-9454-ae1e093d1f65"
      },
      "outputs": [
        {
          "name": "stdout",
          "output_type": "stream",
          "text": [
            "свадьба                                   797\n",
            "на проведение свадьбы                     777\n",
            "сыграть свадьбу                           774\n",
            "операции с недвижимостью                  676\n",
            "покупка коммерческой недвижимости         664\n",
            "операции с жильем                         653\n",
            "покупка жилья для сдачи                   653\n",
            "операции с коммерческой недвижимостью     651\n",
            "покупка жилья                             647\n",
            "жилье                                     647\n",
            "покупка жилья для семьи                   641\n",
            "строительство собственной недвижимости    635\n",
            "недвижимость                              634\n",
            "операции со своей недвижимостью           630\n",
            "строительство жилой недвижимости          626\n",
            "покупка недвижимости                      624\n",
            "строительство недвижимости                620\n",
            "покупка своего жилья                      620\n",
            "ремонт жилью                              612\n",
            "покупка жилой недвижимости                607\n",
            "на покупку своего автомобиля              505\n",
            "заняться высшим образованием              496\n",
            "автомобиль                                495\n",
            "сделка с подержанным автомобилем          489\n",
            "свой автомобиль                           480\n",
            "на покупку подержанного автомобиля        479\n",
            "автомобили                                478\n",
            "на покупку автомобиля                     472\n",
            "дополнительное образование                462\n",
            "приобретение автомобиля                   462\n",
            "сделка с автомобилем                      455\n",
            "высшее образование                        453\n",
            "получение дополнительного образования     447\n",
            "образование                               447\n",
            "получение образования                     443\n",
            "профильное образование                    436\n",
            "получение высшего образования             426\n",
            "заняться образованием                     412\n",
            "Name: purpose, dtype: int64\n"
          ]
        }
      ],
      "source": [
        "print(data['purpose'].value_counts())"
      ]
    },
    {
      "cell_type": "markdown",
      "metadata": {
        "id": "dRixCYdxdvxZ"
      },
      "source": [
        "Тут дубликаты особенные, не явные, но смысловые.\n",
        "Для них воспользуемся леммизацией в следующем шаге.\n",
        "\n",
        "А сейчас проверим наличие полных дубликатов в таблице."
      ]
    },
    {
      "cell_type": "code",
      "execution_count": null,
      "metadata": {
        "id": "NM96Y4D2dvxZ",
        "outputId": "e1ee2239-363d-435f-c80f-a4179890413d"
      },
      "outputs": [
        {
          "data": {
            "text/plain": [
              "71"
            ]
          },
          "execution_count": 25,
          "metadata": {},
          "output_type": "execute_result"
        }
      ],
      "source": [
        "data.duplicated().sum()"
      ]
    },
    {
      "cell_type": "markdown",
      "metadata": {
        "id": "ooonJQhcdvxa"
      },
      "source": [
        "Метод `duplicated()` выявил наличие 71 полный дубликат.\n",
        "С одной стороны совпадение трудового стажа, наличия детей, семейного статуса и дохода вплоть до рубля очень маловероятно.\n",
        "С другой стороны данные обезличены, у нас нет уникальных идентификаторов клиентов, а значит и уверенности, что это одни и те же люди.\n",
        "\n",
        "Рассмотрим эти дубликаты ближе."
      ]
    },
    {
      "cell_type": "code",
      "execution_count": null,
      "metadata": {
        "id": "zuX6HhD1dvxa",
        "outputId": "dd902718-2346-41e0-9b24-932dff6f6e2e"
      },
      "outputs": [
        {
          "data": {
            "text/html": [
              "<div>\n",
              "<style scoped>\n",
              "    .dataframe tbody tr th:only-of-type {\n",
              "        vertical-align: middle;\n",
              "    }\n",
              "\n",
              "    .dataframe tbody tr th {\n",
              "        vertical-align: top;\n",
              "    }\n",
              "\n",
              "    .dataframe thead th {\n",
              "        text-align: right;\n",
              "    }\n",
              "</style>\n",
              "<table border=\"1\" class=\"dataframe\">\n",
              "  <thead>\n",
              "    <tr style=\"text-align: right;\">\n",
              "      <th></th>\n",
              "      <th>children</th>\n",
              "      <th>days_employed</th>\n",
              "      <th>dob_years</th>\n",
              "      <th>education</th>\n",
              "      <th>education_id</th>\n",
              "      <th>family_status</th>\n",
              "      <th>family_status_id</th>\n",
              "      <th>gender</th>\n",
              "      <th>income_type</th>\n",
              "      <th>debt</th>\n",
              "      <th>total_income</th>\n",
              "      <th>purpose</th>\n",
              "    </tr>\n",
              "  </thead>\n",
              "  <tbody>\n",
              "    <tr>\n",
              "      <td>2849</td>\n",
              "      <td>0</td>\n",
              "      <td>0.0</td>\n",
              "      <td>41</td>\n",
              "      <td>среднее</td>\n",
              "      <td>1</td>\n",
              "      <td>женат / замужем</td>\n",
              "      <td>0</td>\n",
              "      <td>F</td>\n",
              "      <td>сотрудник</td>\n",
              "      <td>0</td>\n",
              "      <td>0</td>\n",
              "      <td>покупка жилья для семьи</td>\n",
              "    </tr>\n",
              "    <tr>\n",
              "      <td>3290</td>\n",
              "      <td>0</td>\n",
              "      <td>0.0</td>\n",
              "      <td>58</td>\n",
              "      <td>среднее</td>\n",
              "      <td>1</td>\n",
              "      <td>гражданский брак</td>\n",
              "      <td>1</td>\n",
              "      <td>F</td>\n",
              "      <td>пенсионер</td>\n",
              "      <td>0</td>\n",
              "      <td>0</td>\n",
              "      <td>сыграть свадьбу</td>\n",
              "    </tr>\n",
              "    <tr>\n",
              "      <td>4182</td>\n",
              "      <td>1</td>\n",
              "      <td>0.0</td>\n",
              "      <td>34</td>\n",
              "      <td>высшее</td>\n",
              "      <td>0</td>\n",
              "      <td>гражданский брак</td>\n",
              "      <td>1</td>\n",
              "      <td>F</td>\n",
              "      <td>сотрудник</td>\n",
              "      <td>0</td>\n",
              "      <td>0</td>\n",
              "      <td>свадьба</td>\n",
              "    </tr>\n",
              "    <tr>\n",
              "      <td>4851</td>\n",
              "      <td>0</td>\n",
              "      <td>0.0</td>\n",
              "      <td>60</td>\n",
              "      <td>среднее</td>\n",
              "      <td>1</td>\n",
              "      <td>гражданский брак</td>\n",
              "      <td>1</td>\n",
              "      <td>F</td>\n",
              "      <td>пенсионер</td>\n",
              "      <td>0</td>\n",
              "      <td>0</td>\n",
              "      <td>свадьба</td>\n",
              "    </tr>\n",
              "    <tr>\n",
              "      <td>5557</td>\n",
              "      <td>0</td>\n",
              "      <td>0.0</td>\n",
              "      <td>58</td>\n",
              "      <td>среднее</td>\n",
              "      <td>1</td>\n",
              "      <td>гражданский брак</td>\n",
              "      <td>1</td>\n",
              "      <td>F</td>\n",
              "      <td>пенсионер</td>\n",
              "      <td>0</td>\n",
              "      <td>0</td>\n",
              "      <td>сыграть свадьбу</td>\n",
              "    </tr>\n",
              "    <tr>\n",
              "      <td>...</td>\n",
              "      <td>...</td>\n",
              "      <td>...</td>\n",
              "      <td>...</td>\n",
              "      <td>...</td>\n",
              "      <td>...</td>\n",
              "      <td>...</td>\n",
              "      <td>...</td>\n",
              "      <td>...</td>\n",
              "      <td>...</td>\n",
              "      <td>...</td>\n",
              "      <td>...</td>\n",
              "      <td>...</td>\n",
              "    </tr>\n",
              "    <tr>\n",
              "      <td>20702</td>\n",
              "      <td>0</td>\n",
              "      <td>0.0</td>\n",
              "      <td>64</td>\n",
              "      <td>среднее</td>\n",
              "      <td>1</td>\n",
              "      <td>женат / замужем</td>\n",
              "      <td>0</td>\n",
              "      <td>F</td>\n",
              "      <td>пенсионер</td>\n",
              "      <td>0</td>\n",
              "      <td>0</td>\n",
              "      <td>дополнительное образование</td>\n",
              "    </tr>\n",
              "    <tr>\n",
              "      <td>21032</td>\n",
              "      <td>0</td>\n",
              "      <td>0.0</td>\n",
              "      <td>60</td>\n",
              "      <td>среднее</td>\n",
              "      <td>1</td>\n",
              "      <td>женат / замужем</td>\n",
              "      <td>0</td>\n",
              "      <td>F</td>\n",
              "      <td>пенсионер</td>\n",
              "      <td>0</td>\n",
              "      <td>0</td>\n",
              "      <td>заняться образованием</td>\n",
              "    </tr>\n",
              "    <tr>\n",
              "      <td>21132</td>\n",
              "      <td>0</td>\n",
              "      <td>0.0</td>\n",
              "      <td>47</td>\n",
              "      <td>среднее</td>\n",
              "      <td>1</td>\n",
              "      <td>женат / замужем</td>\n",
              "      <td>0</td>\n",
              "      <td>F</td>\n",
              "      <td>сотрудник</td>\n",
              "      <td>0</td>\n",
              "      <td>0</td>\n",
              "      <td>ремонт жилью</td>\n",
              "    </tr>\n",
              "    <tr>\n",
              "      <td>21281</td>\n",
              "      <td>1</td>\n",
              "      <td>0.0</td>\n",
              "      <td>30</td>\n",
              "      <td>высшее</td>\n",
              "      <td>0</td>\n",
              "      <td>женат / замужем</td>\n",
              "      <td>0</td>\n",
              "      <td>F</td>\n",
              "      <td>сотрудник</td>\n",
              "      <td>0</td>\n",
              "      <td>0</td>\n",
              "      <td>покупка коммерческой недвижимости</td>\n",
              "    </tr>\n",
              "    <tr>\n",
              "      <td>21415</td>\n",
              "      <td>0</td>\n",
              "      <td>0.0</td>\n",
              "      <td>54</td>\n",
              "      <td>среднее</td>\n",
              "      <td>1</td>\n",
              "      <td>женат / замужем</td>\n",
              "      <td>0</td>\n",
              "      <td>F</td>\n",
              "      <td>пенсионер</td>\n",
              "      <td>0</td>\n",
              "      <td>0</td>\n",
              "      <td>операции с жильем</td>\n",
              "    </tr>\n",
              "  </tbody>\n",
              "</table>\n",
              "<p>71 rows × 12 columns</p>\n",
              "</div>"
            ],
            "text/plain": [
              "       children  days_employed  dob_years education  education_id  \\\n",
              "2849          0            0.0         41   среднее             1   \n",
              "3290          0            0.0         58   среднее             1   \n",
              "4182          1            0.0         34    высшее             0   \n",
              "4851          0            0.0         60   среднее             1   \n",
              "5557          0            0.0         58   среднее             1   \n",
              "...         ...            ...        ...       ...           ...   \n",
              "20702         0            0.0         64   среднее             1   \n",
              "21032         0            0.0         60   среднее             1   \n",
              "21132         0            0.0         47   среднее             1   \n",
              "21281         1            0.0         30    высшее             0   \n",
              "21415         0            0.0         54   среднее             1   \n",
              "\n",
              "          family_status  family_status_id gender income_type  debt  \\\n",
              "2849    женат / замужем                 0      F   сотрудник     0   \n",
              "3290   гражданский брак                 1      F   пенсионер     0   \n",
              "4182   гражданский брак                 1      F   сотрудник     0   \n",
              "4851   гражданский брак                 1      F   пенсионер     0   \n",
              "5557   гражданский брак                 1      F   пенсионер     0   \n",
              "...                 ...               ...    ...         ...   ...   \n",
              "20702   женат / замужем                 0      F   пенсионер     0   \n",
              "21032   женат / замужем                 0      F   пенсионер     0   \n",
              "21132   женат / замужем                 0      F   сотрудник     0   \n",
              "21281   женат / замужем                 0      F   сотрудник     0   \n",
              "21415   женат / замужем                 0      F   пенсионер     0   \n",
              "\n",
              "       total_income                            purpose  \n",
              "2849              0            покупка жилья для семьи  \n",
              "3290              0                    сыграть свадьбу  \n",
              "4182              0                            свадьба  \n",
              "4851              0                            свадьба  \n",
              "5557              0                    сыграть свадьбу  \n",
              "...             ...                                ...  \n",
              "20702             0         дополнительное образование  \n",
              "21032             0              заняться образованием  \n",
              "21132             0                       ремонт жилью  \n",
              "21281             0  покупка коммерческой недвижимости  \n",
              "21415             0                  операции с жильем  \n",
              "\n",
              "[71 rows x 12 columns]"
            ]
          },
          "metadata": {},
          "output_type": "display_data"
        }
      ],
      "source": [
        "display(data[data.duplicated() == True])"
      ]
    },
    {
      "cell_type": "markdown",
      "metadata": {
        "id": "goS5zkXZdvxa"
      },
      "source": [
        "Я заметила, что у всех дубликатов отсутствуют значения в столбце `days_employed` Стаж и  `total_income` Доход. \n",
        "Проверим точно ли это так."
      ]
    },
    {
      "cell_type": "code",
      "execution_count": null,
      "metadata": {
        "id": "lMZkeE4ydvxa",
        "outputId": "a6c11640-24fc-48e3-b7d7-06e876beca68"
      },
      "outputs": [
        {
          "data": {
            "text/html": [
              "<div>\n",
              "<style scoped>\n",
              "    .dataframe tbody tr th:only-of-type {\n",
              "        vertical-align: middle;\n",
              "    }\n",
              "\n",
              "    .dataframe tbody tr th {\n",
              "        vertical-align: top;\n",
              "    }\n",
              "\n",
              "    .dataframe thead th {\n",
              "        text-align: right;\n",
              "    }\n",
              "</style>\n",
              "<table border=\"1\" class=\"dataframe\">\n",
              "  <thead>\n",
              "    <tr style=\"text-align: right;\">\n",
              "      <th></th>\n",
              "      <th>children</th>\n",
              "      <th>days_employed</th>\n",
              "      <th>dob_years</th>\n",
              "      <th>education</th>\n",
              "      <th>education_id</th>\n",
              "      <th>family_status</th>\n",
              "      <th>family_status_id</th>\n",
              "      <th>gender</th>\n",
              "      <th>income_type</th>\n",
              "      <th>debt</th>\n",
              "      <th>total_income</th>\n",
              "      <th>purpose</th>\n",
              "    </tr>\n",
              "  </thead>\n",
              "  <tbody>\n",
              "  </tbody>\n",
              "</table>\n",
              "</div>"
            ],
            "text/plain": [
              "Empty DataFrame\n",
              "Columns: [children, days_employed, dob_years, education, education_id, family_status, family_status_id, gender, income_type, debt, total_income, purpose]\n",
              "Index: []"
            ]
          },
          "metadata": {},
          "output_type": "display_data"
        },
        {
          "data": {
            "text/html": [
              "<div>\n",
              "<style scoped>\n",
              "    .dataframe tbody tr th:only-of-type {\n",
              "        vertical-align: middle;\n",
              "    }\n",
              "\n",
              "    .dataframe tbody tr th {\n",
              "        vertical-align: top;\n",
              "    }\n",
              "\n",
              "    .dataframe thead th {\n",
              "        text-align: right;\n",
              "    }\n",
              "</style>\n",
              "<table border=\"1\" class=\"dataframe\">\n",
              "  <thead>\n",
              "    <tr style=\"text-align: right;\">\n",
              "      <th></th>\n",
              "      <th>children</th>\n",
              "      <th>days_employed</th>\n",
              "      <th>dob_years</th>\n",
              "      <th>education</th>\n",
              "      <th>education_id</th>\n",
              "      <th>family_status</th>\n",
              "      <th>family_status_id</th>\n",
              "      <th>gender</th>\n",
              "      <th>income_type</th>\n",
              "      <th>debt</th>\n",
              "      <th>total_income</th>\n",
              "      <th>purpose</th>\n",
              "    </tr>\n",
              "  </thead>\n",
              "  <tbody>\n",
              "  </tbody>\n",
              "</table>\n",
              "</div>"
            ],
            "text/plain": [
              "Empty DataFrame\n",
              "Columns: [children, days_employed, dob_years, education, education_id, family_status, family_status_id, gender, income_type, debt, total_income, purpose]\n",
              "Index: []"
            ]
          },
          "metadata": {},
          "output_type": "display_data"
        }
      ],
      "source": [
        "display(data[(data.duplicated() == True) & (data['days_employed'] != 0)])\n",
        "display(data[(data.duplicated() == True) & (data['total_income'] != 0)])"
      ]
    },
    {
      "cell_type": "markdown",
      "metadata": {
        "id": "pPyxu_oPdvxa"
      },
      "source": [
        "Да, действительно, все дубликаты не имеют самых многовариативных параметров - Стажа и Дохода.\n",
        "Остальные данные, такие как пол, возраст, семейное положение, с большой долей вероятности могут просто совпасть.\n",
        "Поэтому, я считаю, что удалять такие дубликаты не стоит."
      ]
    },
    {
      "cell_type": "markdown",
      "metadata": {
        "id": "wQUilyJKdvxa"
      },
      "source": [
        "**Вывод**"
      ]
    },
    {
      "cell_type": "markdown",
      "metadata": {
        "id": "XcCwJTk1dvxb"
      },
      "source": [
        "Избавились от причин, которые могут вызывать дубликаты.\n",
        "Рассмотрели наличие дубликатов, обнаружили 71 дубликат.\n",
        "Но при более близком рассмотрении сделали вывод, что при отсутствии индивидуальной идентификации клиента подобные данные могут просто совпасть. Поэтому решено не удалять дубликаты."
      ]
    },
    {
      "cell_type": "markdown",
      "metadata": {
        "id": "ZHLDZenldvxb"
      },
      "source": [
        "### Лемматизация\n",
        "\n",
        "Обработаем столбец `purpose`, он содержит Цель получения кредита. У многих цели схожие, а записаны они по разному. То есть это не явные дубликаты, а смысловые. Для того, чтобы привести эти данные к единым значениям, нужно выделить леммы."
      ]
    },
    {
      "cell_type": "code",
      "execution_count": null,
      "metadata": {
        "id": "GnkWHezydvxb",
        "outputId": "1b630e69-48e8-4b10-8f49-41c9635f5ed6"
      },
      "outputs": [
        {
          "name": "stdout",
          "output_type": "stream",
          "text": [
            "['покупка', 'жилье']\n",
            "['приобретение', 'автомобиль']\n",
            "['дополнительный', 'образование']\n",
            "['сыграть', 'свадьба']\n",
            "['операция', 'с', 'жилье']\n",
            "['образование']\n",
            "['на', 'проведение', 'свадьба']\n",
            "['покупка', 'жилье', 'для', 'семья']\n",
            "['покупка', 'недвижимость']\n",
            "['покупка', 'коммерческий', 'недвижимость']\n",
            "['покупка', 'жилой', 'недвижимость']\n",
            "['строительство', 'собственный', 'недвижимость']\n",
            "['недвижимость']\n",
            "['строительство', 'недвижимость']\n",
            "['на', 'покупка', 'подержать', 'автомобиль']\n",
            "['на', 'покупка', 'свой', 'автомобиль']\n",
            "['операция', 'с', 'коммерческий', 'недвижимость']\n",
            "['строительство', 'жилой', 'недвижимость']\n",
            "['жилье']\n",
            "['операция', 'со', 'свой', 'недвижимость']\n",
            "['автомобиль']\n",
            "['заниматься', 'образование']\n",
            "['сделка', 'с', 'подержанный', 'автомобиль']\n",
            "['получение', 'образование']\n",
            "['автомобиль']\n",
            "['свадьба']\n",
            "['получение', 'дополнительный', 'образование']\n",
            "['покупка', 'свой', 'жилье']\n",
            "['операция', 'с', 'недвижимость']\n",
            "['получение', 'высокий', 'образование']\n",
            "['свой', 'автомобиль']\n",
            "['сделка', 'с', 'автомобиль']\n",
            "['профильный', 'образование']\n",
            "['высокий', 'образование']\n",
            "['покупка', 'жилье', 'для', 'сдача']\n",
            "['на', 'покупка', 'автомобиль']\n",
            "['ремонт', 'жилье']\n",
            "['заниматься', 'высокий', 'образование']\n"
          ]
        }
      ],
      "source": [
        "lemmas = []\n",
        "\n",
        "for i in data['purpose'].unique():\n",
        "    lemmas = ' '.join(m.lemmatize(i))\n",
        "    lemmas = lemmas.split()\n",
        "    print(lemmas)"
      ]
    },
    {
      "cell_type": "markdown",
      "metadata": {
        "id": "LsHU9RNldvxb"
      },
      "source": [
        "Из выведеных значений понятно, что есть несколько основных направлений для займа:\n",
        "- недвижимость\n",
        "- автомобиль\n",
        "- образование\n",
        "- свадьба\n",
        "\n",
        "При этом недвижимость может быть:\n",
        "- жилая\n",
        "- коммерческая\n",
        "\n",
        "Займ на недвижимость с целью:\n",
        "- приобретения\n",
        "- строительства\n",
        "- ремонта\n",
        "- иных операций\n",
        "\n",
        "Исходя из этого привидем данные к единообразию.\n",
        "\n",
        "Возьмем все интересующие нас слова и найдем их стемпы."
      ]
    },
    {
      "cell_type": "code",
      "execution_count": null,
      "metadata": {
        "id": "Bl-CVvrIdvxc",
        "outputId": "439f8c54-9f61-4c8c-ef46-3d725218345c"
      },
      "outputs": [
        {
          "name": "stdout",
          "output_type": "stream",
          "text": [
            "['жил', 'недвижим', 'автомобил', 'образован', 'свадьб']\n"
          ]
        }
      ],
      "source": [
        "kategor = ['жилье', 'недвижимость', 'автомобиль', 'образование', 'свадьба']\n",
        "stemmping = []\n",
        "for i in kategor:\n",
        "    stemmping.append(russian_stemmer.stem(i))\n",
        "print(stemmping)"
      ]
    },
    {
      "cell_type": "markdown",
      "metadata": {
        "id": "_xPcN4Qzdvxc"
      },
      "source": [
        "Теперь с помощью этих стемпов отнесем все варианты целей к единообразным значениям."
      ]
    },
    {
      "cell_type": "code",
      "execution_count": null,
      "metadata": {
        "id": "2i1MmhAvdvxc",
        "outputId": "423e52bd-9e28-40f2-aeb8-724a5cbc8a40"
      },
      "outputs": [
        {
          "name": "stdout",
          "output_type": "stream",
          "text": [
            "операции с недвижимостью    10840\n",
            "приобретение автомобиля      4315\n",
            "получение образования        4022\n",
            "проведение свадьбы           2348\n",
            "Name: purpose, dtype: int64\n"
          ]
        }
      ],
      "source": [
        "for i in range(len(data['purpose'])):\n",
        "    \n",
        "    if 'жил' in data.loc[i, 'purpose']:\n",
        "        data.loc[i, 'purpose'] = 'операции с недвижимостью'\n",
        "        \n",
        "    if 'недвижим' in data.loc[i, 'purpose']:\n",
        "        data.loc[i, 'purpose'] = 'операции с недвижимостью'\n",
        "\n",
        "    if 'автомобил' in data.loc[i, 'purpose']:\n",
        "        data.loc[i, 'purpose'] = 'приобретение автомобиля'\n",
        "            \n",
        "    if 'свадьб' in data.loc[i, 'purpose']:\n",
        "        data.loc[i, 'purpose'] = 'проведение свадьбы'   \n",
        "    \n",
        "    if 'образован' in data.loc[i, 'purpose']:\n",
        "        data.loc[i, 'purpose'] = 'получение образования' \n",
        "            \n",
        "print(data['purpose'].value_counts())\n",
        "            "
      ]
    },
    {
      "cell_type": "markdown",
      "metadata": {
        "id": "2GWrhK98dvxc"
      },
      "source": [
        "**Вывод**\n",
        "\n",
        "При помощи лемматизации и стемпинга приведи цели получения займа к единообразию и ясности. Теперь с данными удобно работать."
      ]
    },
    {
      "cell_type": "markdown",
      "metadata": {
        "id": "t3Mb15I3dvxd"
      },
      "source": [
        "### Категоризация данных\n",
        "\n",
        "Для ответов на вопросы нам понадобится разделить наши данные на категории.\n",
        "Я предлагаю:\n",
        "- для возраста выделить категории - молодой (18 - 35 лет), средний (35 - 65 лет) и пенсионный (65+ лет)\n",
        "\n",
        "Для этого создадим новый столбец `kat_years`, который будет содержать категории возраста."
      ]
    },
    {
      "cell_type": "code",
      "execution_count": null,
      "metadata": {
        "id": "ufO52nfHdvxd",
        "outputId": "1cac57b1-535e-44c2-c0f3-f91af61c6dda"
      },
      "outputs": [
        {
          "name": "stdout",
          "output_type": "stream",
          "text": [
            "средний       13931\n",
            "молодой        6594\n",
            "пенсионный      899\n",
            "Name: kat_years, dtype: int64\n"
          ]
        }
      ],
      "source": [
        "for i in range(len(data['purpose'])):\n",
        "    if data.loc[i, 'dob_years'] >= 18 and data.loc[i, 'dob_years'] <= 35 :\n",
        "        data.loc[i, 'kat_years'] = 'молодой'\n",
        "    if data.loc[i, 'dob_years'] > 35  and data.loc[i, 'dob_years'] < 65 :\n",
        "        data.loc[i, 'kat_years'] = 'средний'\n",
        "    if data.loc[i, 'dob_years'] >= 65:\n",
        "        data.loc[i, 'kat_years'] = 'пенсионный'\n",
        "        \n",
        "\n",
        "print(data['kat_years'].value_counts())"
      ]
    },
    {
      "cell_type": "markdown",
      "metadata": {
        "id": "nkeD1Ylwdvxd"
      },
      "source": [
        "**Вывод**\n",
        "Выделили категории для более наглядного изучения групп клиентов по возрасту и заработку.\n",
        "\n",
        "Теперь данные готовы для того, чтобы ответить на поставленные вопросы и проверить гипотезы."
      ]
    },
    {
      "cell_type": "markdown",
      "metadata": {
        "id": "kf2wSVGPdvxd"
      },
      "source": [
        "## Шаг 3. Ответим на вопросы\n",
        "\n",
        "Теперь ответим на основные вопросы исследования."
      ]
    },
    {
      "cell_type": "markdown",
      "metadata": {
        "id": "jhIxvq6edvxd"
      },
      "source": [
        "- **Есть ли зависимость между наличием детей и возвратом кредита в срок?**\n",
        "\n",
        "Для того, чтобы ответить на этот вопрос соберем в отдельный массив `graf` количество должников для каждой группы клиентов, разделяя их по количеству детей.\n",
        "Мы помним, что в датасете максимальное количество детей у клиентов было 5, на графике отложим его по оси Х."
      ]
    },
    {
      "cell_type": "code",
      "execution_count": null,
      "metadata": {
        "id": "SnqPLQ8Ddvxd",
        "outputId": "1541627f-6059-4869-db68-b77b2858815b"
      },
      "outputs": [
        {
          "name": "stdout",
          "output_type": "stream",
          "text": [
            "          debt\n",
            "children      \n",
            "0         1063\n",
            "1          445\n",
            "2          202\n",
            "3           27\n",
            "4            4\n",
            "5            0\n"
          ]
        },
        {
          "data": {
            "text/plain": [
              "<matplotlib.axes._subplots.AxesSubplot at 0x7fd995ce9810>"
            ]
          },
          "execution_count": 32,
          "metadata": {},
          "output_type": "execute_result"
        },
        {
          "data": {
            "image/png": "[encoded data removed]",
            "text/plain": [
              "<Figure size 432x288 with 1 Axes>"
            ]
          },
          "metadata": {
            "needs_background": "light"
          },
          "output_type": "display_data"
        }
      ],
      "source": [
        "graf = data.groupby('children').agg({'debt': 'sum'})\n",
        "\n",
        "print(graf)\n",
        "\n",
        "seaborn.barplot(x=graf['debt'], y=['Без детей', '1 ребенок', '2 ребенка', '3 ребенка','4 ребенка','5 детей'])"
      ]
    },
    {
      "cell_type": "markdown",
      "metadata": {
        "id": "_i9sa_S8dvxe"
      },
      "source": [
        "Из результатов видно, что чем больше у клиента детей, тем отвественнее он подходит к выплате кредита.\n",
        "Подавляющее большентсво задолженностей приходится на бездетных клиентов.\n",
        "\n",
        "Но возможно это связано с тем, что количество бездетных клиентов намного больше, чем других?\n",
        "В таком случае правильнее будет посчитать среднее, а не сумму задолженностей на группу."
      ]
    },
    {
      "cell_type": "code",
      "execution_count": null,
      "metadata": {
        "id": "szUxMjKHdvxe",
        "outputId": "e1acd892-f8fc-4644-ef24-b77d5c254e5f"
      },
      "outputs": [
        {
          "name": "stdout",
          "output_type": "stream",
          "text": [
            "              debt\n",
            "children          \n",
            "0         0.075129\n",
            "1         0.091470\n",
            "2         0.094791\n",
            "3         0.081818\n",
            "4         0.097561\n",
            "5         0.000000\n"
          ]
        },
        {
          "data": {
            "text/plain": [
              "<matplotlib.axes._subplots.AxesSubplot at 0x7fd9fdfc5b50>"
            ]
          },
          "execution_count": 33,
          "metadata": {},
          "output_type": "execute_result"
        },
        {
          "data": {
            "image/png": "[encoded data removed]",
            "text/plain": [
              "<Figure size 432x288 with 1 Axes>"
            ]
          },
          "metadata": {
            "needs_background": "light"
          },
          "output_type": "display_data"
        }
      ],
      "source": [
        "graf = data.groupby('children').agg({'debt': 'mean'})\n",
        "\n",
        "print(graf)\n",
        "\n",
        "seaborn.barplot(x=graf['debt'], y=['Без детей', '1 ребенок', '2 ребенка', '3 ребенка','4 ребенка','5 детей'])"
      ]
    },
    {
      "cell_type": "markdown",
      "metadata": {
        "id": "2mJ4iFIWdvxe"
      },
      "source": [
        "Данные различаются не сильно, хотя клиенты не имеющие детей имеют наименьшее число просрочек по кредитам.\n",
        "Попробуем разделить клиентов просто по наличию и отсуствию детей. "
      ]
    },
    {
      "cell_type": "code",
      "execution_count": null,
      "metadata": {
        "id": "MNEJz8Vedvxe",
        "outputId": "b6792e5e-41d0-4a59-8f4a-a7ed51b36ba8"
      },
      "outputs": [
        {
          "name": "stdout",
          "output_type": "stream",
          "text": [
            "              debt\n",
            "children          \n",
            "0         0.075129\n",
            "1         0.091470\n",
            "2         0.094791\n",
            "3         0.081818\n",
            "4         0.097561\n",
            "5         0.000000\n"
          ]
        },
        {
          "data": {
            "text/plain": [
              "<matplotlib.axes._subplots.AxesSubplot at 0x7fd9fd906cd0>"
            ]
          },
          "execution_count": 34,
          "metadata": {},
          "output_type": "execute_result"
        },
        {
          "data": {
            "image/png": "[encoded data removed]",
            "text/plain": [
              "<Figure size 432x288 with 1 Axes>"
            ]
          },
          "metadata": {
            "needs_background": "light"
          },
          "output_type": "display_data"
        }
      ],
      "source": [
        "graf = data.groupby('children').agg({'debt': 'mean'})\n",
        "\n",
        "grafsum = (sum(graf['debt']) - graf.loc[0, 'debt']).mean()\n",
        "print(graf)\n",
        "\n",
        "seaborn.barplot(x=[graf.loc[0, 'debt'], grafsum], y=['Без детей', 'С детьми'])"
      ]
    },
    {
      "cell_type": "markdown",
      "metadata": {
        "id": "2VRpNyKmdvxe"
      },
      "source": [
        "Теперь разница очевидна."
      ]
    },
    {
      "cell_type": "markdown",
      "metadata": {
        "id": "w2nSAZlrdvxe"
      },
      "source": [
        "**Вывод**"
      ]
    },
    {
      "cell_type": "markdown",
      "metadata": {
        "id": "bhLw-UPydvxe"
      },
      "source": [
        "Из среднего значения на каждую группу клиентов видно, что распределение задолженностей примерно одинаково. \n",
        "Клиенты с 4 детьми имеют задолженности чуть чаще остальных.\n",
        "В целом кдиенты не имеющие детей, согласно графику, выглядят наиболее дисциплинированными.\n",
        "Я думаю, что эту гипотезу можно считать не до конца подтвержденной, можно разделить клиентов на имеющих и не имеющих детей, и неимеющие будут считаться более платежеспособными, а клиенты имеющие детей - менее."
      ]
    },
    {
      "cell_type": "markdown",
      "metadata": {
        "id": "K_Topcbkdvxg"
      },
      "source": [
        "- **Есть ли зависимость между семейным положением и возвратом кредита в срок?**\n",
        "\n",
        "Для того, чтобы ответить на этот вопрос соберем в отдельный массив `graf` количество должников для каждой группы клиентов, разделяя их по индификатору семейного положения.\n"
      ]
    },
    {
      "cell_type": "code",
      "execution_count": null,
      "metadata": {
        "id": "SamEBDJCdvxg",
        "outputId": "a5981666-6c6c-4c78-dbe4-4d407dfc7487"
      },
      "outputs": [
        {
          "name": "stdout",
          "output_type": "stream",
          "text": [
            "                       debt\n",
            "family_status              \n",
            "в разводе                85\n",
            "вдовец / вдова           63\n",
            "гражданский брак        388\n",
            "женат / замужем         931\n",
            "не женат / не замужем   274\n"
          ]
        },
        {
          "data": {
            "text/plain": [
              "<matplotlib.axes._subplots.AxesSubplot at 0x7fd9fd9067d0>"
            ]
          },
          "execution_count": 38,
          "metadata": {},
          "output_type": "execute_result"
        },
        {
          "data": {
            "image/png": "[encoded data removed]",
            "text/plain": [
              "<Figure size 432x288 with 1 Axes>"
            ]
          },
          "metadata": {
            "needs_background": "light"
          },
          "output_type": "display_data"
        }
      ],
      "source": [
        "graf = data.groupby('family_status').agg({'debt': 'sum'})\n",
        "\n",
        "print(graf)\n",
        "    \n",
        "seaborn.barplot(x=graf['debt'], y=graf.index)"
      ]
    },
    {
      "cell_type": "markdown",
      "metadata": {
        "id": "-EC96cOYdvxg"
      },
      "source": [
        "А теперь посмотрим, как изменятся показатели, если мы учтем численность каждой группы и посчитаем среднее."
      ]
    },
    {
      "cell_type": "code",
      "execution_count": null,
      "metadata": {
        "id": "ec0SQqlYdvxg",
        "outputId": "a25df1c9-2712-47b2-da77-fcf7d0dd0467"
      },
      "outputs": [
        {
          "name": "stdout",
          "output_type": "stream",
          "text": [
            "                           debt\n",
            "family_status                  \n",
            "в разводе              0.071130\n",
            "вдовец / вдова         0.065625\n",
            "гражданский брак       0.092890\n",
            "женат / замужем        0.075202\n",
            "не женат / не замужем  0.097405\n"
          ]
        },
        {
          "data": {
            "text/plain": [
              "<matplotlib.axes._subplots.AxesSubplot at 0x7fd9fd809490>"
            ]
          },
          "execution_count": 39,
          "metadata": {},
          "output_type": "execute_result"
        },
        {
          "data": {
            "image/png": "[encoded data removed]",
            "text/plain": [
              "<Figure size 432x288 with 1 Axes>"
            ]
          },
          "metadata": {
            "needs_background": "light"
          },
          "output_type": "display_data"
        }
      ],
      "source": [
        "graf = data.groupby('family_status').agg({'debt': 'mean'})\n",
        "\n",
        "print(graf)\n",
        "    \n",
        "seaborn.barplot(x=graf['debt'], y=graf.index)"
      ]
    },
    {
      "cell_type": "markdown",
      "metadata": {
        "id": "8RnAReQadvxg"
      },
      "source": [
        "**Вывод**"
      ]
    },
    {
      "cell_type": "markdown",
      "metadata": {
        "id": "yAwE7gKEdvxh"
      },
      "source": [
        "С учетом численности, клиенты не женатые клиенты и клиенты находящиеся в гражданском браке имеют наибольшее количество задолженностей.\n",
        "Тут, я считая, гипотезу можно считать подтвержденной.\n",
        "Зависимость между семейным положением и наличием задолженности действительно очевидна."
      ]
    },
    {
      "cell_type": "markdown",
      "metadata": {
        "id": "3Tg-Jyqydvxh"
      },
      "source": [
        "- **Есть ли зависимость между уровнем дохода и возвратом кредита в срок?**\n",
        "\n",
        "Для того, чтобы ответить на этот вопрос соберем в отдельный массив graf количество должников для каждой группы клиентов, разделяя их по возрастной категории.\n",
        "\n",
        "Обозначения:\n",
        "\n",
        "- молодой - от 18 до 35 лет\n",
        "- средний - от 35 до 65 лет\n",
        "- пенсионный - старше 65 лет.\n",
        "\n",
        "Так как мы уже выяснили, что данные без учета сичленности группы не показателны, то будем сразу считать среднее."
      ]
    },
    {
      "cell_type": "code",
      "execution_count": null,
      "metadata": {
        "id": "Uqn05Kbydvxh",
        "outputId": "a4a243d3-660e-48c9-f210-2134f2eaf603"
      },
      "outputs": [
        {
          "name": "stdout",
          "output_type": "stream",
          "text": [
            "                debt\n",
            "kat_years           \n",
            "молодой     0.105854\n",
            "пенсионный  0.054505\n",
            "средний     0.070777\n"
          ]
        },
        {
          "data": {
            "text/plain": [
              "<matplotlib.axes._subplots.AxesSubplot at 0x7fd9fd817c90>"
            ]
          },
          "execution_count": 40,
          "metadata": {},
          "output_type": "execute_result"
        },
        {
          "data": {
            "image/png": "[encoded data removed]",
            "text/plain": [
              "<Figure size 432x288 with 1 Axes>"
            ]
          },
          "metadata": {
            "needs_background": "light"
          },
          "output_type": "display_data"
        }
      ],
      "source": [
        "graf = data.groupby('kat_years').agg({'debt': 'mean'})\n",
        "\n",
        "print(graf)    \n",
        "\n",
        "seaborn.barplot(x=graf['debt'], y=graf.index)"
      ]
    },
    {
      "cell_type": "markdown",
      "metadata": {
        "id": "T8rqri9Qdvxh"
      },
      "source": [
        "**Вывод**"
      ]
    },
    {
      "cell_type": "markdown",
      "metadata": {
        "id": "5DZsJU4udvxh"
      },
      "source": [
        "Согласно графику, должниками чаще всего является молодежь.\n",
        "А самые обязательными оказываются пенсионеры.\n",
        "Гипотезу точно можно считать подтвержденной, так как зависимость очевидна."
      ]
    },
    {
      "cell_type": "markdown",
      "metadata": {
        "id": "_ARy1L1edvxh"
      },
      "source": [
        "- **Как разные цели кредита влияют на его возврат в срок?**\n",
        "\n",
        "Для того, чтобы ответить на этот вопрос соберем в отдельный массив graf количество должников для каждой группы клиентов, разделяя их по категориям цели кредитования.\n",
        "\n",
        "\n",
        "Так как мы уже выяснили, что данные без учета членности группы не показателны, то будем сразу считать среднее."
      ]
    },
    {
      "cell_type": "code",
      "execution_count": null,
      "metadata": {
        "id": "EMkGnM4Ydvxh",
        "outputId": "8c672b82-c4fa-4206-c00e-caa2245f7646"
      },
      "outputs": [
        {
          "name": "stdout",
          "output_type": "stream",
          "text": [
            "                              debt\n",
            "purpose                           \n",
            "операции с недвижимостью  0.072140\n",
            "получение образования     0.091994\n",
            "приобретение автомобиля   0.093395\n",
            "проведение свадьбы        0.079216\n"
          ]
        },
        {
          "data": {
            "text/plain": [
              "<matplotlib.axes._subplots.AxesSubplot at 0x7fd9fd7562d0>"
            ]
          },
          "execution_count": 41,
          "metadata": {},
          "output_type": "execute_result"
        },
        {
          "data": {
            "image/png": "[encoded data removed]",
            "text/plain": [
              "<Figure size 432x288 with 1 Axes>"
            ]
          },
          "metadata": {
            "needs_background": "light"
          },
          "output_type": "display_data"
        }
      ],
      "source": [
        "graf = data.groupby('purpose').agg({'debt': 'mean'})\n",
        "\n",
        "print(graf)\n",
        "\n",
        "seaborn.barplot(x=graf['debt'], y=graf.index)"
      ]
    },
    {
      "cell_type": "markdown",
      "metadata": {
        "id": "Xm6MrfUIdvxi"
      },
      "source": [
        "**Вывод**"
      ]
    },
    {
      "cell_type": "markdown",
      "metadata": {
        "id": "iE26UzAEdvxi"
      },
      "source": [
        "Чаще всего клиенты задерживают платежи по кредитам на автомобиль и образование, а за недвижимость платят исправнее всего. \n",
        "Из этого мы можем сделать вывод, что зависимость между целью кредита и наличием задолженности действительно существует."
      ]
    },
    {
      "cell_type": "markdown",
      "metadata": {
        "id": "uh9G_oENdvxi"
      },
      "source": [
        "## Шаг 4. Общий вывод"
      ]
    },
    {
      "cell_type": "markdown",
      "metadata": {
        "id": "lVvjbH5Advxi"
      },
      "source": [
        "Проведя исследование, мы выяснили, что 3 из 4 гипотез подтвердились, а 1 подтвердилась частично.\n",
        "Наличие задолженности, действительно зависит от возраста, семейного положения и цели кредитования.\n",
        "Так молодые клиенты не женатые клиенты или кленты состоящие в гражданском браке, взявшие кредит на автомобиль или образование чаще имеют задолженности, чем остальные.\n",
        "Количество же детей не сильно влияет на платежеспособность клиента, тут правильнее выделить категорию клиентов с детьми и без."
      ]
    }
  ],
  "metadata": {
    "ExecuteTimeLog": [
      {
        "duration": 664,
        "start_time": "2021-12-20T11:06:13.956Z"
      },
      {
        "duration": 84,
        "start_time": "2021-12-20T11:06:27.304Z"
      },
      {
        "duration": 82,
        "start_time": "2021-12-20T11:06:56.721Z"
      },
      {
        "duration": 505,
        "start_time": "2021-12-20T11:07:26.177Z"
      },
      {
        "duration": 79,
        "start_time": "2021-12-20T11:07:32.791Z"
      },
      {
        "duration": 64,
        "start_time": "2021-12-20T11:20:45.010Z"
      },
      {
        "duration": 65,
        "start_time": "2021-12-20T11:20:55.391Z"
      },
      {
        "duration": 66,
        "start_time": "2021-12-20T11:31:42.883Z"
      },
      {
        "duration": 56,
        "start_time": "2021-12-20T11:32:12.663Z"
      },
      {
        "duration": 12,
        "start_time": "2021-12-20T11:34:06.937Z"
      },
      {
        "duration": 53,
        "start_time": "2021-12-20T11:34:11.444Z"
      },
      {
        "duration": 59,
        "start_time": "2021-12-20T11:34:16.309Z"
      },
      {
        "duration": 59,
        "start_time": "2021-12-20T11:34:46.974Z"
      },
      {
        "duration": 13,
        "start_time": "2021-12-20T11:37:00.678Z"
      },
      {
        "duration": 9,
        "start_time": "2021-12-20T11:37:54.994Z"
      },
      {
        "duration": 397,
        "start_time": "2021-12-20T11:42:55.968Z"
      },
      {
        "duration": 128,
        "start_time": "2021-12-20T11:45:04.176Z"
      },
      {
        "duration": 624,
        "start_time": "2021-12-20T11:45:13.908Z"
      },
      {
        "duration": 356,
        "start_time": "2021-12-20T11:45:56.671Z"
      },
      {
        "duration": 390,
        "start_time": "2021-12-20T11:47:25.632Z"
      },
      {
        "duration": 17,
        "start_time": "2021-12-20T11:50:18.117Z"
      },
      {
        "duration": 121,
        "start_time": "2021-12-20T11:54:13.826Z"
      },
      {
        "duration": 116,
        "start_time": "2021-12-20T11:56:03.292Z"
      },
      {
        "duration": 336,
        "start_time": "2021-12-20T11:56:11.568Z"
      },
      {
        "duration": 342,
        "start_time": "2021-12-20T11:56:18.210Z"
      },
      {
        "duration": 342,
        "start_time": "2021-12-20T11:57:16.564Z"
      },
      {
        "duration": 514,
        "start_time": "2021-12-20T11:58:22.647Z"
      },
      {
        "duration": 339,
        "start_time": "2021-12-20T11:59:20.521Z"
      },
      {
        "duration": 349,
        "start_time": "2021-12-20T11:59:47.714Z"
      },
      {
        "duration": 414,
        "start_time": "2021-12-20T12:00:10.992Z"
      },
      {
        "duration": 300,
        "start_time": "2021-12-20T12:00:38.216Z"
      },
      {
        "duration": 445,
        "start_time": "2021-12-20T12:00:45.175Z"
      },
      {
        "duration": 6,
        "start_time": "2021-12-20T12:04:59.316Z"
      },
      {
        "duration": 429,
        "start_time": "2021-12-20T12:05:34.585Z"
      },
      {
        "duration": 778,
        "start_time": "2021-12-20T12:06:06.867Z"
      },
      {
        "duration": 406,
        "start_time": "2021-12-20T12:06:24.372Z"
      },
      {
        "duration": 129,
        "start_time": "2021-12-20T12:07:34.035Z"
      },
      {
        "duration": 1165,
        "start_time": "2021-12-20T12:07:52.564Z"
      },
      {
        "duration": 244,
        "start_time": "2021-12-20T12:08:07.180Z"
      },
      {
        "duration": 4,
        "start_time": "2021-12-20T12:08:12.762Z"
      },
      {
        "duration": 388,
        "start_time": "2021-12-20T12:08:36.131Z"
      },
      {
        "duration": 328,
        "start_time": "2021-12-20T12:08:56.523Z"
      },
      {
        "duration": 353,
        "start_time": "2021-12-20T12:09:08.846Z"
      },
      {
        "duration": 6,
        "start_time": "2021-12-20T12:26:10.664Z"
      },
      {
        "duration": 8,
        "start_time": "2021-12-20T12:26:17.612Z"
      },
      {
        "duration": 250,
        "start_time": "2021-12-20T12:26:32.160Z"
      },
      {
        "duration": 362,
        "start_time": "2021-12-20T12:27:24.258Z"
      },
      {
        "duration": 6,
        "start_time": "2021-12-20T12:27:48.633Z"
      },
      {
        "duration": 4,
        "start_time": "2021-12-20T12:28:02.614Z"
      },
      {
        "duration": 4,
        "start_time": "2021-12-20T12:29:23.650Z"
      },
      {
        "duration": 362,
        "start_time": "2021-12-20T12:30:29.823Z"
      },
      {
        "duration": 664,
        "start_time": "2021-12-20T12:32:48.816Z"
      },
      {
        "duration": 7,
        "start_time": "2021-12-20T12:32:57.601Z"
      },
      {
        "duration": 488,
        "start_time": "2021-12-20T12:34:10.468Z"
      },
      {
        "duration": 51,
        "start_time": "2021-12-20T12:34:20.887Z"
      },
      {
        "duration": 16,
        "start_time": "2021-12-20T12:34:50.114Z"
      },
      {
        "duration": 11,
        "start_time": "2021-12-20T12:36:29.058Z"
      },
      {
        "duration": 11,
        "start_time": "2021-12-20T12:39:03.495Z"
      },
      {
        "duration": 14,
        "start_time": "2021-12-20T12:43:27.302Z"
      },
      {
        "duration": 11,
        "start_time": "2021-12-20T12:44:14.777Z"
      },
      {
        "duration": 12,
        "start_time": "2021-12-20T12:44:25.945Z"
      },
      {
        "duration": 13,
        "start_time": "2021-12-20T12:44:35.397Z"
      },
      {
        "duration": 11,
        "start_time": "2021-12-20T12:44:39.604Z"
      },
      {
        "duration": 11,
        "start_time": "2021-12-20T12:44:55.735Z"
      },
      {
        "duration": 57,
        "start_time": "2021-12-20T12:45:05.776Z"
      },
      {
        "duration": 11,
        "start_time": "2021-12-20T12:45:09.696Z"
      },
      {
        "duration": 11,
        "start_time": "2021-12-20T12:45:13.249Z"
      },
      {
        "duration": 11,
        "start_time": "2021-12-20T12:45:29.303Z"
      },
      {
        "duration": 18,
        "start_time": "2021-12-20T12:47:17.685Z"
      },
      {
        "duration": 17,
        "start_time": "2021-12-20T12:48:03.709Z"
      },
      {
        "duration": 11,
        "start_time": "2021-12-20T13:08:29.723Z"
      },
      {
        "duration": 11,
        "start_time": "2021-12-20T13:08:46.679Z"
      },
      {
        "duration": 12,
        "start_time": "2021-12-20T13:09:29.067Z"
      },
      {
        "duration": 6,
        "start_time": "2021-12-20T13:10:55.520Z"
      },
      {
        "duration": 8,
        "start_time": "2021-12-20T13:11:05.589Z"
      },
      {
        "duration": 7,
        "start_time": "2021-12-20T13:11:28.593Z"
      },
      {
        "duration": 4,
        "start_time": "2021-12-20T13:23:13.685Z"
      },
      {
        "duration": 8,
        "start_time": "2021-12-20T13:23:29.905Z"
      },
      {
        "duration": 293,
        "start_time": "2021-12-20T17:11:35.595Z"
      },
      {
        "duration": 631,
        "start_time": "2021-12-20T17:11:44.202Z"
      },
      {
        "duration": 12,
        "start_time": "2021-12-20T17:11:48.686Z"
      },
      {
        "duration": 15,
        "start_time": "2021-12-20T17:11:51.663Z"
      },
      {
        "duration": 18,
        "start_time": "2021-12-20T17:11:54.870Z"
      },
      {
        "duration": 14,
        "start_time": "2021-12-20T17:12:04.397Z"
      },
      {
        "duration": 13,
        "start_time": "2021-12-20T17:12:09.185Z"
      },
      {
        "duration": 9,
        "start_time": "2021-12-20T17:12:15.448Z"
      },
      {
        "duration": 9,
        "start_time": "2021-12-20T17:12:21.241Z"
      },
      {
        "duration": 20,
        "start_time": "2021-12-20T17:12:24.556Z"
      },
      {
        "duration": 15,
        "start_time": "2021-12-20T17:12:43.093Z"
      },
      {
        "duration": 3,
        "start_time": "2021-12-20T17:23:35.395Z"
      },
      {
        "duration": 8,
        "start_time": "2021-12-20T17:24:10.982Z"
      },
      {
        "duration": 4,
        "start_time": "2021-12-20T17:24:15.171Z"
      },
      {
        "duration": 557,
        "start_time": "2021-12-20T17:34:44.104Z"
      },
      {
        "duration": 14,
        "start_time": "2021-12-20T17:34:52.149Z"
      },
      {
        "duration": 11,
        "start_time": "2021-12-20T17:35:27.585Z"
      },
      {
        "duration": 273,
        "start_time": "2021-12-20T17:36:09.190Z"
      },
      {
        "duration": 22,
        "start_time": "2021-12-20T17:36:56.397Z"
      },
      {
        "duration": 176,
        "start_time": "2021-12-20T17:37:49.609Z"
      },
      {
        "duration": 23,
        "start_time": "2021-12-20T17:37:58.496Z"
      },
      {
        "duration": 19,
        "start_time": "2021-12-20T17:38:21.086Z"
      },
      {
        "duration": 17,
        "start_time": "2021-12-20T17:38:56.569Z"
      },
      {
        "duration": 17,
        "start_time": "2021-12-20T17:39:32.158Z"
      },
      {
        "duration": 10,
        "start_time": "2021-12-20T17:40:11.636Z"
      },
      {
        "duration": 24,
        "start_time": "2021-12-20T17:56:31.338Z"
      },
      {
        "duration": 10,
        "start_time": "2021-12-20T18:01:38.053Z"
      },
      {
        "duration": 126,
        "start_time": "2021-12-20T18:02:07.158Z"
      },
      {
        "duration": 10,
        "start_time": "2021-12-20T18:02:18.317Z"
      },
      {
        "duration": 324,
        "start_time": "2021-12-20T18:02:35.397Z"
      },
      {
        "duration": 8,
        "start_time": "2021-12-20T18:02:42.548Z"
      },
      {
        "duration": 267,
        "start_time": "2021-12-20T18:11:51.197Z"
      },
      {
        "duration": 5,
        "start_time": "2021-12-20T18:12:10.423Z"
      },
      {
        "duration": 5,
        "start_time": "2021-12-20T18:12:56.825Z"
      },
      {
        "duration": 4,
        "start_time": "2021-12-20T18:13:23.517Z"
      },
      {
        "duration": 5,
        "start_time": "2021-12-20T18:14:17.399Z"
      },
      {
        "duration": 236,
        "start_time": "2021-12-20T18:16:40.665Z"
      },
      {
        "duration": 257,
        "start_time": "2021-12-20T18:16:49.039Z"
      },
      {
        "duration": 277,
        "start_time": "2021-12-20T18:17:11.335Z"
      },
      {
        "duration": 261,
        "start_time": "2021-12-20T18:17:17.045Z"
      },
      {
        "duration": 266,
        "start_time": "2021-12-20T18:20:11.096Z"
      },
      {
        "duration": 724,
        "start_time": "2021-12-20T18:20:49.007Z"
      },
      {
        "duration": 11,
        "start_time": "2021-12-20T18:21:45.162Z"
      },
      {
        "duration": 14,
        "start_time": "2021-12-20T18:28:06.664Z"
      },
      {
        "duration": 15,
        "start_time": "2021-12-20T18:28:26.721Z"
      },
      {
        "duration": 82,
        "start_time": "2021-12-20T18:31:08.859Z"
      },
      {
        "duration": 2574,
        "start_time": "2021-12-21T08:46:45.917Z"
      },
      {
        "duration": 441,
        "start_time": "2021-12-21T08:47:28.980Z"
      },
      {
        "duration": 470,
        "start_time": "2021-12-21T08:47:37.647Z"
      },
      {
        "duration": 17,
        "start_time": "2021-12-21T08:47:41.939Z"
      },
      {
        "duration": 11,
        "start_time": "2021-12-21T08:47:45.483Z"
      },
      {
        "duration": 18,
        "start_time": "2021-12-21T08:47:48.918Z"
      },
      {
        "duration": 15,
        "start_time": "2021-12-21T08:47:52.386Z"
      },
      {
        "duration": 9,
        "start_time": "2021-12-21T08:47:55.466Z"
      },
      {
        "duration": 9,
        "start_time": "2021-12-21T08:47:59.387Z"
      },
      {
        "duration": 5,
        "start_time": "2021-12-21T08:48:03.718Z"
      },
      {
        "duration": 16,
        "start_time": "2021-12-21T08:48:06.821Z"
      },
      {
        "duration": 5,
        "start_time": "2021-12-21T08:48:09.770Z"
      },
      {
        "duration": 5,
        "start_time": "2021-12-21T08:48:12.557Z"
      },
      {
        "duration": 7,
        "start_time": "2021-12-21T08:48:15.290Z"
      },
      {
        "duration": 4184,
        "start_time": "2021-12-21T09:17:37.293Z"
      },
      {
        "duration": 265,
        "start_time": "2021-12-21T09:20:07.266Z"
      },
      {
        "duration": 340,
        "start_time": "2021-12-21T09:21:17.790Z"
      },
      {
        "duration": 243,
        "start_time": "2021-12-21T09:23:16.216Z"
      },
      {
        "duration": 89,
        "start_time": "2021-12-21T09:29:51.481Z"
      },
      {
        "duration": 1517,
        "start_time": "2021-12-21T09:29:58.782Z"
      },
      {
        "duration": 1345,
        "start_time": "2021-12-21T09:30:49.326Z"
      },
      {
        "duration": 1335,
        "start_time": "2021-12-21T09:31:13.090Z"
      },
      {
        "duration": 1092,
        "start_time": "2021-12-21T09:35:24.949Z"
      },
      {
        "duration": 1186,
        "start_time": "2021-12-21T09:35:49.266Z"
      },
      {
        "duration": 1373,
        "start_time": "2021-12-21T09:36:01.552Z"
      },
      {
        "duration": 1101,
        "start_time": "2021-12-21T09:36:16.369Z"
      },
      {
        "duration": 1236,
        "start_time": "2021-12-21T09:36:25.315Z"
      },
      {
        "duration": 1086,
        "start_time": "2021-12-21T09:36:34.654Z"
      },
      {
        "duration": 94,
        "start_time": "2021-12-21T09:37:31.602Z"
      },
      {
        "duration": 4,
        "start_time": "2021-12-21T09:37:38.456Z"
      },
      {
        "duration": 290,
        "start_time": "2021-12-21T09:38:18.563Z"
      },
      {
        "duration": 255,
        "start_time": "2021-12-21T09:40:40.728Z"
      },
      {
        "duration": 581,
        "start_time": "2021-12-21T09:41:37.326Z"
      },
      {
        "duration": 365,
        "start_time": "2021-12-21T09:42:14.251Z"
      },
      {
        "duration": 1093,
        "start_time": "2021-12-21T09:42:21.178Z"
      },
      {
        "duration": 4601,
        "start_time": "2021-12-21T09:44:26.589Z"
      },
      {
        "duration": 79,
        "start_time": "2021-12-21T10:14:08.965Z"
      },
      {
        "duration": 1502,
        "start_time": "2021-12-21T10:14:20.697Z"
      },
      {
        "duration": 1557,
        "start_time": "2021-12-21T10:15:14.239Z"
      },
      {
        "duration": 78,
        "start_time": "2021-12-21T10:16:28.120Z"
      },
      {
        "duration": 1352,
        "start_time": "2021-12-21T10:16:33.269Z"
      },
      {
        "duration": 6,
        "start_time": "2021-12-21T10:17:47.754Z"
      },
      {
        "duration": 1179,
        "start_time": "2021-12-21T10:20:57.536Z"
      },
      {
        "duration": 272,
        "start_time": "2021-12-21T10:23:02.090Z"
      },
      {
        "duration": 6,
        "start_time": "2021-12-21T10:23:22.532Z"
      },
      {
        "duration": 271,
        "start_time": "2021-12-21T10:24:04.420Z"
      },
      {
        "duration": 6,
        "start_time": "2021-12-21T10:24:11.478Z"
      },
      {
        "duration": 417,
        "start_time": "2021-12-21T10:45:57.964Z"
      },
      {
        "duration": 9,
        "start_time": "2021-12-21T10:47:27.241Z"
      },
      {
        "duration": 80,
        "start_time": "2021-12-21T10:57:38.954Z"
      },
      {
        "duration": 81,
        "start_time": "2021-12-21T11:00:53.165Z"
      },
      {
        "duration": 267,
        "start_time": "2021-12-21T11:01:46.561Z"
      },
      {
        "duration": 258,
        "start_time": "2021-12-21T11:01:55.861Z"
      },
      {
        "duration": 3,
        "start_time": "2021-12-21T11:08:00.569Z"
      },
      {
        "duration": 262,
        "start_time": "2021-12-21T11:08:06.533Z"
      },
      {
        "duration": 269,
        "start_time": "2021-12-21T11:10:30.572Z"
      },
      {
        "duration": 20,
        "start_time": "2021-12-21T11:13:29.539Z"
      },
      {
        "duration": 271,
        "start_time": "2021-12-21T11:15:14.787Z"
      },
      {
        "duration": 349,
        "start_time": "2021-12-21T11:16:03.935Z"
      },
      {
        "duration": 283,
        "start_time": "2021-12-21T11:17:57.546Z"
      },
      {
        "duration": 240,
        "start_time": "2021-12-21T11:20:32.878Z"
      },
      {
        "duration": 299,
        "start_time": "2021-12-21T11:21:10.649Z"
      },
      {
        "duration": 272,
        "start_time": "2021-12-21T11:24:44.983Z"
      },
      {
        "duration": 245,
        "start_time": "2021-12-21T11:31:51.748Z"
      },
      {
        "duration": 5,
        "start_time": "2021-12-21T11:32:06.190Z"
      },
      {
        "duration": 4,
        "start_time": "2021-12-21T11:34:54.980Z"
      },
      {
        "duration": 325,
        "start_time": "2021-12-21T11:35:15.764Z"
      },
      {
        "duration": 249,
        "start_time": "2021-12-21T11:36:19.068Z"
      },
      {
        "duration": 318,
        "start_time": "2021-12-21T11:36:31.673Z"
      },
      {
        "duration": 252,
        "start_time": "2021-12-21T11:36:41.783Z"
      },
      {
        "duration": 244,
        "start_time": "2021-12-21T11:37:10.806Z"
      },
      {
        "duration": 5,
        "start_time": "2021-12-21T11:54:35.626Z"
      },
      {
        "duration": 5,
        "start_time": "2021-12-21T11:54:55.443Z"
      },
      {
        "duration": 76,
        "start_time": "2021-12-21T11:56:52.948Z"
      },
      {
        "duration": 56,
        "start_time": "2021-12-21T11:57:24.055Z"
      },
      {
        "duration": 51,
        "start_time": "2021-12-21T12:00:10.681Z"
      },
      {
        "duration": 5,
        "start_time": "2021-12-21T12:02:03.718Z"
      },
      {
        "duration": 57,
        "start_time": "2021-12-21T12:02:41.584Z"
      },
      {
        "duration": 14,
        "start_time": "2021-12-21T12:02:46.792Z"
      },
      {
        "duration": 11,
        "start_time": "2021-12-21T12:02:50.465Z"
      },
      {
        "duration": 18,
        "start_time": "2021-12-21T12:02:53.985Z"
      },
      {
        "duration": 16,
        "start_time": "2021-12-21T12:02:57.541Z"
      },
      {
        "duration": 10,
        "start_time": "2021-12-21T12:03:00.397Z"
      },
      {
        "duration": 10,
        "start_time": "2021-12-21T12:03:03.503Z"
      },
      {
        "duration": 4,
        "start_time": "2021-12-21T12:03:06.900Z"
      },
      {
        "duration": 18,
        "start_time": "2021-12-21T12:03:12.535Z"
      },
      {
        "duration": 6,
        "start_time": "2021-12-21T12:03:17.649Z"
      },
      {
        "duration": 5,
        "start_time": "2021-12-21T12:03:20.354Z"
      },
      {
        "duration": 6,
        "start_time": "2021-12-21T12:03:23.064Z"
      },
      {
        "duration": 7,
        "start_time": "2021-12-21T12:03:27.255Z"
      },
      {
        "duration": 5,
        "start_time": "2021-12-21T12:03:30.734Z"
      },
      {
        "duration": 57,
        "start_time": "2021-12-21T12:03:35.251Z"
      },
      {
        "duration": 691,
        "start_time": "2021-12-21T12:05:45.344Z"
      },
      {
        "duration": 12,
        "start_time": "2021-12-21T12:05:46.037Z"
      },
      {
        "duration": 19,
        "start_time": "2021-12-21T12:05:46.054Z"
      },
      {
        "duration": 17,
        "start_time": "2021-12-21T12:05:46.075Z"
      },
      {
        "duration": 13,
        "start_time": "2021-12-21T12:05:46.094Z"
      },
      {
        "duration": 9,
        "start_time": "2021-12-21T12:05:46.109Z"
      },
      {
        "duration": 8,
        "start_time": "2021-12-21T12:05:46.142Z"
      },
      {
        "duration": 20,
        "start_time": "2021-12-21T12:05:46.152Z"
      },
      {
        "duration": 25,
        "start_time": "2021-12-21T12:05:46.173Z"
      },
      {
        "duration": 10,
        "start_time": "2021-12-21T12:05:46.200Z"
      },
      {
        "duration": 15,
        "start_time": "2021-12-21T12:05:46.212Z"
      },
      {
        "duration": 11,
        "start_time": "2021-12-21T12:05:46.229Z"
      },
      {
        "duration": 11,
        "start_time": "2021-12-21T12:05:46.241Z"
      },
      {
        "duration": 819,
        "start_time": "2021-12-21T12:05:46.255Z"
      },
      {
        "duration": 2,
        "start_time": "2021-12-21T12:05:47.076Z"
      },
      {
        "duration": 66,
        "start_time": "2021-12-21T12:05:47.081Z"
      },
      {
        "duration": 85,
        "start_time": "2021-12-21T12:08:51.685Z"
      },
      {
        "duration": 106,
        "start_time": "2021-12-21T12:09:40.507Z"
      },
      {
        "duration": 373,
        "start_time": "2021-12-21T12:10:05.467Z"
      },
      {
        "duration": 357,
        "start_time": "2021-12-21T12:10:15.394Z"
      },
      {
        "duration": 8187,
        "start_time": "2021-12-21T12:11:40.143Z"
      },
      {
        "duration": 488,
        "start_time": "2021-12-21T12:13:02.398Z"
      },
      {
        "duration": 503,
        "start_time": "2021-12-21T12:15:31.795Z"
      },
      {
        "duration": 509,
        "start_time": "2021-12-21T12:16:15.162Z"
      },
      {
        "duration": 4717,
        "start_time": "2021-12-21T12:17:50.207Z"
      },
      {
        "duration": 536,
        "start_time": "2021-12-21T12:18:47.130Z"
      },
      {
        "duration": 521,
        "start_time": "2021-12-21T12:19:01.879Z"
      },
      {
        "duration": -20,
        "start_time": "2021-12-21T12:19:27.272Z"
      },
      {
        "duration": 7447,
        "start_time": "2021-12-21T12:19:33.615Z"
      },
      {
        "duration": 514,
        "start_time": "2021-12-21T12:21:20.437Z"
      },
      {
        "duration": 4411,
        "start_time": "2021-12-21T12:21:52.790Z"
      },
      {
        "duration": 417,
        "start_time": "2021-12-21T12:21:57.558Z"
      },
      {
        "duration": 412,
        "start_time": "2021-12-21T12:22:00.534Z"
      },
      {
        "duration": 669,
        "start_time": "2021-12-21T12:22:07.055Z"
      },
      {
        "duration": 13,
        "start_time": "2021-12-21T12:22:07.726Z"
      },
      {
        "duration": 9,
        "start_time": "2021-12-21T12:22:07.741Z"
      },
      {
        "duration": 13,
        "start_time": "2021-12-21T12:22:07.752Z"
      },
      {
        "duration": 10,
        "start_time": "2021-12-21T12:22:07.767Z"
      },
      {
        "duration": 18,
        "start_time": "2021-12-21T12:22:07.778Z"
      },
      {
        "duration": 22,
        "start_time": "2021-12-21T12:22:07.798Z"
      },
      {
        "duration": 9,
        "start_time": "2021-12-21T12:22:07.822Z"
      },
      {
        "duration": 16,
        "start_time": "2021-12-21T12:22:07.833Z"
      },
      {
        "duration": 9,
        "start_time": "2021-12-21T12:22:07.851Z"
      },
      {
        "duration": 11,
        "start_time": "2021-12-21T12:22:07.861Z"
      },
      {
        "duration": 9,
        "start_time": "2021-12-21T12:22:07.873Z"
      },
      {
        "duration": 9,
        "start_time": "2021-12-21T12:22:07.884Z"
      },
      {
        "duration": 578,
        "start_time": "2021-12-21T12:22:07.894Z"
      },
      {
        "duration": 455,
        "start_time": "2021-12-21T12:22:08.474Z"
      },
      {
        "duration": 4971,
        "start_time": "2021-12-21T12:22:08.936Z"
      },
      {
        "duration": 417,
        "start_time": "2021-12-21T12:22:22.759Z"
      },
      {
        "duration": 12606,
        "start_time": "2021-12-21T12:23:07.506Z"
      },
      {
        "duration": 5814,
        "start_time": "2021-12-21T12:23:21.578Z"
      },
      {
        "duration": 13055,
        "start_time": "2021-12-21T12:23:46.527Z"
      },
      {
        "duration": 5889,
        "start_time": "2021-12-21T12:24:37.792Z"
      },
      {
        "duration": 27617,
        "start_time": "2021-12-21T12:24:52.978Z"
      },
      {
        "duration": 4,
        "start_time": "2021-12-21T12:26:11.464Z"
      },
      {
        "duration": 17932,
        "start_time": "2021-12-21T12:26:52.826Z"
      },
      {
        "duration": 78,
        "start_time": "2021-12-21T12:27:46.626Z"
      },
      {
        "duration": 17648,
        "start_time": "2021-12-21T12:27:56.093Z"
      },
      {
        "duration": 18164,
        "start_time": "2021-12-21T12:29:12.246Z"
      },
      {
        "duration": 63,
        "start_time": "2021-12-21T12:29:42.298Z"
      },
      {
        "duration": 51,
        "start_time": "2021-12-21T12:30:15.372Z"
      },
      {
        "duration": 79,
        "start_time": "2021-12-21T12:35:41.711Z"
      },
      {
        "duration": 4971,
        "start_time": "2021-12-21T12:35:47.177Z"
      },
      {
        "duration": 11,
        "start_time": "2021-12-21T12:46:00.342Z"
      },
      {
        "duration": 21,
        "start_time": "2021-12-21T12:47:18.446Z"
      },
      {
        "duration": 629,
        "start_time": "2021-12-21T12:47:33.448Z"
      },
      {
        "duration": 11,
        "start_time": "2021-12-21T12:47:34.079Z"
      },
      {
        "duration": 10,
        "start_time": "2021-12-21T12:47:34.092Z"
      },
      {
        "duration": 16,
        "start_time": "2021-12-21T12:47:34.104Z"
      },
      {
        "duration": 17,
        "start_time": "2021-12-21T12:47:34.140Z"
      },
      {
        "duration": 8,
        "start_time": "2021-12-21T12:47:34.159Z"
      },
      {
        "duration": 10,
        "start_time": "2021-12-21T12:47:34.168Z"
      },
      {
        "duration": 3,
        "start_time": "2021-12-21T12:47:34.180Z"
      },
      {
        "duration": 18,
        "start_time": "2021-12-21T12:47:34.185Z"
      },
      {
        "duration": 3,
        "start_time": "2021-12-21T12:47:34.205Z"
      },
      {
        "duration": 31,
        "start_time": "2021-12-21T12:47:34.210Z"
      },
      {
        "duration": 9,
        "start_time": "2021-12-21T12:47:34.242Z"
      },
      {
        "duration": 10,
        "start_time": "2021-12-21T12:47:34.253Z"
      },
      {
        "duration": 565,
        "start_time": "2021-12-21T12:47:34.265Z"
      },
      {
        "duration": 18505,
        "start_time": "2021-12-21T12:47:34.831Z"
      },
      {
        "duration": 62,
        "start_time": "2021-12-21T12:47:53.341Z"
      },
      {
        "duration": 4929,
        "start_time": "2021-12-21T12:47:53.405Z"
      },
      {
        "duration": 83,
        "start_time": "2021-12-21T12:47:58.336Z"
      },
      {
        "duration": -32,
        "start_time": "2021-12-21T12:47:58.454Z"
      },
      {
        "duration": 12,
        "start_time": "2021-12-21T12:48:25.191Z"
      },
      {
        "duration": 7,
        "start_time": "2021-12-21T13:15:18.213Z"
      },
      {
        "duration": 6277,
        "start_time": "2021-12-21T13:20:26.449Z"
      },
      {
        "duration": 8414,
        "start_time": "2021-12-21T13:29:16.716Z"
      },
      {
        "duration": 84,
        "start_time": "2021-12-21T13:30:59.929Z"
      },
      {
        "duration": 86,
        "start_time": "2021-12-21T13:31:40.211Z"
      },
      {
        "duration": 7493,
        "start_time": "2021-12-21T13:32:06.222Z"
      },
      {
        "duration": 6306,
        "start_time": "2021-12-21T13:32:35.863Z"
      },
      {
        "duration": 648,
        "start_time": "2021-12-21T13:32:54.123Z"
      },
      {
        "duration": 11,
        "start_time": "2021-12-21T13:32:54.773Z"
      },
      {
        "duration": 8,
        "start_time": "2021-12-21T13:32:54.786Z"
      },
      {
        "duration": 14,
        "start_time": "2021-12-21T13:32:54.796Z"
      },
      {
        "duration": 36,
        "start_time": "2021-12-21T13:32:54.812Z"
      },
      {
        "duration": 7,
        "start_time": "2021-12-21T13:32:54.850Z"
      },
      {
        "duration": 11,
        "start_time": "2021-12-21T13:32:54.858Z"
      },
      {
        "duration": 5,
        "start_time": "2021-12-21T13:32:54.870Z"
      },
      {
        "duration": 15,
        "start_time": "2021-12-21T13:32:54.877Z"
      },
      {
        "duration": 5,
        "start_time": "2021-12-21T13:32:54.894Z"
      },
      {
        "duration": 41,
        "start_time": "2021-12-21T13:32:54.901Z"
      },
      {
        "duration": 5,
        "start_time": "2021-12-21T13:32:54.944Z"
      },
      {
        "duration": 8548,
        "start_time": "2021-12-21T13:32:54.950Z"
      },
      {
        "duration": 6,
        "start_time": "2021-12-21T13:33:03.500Z"
      },
      {
        "duration": 609,
        "start_time": "2021-12-21T13:33:03.507Z"
      },
      {
        "duration": 18504,
        "start_time": "2021-12-21T13:33:04.118Z"
      },
      {
        "duration": 64,
        "start_time": "2021-12-21T13:33:22.624Z"
      },
      {
        "duration": 5040,
        "start_time": "2021-12-21T13:33:22.689Z"
      },
      {
        "duration": 13,
        "start_time": "2021-12-21T13:33:27.731Z"
      },
      {
        "duration": 972,
        "start_time": "2021-12-21T13:34:45.032Z"
      },
      {
        "duration": 610,
        "start_time": "2021-12-21T13:34:57.570Z"
      },
      {
        "duration": 11,
        "start_time": "2021-12-21T13:34:58.182Z"
      },
      {
        "duration": 10,
        "start_time": "2021-12-21T13:34:58.195Z"
      },
      {
        "duration": 15,
        "start_time": "2021-12-21T13:34:58.207Z"
      },
      {
        "duration": 13,
        "start_time": "2021-12-21T13:34:58.241Z"
      },
      {
        "duration": 7,
        "start_time": "2021-12-21T13:34:58.255Z"
      },
      {
        "duration": 8,
        "start_time": "2021-12-21T13:34:58.264Z"
      },
      {
        "duration": 5,
        "start_time": "2021-12-21T13:34:58.274Z"
      },
      {
        "duration": 18,
        "start_time": "2021-12-21T13:34:58.280Z"
      },
      {
        "duration": 41,
        "start_time": "2021-12-21T13:34:58.300Z"
      },
      {
        "duration": 4,
        "start_time": "2021-12-21T13:34:58.343Z"
      },
      {
        "duration": 6,
        "start_time": "2021-12-21T13:34:58.349Z"
      },
      {
        "duration": 698,
        "start_time": "2021-12-21T13:34:58.357Z"
      },
      {
        "duration": 6,
        "start_time": "2021-12-21T13:34:59.057Z"
      },
      {
        "duration": 626,
        "start_time": "2021-12-21T13:34:59.064Z"
      },
      {
        "duration": 19395,
        "start_time": "2021-12-21T13:34:59.692Z"
      },
      {
        "duration": 112,
        "start_time": "2021-12-21T13:35:19.089Z"
      },
      {
        "duration": 5251,
        "start_time": "2021-12-21T13:35:19.203Z"
      },
      {
        "duration": 11,
        "start_time": "2021-12-21T13:35:24.457Z"
      },
      {
        "duration": 355,
        "start_time": "2021-12-24T11:21:23.382Z"
      },
      {
        "duration": 824,
        "start_time": "2021-12-24T11:21:31.898Z"
      },
      {
        "duration": 14,
        "start_time": "2021-12-24T11:21:32.725Z"
      },
      {
        "duration": 30,
        "start_time": "2021-12-24T11:21:32.742Z"
      },
      {
        "duration": 22,
        "start_time": "2021-12-24T11:21:32.775Z"
      },
      {
        "duration": 18,
        "start_time": "2021-12-24T11:21:32.801Z"
      },
      {
        "duration": 45,
        "start_time": "2021-12-24T11:21:32.822Z"
      },
      {
        "duration": 31,
        "start_time": "2021-12-24T11:21:32.869Z"
      },
      {
        "duration": 6,
        "start_time": "2021-12-24T11:21:32.904Z"
      },
      {
        "duration": 40,
        "start_time": "2021-12-24T11:21:32.913Z"
      },
      {
        "duration": 28,
        "start_time": "2021-12-24T11:21:32.955Z"
      },
      {
        "duration": 15,
        "start_time": "2021-12-24T11:21:32.986Z"
      },
      {
        "duration": 10,
        "start_time": "2021-12-24T11:21:33.004Z"
      },
      {
        "duration": 974,
        "start_time": "2021-12-24T11:21:33.017Z"
      },
      {
        "duration": 8,
        "start_time": "2021-12-24T11:21:33.994Z"
      },
      {
        "duration": 835,
        "start_time": "2021-12-24T11:21:34.004Z"
      },
      {
        "duration": 33687,
        "start_time": "2021-12-24T11:21:34.842Z"
      },
      {
        "duration": 116,
        "start_time": "2021-12-24T11:22:08.531Z"
      },
      {
        "duration": 975,
        "start_time": "2021-12-24T11:22:21.043Z"
      },
      {
        "duration": 18,
        "start_time": "2021-12-24T11:22:22.021Z"
      },
      {
        "duration": 37,
        "start_time": "2021-12-24T11:22:22.043Z"
      },
      {
        "duration": 32,
        "start_time": "2021-12-24T11:22:22.083Z"
      },
      {
        "duration": 56,
        "start_time": "2021-12-24T11:22:22.118Z"
      },
      {
        "duration": 14,
        "start_time": "2021-12-24T11:22:22.177Z"
      },
      {
        "duration": 15,
        "start_time": "2021-12-24T11:22:22.194Z"
      },
      {
        "duration": 6,
        "start_time": "2021-12-24T11:22:22.216Z"
      },
      {
        "duration": 21,
        "start_time": "2021-12-24T11:22:22.264Z"
      },
      {
        "duration": 7,
        "start_time": "2021-12-24T11:22:22.288Z"
      },
      {
        "duration": 6,
        "start_time": "2021-12-24T11:22:22.298Z"
      },
      {
        "duration": 7,
        "start_time": "2021-12-24T11:22:22.308Z"
      },
      {
        "duration": 975,
        "start_time": "2021-12-24T11:22:22.364Z"
      },
      {
        "duration": 23,
        "start_time": "2021-12-24T11:22:23.342Z"
      },
      {
        "duration": 852,
        "start_time": "2021-12-24T11:22:23.368Z"
      },
      {
        "duration": 34088,
        "start_time": "2021-12-24T11:22:24.224Z"
      },
      {
        "duration": 105,
        "start_time": "2021-12-24T11:22:58.315Z"
      },
      {
        "duration": 8445,
        "start_time": "2021-12-24T11:22:58.422Z"
      },
      {
        "duration": 16,
        "start_time": "2021-12-24T11:23:06.870Z"
      },
      {
        "duration": 16,
        "start_time": "2021-12-24T11:23:30.276Z"
      },
      {
        "duration": 827,
        "start_time": "2021-12-24T11:24:02.492Z"
      },
      {
        "duration": 16,
        "start_time": "2021-12-24T11:24:03.322Z"
      },
      {
        "duration": 34,
        "start_time": "2021-12-24T11:24:03.342Z"
      },
      {
        "duration": 23,
        "start_time": "2021-12-24T11:24:03.380Z"
      },
      {
        "duration": 18,
        "start_time": "2021-12-24T11:24:03.406Z"
      },
      {
        "duration": 45,
        "start_time": "2021-12-24T11:24:03.426Z"
      },
      {
        "duration": 14,
        "start_time": "2021-12-24T11:24:03.474Z"
      },
      {
        "duration": 6,
        "start_time": "2021-12-24T11:24:03.493Z"
      },
      {
        "duration": 65,
        "start_time": "2021-12-24T11:24:03.502Z"
      },
      {
        "duration": 6,
        "start_time": "2021-12-24T11:24:03.569Z"
      },
      {
        "duration": 6,
        "start_time": "2021-12-24T11:24:03.578Z"
      },
      {
        "duration": 7,
        "start_time": "2021-12-24T11:24:03.587Z"
      },
      {
        "duration": 987,
        "start_time": "2021-12-24T11:24:03.597Z"
      },
      {
        "duration": 8,
        "start_time": "2021-12-24T11:24:04.587Z"
      },
      {
        "duration": 826,
        "start_time": "2021-12-24T11:24:04.597Z"
      },
      {
        "duration": 31669,
        "start_time": "2021-12-24T11:24:05.425Z"
      },
      {
        "duration": 109,
        "start_time": "2021-12-24T11:24:37.096Z"
      },
      {
        "duration": 8575,
        "start_time": "2021-12-24T11:24:37.208Z"
      },
      {
        "duration": 16,
        "start_time": "2021-12-24T11:24:45.786Z"
      },
      {
        "duration": 856,
        "start_time": "2021-12-24T11:26:58.706Z"
      },
      {
        "duration": 19,
        "start_time": "2021-12-24T11:26:59.566Z"
      },
      {
        "duration": 16,
        "start_time": "2021-12-24T11:26:59.589Z"
      },
      {
        "duration": 61,
        "start_time": "2021-12-24T11:26:59.609Z"
      },
      {
        "duration": 28,
        "start_time": "2021-12-24T11:26:59.674Z"
      },
      {
        "duration": 26,
        "start_time": "2021-12-24T11:26:59.705Z"
      },
      {
        "duration": 22,
        "start_time": "2021-12-24T11:26:59.763Z"
      },
      {
        "duration": 6,
        "start_time": "2021-12-24T11:26:59.791Z"
      },
      {
        "duration": 22,
        "start_time": "2021-12-24T11:26:59.800Z"
      },
      {
        "duration": 7,
        "start_time": "2021-12-24T11:26:59.864Z"
      },
      {
        "duration": 8,
        "start_time": "2021-12-24T11:26:59.874Z"
      },
      {
        "duration": 9,
        "start_time": "2021-12-24T11:26:59.885Z"
      },
      {
        "duration": 1004,
        "start_time": "2021-12-24T11:26:59.896Z"
      },
      {
        "duration": 8,
        "start_time": "2021-12-24T11:27:00.904Z"
      },
      {
        "duration": 895,
        "start_time": "2021-12-24T11:27:00.914Z"
      },
      {
        "duration": 774,
        "start_time": "2021-12-24T11:27:27.309Z"
      },
      {
        "duration": 14,
        "start_time": "2021-12-24T11:27:28.086Z"
      },
      {
        "duration": 14,
        "start_time": "2021-12-24T11:27:28.103Z"
      },
      {
        "duration": 49,
        "start_time": "2021-12-24T11:27:28.120Z"
      },
      {
        "duration": 18,
        "start_time": "2021-12-24T11:27:28.172Z"
      },
      {
        "duration": 17,
        "start_time": "2021-12-24T11:27:28.192Z"
      },
      {
        "duration": 16,
        "start_time": "2021-12-24T11:27:28.211Z"
      },
      {
        "duration": 34,
        "start_time": "2021-12-24T11:27:28.231Z"
      },
      {
        "duration": 22,
        "start_time": "2021-12-24T11:27:28.268Z"
      },
      {
        "duration": 7,
        "start_time": "2021-12-24T11:27:28.293Z"
      },
      {
        "duration": 6,
        "start_time": "2021-12-24T11:27:28.302Z"
      },
      {
        "duration": 53,
        "start_time": "2021-12-24T11:27:28.310Z"
      },
      {
        "duration": 973,
        "start_time": "2021-12-24T11:27:28.365Z"
      },
      {
        "duration": 27,
        "start_time": "2021-12-24T11:27:29.341Z"
      },
      {
        "duration": 784,
        "start_time": "2021-12-24T11:27:29.371Z"
      },
      {
        "duration": 796,
        "start_time": "2021-12-24T11:28:05.807Z"
      },
      {
        "duration": 21,
        "start_time": "2021-12-24T11:28:06.605Z"
      },
      {
        "duration": 35,
        "start_time": "2021-12-24T11:28:06.629Z"
      },
      {
        "duration": 22,
        "start_time": "2021-12-24T11:28:06.667Z"
      },
      {
        "duration": 20,
        "start_time": "2021-12-24T11:28:06.691Z"
      },
      {
        "duration": 50,
        "start_time": "2021-12-24T11:28:06.713Z"
      },
      {
        "duration": 14,
        "start_time": "2021-12-24T11:28:06.766Z"
      },
      {
        "duration": 7,
        "start_time": "2021-12-24T11:28:06.784Z"
      },
      {
        "duration": 21,
        "start_time": "2021-12-24T11:28:06.794Z"
      },
      {
        "duration": 51,
        "start_time": "2021-12-24T11:28:06.817Z"
      },
      {
        "duration": 7,
        "start_time": "2021-12-24T11:28:06.870Z"
      },
      {
        "duration": 7,
        "start_time": "2021-12-24T11:28:06.879Z"
      },
      {
        "duration": 1102,
        "start_time": "2021-12-24T11:28:06.889Z"
      },
      {
        "duration": 9,
        "start_time": "2021-12-24T11:28:07.993Z"
      },
      {
        "duration": 837,
        "start_time": "2021-12-24T11:28:08.004Z"
      },
      {
        "duration": 31289,
        "start_time": "2021-12-24T11:28:08.844Z"
      },
      {
        "duration": 102,
        "start_time": "2021-12-24T11:28:40.135Z"
      },
      {
        "duration": 8303,
        "start_time": "2021-12-24T11:28:40.239Z"
      },
      {
        "duration": 28,
        "start_time": "2021-12-24T11:28:48.544Z"
      },
      {
        "duration": 22,
        "start_time": "2021-12-24T11:29:39.175Z"
      },
      {
        "duration": 810,
        "start_time": "2021-12-24T11:30:31.679Z"
      },
      {
        "duration": 15,
        "start_time": "2021-12-24T11:30:32.495Z"
      },
      {
        "duration": 14,
        "start_time": "2021-12-24T11:30:32.514Z"
      },
      {
        "duration": 54,
        "start_time": "2021-12-24T11:30:32.531Z"
      },
      {
        "duration": 19,
        "start_time": "2021-12-24T11:30:32.588Z"
      },
      {
        "duration": 11,
        "start_time": "2021-12-24T11:30:32.610Z"
      },
      {
        "duration": 53,
        "start_time": "2021-12-24T11:30:32.625Z"
      },
      {
        "duration": 19,
        "start_time": "2021-12-24T11:30:32.681Z"
      },
      {
        "duration": 28,
        "start_time": "2021-12-24T11:30:32.703Z"
      },
      {
        "duration": 7,
        "start_time": "2021-12-24T11:30:32.733Z"
      },
      {
        "duration": 24,
        "start_time": "2021-12-24T11:30:32.742Z"
      },
      {
        "duration": 13,
        "start_time": "2021-12-24T11:30:32.768Z"
      },
      {
        "duration": 985,
        "start_time": "2021-12-24T11:30:32.783Z"
      },
      {
        "duration": 8,
        "start_time": "2021-12-24T11:30:33.771Z"
      },
      {
        "duration": 837,
        "start_time": "2021-12-24T11:30:33.781Z"
      },
      {
        "duration": 859,
        "start_time": "2021-12-24T11:31:05.426Z"
      },
      {
        "duration": 17,
        "start_time": "2021-12-24T11:31:06.289Z"
      },
      {
        "duration": 15,
        "start_time": "2021-12-24T11:31:06.309Z"
      },
      {
        "duration": 48,
        "start_time": "2021-12-24T11:31:06.326Z"
      },
      {
        "duration": 17,
        "start_time": "2021-12-24T11:31:06.376Z"
      },
      {
        "duration": 11,
        "start_time": "2021-12-24T11:31:06.396Z"
      },
      {
        "duration": 13,
        "start_time": "2021-12-24T11:31:06.410Z"
      },
      {
        "duration": 7,
        "start_time": "2021-12-24T11:31:06.462Z"
      },
      {
        "duration": 19,
        "start_time": "2021-12-24T11:31:06.474Z"
      },
      {
        "duration": 6,
        "start_time": "2021-12-24T11:31:06.496Z"
      },
      {
        "duration": 6,
        "start_time": "2021-12-24T11:31:06.505Z"
      },
      {
        "duration": 10,
        "start_time": "2021-12-24T11:31:06.563Z"
      },
      {
        "duration": 996,
        "start_time": "2021-12-24T11:31:06.576Z"
      },
      {
        "duration": 7,
        "start_time": "2021-12-24T11:31:07.575Z"
      },
      {
        "duration": 829,
        "start_time": "2021-12-24T11:31:07.585Z"
      },
      {
        "duration": 31637,
        "start_time": "2021-12-24T11:31:08.417Z"
      },
      {
        "duration": 118,
        "start_time": "2021-12-24T11:31:40.057Z"
      },
      {
        "duration": 8093,
        "start_time": "2021-12-24T11:31:40.178Z"
      },
      {
        "duration": 17,
        "start_time": "2021-12-24T11:31:48.273Z"
      },
      {
        "duration": 21,
        "start_time": "2021-12-24T11:36:10.284Z"
      },
      {
        "duration": 855,
        "start_time": "2021-12-24T11:36:26.241Z"
      },
      {
        "duration": 15,
        "start_time": "2021-12-24T11:36:27.099Z"
      },
      {
        "duration": 14,
        "start_time": "2021-12-24T11:36:27.118Z"
      },
      {
        "duration": 48,
        "start_time": "2021-12-24T11:36:27.135Z"
      },
      {
        "duration": 18,
        "start_time": "2021-12-24T11:36:27.185Z"
      },
      {
        "duration": 11,
        "start_time": "2021-12-24T11:36:27.205Z"
      },
      {
        "duration": 50,
        "start_time": "2021-12-24T11:36:27.219Z"
      },
      {
        "duration": 6,
        "start_time": "2021-12-24T11:36:27.273Z"
      },
      {
        "duration": 22,
        "start_time": "2021-12-24T11:36:27.281Z"
      },
      {
        "duration": 6,
        "start_time": "2021-12-24T11:36:27.305Z"
      },
      {
        "duration": 6,
        "start_time": "2021-12-24T11:36:27.313Z"
      },
      {
        "duration": 6,
        "start_time": "2021-12-24T11:36:27.364Z"
      },
      {
        "duration": 999,
        "start_time": "2021-12-24T11:36:27.373Z"
      },
      {
        "duration": 8,
        "start_time": "2021-12-24T11:36:28.374Z"
      },
      {
        "duration": 825,
        "start_time": "2021-12-24T11:36:28.385Z"
      },
      {
        "duration": 32954,
        "start_time": "2021-12-24T11:36:29.213Z"
      },
      {
        "duration": 108,
        "start_time": "2021-12-24T11:37:02.169Z"
      },
      {
        "duration": 8257,
        "start_time": "2021-12-24T11:37:02.280Z"
      },
      {
        "duration": 17,
        "start_time": "2021-12-24T11:37:10.539Z"
      },
      {
        "duration": 24,
        "start_time": "2021-12-24T11:47:28.457Z"
      },
      {
        "duration": 579,
        "start_time": "2021-12-24T11:47:35.250Z"
      },
      {
        "duration": 855,
        "start_time": "2021-12-24T11:47:42.225Z"
      },
      {
        "duration": 14,
        "start_time": "2021-12-24T11:47:43.083Z"
      },
      {
        "duration": 14,
        "start_time": "2021-12-24T11:47:43.100Z"
      },
      {
        "duration": 53,
        "start_time": "2021-12-24T11:47:43.117Z"
      },
      {
        "duration": 18,
        "start_time": "2021-12-24T11:47:43.172Z"
      },
      {
        "duration": 10,
        "start_time": "2021-12-24T11:47:43.192Z"
      },
      {
        "duration": 11,
        "start_time": "2021-12-24T11:47:43.205Z"
      },
      {
        "duration": 5,
        "start_time": "2021-12-24T11:47:43.219Z"
      },
      {
        "duration": 20,
        "start_time": "2021-12-24T11:47:43.263Z"
      },
      {
        "duration": 12,
        "start_time": "2021-12-24T11:47:43.286Z"
      },
      {
        "duration": 19,
        "start_time": "2021-12-24T11:47:43.301Z"
      },
      {
        "duration": 8,
        "start_time": "2021-12-24T11:47:43.322Z"
      },
      {
        "duration": 1008,
        "start_time": "2021-12-24T11:47:43.332Z"
      },
      {
        "duration": 22,
        "start_time": "2021-12-24T11:47:44.342Z"
      },
      {
        "duration": 839,
        "start_time": "2021-12-24T11:47:44.367Z"
      },
      {
        "duration": 32515,
        "start_time": "2021-12-24T11:47:45.209Z"
      },
      {
        "duration": 101,
        "start_time": "2021-12-24T11:48:17.727Z"
      },
      {
        "duration": 8446,
        "start_time": "2021-12-24T11:48:17.830Z"
      },
      {
        "duration": 16,
        "start_time": "2021-12-24T11:48:26.279Z"
      },
      {
        "duration": 914,
        "start_time": "2021-12-24T11:52:14.936Z"
      },
      {
        "duration": 17,
        "start_time": "2021-12-24T11:52:15.853Z"
      },
      {
        "duration": 15,
        "start_time": "2021-12-24T11:52:15.873Z"
      },
      {
        "duration": 23,
        "start_time": "2021-12-24T11:52:15.891Z"
      },
      {
        "duration": 60,
        "start_time": "2021-12-24T11:52:15.917Z"
      },
      {
        "duration": 11,
        "start_time": "2021-12-24T11:52:15.979Z"
      },
      {
        "duration": 464,
        "start_time": "2021-12-24T11:52:15.993Z"
      },
      {
        "duration": -83,
        "start_time": "2021-12-24T11:52:16.544Z"
      },
      {
        "duration": -87,
        "start_time": "2021-12-24T11:52:16.550Z"
      },
      {
        "duration": -91,
        "start_time": "2021-12-24T11:52:16.557Z"
      },
      {
        "duration": -93,
        "start_time": "2021-12-24T11:52:16.561Z"
      },
      {
        "duration": -94,
        "start_time": "2021-12-24T11:52:16.565Z"
      },
      {
        "duration": -97,
        "start_time": "2021-12-24T11:52:16.570Z"
      },
      {
        "duration": -97,
        "start_time": "2021-12-24T11:52:16.572Z"
      },
      {
        "duration": -99,
        "start_time": "2021-12-24T11:52:16.576Z"
      },
      {
        "duration": -99,
        "start_time": "2021-12-24T11:52:16.578Z"
      },
      {
        "duration": -100,
        "start_time": "2021-12-24T11:52:16.581Z"
      },
      {
        "duration": -141,
        "start_time": "2021-12-24T11:52:16.624Z"
      },
      {
        "duration": -143,
        "start_time": "2021-12-24T11:52:16.629Z"
      },
      {
        "duration": -144,
        "start_time": "2021-12-24T11:52:16.632Z"
      },
      {
        "duration": 799,
        "start_time": "2021-12-24T11:52:56.789Z"
      },
      {
        "duration": 16,
        "start_time": "2021-12-24T11:52:57.590Z"
      },
      {
        "duration": 14,
        "start_time": "2021-12-24T11:52:57.609Z"
      },
      {
        "duration": 56,
        "start_time": "2021-12-24T11:52:57.625Z"
      },
      {
        "duration": 19,
        "start_time": "2021-12-24T11:52:57.684Z"
      },
      {
        "duration": 12,
        "start_time": "2021-12-24T11:52:57.706Z"
      },
      {
        "duration": 466,
        "start_time": "2021-12-24T11:52:57.721Z"
      },
      {
        "duration": -118,
        "start_time": "2021-12-24T11:52:58.308Z"
      },
      {
        "duration": -118,
        "start_time": "2021-12-24T11:52:58.310Z"
      },
      {
        "duration": -121,
        "start_time": "2021-12-24T11:52:58.314Z"
      },
      {
        "duration": -123,
        "start_time": "2021-12-24T11:52:58.318Z"
      },
      {
        "duration": -124,
        "start_time": "2021-12-24T11:52:58.320Z"
      },
      {
        "duration": -125,
        "start_time": "2021-12-24T11:52:58.323Z"
      },
      {
        "duration": -126,
        "start_time": "2021-12-24T11:52:58.325Z"
      },
      {
        "duration": -127,
        "start_time": "2021-12-24T11:52:58.328Z"
      },
      {
        "duration": -130,
        "start_time": "2021-12-24T11:52:58.332Z"
      },
      {
        "duration": -133,
        "start_time": "2021-12-24T11:52:58.336Z"
      },
      {
        "duration": -133,
        "start_time": "2021-12-24T11:52:58.338Z"
      },
      {
        "duration": -168,
        "start_time": "2021-12-24T11:52:58.374Z"
      },
      {
        "duration": -171,
        "start_time": "2021-12-24T11:52:58.379Z"
      },
      {
        "duration": 9426,
        "start_time": "2021-12-24T11:55:12.006Z"
      },
      {
        "duration": 882,
        "start_time": "2021-12-24T11:55:35.583Z"
      },
      {
        "duration": 18,
        "start_time": "2021-12-24T11:55:36.468Z"
      },
      {
        "duration": 16,
        "start_time": "2021-12-24T11:55:36.490Z"
      },
      {
        "duration": 70,
        "start_time": "2021-12-24T11:55:36.509Z"
      },
      {
        "duration": 27,
        "start_time": "2021-12-24T11:55:36.584Z"
      },
      {
        "duration": 27,
        "start_time": "2021-12-24T11:55:36.615Z"
      },
      {
        "duration": 10548,
        "start_time": "2021-12-24T11:55:36.662Z"
      },
      {
        "duration": -75,
        "start_time": "2021-12-24T11:55:47.290Z"
      },
      {
        "duration": -84,
        "start_time": "2021-12-24T11:55:47.300Z"
      },
      {
        "duration": -91,
        "start_time": "2021-12-24T11:55:47.309Z"
      },
      {
        "duration": -98,
        "start_time": "2021-12-24T11:55:47.318Z"
      },
      {
        "duration": -99,
        "start_time": "2021-12-24T11:55:47.321Z"
      },
      {
        "duration": -110,
        "start_time": "2021-12-24T11:55:47.333Z"
      },
      {
        "duration": -111,
        "start_time": "2021-12-24T11:55:47.336Z"
      },
      {
        "duration": -111,
        "start_time": "2021-12-24T11:55:47.338Z"
      },
      {
        "duration": -112,
        "start_time": "2021-12-24T11:55:47.340Z"
      },
      {
        "duration": -112,
        "start_time": "2021-12-24T11:55:47.342Z"
      },
      {
        "duration": -113,
        "start_time": "2021-12-24T11:55:47.344Z"
      },
      {
        "duration": -113,
        "start_time": "2021-12-24T11:55:47.346Z"
      },
      {
        "duration": -113,
        "start_time": "2021-12-24T11:55:47.348Z"
      },
      {
        "duration": 910,
        "start_time": "2021-12-24T11:56:31.256Z"
      },
      {
        "duration": 17,
        "start_time": "2021-12-24T11:56:32.170Z"
      },
      {
        "duration": 15,
        "start_time": "2021-12-24T11:56:32.190Z"
      },
      {
        "duration": 56,
        "start_time": "2021-12-24T11:56:32.208Z"
      },
      {
        "duration": 19,
        "start_time": "2021-12-24T11:56:32.267Z"
      },
      {
        "duration": 11,
        "start_time": "2021-12-24T11:56:32.288Z"
      },
      {
        "duration": 2501,
        "start_time": "2021-12-24T11:56:32.301Z"
      },
      {
        "duration": 12,
        "start_time": "2021-12-24T11:56:34.805Z"
      },
      {
        "duration": 6,
        "start_time": "2021-12-24T11:56:34.821Z"
      },
      {
        "duration": 52,
        "start_time": "2021-12-24T11:56:34.830Z"
      },
      {
        "duration": 6,
        "start_time": "2021-12-24T11:56:34.884Z"
      },
      {
        "duration": 7,
        "start_time": "2021-12-24T11:56:34.893Z"
      },
      {
        "duration": 7,
        "start_time": "2021-12-24T11:56:34.903Z"
      },
      {
        "duration": 981,
        "start_time": "2021-12-24T11:56:34.912Z"
      },
      {
        "duration": 9,
        "start_time": "2021-12-24T11:56:35.896Z"
      },
      {
        "duration": 824,
        "start_time": "2021-12-24T11:56:35.907Z"
      },
      {
        "duration": 31518,
        "start_time": "2021-12-24T11:56:36.734Z"
      },
      {
        "duration": 153,
        "start_time": "2021-12-24T11:57:08.255Z"
      },
      {
        "duration": 8495,
        "start_time": "2021-12-24T11:57:08.411Z"
      },
      {
        "duration": 18,
        "start_time": "2021-12-24T11:57:16.908Z"
      },
      {
        "duration": 50,
        "start_time": "2021-12-24T11:58:04.497Z"
      },
      {
        "duration": 30,
        "start_time": "2021-12-24T11:58:28.887Z"
      },
      {
        "duration": 886,
        "start_time": "2021-12-24T11:59:14.811Z"
      },
      {
        "duration": 14,
        "start_time": "2021-12-24T11:59:15.700Z"
      },
      {
        "duration": 15,
        "start_time": "2021-12-24T11:59:15.717Z"
      },
      {
        "duration": 47,
        "start_time": "2021-12-24T11:59:15.735Z"
      },
      {
        "duration": 17,
        "start_time": "2021-12-24T11:59:15.785Z"
      },
      {
        "duration": 10,
        "start_time": "2021-12-24T11:59:15.805Z"
      },
      {
        "duration": 72,
        "start_time": "2021-12-24T11:59:15.818Z"
      },
      {
        "duration": 2640,
        "start_time": "2021-12-24T11:59:15.894Z"
      },
      {
        "duration": 48,
        "start_time": "2021-12-24T11:59:18.538Z"
      },
      {
        "duration": 15,
        "start_time": "2021-12-24T11:59:18.589Z"
      },
      {
        "duration": 8,
        "start_time": "2021-12-24T11:59:18.607Z"
      },
      {
        "duration": 54,
        "start_time": "2021-12-24T11:59:18.618Z"
      },
      {
        "duration": 6,
        "start_time": "2021-12-24T11:59:18.674Z"
      },
      {
        "duration": 5,
        "start_time": "2021-12-24T11:59:18.683Z"
      },
      {
        "duration": 16,
        "start_time": "2021-12-24T11:59:18.691Z"
      },
      {
        "duration": 1065,
        "start_time": "2021-12-24T11:59:18.710Z"
      },
      {
        "duration": 8,
        "start_time": "2021-12-24T11:59:19.778Z"
      },
      {
        "duration": 830,
        "start_time": "2021-12-24T11:59:19.789Z"
      },
      {
        "duration": 32450,
        "start_time": "2021-12-24T11:59:20.622Z"
      },
      {
        "duration": 115,
        "start_time": "2021-12-24T11:59:53.074Z"
      },
      {
        "duration": 8776,
        "start_time": "2021-12-24T11:59:53.191Z"
      },
      {
        "duration": 21,
        "start_time": "2021-12-24T12:00:01.970Z"
      },
      {
        "duration": 12739,
        "start_time": "2021-12-24T12:01:38.674Z"
      },
      {
        "duration": 13923,
        "start_time": "2021-12-24T12:02:05.975Z"
      },
      {
        "duration": 6,
        "start_time": "2021-12-24T12:08:16.408Z"
      },
      {
        "duration": 6,
        "start_time": "2021-12-24T12:08:32.596Z"
      },
      {
        "duration": 795,
        "start_time": "2021-12-24T12:09:14.014Z"
      },
      {
        "duration": 14,
        "start_time": "2021-12-24T12:09:14.812Z"
      },
      {
        "duration": 15,
        "start_time": "2021-12-24T12:09:14.829Z"
      },
      {
        "duration": 22,
        "start_time": "2021-12-24T12:09:14.864Z"
      },
      {
        "duration": 17,
        "start_time": "2021-12-24T12:09:14.889Z"
      },
      {
        "duration": 11,
        "start_time": "2021-12-24T12:09:14.909Z"
      },
      {
        "duration": 72,
        "start_time": "2021-12-24T12:09:14.922Z"
      },
      {
        "duration": 2502,
        "start_time": "2021-12-24T12:09:14.998Z"
      },
      {
        "duration": 26,
        "start_time": "2021-12-24T12:09:17.503Z"
      },
      {
        "duration": 33,
        "start_time": "2021-12-24T12:09:17.532Z"
      },
      {
        "duration": 6,
        "start_time": "2021-12-24T12:09:17.568Z"
      },
      {
        "duration": 6,
        "start_time": "2021-12-24T12:09:17.577Z"
      },
      {
        "duration": 21,
        "start_time": "2021-12-24T12:09:17.585Z"
      },
      {
        "duration": 6,
        "start_time": "2021-12-24T12:09:17.609Z"
      },
      {
        "duration": 7,
        "start_time": "2021-12-24T12:09:17.663Z"
      },
      {
        "duration": 7,
        "start_time": "2021-12-24T12:09:17.672Z"
      },
      {
        "duration": 991,
        "start_time": "2021-12-24T12:09:17.682Z"
      },
      {
        "duration": 10,
        "start_time": "2021-12-24T12:09:18.677Z"
      },
      {
        "duration": 826,
        "start_time": "2021-12-24T12:09:18.690Z"
      },
      {
        "duration": 31383,
        "start_time": "2021-12-24T12:09:19.519Z"
      },
      {
        "duration": 104,
        "start_time": "2021-12-24T12:09:50.904Z"
      },
      {
        "duration": 8360,
        "start_time": "2021-12-24T12:09:51.011Z"
      },
      {
        "duration": 18,
        "start_time": "2021-12-24T12:09:59.377Z"
      },
      {
        "duration": 8,
        "start_time": "2021-12-24T12:09:59.398Z"
      },
      {
        "duration": 815,
        "start_time": "2021-12-24T12:10:12.820Z"
      },
      {
        "duration": 16,
        "start_time": "2021-12-24T12:10:13.637Z"
      },
      {
        "duration": 17,
        "start_time": "2021-12-24T12:10:13.656Z"
      },
      {
        "duration": 24,
        "start_time": "2021-12-24T12:10:13.676Z"
      },
      {
        "duration": 18,
        "start_time": "2021-12-24T12:10:13.702Z"
      },
      {
        "duration": 48,
        "start_time": "2021-12-24T12:10:13.722Z"
      },
      {
        "duration": 46,
        "start_time": "2021-12-24T12:10:13.772Z"
      },
      {
        "duration": 2816,
        "start_time": "2021-12-24T12:10:13.822Z"
      },
      {
        "duration": 42,
        "start_time": "2021-12-24T12:10:16.641Z"
      },
      {
        "duration": 13,
        "start_time": "2021-12-24T12:10:16.685Z"
      },
      {
        "duration": 8,
        "start_time": "2021-12-24T12:10:16.700Z"
      },
      {
        "duration": 6,
        "start_time": "2021-12-24T12:10:16.711Z"
      },
      {
        "duration": 59,
        "start_time": "2021-12-24T12:10:16.720Z"
      },
      {
        "duration": 6,
        "start_time": "2021-12-24T12:10:16.782Z"
      },
      {
        "duration": 6,
        "start_time": "2021-12-24T12:10:16.791Z"
      },
      {
        "duration": 6,
        "start_time": "2021-12-24T12:10:16.799Z"
      },
      {
        "duration": 1002,
        "start_time": "2021-12-24T12:10:16.808Z"
      },
      {
        "duration": 8,
        "start_time": "2021-12-24T12:10:17.813Z"
      },
      {
        "duration": 814,
        "start_time": "2021-12-24T12:10:17.824Z"
      },
      {
        "duration": 31049,
        "start_time": "2021-12-24T12:10:18.641Z"
      },
      {
        "duration": 106,
        "start_time": "2021-12-24T12:10:49.693Z"
      },
      {
        "duration": 8056,
        "start_time": "2021-12-24T12:10:49.802Z"
      },
      {
        "duration": 16,
        "start_time": "2021-12-24T12:10:57.865Z"
      },
      {
        "duration": 7,
        "start_time": "2021-12-24T12:11:48.449Z"
      },
      {
        "duration": 6,
        "start_time": "2021-12-24T12:13:09.921Z"
      },
      {
        "duration": 8,
        "start_time": "2021-12-24T12:15:23.517Z"
      },
      {
        "duration": 25,
        "start_time": "2021-12-24T12:18:51.485Z"
      },
      {
        "duration": 25,
        "start_time": "2021-12-24T12:28:08.652Z"
      },
      {
        "duration": 13,
        "start_time": "2021-12-24T12:31:25.039Z"
      },
      {
        "duration": 8,
        "start_time": "2021-12-24T12:32:31.407Z"
      },
      {
        "duration": 13,
        "start_time": "2021-12-24T12:33:14.399Z"
      },
      {
        "duration": 21,
        "start_time": "2021-12-24T12:37:42.276Z"
      },
      {
        "duration": 9,
        "start_time": "2021-12-24T12:39:28.108Z"
      },
      {
        "duration": 7134,
        "start_time": "2021-12-24T12:39:59.810Z"
      },
      {
        "duration": 5574,
        "start_time": "2021-12-24T12:40:10.298Z"
      },
      {
        "duration": 21,
        "start_time": "2021-12-24T12:40:46.423Z"
      },
      {
        "duration": 20,
        "start_time": "2021-12-24T12:41:00.489Z"
      },
      {
        "duration": 1107,
        "start_time": "2021-12-24T12:42:07.338Z"
      },
      {
        "duration": 23,
        "start_time": "2021-12-24T12:42:08.449Z"
      },
      {
        "duration": 14,
        "start_time": "2021-12-24T12:42:08.475Z"
      },
      {
        "duration": 22,
        "start_time": "2021-12-24T12:42:08.492Z"
      },
      {
        "duration": 68,
        "start_time": "2021-12-24T12:42:08.517Z"
      },
      {
        "duration": 15,
        "start_time": "2021-12-24T12:42:08.588Z"
      },
      {
        "duration": 75,
        "start_time": "2021-12-24T12:42:08.606Z"
      },
      {
        "duration": 2886,
        "start_time": "2021-12-24T12:42:08.686Z"
      },
      {
        "duration": 29,
        "start_time": "2021-12-24T12:42:11.576Z"
      },
      {
        "duration": 12,
        "start_time": "2021-12-24T12:42:11.608Z"
      },
      {
        "duration": 57,
        "start_time": "2021-12-24T12:42:11.622Z"
      },
      {
        "duration": 24,
        "start_time": "2021-12-24T12:42:11.682Z"
      },
      {
        "duration": 24,
        "start_time": "2021-12-24T12:42:11.708Z"
      },
      {
        "duration": 11,
        "start_time": "2021-12-24T12:42:11.762Z"
      },
      {
        "duration": 25,
        "start_time": "2021-12-24T12:42:11.775Z"
      },
      {
        "duration": 6,
        "start_time": "2021-12-24T12:42:11.803Z"
      },
      {
        "duration": 59,
        "start_time": "2021-12-24T12:42:11.811Z"
      },
      {
        "duration": 6,
        "start_time": "2021-12-24T12:42:11.872Z"
      },
      {
        "duration": 8,
        "start_time": "2021-12-24T12:42:11.880Z"
      },
      {
        "duration": 14,
        "start_time": "2021-12-24T12:42:11.890Z"
      },
      {
        "duration": 1710,
        "start_time": "2021-12-24T12:42:11.907Z"
      },
      {
        "duration": -116,
        "start_time": "2021-12-24T12:42:13.736Z"
      },
      {
        "duration": -212,
        "start_time": "2021-12-24T12:42:13.834Z"
      },
      {
        "duration": -218,
        "start_time": "2021-12-24T12:42:13.841Z"
      },
      {
        "duration": -219,
        "start_time": "2021-12-24T12:42:13.844Z"
      },
      {
        "duration": -220,
        "start_time": "2021-12-24T12:42:13.847Z"
      },
      {
        "duration": -219,
        "start_time": "2021-12-24T12:42:13.849Z"
      },
      {
        "duration": 8,
        "start_time": "2021-12-24T12:44:31.062Z"
      },
      {
        "duration": 11,
        "start_time": "2021-12-24T12:45:20.378Z"
      },
      {
        "duration": 13,
        "start_time": "2021-12-24T12:46:12.205Z"
      },
      {
        "duration": 11,
        "start_time": "2021-12-24T12:46:21.471Z"
      },
      {
        "duration": 10,
        "start_time": "2021-12-24T12:46:29.214Z"
      },
      {
        "duration": 840,
        "start_time": "2021-12-24T12:47:21.822Z"
      },
      {
        "duration": 17,
        "start_time": "2021-12-24T12:47:22.665Z"
      },
      {
        "duration": 17,
        "start_time": "2021-12-24T12:47:22.686Z"
      },
      {
        "duration": 56,
        "start_time": "2021-12-24T12:47:22.707Z"
      },
      {
        "duration": 18,
        "start_time": "2021-12-24T12:47:22.765Z"
      },
      {
        "duration": 10,
        "start_time": "2021-12-24T12:47:22.785Z"
      },
      {
        "duration": 65,
        "start_time": "2021-12-24T12:47:22.798Z"
      },
      {
        "duration": 2576,
        "start_time": "2021-12-24T12:47:22.867Z"
      },
      {
        "duration": 46,
        "start_time": "2021-12-24T12:47:25.446Z"
      },
      {
        "duration": 13,
        "start_time": "2021-12-24T12:47:25.495Z"
      },
      {
        "duration": 11,
        "start_time": "2021-12-24T12:47:25.511Z"
      },
      {
        "duration": 46,
        "start_time": "2021-12-24T12:47:25.525Z"
      },
      {
        "duration": 13,
        "start_time": "2021-12-24T12:47:25.574Z"
      },
      {
        "duration": 24,
        "start_time": "2021-12-24T12:47:25.590Z"
      },
      {
        "duration": 25,
        "start_time": "2021-12-24T12:47:25.616Z"
      },
      {
        "duration": 27,
        "start_time": "2021-12-24T12:47:25.644Z"
      },
      {
        "duration": 29,
        "start_time": "2021-12-24T12:47:25.674Z"
      },
      {
        "duration": 7,
        "start_time": "2021-12-24T12:47:25.706Z"
      },
      {
        "duration": 6,
        "start_time": "2021-12-24T12:47:25.716Z"
      },
      {
        "duration": 43,
        "start_time": "2021-12-24T12:47:25.725Z"
      },
      {
        "duration": 1008,
        "start_time": "2021-12-24T12:47:25.771Z"
      },
      {
        "duration": 8,
        "start_time": "2021-12-24T12:47:26.782Z"
      },
      {
        "duration": 968,
        "start_time": "2021-12-24T12:47:26.795Z"
      },
      {
        "duration": 31784,
        "start_time": "2021-12-24T12:47:27.766Z"
      },
      {
        "duration": 113,
        "start_time": "2021-12-24T12:47:59.553Z"
      },
      {
        "duration": 8360,
        "start_time": "2021-12-24T12:47:59.668Z"
      },
      {
        "duration": 16,
        "start_time": "2021-12-24T12:48:08.031Z"
      },
      {
        "duration": 4063,
        "start_time": "2021-12-24T12:50:03.921Z"
      },
      {
        "duration": 12,
        "start_time": "2021-12-24T12:50:33.549Z"
      },
      {
        "duration": 299,
        "start_time": "2021-12-24T12:50:55.233Z"
      },
      {
        "duration": 25,
        "start_time": "2021-12-24T12:51:05.081Z"
      },
      {
        "duration": 26,
        "start_time": "2021-12-24T12:51:56.512Z"
      },
      {
        "duration": 7,
        "start_time": "2021-12-24T12:52:12.301Z"
      },
      {
        "duration": 12,
        "start_time": "2021-12-24T12:55:09.370Z"
      },
      {
        "duration": 15,
        "start_time": "2021-12-24T12:55:19.295Z"
      },
      {
        "duration": 876,
        "start_time": "2021-12-24T12:55:43.849Z"
      },
      {
        "duration": 16,
        "start_time": "2021-12-24T12:55:44.727Z"
      },
      {
        "duration": 27,
        "start_time": "2021-12-24T12:55:44.747Z"
      },
      {
        "duration": 22,
        "start_time": "2021-12-24T12:55:44.777Z"
      },
      {
        "duration": 16,
        "start_time": "2021-12-24T12:55:44.801Z"
      },
      {
        "duration": 43,
        "start_time": "2021-12-24T12:55:44.820Z"
      },
      {
        "duration": 34,
        "start_time": "2021-12-24T12:55:44.866Z"
      },
      {
        "duration": 2427,
        "start_time": "2021-12-24T12:55:44.904Z"
      },
      {
        "duration": 39,
        "start_time": "2021-12-24T12:55:47.335Z"
      },
      {
        "duration": 12,
        "start_time": "2021-12-24T12:55:47.377Z"
      },
      {
        "duration": 11,
        "start_time": "2021-12-24T12:55:47.391Z"
      },
      {
        "duration": 11,
        "start_time": "2021-12-24T12:55:47.404Z"
      },
      {
        "duration": 50,
        "start_time": "2021-12-24T12:55:47.418Z"
      },
      {
        "duration": 9,
        "start_time": "2021-12-24T12:55:47.471Z"
      },
      {
        "duration": 7,
        "start_time": "2021-12-24T12:55:47.483Z"
      },
      {
        "duration": 7,
        "start_time": "2021-12-24T12:55:47.492Z"
      },
      {
        "duration": 62,
        "start_time": "2021-12-24T12:55:47.501Z"
      },
      {
        "duration": 6,
        "start_time": "2021-12-24T12:55:47.565Z"
      },
      {
        "duration": 5,
        "start_time": "2021-12-24T12:55:47.575Z"
      },
      {
        "duration": 7,
        "start_time": "2021-12-24T12:55:47.582Z"
      },
      {
        "duration": 1000,
        "start_time": "2021-12-24T12:55:47.592Z"
      },
      {
        "duration": 8,
        "start_time": "2021-12-24T12:55:48.595Z"
      },
      {
        "duration": 805,
        "start_time": "2021-12-24T12:55:48.608Z"
      },
      {
        "duration": 31988,
        "start_time": "2021-12-24T12:55:49.415Z"
      },
      {
        "duration": 157,
        "start_time": "2021-12-24T12:56:21.406Z"
      },
      {
        "duration": 8544,
        "start_time": "2021-12-24T12:56:21.565Z"
      },
      {
        "duration": 17,
        "start_time": "2021-12-24T12:56:30.111Z"
      },
      {
        "duration": 16,
        "start_time": "2021-12-24T12:57:22.377Z"
      },
      {
        "duration": 13,
        "start_time": "2021-12-24T13:03:45.561Z"
      },
      {
        "duration": 449,
        "start_time": "2021-12-24T13:03:53.501Z"
      },
      {
        "duration": 6575,
        "start_time": "2021-12-24T13:04:21.867Z"
      },
      {
        "duration": 12,
        "start_time": "2021-12-24T13:04:49.044Z"
      },
      {
        "duration": 10,
        "start_time": "2021-12-24T13:04:53.966Z"
      },
      {
        "duration": 14,
        "start_time": "2021-12-24T13:05:16.259Z"
      },
      {
        "duration": 829,
        "start_time": "2021-12-24T13:05:27.364Z"
      },
      {
        "duration": 16,
        "start_time": "2021-12-24T13:05:28.196Z"
      },
      {
        "duration": 13,
        "start_time": "2021-12-24T13:05:28.215Z"
      },
      {
        "duration": 46,
        "start_time": "2021-12-24T13:05:28.231Z"
      },
      {
        "duration": 18,
        "start_time": "2021-12-24T13:05:28.280Z"
      },
      {
        "duration": 10,
        "start_time": "2021-12-24T13:05:28.300Z"
      },
      {
        "duration": 66,
        "start_time": "2021-12-24T13:05:28.313Z"
      },
      {
        "duration": 2715,
        "start_time": "2021-12-24T13:05:28.382Z"
      },
      {
        "duration": 28,
        "start_time": "2021-12-24T13:05:31.100Z"
      },
      {
        "duration": 35,
        "start_time": "2021-12-24T13:05:31.131Z"
      },
      {
        "duration": 22,
        "start_time": "2021-12-24T13:05:31.168Z"
      },
      {
        "duration": 11,
        "start_time": "2021-12-24T13:05:31.193Z"
      },
      {
        "duration": 14,
        "start_time": "2021-12-24T13:05:31.207Z"
      },
      {
        "duration": 11,
        "start_time": "2021-12-24T13:05:31.224Z"
      },
      {
        "duration": 7,
        "start_time": "2021-12-24T13:05:31.264Z"
      },
      {
        "duration": 12,
        "start_time": "2021-12-24T13:05:31.273Z"
      },
      {
        "duration": 32,
        "start_time": "2021-12-24T13:05:31.288Z"
      },
      {
        "duration": 6,
        "start_time": "2021-12-24T13:05:31.322Z"
      },
      {
        "duration": 36,
        "start_time": "2021-12-24T13:05:31.331Z"
      },
      {
        "duration": 9,
        "start_time": "2021-12-24T13:05:31.370Z"
      },
      {
        "duration": 982,
        "start_time": "2021-12-24T13:05:31.381Z"
      },
      {
        "duration": 8,
        "start_time": "2021-12-24T13:05:32.365Z"
      },
      {
        "duration": 969,
        "start_time": "2021-12-24T13:05:32.378Z"
      },
      {
        "duration": 32624,
        "start_time": "2021-12-24T13:05:33.350Z"
      },
      {
        "duration": 114,
        "start_time": "2021-12-24T13:06:05.977Z"
      },
      {
        "duration": 9096,
        "start_time": "2021-12-24T13:06:06.094Z"
      },
      {
        "duration": 35,
        "start_time": "2021-12-24T13:06:15.193Z"
      },
      {
        "duration": 12,
        "start_time": "2021-12-24T13:06:15.232Z"
      },
      {
        "duration": 13,
        "start_time": "2021-12-24T13:07:04.216Z"
      },
      {
        "duration": 11,
        "start_time": "2021-12-24T13:08:36.402Z"
      },
      {
        "duration": 11,
        "start_time": "2021-12-24T13:09:15.720Z"
      },
      {
        "duration": 11541,
        "start_time": "2021-12-24T13:09:37.835Z"
      },
      {
        "duration": 14,
        "start_time": "2021-12-24T13:10:01.889Z"
      },
      {
        "duration": 863,
        "start_time": "2021-12-24T13:10:19.716Z"
      },
      {
        "duration": 15,
        "start_time": "2021-12-24T13:10:20.583Z"
      },
      {
        "duration": 13,
        "start_time": "2021-12-24T13:10:20.601Z"
      },
      {
        "duration": 55,
        "start_time": "2021-12-24T13:10:20.617Z"
      },
      {
        "duration": 17,
        "start_time": "2021-12-24T13:10:20.675Z"
      },
      {
        "duration": 11,
        "start_time": "2021-12-24T13:10:20.694Z"
      },
      {
        "duration": 73,
        "start_time": "2021-12-24T13:10:20.708Z"
      },
      {
        "duration": 2630,
        "start_time": "2021-12-24T13:10:20.785Z"
      },
      {
        "duration": 44,
        "start_time": "2021-12-24T13:10:23.418Z"
      },
      {
        "duration": 13,
        "start_time": "2021-12-24T13:10:23.465Z"
      },
      {
        "duration": 10,
        "start_time": "2021-12-24T13:10:23.480Z"
      },
      {
        "duration": 15,
        "start_time": "2021-12-24T13:10:23.493Z"
      },
      {
        "duration": 53,
        "start_time": "2021-12-24T13:10:23.510Z"
      },
      {
        "duration": 10,
        "start_time": "2021-12-24T13:10:23.566Z"
      },
      {
        "duration": 16,
        "start_time": "2021-12-24T13:10:23.580Z"
      },
      {
        "duration": 15,
        "start_time": "2021-12-24T13:10:23.599Z"
      },
      {
        "duration": 48,
        "start_time": "2021-12-24T13:10:23.616Z"
      },
      {
        "duration": 20,
        "start_time": "2021-12-24T13:10:23.667Z"
      },
      {
        "duration": 6,
        "start_time": "2021-12-24T13:10:23.690Z"
      },
      {
        "duration": 6,
        "start_time": "2021-12-24T13:10:23.699Z"
      },
      {
        "duration": 7,
        "start_time": "2021-12-24T13:10:23.707Z"
      },
      {
        "duration": 1071,
        "start_time": "2021-12-24T13:10:23.717Z"
      },
      {
        "duration": 7,
        "start_time": "2021-12-24T13:10:24.794Z"
      },
      {
        "duration": 844,
        "start_time": "2021-12-24T13:10:24.805Z"
      },
      {
        "duration": 33248,
        "start_time": "2021-12-24T13:10:25.652Z"
      },
      {
        "duration": 113,
        "start_time": "2021-12-24T13:10:58.902Z"
      },
      {
        "duration": 8303,
        "start_time": "2021-12-24T13:10:59.017Z"
      },
      {
        "duration": 16,
        "start_time": "2021-12-24T13:11:07.323Z"
      },
      {
        "duration": 8,
        "start_time": "2021-12-24T13:11:28.656Z"
      },
      {
        "duration": 15,
        "start_time": "2021-12-24T13:31:41.057Z"
      },
      {
        "duration": 11,
        "start_time": "2021-12-24T13:32:38.934Z"
      },
      {
        "duration": 965,
        "start_time": "2021-12-24T13:33:03.904Z"
      },
      {
        "duration": 15,
        "start_time": "2021-12-24T13:33:04.872Z"
      },
      {
        "duration": 14,
        "start_time": "2021-12-24T13:33:04.890Z"
      },
      {
        "duration": 22,
        "start_time": "2021-12-24T13:33:04.908Z"
      },
      {
        "duration": 19,
        "start_time": "2021-12-24T13:33:04.963Z"
      },
      {
        "duration": 12,
        "start_time": "2021-12-24T13:33:04.984Z"
      },
      {
        "duration": 51,
        "start_time": "2021-12-24T13:33:04.999Z"
      },
      {
        "duration": 2603,
        "start_time": "2021-12-24T13:33:05.065Z"
      },
      {
        "duration": 28,
        "start_time": "2021-12-24T13:33:07.671Z"
      },
      {
        "duration": 12,
        "start_time": "2021-12-24T13:33:07.702Z"
      },
      {
        "duration": 9,
        "start_time": "2021-12-24T13:33:07.716Z"
      },
      {
        "duration": 44,
        "start_time": "2021-12-24T13:33:07.727Z"
      },
      {
        "duration": 11,
        "start_time": "2021-12-24T13:33:07.773Z"
      },
      {
        "duration": 8,
        "start_time": "2021-12-24T13:33:07.787Z"
      },
      {
        "duration": 11,
        "start_time": "2021-12-24T13:33:07.798Z"
      },
      {
        "duration": 62,
        "start_time": "2021-12-24T13:33:07.812Z"
      },
      {
        "duration": 9,
        "start_time": "2021-12-24T13:33:07.877Z"
      },
      {
        "duration": 22,
        "start_time": "2021-12-24T13:33:07.888Z"
      },
      {
        "duration": 6,
        "start_time": "2021-12-24T13:33:07.912Z"
      },
      {
        "duration": 47,
        "start_time": "2021-12-24T13:33:07.921Z"
      },
      {
        "duration": 7,
        "start_time": "2021-12-24T13:33:07.970Z"
      },
      {
        "duration": 972,
        "start_time": "2021-12-24T13:33:07.979Z"
      },
      {
        "duration": 8,
        "start_time": "2021-12-24T13:33:08.965Z"
      },
      {
        "duration": 841,
        "start_time": "2021-12-24T13:33:08.975Z"
      },
      {
        "duration": 865,
        "start_time": "2021-12-24T13:33:48.967Z"
      },
      {
        "duration": 16,
        "start_time": "2021-12-24T13:33:49.835Z"
      },
      {
        "duration": 19,
        "start_time": "2021-12-24T13:33:49.854Z"
      },
      {
        "duration": 23,
        "start_time": "2021-12-24T13:33:49.876Z"
      },
      {
        "duration": 19,
        "start_time": "2021-12-24T13:33:49.902Z"
      },
      {
        "duration": 43,
        "start_time": "2021-12-24T13:33:49.923Z"
      },
      {
        "duration": 34,
        "start_time": "2021-12-24T13:33:49.969Z"
      },
      {
        "duration": 2711,
        "start_time": "2021-12-24T13:33:50.006Z"
      },
      {
        "duration": 29,
        "start_time": "2021-12-24T13:33:52.720Z"
      },
      {
        "duration": 18,
        "start_time": "2021-12-24T13:33:52.752Z"
      },
      {
        "duration": 13,
        "start_time": "2021-12-24T13:33:52.772Z"
      },
      {
        "duration": 12,
        "start_time": "2021-12-24T13:33:52.787Z"
      },
      {
        "duration": 11,
        "start_time": "2021-12-24T13:33:52.801Z"
      },
      {
        "duration": 56,
        "start_time": "2021-12-24T13:33:52.814Z"
      },
      {
        "duration": 18,
        "start_time": "2021-12-24T13:33:52.874Z"
      },
      {
        "duration": 69,
        "start_time": "2021-12-24T13:33:52.895Z"
      },
      {
        "duration": 12,
        "start_time": "2021-12-24T13:33:52.968Z"
      },
      {
        "duration": 80,
        "start_time": "2021-12-24T13:33:52.983Z"
      },
      {
        "duration": 9,
        "start_time": "2021-12-24T13:33:53.066Z"
      },
      {
        "duration": 9,
        "start_time": "2021-12-24T13:33:53.078Z"
      },
      {
        "duration": 10,
        "start_time": "2021-12-24T13:33:53.089Z"
      },
      {
        "duration": 1032,
        "start_time": "2021-12-24T13:33:53.101Z"
      },
      {
        "duration": 27,
        "start_time": "2021-12-24T13:33:54.136Z"
      },
      {
        "duration": 829,
        "start_time": "2021-12-24T13:33:54.167Z"
      },
      {
        "duration": 32017,
        "start_time": "2021-12-24T13:33:54.999Z"
      },
      {
        "duration": 108,
        "start_time": "2021-12-24T13:34:27.018Z"
      },
      {
        "duration": 8252,
        "start_time": "2021-12-24T13:34:27.131Z"
      },
      {
        "duration": 16,
        "start_time": "2021-12-24T13:34:35.386Z"
      },
      {
        "duration": 37,
        "start_time": "2021-12-24T13:35:34.237Z"
      },
      {
        "duration": 440,
        "start_time": "2021-12-24T16:19:18.313Z"
      },
      {
        "duration": 835,
        "start_time": "2021-12-24T16:19:23.986Z"
      },
      {
        "duration": 14,
        "start_time": "2021-12-24T16:19:24.824Z"
      },
      {
        "duration": 26,
        "start_time": "2021-12-24T16:19:24.842Z"
      },
      {
        "duration": 23,
        "start_time": "2021-12-24T16:19:24.871Z"
      },
      {
        "duration": 17,
        "start_time": "2021-12-24T16:19:24.897Z"
      },
      {
        "duration": 11,
        "start_time": "2021-12-24T16:19:24.916Z"
      },
      {
        "duration": 35,
        "start_time": "2021-12-24T16:19:24.960Z"
      },
      {
        "duration": 2438,
        "start_time": "2021-12-24T16:19:24.999Z"
      },
      {
        "duration": 39,
        "start_time": "2021-12-24T16:19:27.440Z"
      },
      {
        "duration": 12,
        "start_time": "2021-12-24T16:19:27.482Z"
      },
      {
        "duration": 8,
        "start_time": "2021-12-24T16:19:27.497Z"
      },
      {
        "duration": 10,
        "start_time": "2021-12-24T16:19:27.508Z"
      },
      {
        "duration": 48,
        "start_time": "2021-12-24T16:19:27.521Z"
      },
      {
        "duration": 10,
        "start_time": "2021-12-24T16:19:27.572Z"
      },
      {
        "duration": 21,
        "start_time": "2021-12-24T16:19:27.584Z"
      },
      {
        "duration": 51,
        "start_time": "2021-12-24T16:19:27.607Z"
      },
      {
        "duration": 8,
        "start_time": "2021-12-24T16:19:27.661Z"
      },
      {
        "duration": 24,
        "start_time": "2021-12-24T16:19:27.672Z"
      },
      {
        "duration": 7,
        "start_time": "2021-12-24T16:19:27.698Z"
      },
      {
        "duration": 59,
        "start_time": "2021-12-24T16:19:27.708Z"
      },
      {
        "duration": 9,
        "start_time": "2021-12-24T16:19:27.770Z"
      },
      {
        "duration": 11,
        "start_time": "2021-12-24T16:19:27.781Z"
      },
      {
        "duration": 993,
        "start_time": "2021-12-24T16:19:27.798Z"
      },
      {
        "duration": 8,
        "start_time": "2021-12-24T16:19:28.795Z"
      },
      {
        "duration": 799,
        "start_time": "2021-12-24T16:19:28.806Z"
      },
      {
        "duration": 31745,
        "start_time": "2021-12-24T16:19:29.608Z"
      },
      {
        "duration": 109,
        "start_time": "2021-12-24T16:20:01.359Z"
      },
      {
        "duration": 7989,
        "start_time": "2021-12-24T16:20:01.470Z"
      },
      {
        "duration": 17,
        "start_time": "2021-12-24T16:20:09.461Z"
      },
      {
        "duration": 7,
        "start_time": "2021-12-24T16:26:32.938Z"
      },
      {
        "duration": 7,
        "start_time": "2021-12-24T16:26:53.573Z"
      },
      {
        "duration": 1487,
        "start_time": "2021-12-24T16:34:34.614Z"
      },
      {
        "duration": 1322,
        "start_time": "2021-12-24T16:34:56.416Z"
      },
      {
        "duration": 1505,
        "start_time": "2021-12-24T16:35:34.806Z"
      },
      {
        "duration": 434,
        "start_time": "2021-12-24T16:36:16.968Z"
      },
      {
        "duration": 207,
        "start_time": "2021-12-24T16:36:25.881Z"
      },
      {
        "duration": 7,
        "start_time": "2021-12-24T16:36:32.028Z"
      },
      {
        "duration": 960,
        "start_time": "2021-12-24T16:37:37.472Z"
      },
      {
        "duration": 887,
        "start_time": "2021-12-24T16:37:47.255Z"
      },
      {
        "duration": 16,
        "start_time": "2021-12-24T16:37:48.146Z"
      },
      {
        "duration": 14,
        "start_time": "2021-12-24T16:37:48.166Z"
      },
      {
        "duration": 25,
        "start_time": "2021-12-24T16:37:48.183Z"
      },
      {
        "duration": 53,
        "start_time": "2021-12-24T16:37:48.211Z"
      },
      {
        "duration": 11,
        "start_time": "2021-12-24T16:37:48.267Z"
      },
      {
        "duration": 34,
        "start_time": "2021-12-24T16:37:48.281Z"
      },
      {
        "duration": 2459,
        "start_time": "2021-12-24T16:37:48.319Z"
      },
      {
        "duration": 27,
        "start_time": "2021-12-24T16:37:50.781Z"
      },
      {
        "duration": 12,
        "start_time": "2021-12-24T16:37:50.810Z"
      },
      {
        "duration": 36,
        "start_time": "2021-12-24T16:37:50.825Z"
      },
      {
        "duration": 14,
        "start_time": "2021-12-24T16:37:50.864Z"
      },
      {
        "duration": 14,
        "start_time": "2021-12-24T16:37:50.881Z"
      },
      {
        "duration": 11,
        "start_time": "2021-12-24T16:37:50.898Z"
      },
      {
        "duration": 58,
        "start_time": "2021-12-24T16:37:50.912Z"
      },
      {
        "duration": 17,
        "start_time": "2021-12-24T16:37:50.974Z"
      },
      {
        "duration": 9,
        "start_time": "2021-12-24T16:37:50.994Z"
      },
      {
        "duration": 64,
        "start_time": "2021-12-24T16:37:51.005Z"
      },
      {
        "duration": 9,
        "start_time": "2021-12-24T16:37:51.071Z"
      },
      {
        "duration": 25,
        "start_time": "2021-12-24T16:37:51.083Z"
      },
      {
        "duration": 8,
        "start_time": "2021-12-24T16:37:51.111Z"
      },
      {
        "duration": 40,
        "start_time": "2021-12-24T16:37:51.122Z"
      },
      {
        "duration": 965,
        "start_time": "2021-12-24T16:37:51.168Z"
      },
      {
        "duration": 7,
        "start_time": "2021-12-24T16:37:52.137Z"
      },
      {
        "duration": 803,
        "start_time": "2021-12-24T16:37:52.160Z"
      },
      {
        "duration": 6,
        "start_time": "2021-12-24T16:37:52.965Z"
      },
      {
        "duration": 34250,
        "start_time": "2021-12-24T16:37:52.973Z"
      },
      {
        "duration": 157,
        "start_time": "2021-12-24T16:38:27.226Z"
      },
      {
        "duration": 9506,
        "start_time": "2021-12-24T16:38:27.386Z"
      },
      {
        "duration": 16,
        "start_time": "2021-12-24T16:38:36.894Z"
      },
      {
        "duration": 972,
        "start_time": "2021-12-24T16:38:54.919Z"
      },
      {
        "duration": 863,
        "start_time": "2021-12-24T16:39:03.647Z"
      },
      {
        "duration": 14,
        "start_time": "2021-12-24T16:39:04.513Z"
      },
      {
        "duration": 33,
        "start_time": "2021-12-24T16:39:04.534Z"
      },
      {
        "duration": 22,
        "start_time": "2021-12-24T16:39:04.570Z"
      },
      {
        "duration": 17,
        "start_time": "2021-12-24T16:39:04.594Z"
      },
      {
        "duration": 10,
        "start_time": "2021-12-24T16:39:04.614Z"
      },
      {
        "duration": 65,
        "start_time": "2021-12-24T16:39:04.626Z"
      },
      {
        "duration": 2472,
        "start_time": "2021-12-24T16:39:04.697Z"
      },
      {
        "duration": 36,
        "start_time": "2021-12-24T16:39:07.173Z"
      },
      {
        "duration": 14,
        "start_time": "2021-12-24T16:39:07.212Z"
      },
      {
        "duration": 9,
        "start_time": "2021-12-24T16:39:07.260Z"
      },
      {
        "duration": 12,
        "start_time": "2021-12-24T16:39:07.271Z"
      },
      {
        "duration": 11,
        "start_time": "2021-12-24T16:39:07.285Z"
      },
      {
        "duration": 14,
        "start_time": "2021-12-24T16:39:07.299Z"
      },
      {
        "duration": 59,
        "start_time": "2021-12-24T16:39:07.316Z"
      },
      {
        "duration": 19,
        "start_time": "2021-12-24T16:39:07.378Z"
      },
      {
        "duration": 8,
        "start_time": "2021-12-24T16:39:07.400Z"
      },
      {
        "duration": 64,
        "start_time": "2021-12-24T16:39:07.410Z"
      },
      {
        "duration": 9,
        "start_time": "2021-12-24T16:39:07.476Z"
      },
      {
        "duration": 25,
        "start_time": "2021-12-24T16:39:07.487Z"
      },
      {
        "duration": 9,
        "start_time": "2021-12-24T16:39:07.514Z"
      },
      {
        "duration": 9,
        "start_time": "2021-12-24T16:39:07.560Z"
      },
      {
        "duration": 1127,
        "start_time": "2021-12-24T16:39:07.571Z"
      },
      {
        "duration": 8,
        "start_time": "2021-12-24T16:39:08.701Z"
      },
      {
        "duration": 854,
        "start_time": "2021-12-24T16:39:08.711Z"
      },
      {
        "duration": 6,
        "start_time": "2021-12-24T16:39:09.569Z"
      },
      {
        "duration": 39526,
        "start_time": "2021-12-24T16:39:09.578Z"
      },
      {
        "duration": 120,
        "start_time": "2021-12-24T16:39:49.107Z"
      },
      {
        "duration": 7999,
        "start_time": "2021-12-24T16:39:49.229Z"
      },
      {
        "duration": 33,
        "start_time": "2021-12-24T16:39:57.231Z"
      },
      {
        "duration": 986,
        "start_time": "2021-12-24T16:39:57.267Z"
      },
      {
        "duration": 863,
        "start_time": "2021-12-24T16:40:09.418Z"
      },
      {
        "duration": 17,
        "start_time": "2021-12-24T16:40:10.284Z"
      },
      {
        "duration": 16,
        "start_time": "2021-12-24T16:40:10.305Z"
      },
      {
        "duration": 57,
        "start_time": "2021-12-24T16:40:10.325Z"
      },
      {
        "duration": 21,
        "start_time": "2021-12-24T16:40:10.385Z"
      },
      {
        "duration": 12,
        "start_time": "2021-12-24T16:40:10.409Z"
      },
      {
        "duration": 36,
        "start_time": "2021-12-24T16:40:10.460Z"
      },
      {
        "duration": 2378,
        "start_time": "2021-12-24T16:40:10.500Z"
      },
      {
        "duration": 27,
        "start_time": "2021-12-24T16:40:12.882Z"
      },
      {
        "duration": 12,
        "start_time": "2021-12-24T16:40:12.912Z"
      },
      {
        "duration": 37,
        "start_time": "2021-12-24T16:40:12.927Z"
      },
      {
        "duration": 13,
        "start_time": "2021-12-24T16:40:12.966Z"
      },
      {
        "duration": 13,
        "start_time": "2021-12-24T16:40:12.982Z"
      },
      {
        "duration": 12,
        "start_time": "2021-12-24T16:40:12.997Z"
      },
      {
        "duration": 54,
        "start_time": "2021-12-24T16:40:13.012Z"
      },
      {
        "duration": 21,
        "start_time": "2021-12-24T16:40:13.069Z"
      },
      {
        "duration": 12,
        "start_time": "2021-12-24T16:40:13.093Z"
      },
      {
        "duration": 67,
        "start_time": "2021-12-24T16:40:13.108Z"
      },
      {
        "duration": 12,
        "start_time": "2021-12-24T16:40:13.178Z"
      },
      {
        "duration": 26,
        "start_time": "2021-12-24T16:40:13.193Z"
      },
      {
        "duration": 43,
        "start_time": "2021-12-24T16:40:13.221Z"
      },
      {
        "duration": 12,
        "start_time": "2021-12-24T16:40:13.267Z"
      },
      {
        "duration": 1002,
        "start_time": "2021-12-24T16:40:13.285Z"
      },
      {
        "duration": 8,
        "start_time": "2021-12-24T16:40:14.290Z"
      },
      {
        "duration": 1073,
        "start_time": "2021-12-24T16:40:14.300Z"
      },
      {
        "duration": 8,
        "start_time": "2021-12-24T16:40:15.376Z"
      },
      {
        "duration": 35229,
        "start_time": "2021-12-24T16:40:15.386Z"
      },
      {
        "duration": 114,
        "start_time": "2021-12-24T16:40:50.617Z"
      },
      {
        "duration": 8435,
        "start_time": "2021-12-24T16:40:50.733Z"
      },
      {
        "duration": 17,
        "start_time": "2021-12-24T16:40:59.170Z"
      },
      {
        "duration": 10,
        "start_time": "2021-12-24T16:40:59.191Z"
      },
      {
        "duration": 1465,
        "start_time": "2021-12-24T16:41:46.784Z"
      },
      {
        "duration": 935,
        "start_time": "2021-12-24T16:42:37.866Z"
      },
      {
        "duration": 792,
        "start_time": "2021-12-24T16:42:46.911Z"
      },
      {
        "duration": 15,
        "start_time": "2021-12-24T16:42:47.706Z"
      },
      {
        "duration": 36,
        "start_time": "2021-12-24T16:42:47.727Z"
      },
      {
        "duration": 22,
        "start_time": "2021-12-24T16:42:47.765Z"
      },
      {
        "duration": 18,
        "start_time": "2021-12-24T16:42:47.790Z"
      },
      {
        "duration": 11,
        "start_time": "2021-12-24T16:42:47.810Z"
      },
      {
        "duration": 68,
        "start_time": "2021-12-24T16:42:47.824Z"
      },
      {
        "duration": 2422,
        "start_time": "2021-12-24T16:42:47.896Z"
      },
      {
        "duration": 40,
        "start_time": "2021-12-24T16:42:50.320Z"
      },
      {
        "duration": 12,
        "start_time": "2021-12-24T16:42:50.363Z"
      },
      {
        "duration": 8,
        "start_time": "2021-12-24T16:42:50.378Z"
      },
      {
        "duration": 12,
        "start_time": "2021-12-24T16:42:50.388Z"
      },
      {
        "duration": 56,
        "start_time": "2021-12-24T16:42:50.403Z"
      },
      {
        "duration": 10,
        "start_time": "2021-12-24T16:42:50.461Z"
      },
      {
        "duration": 15,
        "start_time": "2021-12-24T16:42:50.473Z"
      },
      {
        "duration": 15,
        "start_time": "2021-12-24T16:42:50.490Z"
      },
      {
        "duration": 9,
        "start_time": "2021-12-24T16:42:50.507Z"
      },
      {
        "duration": 58,
        "start_time": "2021-12-24T16:42:50.519Z"
      },
      {
        "duration": 12,
        "start_time": "2021-12-24T16:42:50.579Z"
      },
      {
        "duration": 26,
        "start_time": "2021-12-24T16:42:50.594Z"
      },
      {
        "duration": 37,
        "start_time": "2021-12-24T16:42:50.623Z"
      },
      {
        "duration": 9,
        "start_time": "2021-12-24T16:42:50.665Z"
      },
      {
        "duration": 982,
        "start_time": "2021-12-24T16:42:50.677Z"
      },
      {
        "duration": 8,
        "start_time": "2021-12-24T16:42:51.662Z"
      },
      {
        "duration": 1454,
        "start_time": "2021-12-24T16:42:51.672Z"
      },
      {
        "duration": -92,
        "start_time": "2021-12-24T16:42:53.220Z"
      },
      {
        "duration": -94,
        "start_time": "2021-12-24T16:42:53.224Z"
      },
      {
        "duration": -97,
        "start_time": "2021-12-24T16:42:53.229Z"
      },
      {
        "duration": -99,
        "start_time": "2021-12-24T16:42:53.232Z"
      },
      {
        "duration": -101,
        "start_time": "2021-12-24T16:42:53.235Z"
      },
      {
        "duration": 979,
        "start_time": "2021-12-24T16:44:21.685Z"
      },
      {
        "duration": 1320,
        "start_time": "2021-12-24T16:59:32.849Z"
      },
      {
        "duration": 1312,
        "start_time": "2021-12-24T16:59:39.335Z"
      },
      {
        "duration": 1346,
        "start_time": "2021-12-24T16:59:46.048Z"
      },
      {
        "duration": 984,
        "start_time": "2021-12-24T17:00:00.219Z"
      },
      {
        "duration": 1361,
        "start_time": "2021-12-24T17:00:35.027Z"
      },
      {
        "duration": 947,
        "start_time": "2021-12-24T17:00:52.823Z"
      },
      {
        "duration": 10,
        "start_time": "2021-12-24T17:01:40.720Z"
      },
      {
        "duration": 130,
        "start_time": "2021-12-24T17:05:43.646Z"
      },
      {
        "duration": 6,
        "start_time": "2021-12-24T17:05:56.699Z"
      },
      {
        "duration": 5,
        "start_time": "2021-12-24T17:06:17.284Z"
      },
      {
        "duration": 7,
        "start_time": "2021-12-24T17:11:49.875Z"
      },
      {
        "duration": 6,
        "start_time": "2021-12-24T17:13:55.762Z"
      },
      {
        "duration": 7,
        "start_time": "2021-12-24T17:14:38.299Z"
      },
      {
        "duration": 399,
        "start_time": "2021-12-24T17:23:12.575Z"
      },
      {
        "duration": 5,
        "start_time": "2021-12-24T17:24:09.422Z"
      },
      {
        "duration": 982,
        "start_time": "2021-12-24T17:25:52.354Z"
      },
      {
        "duration": 10192,
        "start_time": "2021-12-24T17:29:48.421Z"
      },
      {
        "duration": 19,
        "start_time": "2021-12-24T17:34:21.473Z"
      },
      {
        "duration": 487,
        "start_time": "2021-12-24T17:35:16.016Z"
      },
      {
        "duration": 15,
        "start_time": "2021-12-24T17:35:35.143Z"
      },
      {
        "duration": 11222,
        "start_time": "2021-12-24T17:38:11.098Z"
      },
      {
        "duration": 10618,
        "start_time": "2021-12-24T17:39:03.744Z"
      },
      {
        "duration": 8731,
        "start_time": "2021-12-24T17:39:54.403Z"
      },
      {
        "duration": 8493,
        "start_time": "2021-12-24T17:40:46.214Z"
      },
      {
        "duration": 8496,
        "start_time": "2021-12-24T17:43:32.625Z"
      },
      {
        "duration": 15154,
        "start_time": "2021-12-24T17:47:42.733Z"
      },
      {
        "duration": 125,
        "start_time": "2021-12-24T17:53:09.195Z"
      },
      {
        "duration": 127,
        "start_time": "2021-12-24T17:53:57.017Z"
      },
      {
        "duration": 117,
        "start_time": "2021-12-24T17:54:39.813Z"
      },
      {
        "duration": 121,
        "start_time": "2021-12-24T17:55:25.398Z"
      },
      {
        "duration": 442,
        "start_time": "2021-12-24T17:56:16.900Z"
      },
      {
        "duration": 874,
        "start_time": "2021-12-24T17:57:15.336Z"
      },
      {
        "duration": 15,
        "start_time": "2021-12-24T17:57:16.212Z"
      },
      {
        "duration": 14,
        "start_time": "2021-12-24T17:57:16.231Z"
      },
      {
        "duration": 24,
        "start_time": "2021-12-24T17:57:16.261Z"
      },
      {
        "duration": 19,
        "start_time": "2021-12-24T17:57:16.288Z"
      },
      {
        "duration": 50,
        "start_time": "2021-12-24T17:57:16.310Z"
      },
      {
        "duration": 35,
        "start_time": "2021-12-24T17:57:16.363Z"
      },
      {
        "duration": 2555,
        "start_time": "2021-12-24T17:57:16.404Z"
      },
      {
        "duration": 30,
        "start_time": "2021-12-24T17:57:18.962Z"
      },
      {
        "duration": 17,
        "start_time": "2021-12-24T17:57:18.995Z"
      },
      {
        "duration": 46,
        "start_time": "2021-12-24T17:57:19.014Z"
      },
      {
        "duration": 15,
        "start_time": "2021-12-24T17:57:19.063Z"
      },
      {
        "duration": 14,
        "start_time": "2021-12-24T17:57:19.081Z"
      },
      {
        "duration": 11,
        "start_time": "2021-12-24T17:57:19.098Z"
      },
      {
        "duration": 53,
        "start_time": "2021-12-24T17:57:19.111Z"
      },
      {
        "duration": 15,
        "start_time": "2021-12-24T17:57:19.166Z"
      },
      {
        "duration": 12,
        "start_time": "2021-12-24T17:57:19.184Z"
      },
      {
        "duration": 22,
        "start_time": "2021-12-24T17:57:19.198Z"
      },
      {
        "duration": 9,
        "start_time": "2021-12-24T17:57:19.259Z"
      },
      {
        "duration": 25,
        "start_time": "2021-12-24T17:57:19.270Z"
      },
      {
        "duration": 9,
        "start_time": "2021-12-24T17:57:19.297Z"
      },
      {
        "duration": 10,
        "start_time": "2021-12-24T17:57:19.308Z"
      },
      {
        "duration": 1014,
        "start_time": "2021-12-24T17:57:19.360Z"
      },
      {
        "duration": 8,
        "start_time": "2021-12-24T17:57:20.376Z"
      },
      {
        "duration": 637,
        "start_time": "2021-12-24T17:57:20.387Z"
      },
      {
        "duration": -152,
        "start_time": "2021-12-24T17:57:21.180Z"
      },
      {
        "duration": -158,
        "start_time": "2021-12-24T17:57:21.189Z"
      },
      {
        "duration": -159,
        "start_time": "2021-12-24T17:57:21.192Z"
      },
      {
        "duration": -162,
        "start_time": "2021-12-24T17:57:21.196Z"
      },
      {
        "duration": -163,
        "start_time": "2021-12-24T17:57:21.199Z"
      },
      {
        "duration": 14142,
        "start_time": "2021-12-24T17:58:00.483Z"
      },
      {
        "duration": 777,
        "start_time": "2021-12-24T18:00:27.859Z"
      },
      {
        "duration": 17824,
        "start_time": "2021-12-24T18:01:24.750Z"
      },
      {
        "duration": 23022,
        "start_time": "2021-12-24T18:02:58.208Z"
      },
      {
        "duration": 7,
        "start_time": "2021-12-24T18:04:06.466Z"
      },
      {
        "duration": 436,
        "start_time": "2021-12-24T18:06:04.958Z"
      },
      {
        "duration": 24535,
        "start_time": "2021-12-24T18:07:49.713Z"
      },
      {
        "duration": 858,
        "start_time": "2021-12-24T18:13:04.833Z"
      },
      {
        "duration": 15,
        "start_time": "2021-12-24T18:13:05.694Z"
      },
      {
        "duration": 16,
        "start_time": "2021-12-24T18:13:05.712Z"
      },
      {
        "duration": 47,
        "start_time": "2021-12-24T18:13:05.731Z"
      },
      {
        "duration": 16,
        "start_time": "2021-12-24T18:13:05.780Z"
      },
      {
        "duration": 10,
        "start_time": "2021-12-24T18:13:05.799Z"
      },
      {
        "duration": 72,
        "start_time": "2021-12-24T18:13:05.811Z"
      },
      {
        "duration": 2358,
        "start_time": "2021-12-24T18:13:05.888Z"
      },
      {
        "duration": 34,
        "start_time": "2021-12-24T18:13:08.249Z"
      },
      {
        "duration": 12,
        "start_time": "2021-12-24T18:13:08.285Z"
      },
      {
        "duration": 10,
        "start_time": "2021-12-24T18:13:08.300Z"
      },
      {
        "duration": 48,
        "start_time": "2021-12-24T18:13:08.313Z"
      },
      {
        "duration": 12,
        "start_time": "2021-12-24T18:13:08.363Z"
      },
      {
        "duration": 11,
        "start_time": "2021-12-24T18:13:08.378Z"
      },
      {
        "duration": 12,
        "start_time": "2021-12-24T18:13:08.392Z"
      },
      {
        "duration": 52,
        "start_time": "2021-12-24T18:13:08.407Z"
      },
      {
        "duration": 8,
        "start_time": "2021-12-24T18:13:08.462Z"
      },
      {
        "duration": 24,
        "start_time": "2021-12-24T18:13:08.472Z"
      },
      {
        "duration": 8,
        "start_time": "2021-12-24T18:13:08.499Z"
      },
      {
        "duration": 58,
        "start_time": "2021-12-24T18:13:08.509Z"
      },
      {
        "duration": 10,
        "start_time": "2021-12-24T18:13:08.569Z"
      },
      {
        "duration": 10,
        "start_time": "2021-12-24T18:13:08.582Z"
      },
      {
        "duration": 972,
        "start_time": "2021-12-24T18:13:08.596Z"
      },
      {
        "duration": 8,
        "start_time": "2021-12-24T18:13:09.571Z"
      },
      {
        "duration": 131,
        "start_time": "2021-12-24T18:13:09.581Z"
      },
      {
        "duration": -29,
        "start_time": "2021-12-24T18:13:09.743Z"
      },
      {
        "duration": -30,
        "start_time": "2021-12-24T18:13:09.746Z"
      },
      {
        "duration": -37,
        "start_time": "2021-12-24T18:13:09.754Z"
      },
      {
        "duration": -39,
        "start_time": "2021-12-24T18:13:09.757Z"
      },
      {
        "duration": -42,
        "start_time": "2021-12-24T18:13:09.762Z"
      },
      {
        "duration": 27021,
        "start_time": "2021-12-24T18:13:16.266Z"
      },
      {
        "duration": 871,
        "start_time": "2021-12-24T18:13:49.420Z"
      },
      {
        "duration": 15,
        "start_time": "2021-12-24T18:13:50.294Z"
      },
      {
        "duration": 14,
        "start_time": "2021-12-24T18:13:50.312Z"
      },
      {
        "duration": 49,
        "start_time": "2021-12-24T18:13:50.329Z"
      },
      {
        "duration": 17,
        "start_time": "2021-12-24T18:13:50.380Z"
      },
      {
        "duration": 10,
        "start_time": "2021-12-24T18:13:50.399Z"
      },
      {
        "duration": 62,
        "start_time": "2021-12-24T18:13:50.411Z"
      },
      {
        "duration": 2507,
        "start_time": "2021-12-24T18:13:50.477Z"
      },
      {
        "duration": 26,
        "start_time": "2021-12-24T18:13:52.988Z"
      },
      {
        "duration": 11,
        "start_time": "2021-12-24T18:13:53.017Z"
      },
      {
        "duration": 35,
        "start_time": "2021-12-24T18:13:53.030Z"
      },
      {
        "duration": 11,
        "start_time": "2021-12-24T18:13:53.068Z"
      },
      {
        "duration": 11,
        "start_time": "2021-12-24T18:13:53.081Z"
      },
      {
        "duration": 9,
        "start_time": "2021-12-24T18:13:53.094Z"
      },
      {
        "duration": 56,
        "start_time": "2021-12-24T18:13:53.105Z"
      },
      {
        "duration": 16,
        "start_time": "2021-12-24T18:13:53.163Z"
      },
      {
        "duration": 10,
        "start_time": "2021-12-24T18:13:53.181Z"
      },
      {
        "duration": 24,
        "start_time": "2021-12-24T18:13:53.193Z"
      },
      {
        "duration": 41,
        "start_time": "2021-12-24T18:13:53.219Z"
      },
      {
        "duration": 25,
        "start_time": "2021-12-24T18:13:53.262Z"
      },
      {
        "duration": 8,
        "start_time": "2021-12-24T18:13:53.289Z"
      },
      {
        "duration": 9,
        "start_time": "2021-12-24T18:13:53.299Z"
      },
      {
        "duration": 985,
        "start_time": "2021-12-24T18:13:53.312Z"
      },
      {
        "duration": 9,
        "start_time": "2021-12-24T18:13:54.301Z"
      },
      {
        "duration": 873,
        "start_time": "2021-12-24T18:14:15.955Z"
      },
      {
        "duration": 15,
        "start_time": "2021-12-24T18:14:16.831Z"
      },
      {
        "duration": 21,
        "start_time": "2021-12-24T18:14:16.848Z"
      },
      {
        "duration": 24,
        "start_time": "2021-12-24T18:14:16.872Z"
      },
      {
        "duration": 18,
        "start_time": "2021-12-24T18:14:16.898Z"
      },
      {
        "duration": 10,
        "start_time": "2021-12-24T18:14:16.918Z"
      },
      {
        "duration": 33,
        "start_time": "2021-12-24T18:14:16.960Z"
      },
      {
        "duration": 2357,
        "start_time": "2021-12-24T18:14:16.996Z"
      },
      {
        "duration": 27,
        "start_time": "2021-12-24T18:14:19.359Z"
      },
      {
        "duration": 12,
        "start_time": "2021-12-24T18:14:19.389Z"
      },
      {
        "duration": 11,
        "start_time": "2021-12-24T18:14:19.403Z"
      },
      {
        "duration": 45,
        "start_time": "2021-12-24T18:14:19.416Z"
      },
      {
        "duration": 12,
        "start_time": "2021-12-24T18:14:19.463Z"
      },
      {
        "duration": 10,
        "start_time": "2021-12-24T18:14:19.477Z"
      },
      {
        "duration": 14,
        "start_time": "2021-12-24T18:14:19.490Z"
      },
      {
        "duration": 62,
        "start_time": "2021-12-24T18:14:19.507Z"
      },
      {
        "duration": 9,
        "start_time": "2021-12-24T18:14:19.572Z"
      },
      {
        "duration": 25,
        "start_time": "2021-12-24T18:14:19.583Z"
      },
      {
        "duration": 18,
        "start_time": "2021-12-24T18:14:19.610Z"
      },
      {
        "duration": 47,
        "start_time": "2021-12-24T18:14:19.630Z"
      },
      {
        "duration": 19,
        "start_time": "2021-12-24T18:14:19.679Z"
      },
      {
        "duration": 14,
        "start_time": "2021-12-24T18:14:19.701Z"
      },
      {
        "duration": 968,
        "start_time": "2021-12-24T18:14:19.719Z"
      },
      {
        "duration": 7,
        "start_time": "2021-12-24T18:14:20.690Z"
      },
      {
        "duration": 26853,
        "start_time": "2021-12-24T18:14:20.700Z"
      },
      {
        "duration": 752,
        "start_time": "2021-12-24T18:14:47.559Z"
      },
      {
        "duration": 32222,
        "start_time": "2021-12-24T18:14:48.314Z"
      },
      {
        "duration": 2,
        "start_time": "2021-12-24T18:15:20.539Z"
      },
      {
        "duration": 20,
        "start_time": "2021-12-24T18:15:20.543Z"
      },
      {
        "duration": 20,
        "start_time": "2021-12-24T18:15:20.565Z"
      },
      {
        "duration": 716,
        "start_time": "2021-12-24T18:19:01.349Z"
      },
      {
        "duration": 34114,
        "start_time": "2021-12-24T18:19:44.612Z"
      },
      {
        "duration": 23503,
        "start_time": "2021-12-24T18:21:55.238Z"
      },
      {
        "duration": 7,
        "start_time": "2021-12-24T18:24:06.478Z"
      },
      {
        "duration": 34330,
        "start_time": "2021-12-24T18:29:01.434Z"
      },
      {
        "duration": 18128,
        "start_time": "2021-12-24T18:29:55.903Z"
      },
      {
        "duration": 893,
        "start_time": "2021-12-24T18:30:22.830Z"
      },
      {
        "duration": 15,
        "start_time": "2021-12-24T18:30:23.725Z"
      },
      {
        "duration": 22,
        "start_time": "2021-12-24T18:30:23.743Z"
      },
      {
        "duration": 24,
        "start_time": "2021-12-24T18:30:23.768Z"
      },
      {
        "duration": 18,
        "start_time": "2021-12-24T18:30:23.795Z"
      },
      {
        "duration": 43,
        "start_time": "2021-12-24T18:30:23.816Z"
      },
      {
        "duration": 36,
        "start_time": "2021-12-24T18:30:23.862Z"
      },
      {
        "duration": 2398,
        "start_time": "2021-12-24T18:30:23.902Z"
      },
      {
        "duration": 27,
        "start_time": "2021-12-24T18:30:26.303Z"
      },
      {
        "duration": 33,
        "start_time": "2021-12-24T18:30:26.332Z"
      },
      {
        "duration": 8,
        "start_time": "2021-12-24T18:30:26.368Z"
      },
      {
        "duration": 11,
        "start_time": "2021-12-24T18:30:26.379Z"
      },
      {
        "duration": 12,
        "start_time": "2021-12-24T18:30:26.393Z"
      },
      {
        "duration": 9,
        "start_time": "2021-12-24T18:30:26.407Z"
      },
      {
        "duration": 12,
        "start_time": "2021-12-24T18:30:26.459Z"
      },
      {
        "duration": 15,
        "start_time": "2021-12-24T18:30:26.474Z"
      },
      {
        "duration": 8,
        "start_time": "2021-12-24T18:30:26.491Z"
      },
      {
        "duration": 58,
        "start_time": "2021-12-24T18:30:26.501Z"
      },
      {
        "duration": 8,
        "start_time": "2021-12-24T18:30:26.562Z"
      },
      {
        "duration": 26,
        "start_time": "2021-12-24T18:30:26.572Z"
      },
      {
        "duration": 9,
        "start_time": "2021-12-24T18:30:26.601Z"
      },
      {
        "duration": 47,
        "start_time": "2021-12-24T18:30:26.612Z"
      },
      {
        "duration": 1160,
        "start_time": "2021-12-24T18:30:26.664Z"
      },
      {
        "duration": 8,
        "start_time": "2021-12-24T18:30:27.827Z"
      },
      {
        "duration": 755,
        "start_time": "2021-12-24T18:30:27.859Z"
      },
      {
        "duration": 23702,
        "start_time": "2021-12-24T18:30:28.617Z"
      },
      {
        "duration": 16,
        "start_time": "2021-12-24T18:30:52.322Z"
      },
      {
        "duration": 23396,
        "start_time": "2021-12-24T18:32:13.146Z"
      },
      {
        "duration": 535,
        "start_time": "2021-12-24T18:33:40.540Z"
      },
      {
        "duration": 24023,
        "start_time": "2021-12-24T18:34:06.114Z"
      },
      {
        "duration": 3,
        "start_time": "2021-12-24T18:34:32.533Z"
      },
      {
        "duration": 24398,
        "start_time": "2021-12-24T18:37:01.431Z"
      },
      {
        "duration": 511,
        "start_time": "2021-12-24T18:40:12.169Z"
      },
      {
        "duration": 6,
        "start_time": "2021-12-24T18:48:47.621Z"
      },
      {
        "duration": 441,
        "start_time": "2021-12-24T18:48:52.666Z"
      },
      {
        "duration": 806,
        "start_time": "2021-12-24T18:48:58.999Z"
      },
      {
        "duration": 17,
        "start_time": "2021-12-24T18:48:59.807Z"
      },
      {
        "duration": 32,
        "start_time": "2021-12-24T18:48:59.827Z"
      },
      {
        "duration": 22,
        "start_time": "2021-12-24T18:48:59.862Z"
      },
      {
        "duration": 17,
        "start_time": "2021-12-24T18:48:59.886Z"
      },
      {
        "duration": 13,
        "start_time": "2021-12-24T18:48:59.905Z"
      },
      {
        "duration": 34,
        "start_time": "2021-12-24T18:48:59.960Z"
      },
      {
        "duration": 2680,
        "start_time": "2021-12-24T18:48:59.998Z"
      },
      {
        "duration": 29,
        "start_time": "2021-12-24T18:49:02.681Z"
      },
      {
        "duration": 13,
        "start_time": "2021-12-24T18:49:02.713Z"
      },
      {
        "duration": 11,
        "start_time": "2021-12-24T18:49:02.760Z"
      },
      {
        "duration": 14,
        "start_time": "2021-12-24T18:49:02.774Z"
      },
      {
        "duration": 14,
        "start_time": "2021-12-24T18:49:02.791Z"
      },
      {
        "duration": 54,
        "start_time": "2021-12-24T18:49:02.808Z"
      },
      {
        "duration": 15,
        "start_time": "2021-12-24T18:49:02.865Z"
      },
      {
        "duration": 16,
        "start_time": "2021-12-24T18:49:02.883Z"
      },
      {
        "duration": 9,
        "start_time": "2021-12-24T18:49:02.901Z"
      },
      {
        "duration": 67,
        "start_time": "2021-12-24T18:49:02.912Z"
      },
      {
        "duration": 9,
        "start_time": "2021-12-24T18:49:02.981Z"
      },
      {
        "duration": 30,
        "start_time": "2021-12-24T18:49:02.992Z"
      },
      {
        "duration": 37,
        "start_time": "2021-12-24T18:49:03.024Z"
      },
      {
        "duration": 19,
        "start_time": "2021-12-24T18:49:03.064Z"
      },
      {
        "duration": 956,
        "start_time": "2021-12-24T18:49:03.088Z"
      },
      {
        "duration": 12,
        "start_time": "2021-12-24T18:49:04.048Z"
      },
      {
        "duration": 829,
        "start_time": "2021-12-24T18:49:04.062Z"
      },
      {
        "duration": 582,
        "start_time": "2021-12-24T18:49:04.893Z"
      },
      {
        "duration": -80,
        "start_time": "2021-12-24T18:49:05.557Z"
      },
      {
        "duration": 383,
        "start_time": "2021-12-24T18:50:17.297Z"
      },
      {
        "duration": 431,
        "start_time": "2021-12-24T18:50:30.961Z"
      },
      {
        "duration": 26933,
        "start_time": "2021-12-24T18:51:04.187Z"
      },
      {
        "duration": 40719,
        "start_time": "2021-12-24T18:53:49.241Z"
      },
      {
        "duration": 33218,
        "start_time": "2021-12-24T18:56:24.723Z"
      },
      {
        "duration": 2172,
        "start_time": "2021-12-24T18:57:13.693Z"
      },
      {
        "duration": 870,
        "start_time": "2021-12-24T18:57:23.320Z"
      },
      {
        "duration": 14,
        "start_time": "2021-12-24T18:57:24.193Z"
      },
      {
        "duration": 16,
        "start_time": "2021-12-24T18:57:24.210Z"
      },
      {
        "duration": 46,
        "start_time": "2021-12-24T18:57:24.229Z"
      },
      {
        "duration": 17,
        "start_time": "2021-12-24T18:57:24.278Z"
      },
      {
        "duration": 11,
        "start_time": "2021-12-24T18:57:24.298Z"
      },
      {
        "duration": 76,
        "start_time": "2021-12-24T18:57:24.311Z"
      },
      {
        "duration": 2377,
        "start_time": "2021-12-24T18:57:24.391Z"
      },
      {
        "duration": 28,
        "start_time": "2021-12-24T18:57:26.772Z"
      },
      {
        "duration": 12,
        "start_time": "2021-12-24T18:57:26.803Z"
      },
      {
        "duration": 44,
        "start_time": "2021-12-24T18:57:26.817Z"
      },
      {
        "duration": 12,
        "start_time": "2021-12-24T18:57:26.863Z"
      },
      {
        "duration": 12,
        "start_time": "2021-12-24T18:57:26.877Z"
      },
      {
        "duration": 9,
        "start_time": "2021-12-24T18:57:26.891Z"
      },
      {
        "duration": 59,
        "start_time": "2021-12-24T18:57:26.903Z"
      },
      {
        "duration": 17,
        "start_time": "2021-12-24T18:57:26.964Z"
      },
      {
        "duration": 8,
        "start_time": "2021-12-24T18:57:26.983Z"
      },
      {
        "duration": 27,
        "start_time": "2021-12-24T18:57:26.993Z"
      },
      {
        "duration": 8,
        "start_time": "2021-12-24T18:57:27.023Z"
      },
      {
        "duration": 25,
        "start_time": "2021-12-24T18:57:27.060Z"
      },
      {
        "duration": 13,
        "start_time": "2021-12-24T18:57:27.087Z"
      },
      {
        "duration": 12,
        "start_time": "2021-12-24T18:57:27.103Z"
      },
      {
        "duration": 1007,
        "start_time": "2021-12-24T18:57:27.121Z"
      },
      {
        "duration": 3,
        "start_time": "2021-12-24T18:57:28.131Z"
      },
      {
        "duration": 803,
        "start_time": "2021-12-24T18:57:28.136Z"
      },
      {
        "duration": 30236,
        "start_time": "2021-12-24T18:57:28.942Z"
      },
      {
        "duration": 18,
        "start_time": "2021-12-24T18:57:59.180Z"
      },
      {
        "duration": 35525,
        "start_time": "2021-12-24T18:59:40.727Z"
      },
      {
        "duration": 24364,
        "start_time": "2021-12-24T19:05:11.436Z"
      },
      {
        "duration": 7,
        "start_time": "2021-12-24T19:06:05.454Z"
      },
      {
        "duration": 22392,
        "start_time": "2021-12-24T19:06:22.972Z"
      },
      {
        "duration": 29600,
        "start_time": "2021-12-24T19:10:37.489Z"
      },
      {
        "duration": 6,
        "start_time": "2021-12-24T19:13:46.208Z"
      },
      {
        "duration": 18962,
        "start_time": "2021-12-24T19:14:28.764Z"
      },
      {
        "duration": 21,
        "start_time": "2021-12-24T19:17:57.788Z"
      },
      {
        "duration": 16,
        "start_time": "2021-12-24T19:21:50.398Z"
      },
      {
        "duration": 16,
        "start_time": "2021-12-24T19:22:10.178Z"
      },
      {
        "duration": 20,
        "start_time": "2021-12-24T19:22:31.621Z"
      },
      {
        "duration": 18,
        "start_time": "2021-12-24T19:23:39.592Z"
      },
      {
        "duration": 17,
        "start_time": "2021-12-24T19:25:39.611Z"
      },
      {
        "duration": 17,
        "start_time": "2021-12-24T19:27:23.836Z"
      },
      {
        "duration": 29,
        "start_time": "2021-12-24T19:28:25.385Z"
      },
      {
        "duration": 11,
        "start_time": "2021-12-24T19:29:20.743Z"
      },
      {
        "duration": 18,
        "start_time": "2021-12-24T19:29:31.877Z"
      },
      {
        "duration": 1135,
        "start_time": "2021-12-24T19:32:37.143Z"
      },
      {
        "duration": 72107,
        "start_time": "2021-12-24T19:49:08.985Z"
      },
      {
        "duration": 19,
        "start_time": "2021-12-24T19:51:10.447Z"
      },
      {
        "duration": 67531,
        "start_time": "2021-12-24T19:53:37.760Z"
      },
      {
        "duration": 66228,
        "start_time": "2021-12-24T19:55:23.761Z"
      },
      {
        "duration": 67584,
        "start_time": "2021-12-24T19:56:55.719Z"
      },
      {
        "duration": 802,
        "start_time": "2021-12-24T20:04:55.338Z"
      },
      {
        "duration": 1085,
        "start_time": "2021-12-24T20:06:15.514Z"
      },
      {
        "duration": 880,
        "start_time": "2021-12-24T20:07:02.474Z"
      },
      {
        "duration": 951,
        "start_time": "2021-12-24T20:09:12.611Z"
      },
      {
        "duration": 237,
        "start_time": "2021-12-24T20:11:04.617Z"
      },
      {
        "duration": 265,
        "start_time": "2021-12-24T20:13:02.394Z"
      },
      {
        "duration": 9470,
        "start_time": "2021-12-24T20:15:38.511Z"
      },
      {
        "duration": 101,
        "start_time": "2021-12-25T06:50:05.427Z"
      },
      {
        "duration": 112,
        "start_time": "2021-12-25T06:50:15.804Z"
      },
      {
        "duration": 359,
        "start_time": "2021-12-25T06:50:21.752Z"
      },
      {
        "duration": 1117,
        "start_time": "2021-12-25T06:50:31.773Z"
      },
      {
        "duration": 22,
        "start_time": "2021-12-25T06:50:32.898Z"
      },
      {
        "duration": 14,
        "start_time": "2021-12-25T06:50:32.922Z"
      },
      {
        "duration": 22,
        "start_time": "2021-12-25T06:50:32.963Z"
      },
      {
        "duration": 16,
        "start_time": "2021-12-25T06:50:32.988Z"
      },
      {
        "duration": 10,
        "start_time": "2021-12-25T06:50:33.007Z"
      },
      {
        "duration": 72,
        "start_time": "2021-12-25T06:50:33.020Z"
      },
      {
        "duration": 2424,
        "start_time": "2021-12-25T06:50:33.095Z"
      },
      {
        "duration": 41,
        "start_time": "2021-12-25T06:50:35.522Z"
      },
      {
        "duration": 11,
        "start_time": "2021-12-25T06:50:35.565Z"
      },
      {
        "duration": 9,
        "start_time": "2021-12-25T06:50:35.579Z"
      },
      {
        "duration": 13,
        "start_time": "2021-12-25T06:50:35.590Z"
      },
      {
        "duration": 15,
        "start_time": "2021-12-25T06:50:35.606Z"
      },
      {
        "duration": 51,
        "start_time": "2021-12-25T06:50:35.624Z"
      },
      {
        "duration": 14,
        "start_time": "2021-12-25T06:50:35.678Z"
      },
      {
        "duration": 16,
        "start_time": "2021-12-25T06:50:35.694Z"
      },
      {
        "duration": 9,
        "start_time": "2021-12-25T06:50:35.712Z"
      },
      {
        "duration": 61,
        "start_time": "2021-12-25T06:50:35.723Z"
      },
      {
        "duration": 11,
        "start_time": "2021-12-25T06:50:35.786Z"
      },
      {
        "duration": 25,
        "start_time": "2021-12-25T06:50:35.799Z"
      },
      {
        "duration": 38,
        "start_time": "2021-12-25T06:50:35.826Z"
      },
      {
        "duration": 9,
        "start_time": "2021-12-25T06:50:35.869Z"
      },
      {
        "duration": 992,
        "start_time": "2021-12-25T06:50:35.881Z"
      },
      {
        "duration": 858,
        "start_time": "2021-12-25T06:50:36.876Z"
      },
      {
        "duration": 26032,
        "start_time": "2021-12-25T06:50:37.736Z"
      },
      {
        "duration": 20,
        "start_time": "2021-12-25T06:51:03.770Z"
      },
      {
        "duration": 17,
        "start_time": "2021-12-25T06:51:03.793Z"
      },
      {
        "duration": 1166,
        "start_time": "2021-12-25T06:51:03.813Z"
      },
      {
        "duration": 455,
        "start_time": "2021-12-25T06:52:18.339Z"
      },
      {
        "duration": -90,
        "start_time": "2021-12-25T06:52:18.888Z"
      },
      {
        "duration": -93,
        "start_time": "2021-12-25T06:52:18.892Z"
      },
      {
        "duration": -96,
        "start_time": "2021-12-25T06:52:18.897Z"
      },
      {
        "duration": 68026,
        "start_time": "2021-12-25T06:52:44.766Z"
      },
      {
        "duration": 300,
        "start_time": "2021-12-25T06:55:18.485Z"
      },
      {
        "duration": 351,
        "start_time": "2021-12-25T06:57:59.352Z"
      },
      {
        "duration": 1244,
        "start_time": "2021-12-25T06:58:15.713Z"
      },
      {
        "duration": 299,
        "start_time": "2021-12-25T06:59:07.641Z"
      },
      {
        "duration": 296,
        "start_time": "2021-12-25T07:00:16.854Z"
      },
      {
        "duration": 3812,
        "start_time": "2021-12-25T07:01:50.832Z"
      },
      {
        "duration": 381,
        "start_time": "2021-12-25T07:03:41.872Z"
      },
      {
        "duration": 26471,
        "start_time": "2021-12-25T07:06:18.121Z"
      },
      {
        "duration": 30821,
        "start_time": "2021-12-25T07:10:23.534Z"
      },
      {
        "duration": 887,
        "start_time": "2021-12-25T07:11:05.086Z"
      },
      {
        "duration": 22,
        "start_time": "2021-12-25T07:11:05.977Z"
      },
      {
        "duration": 16,
        "start_time": "2021-12-25T07:11:06.003Z"
      },
      {
        "duration": 58,
        "start_time": "2021-12-25T07:11:06.023Z"
      },
      {
        "duration": 19,
        "start_time": "2021-12-25T07:11:06.085Z"
      },
      {
        "duration": 13,
        "start_time": "2021-12-25T07:11:06.107Z"
      },
      {
        "duration": 72,
        "start_time": "2021-12-25T07:11:06.123Z"
      },
      {
        "duration": 2535,
        "start_time": "2021-12-25T07:11:06.201Z"
      },
      {
        "duration": 38,
        "start_time": "2021-12-25T07:11:08.739Z"
      },
      {
        "duration": 12,
        "start_time": "2021-12-25T07:11:08.780Z"
      },
      {
        "duration": 12,
        "start_time": "2021-12-25T07:11:08.794Z"
      },
      {
        "duration": 33,
        "start_time": "2021-12-25T07:11:08.809Z"
      },
      {
        "duration": 26,
        "start_time": "2021-12-25T07:11:08.844Z"
      },
      {
        "duration": 10,
        "start_time": "2021-12-25T07:11:08.872Z"
      },
      {
        "duration": 18,
        "start_time": "2021-12-25T07:11:08.885Z"
      },
      {
        "duration": 56,
        "start_time": "2021-12-25T07:11:08.907Z"
      },
      {
        "duration": 12,
        "start_time": "2021-12-25T07:11:08.966Z"
      },
      {
        "duration": 27,
        "start_time": "2021-12-25T07:11:08.981Z"
      },
      {
        "duration": 7,
        "start_time": "2021-12-25T07:11:09.011Z"
      },
      {
        "duration": 90,
        "start_time": "2021-12-25T07:11:09.021Z"
      },
      {
        "duration": 9,
        "start_time": "2021-12-25T07:11:09.114Z"
      },
      {
        "duration": 25,
        "start_time": "2021-12-25T07:11:09.126Z"
      },
      {
        "duration": 1014,
        "start_time": "2021-12-25T07:11:09.158Z"
      },
      {
        "duration": 1142,
        "start_time": "2021-12-25T07:11:10.177Z"
      },
      {
        "duration": 45522,
        "start_time": "2021-12-25T07:11:11.322Z"
      },
      {
        "duration": 25,
        "start_time": "2021-12-25T07:11:56.847Z"
      },
      {
        "duration": 15,
        "start_time": "2021-12-25T07:11:56.875Z"
      },
      {
        "duration": 420,
        "start_time": "2021-12-25T07:11:56.894Z"
      },
      {
        "duration": 74893,
        "start_time": "2021-12-25T07:11:57.317Z"
      },
      {
        "duration": 452,
        "start_time": "2021-12-25T07:13:12.212Z"
      },
      {
        "duration": -125,
        "start_time": "2021-12-25T07:13:12.792Z"
      },
      {
        "duration": -128,
        "start_time": "2021-12-25T07:13:12.796Z"
      },
      {
        "duration": -130,
        "start_time": "2021-12-25T07:13:12.800Z"
      },
      {
        "duration": -134,
        "start_time": "2021-12-25T07:13:12.805Z"
      },
      {
        "duration": -135,
        "start_time": "2021-12-25T07:13:12.808Z"
      },
      {
        "duration": 31329,
        "start_time": "2021-12-25T07:13:17.796Z"
      },
      {
        "duration": 980,
        "start_time": "2021-12-25T07:14:14.841Z"
      },
      {
        "duration": 15,
        "start_time": "2021-12-25T07:14:15.823Z"
      },
      {
        "duration": 13,
        "start_time": "2021-12-25T07:14:15.865Z"
      },
      {
        "duration": 31,
        "start_time": "2021-12-25T07:14:15.881Z"
      },
      {
        "duration": 17,
        "start_time": "2021-12-25T07:14:15.915Z"
      },
      {
        "duration": 11,
        "start_time": "2021-12-25T07:14:15.964Z"
      },
      {
        "duration": 37,
        "start_time": "2021-12-25T07:14:15.978Z"
      },
      {
        "duration": 2521,
        "start_time": "2021-12-25T07:14:16.018Z"
      },
      {
        "duration": 37,
        "start_time": "2021-12-25T07:14:18.541Z"
      },
      {
        "duration": 12,
        "start_time": "2021-12-25T07:14:18.580Z"
      },
      {
        "duration": 10,
        "start_time": "2021-12-25T07:14:18.594Z"
      },
      {
        "duration": 15,
        "start_time": "2021-12-25T07:14:18.607Z"
      },
      {
        "duration": 52,
        "start_time": "2021-12-25T07:14:18.625Z"
      },
      {
        "duration": 12,
        "start_time": "2021-12-25T07:14:18.680Z"
      },
      {
        "duration": 15,
        "start_time": "2021-12-25T07:14:18.695Z"
      },
      {
        "duration": 63,
        "start_time": "2021-12-25T07:14:18.713Z"
      },
      {
        "duration": 11,
        "start_time": "2021-12-25T07:14:18.779Z"
      },
      {
        "duration": 23,
        "start_time": "2021-12-25T07:14:18.793Z"
      },
      {
        "duration": 47,
        "start_time": "2021-12-25T07:14:18.818Z"
      },
      {
        "duration": 25,
        "start_time": "2021-12-25T07:14:18.867Z"
      },
      {
        "duration": 8,
        "start_time": "2021-12-25T07:14:18.895Z"
      },
      {
        "duration": 9,
        "start_time": "2021-12-25T07:14:18.907Z"
      },
      {
        "duration": 1000,
        "start_time": "2021-12-25T07:14:18.919Z"
      },
      {
        "duration": 792,
        "start_time": "2021-12-25T07:14:19.923Z"
      },
      {
        "duration": 38595,
        "start_time": "2021-12-25T07:14:20.718Z"
      },
      {
        "duration": 71757,
        "start_time": "2021-12-25T07:14:59.316Z"
      },
      {
        "duration": 564,
        "start_time": "2021-12-25T07:16:11.076Z"
      },
      {
        "duration": -132,
        "start_time": "2021-12-25T07:16:11.776Z"
      },
      {
        "duration": -135,
        "start_time": "2021-12-25T07:16:11.781Z"
      },
      {
        "duration": -136,
        "start_time": "2021-12-25T07:16:11.784Z"
      },
      {
        "duration": 300,
        "start_time": "2021-12-25T07:17:29.495Z"
      },
      {
        "duration": 420,
        "start_time": "2021-12-25T07:17:40.596Z"
      },
      {
        "duration": 295,
        "start_time": "2021-12-25T07:17:45.010Z"
      },
      {
        "duration": 300,
        "start_time": "2021-12-25T07:21:59.657Z"
      },
      {
        "duration": 437,
        "start_time": "2021-12-25T07:22:45.674Z"
      },
      {
        "duration": 9,
        "start_time": "2021-12-25T07:23:39.146Z"
      },
      {
        "duration": 11,
        "start_time": "2021-12-25T07:23:47.840Z"
      },
      {
        "duration": 9,
        "start_time": "2021-12-25T07:23:52.509Z"
      },
      {
        "duration": 7,
        "start_time": "2021-12-25T07:23:56.965Z"
      },
      {
        "duration": 8,
        "start_time": "2021-12-25T07:24:01.042Z"
      },
      {
        "duration": 7,
        "start_time": "2021-12-25T07:24:09.306Z"
      },
      {
        "duration": 7,
        "start_time": "2021-12-25T07:24:14.281Z"
      },
      {
        "duration": 9,
        "start_time": "2021-12-25T07:24:20.777Z"
      },
      {
        "duration": 20,
        "start_time": "2021-12-25T07:25:10.983Z"
      },
      {
        "duration": 589,
        "start_time": "2021-12-25T07:25:20.613Z"
      },
      {
        "duration": 299,
        "start_time": "2021-12-25T07:26:25.839Z"
      },
      {
        "duration": 268,
        "start_time": "2021-12-25T07:27:06.833Z"
      },
      {
        "duration": 304,
        "start_time": "2021-12-25T07:28:11.825Z"
      },
      {
        "duration": 246,
        "start_time": "2021-12-25T07:45:53.186Z"
      },
      {
        "duration": 219,
        "start_time": "2021-12-25T07:47:53.376Z"
      },
      {
        "duration": 7605,
        "start_time": "2021-12-25T07:48:49.924Z"
      },
      {
        "duration": 250,
        "start_time": "2021-12-25T07:48:57.981Z"
      },
      {
        "duration": 239,
        "start_time": "2021-12-25T07:50:18.427Z"
      },
      {
        "duration": 115,
        "start_time": "2021-12-25T08:30:40.787Z"
      },
      {
        "duration": 107,
        "start_time": "2021-12-25T08:30:50.266Z"
      },
      {
        "duration": 98,
        "start_time": "2021-12-25T08:31:11.731Z"
      },
      {
        "duration": 49,
        "start_time": "2021-12-25T08:32:24.422Z"
      },
      {
        "duration": 31,
        "start_time": "2021-12-25T08:32:39.529Z"
      },
      {
        "duration": 311,
        "start_time": "2021-12-25T08:32:57.663Z"
      },
      {
        "duration": 332,
        "start_time": "2021-12-25T08:34:34.903Z"
      },
      {
        "duration": 257,
        "start_time": "2021-12-25T08:34:41.030Z"
      },
      {
        "duration": 304,
        "start_time": "2021-12-25T08:35:09.011Z"
      },
      {
        "duration": 256,
        "start_time": "2021-12-25T08:35:43.310Z"
      },
      {
        "duration": 252,
        "start_time": "2021-12-25T08:36:17.300Z"
      },
      {
        "duration": 332,
        "start_time": "2021-12-25T08:43:06.685Z"
      },
      {
        "duration": 226,
        "start_time": "2021-12-25T08:49:33.669Z"
      },
      {
        "duration": 227,
        "start_time": "2021-12-25T08:50:09.844Z"
      },
      {
        "duration": 163,
        "start_time": "2021-12-25T09:06:45.212Z"
      },
      {
        "duration": 316,
        "start_time": "2021-12-25T09:06:51.484Z"
      },
      {
        "duration": 327,
        "start_time": "2021-12-25T09:07:36.762Z"
      },
      {
        "duration": 447,
        "start_time": "2021-12-25T09:08:13.505Z"
      },
      {
        "duration": 232,
        "start_time": "2021-12-25T09:12:20.163Z"
      },
      {
        "duration": 217,
        "start_time": "2021-12-25T09:12:53.780Z"
      },
      {
        "duration": 35437,
        "start_time": "2021-12-25T09:17:54.859Z"
      },
      {
        "duration": 836,
        "start_time": "2021-12-25T09:18:41.344Z"
      },
      {
        "duration": 14,
        "start_time": "2021-12-25T09:18:42.183Z"
      },
      {
        "duration": 15,
        "start_time": "2021-12-25T09:18:42.200Z"
      },
      {
        "duration": 50,
        "start_time": "2021-12-25T09:18:42.218Z"
      },
      {
        "duration": 18,
        "start_time": "2021-12-25T09:18:42.271Z"
      },
      {
        "duration": 11,
        "start_time": "2021-12-25T09:18:42.291Z"
      },
      {
        "duration": 63,
        "start_time": "2021-12-25T09:18:42.304Z"
      },
      {
        "duration": 2405,
        "start_time": "2021-12-25T09:18:42.371Z"
      },
      {
        "duration": 27,
        "start_time": "2021-12-25T09:18:44.780Z"
      },
      {
        "duration": 13,
        "start_time": "2021-12-25T09:18:44.810Z"
      },
      {
        "duration": 41,
        "start_time": "2021-12-25T09:18:44.826Z"
      },
      {
        "duration": 12,
        "start_time": "2021-12-25T09:18:44.869Z"
      },
      {
        "duration": 13,
        "start_time": "2021-12-25T09:18:44.883Z"
      },
      {
        "duration": 10,
        "start_time": "2021-12-25T09:18:44.898Z"
      },
      {
        "duration": 55,
        "start_time": "2021-12-25T09:18:44.910Z"
      },
      {
        "duration": 20,
        "start_time": "2021-12-25T09:18:44.969Z"
      },
      {
        "duration": 8,
        "start_time": "2021-12-25T09:18:44.992Z"
      },
      {
        "duration": 62,
        "start_time": "2021-12-25T09:18:45.004Z"
      },
      {
        "duration": 8,
        "start_time": "2021-12-25T09:18:45.069Z"
      },
      {
        "duration": 27,
        "start_time": "2021-12-25T09:18:45.080Z"
      },
      {
        "duration": 8,
        "start_time": "2021-12-25T09:18:45.109Z"
      },
      {
        "duration": 43,
        "start_time": "2021-12-25T09:18:45.120Z"
      },
      {
        "duration": 976,
        "start_time": "2021-12-25T09:18:45.171Z"
      },
      {
        "duration": 814,
        "start_time": "2021-12-25T09:18:46.151Z"
      },
      {
        "duration": 39503,
        "start_time": "2021-12-25T09:18:46.968Z"
      },
      {
        "duration": 33323,
        "start_time": "2021-12-25T09:19:26.474Z"
      },
      {
        "duration": 463,
        "start_time": "2021-12-25T09:19:59.800Z"
      },
      {
        "duration": 362,
        "start_time": "2021-12-25T09:20:00.265Z"
      },
      {
        "duration": 255,
        "start_time": "2021-12-25T09:20:00.630Z"
      },
      {
        "duration": 251,
        "start_time": "2021-12-25T09:20:00.887Z"
      },
      {
        "duration": 268,
        "start_time": "2021-12-25T09:20:01.141Z"
      },
      {
        "duration": 239,
        "start_time": "2021-12-25T09:20:01.412Z"
      },
      {
        "duration": 245,
        "start_time": "2021-12-25T09:20:01.653Z"
      },
      {
        "duration": 655,
        "start_time": "2021-12-26T06:33:09.300Z"
      },
      {
        "duration": 10,
        "start_time": "2021-12-26T06:33:09.957Z"
      },
      {
        "duration": 12,
        "start_time": "2021-12-26T06:33:09.969Z"
      },
      {
        "duration": 14,
        "start_time": "2021-12-26T06:33:09.982Z"
      },
      {
        "duration": 11,
        "start_time": "2021-12-26T06:33:09.997Z"
      },
      {
        "duration": 20,
        "start_time": "2021-12-26T06:33:10.009Z"
      },
      {
        "duration": 24,
        "start_time": "2021-12-26T06:33:10.030Z"
      },
      {
        "duration": 1451,
        "start_time": "2021-12-26T06:33:10.056Z"
      },
      {
        "duration": 23,
        "start_time": "2021-12-26T06:33:11.509Z"
      },
      {
        "duration": 8,
        "start_time": "2021-12-26T06:33:11.533Z"
      },
      {
        "duration": 7,
        "start_time": "2021-12-26T06:33:11.543Z"
      },
      {
        "duration": 8,
        "start_time": "2021-12-26T06:33:11.552Z"
      },
      {
        "duration": 7,
        "start_time": "2021-12-26T06:33:11.561Z"
      },
      {
        "duration": 7,
        "start_time": "2021-12-26T06:33:11.570Z"
      },
      {
        "duration": 8,
        "start_time": "2021-12-26T06:33:11.578Z"
      },
      {
        "duration": 44,
        "start_time": "2021-12-26T06:33:11.588Z"
      },
      {
        "duration": 7,
        "start_time": "2021-12-26T06:33:11.633Z"
      },
      {
        "duration": 16,
        "start_time": "2021-12-26T06:33:11.641Z"
      },
      {
        "duration": 6,
        "start_time": "2021-12-26T06:33:11.658Z"
      },
      {
        "duration": 17,
        "start_time": "2021-12-26T06:33:11.666Z"
      },
      {
        "duration": 6,
        "start_time": "2021-12-26T06:33:11.684Z"
      },
      {
        "duration": 38,
        "start_time": "2021-12-26T06:33:11.691Z"
      },
      {
        "duration": 668,
        "start_time": "2021-12-26T06:33:11.732Z"
      },
      {
        "duration": 594,
        "start_time": "2021-12-26T06:33:12.403Z"
      },
      {
        "duration": 21202,
        "start_time": "2021-12-26T06:33:12.999Z"
      },
      {
        "duration": 19739,
        "start_time": "2021-12-26T06:33:34.203Z"
      },
      {
        "duration": 270,
        "start_time": "2021-12-26T06:33:53.944Z"
      },
      {
        "duration": 222,
        "start_time": "2021-12-26T06:33:54.215Z"
      },
      {
        "duration": 137,
        "start_time": "2021-12-26T06:33:54.438Z"
      },
      {
        "duration": 141,
        "start_time": "2021-12-26T06:33:54.576Z"
      },
      {
        "duration": 147,
        "start_time": "2021-12-26T06:33:54.719Z"
      },
      {
        "duration": 136,
        "start_time": "2021-12-26T06:33:54.868Z"
      },
      {
        "duration": 149,
        "start_time": "2021-12-26T06:33:55.006Z"
      },
      {
        "duration": 199,
        "start_time": "2021-12-26T06:39:48.999Z"
      },
      {
        "duration": 12,
        "start_time": "2021-12-26T07:09:54.290Z"
      },
      {
        "duration": 9,
        "start_time": "2021-12-26T07:10:10.405Z"
      },
      {
        "duration": 9,
        "start_time": "2021-12-26T07:10:42.053Z"
      },
      {
        "duration": 12,
        "start_time": "2021-12-26T07:11:42.064Z"
      },
      {
        "duration": 21,
        "start_time": "2021-12-26T07:12:20.432Z"
      },
      {
        "duration": 228,
        "start_time": "2021-12-26T15:43:10.309Z"
      },
      {
        "duration": 661,
        "start_time": "2021-12-26T15:43:15.887Z"
      },
      {
        "duration": 10,
        "start_time": "2021-12-26T15:43:16.550Z"
      },
      {
        "duration": 10,
        "start_time": "2021-12-26T15:43:16.562Z"
      },
      {
        "duration": 23,
        "start_time": "2021-12-26T15:43:16.574Z"
      },
      {
        "duration": 13,
        "start_time": "2021-12-26T15:43:16.599Z"
      },
      {
        "duration": 8,
        "start_time": "2021-12-26T15:43:16.613Z"
      },
      {
        "duration": 23,
        "start_time": "2021-12-26T15:43:16.622Z"
      },
      {
        "duration": 1444,
        "start_time": "2021-12-26T15:43:16.647Z"
      },
      {
        "duration": 16,
        "start_time": "2021-12-26T15:43:18.094Z"
      },
      {
        "duration": 15,
        "start_time": "2021-12-26T15:43:18.112Z"
      },
      {
        "duration": 14,
        "start_time": "2021-12-26T15:43:18.129Z"
      },
      {
        "duration": 26,
        "start_time": "2021-12-26T15:43:18.144Z"
      },
      {
        "duration": 37,
        "start_time": "2021-12-26T15:43:18.172Z"
      },
      {
        "duration": 26,
        "start_time": "2021-12-26T15:43:18.211Z"
      },
      {
        "duration": 19,
        "start_time": "2021-12-26T15:43:18.239Z"
      },
      {
        "duration": 35,
        "start_time": "2021-12-26T15:43:18.260Z"
      },
      {
        "duration": 19,
        "start_time": "2021-12-26T15:43:18.297Z"
      },
      {
        "duration": 41,
        "start_time": "2021-12-26T15:43:18.318Z"
      },
      {
        "duration": 34,
        "start_time": "2021-12-26T15:43:18.361Z"
      },
      {
        "duration": 35,
        "start_time": "2021-12-26T15:43:18.396Z"
      },
      {
        "duration": 19,
        "start_time": "2021-12-26T15:43:18.432Z"
      },
      {
        "duration": 13,
        "start_time": "2021-12-26T15:43:18.453Z"
      },
      {
        "duration": 685,
        "start_time": "2021-12-26T15:43:18.468Z"
      },
      {
        "duration": 1009,
        "start_time": "2021-12-26T15:43:19.155Z"
      },
      {
        "duration": 21871,
        "start_time": "2021-12-26T15:43:20.166Z"
      },
      {
        "duration": 20098,
        "start_time": "2021-12-26T15:43:42.038Z"
      },
      {
        "duration": 365,
        "start_time": "2021-12-26T15:44:02.139Z"
      },
      {
        "duration": 175,
        "start_time": "2021-12-26T15:44:02.506Z"
      },
      {
        "duration": 154,
        "start_time": "2021-12-26T15:44:02.682Z"
      },
      {
        "duration": 9,
        "start_time": "2021-12-26T15:44:02.838Z"
      },
      {
        "duration": 12,
        "start_time": "2021-12-26T15:44:02.848Z"
      },
      {
        "duration": 42,
        "start_time": "2021-12-26T15:44:02.861Z"
      },
      {
        "duration": 161,
        "start_time": "2021-12-26T15:44:02.905Z"
      },
      {
        "duration": 163,
        "start_time": "2021-12-26T15:44:03.068Z"
      },
      {
        "duration": 160,
        "start_time": "2021-12-26T15:44:03.233Z"
      },
      {
        "duration": 166,
        "start_time": "2021-12-26T15:44:03.394Z"
      },
      {
        "duration": 167,
        "start_time": "2021-12-26T15:44:35.563Z"
      },
      {
        "duration": 176,
        "start_time": "2021-12-26T15:45:03.790Z"
      },
      {
        "duration": 482,
        "start_time": "2021-12-26T15:47:38.439Z"
      },
      {
        "duration": 176,
        "start_time": "2021-12-26T15:52:32.339Z"
      },
      {
        "duration": 335,
        "start_time": "2021-12-26T15:52:41.506Z"
      },
      {
        "duration": 182,
        "start_time": "2021-12-26T15:53:09.935Z"
      },
      {
        "duration": 221,
        "start_time": "2021-12-26T15:53:34.420Z"
      },
      {
        "duration": 250,
        "start_time": "2021-12-26T15:53:57.079Z"
      },
      {
        "duration": 163,
        "start_time": "2021-12-26T15:54:07.079Z"
      },
      {
        "duration": 182,
        "start_time": "2021-12-26T15:54:32.154Z"
      },
      {
        "duration": 183,
        "start_time": "2021-12-26T15:55:12.665Z"
      },
      {
        "duration": 328,
        "start_time": "2021-12-26T15:55:39.565Z"
      },
      {
        "duration": 335,
        "start_time": "2021-12-26T15:55:51.561Z"
      },
      {
        "duration": 637,
        "start_time": "2021-12-26T15:55:58.011Z"
      },
      {
        "duration": 10,
        "start_time": "2021-12-26T15:55:58.650Z"
      },
      {
        "duration": 9,
        "start_time": "2021-12-26T15:55:58.662Z"
      },
      {
        "duration": 25,
        "start_time": "2021-12-26T15:55:58.674Z"
      },
      {
        "duration": 14,
        "start_time": "2021-12-26T15:55:58.704Z"
      },
      {
        "duration": 8,
        "start_time": "2021-12-26T15:55:58.720Z"
      },
      {
        "duration": 22,
        "start_time": "2021-12-26T15:55:58.730Z"
      },
      {
        "duration": 1532,
        "start_time": "2021-12-26T15:55:58.753Z"
      },
      {
        "duration": 23,
        "start_time": "2021-12-26T15:56:00.288Z"
      },
      {
        "duration": 8,
        "start_time": "2021-12-26T15:56:00.314Z"
      },
      {
        "duration": 8,
        "start_time": "2021-12-26T15:56:00.324Z"
      },
      {
        "duration": 9,
        "start_time": "2021-12-26T15:56:00.334Z"
      },
      {
        "duration": 9,
        "start_time": "2021-12-26T15:56:00.344Z"
      },
      {
        "duration": 10,
        "start_time": "2021-12-26T15:56:00.393Z"
      },
      {
        "duration": 11,
        "start_time": "2021-12-26T15:56:00.405Z"
      },
      {
        "duration": 16,
        "start_time": "2021-12-26T15:56:00.418Z"
      },
      {
        "duration": 6,
        "start_time": "2021-12-26T15:56:00.435Z"
      },
      {
        "duration": 26,
        "start_time": "2021-12-26T15:56:00.443Z"
      },
      {
        "duration": 9,
        "start_time": "2021-12-26T15:56:00.491Z"
      },
      {
        "duration": 24,
        "start_time": "2021-12-26T15:56:00.503Z"
      },
      {
        "duration": 7,
        "start_time": "2021-12-26T15:56:00.529Z"
      },
      {
        "duration": 12,
        "start_time": "2021-12-26T15:56:00.537Z"
      },
      {
        "duration": 724,
        "start_time": "2021-12-26T15:56:00.551Z"
      },
      {
        "duration": 617,
        "start_time": "2021-12-26T15:56:01.278Z"
      },
      {
        "duration": 23984,
        "start_time": "2021-12-26T15:56:01.898Z"
      },
      {
        "duration": 21740,
        "start_time": "2021-12-26T15:56:25.884Z"
      },
      {
        "duration": 389,
        "start_time": "2021-12-26T15:56:47.627Z"
      },
      {
        "duration": 192,
        "start_time": "2021-12-26T15:56:48.018Z"
      },
      {
        "duration": 448,
        "start_time": "2021-12-26T15:56:48.212Z"
      },
      {
        "duration": -75,
        "start_time": "2021-12-26T15:56:48.738Z"
      },
      {
        "duration": -77,
        "start_time": "2021-12-26T15:56:48.742Z"
      },
      {
        "duration": -86,
        "start_time": "2021-12-26T15:56:48.752Z"
      },
      {
        "duration": -88,
        "start_time": "2021-12-26T15:56:48.756Z"
      },
      {
        "duration": -97,
        "start_time": "2021-12-26T15:56:48.766Z"
      },
      {
        "duration": -100,
        "start_time": "2021-12-26T15:56:48.771Z"
      },
      {
        "duration": -102,
        "start_time": "2021-12-26T15:56:48.775Z"
      },
      {
        "duration": 339,
        "start_time": "2021-12-26T15:57:15.627Z"
      },
      {
        "duration": 338,
        "start_time": "2021-12-26T15:57:32.291Z"
      },
      {
        "duration": 348,
        "start_time": "2021-12-26T16:01:30.886Z"
      },
      {
        "duration": 159,
        "start_time": "2021-12-26T16:01:38.623Z"
      },
      {
        "duration": 160,
        "start_time": "2021-12-26T16:02:52.436Z"
      },
      {
        "duration": 335,
        "start_time": "2021-12-26T16:03:36.104Z"
      },
      {
        "duration": 170,
        "start_time": "2021-12-26T16:05:24.339Z"
      },
      {
        "duration": 405,
        "start_time": "2021-12-26T16:07:45.665Z"
      },
      {
        "duration": 164,
        "start_time": "2021-12-26T16:08:20.216Z"
      },
      {
        "duration": 184,
        "start_time": "2021-12-26T16:09:00.888Z"
      },
      {
        "duration": 159,
        "start_time": "2021-12-26T16:09:20.997Z"
      },
      {
        "duration": 172,
        "start_time": "2021-12-26T16:11:00.293Z"
      },
      {
        "duration": 165,
        "start_time": "2021-12-26T16:11:04.034Z"
      },
      {
        "duration": 17,
        "start_time": "2021-12-26T16:17:32.415Z"
      },
      {
        "duration": 15,
        "start_time": "2021-12-26T16:17:56.577Z"
      },
      {
        "duration": 62,
        "start_time": "2021-12-26T16:18:11.213Z"
      },
      {
        "duration": 19,
        "start_time": "2021-12-26T16:18:15.424Z"
      },
      {
        "duration": 1243,
        "start_time": "2021-12-26T16:18:34.136Z"
      },
      {
        "duration": 62,
        "start_time": "2021-12-26T16:18:35.381Z"
      },
      {
        "duration": 24,
        "start_time": "2021-12-26T16:18:35.445Z"
      },
      {
        "duration": 21,
        "start_time": "2021-12-26T16:18:35.471Z"
      },
      {
        "duration": 13,
        "start_time": "2021-12-26T16:18:35.494Z"
      },
      {
        "duration": 19,
        "start_time": "2021-12-26T16:18:35.509Z"
      },
      {
        "duration": 13,
        "start_time": "2021-12-26T16:18:35.530Z"
      },
      {
        "duration": 8,
        "start_time": "2021-12-26T16:18:35.545Z"
      },
      {
        "duration": 21,
        "start_time": "2021-12-26T16:18:35.593Z"
      },
      {
        "duration": 1531,
        "start_time": "2021-12-26T16:18:35.616Z"
      },
      {
        "duration": 16,
        "start_time": "2021-12-26T16:18:37.149Z"
      },
      {
        "duration": 24,
        "start_time": "2021-12-26T16:18:37.167Z"
      },
      {
        "duration": 24,
        "start_time": "2021-12-26T16:18:37.194Z"
      },
      {
        "duration": 26,
        "start_time": "2021-12-26T16:18:37.220Z"
      },
      {
        "duration": 9,
        "start_time": "2021-12-26T16:18:37.248Z"
      },
      {
        "duration": 15,
        "start_time": "2021-12-26T16:18:37.259Z"
      },
      {
        "duration": 14,
        "start_time": "2021-12-26T16:18:37.275Z"
      },
      {
        "duration": 17,
        "start_time": "2021-12-26T16:18:37.291Z"
      },
      {
        "duration": 14,
        "start_time": "2021-12-26T16:18:37.310Z"
      },
      {
        "duration": 37,
        "start_time": "2021-12-26T16:18:37.326Z"
      },
      {
        "duration": 7,
        "start_time": "2021-12-26T16:18:37.364Z"
      },
      {
        "duration": 48,
        "start_time": "2021-12-26T16:18:37.372Z"
      },
      {
        "duration": 26,
        "start_time": "2021-12-26T16:18:37.422Z"
      },
      {
        "duration": 17,
        "start_time": "2021-12-26T16:18:37.450Z"
      },
      {
        "duration": 736,
        "start_time": "2021-12-26T16:18:37.469Z"
      },
      {
        "duration": 6,
        "start_time": "2021-12-26T16:18:38.207Z"
      },
      {
        "duration": 23605,
        "start_time": "2021-12-26T16:18:38.216Z"
      },
      {
        "duration": 21807,
        "start_time": "2021-12-26T16:19:01.823Z"
      },
      {
        "duration": 451,
        "start_time": "2021-12-26T16:19:23.632Z"
      },
      {
        "duration": -54,
        "start_time": "2021-12-26T16:19:24.140Z"
      },
      {
        "duration": -59,
        "start_time": "2021-12-26T16:19:24.146Z"
      },
      {
        "duration": -62,
        "start_time": "2021-12-26T16:19:24.151Z"
      },
      {
        "duration": -64,
        "start_time": "2021-12-26T16:19:24.155Z"
      },
      {
        "duration": -69,
        "start_time": "2021-12-26T16:19:24.161Z"
      },
      {
        "duration": -71,
        "start_time": "2021-12-26T16:19:24.164Z"
      },
      {
        "duration": -73,
        "start_time": "2021-12-26T16:19:24.169Z"
      },
      {
        "duration": -76,
        "start_time": "2021-12-26T16:19:24.173Z"
      },
      {
        "duration": -79,
        "start_time": "2021-12-26T16:19:24.177Z"
      },
      {
        "duration": -81,
        "start_time": "2021-12-26T16:19:24.180Z"
      },
      {
        "duration": 1319,
        "start_time": "2021-12-26T16:19:27.604Z"
      },
      {
        "duration": 49,
        "start_time": "2021-12-26T16:19:28.925Z"
      },
      {
        "duration": 31,
        "start_time": "2021-12-26T16:19:28.976Z"
      },
      {
        "duration": 16,
        "start_time": "2021-12-26T16:19:29.009Z"
      },
      {
        "duration": 15,
        "start_time": "2021-12-26T16:19:29.027Z"
      },
      {
        "duration": 23,
        "start_time": "2021-12-26T16:19:29.043Z"
      },
      {
        "duration": 35,
        "start_time": "2021-12-26T16:19:29.068Z"
      },
      {
        "duration": 7,
        "start_time": "2021-12-26T16:19:29.107Z"
      },
      {
        "duration": 18,
        "start_time": "2021-12-26T16:19:29.116Z"
      },
      {
        "duration": 1529,
        "start_time": "2021-12-26T16:19:29.135Z"
      },
      {
        "duration": 28,
        "start_time": "2021-12-26T16:19:30.666Z"
      },
      {
        "duration": 11,
        "start_time": "2021-12-26T16:19:30.697Z"
      },
      {
        "duration": 12,
        "start_time": "2021-12-26T16:19:30.710Z"
      },
      {
        "duration": 23,
        "start_time": "2021-12-26T16:19:30.724Z"
      },
      {
        "duration": 15,
        "start_time": "2021-12-26T16:19:30.748Z"
      },
      {
        "duration": 26,
        "start_time": "2021-12-26T16:19:30.765Z"
      },
      {
        "duration": 19,
        "start_time": "2021-12-26T16:19:30.793Z"
      },
      {
        "duration": 16,
        "start_time": "2021-12-26T16:19:30.814Z"
      },
      {
        "duration": 9,
        "start_time": "2021-12-26T16:19:30.832Z"
      },
      {
        "duration": 30,
        "start_time": "2021-12-26T16:19:30.842Z"
      },
      {
        "duration": 16,
        "start_time": "2021-12-26T16:19:30.874Z"
      },
      {
        "duration": 26,
        "start_time": "2021-12-26T16:19:30.892Z"
      },
      {
        "duration": 10,
        "start_time": "2021-12-26T16:19:30.921Z"
      },
      {
        "duration": 16,
        "start_time": "2021-12-26T16:19:30.933Z"
      },
      {
        "duration": 724,
        "start_time": "2021-12-26T16:19:30.951Z"
      },
      {
        "duration": 15,
        "start_time": "2021-12-26T16:19:31.677Z"
      },
      {
        "duration": 23975,
        "start_time": "2021-12-26T16:19:31.695Z"
      },
      {
        "duration": 22056,
        "start_time": "2021-12-26T16:19:55.671Z"
      },
      {
        "duration": 457,
        "start_time": "2021-12-26T16:20:17.728Z"
      },
      {
        "duration": -40,
        "start_time": "2021-12-26T16:20:18.227Z"
      },
      {
        "duration": -53,
        "start_time": "2021-12-26T16:20:18.241Z"
      },
      {
        "duration": -66,
        "start_time": "2021-12-26T16:20:18.255Z"
      },
      {
        "duration": -84,
        "start_time": "2021-12-26T16:20:18.274Z"
      },
      {
        "duration": -102,
        "start_time": "2021-12-26T16:20:18.294Z"
      },
      {
        "duration": -121,
        "start_time": "2021-12-26T16:20:18.315Z"
      },
      {
        "duration": -126,
        "start_time": "2021-12-26T16:20:18.321Z"
      },
      {
        "duration": -131,
        "start_time": "2021-12-26T16:20:18.328Z"
      },
      {
        "duration": -140,
        "start_time": "2021-12-26T16:20:18.338Z"
      },
      {
        "duration": -143,
        "start_time": "2021-12-26T16:20:18.342Z"
      },
      {
        "duration": 1303,
        "start_time": "2021-12-26T16:20:38.010Z"
      },
      {
        "duration": 51,
        "start_time": "2021-12-26T16:20:39.316Z"
      },
      {
        "duration": 25,
        "start_time": "2021-12-26T16:20:39.369Z"
      },
      {
        "duration": 20,
        "start_time": "2021-12-26T16:20:39.396Z"
      },
      {
        "duration": 30,
        "start_time": "2021-12-26T16:20:39.418Z"
      },
      {
        "duration": 28,
        "start_time": "2021-12-26T16:20:39.450Z"
      },
      {
        "duration": 18,
        "start_time": "2021-12-26T16:20:39.480Z"
      },
      {
        "duration": 21,
        "start_time": "2021-12-26T16:20:39.501Z"
      },
      {
        "duration": 35,
        "start_time": "2021-12-26T16:20:39.525Z"
      },
      {
        "duration": 1521,
        "start_time": "2021-12-26T16:20:39.562Z"
      },
      {
        "duration": 25,
        "start_time": "2021-12-26T16:20:41.085Z"
      },
      {
        "duration": 18,
        "start_time": "2021-12-26T16:20:41.111Z"
      },
      {
        "duration": 16,
        "start_time": "2021-12-26T16:20:41.131Z"
      },
      {
        "duration": 20,
        "start_time": "2021-12-26T16:20:41.148Z"
      },
      {
        "duration": 32,
        "start_time": "2021-12-26T16:20:41.170Z"
      },
      {
        "duration": 15,
        "start_time": "2021-12-26T16:20:41.204Z"
      },
      {
        "duration": 35,
        "start_time": "2021-12-26T16:20:41.221Z"
      },
      {
        "duration": 29,
        "start_time": "2021-12-26T16:20:41.257Z"
      },
      {
        "duration": 24,
        "start_time": "2021-12-26T16:20:41.288Z"
      },
      {
        "duration": 42,
        "start_time": "2021-12-26T16:20:41.314Z"
      },
      {
        "duration": 18,
        "start_time": "2021-12-26T16:20:41.358Z"
      },
      {
        "duration": 40,
        "start_time": "2021-12-26T16:20:41.377Z"
      },
      {
        "duration": 29,
        "start_time": "2021-12-26T16:20:41.419Z"
      },
      {
        "duration": 27,
        "start_time": "2021-12-26T16:20:41.450Z"
      },
      {
        "duration": 724,
        "start_time": "2021-12-26T16:20:41.478Z"
      },
      {
        "duration": 7,
        "start_time": "2021-12-26T16:20:42.205Z"
      },
      {
        "duration": 24243,
        "start_time": "2021-12-26T16:20:42.215Z"
      },
      {
        "duration": 22096,
        "start_time": "2021-12-26T16:21:06.460Z"
      },
      {
        "duration": 452,
        "start_time": "2021-12-26T16:21:28.558Z"
      },
      {
        "duration": -42,
        "start_time": "2021-12-26T16:21:29.054Z"
      },
      {
        "duration": -51,
        "start_time": "2021-12-26T16:21:29.064Z"
      },
      {
        "duration": -58,
        "start_time": "2021-12-26T16:21:29.072Z"
      },
      {
        "duration": -63,
        "start_time": "2021-12-26T16:21:29.078Z"
      },
      {
        "duration": -66,
        "start_time": "2021-12-26T16:21:29.083Z"
      },
      {
        "duration": -71,
        "start_time": "2021-12-26T16:21:29.089Z"
      },
      {
        "duration": -75,
        "start_time": "2021-12-26T16:21:29.094Z"
      },
      {
        "duration": -77,
        "start_time": "2021-12-26T16:21:29.097Z"
      },
      {
        "duration": -80,
        "start_time": "2021-12-26T16:21:29.101Z"
      },
      {
        "duration": 62,
        "start_time": "2021-12-26T16:22:43.212Z"
      },
      {
        "duration": 277,
        "start_time": "2021-12-26T16:22:56.149Z"
      },
      {
        "duration": 1427,
        "start_time": "2021-12-26T16:23:24.693Z"
      },
      {
        "duration": 52,
        "start_time": "2021-12-26T16:23:26.122Z"
      },
      {
        "duration": 31,
        "start_time": "2021-12-26T16:23:26.176Z"
      },
      {
        "duration": 15,
        "start_time": "2021-12-26T16:23:26.211Z"
      },
      {
        "duration": 16,
        "start_time": "2021-12-26T16:23:26.228Z"
      },
      {
        "duration": 53,
        "start_time": "2021-12-26T16:23:26.246Z"
      },
      {
        "duration": 22,
        "start_time": "2021-12-26T16:23:26.302Z"
      },
      {
        "duration": 20,
        "start_time": "2021-12-26T16:23:26.327Z"
      },
      {
        "duration": 42,
        "start_time": "2021-12-26T16:23:26.349Z"
      },
      {
        "duration": 1642,
        "start_time": "2021-12-26T16:23:26.394Z"
      },
      {
        "duration": 26,
        "start_time": "2021-12-26T16:23:28.039Z"
      },
      {
        "duration": 31,
        "start_time": "2021-12-26T16:23:28.067Z"
      },
      {
        "duration": 28,
        "start_time": "2021-12-26T16:23:28.100Z"
      },
      {
        "duration": 18,
        "start_time": "2021-12-26T16:23:28.130Z"
      },
      {
        "duration": 15,
        "start_time": "2021-12-26T16:23:28.150Z"
      },
      {
        "duration": 21,
        "start_time": "2021-12-26T16:23:28.167Z"
      },
      {
        "duration": 20,
        "start_time": "2021-12-26T16:23:28.190Z"
      },
      {
        "duration": 20,
        "start_time": "2021-12-26T16:23:28.213Z"
      },
      {
        "duration": 7,
        "start_time": "2021-12-26T16:23:28.235Z"
      },
      {
        "duration": 48,
        "start_time": "2021-12-26T16:23:28.245Z"
      },
      {
        "duration": 11,
        "start_time": "2021-12-26T16:23:28.296Z"
      },
      {
        "duration": 32,
        "start_time": "2021-12-26T16:23:28.309Z"
      },
      {
        "duration": 10,
        "start_time": "2021-12-26T16:23:28.346Z"
      },
      {
        "duration": 49,
        "start_time": "2021-12-26T16:23:28.358Z"
      },
      {
        "duration": 758,
        "start_time": "2021-12-26T16:23:28.409Z"
      },
      {
        "duration": 4,
        "start_time": "2021-12-26T16:23:29.168Z"
      },
      {
        "duration": 24562,
        "start_time": "2021-12-26T16:23:29.174Z"
      },
      {
        "duration": 22388,
        "start_time": "2021-12-26T16:23:53.739Z"
      },
      {
        "duration": 292,
        "start_time": "2021-12-26T16:24:16.129Z"
      },
      {
        "duration": 205,
        "start_time": "2021-12-26T16:24:16.422Z"
      },
      {
        "duration": 175,
        "start_time": "2021-12-26T16:24:16.629Z"
      },
      {
        "duration": 11,
        "start_time": "2021-12-26T16:24:16.806Z"
      },
      {
        "duration": 13,
        "start_time": "2021-12-26T16:24:16.819Z"
      },
      {
        "duration": 24,
        "start_time": "2021-12-26T16:24:16.834Z"
      },
      {
        "duration": 254,
        "start_time": "2021-12-26T16:24:16.860Z"
      },
      {
        "duration": 200,
        "start_time": "2021-12-26T16:24:17.116Z"
      },
      {
        "duration": 187,
        "start_time": "2021-12-26T16:24:17.319Z"
      },
      {
        "duration": 195,
        "start_time": "2021-12-26T16:24:17.508Z"
      },
      {
        "duration": 21,
        "start_time": "2021-12-26T16:29:46.446Z"
      },
      {
        "duration": 20,
        "start_time": "2021-12-26T16:29:54.557Z"
      },
      {
        "duration": 25,
        "start_time": "2021-12-26T16:30:07.287Z"
      },
      {
        "duration": 32,
        "start_time": "2021-12-26T16:32:32.184Z"
      },
      {
        "duration": 31,
        "start_time": "2021-12-26T16:32:56.173Z"
      },
      {
        "duration": 32,
        "start_time": "2021-12-26T16:33:14.170Z"
      },
      {
        "duration": 19,
        "start_time": "2021-12-26T16:33:25.099Z"
      },
      {
        "duration": 400,
        "start_time": "2021-12-26T16:38:28.377Z"
      },
      {
        "duration": 62,
        "start_time": "2021-12-26T16:38:41.387Z"
      },
      {
        "duration": 36,
        "start_time": "2021-12-26T16:38:51.924Z"
      },
      {
        "duration": 41,
        "start_time": "2021-12-26T16:39:04.350Z"
      },
      {
        "duration": 203,
        "start_time": "2021-12-26T16:39:18.000Z"
      },
      {
        "duration": 47,
        "start_time": "2021-12-26T16:39:24.483Z"
      },
      {
        "duration": 19,
        "start_time": "2021-12-26T16:41:14.081Z"
      },
      {
        "duration": 220,
        "start_time": "2021-12-26T16:41:40.144Z"
      },
      {
        "duration": 28,
        "start_time": "2021-12-26T16:41:57.508Z"
      },
      {
        "duration": 1279,
        "start_time": "2021-12-26T16:42:03.010Z"
      },
      {
        "duration": 53,
        "start_time": "2021-12-26T16:42:04.291Z"
      },
      {
        "duration": 23,
        "start_time": "2021-12-26T16:42:04.346Z"
      },
      {
        "duration": 24,
        "start_time": "2021-12-26T16:42:04.371Z"
      },
      {
        "duration": 16,
        "start_time": "2021-12-26T16:42:04.397Z"
      },
      {
        "duration": 22,
        "start_time": "2021-12-26T16:42:04.415Z"
      },
      {
        "duration": 13,
        "start_time": "2021-12-26T16:42:04.438Z"
      },
      {
        "duration": 39,
        "start_time": "2021-12-26T16:42:04.454Z"
      },
      {
        "duration": 16,
        "start_time": "2021-12-26T16:42:04.496Z"
      },
      {
        "duration": 1472,
        "start_time": "2021-12-26T16:42:04.514Z"
      },
      {
        "duration": 17,
        "start_time": "2021-12-26T16:42:05.988Z"
      },
      {
        "duration": 11,
        "start_time": "2021-12-26T16:42:06.007Z"
      },
      {
        "duration": 8,
        "start_time": "2021-12-26T16:42:06.020Z"
      },
      {
        "duration": 9,
        "start_time": "2021-12-26T16:42:06.029Z"
      },
      {
        "duration": 8,
        "start_time": "2021-12-26T16:42:06.040Z"
      },
      {
        "duration": 7,
        "start_time": "2021-12-26T16:42:06.049Z"
      },
      {
        "duration": 12,
        "start_time": "2021-12-26T16:42:06.092Z"
      },
      {
        "duration": 11,
        "start_time": "2021-12-26T16:42:06.106Z"
      },
      {
        "duration": 6,
        "start_time": "2021-12-26T16:42:06.119Z"
      },
      {
        "duration": 16,
        "start_time": "2021-12-26T16:42:06.126Z"
      },
      {
        "duration": 5,
        "start_time": "2021-12-26T16:42:06.144Z"
      },
      {
        "duration": 50,
        "start_time": "2021-12-26T16:42:06.151Z"
      },
      {
        "duration": 5,
        "start_time": "2021-12-26T16:42:06.205Z"
      },
      {
        "duration": 8,
        "start_time": "2021-12-26T16:42:06.212Z"
      },
      {
        "duration": 32,
        "start_time": "2021-12-26T16:42:06.222Z"
      },
      {
        "duration": 37,
        "start_time": "2021-12-26T16:42:06.255Z"
      },
      {
        "duration": 702,
        "start_time": "2021-12-26T16:42:06.294Z"
      },
      {
        "duration": 4,
        "start_time": "2021-12-26T16:42:06.998Z"
      },
      {
        "duration": 22709,
        "start_time": "2021-12-26T16:42:07.004Z"
      },
      {
        "duration": 1312,
        "start_time": "2021-12-26T16:42:36.516Z"
      },
      {
        "duration": 52,
        "start_time": "2021-12-26T16:42:37.830Z"
      },
      {
        "duration": 24,
        "start_time": "2021-12-26T16:42:37.884Z"
      },
      {
        "duration": 11,
        "start_time": "2021-12-26T16:42:37.911Z"
      },
      {
        "duration": 15,
        "start_time": "2021-12-26T16:42:37.924Z"
      },
      {
        "duration": 55,
        "start_time": "2021-12-26T16:42:37.941Z"
      },
      {
        "duration": 15,
        "start_time": "2021-12-26T16:42:37.998Z"
      },
      {
        "duration": 13,
        "start_time": "2021-12-26T16:42:38.016Z"
      },
      {
        "duration": 17,
        "start_time": "2021-12-26T16:42:38.032Z"
      },
      {
        "duration": 1430,
        "start_time": "2021-12-26T16:42:38.051Z"
      },
      {
        "duration": 16,
        "start_time": "2021-12-26T16:42:39.482Z"
      },
      {
        "duration": 12,
        "start_time": "2021-12-26T16:42:39.500Z"
      },
      {
        "duration": 7,
        "start_time": "2021-12-26T16:42:39.514Z"
      },
      {
        "duration": 8,
        "start_time": "2021-12-26T16:42:39.523Z"
      },
      {
        "duration": 8,
        "start_time": "2021-12-26T16:42:39.532Z"
      },
      {
        "duration": 7,
        "start_time": "2021-12-26T16:42:39.542Z"
      },
      {
        "duration": 49,
        "start_time": "2021-12-26T16:42:39.550Z"
      },
      {
        "duration": 11,
        "start_time": "2021-12-26T16:42:39.601Z"
      },
      {
        "duration": 5,
        "start_time": "2021-12-26T16:42:39.614Z"
      },
      {
        "duration": 19,
        "start_time": "2021-12-26T16:42:39.621Z"
      },
      {
        "duration": 9,
        "start_time": "2021-12-26T16:42:39.642Z"
      },
      {
        "duration": 45,
        "start_time": "2021-12-26T16:42:39.652Z"
      },
      {
        "duration": 7,
        "start_time": "2021-12-26T16:42:39.700Z"
      },
      {
        "duration": 8,
        "start_time": "2021-12-26T16:42:39.709Z"
      },
      {
        "duration": 25,
        "start_time": "2021-12-26T16:42:39.718Z"
      },
      {
        "duration": 18,
        "start_time": "2021-12-26T16:42:39.744Z"
      },
      {
        "duration": 732,
        "start_time": "2021-12-26T16:42:39.764Z"
      },
      {
        "duration": 4,
        "start_time": "2021-12-26T16:42:40.498Z"
      },
      {
        "duration": 1301,
        "start_time": "2021-12-26T16:43:08.478Z"
      },
      {
        "duration": 52,
        "start_time": "2021-12-26T16:43:09.780Z"
      },
      {
        "duration": 23,
        "start_time": "2021-12-26T16:43:09.834Z"
      },
      {
        "duration": 11,
        "start_time": "2021-12-26T16:43:09.859Z"
      },
      {
        "duration": 30,
        "start_time": "2021-12-26T16:43:09.872Z"
      },
      {
        "duration": 21,
        "start_time": "2021-12-26T16:43:09.904Z"
      },
      {
        "duration": 12,
        "start_time": "2021-12-26T16:43:09.926Z"
      },
      {
        "duration": 10,
        "start_time": "2021-12-26T16:43:09.941Z"
      },
      {
        "duration": 44,
        "start_time": "2021-12-26T16:43:09.953Z"
      },
      {
        "duration": 1457,
        "start_time": "2021-12-26T16:43:09.999Z"
      },
      {
        "duration": 17,
        "start_time": "2021-12-26T16:43:11.458Z"
      },
      {
        "duration": 26,
        "start_time": "2021-12-26T16:43:11.476Z"
      },
      {
        "duration": 10,
        "start_time": "2021-12-26T16:43:11.503Z"
      },
      {
        "duration": 24,
        "start_time": "2021-12-26T16:43:11.515Z"
      },
      {
        "duration": 21,
        "start_time": "2021-12-26T16:43:11.541Z"
      },
      {
        "duration": 18,
        "start_time": "2021-12-26T16:43:11.564Z"
      },
      {
        "duration": 34,
        "start_time": "2021-12-26T16:43:11.584Z"
      },
      {
        "duration": 24,
        "start_time": "2021-12-26T16:43:11.620Z"
      },
      {
        "duration": 23,
        "start_time": "2021-12-26T16:43:11.646Z"
      },
      {
        "duration": 35,
        "start_time": "2021-12-26T16:43:11.670Z"
      },
      {
        "duration": 19,
        "start_time": "2021-12-26T16:43:11.707Z"
      },
      {
        "duration": 32,
        "start_time": "2021-12-26T16:43:11.728Z"
      },
      {
        "duration": 13,
        "start_time": "2021-12-26T16:43:11.764Z"
      },
      {
        "duration": 23,
        "start_time": "2021-12-26T16:43:11.779Z"
      },
      {
        "duration": 29,
        "start_time": "2021-12-26T16:43:11.804Z"
      },
      {
        "duration": 30,
        "start_time": "2021-12-26T16:43:11.835Z"
      },
      {
        "duration": 672,
        "start_time": "2021-12-26T16:43:11.866Z"
      },
      {
        "duration": 4,
        "start_time": "2021-12-26T16:43:12.541Z"
      },
      {
        "duration": 22318,
        "start_time": "2021-12-26T16:43:12.547Z"
      },
      {
        "duration": 20580,
        "start_time": "2021-12-26T16:43:34.866Z"
      },
      {
        "duration": 263,
        "start_time": "2021-12-26T16:43:55.447Z"
      },
      {
        "duration": 186,
        "start_time": "2021-12-26T16:43:55.712Z"
      },
      {
        "duration": 152,
        "start_time": "2021-12-26T16:43:55.900Z"
      },
      {
        "duration": 10,
        "start_time": "2021-12-26T16:43:56.053Z"
      },
      {
        "duration": 12,
        "start_time": "2021-12-26T16:43:56.064Z"
      },
      {
        "duration": 22,
        "start_time": "2021-12-26T16:43:56.092Z"
      },
      {
        "duration": 184,
        "start_time": "2021-12-26T16:43:56.116Z"
      },
      {
        "duration": 192,
        "start_time": "2021-12-26T16:43:56.302Z"
      },
      {
        "duration": 165,
        "start_time": "2021-12-26T16:43:56.496Z"
      },
      {
        "duration": 163,
        "start_time": "2021-12-26T16:43:56.663Z"
      },
      {
        "duration": 42,
        "start_time": "2021-12-26T16:45:39.492Z"
      },
      {
        "duration": 1014,
        "start_time": "2021-12-26T16:46:53.565Z"
      },
      {
        "duration": 1689,
        "start_time": "2021-12-26T16:47:50.626Z"
      },
      {
        "duration": 738,
        "start_time": "2021-12-26T16:48:08.589Z"
      },
      {
        "duration": 47,
        "start_time": "2021-12-26T16:49:22.607Z"
      },
      {
        "duration": 44,
        "start_time": "2021-12-26T16:50:12.105Z"
      },
      {
        "duration": 33,
        "start_time": "2021-12-26T16:50:19.108Z"
      },
      {
        "duration": 32,
        "start_time": "2021-12-26T16:50:41.826Z"
      },
      {
        "duration": 13,
        "start_time": "2021-12-26T16:51:18.123Z"
      },
      {
        "duration": 33,
        "start_time": "2021-12-26T16:51:49.747Z"
      },
      {
        "duration": 37,
        "start_time": "2021-12-26T16:51:57.983Z"
      },
      {
        "duration": 200,
        "start_time": "2021-12-26T17:03:13.086Z"
      },
      {
        "duration": 212,
        "start_time": "2021-12-26T17:07:08.079Z"
      },
      {
        "duration": 189,
        "start_time": "2021-12-26T17:07:30.451Z"
      },
      {
        "duration": 176,
        "start_time": "2021-12-26T17:08:10.791Z"
      },
      {
        "duration": 182,
        "start_time": "2021-12-26T17:08:35.736Z"
      },
      {
        "duration": 5616,
        "start_time": "2021-12-26T17:11:54.266Z"
      },
      {
        "duration": 860,
        "start_time": "2021-12-26T17:12:26.295Z"
      },
      {
        "duration": 146,
        "start_time": "2021-12-26T17:12:53.648Z"
      },
      {
        "duration": 203,
        "start_time": "2021-12-26T17:14:13.403Z"
      },
      {
        "duration": 208,
        "start_time": "2021-12-26T17:14:36.140Z"
      },
      {
        "duration": 211,
        "start_time": "2021-12-26T17:15:06.972Z"
      },
      {
        "duration": 185,
        "start_time": "2021-12-26T17:15:10.874Z"
      },
      {
        "duration": 248,
        "start_time": "2021-12-26T17:16:02.837Z"
      },
      {
        "duration": 182,
        "start_time": "2021-12-26T17:16:14.455Z"
      },
      {
        "duration": 4670,
        "start_time": "2021-12-26T17:17:52.986Z"
      },
      {
        "duration": 410,
        "start_time": "2021-12-26T17:18:11.873Z"
      },
      {
        "duration": 246,
        "start_time": "2021-12-26T17:19:10.001Z"
      },
      {
        "duration": 244,
        "start_time": "2021-12-26T17:19:43.260Z"
      },
      {
        "duration": 170,
        "start_time": "2021-12-26T17:20:30.376Z"
      },
      {
        "duration": 167,
        "start_time": "2021-12-26T17:20:50.967Z"
      },
      {
        "duration": 142,
        "start_time": "2021-12-26T17:21:41.697Z"
      },
      {
        "duration": 158,
        "start_time": "2021-12-26T17:23:05.833Z"
      },
      {
        "duration": 4957,
        "start_time": "2021-12-26T17:23:47.763Z"
      },
      {
        "duration": 5514,
        "start_time": "2021-12-26T17:24:41.199Z"
      },
      {
        "duration": 153,
        "start_time": "2021-12-26T17:25:01.208Z"
      },
      {
        "duration": 168,
        "start_time": "2021-12-26T17:25:10.293Z"
      },
      {
        "duration": 160,
        "start_time": "2021-12-26T17:26:11.038Z"
      },
      {
        "duration": 167,
        "start_time": "2021-12-26T17:26:35.871Z"
      },
      {
        "duration": 166,
        "start_time": "2021-12-26T17:27:02.857Z"
      },
      {
        "duration": 171,
        "start_time": "2021-12-26T17:27:13.701Z"
      },
      {
        "duration": 166,
        "start_time": "2021-12-26T17:28:16.009Z"
      },
      {
        "duration": 169,
        "start_time": "2021-12-26T17:28:33.190Z"
      },
      {
        "duration": 1411,
        "start_time": "2021-12-26T17:38:59.420Z"
      },
      {
        "duration": 152,
        "start_time": "2021-12-26T17:39:12.024Z"
      },
      {
        "duration": 141,
        "start_time": "2021-12-26T17:39:31.940Z"
      },
      {
        "duration": 176,
        "start_time": "2021-12-26T17:40:33.092Z"
      },
      {
        "duration": 288,
        "start_time": "2021-12-26T17:40:55.422Z"
      },
      {
        "duration": 169,
        "start_time": "2021-12-26T17:41:20.441Z"
      },
      {
        "duration": 170,
        "start_time": "2021-12-26T17:42:11.275Z"
      },
      {
        "duration": 186,
        "start_time": "2021-12-26T17:42:24.060Z"
      },
      {
        "duration": 1279,
        "start_time": "2021-12-27T04:10:45.721Z"
      },
      {
        "duration": 53,
        "start_time": "2021-12-27T04:10:47.002Z"
      },
      {
        "duration": 24,
        "start_time": "2021-12-27T04:10:47.057Z"
      },
      {
        "duration": 11,
        "start_time": "2021-12-27T04:10:47.091Z"
      },
      {
        "duration": 13,
        "start_time": "2021-12-27T04:10:47.104Z"
      },
      {
        "duration": 23,
        "start_time": "2021-12-27T04:10:47.119Z"
      },
      {
        "duration": 12,
        "start_time": "2021-12-27T04:10:47.144Z"
      },
      {
        "duration": 36,
        "start_time": "2021-12-27T04:10:47.158Z"
      },
      {
        "duration": 17,
        "start_time": "2021-12-27T04:10:47.196Z"
      },
      {
        "duration": 1407,
        "start_time": "2021-12-27T04:10:47.215Z"
      },
      {
        "duration": 18,
        "start_time": "2021-12-27T04:10:48.624Z"
      },
      {
        "duration": 13,
        "start_time": "2021-12-27T04:10:48.644Z"
      },
      {
        "duration": 33,
        "start_time": "2021-12-27T04:10:48.659Z"
      },
      {
        "duration": 10,
        "start_time": "2021-12-27T04:10:48.694Z"
      },
      {
        "duration": 9,
        "start_time": "2021-12-27T04:10:48.706Z"
      },
      {
        "duration": 7,
        "start_time": "2021-12-27T04:10:48.717Z"
      },
      {
        "duration": 22,
        "start_time": "2021-12-27T04:10:48.726Z"
      },
      {
        "duration": 13,
        "start_time": "2021-12-27T04:10:48.749Z"
      },
      {
        "duration": 31,
        "start_time": "2021-12-27T04:10:48.763Z"
      },
      {
        "duration": 17,
        "start_time": "2021-12-27T04:10:48.795Z"
      },
      {
        "duration": 6,
        "start_time": "2021-12-27T04:10:48.814Z"
      },
      {
        "duration": 19,
        "start_time": "2021-12-27T04:10:48.821Z"
      },
      {
        "duration": 6,
        "start_time": "2021-12-27T04:10:48.843Z"
      },
      {
        "duration": 7,
        "start_time": "2021-12-27T04:10:48.851Z"
      },
      {
        "duration": 20,
        "start_time": "2021-12-27T04:10:48.892Z"
      },
      {
        "duration": 29,
        "start_time": "2021-12-27T04:10:48.914Z"
      },
      {
        "duration": 56,
        "start_time": "2021-12-27T04:10:48.945Z"
      },
      {
        "duration": 689,
        "start_time": "2021-12-27T04:10:49.003Z"
      },
      {
        "duration": 4,
        "start_time": "2021-12-27T04:10:49.694Z"
      },
      {
        "duration": 21616,
        "start_time": "2021-12-27T04:10:49.700Z"
      },
      {
        "duration": 19994,
        "start_time": "2021-12-27T04:11:11.318Z"
      },
      {
        "duration": 273,
        "start_time": "2021-12-27T04:11:31.313Z"
      },
      {
        "duration": 185,
        "start_time": "2021-12-27T04:11:31.588Z"
      },
      {
        "duration": 155,
        "start_time": "2021-12-27T04:11:31.775Z"
      },
      {
        "duration": 10,
        "start_time": "2021-12-27T04:11:31.931Z"
      },
      {
        "duration": 13,
        "start_time": "2021-12-27T04:11:31.942Z"
      },
      {
        "duration": 41,
        "start_time": "2021-12-27T04:11:31.957Z"
      },
      {
        "duration": 166,
        "start_time": "2021-12-27T04:11:32.000Z"
      },
      {
        "duration": 177,
        "start_time": "2021-12-27T04:11:32.168Z"
      },
      {
        "duration": 161,
        "start_time": "2021-12-27T04:11:32.347Z"
      },
      {
        "duration": 174,
        "start_time": "2021-12-27T04:11:32.510Z"
      }
    ],
    "kernelspec": {
      "display_name": "Python 3 (ipykernel)",
      "language": "python",
      "name": "python3"
    },
    "language_info": {
      "codemirror_mode": {
        "name": "ipython",
        "version": 3
      },
      "file_extension": ".py",
      "mimetype": "text/x-python",
      "name": "python",
      "nbconvert_exporter": "python",
      "pygments_lexer": "ipython3",
      "version": "3.9.5"
    },
    "toc": {
      "base_numbering": 1,
      "nav_menu": {},
      "number_sections": true,
      "sideBar": true,
      "skip_h1_title": true,
      "title_cell": "Table of Contents",
      "title_sidebar": "Contents",
      "toc_cell": false,
      "toc_position": {},
      "toc_section_display": true,
      "toc_window_display": false
    },
    "colab": {
      "name": "3.ipynb",
      "provenance": []
    }
  },
  "nbformat": 4,
  "nbformat_minor": 0
}