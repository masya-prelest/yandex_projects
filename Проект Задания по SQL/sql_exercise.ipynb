{
  "cells": [
    {
      "cell_type": "markdown",
      "metadata": {
        "id": "HxjCK-_ml8zO"
      },
      "source": [
        "# Проект по SQL.  \n",
        "\n",
        "В данном проекте перед нам стоит задача проанализировать базу данных. В ней — информация о книгах, издательствах, авторах, а также пользовательские обзоры книг. Эти данные помогут сформулировать ценностное предложение для нового продукта.  \n",
        "\n",
        "## Подключение в базе данных.\n",
        "\n",
        "Загрузим необходимые библиотеки и подключимся к базе данных."
      ]
    },
    {
      "cell_type": "code",
      "execution_count": null,
      "metadata": {
        "id": "3HurcwzUl8zP"
      },
      "outputs": [],
      "source": [
        "# импортируем библиотеки\n",
        "import pandas as pd\n",
        "from sqlalchemy import create_engine\n",
        "# устанавливаем параметры\n",
        "db_config = {'user': 'praktikum_student', # имя пользователя\n",
        "'pwd': 'Sdf4$2;d-d30pp', # пароль\n",
        "'host': 'rc1b-wcoijxj3yxfsf3fs.mdb.yandexcloud.net',\n",
        "'port': 6432, # порт подключения\n",
        "'db': 'data-analyst-final-project-db'} # название базы данных\n",
        "connection_string = 'postgresql://{}:{}@{}:{}/{}'.format(db_config['user'],\n",
        " db_config['pwd'],\n",
        " db_config['host'],\n",
        " db_config['port'],\n",
        " db_config['db'])\n",
        "# сохраняем коннектор\n",
        "engine = create_engine(connection_string, connect_args={'sslmode':'require'})"
      ]
    },
    {
      "cell_type": "markdown",
      "metadata": {
        "id": "3z7qZ2Bsl8zQ"
      },
      "source": [
        "## Обзор таблиц.  \n",
        "\n",
        "Исследуем таблицы, выведем первые строки."
      ]
    },
    {
      "cell_type": "code",
      "execution_count": null,
      "metadata": {
        "id": "bYXnzIHvl8zQ",
        "outputId": "2e5138dd-b98a-4a14-f5c6-ba8d41a021dd"
      },
      "outputs": [
        {
          "data": {
            "text/html": [
              "<div>\n",
              "<style scoped>\n",
              "    .dataframe tbody tr th:only-of-type {\n",
              "        vertical-align: middle;\n",
              "    }\n",
              "\n",
              "    .dataframe tbody tr th {\n",
              "        vertical-align: top;\n",
              "    }\n",
              "\n",
              "    .dataframe thead th {\n",
              "        text-align: right;\n",
              "    }\n",
              "</style>\n",
              "<table border=\"1\" class=\"dataframe\">\n",
              "  <thead>\n",
              "    <tr style=\"text-align: right;\">\n",
              "      <th></th>\n",
              "      <th>book_id</th>\n",
              "      <th>author_id</th>\n",
              "      <th>title</th>\n",
              "      <th>num_pages</th>\n",
              "      <th>publication_date</th>\n",
              "      <th>publisher_id</th>\n",
              "    </tr>\n",
              "  </thead>\n",
              "  <tbody>\n",
              "    <tr>\n",
              "      <th>0</th>\n",
              "      <td>1</td>\n",
              "      <td>546</td>\n",
              "      <td>'Salem's Lot</td>\n",
              "      <td>594</td>\n",
              "      <td>2005-11-01</td>\n",
              "      <td>93</td>\n",
              "    </tr>\n",
              "  </tbody>\n",
              "</table>\n",
              "</div>"
            ],
            "text/plain": [
              "   book_id  author_id         title  num_pages publication_date  publisher_id\n",
              "0        1        546  'Salem's Lot        594       2005-11-01            93"
            ]
          },
          "execution_count": 2,
          "metadata": {},
          "output_type": "execute_result"
        }
      ],
      "source": [
        "query =('''\n",
        "    \n",
        "     SELECT *\n",
        "     FROM books\n",
        "     LIMIT 1\n",
        "\n",
        "''')\n",
        "\n",
        "pd.io.sql.read_sql(query, con = engine) "
      ]
    },
    {
      "cell_type": "code",
      "execution_count": null,
      "metadata": {
        "id": "a3JC-YoMl8zS",
        "outputId": "1eee90ef-bf2a-4632-e908-0184051206bb"
      },
      "outputs": [
        {
          "data": {
            "text/html": [
              "<div>\n",
              "<style scoped>\n",
              "    .dataframe tbody tr th:only-of-type {\n",
              "        vertical-align: middle;\n",
              "    }\n",
              "\n",
              "    .dataframe tbody tr th {\n",
              "        vertical-align: top;\n",
              "    }\n",
              "\n",
              "    .dataframe thead th {\n",
              "        text-align: right;\n",
              "    }\n",
              "</style>\n",
              "<table border=\"1\" class=\"dataframe\">\n",
              "  <thead>\n",
              "    <tr style=\"text-align: right;\">\n",
              "      <th></th>\n",
              "      <th>author_id</th>\n",
              "      <th>author</th>\n",
              "    </tr>\n",
              "  </thead>\n",
              "  <tbody>\n",
              "    <tr>\n",
              "      <th>0</th>\n",
              "      <td>1</td>\n",
              "      <td>A.S. Byatt</td>\n",
              "    </tr>\n",
              "  </tbody>\n",
              "</table>\n",
              "</div>"
            ],
            "text/plain": [
              "   author_id      author\n",
              "0          1  A.S. Byatt"
            ]
          },
          "execution_count": 3,
          "metadata": {},
          "output_type": "execute_result"
        }
      ],
      "source": [
        "query =('''\n",
        "    \n",
        "     SELECT *\n",
        "     FROM authors\n",
        "     LIMIT 1\n",
        "\n",
        "''')\n",
        "\n",
        "pd.io.sql.read_sql(query, con = engine) "
      ]
    },
    {
      "cell_type": "code",
      "execution_count": null,
      "metadata": {
        "id": "MnCvVNYPl8zS",
        "outputId": "46eb7a5d-f805-4705-cac8-25f5d4ed5711"
      },
      "outputs": [
        {
          "data": {
            "text/html": [
              "<div>\n",
              "<style scoped>\n",
              "    .dataframe tbody tr th:only-of-type {\n",
              "        vertical-align: middle;\n",
              "    }\n",
              "\n",
              "    .dataframe tbody tr th {\n",
              "        vertical-align: top;\n",
              "    }\n",
              "\n",
              "    .dataframe thead th {\n",
              "        text-align: right;\n",
              "    }\n",
              "</style>\n",
              "<table border=\"1\" class=\"dataframe\">\n",
              "  <thead>\n",
              "    <tr style=\"text-align: right;\">\n",
              "      <th></th>\n",
              "      <th>publisher_id</th>\n",
              "      <th>publisher</th>\n",
              "    </tr>\n",
              "  </thead>\n",
              "  <tbody>\n",
              "    <tr>\n",
              "      <th>0</th>\n",
              "      <td>1</td>\n",
              "      <td>Ace</td>\n",
              "    </tr>\n",
              "  </tbody>\n",
              "</table>\n",
              "</div>"
            ],
            "text/plain": [
              "   publisher_id publisher\n",
              "0             1       Ace"
            ]
          },
          "execution_count": 4,
          "metadata": {},
          "output_type": "execute_result"
        }
      ],
      "source": [
        "query =('''\n",
        "    \n",
        "     SELECT *\n",
        "     FROM publishers\n",
        "     LIMIT 1\n",
        "\n",
        "''')\n",
        "\n",
        "pd.io.sql.read_sql(query, con = engine) "
      ]
    },
    {
      "cell_type": "code",
      "execution_count": null,
      "metadata": {
        "id": "MEcuSyMml8zT",
        "outputId": "e0fc1c43-1e9f-45c8-91c3-06d7191fd1c2"
      },
      "outputs": [
        {
          "data": {
            "text/html": [
              "<div>\n",
              "<style scoped>\n",
              "    .dataframe tbody tr th:only-of-type {\n",
              "        vertical-align: middle;\n",
              "    }\n",
              "\n",
              "    .dataframe tbody tr th {\n",
              "        vertical-align: top;\n",
              "    }\n",
              "\n",
              "    .dataframe thead th {\n",
              "        text-align: right;\n",
              "    }\n",
              "</style>\n",
              "<table border=\"1\" class=\"dataframe\">\n",
              "  <thead>\n",
              "    <tr style=\"text-align: right;\">\n",
              "      <th></th>\n",
              "      <th>rating_id</th>\n",
              "      <th>book_id</th>\n",
              "      <th>username</th>\n",
              "      <th>rating</th>\n",
              "    </tr>\n",
              "  </thead>\n",
              "  <tbody>\n",
              "    <tr>\n",
              "      <th>0</th>\n",
              "      <td>1</td>\n",
              "      <td>1</td>\n",
              "      <td>ryanfranco</td>\n",
              "      <td>4</td>\n",
              "    </tr>\n",
              "  </tbody>\n",
              "</table>\n",
              "</div>"
            ],
            "text/plain": [
              "   rating_id  book_id    username  rating\n",
              "0          1        1  ryanfranco       4"
            ]
          },
          "execution_count": 5,
          "metadata": {},
          "output_type": "execute_result"
        }
      ],
      "source": [
        "query =('''\n",
        "    \n",
        "     SELECT *\n",
        "     FROM ratings\n",
        "     LIMIT 1\n",
        "\n",
        "''')\n",
        "\n",
        "pd.io.sql.read_sql(query, con = engine) "
      ]
    },
    {
      "cell_type": "code",
      "execution_count": null,
      "metadata": {
        "id": "op-Xo8x8l8zT",
        "outputId": "13c9a9db-0799-4e8c-bde8-1d0fdac48ea4"
      },
      "outputs": [
        {
          "data": {
            "text/html": [
              "<div>\n",
              "<style scoped>\n",
              "    .dataframe tbody tr th:only-of-type {\n",
              "        vertical-align: middle;\n",
              "    }\n",
              "\n",
              "    .dataframe tbody tr th {\n",
              "        vertical-align: top;\n",
              "    }\n",
              "\n",
              "    .dataframe thead th {\n",
              "        text-align: right;\n",
              "    }\n",
              "</style>\n",
              "<table border=\"1\" class=\"dataframe\">\n",
              "  <thead>\n",
              "    <tr style=\"text-align: right;\">\n",
              "      <th></th>\n",
              "      <th>review_id</th>\n",
              "      <th>book_id</th>\n",
              "      <th>username</th>\n",
              "      <th>text</th>\n",
              "    </tr>\n",
              "  </thead>\n",
              "  <tbody>\n",
              "    <tr>\n",
              "      <th>0</th>\n",
              "      <td>1</td>\n",
              "      <td>1</td>\n",
              "      <td>brandtandrea</td>\n",
              "      <td>Mention society tell send professor analysis. ...</td>\n",
              "    </tr>\n",
              "  </tbody>\n",
              "</table>\n",
              "</div>"
            ],
            "text/plain": [
              "   review_id  book_id      username  \\\n",
              "0          1        1  brandtandrea   \n",
              "\n",
              "                                                text  \n",
              "0  Mention society tell send professor analysis. ...  "
            ]
          },
          "execution_count": 6,
          "metadata": {},
          "output_type": "execute_result"
        }
      ],
      "source": [
        "query =('''\n",
        "    \n",
        "     SELECT *\n",
        "     FROM reviews\n",
        "     LIMIT 1\n",
        "\n",
        "''')\n",
        "\n",
        "pd.io.sql.read_sql(query, con = engine) "
      ]
    },
    {
      "cell_type": "markdown",
      "metadata": {
        "id": "b7S4P_J3l8zU"
      },
      "source": [
        "## Задания.\n",
        "\n",
        "### Задание 1\n",
        "\n",
        "__Посчитайте, сколько книг вышло после 1 января 2000 года.__"
      ]
    },
    {
      "cell_type": "code",
      "execution_count": null,
      "metadata": {
        "id": "d46uW0nEl8zU",
        "outputId": "eac9fd1f-0d96-40d4-9aae-b79998390c8f"
      },
      "outputs": [
        {
          "data": {
            "text/html": [
              "<div>\n",
              "<style scoped>\n",
              "    .dataframe tbody tr th:only-of-type {\n",
              "        vertical-align: middle;\n",
              "    }\n",
              "\n",
              "    .dataframe tbody tr th {\n",
              "        vertical-align: top;\n",
              "    }\n",
              "\n",
              "    .dataframe thead th {\n",
              "        text-align: right;\n",
              "    }\n",
              "</style>\n",
              "<table border=\"1\" class=\"dataframe\">\n",
              "  <thead>\n",
              "    <tr style=\"text-align: right;\">\n",
              "      <th></th>\n",
              "      <th>count</th>\n",
              "    </tr>\n",
              "  </thead>\n",
              "  <tbody>\n",
              "    <tr>\n",
              "      <th>0</th>\n",
              "      <td>819</td>\n",
              "    </tr>\n",
              "  </tbody>\n",
              "</table>\n",
              "</div>"
            ],
            "text/plain": [
              "   count\n",
              "0    819"
            ]
          },
          "execution_count": 7,
          "metadata": {},
          "output_type": "execute_result"
        }
      ],
      "source": [
        "query =('''\n",
        "    \n",
        "     SELECT COUNT(book_id)\n",
        "     FROM books\n",
        "     WHERE publication_date > '2000-01-01'\n",
        "\n",
        "''')\n",
        "\n",
        "pd.io.sql.read_sql(query, con = engine) "
      ]
    },
    {
      "cell_type": "markdown",
      "metadata": {
        "id": "DdIiJ2OQl8zV"
      },
      "source": [
        "После 1 января 2000 года вышло 819 книг.\n",
        "\n",
        "### Задание 2\n",
        "\n",
        "__Для каждой книги посчитайте количество обзоров и среднюю оценку.__\n"
      ]
    },
    {
      "cell_type": "code",
      "execution_count": null,
      "metadata": {
        "id": "wp_e5G6Ql8zV",
        "outputId": "7ef8c841-207e-48bc-edb0-e3792da81596"
      },
      "outputs": [
        {
          "data": {
            "text/html": [
              "<div>\n",
              "<style scoped>\n",
              "    .dataframe tbody tr th:only-of-type {\n",
              "        vertical-align: middle;\n",
              "    }\n",
              "\n",
              "    .dataframe tbody tr th {\n",
              "        vertical-align: top;\n",
              "    }\n",
              "\n",
              "    .dataframe thead th {\n",
              "        text-align: right;\n",
              "    }\n",
              "</style>\n",
              "<table border=\"1\" class=\"dataframe\">\n",
              "  <thead>\n",
              "    <tr style=\"text-align: right;\">\n",
              "      <th></th>\n",
              "      <th>title</th>\n",
              "      <th>count_review</th>\n",
              "      <th>avg_rating</th>\n",
              "    </tr>\n",
              "  </thead>\n",
              "  <tbody>\n",
              "    <tr>\n",
              "      <th>0</th>\n",
              "      <td>Twilight (Twilight  #1)</td>\n",
              "      <td>7</td>\n",
              "      <td>3.7</td>\n",
              "    </tr>\n",
              "    <tr>\n",
              "      <th>1</th>\n",
              "      <td>The Curious Incident of the Dog in the Night-Time</td>\n",
              "      <td>6</td>\n",
              "      <td>4.1</td>\n",
              "    </tr>\n",
              "    <tr>\n",
              "      <th>2</th>\n",
              "      <td>Harry Potter and the Chamber of Secrets (Harry...</td>\n",
              "      <td>6</td>\n",
              "      <td>4.3</td>\n",
              "    </tr>\n",
              "    <tr>\n",
              "      <th>3</th>\n",
              "      <td>The Da Vinci Code (Robert Langdon  #2)</td>\n",
              "      <td>6</td>\n",
              "      <td>3.8</td>\n",
              "    </tr>\n",
              "    <tr>\n",
              "      <th>4</th>\n",
              "      <td>The Glass Castle</td>\n",
              "      <td>6</td>\n",
              "      <td>4.2</td>\n",
              "    </tr>\n",
              "    <tr>\n",
              "      <th>...</th>\n",
              "      <td>...</td>\n",
              "      <td>...</td>\n",
              "      <td>...</td>\n",
              "    </tr>\n",
              "    <tr>\n",
              "      <th>995</th>\n",
              "      <td>The Cat in the Hat and Other Dr. Seuss Favorites</td>\n",
              "      <td>0</td>\n",
              "      <td>5.0</td>\n",
              "    </tr>\n",
              "    <tr>\n",
              "      <th>996</th>\n",
              "      <td>The Natural Way to Draw</td>\n",
              "      <td>0</td>\n",
              "      <td>3.0</td>\n",
              "    </tr>\n",
              "    <tr>\n",
              "      <th>997</th>\n",
              "      <td>Essential Tales and Poems</td>\n",
              "      <td>0</td>\n",
              "      <td>4.0</td>\n",
              "    </tr>\n",
              "    <tr>\n",
              "      <th>998</th>\n",
              "      <td>Leonardo's Notebooks</td>\n",
              "      <td>0</td>\n",
              "      <td>4.0</td>\n",
              "    </tr>\n",
              "    <tr>\n",
              "      <th>999</th>\n",
              "      <td>Anne Rice's The Vampire Lestat: A Graphic Novel</td>\n",
              "      <td>0</td>\n",
              "      <td>3.7</td>\n",
              "    </tr>\n",
              "  </tbody>\n",
              "</table>\n",
              "<p>1000 rows × 3 columns</p>\n",
              "</div>"
            ],
            "text/plain": [
              "                                                 title  count_review  \\\n",
              "0                              Twilight (Twilight  #1)             7   \n",
              "1    The Curious Incident of the Dog in the Night-Time             6   \n",
              "2    Harry Potter and the Chamber of Secrets (Harry...             6   \n",
              "3               The Da Vinci Code (Robert Langdon  #2)             6   \n",
              "4                                     The Glass Castle             6   \n",
              "..                                                 ...           ...   \n",
              "995   The Cat in the Hat and Other Dr. Seuss Favorites             0   \n",
              "996                            The Natural Way to Draw             0   \n",
              "997                          Essential Tales and Poems             0   \n",
              "998                               Leonardo's Notebooks             0   \n",
              "999    Anne Rice's The Vampire Lestat: A Graphic Novel             0   \n",
              "\n",
              "     avg_rating  \n",
              "0           3.7  \n",
              "1           4.1  \n",
              "2           4.3  \n",
              "3           3.8  \n",
              "4           4.2  \n",
              "..          ...  \n",
              "995         5.0  \n",
              "996         3.0  \n",
              "997         4.0  \n",
              "998         4.0  \n",
              "999         3.7  \n",
              "\n",
              "[1000 rows x 3 columns]"
            ]
          },
          "execution_count": 51,
          "metadata": {},
          "output_type": "execute_result"
        }
      ],
      "source": [
        "query =('''\n",
        "        SELECT a.title,\n",
        "               a.count_review,\n",
        "               b.avg_rating\n",
        "        FROM \n",
        "             (SELECT a.book_id,\n",
        "                     a.title,\n",
        "                     COUNT(b.review_id) AS count_review\n",
        "               FROM books AS a\n",
        "               LEFT JOIN reviews AS b ON a.book_id = b.book_id\n",
        "               GROUP BY a.book_id) AS a\n",
        "        LEFT JOIN (SELECT a.book_id,\n",
        "                          a.title,\n",
        "                          ROUND(AVG(b.rating),1) AS avg_rating\n",
        "                   FROM books AS a\n",
        "                   LEFT JOIN ratings AS b ON a.book_id = b.book_id\n",
        "                   GROUP BY a.book_id) AS b ON a.book_id = b.book_id\n",
        "        ORDER BY a.count_review DESC\n",
        "\n",
        "''')\n",
        "\n",
        "pd.io.sql.read_sql(query, con = engine) "
      ]
    },
    {
      "cell_type": "markdown",
      "metadata": {
        "id": "PLzshovUl8zX"
      },
      "source": [
        "Для каждой книги в таблице вывели количество обзоров и среднюю оценку.  \n",
        "\n",
        "### Задание 3. \n",
        "  \n",
        "__Определите издательство, которое выпустило наибольшее число книг толще 50 страниц — так вы исключите из анализа брошюры__"
      ]
    },
    {
      "cell_type": "code",
      "execution_count": null,
      "metadata": {
        "id": "4RHRlxnRl8zX",
        "outputId": "70c87fe1-275d-4936-cb7e-bfd4390e6237"
      },
      "outputs": [
        {
          "data": {
            "text/html": [
              "<div>\n",
              "<style scoped>\n",
              "    .dataframe tbody tr th:only-of-type {\n",
              "        vertical-align: middle;\n",
              "    }\n",
              "\n",
              "    .dataframe tbody tr th {\n",
              "        vertical-align: top;\n",
              "    }\n",
              "\n",
              "    .dataframe thead th {\n",
              "        text-align: right;\n",
              "    }\n",
              "</style>\n",
              "<table border=\"1\" class=\"dataframe\">\n",
              "  <thead>\n",
              "    <tr style=\"text-align: right;\">\n",
              "      <th></th>\n",
              "      <th>publisher</th>\n",
              "      <th>count</th>\n",
              "    </tr>\n",
              "  </thead>\n",
              "  <tbody>\n",
              "    <tr>\n",
              "      <th>0</th>\n",
              "      <td>Penguin Books</td>\n",
              "      <td>42</td>\n",
              "    </tr>\n",
              "  </tbody>\n",
              "</table>\n",
              "</div>"
            ],
            "text/plain": [
              "       publisher  count\n",
              "0  Penguin Books     42"
            ]
          },
          "execution_count": 9,
          "metadata": {},
          "output_type": "execute_result"
        }
      ],
      "source": [
        "query =('''\n",
        "    \n",
        "     SELECT a.publisher,\n",
        "            COUNT(b.book_id)\n",
        "     FROM publishers AS a\n",
        "     FULL OUTER JOIN books AS b ON a.publisher_id = b.publisher_id\n",
        "     WHERE (b.num_pages > 50) \n",
        "     GROUP BY a.publisher_id  \n",
        "     ORDER BY COUNT(b.book_id) DESC\n",
        "     LIMIT 1;\n",
        "     \n",
        "     \n",
        "\n",
        "''')\n",
        "\n",
        "pd.io.sql.read_sql(query, con = engine) "
      ]
    },
    {
      "cell_type": "markdown",
      "metadata": {
        "id": "i9mogbTil8zY"
      },
      "source": [
        "Издательство Penguin Books выпустило максимальное количество книг больше 50 страниц - 42 книги.  \n",
        "\n",
        "### Задание 4. \n",
        "  \n",
        "__Определите автора с самой высокой средней оценкой книг — учитывайте только книги с 50 и более оценками.__"
      ]
    },
    {
      "cell_type": "code",
      "execution_count": null,
      "metadata": {
        "id": "A0yFu97Hl8zY",
        "outputId": "ee4de406-e577-44d9-c6c5-3069b58bfc48"
      },
      "outputs": [
        {
          "data": {
            "text/html": [
              "<div>\n",
              "<style scoped>\n",
              "    .dataframe tbody tr th:only-of-type {\n",
              "        vertical-align: middle;\n",
              "    }\n",
              "\n",
              "    .dataframe tbody tr th {\n",
              "        vertical-align: top;\n",
              "    }\n",
              "\n",
              "    .dataframe thead th {\n",
              "        text-align: right;\n",
              "    }\n",
              "</style>\n",
              "<table border=\"1\" class=\"dataframe\">\n",
              "  <thead>\n",
              "    <tr style=\"text-align: right;\">\n",
              "      <th></th>\n",
              "      <th>author</th>\n",
              "    </tr>\n",
              "  </thead>\n",
              "  <tbody>\n",
              "    <tr>\n",
              "      <th>0</th>\n",
              "      <td>J.K. Rowling/Mary GrandPré</td>\n",
              "    </tr>\n",
              "  </tbody>\n",
              "</table>\n",
              "</div>"
            ],
            "text/plain": [
              "                       author\n",
              "0  J.K. Rowling/Mary GrandPré"
            ]
          },
          "execution_count": 30,
          "metadata": {},
          "output_type": "execute_result"
        }
      ],
      "source": [
        "query =('''\n",
        "\n",
        "     SELECT d.author\n",
        "     FROM\n",
        "         ( SELECT c.book_id AS book\n",
        "          FROM books AS b\n",
        "          LEFT JOIN ratings AS c ON b.book_id = c.book_id\n",
        "          GROUP BY c.book_id\n",
        "          HAVING COUNT(c.rating_id) >= 50 ) AS a\n",
        "     LEFT JOIN ratings AS b ON a.book = b.book_id\n",
        "     LEFT JOIN books AS c ON a.book = c.book_id\n",
        "     LEFT JOIN authors AS d ON c.author_id = d.author_id\n",
        "     GROUP BY d.author_id\n",
        "     ORDER BY AVG(b.rating) DESC\n",
        "     LIMIT 1;\n",
        "     \n",
        "     \n",
        "''')\n",
        "\n",
        "pd.io.sql.read_sql(query, con = engine) "
      ]
    },
    {
      "cell_type": "markdown",
      "metadata": {
        "id": "pQExuDUQl8zZ"
      },
      "source": [
        "Автор с самой высокой средней оценкой книг, среди книг с 50 и более оценками, J.K. Rowling/Mary GrandPré.  \n",
        "\n",
        "### Задание 5. \n",
        "\n",
        "__Посчитайте среднее количество обзоров от пользователей, которые поставили больше 50 оценок.__"
      ]
    },
    {
      "cell_type": "code",
      "execution_count": null,
      "metadata": {
        "id": "IAmg4ZNGl8zZ",
        "outputId": "804b7225-c205-433c-db3d-9f1b480ad875"
      },
      "outputs": [
        {
          "data": {
            "text/html": [
              "<div>\n",
              "<style scoped>\n",
              "    .dataframe tbody tr th:only-of-type {\n",
              "        vertical-align: middle;\n",
              "    }\n",
              "\n",
              "    .dataframe tbody tr th {\n",
              "        vertical-align: top;\n",
              "    }\n",
              "\n",
              "    .dataframe thead th {\n",
              "        text-align: right;\n",
              "    }\n",
              "</style>\n",
              "<table border=\"1\" class=\"dataframe\">\n",
              "  <thead>\n",
              "    <tr style=\"text-align: right;\">\n",
              "      <th></th>\n",
              "      <th>round</th>\n",
              "    </tr>\n",
              "  </thead>\n",
              "  <tbody>\n",
              "    <tr>\n",
              "      <th>0</th>\n",
              "      <td>24.3</td>\n",
              "    </tr>\n",
              "  </tbody>\n",
              "</table>\n",
              "</div>"
            ],
            "text/plain": [
              "   round\n",
              "0   24.3"
            ]
          },
          "execution_count": 40,
          "metadata": {},
          "output_type": "execute_result"
        }
      ],
      "source": [
        "query =('''\n",
        "\n",
        "SELECT ROUND(AVG(a.count_review), 1)\n",
        "FROM (SELECT username,\n",
        "              COUNT(review_id) AS count_review\n",
        "       FROM reviews \n",
        "       WHERE username IN (SELECT username\n",
        "                          FROM ratings\n",
        "                          GROUP BY username\n",
        "                          HAVING COUNT(rating_id) > 50)\n",
        "       GROUP BY username) AS a\n",
        "       \n",
        "\n",
        "''')\n",
        "\n",
        "pd.io.sql.read_sql(query, con = engine)"
      ]
    },
    {
      "cell_type": "markdown",
      "metadata": {
        "id": "tsutsDuXl8za"
      },
      "source": [
        "Среднее количество обзоров от пользователей, которые оставили более 50 оценок составляет 24,3 обзоров на пользователя."
      ]
    },
    {
      "cell_type": "code",
      "execution_count": null,
      "metadata": {
        "id": "EqW9GLHpl8zb"
      },
      "outputs": [],
      "source": [
        ""
      ]
    }
  ],
  "metadata": {
    "ExecuteTimeLog": [
      {
        "duration": 3720,
        "start_time": "2022-06-13T15:57:34.658Z"
      },
      {
        "duration": 26,
        "start_time": "2022-06-13T15:59:54.176Z"
      },
      {
        "duration": 375,
        "start_time": "2022-06-13T16:00:09.066Z"
      },
      {
        "duration": 125,
        "start_time": "2022-06-13T16:00:19.683Z"
      },
      {
        "duration": 32,
        "start_time": "2022-06-13T16:05:47.047Z"
      },
      {
        "duration": 84,
        "start_time": "2022-06-13T16:07:53.908Z"
      },
      {
        "duration": 89,
        "start_time": "2022-06-13T16:08:21.017Z"
      },
      {
        "duration": 80,
        "start_time": "2022-06-13T16:08:36.679Z"
      },
      {
        "duration": 87,
        "start_time": "2022-06-13T16:08:53.345Z"
      },
      {
        "duration": 85,
        "start_time": "2022-06-13T16:09:07.272Z"
      },
      {
        "duration": 210,
        "start_time": "2022-06-13T16:14:26.064Z"
      },
      {
        "duration": 137,
        "start_time": "2022-06-13T16:14:54.929Z"
      },
      {
        "duration": 130,
        "start_time": "2022-06-13T16:15:36.228Z"
      },
      {
        "duration": 100,
        "start_time": "2022-06-13T16:22:01.162Z"
      },
      {
        "duration": 117,
        "start_time": "2022-06-13T16:32:28.732Z"
      },
      {
        "duration": 122,
        "start_time": "2022-06-13T16:33:34.494Z"
      },
      {
        "duration": 109,
        "start_time": "2022-06-13T16:33:44.095Z"
      },
      {
        "duration": 86,
        "start_time": "2022-06-13T16:34:36.733Z"
      },
      {
        "duration": 110,
        "start_time": "2022-06-13T16:34:40.178Z"
      },
      {
        "duration": 119,
        "start_time": "2022-06-13T16:34:51.004Z"
      },
      {
        "duration": 125,
        "start_time": "2022-06-13T16:35:43.432Z"
      },
      {
        "duration": 128,
        "start_time": "2022-06-13T16:36:58.241Z"
      },
      {
        "duration": 109,
        "start_time": "2022-06-13T16:38:59.440Z"
      },
      {
        "duration": 128,
        "start_time": "2022-06-13T16:39:13.760Z"
      },
      {
        "duration": 157,
        "start_time": "2022-06-13T16:48:16.533Z"
      },
      {
        "duration": 200,
        "start_time": "2022-06-13T16:53:46.739Z"
      },
      {
        "duration": 175,
        "start_time": "2022-06-13T16:54:49.748Z"
      },
      {
        "duration": 208,
        "start_time": "2022-06-13T16:55:48.279Z"
      },
      {
        "duration": 198,
        "start_time": "2022-06-13T16:56:11.286Z"
      },
      {
        "duration": 179,
        "start_time": "2022-06-13T16:56:55.850Z"
      },
      {
        "duration": 116,
        "start_time": "2022-06-13T16:57:15.969Z"
      },
      {
        "duration": 255,
        "start_time": "2022-06-13T16:57:31.060Z"
      },
      {
        "duration": 227,
        "start_time": "2022-06-13T16:57:42.416Z"
      },
      {
        "duration": 114,
        "start_time": "2022-06-13T16:57:54.248Z"
      },
      {
        "duration": 144,
        "start_time": "2022-06-13T16:57:58.930Z"
      },
      {
        "duration": 122,
        "start_time": "2022-06-13T16:58:03.650Z"
      },
      {
        "duration": 142,
        "start_time": "2022-06-13T16:58:20.057Z"
      },
      {
        "duration": 108,
        "start_time": "2022-06-13T16:58:25.682Z"
      },
      {
        "duration": 173,
        "start_time": "2022-06-13T17:19:59.995Z"
      },
      {
        "duration": 140,
        "start_time": "2022-06-13T17:21:29.238Z"
      },
      {
        "duration": 99,
        "start_time": "2022-06-13T17:22:00.654Z"
      },
      {
        "duration": 102,
        "start_time": "2022-06-13T17:22:13.055Z"
      },
      {
        "duration": 138,
        "start_time": "2022-06-13T17:27:24.440Z"
      },
      {
        "duration": 151,
        "start_time": "2022-06-13T17:28:14.883Z"
      },
      {
        "duration": 142,
        "start_time": "2022-06-13T17:30:50.569Z"
      },
      {
        "duration": 123,
        "start_time": "2022-06-13T17:31:47.776Z"
      },
      {
        "duration": 120,
        "start_time": "2022-06-13T17:32:07.365Z"
      },
      {
        "duration": 93,
        "start_time": "2022-06-13T17:32:46.722Z"
      },
      {
        "duration": 95,
        "start_time": "2022-06-13T17:33:02.419Z"
      },
      {
        "duration": 87,
        "start_time": "2022-06-13T17:33:11.228Z"
      },
      {
        "duration": 160,
        "start_time": "2022-06-13T17:44:52.724Z"
      },
      {
        "duration": 119,
        "start_time": "2022-06-13T17:45:03.744Z"
      },
      {
        "duration": 120,
        "start_time": "2022-06-13T17:45:23.785Z"
      },
      {
        "duration": 140,
        "start_time": "2022-06-13T17:46:26.950Z"
      },
      {
        "duration": 123,
        "start_time": "2022-06-13T17:51:40.719Z"
      },
      {
        "duration": 107,
        "start_time": "2022-06-13T17:55:45.852Z"
      },
      {
        "duration": 102,
        "start_time": "2022-06-13T17:57:04.499Z"
      },
      {
        "duration": 124,
        "start_time": "2022-06-13T17:57:32.353Z"
      },
      {
        "duration": 110,
        "start_time": "2022-06-13T17:57:46.532Z"
      },
      {
        "duration": 107,
        "start_time": "2022-06-13T17:58:21.252Z"
      },
      {
        "duration": 111,
        "start_time": "2022-06-13T18:03:37.496Z"
      },
      {
        "duration": 106,
        "start_time": "2022-06-13T18:04:48.803Z"
      },
      {
        "duration": 105,
        "start_time": "2022-06-13T18:06:32.481Z"
      },
      {
        "duration": 114,
        "start_time": "2022-06-13T18:07:11.847Z"
      },
      {
        "duration": 102,
        "start_time": "2022-06-13T18:09:04.455Z"
      },
      {
        "duration": 142,
        "start_time": "2022-06-13T18:10:55.996Z"
      },
      {
        "duration": 105,
        "start_time": "2022-06-13T18:12:01.995Z"
      },
      {
        "duration": 108,
        "start_time": "2022-06-13T18:12:20.821Z"
      },
      {
        "duration": 121,
        "start_time": "2022-06-13T18:13:27.700Z"
      },
      {
        "duration": 115,
        "start_time": "2022-06-13T18:17:34.206Z"
      },
      {
        "duration": 114,
        "start_time": "2022-06-13T18:19:42.129Z"
      },
      {
        "duration": 171,
        "start_time": "2022-06-13T18:20:55.598Z"
      },
      {
        "duration": 114,
        "start_time": "2022-06-13T18:21:37.770Z"
      },
      {
        "duration": 106,
        "start_time": "2022-06-13T18:22:35.918Z"
      },
      {
        "duration": 100,
        "start_time": "2022-06-13T18:22:54.995Z"
      },
      {
        "duration": 168,
        "start_time": "2022-06-13T18:23:10.429Z"
      },
      {
        "duration": 100,
        "start_time": "2022-06-13T18:23:56.342Z"
      },
      {
        "duration": 101,
        "start_time": "2022-06-13T18:26:47.474Z"
      },
      {
        "duration": 97,
        "start_time": "2022-06-13T18:26:53.865Z"
      },
      {
        "duration": 99,
        "start_time": "2022-06-13T18:26:56.961Z"
      },
      {
        "duration": 513,
        "start_time": "2022-06-13T20:24:19.861Z"
      },
      {
        "duration": 63,
        "start_time": "2022-06-13T20:24:20.375Z"
      },
      {
        "duration": 11,
        "start_time": "2022-06-13T20:24:20.439Z"
      },
      {
        "duration": 14,
        "start_time": "2022-06-13T20:24:20.451Z"
      },
      {
        "duration": 11,
        "start_time": "2022-06-13T20:24:20.467Z"
      },
      {
        "duration": 11,
        "start_time": "2022-06-13T20:24:20.479Z"
      },
      {
        "duration": 10,
        "start_time": "2022-06-13T20:24:20.491Z"
      },
      {
        "duration": 27,
        "start_time": "2022-06-13T20:24:20.502Z"
      },
      {
        "duration": 12,
        "start_time": "2022-06-13T20:24:20.531Z"
      },
      {
        "duration": 14,
        "start_time": "2022-06-13T20:24:20.545Z"
      },
      {
        "duration": 33,
        "start_time": "2022-06-13T20:24:20.560Z"
      },
      {
        "duration": 24,
        "start_time": "2022-06-13T20:24:55.658Z"
      },
      {
        "duration": 25,
        "start_time": "2022-06-13T20:25:03.544Z"
      },
      {
        "duration": 25,
        "start_time": "2022-06-13T20:25:13.464Z"
      },
      {
        "duration": 23,
        "start_time": "2022-06-13T20:35:36.796Z"
      },
      {
        "duration": 15,
        "start_time": "2022-06-13T20:36:22.505Z"
      },
      {
        "duration": 110,
        "start_time": "2022-06-13T20:37:30.300Z"
      },
      {
        "duration": 14,
        "start_time": "2022-06-13T20:37:35.205Z"
      },
      {
        "duration": 65,
        "start_time": "2022-06-13T20:37:44.817Z"
      },
      {
        "duration": 14,
        "start_time": "2022-06-13T20:37:56.683Z"
      },
      {
        "duration": 43,
        "start_time": "2022-06-14T05:27:02.714Z"
      },
      {
        "duration": 497,
        "start_time": "2022-06-14T05:27:08.184Z"
      },
      {
        "duration": 247,
        "start_time": "2022-06-14T05:27:08.683Z"
      },
      {
        "duration": 71,
        "start_time": "2022-06-14T05:27:08.931Z"
      },
      {
        "duration": 70,
        "start_time": "2022-06-14T05:27:09.004Z"
      },
      {
        "duration": 71,
        "start_time": "2022-06-14T05:27:09.076Z"
      },
      {
        "duration": 71,
        "start_time": "2022-06-14T05:27:09.149Z"
      },
      {
        "duration": 70,
        "start_time": "2022-06-14T05:27:09.222Z"
      },
      {
        "duration": 104,
        "start_time": "2022-06-14T05:27:09.293Z"
      },
      {
        "duration": 72,
        "start_time": "2022-06-14T05:27:09.399Z"
      },
      {
        "duration": 76,
        "start_time": "2022-06-14T05:27:09.473Z"
      },
      {
        "duration": 95,
        "start_time": "2022-06-14T05:27:09.550Z"
      },
      {
        "duration": 106,
        "start_time": "2022-06-14T05:27:41.176Z"
      },
      {
        "duration": 106,
        "start_time": "2022-06-14T05:30:15.486Z"
      },
      {
        "duration": 69,
        "start_time": "2022-06-14T05:31:34.519Z"
      },
      {
        "duration": 105,
        "start_time": "2022-06-14T06:17:12.349Z"
      },
      {
        "duration": 114,
        "start_time": "2022-06-14T06:17:27.259Z"
      },
      {
        "duration": 74,
        "start_time": "2022-06-14T06:27:52.751Z"
      },
      {
        "duration": 90,
        "start_time": "2022-06-14T06:28:00.443Z"
      },
      {
        "duration": 25,
        "start_time": "2022-06-14T06:34:15.150Z"
      },
      {
        "duration": 550,
        "start_time": "2022-06-14T06:34:32.626Z"
      },
      {
        "duration": 253,
        "start_time": "2022-06-14T06:34:33.178Z"
      },
      {
        "duration": 70,
        "start_time": "2022-06-14T06:34:33.432Z"
      },
      {
        "duration": 69,
        "start_time": "2022-06-14T06:34:33.503Z"
      },
      {
        "duration": 72,
        "start_time": "2022-06-14T06:34:33.574Z"
      },
      {
        "duration": 72,
        "start_time": "2022-06-14T06:34:33.647Z"
      },
      {
        "duration": 72,
        "start_time": "2022-06-14T06:34:33.720Z"
      },
      {
        "duration": 105,
        "start_time": "2022-06-14T06:34:33.793Z"
      },
      {
        "duration": 72,
        "start_time": "2022-06-14T06:34:33.900Z"
      },
      {
        "duration": 4,
        "start_time": "2022-06-14T06:34:33.973Z"
      },
      {
        "duration": 0,
        "start_time": "2022-06-14T06:34:33.978Z"
      },
      {
        "duration": 0,
        "start_time": "2022-06-14T06:34:33.979Z"
      },
      {
        "duration": 0,
        "start_time": "2022-06-14T06:34:33.980Z"
      },
      {
        "duration": 168,
        "start_time": "2022-06-14T06:35:33.741Z"
      },
      {
        "duration": 230,
        "start_time": "2022-06-14T06:35:51.636Z"
      },
      {
        "duration": 110,
        "start_time": "2022-06-14T06:39:16.474Z"
      },
      {
        "duration": 137,
        "start_time": "2022-06-14T06:39:30.575Z"
      },
      {
        "duration": 111,
        "start_time": "2022-06-14T06:40:01.563Z"
      },
      {
        "duration": 114,
        "start_time": "2022-06-14T06:41:13.706Z"
      },
      {
        "duration": 101,
        "start_time": "2022-06-14T06:41:29.220Z"
      },
      {
        "duration": 94,
        "start_time": "2022-06-14T06:41:35.263Z"
      },
      {
        "duration": 101,
        "start_time": "2022-06-14T06:42:05.275Z"
      },
      {
        "duration": 72,
        "start_time": "2022-06-14T06:42:12.429Z"
      },
      {
        "duration": 140,
        "start_time": "2022-06-14T06:45:05.167Z"
      },
      {
        "duration": 100,
        "start_time": "2022-06-14T06:45:11.011Z"
      },
      {
        "duration": 99,
        "start_time": "2022-06-14T06:45:55.446Z"
      },
      {
        "duration": 118,
        "start_time": "2022-06-14T06:46:47.375Z"
      },
      {
        "duration": 269,
        "start_time": "2022-06-14T06:50:20.849Z"
      },
      {
        "duration": 101,
        "start_time": "2022-06-14T06:50:39.125Z"
      },
      {
        "duration": 101,
        "start_time": "2022-06-14T06:50:50.656Z"
      },
      {
        "duration": 111,
        "start_time": "2022-06-14T06:52:42.129Z"
      },
      {
        "duration": 77,
        "start_time": "2022-06-14T06:53:04.858Z"
      },
      {
        "duration": 74,
        "start_time": "2022-06-14T06:53:27.216Z"
      },
      {
        "duration": 94,
        "start_time": "2022-06-14T06:58:13.370Z"
      },
      {
        "duration": 139,
        "start_time": "2022-06-14T07:03:20.527Z"
      },
      {
        "duration": 82,
        "start_time": "2022-06-14T07:03:30.492Z"
      },
      {
        "duration": 77,
        "start_time": "2022-06-14T07:08:48.552Z"
      },
      {
        "duration": 137,
        "start_time": "2022-06-14T07:09:19.467Z"
      },
      {
        "duration": 137,
        "start_time": "2022-06-14T07:09:30.876Z"
      },
      {
        "duration": 107,
        "start_time": "2022-06-14T07:09:35.019Z"
      },
      {
        "duration": 74,
        "start_time": "2022-06-14T07:09:41.426Z"
      },
      {
        "duration": 71,
        "start_time": "2022-06-14T07:11:14.511Z"
      },
      {
        "duration": 75,
        "start_time": "2022-06-14T07:11:35.979Z"
      },
      {
        "duration": 97,
        "start_time": "2022-06-14T07:37:08.936Z"
      },
      {
        "duration": 111,
        "start_time": "2022-06-14T07:42:05.970Z"
      },
      {
        "duration": 111,
        "start_time": "2022-06-14T07:42:50.165Z"
      },
      {
        "duration": 113,
        "start_time": "2022-06-14T07:44:35.477Z"
      },
      {
        "duration": 115,
        "start_time": "2022-06-14T07:45:18.039Z"
      },
      {
        "duration": 115,
        "start_time": "2022-06-14T07:45:45.560Z"
      },
      {
        "duration": 100,
        "start_time": "2022-06-14T07:49:29.941Z"
      },
      {
        "duration": 101,
        "start_time": "2022-06-14T07:49:46.524Z"
      },
      {
        "duration": 102,
        "start_time": "2022-06-14T07:52:44.803Z"
      },
      {
        "duration": 103,
        "start_time": "2022-06-14T07:53:11.238Z"
      },
      {
        "duration": 100,
        "start_time": "2022-06-14T07:53:34.234Z"
      }
    ],
    "kernelspec": {
      "display_name": "Python 3 (ipykernel)",
      "language": "python",
      "name": "python3"
    },
    "language_info": {
      "codemirror_mode": {
        "name": "ipython",
        "version": 3
      },
      "file_extension": ".py",
      "mimetype": "text/x-python",
      "name": "python",
      "nbconvert_exporter": "python",
      "pygments_lexer": "ipython3",
      "version": "3.9.5"
    },
    "toc": {
      "base_numbering": 1,
      "nav_menu": {},
      "number_sections": true,
      "sideBar": true,
      "skip_h1_title": true,
      "title_cell": "Table of Contents",
      "title_sidebar": "Contents",
      "toc_cell": false,
      "toc_position": {},
      "toc_section_display": true,
      "toc_window_display": false
    },
    "colab": {
      "name": "3.ipynb",
      "provenance": []
    }
  },
  "nbformat": 4,
  "nbformat_minor": 0
}