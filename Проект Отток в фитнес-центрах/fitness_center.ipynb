{
  "cells": [
    {
      "cell_type": "markdown",
      "metadata": {
        "id": "BCnBkIXBSpA-"
      },
      "source": [
        "# Проектная работа \"Основы машинного обучения\".\n",
        "\n",
        "## Задача\n",
        "Сеть фитнес-центров «Культурист-датасаентист» разрабатывает стратегию взаимодействия с клиентами на основе аналитических данных.\n",
        "Необходимо:\n",
        "- научиться прогнозировать вероятность оттока (на уровне следующего месяца) для каждого клиента;\n",
        "- сформировать типичные портреты клиентов: выделить несколько наиболее ярких групп и охарактеризовать их основные свойства;\n",
        "- проанализировать основные признаки, наиболее сильно влияющие на отток;\n",
        "- сформулировать основные выводы и разработать рекомендации по повышению качества работы с клиентами:\n",
        "   - 1) выделить целевые группы клиентов;\n",
        "   - 2) предложить меры по снижению оттока;\n",
        "   - 3) определить другие особенности взаимодействия с клиентами.\n",
        "   \n",
        "### Шаг 1. Загрузим данные\n",
        "\n",
        "Импортируем необходимые для работы библиотеки."
      ]
    },
    {
      "cell_type": "code",
      "execution_count": null,
      "metadata": {
        "id": "lCFU3jo7SpA_"
      },
      "outputs": [],
      "source": [
        "import pandas as pd\n",
        "import seaborn as sns\n",
        "import matplotlib.pyplot as plt\n",
        "from sklearn.model_selection import train_test_split\n",
        "from sklearn.linear_model import LogisticRegression\n",
        "from sklearn.ensemble import RandomForestClassifier\n",
        "from sklearn.metrics import accuracy_score, precision_score, recall_score\n",
        "from sklearn.preprocessing import StandardScaler\n",
        "from scipy.cluster.hierarchy import dendrogram, linkage \n",
        "from sklearn.cluster import KMeans\n",
        "import itertools"
      ]
    },
    {
      "cell_type": "markdown",
      "metadata": {
        "id": "EO_0qjQ5SpBB"
      },
      "source": [
        "Загрузим данные из файла."
      ]
    },
    {
      "cell_type": "code",
      "execution_count": null,
      "metadata": {
        "id": "M4ZVtfbVSpBC",
        "outputId": "75d8363a-8f70-4310-b37d-43a5e2533d82"
      },
      "outputs": [
        {
          "data": {
            "text/html": [
              "<div>\n",
              "<style scoped>\n",
              "    .dataframe tbody tr th:only-of-type {\n",
              "        vertical-align: middle;\n",
              "    }\n",
              "\n",
              "    .dataframe tbody tr th {\n",
              "        vertical-align: top;\n",
              "    }\n",
              "\n",
              "    .dataframe thead th {\n",
              "        text-align: right;\n",
              "    }\n",
              "</style>\n",
              "<table border=\"1\" class=\"dataframe\">\n",
              "  <thead>\n",
              "    <tr style=\"text-align: right;\">\n",
              "      <th></th>\n",
              "      <th>gender</th>\n",
              "      <th>Near_Location</th>\n",
              "      <th>Partner</th>\n",
              "      <th>Promo_friends</th>\n",
              "      <th>Phone</th>\n",
              "      <th>Contract_period</th>\n",
              "      <th>Group_visits</th>\n",
              "      <th>Age</th>\n",
              "      <th>Avg_additional_charges_total</th>\n",
              "      <th>Month_to_end_contract</th>\n",
              "      <th>Lifetime</th>\n",
              "      <th>Avg_class_frequency_total</th>\n",
              "      <th>Avg_class_frequency_current_month</th>\n",
              "      <th>Churn</th>\n",
              "    </tr>\n",
              "  </thead>\n",
              "  <tbody>\n",
              "    <tr>\n",
              "      <th>0</th>\n",
              "      <td>1</td>\n",
              "      <td>1</td>\n",
              "      <td>1</td>\n",
              "      <td>1</td>\n",
              "      <td>0</td>\n",
              "      <td>6</td>\n",
              "      <td>1</td>\n",
              "      <td>29</td>\n",
              "      <td>14.227470</td>\n",
              "      <td>5.0</td>\n",
              "      <td>3</td>\n",
              "      <td>0.020398</td>\n",
              "      <td>0.000000</td>\n",
              "      <td>0</td>\n",
              "    </tr>\n",
              "    <tr>\n",
              "      <th>1</th>\n",
              "      <td>0</td>\n",
              "      <td>1</td>\n",
              "      <td>0</td>\n",
              "      <td>0</td>\n",
              "      <td>1</td>\n",
              "      <td>12</td>\n",
              "      <td>1</td>\n",
              "      <td>31</td>\n",
              "      <td>113.202938</td>\n",
              "      <td>12.0</td>\n",
              "      <td>7</td>\n",
              "      <td>1.922936</td>\n",
              "      <td>1.910244</td>\n",
              "      <td>0</td>\n",
              "    </tr>\n",
              "    <tr>\n",
              "      <th>2</th>\n",
              "      <td>0</td>\n",
              "      <td>1</td>\n",
              "      <td>1</td>\n",
              "      <td>0</td>\n",
              "      <td>1</td>\n",
              "      <td>1</td>\n",
              "      <td>0</td>\n",
              "      <td>28</td>\n",
              "      <td>129.448479</td>\n",
              "      <td>1.0</td>\n",
              "      <td>2</td>\n",
              "      <td>1.859098</td>\n",
              "      <td>1.736502</td>\n",
              "      <td>0</td>\n",
              "    </tr>\n",
              "    <tr>\n",
              "      <th>3</th>\n",
              "      <td>0</td>\n",
              "      <td>1</td>\n",
              "      <td>1</td>\n",
              "      <td>1</td>\n",
              "      <td>1</td>\n",
              "      <td>12</td>\n",
              "      <td>1</td>\n",
              "      <td>33</td>\n",
              "      <td>62.669863</td>\n",
              "      <td>12.0</td>\n",
              "      <td>2</td>\n",
              "      <td>3.205633</td>\n",
              "      <td>3.357215</td>\n",
              "      <td>0</td>\n",
              "    </tr>\n",
              "    <tr>\n",
              "      <th>4</th>\n",
              "      <td>1</td>\n",
              "      <td>1</td>\n",
              "      <td>1</td>\n",
              "      <td>1</td>\n",
              "      <td>1</td>\n",
              "      <td>1</td>\n",
              "      <td>0</td>\n",
              "      <td>26</td>\n",
              "      <td>198.362265</td>\n",
              "      <td>1.0</td>\n",
              "      <td>3</td>\n",
              "      <td>1.113884</td>\n",
              "      <td>1.120078</td>\n",
              "      <td>0</td>\n",
              "    </tr>\n",
              "  </tbody>\n",
              "</table>\n",
              "</div>"
            ],
            "text/plain": [
              "   gender  Near_Location  Partner  Promo_friends  Phone  Contract_period  \\\n",
              "0       1              1        1              1      0                6   \n",
              "1       0              1        0              0      1               12   \n",
              "2       0              1        1              0      1                1   \n",
              "3       0              1        1              1      1               12   \n",
              "4       1              1        1              1      1                1   \n",
              "\n",
              "   Group_visits  Age  Avg_additional_charges_total  Month_to_end_contract  \\\n",
              "0             1   29                     14.227470                    5.0   \n",
              "1             1   31                    113.202938                   12.0   \n",
              "2             0   28                    129.448479                    1.0   \n",
              "3             1   33                     62.669863                   12.0   \n",
              "4             0   26                    198.362265                    1.0   \n",
              "\n",
              "   Lifetime  Avg_class_frequency_total  Avg_class_frequency_current_month  \\\n",
              "0         3                   0.020398                           0.000000   \n",
              "1         7                   1.922936                           1.910244   \n",
              "2         2                   1.859098                           1.736502   \n",
              "3         2                   3.205633                           3.357215   \n",
              "4         3                   1.113884                           1.120078   \n",
              "\n",
              "   Churn  \n",
              "0      0  \n",
              "1      0  \n",
              "2      0  \n",
              "3      0  \n",
              "4      0  "
            ]
          },
          "execution_count": 2,
          "metadata": {},
          "output_type": "execute_result"
        }
      ],
      "source": [
        "data = pd.read_csv('/datasets/gym_churn.csv')\n",
        "\n",
        "data.head()"
      ]
    },
    {
      "cell_type": "markdown",
      "metadata": {
        "id": "vzLmTAQkSpBD"
      },
      "source": [
        "Мы получили таблицу с 13 признаками и 1 целевой переменной.  \n",
        "  \n",
        "Признаки:  \n",
        "`gender` — пол;  \n",
        "`Near_Location` — проживание или работа рядом с фитнес-центром;  \n",
        "`Partner` — сотрудник компании-партнёра клуба;  \n",
        "`Promo_friends` — пришел по акции «приведи друга»;  \n",
        "`Phone` — наличие контактного телефона;  \n",
        "`Age` — возраст;  \n",
        "`Lifetime` — время с момента первого обращения в фитнес-центр (в месяцах);  \n",
        "`Contract_period` — длительность текущего действующего абонемента;  \n",
        "`Month_to_end_contract` — срок до окончания текущего действующего абонемента (в месяцах);  \n",
        "`Group_visits` — факт посещения групповых занятий;  \n",
        "`Avg_class_frequency_total` — средняя частота посещений в неделю за все время с начала действия абонемента;  \n",
        "`Avg_class_frequency_current_month` — средняя частота посещений в неделю за предыдущий месяц;  \n",
        "`Avg_additional_charges_total` — суммарная выручка от других услуг фитнес-центра.  \n",
        "  \n",
        "Целевой показатель:  \n",
        "`Churn` — факт оттока в текущем месяце.  "
      ]
    },
    {
      "cell_type": "markdown",
      "metadata": {
        "id": "iOXhTrZLSpBD"
      },
      "source": [
        "### Шаг 2. Исследовательский анализ данных (EDA)\n",
        "\n",
        "Проверим наличие пропусков."
      ]
    },
    {
      "cell_type": "code",
      "execution_count": null,
      "metadata": {
        "id": "BHuUCXpCSpBD",
        "outputId": "a2a887d2-60a8-4709-95ae-044368bd32e1"
      },
      "outputs": [
        {
          "data": {
            "text/plain": [
              "gender                               0\n",
              "Near_Location                        0\n",
              "Partner                              0\n",
              "Promo_friends                        0\n",
              "Phone                                0\n",
              "Contract_period                      0\n",
              "Group_visits                         0\n",
              "Age                                  0\n",
              "Avg_additional_charges_total         0\n",
              "Month_to_end_contract                0\n",
              "Lifetime                             0\n",
              "Avg_class_frequency_total            0\n",
              "Avg_class_frequency_current_month    0\n",
              "Churn                                0\n",
              "dtype: int64"
            ]
          },
          "execution_count": 3,
          "metadata": {},
          "output_type": "execute_result"
        }
      ],
      "source": [
        "data.isna().sum()"
      ]
    },
    {
      "cell_type": "markdown",
      "metadata": {
        "id": "5aN6NlQLSpBE"
      },
      "source": [
        "Пропусков данных не обнаружили.\n",
        "\n",
        "Проверим наличие дубликатов."
      ]
    },
    {
      "cell_type": "code",
      "execution_count": null,
      "metadata": {
        "id": "xdOPacMtSpBE",
        "outputId": "5f4b126e-db97-4363-bf76-296b408bb8ee"
      },
      "outputs": [
        {
          "data": {
            "text/plain": [
              "0"
            ]
          },
          "execution_count": 4,
          "metadata": {},
          "output_type": "execute_result"
        }
      ],
      "source": [
        "data.duplicated().sum()"
      ]
    },
    {
      "cell_type": "markdown",
      "metadata": {
        "id": "nuxO3H-MSpBF"
      },
      "source": [
        "Дубликатов также не обнаружено.\n",
        "\n",
        "Изучим средние значения и стандартные отклонения для всех данных."
      ]
    },
    {
      "cell_type": "code",
      "execution_count": null,
      "metadata": {
        "id": "f9BO0x4bSpBF",
        "outputId": "a700e2e0-a246-4eac-aa41-efb4aa364460"
      },
      "outputs": [
        {
          "data": {
            "text/html": [
              "<div>\n",
              "<style scoped>\n",
              "    .dataframe tbody tr th:only-of-type {\n",
              "        vertical-align: middle;\n",
              "    }\n",
              "\n",
              "    .dataframe tbody tr th {\n",
              "        vertical-align: top;\n",
              "    }\n",
              "\n",
              "    .dataframe thead th {\n",
              "        text-align: right;\n",
              "    }\n",
              "</style>\n",
              "<table border=\"1\" class=\"dataframe\">\n",
              "  <thead>\n",
              "    <tr style=\"text-align: right;\">\n",
              "      <th></th>\n",
              "      <th>gender</th>\n",
              "      <th>Near_Location</th>\n",
              "      <th>Partner</th>\n",
              "      <th>Promo_friends</th>\n",
              "      <th>Phone</th>\n",
              "      <th>Contract_period</th>\n",
              "      <th>Group_visits</th>\n",
              "      <th>Age</th>\n",
              "      <th>Avg_additional_charges_total</th>\n",
              "      <th>Month_to_end_contract</th>\n",
              "      <th>Lifetime</th>\n",
              "      <th>Avg_class_frequency_total</th>\n",
              "      <th>Avg_class_frequency_current_month</th>\n",
              "      <th>Churn</th>\n",
              "    </tr>\n",
              "  </thead>\n",
              "  <tbody>\n",
              "    <tr>\n",
              "      <th>count</th>\n",
              "      <td>4000.000000</td>\n",
              "      <td>4000.000000</td>\n",
              "      <td>4000.000000</td>\n",
              "      <td>4000.000000</td>\n",
              "      <td>4000.000000</td>\n",
              "      <td>4000.000000</td>\n",
              "      <td>4000.000000</td>\n",
              "      <td>4000.000000</td>\n",
              "      <td>4000.000000</td>\n",
              "      <td>4000.000000</td>\n",
              "      <td>4000.000000</td>\n",
              "      <td>4000.000000</td>\n",
              "      <td>4000.000000</td>\n",
              "      <td>4000.000000</td>\n",
              "    </tr>\n",
              "    <tr>\n",
              "      <th>mean</th>\n",
              "      <td>0.510250</td>\n",
              "      <td>0.845250</td>\n",
              "      <td>0.486750</td>\n",
              "      <td>0.308500</td>\n",
              "      <td>0.903500</td>\n",
              "      <td>4.681250</td>\n",
              "      <td>0.412250</td>\n",
              "      <td>29.184250</td>\n",
              "      <td>146.943728</td>\n",
              "      <td>4.322750</td>\n",
              "      <td>3.724750</td>\n",
              "      <td>1.879020</td>\n",
              "      <td>1.767052</td>\n",
              "      <td>0.265250</td>\n",
              "    </tr>\n",
              "    <tr>\n",
              "      <th>std</th>\n",
              "      <td>0.499957</td>\n",
              "      <td>0.361711</td>\n",
              "      <td>0.499887</td>\n",
              "      <td>0.461932</td>\n",
              "      <td>0.295313</td>\n",
              "      <td>4.549706</td>\n",
              "      <td>0.492301</td>\n",
              "      <td>3.258367</td>\n",
              "      <td>96.355602</td>\n",
              "      <td>4.191297</td>\n",
              "      <td>3.749267</td>\n",
              "      <td>0.972245</td>\n",
              "      <td>1.052906</td>\n",
              "      <td>0.441521</td>\n",
              "    </tr>\n",
              "    <tr>\n",
              "      <th>min</th>\n",
              "      <td>0.000000</td>\n",
              "      <td>0.000000</td>\n",
              "      <td>0.000000</td>\n",
              "      <td>0.000000</td>\n",
              "      <td>0.000000</td>\n",
              "      <td>1.000000</td>\n",
              "      <td>0.000000</td>\n",
              "      <td>18.000000</td>\n",
              "      <td>0.148205</td>\n",
              "      <td>1.000000</td>\n",
              "      <td>0.000000</td>\n",
              "      <td>0.000000</td>\n",
              "      <td>0.000000</td>\n",
              "      <td>0.000000</td>\n",
              "    </tr>\n",
              "    <tr>\n",
              "      <th>25%</th>\n",
              "      <td>0.000000</td>\n",
              "      <td>1.000000</td>\n",
              "      <td>0.000000</td>\n",
              "      <td>0.000000</td>\n",
              "      <td>1.000000</td>\n",
              "      <td>1.000000</td>\n",
              "      <td>0.000000</td>\n",
              "      <td>27.000000</td>\n",
              "      <td>68.868830</td>\n",
              "      <td>1.000000</td>\n",
              "      <td>1.000000</td>\n",
              "      <td>1.180875</td>\n",
              "      <td>0.963003</td>\n",
              "      <td>0.000000</td>\n",
              "    </tr>\n",
              "    <tr>\n",
              "      <th>50%</th>\n",
              "      <td>1.000000</td>\n",
              "      <td>1.000000</td>\n",
              "      <td>0.000000</td>\n",
              "      <td>0.000000</td>\n",
              "      <td>1.000000</td>\n",
              "      <td>1.000000</td>\n",
              "      <td>0.000000</td>\n",
              "      <td>29.000000</td>\n",
              "      <td>136.220159</td>\n",
              "      <td>1.000000</td>\n",
              "      <td>3.000000</td>\n",
              "      <td>1.832768</td>\n",
              "      <td>1.719574</td>\n",
              "      <td>0.000000</td>\n",
              "    </tr>\n",
              "    <tr>\n",
              "      <th>75%</th>\n",
              "      <td>1.000000</td>\n",
              "      <td>1.000000</td>\n",
              "      <td>1.000000</td>\n",
              "      <td>1.000000</td>\n",
              "      <td>1.000000</td>\n",
              "      <td>6.000000</td>\n",
              "      <td>1.000000</td>\n",
              "      <td>31.000000</td>\n",
              "      <td>210.949625</td>\n",
              "      <td>6.000000</td>\n",
              "      <td>5.000000</td>\n",
              "      <td>2.536078</td>\n",
              "      <td>2.510336</td>\n",
              "      <td>1.000000</td>\n",
              "    </tr>\n",
              "    <tr>\n",
              "      <th>max</th>\n",
              "      <td>1.000000</td>\n",
              "      <td>1.000000</td>\n",
              "      <td>1.000000</td>\n",
              "      <td>1.000000</td>\n",
              "      <td>1.000000</td>\n",
              "      <td>12.000000</td>\n",
              "      <td>1.000000</td>\n",
              "      <td>41.000000</td>\n",
              "      <td>552.590740</td>\n",
              "      <td>12.000000</td>\n",
              "      <td>31.000000</td>\n",
              "      <td>6.023668</td>\n",
              "      <td>6.146783</td>\n",
              "      <td>1.000000</td>\n",
              "    </tr>\n",
              "  </tbody>\n",
              "</table>\n",
              "</div>"
            ],
            "text/plain": [
              "            gender  Near_Location      Partner  Promo_friends        Phone  \\\n",
              "count  4000.000000    4000.000000  4000.000000    4000.000000  4000.000000   \n",
              "mean      0.510250       0.845250     0.486750       0.308500     0.903500   \n",
              "std       0.499957       0.361711     0.499887       0.461932     0.295313   \n",
              "min       0.000000       0.000000     0.000000       0.000000     0.000000   \n",
              "25%       0.000000       1.000000     0.000000       0.000000     1.000000   \n",
              "50%       1.000000       1.000000     0.000000       0.000000     1.000000   \n",
              "75%       1.000000       1.000000     1.000000       1.000000     1.000000   \n",
              "max       1.000000       1.000000     1.000000       1.000000     1.000000   \n",
              "\n",
              "       Contract_period  Group_visits          Age  \\\n",
              "count      4000.000000   4000.000000  4000.000000   \n",
              "mean          4.681250      0.412250    29.184250   \n",
              "std           4.549706      0.492301     3.258367   \n",
              "min           1.000000      0.000000    18.000000   \n",
              "25%           1.000000      0.000000    27.000000   \n",
              "50%           1.000000      0.000000    29.000000   \n",
              "75%           6.000000      1.000000    31.000000   \n",
              "max          12.000000      1.000000    41.000000   \n",
              "\n",
              "       Avg_additional_charges_total  Month_to_end_contract     Lifetime  \\\n",
              "count                   4000.000000            4000.000000  4000.000000   \n",
              "mean                     146.943728               4.322750     3.724750   \n",
              "std                       96.355602               4.191297     3.749267   \n",
              "min                        0.148205               1.000000     0.000000   \n",
              "25%                       68.868830               1.000000     1.000000   \n",
              "50%                      136.220159               1.000000     3.000000   \n",
              "75%                      210.949625               6.000000     5.000000   \n",
              "max                      552.590740              12.000000    31.000000   \n",
              "\n",
              "       Avg_class_frequency_total  Avg_class_frequency_current_month  \\\n",
              "count                4000.000000                        4000.000000   \n",
              "mean                    1.879020                           1.767052   \n",
              "std                     0.972245                           1.052906   \n",
              "min                     0.000000                           0.000000   \n",
              "25%                     1.180875                           0.963003   \n",
              "50%                     1.832768                           1.719574   \n",
              "75%                     2.536078                           2.510336   \n",
              "max                     6.023668                           6.146783   \n",
              "\n",
              "             Churn  \n",
              "count  4000.000000  \n",
              "mean      0.265250  \n",
              "std       0.441521  \n",
              "min       0.000000  \n",
              "25%       0.000000  \n",
              "50%       0.000000  \n",
              "75%       1.000000  \n",
              "max       1.000000  "
            ]
          },
          "execution_count": 5,
          "metadata": {},
          "output_type": "execute_result"
        }
      ],
      "source": [
        "data.describe()"
      ]
    },
    {
      "cell_type": "markdown",
      "metadata": {
        "id": "DnBErlu9SpBG"
      },
      "source": [
        "Изучая данные, мы можем замеить, что:  \n",
        "- 84% посетителей клуба живут рядом;   \n",
        "- 48% работники компании партнера клуба;  \n",
        "- мужчин и женщин в клубе примерно поровну;  \n",
        "- только 30% пришли по акции \"приведи друга\";  \n",
        "- 90% оставили свой телефон;  \n",
        "- 41% посещает групповые заятия;  \n",
        "- средний возраст пользователей 29 лет, причем не большое стандартное отклонение равное 3, говорит о том, что разврос в возрасте не велик;  \n",
        "- лайфтайм пользователя 3,7 месяца, но учитывая большое стандартное отклонение, величина сильно колеблится, что не удивительно;  \n",
        "- такая же ситуация с количеством месяцев до конца абонимента, в среднем 4,32 месяца, но разброс очень велик;  \n",
        "- средняя частота посещения в неделю за все время - 1,88 раза;  \n",
        "- средняя частота посещенияв неделю за последний месяц - 1,77 раз;  \n",
        "- средняя выручка за иные услуги клуба 147 единиц в месяц, но опять же стандартное отклонение велико - 96, что означает, что кто-то платит в среднем 51, а кто-то 243;\n",
        "- и самое интересное - доля оттока в текущем месяце 26,5%.  \n",
        "  \n",
        "  \n",
        "Теперь рассмотрим эти же параметры, но с разбивкой по группам. Для тех кто ушел, и тех кто остался.\n"
      ]
    },
    {
      "cell_type": "code",
      "execution_count": null,
      "metadata": {
        "scrolled": false,
        "id": "dv8bl-aaSpBG",
        "outputId": "d794c8d8-000e-4021-c7c8-9c4a7629db5b"
      },
      "outputs": [
        {
          "data": {
            "text/html": [
              "<div>\n",
              "<style scoped>\n",
              "    .dataframe tbody tr th:only-of-type {\n",
              "        vertical-align: middle;\n",
              "    }\n",
              "\n",
              "    .dataframe tbody tr th {\n",
              "        vertical-align: top;\n",
              "    }\n",
              "\n",
              "    .dataframe thead tr th {\n",
              "        text-align: left;\n",
              "    }\n",
              "\n",
              "    .dataframe thead tr:last-of-type th {\n",
              "        text-align: right;\n",
              "    }\n",
              "</style>\n",
              "<table border=\"1\" class=\"dataframe\">\n",
              "  <thead>\n",
              "    <tr>\n",
              "      <th></th>\n",
              "      <th colspan=\"8\" halign=\"left\">gender</th>\n",
              "      <th colspan=\"8\" halign=\"left\">Near_Location</th>\n",
              "      <th colspan=\"8\" halign=\"left\">Partner</th>\n",
              "      <th colspan=\"8\" halign=\"left\">Promo_friends</th>\n",
              "      <th colspan=\"8\" halign=\"left\">Phone</th>\n",
              "      <th colspan=\"8\" halign=\"left\">Contract_period</th>\n",
              "      <th colspan=\"8\" halign=\"left\">Group_visits</th>\n",
              "      <th colspan=\"8\" halign=\"left\">Age</th>\n",
              "      <th colspan=\"8\" halign=\"left\">Avg_additional_charges_total</th>\n",
              "      <th colspan=\"8\" halign=\"left\">Month_to_end_contract</th>\n",
              "      <th colspan=\"8\" halign=\"left\">Lifetime</th>\n",
              "      <th colspan=\"8\" halign=\"left\">Avg_class_frequency_total</th>\n",
              "      <th colspan=\"8\" halign=\"left\">Avg_class_frequency_current_month</th>\n",
              "      <th colspan=\"8\" halign=\"left\">cluster_km</th>\n",
              "    </tr>\n",
              "    <tr>\n",
              "      <th></th>\n",
              "      <th>count</th>\n",
              "      <th>mean</th>\n",
              "      <th>std</th>\n",
              "      <th>min</th>\n",
              "      <th>25%</th>\n",
              "      <th>50%</th>\n",
              "      <th>75%</th>\n",
              "      <th>max</th>\n",
              "      <th>count</th>\n",
              "      <th>mean</th>\n",
              "      <th>std</th>\n",
              "      <th>min</th>\n",
              "      <th>25%</th>\n",
              "      <th>50%</th>\n",
              "      <th>75%</th>\n",
              "      <th>max</th>\n",
              "      <th>count</th>\n",
              "      <th>mean</th>\n",
              "      <th>std</th>\n",
              "      <th>min</th>\n",
              "      <th>25%</th>\n",
              "      <th>50%</th>\n",
              "      <th>75%</th>\n",
              "      <th>max</th>\n",
              "      <th>count</th>\n",
              "      <th>mean</th>\n",
              "      <th>std</th>\n",
              "      <th>min</th>\n",
              "      <th>25%</th>\n",
              "      <th>50%</th>\n",
              "      <th>75%</th>\n",
              "      <th>max</th>\n",
              "      <th>count</th>\n",
              "      <th>mean</th>\n",
              "      <th>std</th>\n",
              "      <th>min</th>\n",
              "      <th>25%</th>\n",
              "      <th>50%</th>\n",
              "      <th>75%</th>\n",
              "      <th>max</th>\n",
              "      <th>count</th>\n",
              "      <th>mean</th>\n",
              "      <th>std</th>\n",
              "      <th>min</th>\n",
              "      <th>25%</th>\n",
              "      <th>50%</th>\n",
              "      <th>75%</th>\n",
              "      <th>max</th>\n",
              "      <th>count</th>\n",
              "      <th>mean</th>\n",
              "      <th>std</th>\n",
              "      <th>min</th>\n",
              "      <th>25%</th>\n",
              "      <th>50%</th>\n",
              "      <th>75%</th>\n",
              "      <th>max</th>\n",
              "      <th>count</th>\n",
              "      <th>mean</th>\n",
              "      <th>std</th>\n",
              "      <th>min</th>\n",
              "      <th>25%</th>\n",
              "      <th>50%</th>\n",
              "      <th>75%</th>\n",
              "      <th>max</th>\n",
              "      <th>count</th>\n",
              "      <th>mean</th>\n",
              "      <th>std</th>\n",
              "      <th>min</th>\n",
              "      <th>25%</th>\n",
              "      <th>50%</th>\n",
              "      <th>75%</th>\n",
              "      <th>max</th>\n",
              "      <th>count</th>\n",
              "      <th>mean</th>\n",
              "      <th>std</th>\n",
              "      <th>min</th>\n",
              "      <th>25%</th>\n",
              "      <th>50%</th>\n",
              "      <th>75%</th>\n",
              "      <th>max</th>\n",
              "      <th>count</th>\n",
              "      <th>mean</th>\n",
              "      <th>std</th>\n",
              "      <th>min</th>\n",
              "      <th>25%</th>\n",
              "      <th>50%</th>\n",
              "      <th>75%</th>\n",
              "      <th>max</th>\n",
              "      <th>count</th>\n",
              "      <th>mean</th>\n",
              "      <th>std</th>\n",
              "      <th>min</th>\n",
              "      <th>25%</th>\n",
              "      <th>50%</th>\n",
              "      <th>75%</th>\n",
              "      <th>max</th>\n",
              "      <th>count</th>\n",
              "      <th>mean</th>\n",
              "      <th>std</th>\n",
              "      <th>min</th>\n",
              "      <th>25%</th>\n",
              "      <th>50%</th>\n",
              "      <th>75%</th>\n",
              "      <th>max</th>\n",
              "      <th>count</th>\n",
              "      <th>mean</th>\n",
              "      <th>std</th>\n",
              "      <th>min</th>\n",
              "      <th>25%</th>\n",
              "      <th>50%</th>\n",
              "      <th>75%</th>\n",
              "      <th>max</th>\n",
              "    </tr>\n",
              "    <tr>\n",
              "      <th>Churn</th>\n",
              "      <th></th>\n",
              "      <th></th>\n",
              "      <th></th>\n",
              "      <th></th>\n",
              "      <th></th>\n",
              "      <th></th>\n",
              "      <th></th>\n",
              "      <th></th>\n",
              "      <th></th>\n",
              "      <th></th>\n",
              "      <th></th>\n",
              "      <th></th>\n",
              "      <th></th>\n",
              "      <th></th>\n",
              "      <th></th>\n",
              "      <th></th>\n",
              "      <th></th>\n",
              "      <th></th>\n",
              "      <th></th>\n",
              "      <th></th>\n",
              "      <th></th>\n",
              "      <th></th>\n",
              "      <th></th>\n",
              "      <th></th>\n",
              "      <th></th>\n",
              "      <th></th>\n",
              "      <th></th>\n",
              "      <th></th>\n",
              "      <th></th>\n",
              "      <th></th>\n",
              "      <th></th>\n",
              "      <th></th>\n",
              "      <th></th>\n",
              "      <th></th>\n",
              "      <th></th>\n",
              "      <th></th>\n",
              "      <th></th>\n",
              "      <th></th>\n",
              "      <th></th>\n",
              "      <th></th>\n",
              "      <th></th>\n",
              "      <th></th>\n",
              "      <th></th>\n",
              "      <th></th>\n",
              "      <th></th>\n",
              "      <th></th>\n",
              "      <th></th>\n",
              "      <th></th>\n",
              "      <th></th>\n",
              "      <th></th>\n",
              "      <th></th>\n",
              "      <th></th>\n",
              "      <th></th>\n",
              "      <th></th>\n",
              "      <th></th>\n",
              "      <th></th>\n",
              "      <th></th>\n",
              "      <th></th>\n",
              "      <th></th>\n",
              "      <th></th>\n",
              "      <th></th>\n",
              "      <th></th>\n",
              "      <th></th>\n",
              "      <th></th>\n",
              "      <th></th>\n",
              "      <th></th>\n",
              "      <th></th>\n",
              "      <th></th>\n",
              "      <th></th>\n",
              "      <th></th>\n",
              "      <th></th>\n",
              "      <th></th>\n",
              "      <th></th>\n",
              "      <th></th>\n",
              "      <th></th>\n",
              "      <th></th>\n",
              "      <th></th>\n",
              "      <th></th>\n",
              "      <th></th>\n",
              "      <th></th>\n",
              "      <th></th>\n",
              "      <th></th>\n",
              "      <th></th>\n",
              "      <th></th>\n",
              "      <th></th>\n",
              "      <th></th>\n",
              "      <th></th>\n",
              "      <th></th>\n",
              "      <th></th>\n",
              "      <th></th>\n",
              "      <th></th>\n",
              "      <th></th>\n",
              "      <th></th>\n",
              "      <th></th>\n",
              "      <th></th>\n",
              "      <th></th>\n",
              "      <th></th>\n",
              "      <th></th>\n",
              "      <th></th>\n",
              "      <th></th>\n",
              "      <th></th>\n",
              "      <th></th>\n",
              "      <th></th>\n",
              "      <th></th>\n",
              "      <th></th>\n",
              "      <th></th>\n",
              "      <th></th>\n",
              "      <th></th>\n",
              "      <th></th>\n",
              "      <th></th>\n",
              "      <th></th>\n",
              "      <th></th>\n",
              "    </tr>\n",
              "  </thead>\n",
              "  <tbody>\n",
              "    <tr>\n",
              "      <th>0</th>\n",
              "      <td>2939.0</td>\n",
              "      <td>0.510037</td>\n",
              "      <td>0.499984</td>\n",
              "      <td>0.0</td>\n",
              "      <td>0.0</td>\n",
              "      <td>1.0</td>\n",
              "      <td>1.0</td>\n",
              "      <td>1.0</td>\n",
              "      <td>2939.0</td>\n",
              "      <td>0.873086</td>\n",
              "      <td>0.332933</td>\n",
              "      <td>0.0</td>\n",
              "      <td>1.0</td>\n",
              "      <td>1.0</td>\n",
              "      <td>1.0</td>\n",
              "      <td>1.0</td>\n",
              "      <td>2939.0</td>\n",
              "      <td>0.534195</td>\n",
              "      <td>0.498914</td>\n",
              "      <td>0.0</td>\n",
              "      <td>0.0</td>\n",
              "      <td>1.0</td>\n",
              "      <td>1.0</td>\n",
              "      <td>1.0</td>\n",
              "      <td>2939.0</td>\n",
              "      <td>0.353522</td>\n",
              "      <td>0.478144</td>\n",
              "      <td>0.0</td>\n",
              "      <td>0.0</td>\n",
              "      <td>0.0</td>\n",
              "      <td>1.0</td>\n",
              "      <td>1.0</td>\n",
              "      <td>2939.0</td>\n",
              "      <td>0.903709</td>\n",
              "      <td>0.295040</td>\n",
              "      <td>0.0</td>\n",
              "      <td>1.0</td>\n",
              "      <td>1.0</td>\n",
              "      <td>1.0</td>\n",
              "      <td>1.0</td>\n",
              "      <td>2939.0</td>\n",
              "      <td>5.747193</td>\n",
              "      <td>4.716942</td>\n",
              "      <td>1.0</td>\n",
              "      <td>1.0</td>\n",
              "      <td>6.0</td>\n",
              "      <td>12.0</td>\n",
              "      <td>12.0</td>\n",
              "      <td>2939.0</td>\n",
              "      <td>0.464103</td>\n",
              "      <td>0.498795</td>\n",
              "      <td>0.0</td>\n",
              "      <td>0.0</td>\n",
              "      <td>0.0</td>\n",
              "      <td>1.0</td>\n",
              "      <td>1.0</td>\n",
              "      <td>2939.0</td>\n",
              "      <td>29.976523</td>\n",
              "      <td>3.009933</td>\n",
              "      <td>19.0</td>\n",
              "      <td>28.0</td>\n",
              "      <td>30.0</td>\n",
              "      <td>32.0</td>\n",
              "      <td>41.0</td>\n",
              "      <td>2939.0</td>\n",
              "      <td>158.445715</td>\n",
              "      <td>99.801599</td>\n",
              "      <td>0.171862</td>\n",
              "      <td>76.920993</td>\n",
              "      <td>149.881171</td>\n",
              "      <td>224.448274</td>\n",
              "      <td>552.59074</td>\n",
              "      <td>2939.0</td>\n",
              "      <td>5.283089</td>\n",
              "      <td>4.363522</td>\n",
              "      <td>1.0</td>\n",
              "      <td>1.0</td>\n",
              "      <td>6.0</td>\n",
              "      <td>10.0</td>\n",
              "      <td>12.0</td>\n",
              "      <td>2939.0</td>\n",
              "      <td>4.711807</td>\n",
              "      <td>3.874780</td>\n",
              "      <td>0.0</td>\n",
              "      <td>2.0</td>\n",
              "      <td>4.0</td>\n",
              "      <td>6.0</td>\n",
              "      <td>31.0</td>\n",
              "      <td>2939.0</td>\n",
              "      <td>2.024876</td>\n",
              "      <td>1.016006</td>\n",
              "      <td>0.0</td>\n",
              "      <td>1.283137</td>\n",
              "      <td>2.043252</td>\n",
              "      <td>2.732944</td>\n",
              "      <td>6.023668</td>\n",
              "      <td>2939.0</td>\n",
              "      <td>2.027882</td>\n",
              "      <td>1.018994</td>\n",
              "      <td>0.0</td>\n",
              "      <td>1.297021</td>\n",
              "      <td>2.046697</td>\n",
              "      <td>2.740648</td>\n",
              "      <td>6.146783</td>\n",
              "      <td>2939.0</td>\n",
              "      <td>1.975842</td>\n",
              "      <td>1.644481</td>\n",
              "      <td>0.0</td>\n",
              "      <td>0.0</td>\n",
              "      <td>2.0</td>\n",
              "      <td>4.0</td>\n",
              "      <td>4.0</td>\n",
              "    </tr>\n",
              "    <tr>\n",
              "      <th>1</th>\n",
              "      <td>1061.0</td>\n",
              "      <td>0.510839</td>\n",
              "      <td>0.500118</td>\n",
              "      <td>0.0</td>\n",
              "      <td>0.0</td>\n",
              "      <td>1.0</td>\n",
              "      <td>1.0</td>\n",
              "      <td>1.0</td>\n",
              "      <td>1061.0</td>\n",
              "      <td>0.768143</td>\n",
              "      <td>0.422217</td>\n",
              "      <td>0.0</td>\n",
              "      <td>1.0</td>\n",
              "      <td>1.0</td>\n",
              "      <td>1.0</td>\n",
              "      <td>1.0</td>\n",
              "      <td>1061.0</td>\n",
              "      <td>0.355325</td>\n",
              "      <td>0.478837</td>\n",
              "      <td>0.0</td>\n",
              "      <td>0.0</td>\n",
              "      <td>0.0</td>\n",
              "      <td>1.0</td>\n",
              "      <td>1.0</td>\n",
              "      <td>1061.0</td>\n",
              "      <td>0.183789</td>\n",
              "      <td>0.387495</td>\n",
              "      <td>0.0</td>\n",
              "      <td>0.0</td>\n",
              "      <td>0.0</td>\n",
              "      <td>0.0</td>\n",
              "      <td>1.0</td>\n",
              "      <td>1061.0</td>\n",
              "      <td>0.902922</td>\n",
              "      <td>0.296204</td>\n",
              "      <td>0.0</td>\n",
              "      <td>1.0</td>\n",
              "      <td>1.0</td>\n",
              "      <td>1.0</td>\n",
              "      <td>1.0</td>\n",
              "      <td>1061.0</td>\n",
              "      <td>1.728558</td>\n",
              "      <td>2.132371</td>\n",
              "      <td>1.0</td>\n",
              "      <td>1.0</td>\n",
              "      <td>1.0</td>\n",
              "      <td>1.0</td>\n",
              "      <td>12.0</td>\n",
              "      <td>1061.0</td>\n",
              "      <td>0.268615</td>\n",
              "      <td>0.443448</td>\n",
              "      <td>0.0</td>\n",
              "      <td>0.0</td>\n",
              "      <td>0.0</td>\n",
              "      <td>1.0</td>\n",
              "      <td>1.0</td>\n",
              "      <td>1061.0</td>\n",
              "      <td>26.989632</td>\n",
              "      <td>2.895163</td>\n",
              "      <td>18.0</td>\n",
              "      <td>25.0</td>\n",
              "      <td>27.0</td>\n",
              "      <td>29.0</td>\n",
              "      <td>38.0</td>\n",
              "      <td>1061.0</td>\n",
              "      <td>115.082899</td>\n",
              "      <td>77.696419</td>\n",
              "      <td>0.148205</td>\n",
              "      <td>50.629127</td>\n",
              "      <td>103.814686</td>\n",
              "      <td>165.616858</td>\n",
              "      <td>425.53522</td>\n",
              "      <td>1061.0</td>\n",
              "      <td>1.662582</td>\n",
              "      <td>1.964593</td>\n",
              "      <td>1.0</td>\n",
              "      <td>1.0</td>\n",
              "      <td>1.0</td>\n",
              "      <td>1.0</td>\n",
              "      <td>12.0</td>\n",
              "      <td>1061.0</td>\n",
              "      <td>0.990575</td>\n",
              "      <td>1.110799</td>\n",
              "      <td>0.0</td>\n",
              "      <td>0.0</td>\n",
              "      <td>1.0</td>\n",
              "      <td>1.0</td>\n",
              "      <td>9.0</td>\n",
              "      <td>1061.0</td>\n",
              "      <td>1.474995</td>\n",
              "      <td>0.694705</td>\n",
              "      <td>0.0</td>\n",
              "      <td>1.010771</td>\n",
              "      <td>1.491187</td>\n",
              "      <td>1.956438</td>\n",
              "      <td>3.478646</td>\n",
              "      <td>1061.0</td>\n",
              "      <td>1.044546</td>\n",
              "      <td>0.770237</td>\n",
              "      <td>0.0</td>\n",
              "      <td>0.421337</td>\n",
              "      <td>0.979445</td>\n",
              "      <td>1.588576</td>\n",
              "      <td>3.540271</td>\n",
              "      <td>1061.0</td>\n",
              "      <td>2.569274</td>\n",
              "      <td>0.840125</td>\n",
              "      <td>0.0</td>\n",
              "      <td>2.0</td>\n",
              "      <td>3.0</td>\n",
              "      <td>3.0</td>\n",
              "      <td>4.0</td>\n",
              "    </tr>\n",
              "  </tbody>\n",
              "</table>\n",
              "</div>"
            ],
            "text/plain": [
              "       gender                                              Near_Location  \\\n",
              "        count      mean       std  min  25%  50%  75%  max         count   \n",
              "Churn                                                                      \n",
              "0      2939.0  0.510037  0.499984  0.0  0.0  1.0  1.0  1.0        2939.0   \n",
              "1      1061.0  0.510839  0.500118  0.0  0.0  1.0  1.0  1.0        1061.0   \n",
              "\n",
              "                                                   Partner            \\\n",
              "           mean       std  min  25%  50%  75%  max   count      mean   \n",
              "Churn                                                                  \n",
              "0      0.873086  0.332933  0.0  1.0  1.0  1.0  1.0  2939.0  0.534195   \n",
              "1      0.768143  0.422217  0.0  1.0  1.0  1.0  1.0  1061.0  0.355325   \n",
              "\n",
              "                                         Promo_friends                      \\\n",
              "            std  min  25%  50%  75%  max         count      mean       std   \n",
              "Churn                                                                        \n",
              "0      0.498914  0.0  0.0  1.0  1.0  1.0        2939.0  0.353522  0.478144   \n",
              "1      0.478837  0.0  0.0  0.0  1.0  1.0        1061.0  0.183789  0.387495   \n",
              "\n",
              "                                 Phone                                     \\\n",
              "       min  25%  50%  75%  max   count      mean       std  min  25%  50%   \n",
              "Churn                                                                       \n",
              "0      0.0  0.0  0.0  1.0  1.0  2939.0  0.903709  0.295040  0.0  1.0  1.0   \n",
              "1      0.0  0.0  0.0  0.0  1.0  1061.0  0.902922  0.296204  0.0  1.0  1.0   \n",
              "\n",
              "                Contract_period                                           \\\n",
              "       75%  max           count      mean       std  min  25%  50%   75%   \n",
              "Churn                                                                      \n",
              "0      1.0  1.0          2939.0  5.747193  4.716942  1.0  1.0  6.0  12.0   \n",
              "1      1.0  1.0          1061.0  1.728558  2.132371  1.0  1.0  1.0   1.0   \n",
              "\n",
              "            Group_visits                                                  Age  \\\n",
              "        max        count      mean       std  min  25%  50%  75%  max   count   \n",
              "Churn                                                                           \n",
              "0      12.0       2939.0  0.464103  0.498795  0.0  0.0  0.0  1.0  1.0  2939.0   \n",
              "1      12.0       1061.0  0.268615  0.443448  0.0  0.0  0.0  1.0  1.0  1061.0   \n",
              "\n",
              "                                                          \\\n",
              "            mean       std   min   25%   50%   75%   max   \n",
              "Churn                                                      \n",
              "0      29.976523  3.009933  19.0  28.0  30.0  32.0  41.0   \n",
              "1      26.989632  2.895163  18.0  25.0  27.0  29.0  38.0   \n",
              "\n",
              "      Avg_additional_charges_total                                   \\\n",
              "                             count        mean        std       min   \n",
              "Churn                                                                 \n",
              "0                           2939.0  158.445715  99.801599  0.171862   \n",
              "1                           1061.0  115.082899  77.696419  0.148205   \n",
              "\n",
              "                                                    Month_to_end_contract  \\\n",
              "             25%         50%         75%        max                 count   \n",
              "Churn                                                                       \n",
              "0      76.920993  149.881171  224.448274  552.59074                2939.0   \n",
              "1      50.629127  103.814686  165.616858  425.53522                1061.0   \n",
              "\n",
              "                                                     Lifetime            \\\n",
              "           mean       std  min  25%  50%   75%   max    count      mean   \n",
              "Churn                                                                     \n",
              "0      5.283089  4.363522  1.0  1.0  6.0  10.0  12.0   2939.0  4.711807   \n",
              "1      1.662582  1.964593  1.0  1.0  1.0   1.0  12.0   1061.0  0.990575   \n",
              "\n",
              "                                          Avg_class_frequency_total            \\\n",
              "            std  min  25%  50%  75%   max                     count      mean   \n",
              "Churn                                                                           \n",
              "0      3.874780  0.0  2.0  4.0  6.0  31.0                    2939.0  2.024876   \n",
              "1      1.110799  0.0  0.0  1.0  1.0   9.0                    1061.0  1.474995   \n",
              "\n",
              "                                                              \\\n",
              "            std  min       25%       50%       75%       max   \n",
              "Churn                                                          \n",
              "0      1.016006  0.0  1.283137  2.043252  2.732944  6.023668   \n",
              "1      0.694705  0.0  1.010771  1.491187  1.956438  3.478646   \n",
              "\n",
              "      Avg_class_frequency_current_month                                     \\\n",
              "                                  count      mean       std  min       25%   \n",
              "Churn                                                                        \n",
              "0                                2939.0  2.027882  1.018994  0.0  1.297021   \n",
              "1                                1061.0  1.044546  0.770237  0.0  0.421337   \n",
              "\n",
              "                                    cluster_km                                \\\n",
              "            50%       75%       max      count      mean       std  min  25%   \n",
              "Churn                                                                          \n",
              "0      2.046697  2.740648  6.146783     2939.0  1.975842  1.644481  0.0  0.0   \n",
              "1      0.979445  1.588576  3.540271     1061.0  2.569274  0.840125  0.0  2.0   \n",
              "\n",
              "                      \n",
              "       50%  75%  max  \n",
              "Churn                 \n",
              "0      2.0  4.0  4.0  \n",
              "1      3.0  3.0  4.0  "
            ]
          },
          "execution_count": 56,
          "metadata": {},
          "output_type": "execute_result"
        }
      ],
      "source": [
        "pd.set_option('display.max_columns', 500)\n",
        "data.groupby('Churn').describe()"
      ]
    },
    {
      "cell_type": "markdown",
      "metadata": {
        "id": "yWSPoY6tSpBH"
      },
      "source": [
        "Для тех кто ушел, ситуация такая:  \n",
        "- мужчин и женщин поровну;  \n",
        "- 76% проживали рядом с клубом;  \n",
        "- 35% работали в компании-партнере клуба;  \n",
        "- 18% пришли по акции \"приведи друга\";  \n",
        "- 90% указали свой номер телефона;  \n",
        "- 26% посещали групповые занятия;  \n",
        "- в среднем людям из этой группы 27 лет;  \n",
        "- лайфтайм 0,99 месяца со стандартным отклонением в 1, то есть новички;  \n",
        "- длительность текущего абонимента в среднем 1,73, а стандартное отклонение аж 2,13;\n",
        "- с месяцами до окончания абонимента аналогичная ситуация - среднее 1,66, а откнонение 1,96;  \n",
        "- среднее количество посещений за все время 1,47;  \n",
        "- среднее количество посещений в неделю за последний месяц 1,04, то есть стали ходить меньше;  \n",
        "- средняя выручка за иные услуги клуба 115 единиц."
      ]
    },
    {
      "cell_type": "markdown",
      "metadata": {
        "id": "0g9bfcn7SpBH"
      },
      "source": [
        "Для тех кто остался ситуация такая:  \n",
        "- мужчин и женщин поровну;  \n",
        "- 87% проживали рядом с клубом - побольше чем в группе ушедших, но не критично;  \n",
        "- 53% работали в компании-партнере клуба - а вот это уже интереснее 35 против 53;  \n",
        "- 35% пришли по акции \"приведи друга\" - тут тоже интересно 18 против 35;  \n",
        "- 90% указали свой номер телефона;  \n",
        "- 46% посещали групповые занятия - а из тех кто уше посещали занятия только 26%;  \n",
        "- в среднем людям из этой группы 30 лет - оставшиеся явно постарше;  \n",
        "- лайфтайм 4,71 месяца со стандартным отклонением в 4,9, то есть остаются и те, кто с нами давно, и те, кто пришел недавно;  \n",
        "- длительность текущего абонимента в среднем 5,7, если сравнить с ушедшими, то там всего 1,73;\n",
        "- с месяцами до окончания абонимента аналогичная ситуация - среднее 5,28, а у ушедших 1,66;  \n",
        "- среднее количество посещений за все время 2,02;  \n",
        "- среднее количество посещений в неделю за последний месяц 2,02, то есть меньше ходить в последний месяц не стали;  \n",
        "- средняя выручка за иные услуги клуба 158 единиц, что немного больше чем у ушедших.  \n",
        "  \n",
        "Теперь посмтроим для этих групп столбчатые гистограммы и распределения признаков, чтобы увидеть все наглядно.  "
      ]
    },
    {
      "cell_type": "markdown",
      "metadata": {
        "id": "0wtM90rGSpBH"
      },
      "source": [
        "<div class=\"alert alert-success\">\n",
        "<b>Комментарий ревьюера ✔️:</b>\n",
        "\n",
        "Аналитика просто отличная. Очень хорошо, что так подробно описываешь данные!\n",
        "</div>"
      ]
    },
    {
      "cell_type": "code",
      "execution_count": null,
      "metadata": {
        "scrolled": true,
        "id": "3e5U_GFXSpBI",
        "outputId": "cc80e29c-f3fa-4595-e8ae-434407045c16"
      },
      "outputs": [
        {
          "name": "stdout",
          "output_type": "stream",
          "text": [
            "gender\n"
          ]
        },
        {
          "data": {
            "image/png": "[encoded data removed]",
            "text/plain": [
              "<Figure size 360x360 with 1 Axes>"
            ]
          },
          "metadata": {
            "needs_background": "light"
          },
          "output_type": "display_data"
        },
        {
          "name": "stdout",
          "output_type": "stream",
          "text": [
            "Near_Location\n"
          ]
        },
        {
          "data": {
            "image/png": "[encoded data removed]",
            "text/plain": [
              "<Figure size 360x360 with 1 Axes>"
            ]
          },
          "metadata": {
            "needs_background": "light"
          },
          "output_type": "display_data"
        },
        {
          "name": "stdout",
          "output_type": "stream",
          "text": [
            "Partner\n"
          ]
        },
        {
          "data": {
            "image/png": "[encoded data removed]",
            "text/plain": [
              "<Figure size 360x360 with 1 Axes>"
            ]
          },
          "metadata": {
            "needs_background": "light"
          },
          "output_type": "display_data"
        },
        {
          "name": "stdout",
          "output_type": "stream",
          "text": [
            "Promo_friends\n"
          ]
        },
        {
          "data": {
            "image/png": "[encoded data removed]",
            "text/plain": [
              "<Figure size 360x360 with 1 Axes>"
            ]
          },
          "metadata": {
            "needs_background": "light"
          },
          "output_type": "display_data"
        },
        {
          "name": "stdout",
          "output_type": "stream",
          "text": [
            "Phone\n"
          ]
        },
        {
          "data": {
            "image/png": "[encoded data removed]",
            "text/plain": [
              "<Figure size 360x360 with 1 Axes>"
            ]
          },
          "metadata": {
            "needs_background": "light"
          },
          "output_type": "display_data"
        },
        {
          "name": "stdout",
          "output_type": "stream",
          "text": [
            "Contract_period\n"
          ]
        },
        {
          "data": {
            "image/png": "[encoded data removed]",
            "text/plain": [
              "<Figure size 360x360 with 1 Axes>"
            ]
          },
          "metadata": {
            "needs_background": "light"
          },
          "output_type": "display_data"
        },
        {
          "name": "stdout",
          "output_type": "stream",
          "text": [
            "Group_visits\n"
          ]
        },
        {
          "data": {
            "image/png": "[encoded data removed]",
            "text/plain": [
              "<Figure size 360x360 with 1 Axes>"
            ]
          },
          "metadata": {
            "needs_background": "light"
          },
          "output_type": "display_data"
        },
        {
          "name": "stdout",
          "output_type": "stream",
          "text": [
            "Age\n"
          ]
        },
        {
          "data": {
            "image/png": "[encoded data removed]",
            "text/plain": [
              "<Figure size 360x360 with 1 Axes>"
            ]
          },
          "metadata": {
            "needs_background": "light"
          },
          "output_type": "display_data"
        },
        {
          "name": "stdout",
          "output_type": "stream",
          "text": [
            "Avg_additional_charges_total\n"
          ]
        },
        {
          "data": {
            "image/png": "[encoded data removed]",
            "text/plain": [
              "<Figure size 360x360 with 1 Axes>"
            ]
          },
          "metadata": {
            "needs_background": "light"
          },
          "output_type": "display_data"
        },
        {
          "name": "stdout",
          "output_type": "stream",
          "text": [
            "Month_to_end_contract\n"
          ]
        },
        {
          "data": {
            "image/png": "[encoded data removed]",
            "text/plain": [
              "<Figure size 360x360 with 1 Axes>"
            ]
          },
          "metadata": {
            "needs_background": "light"
          },
          "output_type": "display_data"
        },
        {
          "name": "stdout",
          "output_type": "stream",
          "text": [
            "Lifetime\n"
          ]
        },
        {
          "data": {
            "image/png": "[encoded data removed]",
            "text/plain": [
              "<Figure size 360x360 with 1 Axes>"
            ]
          },
          "metadata": {
            "needs_background": "light"
          },
          "output_type": "display_data"
        },
        {
          "name": "stdout",
          "output_type": "stream",
          "text": [
            "Avg_class_frequency_total\n"
          ]
        },
        {
          "data": {
            "image/png": "[encoded data removed]",
            "text/plain": [
              "<Figure size 360x360 with 1 Axes>"
            ]
          },
          "metadata": {
            "needs_background": "light"
          },
          "output_type": "display_data"
        },
        {
          "name": "stdout",
          "output_type": "stream",
          "text": [
            "Avg_class_frequency_current_month\n"
          ]
        },
        {
          "data": {
            "image/png": "[encoded data removed]",
            "text/plain": [
              "<Figure size 360x360 with 1 Axes>"
            ]
          },
          "metadata": {
            "needs_background": "light"
          },
          "output_type": "display_data"
        },
        {
          "name": "stdout",
          "output_type": "stream",
          "text": [
            "Churn\n"
          ]
        },
        {
          "data": {
            "image/png": "[encoded data removed]",
            "text/plain": [
              "<Figure size 360x360 with 1 Axes>"
            ]
          },
          "metadata": {
            "needs_background": "light"
          },
          "output_type": "display_data"
        }
      ],
      "source": [
        "for col in data.columns:\n",
        "\n",
        "    print(col)\n",
        "\n",
        "    data.query('Churn == 0')[col].hist()\n",
        "    \n",
        "    data.query('Churn == 1')[col].hist(figsize=(5,5))\n",
        "    plt.legend(labels=['Остались', 'Ушли'])\n",
        "    plt.show()"
      ]
    },
    {
      "cell_type": "markdown",
      "metadata": {
        "id": "MvxKhdSRSpBJ"
      },
      "source": [
        "Исходя из полученных данных можем попробовать собрать портрет пользователя, который наиболее вероятно покинет клуб.  \n",
        "Покидающий клуб пользователь:  \n",
        "- работает не в компании партнере,  \n",
        "- пришел не по акции \"приведи друга\",  \n",
        "- имеет абонимент на 1 месяц,  \n",
        "- не посещает групповых занятий,  \n",
        "- имеет возраст примерно 27 лет,  \n",
        "- пришел в клуб менее 2х месяцев назад,  \n",
        "- за последний месяц стал посещать клуб меньше раз в неделю, чем за весь предыдущий период.   \n",
        "  \n",
        "Также мы заметили, что некоторые величины плотно связаны друг с другом, например, на какое количество месяцев взят абонимент и сколько месяцев осталось до его конца. И это логично.  \n",
        "Отобразим матрицу корреляции между признаками, чтобы наглядно увидеть все взяимосвязи.  "
      ]
    },
    {
      "cell_type": "code",
      "execution_count": null,
      "metadata": {
        "id": "93aMI_RLSpBJ",
        "outputId": "4293e345-1b58-47a9-850c-df68018b5045"
      },
      "outputs": [
        {
          "data": {
            "image/png": "[encoded data removed]",
            "text/plain": [
              "<Figure size 864x864 with 2 Axes>"
            ]
          },
          "metadata": {
            "needs_background": "light"
          },
          "output_type": "display_data"
        }
      ],
      "source": [
        "\n",
        "cm = data.corr() \n",
        "fig, ax = plt.subplots()\n",
        "\n",
        "sns.heatmap(cm, annot=True, square=True)\n",
        "\n",
        "\n",
        "fig.set_figheight(12) \n",
        "fig.set_figwidth(12)\n",
        "plt.show()"
      ]
    },
    {
      "cell_type": "markdown",
      "metadata": {
        "id": "-5uP0sEKSpBJ"
      },
      "source": [
        "Как и ожиладалось, связь сильная обнаружилась между признаками:  \n",
        "- \"длительность текущего действующего абонемента\" и \"срок до окончания текущего действующего абонемент\";  \n",
        "- \"средняя частота посещений в неделю за предыдущий месяц\" и \"средняя частота посещений в неделю за все время с начала действия абонемента\".  \n",
        "  \n",
        "Так же стоит обратить внимание на параметры:  \n",
        "- \"сотрудник компании-партнёра клуба\" и \"приход по акции «приведи друга»\".  \n",
        "Скорее всего сотрудники приходят сами и приглашают друзей.  \n",
        "\n",
        "А так же:\n",
        "- \"сотрудник компании-партнёра клуба\" и \"длительность текущего действующего абонемента\",  \n",
        "- \"сотрудник компании-партнёра клуба\" и \"срок до окончания текущего действующего абонемента\",  \n",
        "- \"приход по акции «приведи друга»\" и \"длительность текущего действующего абонемента\",  \n",
        "- \"приход по акции «приведи друга»\" и \"срок до окончания текущего действующего абонемента\".  \n",
        "На длительность абонимента явно хорошо влияет то, работает ли клиент в компании партнере/пришел по акции \"приведи друга\".  \n",
        "\n",
        "\n",
        "#### Вывод.\n",
        "На этом этапе мы изучили данные, обнаружили некоторые закономерности, теперь применим машинное обучение.\n"
      ]
    },
    {
      "cell_type": "markdown",
      "metadata": {
        "id": "RPi7J2XpSpBK"
      },
      "source": [
        "### Шаг 3. Построим модель прогнозирования оттока клиентов\n",
        "\n",
        "Построим модель бинарной классификации клиентов, где целевой признак — факт оттока клиента в следующем месяце.\n",
        "\n",
        "Разберем данные на обучающую и валидационную выборку функцией `train_test_split()`."
      ]
    },
    {
      "cell_type": "code",
      "execution_count": null,
      "metadata": {
        "id": "E49dNFjbSpBL"
      },
      "outputs": [],
      "source": [
        "X = data.drop('Churn', axis = 1)\n",
        "y = data['Churn']\n",
        "\n",
        "X_train, X_test, y_train, y_test = train_test_split(X, y, test_size=0.2, random_state=0)"
      ]
    },
    {
      "cell_type": "markdown",
      "metadata": {
        "id": "wSAXdS_3SpBL"
      },
      "source": [
        "Обучим модель на train-выборке двумя способами:\n",
        "- логистической регрессией - `lg_model`,\n",
        "- случайным лесом - `rf_model`."
      ]
    },
    {
      "cell_type": "code",
      "execution_count": null,
      "metadata": {
        "id": "yBLE2TodSpBL",
        "outputId": "f1c87478-538b-4799-b09c-66eebfd76fa0"
      },
      "outputs": [
        {
          "name": "stdout",
          "output_type": "stream",
          "text": [
            "Доля оттока\n",
            "Модель логистической регрессии 23.9%\n",
            "Модель случайного леса 24.1%\n"
          ]
        }
      ],
      "source": [
        "lg_model = LogisticRegression(solver='liblinear') \n",
        "lg_model.fit(X_train, y_train)\n",
        "lg_predictions = lg_model.predict(X_test)\n",
        "lg_probabilities = lg_model.predict_proba(X_test)[:, 1]\n",
        "\n",
        "\n",
        "\n",
        "rf_model = RandomForestClassifier(n_estimators = 100, random_state = 0)\n",
        "rf_model.fit(X_train, y_train)\n",
        "rf_predictions = rf_model.predict(X_test)\n",
        "rf_probabilities = rf_model.predict_proba(X_test)[:, 1]\n",
        "\n",
        "print('Доля оттока')\n",
        "print('Модель логистической регрессии', '{:0.1%}'.format(lg_predictions.mean()))\n",
        "print('Модель случайного леса', '{:0.1%}'.format(rf_predictions.mean()))\n",
        "\n"
      ]
    },
    {
      "cell_type": "markdown",
      "metadata": {
        "id": "Vk3fQ3-8SpBM"
      },
      "source": [
        "Значения похожи на правду, за текущий месяц отток был 26,5%. Модели сработали не плохо, хорошо бы сравнить, какая справиласьь лучше?\n",
        "\n",
        "Для этого оценим метрики `accuracy`, `precision` и `recall` для обеих моделей на валидационной выборке. "
      ]
    },
    {
      "cell_type": "code",
      "execution_count": null,
      "metadata": {
        "id": "I0VaaSruSpBM",
        "outputId": "1b3d526a-d50f-418e-bd1c-2af6afa4656f"
      },
      "outputs": [
        {
          "name": "stdout",
          "output_type": "stream",
          "text": [
            "Метрики для модели логистической регрессии:\n",
            "\tAccuracy: 0.93\n",
            "\tPrecision: 0.86\n",
            "\tRecall: 0.83\n",
            "Метрики для модели случайного леса:\n",
            "\tAccuracy: 0.92\n",
            "\tPrecision: 0.84\n",
            "\tRecall: 0.82\n"
          ]
        }
      ],
      "source": [
        "def print_all_metrics(y_true, y_pred, y_proba, title='Метрики классификации'):\n",
        "    print(title)\n",
        "    print('\\tAccuracy: {:.2f}'.format(accuracy_score(y_true, y_pred)))\n",
        "    print('\\tPrecision: {:.2f}'.format(precision_score(y_true, y_pred)))\n",
        "    print('\\tRecall: {:.2f}'.format(recall_score(y_true, y_pred)))\n",
        "   \n",
        "\n",
        "print_all_metrics(\n",
        "    y_test,\n",
        "    lg_predictions,\n",
        "    lg_probabilities, \n",
        "    title='Метрики для модели логистической регрессии:'\n",
        ")\n",
        "\n",
        "\n",
        "print_all_metrics(\n",
        "    y_test,\n",
        "    rf_predictions,\n",
        "    rf_probabilities, \n",
        "    title='Метрики для модели случайного леса:'\n",
        ")\n"
      ]
    },
    {
      "cell_type": "markdown",
      "metadata": {
        "id": "TH_R3A9VSpBN"
      },
      "source": [
        "Сравним модели:  \n",
        "Разница в метриках не велика, но модель логистической регресии в данном случае показала результаты чуть лучше.\n",
        "\n",
        "### Шаг 4. Выполним кластеризацию клиентов.\n",
        "\n",
        "Для начала стандартизируем данные:"
      ]
    },
    {
      "cell_type": "code",
      "execution_count": null,
      "metadata": {
        "id": "2jfPxrTpSpBN"
      },
      "outputs": [],
      "source": [
        "scaler = StandardScaler()\n",
        "scaler.fit(X)\n",
        "\n",
        "Xs_st =scaler.transform(X) "
      ]
    },
    {
      "cell_type": "markdown",
      "metadata": {
        "id": "9uAmq2rQSpBO"
      },
      "source": [
        "Построим матрицу расстояний функцией `linkage()` на стандартизованной матрице признаков и нарисуем дендрограмму."
      ]
    },
    {
      "cell_type": "code",
      "execution_count": null,
      "metadata": {
        "id": "f1uVzFaQSpBO",
        "outputId": "5237f2d2-fd0d-407c-f9b4-04b13e3a72cd"
      },
      "outputs": [
        {
          "data": {
            "image/png": "[encoded data removed]",
            "text/plain": [
              "<Figure size 1080x720 with 1 Axes>"
            ]
          },
          "metadata": {
            "needs_background": "light"
          },
          "output_type": "display_data"
        }
      ],
      "source": [
        "linked = linkage(Xs_st, method = 'ward')\n",
        "\n",
        "plt.figure(figsize=(15, 10))  \n",
        "dendrogram(linked, orientation='top')\n",
        "plt.title('Hierarchial clustering')\n",
        "plt.show()"
      ]
    },
    {
      "cell_type": "markdown",
      "metadata": {
        "id": "ji_XyeY_SpBO"
      },
      "source": [
        "Согласно дендрограмме предположительное оптимальное количество кластеров - 4, так как на дендрограмме 4 цвета. Фиолетовый кластер самый многочисленный, а зеленый напротив самый малочисленный.\n",
        "\n",
        "Обучим модель кластеризации на основании алгоритма K-Means.  \n",
        "По заданию предложено взять количество кластеров равное 5 для того, чтобы результаты не отличались."
      ]
    },
    {
      "cell_type": "code",
      "execution_count": null,
      "metadata": {
        "id": "ZhSBHp3uSpBO"
      },
      "outputs": [],
      "source": [
        "km = KMeans(n_clusters=5, random_state=0)\n",
        "labels = km.fit_predict(Xs_st)\n",
        "\n",
        "data['cluster_km'] = labels"
      ]
    },
    {
      "cell_type": "markdown",
      "metadata": {
        "id": "H3-kWtcySpBP"
      },
      "source": [
        "Рассмотрим на средние значения признаков для кластеров."
      ]
    },
    {
      "cell_type": "code",
      "execution_count": null,
      "metadata": {
        "id": "rQUKxRY1SpBP",
        "outputId": "c8f6852c-217a-40f0-d378-271e9e37b793"
      },
      "outputs": [
        {
          "data": {
            "text/html": [
              "<div>\n",
              "<style scoped>\n",
              "    .dataframe tbody tr th:only-of-type {\n",
              "        vertical-align: middle;\n",
              "    }\n",
              "\n",
              "    .dataframe tbody tr th {\n",
              "        vertical-align: top;\n",
              "    }\n",
              "\n",
              "    .dataframe thead th {\n",
              "        text-align: right;\n",
              "    }\n",
              "</style>\n",
              "<table border=\"1\" class=\"dataframe\">\n",
              "  <thead>\n",
              "    <tr style=\"text-align: right;\">\n",
              "      <th></th>\n",
              "      <th>gender</th>\n",
              "      <th>Near_Location</th>\n",
              "      <th>Partner</th>\n",
              "      <th>Promo_friends</th>\n",
              "      <th>Phone</th>\n",
              "      <th>Contract_period</th>\n",
              "      <th>Group_visits</th>\n",
              "      <th>Age</th>\n",
              "      <th>Avg_additional_charges_total</th>\n",
              "      <th>Month_to_end_contract</th>\n",
              "      <th>Lifetime</th>\n",
              "      <th>Avg_class_frequency_total</th>\n",
              "      <th>Avg_class_frequency_current_month</th>\n",
              "      <th>Churn</th>\n",
              "    </tr>\n",
              "    <tr>\n",
              "      <th>cluster_km</th>\n",
              "      <th></th>\n",
              "      <th></th>\n",
              "      <th></th>\n",
              "      <th></th>\n",
              "      <th></th>\n",
              "      <th></th>\n",
              "      <th></th>\n",
              "      <th></th>\n",
              "      <th></th>\n",
              "      <th></th>\n",
              "      <th></th>\n",
              "      <th></th>\n",
              "      <th></th>\n",
              "      <th></th>\n",
              "    </tr>\n",
              "  </thead>\n",
              "  <tbody>\n",
              "    <tr>\n",
              "      <th>0</th>\n",
              "      <td>0.502970</td>\n",
              "      <td>0.959406</td>\n",
              "      <td>0.783168</td>\n",
              "      <td>0.574257</td>\n",
              "      <td>1.000000</td>\n",
              "      <td>10.889109</td>\n",
              "      <td>0.542574</td>\n",
              "      <td>29.982178</td>\n",
              "      <td>160.761016</td>\n",
              "      <td>9.954455</td>\n",
              "      <td>4.736634</td>\n",
              "      <td>1.982055</td>\n",
              "      <td>1.974789</td>\n",
              "      <td>0.027723</td>\n",
              "    </tr>\n",
              "    <tr>\n",
              "      <th>1</th>\n",
              "      <td>0.522078</td>\n",
              "      <td>0.862338</td>\n",
              "      <td>0.470130</td>\n",
              "      <td>0.306494</td>\n",
              "      <td>0.000000</td>\n",
              "      <td>4.787013</td>\n",
              "      <td>0.425974</td>\n",
              "      <td>29.301299</td>\n",
              "      <td>143.957664</td>\n",
              "      <td>4.475325</td>\n",
              "      <td>3.924675</td>\n",
              "      <td>1.847220</td>\n",
              "      <td>1.716369</td>\n",
              "      <td>0.267532</td>\n",
              "    </tr>\n",
              "    <tr>\n",
              "      <th>2</th>\n",
              "      <td>0.495050</td>\n",
              "      <td>0.000000</td>\n",
              "      <td>0.463366</td>\n",
              "      <td>0.079208</td>\n",
              "      <td>1.000000</td>\n",
              "      <td>2.352475</td>\n",
              "      <td>0.215842</td>\n",
              "      <td>28.477228</td>\n",
              "      <td>135.457501</td>\n",
              "      <td>2.198020</td>\n",
              "      <td>2.809901</td>\n",
              "      <td>1.660461</td>\n",
              "      <td>1.477324</td>\n",
              "      <td>0.443564</td>\n",
              "    </tr>\n",
              "    <tr>\n",
              "      <th>3</th>\n",
              "      <td>0.485737</td>\n",
              "      <td>1.000000</td>\n",
              "      <td>0.350238</td>\n",
              "      <td>0.240095</td>\n",
              "      <td>1.000000</td>\n",
              "      <td>1.948494</td>\n",
              "      <td>0.341521</td>\n",
              "      <td>28.167987</td>\n",
              "      <td>131.622204</td>\n",
              "      <td>1.856577</td>\n",
              "      <td>2.440571</td>\n",
              "      <td>1.247634</td>\n",
              "      <td>1.012983</td>\n",
              "      <td>0.514263</td>\n",
              "    </tr>\n",
              "    <tr>\n",
              "      <th>4</th>\n",
              "      <td>0.559666</td>\n",
              "      <td>0.976134</td>\n",
              "      <td>0.356802</td>\n",
              "      <td>0.230310</td>\n",
              "      <td>0.998807</td>\n",
              "      <td>2.669451</td>\n",
              "      <td>0.473747</td>\n",
              "      <td>30.125298</td>\n",
              "      <td>161.657905</td>\n",
              "      <td>2.459427</td>\n",
              "      <td>4.898568</td>\n",
              "      <td>2.852002</td>\n",
              "      <td>2.850161</td>\n",
              "      <td>0.068019</td>\n",
              "    </tr>\n",
              "  </tbody>\n",
              "</table>\n",
              "</div>"
            ],
            "text/plain": [
              "              gender  Near_Location   Partner  Promo_friends     Phone  \\\n",
              "cluster_km                                                               \n",
              "0           0.502970       0.959406  0.783168       0.574257  1.000000   \n",
              "1           0.522078       0.862338  0.470130       0.306494  0.000000   \n",
              "2           0.495050       0.000000  0.463366       0.079208  1.000000   \n",
              "3           0.485737       1.000000  0.350238       0.240095  1.000000   \n",
              "4           0.559666       0.976134  0.356802       0.230310  0.998807   \n",
              "\n",
              "            Contract_period  Group_visits        Age  \\\n",
              "cluster_km                                             \n",
              "0                 10.889109      0.542574  29.982178   \n",
              "1                  4.787013      0.425974  29.301299   \n",
              "2                  2.352475      0.215842  28.477228   \n",
              "3                  1.948494      0.341521  28.167987   \n",
              "4                  2.669451      0.473747  30.125298   \n",
              "\n",
              "            Avg_additional_charges_total  Month_to_end_contract  Lifetime  \\\n",
              "cluster_km                                                                  \n",
              "0                             160.761016               9.954455  4.736634   \n",
              "1                             143.957664               4.475325  3.924675   \n",
              "2                             135.457501               2.198020  2.809901   \n",
              "3                             131.622204               1.856577  2.440571   \n",
              "4                             161.657905               2.459427  4.898568   \n",
              "\n",
              "            Avg_class_frequency_total  Avg_class_frequency_current_month  \\\n",
              "cluster_km                                                                 \n",
              "0                            1.982055                           1.974789   \n",
              "1                            1.847220                           1.716369   \n",
              "2                            1.660461                           1.477324   \n",
              "3                            1.247634                           1.012983   \n",
              "4                            2.852002                           2.850161   \n",
              "\n",
              "               Churn  \n",
              "cluster_km            \n",
              "0           0.027723  \n",
              "1           0.267532  \n",
              "2           0.443564  \n",
              "3           0.514263  \n",
              "4           0.068019  "
            ]
          },
          "execution_count": 17,
          "metadata": {},
          "output_type": "execute_result"
        }
      ],
      "source": [
        "data.groupby('cluster_km').mean()"
      ]
    },
    {
      "cell_type": "markdown",
      "metadata": {
        "id": "TcOTIW_4SpBP"
      },
      "source": [
        "Что можно заметить?  \n",
        "- мужчин и женщин во всех кластерах примерно равное количество;  \n",
        "- в кластере 2 нет клиентов проживающих рядом с клубом, зато в остальных кластерах таких достаточно высокий процент, в 3, например, абсолютно все;  \n",
        "- в 0 кластере самый большой процент клиентов из компаний партнеров;  \n",
        "- в кластере 2 очень мало клиентов пришедших по акции \"приведи друга\";  \n",
        "- в кластер 1 попали практически все пользователи не оставившие свой телефон;  \n",
        "- возраст между кластерами распределен примерно равномерно;  \n",
        "- в кластер 0 попали клиенты с самыми длинными абониментами, средний срок тут 10,8 месяца;  \n",
        "- аналогично и для параметра \"срок до окончания текущего действующего абонемента\" - в 0 кластере самый большой показатель;  \n",
        "- параментры \"Contract_period\", \"Lifetime\", \"Avg_additional_charges_total\" не имеют каких-то ярких черт;\n",
        "- а вот по количеству раз посещения клуба в неделю можно отметить, что клиенты из кластера 4 ходят чаще других - почти 3 раза в неделю. Также стоит замерить что для 1, 2 и 3 кластеров посещение за последний месяц несколько сократилось;  \n",
        "- и самое главное - факт оттока - больше всего клиентов ушло из 2 и 3 кластеров, зато 0 и 4 остались в клубе практически полностью.    \n",
        "\n",
        "Из увиденного можно сделать вывод, что если клиент не работает в компании партнере или не пришел по акции \"приведи друга\", состоит в клубе менее 2 месяцев и срок его текущего абонимента не более 2 месяцев, а также за последний месяц он стал реже посещать зал, то скорее всего, он с большой долей вероятности попадет в отток.  \n",
        "  \n",
        "  \n",
        "Построим распределения признаков для кластеров."
      ]
    },
    {
      "cell_type": "code",
      "execution_count": null,
      "metadata": {
        "scrolled": true,
        "id": "Kq8obEqdSpBP",
        "outputId": "6dfc49ac-7103-4852-ce32-da4ec09b4f40"
      },
      "outputs": [
        {
          "name": "stdout",
          "output_type": "stream",
          "text": [
            "gender\n"
          ]
        },
        {
          "data": {
            "image/png": "[encoded data removed]",
            "text/plain": [
              "<Figure size 360x360 with 1 Axes>"
            ]
          },
          "metadata": {
            "needs_background": "light"
          },
          "output_type": "display_data"
        },
        {
          "name": "stdout",
          "output_type": "stream",
          "text": [
            "Near_Location\n"
          ]
        },
        {
          "data": {
            "image/png": "[encoded data removed]",
            "text/plain": [
              "<Figure size 360x360 with 1 Axes>"
            ]
          },
          "metadata": {
            "needs_background": "light"
          },
          "output_type": "display_data"
        },
        {
          "name": "stdout",
          "output_type": "stream",
          "text": [
            "Partner\n"
          ]
        },
        {
          "data": {
            "image/png": "[encoded data removed]",
            "text/plain": [
              "<Figure size 360x360 with 1 Axes>"
            ]
          },
          "metadata": {
            "needs_background": "light"
          },
          "output_type": "display_data"
        },
        {
          "name": "stdout",
          "output_type": "stream",
          "text": [
            "Promo_friends\n"
          ]
        },
        {
          "data": {
            "image/png": "[encoded data removed]",
            "text/plain": [
              "<Figure size 360x360 with 1 Axes>"
            ]
          },
          "metadata": {
            "needs_background": "light"
          },
          "output_type": "display_data"
        },
        {
          "name": "stdout",
          "output_type": "stream",
          "text": [
            "Phone\n"
          ]
        },
        {
          "data": {
            "image/png": "[encoded data removed]",
            "text/plain": [
              "<Figure size 360x360 with 1 Axes>"
            ]
          },
          "metadata": {
            "needs_background": "light"
          },
          "output_type": "display_data"
        },
        {
          "name": "stdout",
          "output_type": "stream",
          "text": [
            "Contract_period\n"
          ]
        },
        {
          "data": {
            "image/png": "[encoded data removed]",
            "text/plain": [
              "<Figure size 360x360 with 1 Axes>"
            ]
          },
          "metadata": {
            "needs_background": "light"
          },
          "output_type": "display_data"
        },
        {
          "name": "stdout",
          "output_type": "stream",
          "text": [
            "Group_visits\n"
          ]
        },
        {
          "data": {
            "image/png": "[encoded data removed]",
            "text/plain": [
              "<Figure size 360x360 with 1 Axes>"
            ]
          },
          "metadata": {
            "needs_background": "light"
          },
          "output_type": "display_data"
        },
        {
          "name": "stdout",
          "output_type": "stream",
          "text": [
            "Age\n"
          ]
        },
        {
          "data": {
            "image/png": "[encoded data removed]",
            "text/plain": [
              "<Figure size 360x360 with 1 Axes>"
            ]
          },
          "metadata": {
            "needs_background": "light"
          },
          "output_type": "display_data"
        },
        {
          "name": "stdout",
          "output_type": "stream",
          "text": [
            "Avg_additional_charges_total\n"
          ]
        },
        {
          "data": {
            "image/png": "[encoded data removed]",
            "text/plain": [
              "<Figure size 360x360 with 1 Axes>"
            ]
          },
          "metadata": {
            "needs_background": "light"
          },
          "output_type": "display_data"
        },
        {
          "name": "stdout",
          "output_type": "stream",
          "text": [
            "Month_to_end_contract\n"
          ]
        },
        {
          "data": {
            "image/png": "[encoded data removed]",
            "text/plain": [
              "<Figure size 360x360 with 1 Axes>"
            ]
          },
          "metadata": {
            "needs_background": "light"
          },
          "output_type": "display_data"
        },
        {
          "name": "stdout",
          "output_type": "stream",
          "text": [
            "Lifetime\n"
          ]
        },
        {
          "data": {
            "image/png": "[encoded data removed]",
            "text/plain": [
              "<Figure size 360x360 with 1 Axes>"
            ]
          },
          "metadata": {
            "needs_background": "light"
          },
          "output_type": "display_data"
        },
        {
          "name": "stdout",
          "output_type": "stream",
          "text": [
            "Avg_class_frequency_total\n"
          ]
        },
        {
          "data": {
            "image/png": "[encoded data removed]",
            "text/plain": [
              "<Figure size 360x360 with 1 Axes>"
            ]
          },
          "metadata": {
            "needs_background": "light"
          },
          "output_type": "display_data"
        },
        {
          "name": "stdout",
          "output_type": "stream",
          "text": [
            "Avg_class_frequency_current_month\n"
          ]
        },
        {
          "data": {
            "image/png": "[encoded data removed]",
            "text/plain": [
              "<Figure size 360x360 with 1 Axes>"
            ]
          },
          "metadata": {
            "needs_background": "light"
          },
          "output_type": "display_data"
        },
        {
          "name": "stdout",
          "output_type": "stream",
          "text": [
            "Churn\n"
          ]
        },
        {
          "data": {
            "image/png": "[encoded data removed]",
            "text/plain": [
              "<Figure size 360x360 with 1 Axes>"
            ]
          },
          "metadata": {
            "needs_background": "light"
          },
          "output_type": "display_data"
        },
        {
          "name": "stdout",
          "output_type": "stream",
          "text": [
            "cluster_km\n"
          ]
        },
        {
          "data": {
            "image/png": "[encoded data removed]",
            "text/plain": [
              "<Figure size 360x360 with 1 Axes>"
            ]
          },
          "metadata": {
            "needs_background": "light"
          },
          "output_type": "display_data"
        }
      ],
      "source": [
        "for col in data.columns:\n",
        "\n",
        "    print(col)\n",
        "\n",
        "    data.query('cluster_km == 0')[col].hist(alpha = 0.8)\n",
        "    data.query('cluster_km == 1')[col].hist(alpha = 1)\n",
        "    \n",
        "    data.query('cluster_km == 2')[col].hist(alpha = 0.7)\n",
        "    data.query('cluster_km == 3')[col].hist(alpha = 0.2)\n",
        "    data.query('cluster_km == 4')[col].hist(figsize=(5,5), alpha = 0.4)\n",
        "    plt.legend(labels=['Кластер 0', 'Кластер 1', 'Кластер 2', 'Кластер 3', 'Кластер 4'])\n",
        "    plt.show()"
      ]
    },
    {
      "cell_type": "markdown",
      "metadata": {
        "id": "JXXJAbEHSpBQ"
      },
      "source": [
        "Из графиков распределений, мы можем сделать выжные дополнения, к уже сказанным выводам:  \n",
        "- в 3 кластере было больше всего людей, не имеющих отношения к компаниям партнеров и акции \"приведи друга\";  \n",
        "- также 3 кластер содержит в себе самое большое количество новичков, тех чей лайфтайм 1 месяц и меньше;  \n",
        "- длительность абонимента клиентов 3 кластера в основном 1 месяц;  \n",
        "- распределение возраста клиентов из третьего кластера сдвинуто влево, то есть они младше остальных;  \n",
        "- и за последний месяц клиенты 3 кластера заметно меньше остальных посещали клуб;  \n",
        "- кластер 2 не сильно выделяется на фоне остальных, за исключением того, что все клтиенты этого кластера ни проживают, ни работают в районе, где находится клуб.  \n",
        "\n",
        "Теперь для каждого кластера наглядно посчитаем долю оттока:"
      ]
    },
    {
      "cell_type": "code",
      "execution_count": null,
      "metadata": {
        "id": "1qAfu6_KSpBQ",
        "outputId": "7f7ecaac-6e1a-4974-9b72-4aae9e5cbffa"
      },
      "outputs": [
        {
          "data": {
            "text/plain": [
              "cluster_km\n",
              "0     2.8%\n",
              "1    26.8%\n",
              "2    44.4%\n",
              "3    51.4%\n",
              "4     6.8%\n",
              "Name: Churn, dtype: object"
            ]
          },
          "execution_count": 19,
          "metadata": {},
          "output_type": "execute_result"
        }
      ],
      "source": [
        "data.groupby('cluster_km')['Churn'].mean().apply(lambda x: '{:0.1%}'.format(x))"
      ]
    },
    {
      "cell_type": "markdown",
      "metadata": {
        "id": "iMn-8eBHSpBQ"
      },
      "source": [
        "Из выше сделанных выводов нет ничего удивительного, что клиенты кластера 3 показали самы большой отток - 51%.  \n",
        "Клиенты из кластера 2 тоже показали не мало - 44%, но здесь, я думал, нужно сделать вывод о том, что клиентам тяжело ездить в другой район на занятия.  \n",
        "Самыми надежными оказались кластеры 0 и 4, у них самый низкий показатель оттока."
      ]
    },
    {
      "cell_type": "markdown",
      "metadata": {
        "id": "xN9tZ7olSpBQ"
      },
      "source": [
        "### Шаг 5. Выводы и рекомендации.  \n",
        "  \n",
        "Мы изучили данные сети фитнес-центров «Культурист-датасаентист».  \n",
        "- Спрогнозировать вероятность оттока для каждого клиента при помощи моделей логистической регрессиии и случайного леса. Выяснили, что в данном конкретном случае модель логистической регрессиии справляется лучше.  \n",
        "- Сформировать типичные портреты клиентов клуба.\n",
        "- Проанализировать основные признаки, наиболее сильно влияющие на отток.\n",
        "\n",
        "И из всего этого, можем выделить, что для сокращения оттока следует обратить внимание на группу клиентов с признаками:  \n",
        "- Не сотрудник компании-партнёра клуба,  \n",
        "- Не по акции «приведи друга»,  \n",
        "- Новичок, пришел в клуб менее 2 месяцев назад,   \n",
        "- Длительность текущего абонимента 1 месяц,  \n",
        "- В последний месяц ходит в клуб реже, чем ранее.\n",
        "\n",
        "Так как эта группа в целом моложе остальных, возможно для удержания стоит обратиться к модным течениям, фишкам, гаджетам. Электронным абониментам, фирменным трекерам для отслеживания тренеровок именно в этом клубе и тому подобное.  Вкусный кофе, молодежная музыка и или скидки для студентов, тоже могут помочь оставить таких клиентов.  \n",
        "\n",
        "Так же нужно отметить, что значительную долю оттока занимали клитенты не работающие и не проживающие данном районе. Тут можно либо расширить сеть клубов, для того, чтобы каждый мог заниматься в клубе не далеко от дома или работы. Либо так же ввести дополнительные \"плюшки\" для тех, кто тратит время на долгую дорогу до клуба.  \n",
        "\n",
        "\n"
      ]
    },
    {
      "cell_type": "code",
      "execution_count": null,
      "metadata": {
        "id": "1EQiYSAHSpBR"
      },
      "outputs": [],
      "source": [
        ""
      ]
    }
  ],
  "metadata": {
    "ExecuteTimeLog": [
      {
        "duration": 66,
        "start_time": "2022-05-19T13:17:15.229Z"
      },
      {
        "duration": 37,
        "start_time": "2022-05-19T13:17:16.969Z"
      },
      {
        "duration": 574,
        "start_time": "2022-05-19T13:17:24.419Z"
      },
      {
        "duration": 44,
        "start_time": "2022-05-19T13:17:45.848Z"
      },
      {
        "duration": 18,
        "start_time": "2022-05-19T13:17:47.864Z"
      },
      {
        "duration": 49,
        "start_time": "2022-05-19T13:17:55.420Z"
      },
      {
        "duration": 27,
        "start_time": "2022-05-19T13:18:05.950Z"
      },
      {
        "duration": 49,
        "start_time": "2022-05-19T13:31:28.814Z"
      },
      {
        "duration": 6,
        "start_time": "2022-05-19T13:34:55.763Z"
      },
      {
        "duration": 34,
        "start_time": "2022-05-19T13:39:09.507Z"
      },
      {
        "duration": 8,
        "start_time": "2022-05-19T13:39:12.788Z"
      },
      {
        "duration": 82,
        "start_time": "2022-05-19T14:10:16.733Z"
      },
      {
        "duration": 102,
        "start_time": "2022-05-19T14:10:35.104Z"
      },
      {
        "duration": 82,
        "start_time": "2022-05-19T14:10:41.908Z"
      },
      {
        "duration": 55,
        "start_time": "2022-05-19T15:23:00.960Z"
      },
      {
        "duration": 407,
        "start_time": "2022-05-19T15:23:08.056Z"
      },
      {
        "duration": 67,
        "start_time": "2022-05-19T15:23:08.465Z"
      },
      {
        "duration": 7,
        "start_time": "2022-05-19T15:23:08.534Z"
      },
      {
        "duration": 17,
        "start_time": "2022-05-19T15:23:08.543Z"
      },
      {
        "duration": 66,
        "start_time": "2022-05-19T15:23:08.562Z"
      },
      {
        "duration": 80,
        "start_time": "2022-05-19T15:23:08.629Z"
      },
      {
        "duration": 2497,
        "start_time": "2022-05-19T15:23:08.727Z"
      },
      {
        "duration": 1108,
        "start_time": "2022-05-19T15:23:48.025Z"
      },
      {
        "duration": 40,
        "start_time": "2022-05-19T15:23:49.135Z"
      },
      {
        "duration": 7,
        "start_time": "2022-05-19T15:23:49.176Z"
      },
      {
        "duration": 25,
        "start_time": "2022-05-19T15:23:49.185Z"
      },
      {
        "duration": 71,
        "start_time": "2022-05-19T15:23:49.213Z"
      },
      {
        "duration": 117,
        "start_time": "2022-05-19T15:23:49.286Z"
      },
      {
        "duration": 2006,
        "start_time": "2022-05-19T15:23:49.405Z"
      },
      {
        "duration": 1667,
        "start_time": "2022-05-19T15:27:14.988Z"
      },
      {
        "duration": 36,
        "start_time": "2022-05-19T15:28:10.313Z"
      },
      {
        "duration": 1396,
        "start_time": "2022-05-19T15:28:16.281Z"
      },
      {
        "duration": 104,
        "start_time": "2022-05-19T15:31:15.878Z"
      },
      {
        "duration": 13,
        "start_time": "2022-05-19T15:31:43.478Z"
      },
      {
        "duration": 18,
        "start_time": "2022-05-19T15:31:53.155Z"
      },
      {
        "duration": 1520,
        "start_time": "2022-05-19T15:36:06.499Z"
      },
      {
        "duration": 1526,
        "start_time": "2022-05-19T15:36:19.274Z"
      },
      {
        "duration": 1451,
        "start_time": "2022-05-19T15:36:35.076Z"
      },
      {
        "duration": 16,
        "start_time": "2022-05-19T15:38:06.185Z"
      },
      {
        "duration": 2566,
        "start_time": "2022-05-19T15:39:07.832Z"
      },
      {
        "duration": 21,
        "start_time": "2022-05-19T15:39:45.912Z"
      },
      {
        "duration": 9,
        "start_time": "2022-05-19T15:40:57.437Z"
      },
      {
        "duration": 2196,
        "start_time": "2022-05-19T15:41:35.712Z"
      },
      {
        "duration": 58,
        "start_time": "2022-05-19T15:44:19.267Z"
      },
      {
        "duration": 2703,
        "start_time": "2022-05-19T15:44:31.142Z"
      },
      {
        "duration": 3432,
        "start_time": "2022-05-19T15:45:05.012Z"
      },
      {
        "duration": 3258,
        "start_time": "2022-05-19T16:00:31.180Z"
      },
      {
        "duration": 3718,
        "start_time": "2022-05-19T16:01:36.760Z"
      },
      {
        "duration": 2802,
        "start_time": "2022-05-19T16:03:00.142Z"
      },
      {
        "duration": 3127,
        "start_time": "2022-05-19T16:03:35.247Z"
      },
      {
        "duration": 3319,
        "start_time": "2022-05-19T16:04:18.224Z"
      },
      {
        "duration": 2865,
        "start_time": "2022-05-19T16:04:54.062Z"
      },
      {
        "duration": 12,
        "start_time": "2022-05-19T16:06:34.879Z"
      },
      {
        "duration": 11,
        "start_time": "2022-05-19T16:07:09.822Z"
      },
      {
        "duration": 11,
        "start_time": "2022-05-19T16:08:22.506Z"
      },
      {
        "duration": 2488,
        "start_time": "2022-05-19T16:10:23.246Z"
      },
      {
        "duration": 19,
        "start_time": "2022-05-19T16:15:27.413Z"
      },
      {
        "duration": 1970,
        "start_time": "2022-05-19T16:16:31.004Z"
      },
      {
        "duration": 10,
        "start_time": "2022-05-19T16:17:43.906Z"
      },
      {
        "duration": 168,
        "start_time": "2022-05-19T16:17:53.061Z"
      },
      {
        "duration": 2785,
        "start_time": "2022-05-19T16:18:23.858Z"
      },
      {
        "duration": 808,
        "start_time": "2022-05-19T16:19:02.197Z"
      },
      {
        "duration": 2465,
        "start_time": "2022-05-19T16:19:41.593Z"
      },
      {
        "duration": 2575,
        "start_time": "2022-05-19T16:20:24.007Z"
      },
      {
        "duration": 10,
        "start_time": "2022-05-19T16:20:53.129Z"
      },
      {
        "duration": 9,
        "start_time": "2022-05-19T16:21:03.964Z"
      },
      {
        "duration": 1210,
        "start_time": "2022-05-19T16:46:06.496Z"
      },
      {
        "duration": 117,
        "start_time": "2022-05-19T16:46:07.708Z"
      },
      {
        "duration": 6,
        "start_time": "2022-05-19T16:46:07.827Z"
      },
      {
        "duration": 22,
        "start_time": "2022-05-19T16:46:07.836Z"
      },
      {
        "duration": 75,
        "start_time": "2022-05-19T16:46:07.860Z"
      },
      {
        "duration": 113,
        "start_time": "2022-05-19T16:46:07.937Z"
      },
      {
        "duration": 3186,
        "start_time": "2022-05-19T16:46:08.052Z"
      },
      {
        "duration": 1528,
        "start_time": "2022-05-19T16:46:11.239Z"
      },
      {
        "duration": 7,
        "start_time": "2022-05-19T16:46:12.768Z"
      },
      {
        "duration": 122,
        "start_time": "2022-05-19T16:57:17.710Z"
      },
      {
        "duration": 1362,
        "start_time": "2022-05-19T16:57:25.100Z"
      },
      {
        "duration": 35,
        "start_time": "2022-05-19T16:57:26.464Z"
      },
      {
        "duration": 6,
        "start_time": "2022-05-19T16:57:26.501Z"
      },
      {
        "duration": 13,
        "start_time": "2022-05-19T16:57:26.509Z"
      },
      {
        "duration": 44,
        "start_time": "2022-05-19T16:57:26.526Z"
      },
      {
        "duration": 99,
        "start_time": "2022-05-19T16:57:26.572Z"
      },
      {
        "duration": 3030,
        "start_time": "2022-05-19T16:57:26.672Z"
      },
      {
        "duration": 1567,
        "start_time": "2022-05-19T16:57:29.704Z"
      },
      {
        "duration": 8,
        "start_time": "2022-05-19T16:57:31.273Z"
      },
      {
        "duration": 947,
        "start_time": "2022-05-19T16:57:31.283Z"
      },
      {
        "duration": 30,
        "start_time": "2022-05-19T16:58:46.856Z"
      },
      {
        "duration": 47,
        "start_time": "2022-05-19T16:59:07.882Z"
      },
      {
        "duration": 585,
        "start_time": "2022-05-19T16:59:35.211Z"
      },
      {
        "duration": 647,
        "start_time": "2022-05-19T17:04:52.861Z"
      },
      {
        "duration": 17,
        "start_time": "2022-05-19T17:08:41.869Z"
      },
      {
        "duration": 17,
        "start_time": "2022-05-19T17:09:33.153Z"
      },
      {
        "duration": 1460,
        "start_time": "2022-05-19T17:11:09.840Z"
      },
      {
        "duration": 44,
        "start_time": "2022-05-19T17:11:11.302Z"
      },
      {
        "duration": 7,
        "start_time": "2022-05-19T17:11:11.348Z"
      },
      {
        "duration": 19,
        "start_time": "2022-05-19T17:11:11.358Z"
      },
      {
        "duration": 80,
        "start_time": "2022-05-19T17:11:11.379Z"
      },
      {
        "duration": 99,
        "start_time": "2022-05-19T17:11:11.460Z"
      },
      {
        "duration": 3505,
        "start_time": "2022-05-19T17:11:11.562Z"
      },
      {
        "duration": 1750,
        "start_time": "2022-05-19T17:11:15.069Z"
      },
      {
        "duration": 10,
        "start_time": "2022-05-19T17:11:16.821Z"
      },
      {
        "duration": 729,
        "start_time": "2022-05-19T17:11:16.834Z"
      },
      {
        "duration": 14,
        "start_time": "2022-05-19T17:11:17.565Z"
      },
      {
        "duration": 1261,
        "start_time": "2022-05-19T17:32:36.915Z"
      },
      {
        "duration": 32,
        "start_time": "2022-05-19T17:32:38.179Z"
      },
      {
        "duration": 6,
        "start_time": "2022-05-19T17:32:38.212Z"
      },
      {
        "duration": 10,
        "start_time": "2022-05-19T17:32:38.220Z"
      },
      {
        "duration": 41,
        "start_time": "2022-05-19T17:32:38.231Z"
      },
      {
        "duration": 88,
        "start_time": "2022-05-19T17:32:38.274Z"
      },
      {
        "duration": 2896,
        "start_time": "2022-05-19T17:32:38.363Z"
      },
      {
        "duration": 1359,
        "start_time": "2022-05-19T17:32:41.260Z"
      },
      {
        "duration": 9,
        "start_time": "2022-05-19T17:32:42.620Z"
      },
      {
        "duration": 547,
        "start_time": "2022-05-19T17:32:42.631Z"
      },
      {
        "duration": 15,
        "start_time": "2022-05-19T17:32:43.180Z"
      },
      {
        "duration": 30,
        "start_time": "2022-05-19T17:32:43.197Z"
      },
      {
        "duration": 1288,
        "start_time": "2022-05-19T17:51:27.588Z"
      },
      {
        "duration": 33,
        "start_time": "2022-05-19T17:51:28.879Z"
      },
      {
        "duration": 6,
        "start_time": "2022-05-19T17:51:28.914Z"
      },
      {
        "duration": 12,
        "start_time": "2022-05-19T17:51:28.921Z"
      },
      {
        "duration": 44,
        "start_time": "2022-05-19T17:51:28.935Z"
      },
      {
        "duration": 93,
        "start_time": "2022-05-19T17:51:28.981Z"
      },
      {
        "duration": 2922,
        "start_time": "2022-05-19T17:51:29.075Z"
      },
      {
        "duration": 1429,
        "start_time": "2022-05-19T17:51:31.999Z"
      },
      {
        "duration": 7,
        "start_time": "2022-05-19T17:51:33.430Z"
      },
      {
        "duration": 646,
        "start_time": "2022-05-19T17:51:33.439Z"
      },
      {
        "duration": 11,
        "start_time": "2022-05-19T17:51:34.087Z"
      },
      {
        "duration": 17,
        "start_time": "2022-05-19T17:51:34.099Z"
      },
      {
        "duration": 86288,
        "start_time": "2022-05-19T17:52:59.043Z"
      },
      {
        "duration": 1348,
        "start_time": "2022-05-19T18:02:32.399Z"
      },
      {
        "duration": 35,
        "start_time": "2022-05-19T18:02:33.749Z"
      },
      {
        "duration": 6,
        "start_time": "2022-05-19T18:02:33.786Z"
      },
      {
        "duration": 9,
        "start_time": "2022-05-19T18:02:33.795Z"
      },
      {
        "duration": 69,
        "start_time": "2022-05-19T18:02:33.806Z"
      },
      {
        "duration": 93,
        "start_time": "2022-05-19T18:02:33.877Z"
      },
      {
        "duration": 3200,
        "start_time": "2022-05-19T18:02:33.972Z"
      },
      {
        "duration": 1400,
        "start_time": "2022-05-19T18:02:37.174Z"
      },
      {
        "duration": 7,
        "start_time": "2022-05-19T18:02:38.576Z"
      },
      {
        "duration": 642,
        "start_time": "2022-05-19T18:02:38.586Z"
      },
      {
        "duration": 14,
        "start_time": "2022-05-19T18:02:39.230Z"
      },
      {
        "duration": 14,
        "start_time": "2022-05-19T18:02:39.246Z"
      },
      {
        "duration": 86880,
        "start_time": "2022-05-19T18:02:39.262Z"
      },
      {
        "duration": 1271,
        "start_time": "2022-05-19T18:05:20.777Z"
      },
      {
        "duration": 34,
        "start_time": "2022-05-19T18:05:22.049Z"
      },
      {
        "duration": 6,
        "start_time": "2022-05-19T18:05:22.084Z"
      },
      {
        "duration": 10,
        "start_time": "2022-05-19T18:05:22.092Z"
      },
      {
        "duration": 52,
        "start_time": "2022-05-19T18:05:22.104Z"
      },
      {
        "duration": 89,
        "start_time": "2022-05-19T18:05:22.157Z"
      },
      {
        "duration": 2972,
        "start_time": "2022-05-19T18:05:22.248Z"
      },
      {
        "duration": 1461,
        "start_time": "2022-05-19T18:05:25.227Z"
      },
      {
        "duration": 7,
        "start_time": "2022-05-19T18:05:26.691Z"
      },
      {
        "duration": 600,
        "start_time": "2022-05-19T18:05:26.700Z"
      },
      {
        "duration": 11,
        "start_time": "2022-05-19T18:05:27.302Z"
      },
      {
        "duration": 14,
        "start_time": "2022-05-19T18:05:27.314Z"
      },
      {
        "duration": 108433,
        "start_time": "2022-05-19T18:05:27.329Z"
      },
      {
        "duration": 1081,
        "start_time": "2022-05-19T18:07:15.765Z"
      },
      {
        "duration": 1103,
        "start_time": "2022-05-19T18:10:02.239Z"
      },
      {
        "duration": 113,
        "start_time": "2022-05-19T18:11:30.787Z"
      },
      {
        "duration": 1328,
        "start_time": "2022-05-19T18:11:59.896Z"
      },
      {
        "duration": 47,
        "start_time": "2022-05-19T18:12:01.226Z"
      },
      {
        "duration": 9,
        "start_time": "2022-05-19T18:12:01.276Z"
      },
      {
        "duration": 29,
        "start_time": "2022-05-19T18:12:01.287Z"
      },
      {
        "duration": 52,
        "start_time": "2022-05-19T18:12:01.318Z"
      },
      {
        "duration": 99,
        "start_time": "2022-05-19T18:12:01.372Z"
      },
      {
        "duration": 3383,
        "start_time": "2022-05-19T18:12:01.473Z"
      },
      {
        "duration": 1608,
        "start_time": "2022-05-19T18:12:04.859Z"
      },
      {
        "duration": 11,
        "start_time": "2022-05-19T18:12:06.469Z"
      },
      {
        "duration": 589,
        "start_time": "2022-05-19T18:12:06.483Z"
      },
      {
        "duration": 16,
        "start_time": "2022-05-19T18:12:07.075Z"
      },
      {
        "duration": 27,
        "start_time": "2022-05-19T18:12:07.093Z"
      },
      {
        "duration": 111194,
        "start_time": "2022-05-19T18:12:07.123Z"
      },
      {
        "duration": 1216,
        "start_time": "2022-05-19T18:13:58.319Z"
      },
      {
        "duration": 134,
        "start_time": "2022-05-19T18:13:59.537Z"
      },
      {
        "duration": 37376,
        "start_time": "2022-05-19T18:17:56.173Z"
      },
      {
        "duration": 3,
        "start_time": "2022-05-19T18:41:22.606Z"
      },
      {
        "duration": 4,
        "start_time": "2022-05-19T18:42:04.769Z"
      },
      {
        "duration": 42,
        "start_time": "2022-05-19T18:42:45.457Z"
      },
      {
        "duration": 0,
        "start_time": "2022-05-19T18:42:45.501Z"
      },
      {
        "duration": 3,
        "start_time": "2022-05-19T18:43:45.718Z"
      },
      {
        "duration": 38968,
        "start_time": "2022-05-19T18:44:01.251Z"
      },
      {
        "duration": 6,
        "start_time": "2022-05-19T18:46:56.604Z"
      },
      {
        "duration": 14,
        "start_time": "2022-05-19T18:47:39.351Z"
      },
      {
        "duration": 19,
        "start_time": "2022-05-19T18:48:22.167Z"
      },
      {
        "duration": 9,
        "start_time": "2022-05-19T18:51:40.351Z"
      },
      {
        "duration": 8,
        "start_time": "2022-05-19T18:54:47.675Z"
      },
      {
        "duration": 10,
        "start_time": "2022-05-19T18:55:00.851Z"
      },
      {
        "duration": 1304,
        "start_time": "2022-05-20T08:40:55.617Z"
      },
      {
        "duration": 146,
        "start_time": "2022-05-20T08:40:56.923Z"
      },
      {
        "duration": 6,
        "start_time": "2022-05-20T08:40:57.070Z"
      },
      {
        "duration": 36,
        "start_time": "2022-05-20T08:40:57.077Z"
      },
      {
        "duration": 52,
        "start_time": "2022-05-20T08:40:57.115Z"
      },
      {
        "duration": 45,
        "start_time": "2022-05-20T08:40:57.172Z"
      },
      {
        "duration": 2781,
        "start_time": "2022-05-20T08:40:57.218Z"
      },
      {
        "duration": 1354,
        "start_time": "2022-05-20T08:41:00.000Z"
      },
      {
        "duration": 7,
        "start_time": "2022-05-20T08:41:01.355Z"
      },
      {
        "duration": 559,
        "start_time": "2022-05-20T08:41:01.365Z"
      },
      {
        "duration": 12,
        "start_time": "2022-05-20T08:41:01.926Z"
      },
      {
        "duration": 20,
        "start_time": "2022-05-20T08:41:01.939Z"
      },
      {
        "duration": 101441,
        "start_time": "2022-05-20T08:41:01.961Z"
      },
      {
        "duration": 1357,
        "start_time": "2022-05-20T08:42:43.404Z"
      },
      {
        "duration": 2,
        "start_time": "2022-05-20T08:42:44.763Z"
      },
      {
        "duration": 32371,
        "start_time": "2022-05-20T08:42:44.767Z"
      },
      {
        "duration": 7,
        "start_time": "2022-05-20T08:43:17.139Z"
      },
      {
        "duration": 41,
        "start_time": "2022-05-20T08:43:17.266Z"
      },
      {
        "duration": 1199,
        "start_time": "2022-05-20T09:56:15.007Z"
      },
      {
        "duration": 42,
        "start_time": "2022-05-20T09:56:16.208Z"
      },
      {
        "duration": 6,
        "start_time": "2022-05-20T09:56:16.251Z"
      },
      {
        "duration": 11,
        "start_time": "2022-05-20T09:56:16.258Z"
      },
      {
        "duration": 41,
        "start_time": "2022-05-20T09:56:16.271Z"
      },
      {
        "duration": 52,
        "start_time": "2022-05-20T09:56:16.313Z"
      },
      {
        "duration": 40,
        "start_time": "2022-05-20T09:56:16.367Z"
      },
      {
        "duration": 2791,
        "start_time": "2022-05-20T09:56:16.409Z"
      },
      {
        "duration": 1286,
        "start_time": "2022-05-20T09:56:19.201Z"
      },
      {
        "duration": 6,
        "start_time": "2022-05-20T09:56:20.489Z"
      },
      {
        "duration": 522,
        "start_time": "2022-05-20T09:56:20.496Z"
      },
      {
        "duration": 10,
        "start_time": "2022-05-20T09:56:21.020Z"
      },
      {
        "duration": 17,
        "start_time": "2022-05-20T09:56:21.031Z"
      },
      {
        "duration": 99398,
        "start_time": "2022-05-20T09:56:21.050Z"
      },
      {
        "duration": 1411,
        "start_time": "2022-05-20T09:58:00.450Z"
      },
      {
        "duration": 3,
        "start_time": "2022-05-20T09:58:01.862Z"
      },
      {
        "duration": 31402,
        "start_time": "2022-05-20T09:58:01.867Z"
      },
      {
        "duration": 7,
        "start_time": "2022-05-20T09:58:33.271Z"
      },
      {
        "duration": 50,
        "start_time": "2022-05-20T10:57:27.389Z"
      },
      {
        "duration": 1392,
        "start_time": "2022-05-20T10:57:32.179Z"
      },
      {
        "duration": 1321,
        "start_time": "2022-05-20T10:58:23.487Z"
      },
      {
        "duration": 1586,
        "start_time": "2022-05-20T10:58:47.495Z"
      },
      {
        "duration": 1525,
        "start_time": "2022-05-20T10:59:12.537Z"
      },
      {
        "duration": 1347,
        "start_time": "2022-05-20T10:59:16.855Z"
      },
      {
        "duration": 360,
        "start_time": "2022-05-20T11:10:22.306Z"
      },
      {
        "duration": 397,
        "start_time": "2022-05-20T11:10:37.821Z"
      },
      {
        "duration": 259,
        "start_time": "2022-05-20T11:10:52.609Z"
      },
      {
        "duration": 318,
        "start_time": "2022-05-20T11:11:25.779Z"
      },
      {
        "duration": 309,
        "start_time": "2022-05-20T11:13:59.910Z"
      },
      {
        "duration": 194,
        "start_time": "2022-05-20T11:14:16.730Z"
      },
      {
        "duration": 266,
        "start_time": "2022-05-20T11:15:17.437Z"
      },
      {
        "duration": 197,
        "start_time": "2022-05-20T11:15:46.252Z"
      },
      {
        "duration": 286,
        "start_time": "2022-05-20T11:15:55.558Z"
      },
      {
        "duration": 211,
        "start_time": "2022-05-20T11:15:59.577Z"
      },
      {
        "duration": 216,
        "start_time": "2022-05-20T11:16:20.149Z"
      },
      {
        "duration": 12,
        "start_time": "2022-05-20T11:17:44.905Z"
      },
      {
        "duration": 3620,
        "start_time": "2022-05-20T11:17:54.820Z"
      },
      {
        "duration": 201,
        "start_time": "2022-05-20T11:18:32.034Z"
      },
      {
        "duration": 196,
        "start_time": "2022-05-20T11:20:19.849Z"
      },
      {
        "duration": 3945,
        "start_time": "2022-05-20T11:20:25.967Z"
      },
      {
        "duration": 3612,
        "start_time": "2022-05-20T11:20:44.406Z"
      },
      {
        "duration": 3710,
        "start_time": "2022-05-20T11:20:57.696Z"
      },
      {
        "duration": 2377,
        "start_time": "2022-05-20T11:22:10.672Z"
      },
      {
        "duration": 2222,
        "start_time": "2022-05-20T11:22:43.801Z"
      },
      {
        "duration": 2347,
        "start_time": "2022-05-20T11:22:53.713Z"
      },
      {
        "duration": 2350,
        "start_time": "2022-05-20T11:23:23.044Z"
      },
      {
        "duration": 149,
        "start_time": "2022-05-20T11:23:35.954Z"
      },
      {
        "duration": 134,
        "start_time": "2022-05-20T11:24:46.871Z"
      },
      {
        "duration": 164,
        "start_time": "2022-05-20T11:25:01.793Z"
      },
      {
        "duration": 121,
        "start_time": "2022-05-20T11:25:31.299Z"
      },
      {
        "duration": 2604,
        "start_time": "2022-05-20T11:25:55.603Z"
      },
      {
        "duration": 2339,
        "start_time": "2022-05-20T11:27:14.094Z"
      },
      {
        "duration": 115,
        "start_time": "2022-05-20T11:28:26.975Z"
      },
      {
        "duration": 2318,
        "start_time": "2022-05-20T11:28:32.565Z"
      },
      {
        "duration": 2208,
        "start_time": "2022-05-20T11:28:41.966Z"
      },
      {
        "duration": 1984,
        "start_time": "2022-05-20T11:28:55.543Z"
      },
      {
        "duration": 2406,
        "start_time": "2022-05-20T11:29:57.393Z"
      },
      {
        "duration": 2460,
        "start_time": "2022-05-20T11:30:59.495Z"
      },
      {
        "duration": 2318,
        "start_time": "2022-05-20T11:31:34.804Z"
      },
      {
        "duration": 635,
        "start_time": "2022-05-20T11:54:09.093Z"
      },
      {
        "duration": 520,
        "start_time": "2022-05-20T11:54:22.105Z"
      },
      {
        "duration": 549,
        "start_time": "2022-05-20T11:57:19.457Z"
      },
      {
        "duration": 528,
        "start_time": "2022-05-20T11:57:59.985Z"
      },
      {
        "duration": 577,
        "start_time": "2022-05-20T11:59:53.222Z"
      },
      {
        "duration": 515,
        "start_time": "2022-05-20T12:00:24.289Z"
      },
      {
        "duration": 611,
        "start_time": "2022-05-20T12:01:02.830Z"
      },
      {
        "duration": 599,
        "start_time": "2022-05-20T12:02:31.086Z"
      },
      {
        "duration": 555,
        "start_time": "2022-05-20T12:02:42.536Z"
      },
      {
        "duration": 569,
        "start_time": "2022-05-20T12:03:21.744Z"
      },
      {
        "duration": 1275,
        "start_time": "2022-05-20T12:03:51.190Z"
      },
      {
        "duration": 46,
        "start_time": "2022-05-20T12:03:52.468Z"
      },
      {
        "duration": 15,
        "start_time": "2022-05-20T12:03:52.515Z"
      },
      {
        "duration": 37,
        "start_time": "2022-05-20T12:03:52.531Z"
      },
      {
        "duration": 61,
        "start_time": "2022-05-20T12:03:52.570Z"
      },
      {
        "duration": 66,
        "start_time": "2022-05-20T12:03:52.633Z"
      },
      {
        "duration": 47,
        "start_time": "2022-05-20T12:03:52.700Z"
      },
      {
        "duration": 2440,
        "start_time": "2022-05-20T12:03:52.760Z"
      },
      {
        "duration": 1287,
        "start_time": "2022-05-20T12:03:55.201Z"
      },
      {
        "duration": 7,
        "start_time": "2022-05-20T12:03:56.491Z"
      },
      {
        "duration": 713,
        "start_time": "2022-05-20T12:03:56.499Z"
      },
      {
        "duration": 0,
        "start_time": "2022-05-20T12:03:57.214Z"
      },
      {
        "duration": 0,
        "start_time": "2022-05-20T12:03:57.216Z"
      },
      {
        "duration": 0,
        "start_time": "2022-05-20T12:03:57.218Z"
      },
      {
        "duration": 0,
        "start_time": "2022-05-20T12:03:57.218Z"
      },
      {
        "duration": 0,
        "start_time": "2022-05-20T12:03:57.219Z"
      },
      {
        "duration": 0,
        "start_time": "2022-05-20T12:03:57.221Z"
      },
      {
        "duration": 0,
        "start_time": "2022-05-20T12:03:57.222Z"
      },
      {
        "duration": 54,
        "start_time": "2022-05-20T12:05:37.243Z"
      },
      {
        "duration": 36,
        "start_time": "2022-05-20T12:06:03.671Z"
      },
      {
        "duration": 509,
        "start_time": "2022-05-20T12:06:15.680Z"
      },
      {
        "duration": 1276,
        "start_time": "2022-05-20T12:09:28.367Z"
      },
      {
        "duration": 44,
        "start_time": "2022-05-20T12:09:29.645Z"
      },
      {
        "duration": 6,
        "start_time": "2022-05-20T12:09:29.690Z"
      },
      {
        "duration": 17,
        "start_time": "2022-05-20T12:09:29.697Z"
      },
      {
        "duration": 47,
        "start_time": "2022-05-20T12:09:29.716Z"
      },
      {
        "duration": 46,
        "start_time": "2022-05-20T12:09:29.764Z"
      },
      {
        "duration": 62,
        "start_time": "2022-05-20T12:09:29.812Z"
      },
      {
        "duration": 2437,
        "start_time": "2022-05-20T12:09:29.876Z"
      },
      {
        "duration": 1406,
        "start_time": "2022-05-20T12:09:32.314Z"
      },
      {
        "duration": 6,
        "start_time": "2022-05-20T12:09:33.723Z"
      },
      {
        "duration": 573,
        "start_time": "2022-05-20T12:09:33.730Z"
      },
      {
        "duration": 12,
        "start_time": "2022-05-20T12:09:34.305Z"
      },
      {
        "duration": 18,
        "start_time": "2022-05-20T12:09:34.319Z"
      },
      {
        "duration": 106955,
        "start_time": "2022-05-20T12:09:34.339Z"
      },
      {
        "duration": 1468,
        "start_time": "2022-05-20T12:11:21.295Z"
      },
      {
        "duration": 2,
        "start_time": "2022-05-20T12:11:22.765Z"
      },
      {
        "duration": 34563,
        "start_time": "2022-05-20T12:11:22.768Z"
      },
      {
        "duration": 7,
        "start_time": "2022-05-20T12:11:57.332Z"
      },
      {
        "duration": 1252,
        "start_time": "2022-05-20T12:15:09.108Z"
      },
      {
        "duration": 19,
        "start_time": "2022-05-20T12:15:18.121Z"
      },
      {
        "duration": 3707,
        "start_time": "2022-05-20T12:43:14.010Z"
      },
      {
        "duration": 4276,
        "start_time": "2022-05-20T12:43:47.189Z"
      },
      {
        "duration": 3485,
        "start_time": "2022-05-20T12:44:40.454Z"
      },
      {
        "duration": 3988,
        "start_time": "2022-05-20T12:45:14.139Z"
      },
      {
        "duration": 3712,
        "start_time": "2022-05-20T12:45:28.817Z"
      },
      {
        "duration": 3899,
        "start_time": "2022-05-20T12:46:03.554Z"
      },
      {
        "duration": 3675,
        "start_time": "2022-05-20T12:46:59.475Z"
      },
      {
        "duration": 3708,
        "start_time": "2022-05-20T12:47:21.353Z"
      },
      {
        "duration": 3793,
        "start_time": "2022-05-20T12:47:44.357Z"
      },
      {
        "duration": 4198,
        "start_time": "2022-05-20T12:47:51.016Z"
      },
      {
        "duration": 3696,
        "start_time": "2022-05-20T12:47:55.300Z"
      },
      {
        "duration": 3942,
        "start_time": "2022-05-20T12:47:59.554Z"
      },
      {
        "duration": 3712,
        "start_time": "2022-05-20T12:48:09.914Z"
      },
      {
        "duration": 3839,
        "start_time": "2022-05-20T12:48:14.533Z"
      },
      {
        "duration": 3750,
        "start_time": "2022-05-20T12:48:37.444Z"
      },
      {
        "duration": 3997,
        "start_time": "2022-05-20T12:48:51.586Z"
      },
      {
        "duration": 3713,
        "start_time": "2022-05-20T12:49:36.908Z"
      },
      {
        "duration": 3788,
        "start_time": "2022-05-20T12:49:42.729Z"
      },
      {
        "duration": 4433,
        "start_time": "2022-05-20T12:49:47.606Z"
      },
      {
        "duration": 3792,
        "start_time": "2022-05-20T12:49:52.136Z"
      },
      {
        "duration": 3759,
        "start_time": "2022-05-20T12:49:58.517Z"
      },
      {
        "duration": 3679,
        "start_time": "2022-05-20T12:50:14.111Z"
      },
      {
        "duration": 3553,
        "start_time": "2022-05-20T12:50:22.653Z"
      },
      {
        "duration": 3886,
        "start_time": "2022-05-20T12:50:52.372Z"
      },
      {
        "duration": 3529,
        "start_time": "2022-05-20T12:51:08.370Z"
      },
      {
        "duration": 3613,
        "start_time": "2022-05-20T12:51:12.176Z"
      },
      {
        "duration": 3624,
        "start_time": "2022-05-20T12:51:37.307Z"
      },
      {
        "duration": 3710,
        "start_time": "2022-05-20T12:51:44.163Z"
      },
      {
        "duration": 3615,
        "start_time": "2022-05-20T12:51:56.713Z"
      },
      {
        "duration": 3974,
        "start_time": "2022-05-20T12:52:34.256Z"
      },
      {
        "duration": 3744,
        "start_time": "2022-05-20T12:53:05.274Z"
      },
      {
        "duration": 4148,
        "start_time": "2022-05-20T12:55:50.265Z"
      },
      {
        "duration": 64,
        "start_time": "2022-05-20T18:50:22.849Z"
      },
      {
        "duration": 1372,
        "start_time": "2022-05-20T19:00:17.157Z"
      },
      {
        "duration": 35,
        "start_time": "2022-05-20T19:00:18.531Z"
      },
      {
        "duration": 6,
        "start_time": "2022-05-20T19:00:18.568Z"
      },
      {
        "duration": 19,
        "start_time": "2022-05-20T19:00:18.576Z"
      },
      {
        "duration": 48,
        "start_time": "2022-05-20T19:00:18.596Z"
      },
      {
        "duration": 61,
        "start_time": "2022-05-20T19:00:18.646Z"
      },
      {
        "duration": 47,
        "start_time": "2022-05-20T19:00:18.708Z"
      },
      {
        "duration": 2564,
        "start_time": "2022-05-20T19:00:18.757Z"
      },
      {
        "duration": 1445,
        "start_time": "2022-05-20T19:00:21.323Z"
      },
      {
        "duration": 7,
        "start_time": "2022-05-20T19:00:22.770Z"
      },
      {
        "duration": 576,
        "start_time": "2022-05-20T19:00:22.779Z"
      },
      {
        "duration": 12,
        "start_time": "2022-05-20T19:00:23.356Z"
      },
      {
        "duration": 8,
        "start_time": "2022-05-20T19:00:23.369Z"
      },
      {
        "duration": 106043,
        "start_time": "2022-05-20T19:00:23.394Z"
      },
      {
        "duration": 1163,
        "start_time": "2022-05-20T19:02:09.438Z"
      },
      {
        "duration": 107,
        "start_time": "2022-05-20T19:02:10.603Z"
      },
      {
        "duration": 3541,
        "start_time": "2022-05-20T19:02:10.712Z"
      },
      {
        "duration": 7,
        "start_time": "2022-05-20T19:02:14.255Z"
      },
      {
        "duration": 62,
        "start_time": "2022-05-21T19:56:37.047Z"
      },
      {
        "duration": 1609,
        "start_time": "2022-05-21T19:56:42.036Z"
      },
      {
        "duration": 67,
        "start_time": "2022-05-21T19:56:43.647Z"
      },
      {
        "duration": 7,
        "start_time": "2022-05-21T19:56:43.716Z"
      },
      {
        "duration": 11,
        "start_time": "2022-05-21T19:56:43.725Z"
      },
      {
        "duration": 54,
        "start_time": "2022-05-21T19:56:43.738Z"
      },
      {
        "duration": 45,
        "start_time": "2022-05-21T19:56:43.793Z"
      },
      {
        "duration": 52,
        "start_time": "2022-05-21T19:56:43.840Z"
      },
      {
        "duration": 92,
        "start_time": "2022-05-21T19:56:43.893Z"
      },
      {
        "duration": 2726,
        "start_time": "2022-05-21T19:56:43.987Z"
      },
      {
        "duration": 1652,
        "start_time": "2022-05-21T19:56:46.715Z"
      },
      {
        "duration": 6,
        "start_time": "2022-05-21T19:56:48.369Z"
      },
      {
        "duration": 553,
        "start_time": "2022-05-21T19:56:48.377Z"
      },
      {
        "duration": 32,
        "start_time": "2022-05-21T19:56:48.932Z"
      },
      {
        "duration": 8,
        "start_time": "2022-05-21T19:56:48.966Z"
      },
      {
        "duration": 114867,
        "start_time": "2022-05-21T19:56:48.975Z"
      },
      {
        "duration": 1008,
        "start_time": "2022-05-21T19:58:43.844Z"
      },
      {
        "duration": 108,
        "start_time": "2022-05-21T19:58:44.854Z"
      },
      {
        "duration": 4423,
        "start_time": "2022-05-21T19:58:44.967Z"
      },
      {
        "duration": 7,
        "start_time": "2022-05-21T19:58:49.392Z"
      },
      {
        "duration": 79,
        "start_time": "2022-05-21T20:01:46.986Z"
      },
      {
        "duration": 187,
        "start_time": "2022-05-21T20:02:18.676Z"
      },
      {
        "duration": 10,
        "start_time": "2022-05-21T20:02:43.612Z"
      },
      {
        "duration": 76,
        "start_time": "2022-05-21T20:02:52.641Z"
      },
      {
        "duration": 78,
        "start_time": "2022-05-21T20:03:22.116Z"
      },
      {
        "duration": 94,
        "start_time": "2022-05-21T20:03:32.036Z"
      },
      {
        "duration": 17,
        "start_time": "2022-05-21T20:06:36.980Z"
      },
      {
        "duration": 51,
        "start_time": "2022-05-21T20:07:47.937Z"
      },
      {
        "duration": 3,
        "start_time": "2022-05-21T20:09:03.782Z"
      },
      {
        "duration": 144,
        "start_time": "2022-05-21T20:09:04.299Z"
      },
      {
        "duration": 157,
        "start_time": "2022-05-21T20:09:50.011Z"
      },
      {
        "duration": 75,
        "start_time": "2022-05-21T20:11:19.197Z"
      },
      {
        "duration": 85,
        "start_time": "2022-05-21T20:11:26.085Z"
      },
      {
        "duration": 72,
        "start_time": "2022-05-21T20:11:32.684Z"
      },
      {
        "duration": 480,
        "start_time": "2022-05-21T20:11:36.477Z"
      },
      {
        "duration": 36,
        "start_time": "2022-05-21T20:11:47.095Z"
      },
      {
        "duration": 183,
        "start_time": "2022-05-21T20:11:50.085Z"
      },
      {
        "duration": 560,
        "start_time": "2022-05-21T20:12:08.280Z"
      },
      {
        "duration": 347,
        "start_time": "2022-05-21T20:12:13.481Z"
      },
      {
        "duration": 31,
        "start_time": "2022-05-21T20:12:16.767Z"
      },
      {
        "duration": 597,
        "start_time": "2022-05-21T20:12:19.881Z"
      },
      {
        "duration": 170,
        "start_time": "2022-05-21T20:12:23.352Z"
      },
      {
        "duration": 78,
        "start_time": "2022-05-21T20:13:39.736Z"
      },
      {
        "duration": 3,
        "start_time": "2022-05-21T20:13:59.580Z"
      },
      {
        "duration": 84,
        "start_time": "2022-05-21T20:14:03.410Z"
      },
      {
        "duration": 57,
        "start_time": "2022-05-21T20:14:53.211Z"
      },
      {
        "duration": 49,
        "start_time": "2022-05-21T20:15:15.194Z"
      },
      {
        "duration": 43,
        "start_time": "2022-05-21T20:15:28.629Z"
      },
      {
        "duration": 50,
        "start_time": "2022-05-21T20:15:32.396Z"
      },
      {
        "duration": 69,
        "start_time": "2022-05-21T20:15:44.101Z"
      },
      {
        "duration": 4,
        "start_time": "2022-05-21T20:16:19.019Z"
      },
      {
        "duration": 17,
        "start_time": "2022-05-21T20:16:39.801Z"
      },
      {
        "duration": 52,
        "start_time": "2022-05-21T20:16:56.271Z"
      },
      {
        "duration": 44,
        "start_time": "2022-05-21T20:17:04.125Z"
      },
      {
        "duration": 159,
        "start_time": "2022-05-21T20:17:51.715Z"
      },
      {
        "duration": 47,
        "start_time": "2022-05-21T20:18:06.664Z"
      },
      {
        "duration": 181,
        "start_time": "2022-05-21T20:19:06.302Z"
      },
      {
        "duration": 21,
        "start_time": "2022-05-21T20:21:02.400Z"
      }
    ],
    "kernelspec": {
      "display_name": "Python 3 (ipykernel)",
      "language": "python",
      "name": "python3"
    },
    "language_info": {
      "codemirror_mode": {
        "name": "ipython",
        "version": 3
      },
      "file_extension": ".py",
      "mimetype": "text/x-python",
      "name": "python",
      "nbconvert_exporter": "python",
      "pygments_lexer": "ipython3",
      "version": "3.9.5"
    },
    "toc": {
      "base_numbering": 1,
      "nav_menu": {},
      "number_sections": false,
      "sideBar": true,
      "skip_h1_title": true,
      "title_cell": "Table of Contents",
      "title_sidebar": "Contents",
      "toc_cell": false,
      "toc_position": {},
      "toc_section_display": true,
      "toc_window_display": false
    },
    "colab": {
      "name": "10.ipynb",
      "provenance": []
    }
  },
  "nbformat": 4,
  "nbformat_minor": 0
}