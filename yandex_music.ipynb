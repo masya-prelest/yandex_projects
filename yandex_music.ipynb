{
  "cells": [
    {
      "cell_type": "markdown",
      "metadata": {
        "id": "E0vqbgi9ay0H"
      },
      "source": [
        "# Яндекс.Музыка"
      ]
    },
    {
      "cell_type": "markdown",
      "metadata": {
        "id": "VUC88oWjTJw2"
      },
      "source": [
        "Сравнение Москвы и Петербурга окружено мифами. Например:\n",
        " * Москва — мегаполис, подчинённый жёсткому ритму рабочей недели;\n",
        " * Петербург — культурная столица, со своими вкусами.\n",
        "\n",
        "На данных Яндекс.Музыки мы сравним поведение пользователей двух столиц.\n",
        "\n",
        "**Цель исследования** — проверить три гипотезы:\n",
        "1. Активность пользователей зависит от дня недели. Причём в Москве и Петербурге это проявляется по-разному.\n",
        "2. В понедельник утром в Москве преобладают одни жанры, а в Петербурге — другие. Так же и вечером пятницы преобладают разные жанры — в зависимости от города. \n",
        "3. Москва и Петербург предпочитают разные жанры музыки. В Москве чаще слушают поп-музыку, в Петербурге — русский рэп.\n",
        "\n",
        "**Ход исследования**\n",
        "\n",
        "Данные о поведении пользователей мы получим из файла `yandex_music_project.csv`. О качестве данных ничего не известно. Поэтому перед проверкой гипотез понадобится обзор данных. \n",
        "\n",
        "Мы проверим данные на ошибки и оценим их влияние на исследование. Затем, на этапе предобработки мы постараемся найти возможность исправить самые критичные ошибки данных.\n",
        " \n",
        "Таким образом, исследование пройдёт в три этапа:\n",
        " 1. Обзор данных.\n",
        " 2. Предобработка данных.\n",
        " 3. Проверка гипотез.\n",
        "\n"
      ]
    },
    {
      "cell_type": "markdown",
      "metadata": {
        "id": "Ml1hmfXC_Zcs"
      },
      "source": [
        "## Обзор данных\n",
        "\n",
        "Составим первое представление о данных Яндекс.Музыки.\n",
        "\n",
        "\n"
      ]
    },
    {
      "cell_type": "markdown",
      "metadata": {
        "id": "57eAOGIz_Zcs"
      },
      "source": [
        "Основной инструмент аналитика — `pandas`. Импортируем эту библиотеку."
      ]
    },
    {
      "cell_type": "code",
      "execution_count": null,
      "metadata": {
        "id": "AXN7PHPN_Zcs"
      },
      "outputs": [],
      "source": [
        "import pandas as pd"
      ]
    },
    {
      "cell_type": "markdown",
      "metadata": {
        "id": "SG23P8tt_Zcs"
      },
      "source": [
        "Прочитаем файл `yandex_music_project.csv` из папки `/datasets` и сохраним его в переменной `df`:"
      ]
    },
    {
      "cell_type": "code",
      "execution_count": null,
      "metadata": {
        "id": "fFVu7vqh_Zct"
      },
      "outputs": [],
      "source": [
        "df = pd.read_csv('/datasets/yandex_music_project.csv')"
      ]
    },
    {
      "cell_type": "markdown",
      "metadata": {
        "id": "wj4_74AUAdrk"
      },
      "source": [
        "<div class=\"alert alert-block alert-success\">\n",
        "✔️ Ты задала правильный путь к файлу: слэш в начале пути очень важен, так как указывает, что нужно искать файл в корневой папке.\n",
        "</div>"
      ]
    },
    {
      "cell_type": "markdown",
      "metadata": {
        "id": "rDoOMd3uTqnZ"
      },
      "source": [
        "Выведем на экран первые десять строк таблицы:"
      ]
    },
    {
      "cell_type": "code",
      "execution_count": null,
      "metadata": {
        "id": "oWTVX3gW_Zct",
        "outputId": "37b53f7e-62f3-4413-e280-f0b561cc744f"
      },
      "outputs": [
        {
          "data": {
            "text/html": [
              "<div>\n",
              "<style scoped>\n",
              "    .dataframe tbody tr th:only-of-type {\n",
              "        vertical-align: middle;\n",
              "    }\n",
              "\n",
              "    .dataframe tbody tr th {\n",
              "        vertical-align: top;\n",
              "    }\n",
              "\n",
              "    .dataframe thead th {\n",
              "        text-align: right;\n",
              "    }\n",
              "</style>\n",
              "<table border=\"1\" class=\"dataframe\">\n",
              "  <thead>\n",
              "    <tr style=\"text-align: right;\">\n",
              "      <th></th>\n",
              "      <th>userID</th>\n",
              "      <th>Track</th>\n",
              "      <th>artist</th>\n",
              "      <th>genre</th>\n",
              "      <th>City</th>\n",
              "      <th>time</th>\n",
              "      <th>Day</th>\n",
              "    </tr>\n",
              "  </thead>\n",
              "  <tbody>\n",
              "    <tr>\n",
              "      <td>0</td>\n",
              "      <td>FFB692EC</td>\n",
              "      <td>Kamigata To Boots</td>\n",
              "      <td>The Mass Missile</td>\n",
              "      <td>rock</td>\n",
              "      <td>Saint-Petersburg</td>\n",
              "      <td>20:28:33</td>\n",
              "      <td>Wednesday</td>\n",
              "    </tr>\n",
              "    <tr>\n",
              "      <td>1</td>\n",
              "      <td>55204538</td>\n",
              "      <td>Delayed Because of Accident</td>\n",
              "      <td>Andreas Rönnberg</td>\n",
              "      <td>rock</td>\n",
              "      <td>Moscow</td>\n",
              "      <td>14:07:09</td>\n",
              "      <td>Friday</td>\n",
              "    </tr>\n",
              "    <tr>\n",
              "      <td>2</td>\n",
              "      <td>20EC38</td>\n",
              "      <td>Funiculì funiculà</td>\n",
              "      <td>Mario Lanza</td>\n",
              "      <td>pop</td>\n",
              "      <td>Saint-Petersburg</td>\n",
              "      <td>20:58:07</td>\n",
              "      <td>Wednesday</td>\n",
              "    </tr>\n",
              "    <tr>\n",
              "      <td>3</td>\n",
              "      <td>A3DD03C9</td>\n",
              "      <td>Dragons in the Sunset</td>\n",
              "      <td>Fire + Ice</td>\n",
              "      <td>folk</td>\n",
              "      <td>Saint-Petersburg</td>\n",
              "      <td>08:37:09</td>\n",
              "      <td>Monday</td>\n",
              "    </tr>\n",
              "    <tr>\n",
              "      <td>4</td>\n",
              "      <td>E2DC1FAE</td>\n",
              "      <td>Soul People</td>\n",
              "      <td>Space Echo</td>\n",
              "      <td>dance</td>\n",
              "      <td>Moscow</td>\n",
              "      <td>08:34:34</td>\n",
              "      <td>Monday</td>\n",
              "    </tr>\n",
              "    <tr>\n",
              "      <td>5</td>\n",
              "      <td>842029A1</td>\n",
              "      <td>Преданная</td>\n",
              "      <td>IMPERVTOR</td>\n",
              "      <td>rusrap</td>\n",
              "      <td>Saint-Petersburg</td>\n",
              "      <td>13:09:41</td>\n",
              "      <td>Friday</td>\n",
              "    </tr>\n",
              "    <tr>\n",
              "      <td>6</td>\n",
              "      <td>4CB90AA5</td>\n",
              "      <td>True</td>\n",
              "      <td>Roman Messer</td>\n",
              "      <td>dance</td>\n",
              "      <td>Moscow</td>\n",
              "      <td>13:00:07</td>\n",
              "      <td>Wednesday</td>\n",
              "    </tr>\n",
              "    <tr>\n",
              "      <td>7</td>\n",
              "      <td>F03E1C1F</td>\n",
              "      <td>Feeling This Way</td>\n",
              "      <td>Polina Griffith</td>\n",
              "      <td>dance</td>\n",
              "      <td>Moscow</td>\n",
              "      <td>20:47:49</td>\n",
              "      <td>Wednesday</td>\n",
              "    </tr>\n",
              "    <tr>\n",
              "      <td>8</td>\n",
              "      <td>8FA1D3BE</td>\n",
              "      <td>И вновь продолжается бой</td>\n",
              "      <td>NaN</td>\n",
              "      <td>ruspop</td>\n",
              "      <td>Moscow</td>\n",
              "      <td>09:17:40</td>\n",
              "      <td>Friday</td>\n",
              "    </tr>\n",
              "    <tr>\n",
              "      <td>9</td>\n",
              "      <td>E772D5C0</td>\n",
              "      <td>Pessimist</td>\n",
              "      <td>NaN</td>\n",
              "      <td>dance</td>\n",
              "      <td>Saint-Petersburg</td>\n",
              "      <td>21:20:49</td>\n",
              "      <td>Wednesday</td>\n",
              "    </tr>\n",
              "  </tbody>\n",
              "</table>\n",
              "</div>"
            ],
            "text/plain": [
              "     userID                        Track            artist   genre  \\\n",
              "0  FFB692EC            Kamigata To Boots  The Mass Missile    rock   \n",
              "1  55204538  Delayed Because of Accident  Andreas Rönnberg    rock   \n",
              "2    20EC38            Funiculì funiculà       Mario Lanza     pop   \n",
              "3  A3DD03C9        Dragons in the Sunset        Fire + Ice    folk   \n",
              "4  E2DC1FAE                  Soul People        Space Echo   dance   \n",
              "5  842029A1                    Преданная         IMPERVTOR  rusrap   \n",
              "6  4CB90AA5                         True      Roman Messer   dance   \n",
              "7  F03E1C1F             Feeling This Way   Polina Griffith   dance   \n",
              "8  8FA1D3BE     И вновь продолжается бой               NaN  ruspop   \n",
              "9  E772D5C0                    Pessimist               NaN   dance   \n",
              "\n",
              "             City        time        Day  \n",
              "0  Saint-Petersburg  20:28:33  Wednesday  \n",
              "1            Moscow  14:07:09     Friday  \n",
              "2  Saint-Petersburg  20:58:07  Wednesday  \n",
              "3  Saint-Petersburg  08:37:09     Monday  \n",
              "4            Moscow  08:34:34     Monday  \n",
              "5  Saint-Petersburg  13:09:41     Friday  \n",
              "6            Moscow  13:00:07  Wednesday  \n",
              "7            Moscow  20:47:49  Wednesday  \n",
              "8            Moscow  09:17:40     Friday  \n",
              "9  Saint-Petersburg  21:20:49  Wednesday  "
            ]
          },
          "execution_count": 3,
          "metadata": {},
          "output_type": "execute_result"
        }
      ],
      "source": [
        "df.head(10)"
      ]
    },
    {
      "cell_type": "markdown",
      "metadata": {
        "id": "EO73Kwic_Zct"
      },
      "source": [
        "Получим общую информацию о таблице:"
      ]
    },
    {
      "cell_type": "code",
      "execution_count": null,
      "metadata": {
        "id": "DSf2kIb-_Zct",
        "outputId": "70a061e2-ce20-4cd9-ea80-deb2f15e7641"
      },
      "outputs": [
        {
          "data": {
            "text/plain": [
              "<bound method DataFrame.info of          userID                              Track            artist  \\\n",
              "0      FFB692EC                  Kamigata To Boots  The Mass Missile   \n",
              "1      55204538        Delayed Because of Accident  Andreas Rönnberg   \n",
              "2        20EC38                  Funiculì funiculà       Mario Lanza   \n",
              "3      A3DD03C9              Dragons in the Sunset        Fire + Ice   \n",
              "4      E2DC1FAE                        Soul People        Space Echo   \n",
              "...         ...                                ...               ...   \n",
              "65074  729CBB09                            My Name            McLean   \n",
              "65075  D08D4A55  Maybe One Day (feat. Black Spade)       Blu & Exile   \n",
              "65076  C5E3A0D5                          Jalopiina               NaN   \n",
              "65077  321D0506                      Freight Train     Chas McDevitt   \n",
              "65078  3A64EF84          Tell Me Sweet Little Lies      Monica Lopez   \n",
              "\n",
              "            genre            City        time        Day  \n",
              "0            rock  Saint-Petersburg  20:28:33  Wednesday  \n",
              "1            rock            Moscow  14:07:09     Friday  \n",
              "2             pop  Saint-Petersburg  20:58:07  Wednesday  \n",
              "3            folk  Saint-Petersburg  08:37:09     Monday  \n",
              "4           dance            Moscow  08:34:34     Monday  \n",
              "...           ...               ...       ...        ...  \n",
              "65074         rnb            Moscow  13:32:28  Wednesday  \n",
              "65075         hip  Saint-Petersburg  10:00:00     Monday  \n",
              "65076  industrial            Moscow  20:09:26     Friday  \n",
              "65077        rock            Moscow  21:43:59     Friday  \n",
              "65078     country            Moscow  21:59:46     Friday  \n",
              "\n",
              "[65079 rows x 7 columns]>"
            ]
          },
          "execution_count": 4,
          "metadata": {},
          "output_type": "execute_result"
        }
      ],
      "source": [
        "df.info"
      ]
    },
    {
      "cell_type": "code",
      "execution_count": null,
      "metadata": {
        "id": "9XjlhbYmAdrn",
        "outputId": "3f9e5d19-8659-445c-8eb9-4fa99bfb1da9"
      },
      "outputs": [
        {
          "name": "stdout",
          "output_type": "stream",
          "text": [
            "<class 'pandas.core.frame.DataFrame'>\n",
            "RangeIndex: 65079 entries, 0 to 65078\n",
            "Data columns (total 7 columns):\n",
            "  userID    65079 non-null object\n",
            "Track       63848 non-null object\n",
            "artist      57876 non-null object\n",
            "genre       63881 non-null object\n",
            "  City      65079 non-null object\n",
            "time        65079 non-null object\n",
            "Day         65079 non-null object\n",
            "dtypes: object(7)\n",
            "memory usage: 3.5+ MB\n"
          ]
        }
      ],
      "source": [
        "# код ревьюера для объяснения\n",
        "df.info()"
      ]
    },
    {
      "cell_type": "markdown",
      "metadata": {
        "id": "TaQ2Iwbr_Zct"
      },
      "source": [
        "Итак, в таблице семь столбцов. Тип данных во всех столбцах — `object`.\n",
        "\n",
        "Согласно документации к данным:\n",
        "* `userID` — идентификатор пользователя;\n",
        "* `Track` — название трека;  \n",
        "* `artist` — имя исполнителя;\n",
        "* `genre` — название жанра;\n",
        "* `City` — город пользователя;\n",
        "* `time` — время начала прослушивания;\n",
        "* `Day` — день недели.\n",
        "\n",
        "В названиях колонок видны три нарушения стиля:\n",
        "1. Строчные буквы сочетаются с прописными.\n",
        "2. Встречаются пробелы.\n",
        "3. Названия написаны не в змеином регистре.\n",
        "\n",
        "\n",
        "\n",
        "Количество значений в столбцах различается. Значит, в данных есть пропущенные значения.\n"
      ]
    },
    {
      "cell_type": "markdown",
      "metadata": {
        "id": "MCB6-dXG_Zct"
      },
      "source": [
        "**Выводы**\n",
        "\n",
        "В каждой строке таблицы — данные о прослушанном треке. Часть колонок описывает саму композицию: название, исполнителя и жанр. Остальные данные рассказывают о пользователе: из какого он города, когда он слушал музыку. \n",
        "\n",
        "Предварительно можно утверждать, что, данных достаточно для проверки гипотез. Но встречаются пропуски в данных, а в названиях колонок — расхождения с хорошим стилем.\n",
        "\n",
        "Чтобы двигаться дальше, нужно устранить проблемы в данных."
      ]
    },
    {
      "cell_type": "markdown",
      "metadata": {
        "id": "SjYF6Ub9_Zct"
      },
      "source": [
        "## Предобработка данных\n",
        "Исправим стиль в заголовках столбцов, исключим пропуски. Затем проверим данные на дубликаты."
      ]
    },
    {
      "cell_type": "markdown",
      "metadata": {
        "id": "dIaKXr29_Zct"
      },
      "source": [
        "### Стиль заголовков\n",
        "Выведем на экран названия столбцов:"
      ]
    },
    {
      "cell_type": "code",
      "execution_count": null,
      "metadata": {
        "id": "oKOTdF_Q_Zct",
        "outputId": "97b958db-a4a8-4d32-ad22-adac2c8045ac"
      },
      "outputs": [
        {
          "data": {
            "text/plain": [
              "Index(['  userID', 'Track', 'artist', 'genre', '  City  ', 'time', 'Day'], dtype='object')"
            ]
          },
          "execution_count": 6,
          "metadata": {},
          "output_type": "execute_result"
        }
      ],
      "source": [
        "df.columns"
      ]
    },
    {
      "cell_type": "markdown",
      "metadata": {
        "id": "zj5534cv_Zct"
      },
      "source": [
        "Приведем названия в соответствие с хорошим стилем:\n",
        "* несколько слов в названии запишем в «змеином_регистре»,\n",
        "* все символы сделаем строчными,\n",
        "* устраним пробелы.\n",
        "\n",
        "Для этого переименуем колонки так:\n",
        "* `'  userID'` → `'user_id'`;\n",
        "* `'Track'` → `'track'`;\n",
        "* `'  City  '` → `'city'`;\n",
        "* `'Day'` → `'day'`."
      ]
    },
    {
      "cell_type": "code",
      "execution_count": null,
      "metadata": {
        "id": "ISlFqs5y_Zct"
      },
      "outputs": [],
      "source": [
        "df = df.rename(columns={'  userID':'user_id', 'Track':'track', '  City  ':'city', 'Day':'day'})"
      ]
    },
    {
      "cell_type": "markdown",
      "metadata": {
        "id": "1dqbh00J_Zct"
      },
      "source": [
        "Проверим результат. Для этого ещё раз выведем на экран названия столбцов:"
      ]
    },
    {
      "cell_type": "code",
      "execution_count": null,
      "metadata": {
        "id": "d4NOAmTW_Zct",
        "outputId": "29a9c517-da30-420b-917d-717631dc834d"
      },
      "outputs": [
        {
          "data": {
            "text/plain": [
              "Index(['user_id', 'track', 'artist', 'genre', 'city', 'time', 'day'], dtype='object')"
            ]
          },
          "execution_count": 8,
          "metadata": {},
          "output_type": "execute_result"
        }
      ],
      "source": [
        "df.columns"
      ]
    },
    {
      "cell_type": "markdown",
      "metadata": {
        "id": "5ISfbcfY_Zct"
      },
      "source": [
        "### Пропуски значений\n",
        "Сначала посчитаем, сколько в таблице пропущенных значений. Для этого достаточно двух методов `pandas`:"
      ]
    },
    {
      "cell_type": "code",
      "execution_count": null,
      "metadata": {
        "id": "RskX29qr_Zct",
        "outputId": "e6dfd041-5e50-4275-f35e-6a8a13045432"
      },
      "outputs": [
        {
          "data": {
            "text/plain": [
              "user_id       0\n",
              "track      1231\n",
              "artist     7203\n",
              "genre      1198\n",
              "city          0\n",
              "time          0\n",
              "day           0\n",
              "dtype: int64"
            ]
          },
          "execution_count": 9,
          "metadata": {},
          "output_type": "execute_result"
        }
      ],
      "source": [
        "df.isna().sum()"
      ]
    },
    {
      "cell_type": "markdown",
      "metadata": {
        "id": "qubhgnlO_Zct"
      },
      "source": [
        "Не все пропущенные значения влияют на исследование. Так в `track` и `artist` пропуски не важны для нашей работы. Достаточно заменить их явными обозначениями.\n",
        "\n",
        "Но пропуски в `genre` могут помешать сравнению музыкальных вкусов в Москве и Санкт-Петербурге. На практике было бы правильно установить причину пропусков и восстановить данные. Такой возможности у нас нет в учебном проекте. Придётся:\n",
        "* заполнить и эти пропуски явными обозначениями,\n",
        "* оценить, насколько они повредят расчётам. "
      ]
    },
    {
      "cell_type": "markdown",
      "metadata": {
        "id": "fSv2laPA_Zct"
      },
      "source": [
        "Заменим пропущенные значения в столбцах `track`, `artist` и `genre` на строку `'unknown'`. Для этого создадим список `columns_to_replace` с названиями столбцов, переберем его элементы циклом `for` и для каждого столбца выполним замену пропущенных значений методом `.fillna`:"
      ]
    },
    {
      "cell_type": "code",
      "execution_count": null,
      "metadata": {
        "id": "KplB5qWs_Zct"
      },
      "outputs": [],
      "source": [
        "columns_to_replace = ['track','artist','genre']\n",
        "\n",
        "for i in columns_to_replace:\n",
        "    df[i] = df[i].fillna('unknown') "
      ]
    },
    {
      "cell_type": "markdown",
      "metadata": {
        "id": "Ilsm-MZo_Zct"
      },
      "source": [
        "Убедимся, что в таблице не осталось пропусков. Для этого ещё раз посчитаем пропущенные значения."
      ]
    },
    {
      "cell_type": "code",
      "execution_count": null,
      "metadata": {
        "id": "Tq4nYRX4_Zct",
        "outputId": "3e31c9b6-43ef-4187-81e9-b9d79408fbb7"
      },
      "outputs": [
        {
          "data": {
            "text/plain": [
              "user_id    0\n",
              "track      0\n",
              "artist     0\n",
              "genre      0\n",
              "city       0\n",
              "time       0\n",
              "day        0\n",
              "dtype: int64"
            ]
          },
          "execution_count": 11,
          "metadata": {},
          "output_type": "execute_result"
        }
      ],
      "source": [
        "df.isna().sum()"
      ]
    },
    {
      "cell_type": "markdown",
      "metadata": {
        "id": "BWKRtBJ3_Zct"
      },
      "source": [
        "### Дубликаты\n",
        "Посчитаем явные дубликаты в таблице методом `.duplicated()`:"
      ]
    },
    {
      "cell_type": "code",
      "execution_count": null,
      "metadata": {
        "id": "36eES_S0_Zct",
        "outputId": "0365eb48-dcc6-4c5d-f6ec-76208ac64c1c"
      },
      "outputs": [
        {
          "data": {
            "text/plain": [
              "3826"
            ]
          },
          "execution_count": 12,
          "metadata": {},
          "output_type": "execute_result"
        }
      ],
      "source": [
        "df.duplicated().sum()"
      ]
    },
    {
      "cell_type": "markdown",
      "metadata": {
        "id": "Ot25h6XR_Zct"
      },
      "source": [
        "Вызовем специальный метод `pandas` `.drop_duplicates()`, чтобы удалить явные дубликаты:"
      ]
    },
    {
      "cell_type": "code",
      "execution_count": null,
      "metadata": {
        "id": "exFHq6tt_Zct"
      },
      "outputs": [],
      "source": [
        "df = df.drop_duplicates()"
      ]
    },
    {
      "cell_type": "markdown",
      "metadata": {
        "id": "Im2YwBEG_Zct"
      },
      "source": [
        "Ещё раз посчитаем явные дубликаты в таблице — убедимся, что полностью от них избавились:"
      ]
    },
    {
      "cell_type": "code",
      "execution_count": null,
      "metadata": {
        "id": "-8PuNWQ0_Zct",
        "outputId": "5c3d2922-4bb3-48f8-c2f3-ac76a8b7df53"
      },
      "outputs": [
        {
          "data": {
            "text/plain": [
              "0"
            ]
          },
          "execution_count": 14,
          "metadata": {},
          "output_type": "execute_result"
        }
      ],
      "source": [
        "df.duplicated().sum()"
      ]
    },
    {
      "cell_type": "markdown",
      "metadata": {
        "id": "QlFBsxAr_Zct"
      },
      "source": [
        "Теперь избавимся от неявных дубликатов в колонке `genre`. Например, название одного и того же жанра может быть записано немного по-разному. Так как такие ошибки тоже повлияют на результат исследования."
      ]
    },
    {
      "cell_type": "markdown",
      "metadata": {
        "id": "eSjWwsOh_Zct"
      },
      "source": [
        "Выведем на экран список уникальных названий жанров, отсортированный в алфавитном порядке. Для этого:\n",
        "* извлечем нужный столбец датафрейма, \n",
        "* применим к нему метод сортировки,\n",
        "* для отсортированного столбца вызовем метод `.unique()`, который вернёт уникальные значения из столбца."
      ]
    },
    {
      "cell_type": "code",
      "execution_count": null,
      "metadata": {
        "id": "JIUcqzZN_Zct",
        "outputId": "1174fc43-da5f-4dcf-f5c8-940df090fff3"
      },
      "outputs": [
        {
          "data": {
            "text/plain": [
              "array(['acid', 'acoustic', 'action', 'adult', 'africa', 'afrikaans',\n",
              "       'alternative', 'alternativepunk', 'ambient', 'americana',\n",
              "       'animated', 'anime', 'arabesk', 'arabic', 'arena',\n",
              "       'argentinetango', 'art', 'audiobook', 'author', 'avantgarde',\n",
              "       'axé', 'baile', 'balkan', 'beats', 'bigroom', 'black', 'bluegrass',\n",
              "       'blues', 'bollywood', 'bossa', 'brazilian', 'breakbeat', 'breaks',\n",
              "       'broadway', 'cantautori', 'cantopop', 'canzone', 'caribbean',\n",
              "       'caucasian', 'celtic', 'chamber', 'chanson', 'children', 'chill',\n",
              "       'chinese', 'choral', 'christian', 'christmas', 'classical',\n",
              "       'classicmetal', 'club', 'colombian', 'comedy', 'conjazz',\n",
              "       'contemporary', 'country', 'cuban', 'dance', 'dancehall',\n",
              "       'dancepop', 'dark', 'death', 'deep', 'deutschrock', 'deutschspr',\n",
              "       'dirty', 'disco', 'dnb', 'documentary', 'downbeat', 'downtempo',\n",
              "       'drum', 'dub', 'dubstep', 'eastern', 'easy', 'electronic',\n",
              "       'electropop', 'emo', 'entehno', 'epicmetal', 'estrada', 'ethnic',\n",
              "       'eurofolk', 'european', 'experimental', 'extrememetal', 'fado',\n",
              "       'fairytail', 'film', 'fitness', 'flamenco', 'folk', 'folklore',\n",
              "       'folkmetal', 'folkrock', 'folktronica', 'forró', 'frankreich',\n",
              "       'französisch', 'french', 'funk', 'future', 'gangsta', 'garage',\n",
              "       'german', 'ghazal', 'gitarre', 'glitch', 'gospel', 'gothic',\n",
              "       'grime', 'grunge', 'gypsy', 'handsup', \"hard'n'heavy\", 'hardcore',\n",
              "       'hardstyle', 'hardtechno', 'hip', 'hip-hop', 'hiphop',\n",
              "       'historisch', 'holiday', 'hop', 'horror', 'house', 'hymn', 'idm',\n",
              "       'independent', 'indian', 'indie', 'indipop', 'industrial',\n",
              "       'inspirational', 'instrumental', 'international', 'irish', 'jam',\n",
              "       'japanese', 'jazz', 'jewish', 'jpop', 'jungle', 'k-pop',\n",
              "       'karadeniz', 'karaoke', 'kayokyoku', 'korean', 'laiko', 'latin',\n",
              "       'latino', 'leftfield', 'local', 'lounge', 'loungeelectronic',\n",
              "       'lovers', 'malaysian', 'mandopop', 'marschmusik', 'meditative',\n",
              "       'mediterranean', 'melodic', 'metal', 'metalcore', 'mexican',\n",
              "       'middle', 'minimal', 'miscellaneous', 'modern', 'mood', 'mpb',\n",
              "       'muslim', 'native', 'neoklassik', 'neue', 'new', 'newage',\n",
              "       'newwave', 'nu', 'nujazz', 'numetal', 'oceania', 'old', 'opera',\n",
              "       'orchestral', 'other', 'piano', 'podcasts', 'pop', 'popdance',\n",
              "       'popelectronic', 'popeurodance', 'poprussian', 'post',\n",
              "       'posthardcore', 'postrock', 'power', 'progmetal', 'progressive',\n",
              "       'psychedelic', 'punjabi', 'punk', 'quebecois', 'ragga', 'ram',\n",
              "       'rancheras', 'rap', 'rave', 'reggae', 'reggaeton', 'regional',\n",
              "       'relax', 'religious', 'retro', 'rhythm', 'rnb', 'rnr', 'rock',\n",
              "       'rockabilly', 'rockalternative', 'rockindie', 'rockother',\n",
              "       'romance', 'roots', 'ruspop', 'rusrap', 'rusrock', 'russian',\n",
              "       'salsa', 'samba', 'scenic', 'schlager', 'self', 'sertanejo',\n",
              "       'shanson', 'shoegazing', 'showtunes', 'singer', 'ska', 'skarock',\n",
              "       'slow', 'smooth', 'soft', 'soul', 'soulful', 'sound', 'soundtrack',\n",
              "       'southern', 'specialty', 'speech', 'spiritual', 'sport',\n",
              "       'stonerrock', 'surf', 'swing', 'synthpop', 'synthrock',\n",
              "       'sängerportrait', 'tango', 'tanzorchester', 'taraftar', 'tatar',\n",
              "       'tech', 'techno', 'teen', 'thrash', 'top', 'traditional',\n",
              "       'tradjazz', 'trance', 'tribal', 'trip', 'triphop', 'tropical',\n",
              "       'türk', 'türkçe', 'ukrrock', 'unknown', 'urban', 'uzbek',\n",
              "       'variété', 'vi', 'videogame', 'vocal', 'western', 'world',\n",
              "       'worldbeat', 'ïîï', 'электроника'], dtype=object)"
            ]
          },
          "execution_count": 15,
          "metadata": {},
          "output_type": "execute_result"
        }
      ],
      "source": [
        "df['genre'].sort_values().unique()"
      ]
    },
    {
      "cell_type": "markdown",
      "metadata": {
        "id": "qej-Qmuo_Zct"
      },
      "source": [
        "Просмотрим в список и обнаружим неявные дубликаты названия `hiphop`. Это могут быть названия с ошибками или альтернативные названия того же жанра.\n",
        "\n",
        "Мы видим следующие неявные дубликаты:\n",
        "* *hip*,\n",
        "* *hop*,\n",
        "* *hip-hop*.\n",
        "\n",
        "Чтобы очистить от них таблицу, напишем функцию `replace_wrong_genres()` с двумя параметрами: \n",
        "* `wrong_genres` — список дубликатов,\n",
        "* `correct_genre` — строка с правильным значением.\n",
        "\n",
        "Функция исправит колонку `genre` в таблице `df`: заменит каждое значение из списка `wrong_genres` на значение из `correct_genre`."
      ]
    },
    {
      "cell_type": "code",
      "execution_count": null,
      "metadata": {
        "id": "ErNDkmns_Zct"
      },
      "outputs": [],
      "source": [
        "def replace_wrong_genres(wrong_genres, correct_genre):\n",
        "    df['genre'] = df['genre'].replace(wrong_genres, correct_genre)"
      ]
    },
    {
      "cell_type": "markdown",
      "metadata": {
        "id": "aDoBJxbA_Zct"
      },
      "source": [
        "Вызовем функцию `replace_wrong_genres()` и передадим ей такие аргументы, чтобы она устранила неявные дубликаты: вместо `hip`, `hop` и `hip-hop` в таблице должно быть значение `hiphop`:"
      ]
    },
    {
      "cell_type": "code",
      "execution_count": null,
      "metadata": {
        "id": "YN5i2hpmSo09"
      },
      "outputs": [],
      "source": [
        "replace_wrong_genres(['hip', 'hop', 'hip-hop'], 'hiphop')"
      ]
    },
    {
      "cell_type": "markdown",
      "metadata": {
        "id": "zQKF16_RG15m"
      },
      "source": [
        "Проверим, что заменили неправильные названия:\n",
        "\n",
        "*   hip\n",
        "*   hop\n",
        "*   hip-hop\n",
        "\n",
        "Выведем отсортированный список уникальных значений столбца `genre`:"
      ]
    },
    {
      "cell_type": "code",
      "execution_count": null,
      "metadata": {
        "id": "wvixALnFG15m",
        "outputId": "412b44fe-1944-475c-86f4-d336a21fba99"
      },
      "outputs": [
        {
          "data": {
            "text/plain": [
              "array(['acid', 'acoustic', 'action', 'adult', 'africa', 'afrikaans',\n",
              "       'alternative', 'alternativepunk', 'ambient', 'americana',\n",
              "       'animated', 'anime', 'arabesk', 'arabic', 'arena',\n",
              "       'argentinetango', 'art', 'audiobook', 'author', 'avantgarde',\n",
              "       'axé', 'baile', 'balkan', 'beats', 'bigroom', 'black', 'bluegrass',\n",
              "       'blues', 'bollywood', 'bossa', 'brazilian', 'breakbeat', 'breaks',\n",
              "       'broadway', 'cantautori', 'cantopop', 'canzone', 'caribbean',\n",
              "       'caucasian', 'celtic', 'chamber', 'chanson', 'children', 'chill',\n",
              "       'chinese', 'choral', 'christian', 'christmas', 'classical',\n",
              "       'classicmetal', 'club', 'colombian', 'comedy', 'conjazz',\n",
              "       'contemporary', 'country', 'cuban', 'dance', 'dancehall',\n",
              "       'dancepop', 'dark', 'death', 'deep', 'deutschrock', 'deutschspr',\n",
              "       'dirty', 'disco', 'dnb', 'documentary', 'downbeat', 'downtempo',\n",
              "       'drum', 'dub', 'dubstep', 'eastern', 'easy', 'electronic',\n",
              "       'electropop', 'emo', 'entehno', 'epicmetal', 'estrada', 'ethnic',\n",
              "       'eurofolk', 'european', 'experimental', 'extrememetal', 'fado',\n",
              "       'fairytail', 'film', 'fitness', 'flamenco', 'folk', 'folklore',\n",
              "       'folkmetal', 'folkrock', 'folktronica', 'forró', 'frankreich',\n",
              "       'französisch', 'french', 'funk', 'future', 'gangsta', 'garage',\n",
              "       'german', 'ghazal', 'gitarre', 'glitch', 'gospel', 'gothic',\n",
              "       'grime', 'grunge', 'gypsy', 'handsup', \"hard'n'heavy\", 'hardcore',\n",
              "       'hardstyle', 'hardtechno', 'hiphop', 'historisch', 'holiday',\n",
              "       'horror', 'house', 'hymn', 'idm', 'independent', 'indian', 'indie',\n",
              "       'indipop', 'industrial', 'inspirational', 'instrumental',\n",
              "       'international', 'irish', 'jam', 'japanese', 'jazz', 'jewish',\n",
              "       'jpop', 'jungle', 'k-pop', 'karadeniz', 'karaoke', 'kayokyoku',\n",
              "       'korean', 'laiko', 'latin', 'latino', 'leftfield', 'local',\n",
              "       'lounge', 'loungeelectronic', 'lovers', 'malaysian', 'mandopop',\n",
              "       'marschmusik', 'meditative', 'mediterranean', 'melodic', 'metal',\n",
              "       'metalcore', 'mexican', 'middle', 'minimal', 'miscellaneous',\n",
              "       'modern', 'mood', 'mpb', 'muslim', 'native', 'neoklassik', 'neue',\n",
              "       'new', 'newage', 'newwave', 'nu', 'nujazz', 'numetal', 'oceania',\n",
              "       'old', 'opera', 'orchestral', 'other', 'piano', 'podcasts', 'pop',\n",
              "       'popdance', 'popelectronic', 'popeurodance', 'poprussian', 'post',\n",
              "       'posthardcore', 'postrock', 'power', 'progmetal', 'progressive',\n",
              "       'psychedelic', 'punjabi', 'punk', 'quebecois', 'ragga', 'ram',\n",
              "       'rancheras', 'rap', 'rave', 'reggae', 'reggaeton', 'regional',\n",
              "       'relax', 'religious', 'retro', 'rhythm', 'rnb', 'rnr', 'rock',\n",
              "       'rockabilly', 'rockalternative', 'rockindie', 'rockother',\n",
              "       'romance', 'roots', 'ruspop', 'rusrap', 'rusrock', 'russian',\n",
              "       'salsa', 'samba', 'scenic', 'schlager', 'self', 'sertanejo',\n",
              "       'shanson', 'shoegazing', 'showtunes', 'singer', 'ska', 'skarock',\n",
              "       'slow', 'smooth', 'soft', 'soul', 'soulful', 'sound', 'soundtrack',\n",
              "       'southern', 'specialty', 'speech', 'spiritual', 'sport',\n",
              "       'stonerrock', 'surf', 'swing', 'synthpop', 'synthrock',\n",
              "       'sängerportrait', 'tango', 'tanzorchester', 'taraftar', 'tatar',\n",
              "       'tech', 'techno', 'teen', 'thrash', 'top', 'traditional',\n",
              "       'tradjazz', 'trance', 'tribal', 'trip', 'triphop', 'tropical',\n",
              "       'türk', 'türkçe', 'ukrrock', 'unknown', 'urban', 'uzbek',\n",
              "       'variété', 'vi', 'videogame', 'vocal', 'western', 'world',\n",
              "       'worldbeat', 'ïîï', 'электроника'], dtype=object)"
            ]
          },
          "execution_count": 18,
          "metadata": {},
          "output_type": "execute_result"
        }
      ],
      "source": [
        "df['genre'].sort_values().unique()"
      ]
    },
    {
      "cell_type": "markdown",
      "metadata": {
        "id": "jz6a9-7HQUDd"
      },
      "source": [
        "**Выводы**\n",
        "\n",
        "Предобработка обнаружила три проблемы в данных:\n",
        "\n",
        "- нарушения в стиле заголовков,\n",
        "- пропущенные значения,\n",
        "- дубликаты — явные и неявные.\n",
        "\n",
        "Мы исправили заголовки, чтобы упростить работу с таблицей. Без дубликатов исследование станет более точным.\n",
        "\n",
        "Пропущенные значения мы заменили на `'unknown'`. Ещё предстоит выяснить, не повредят ли исследованию пропуски в колонке `genre`.\n",
        "\n",
        "Теперь можно перейти к проверке гипотез. "
      ]
    },
    {
      "cell_type": "markdown",
      "metadata": {
        "id": "WttZHXH0SqKk"
      },
      "source": [
        "## Проверка гипотез"
      ]
    },
    {
      "cell_type": "markdown",
      "metadata": {
        "id": "Im936VVi_Zcu"
      },
      "source": [
        "### Сравнение поведения пользователей двух столиц"
      ]
    },
    {
      "cell_type": "markdown",
      "metadata": {
        "id": "nwt_MuaL_Zcu"
      },
      "source": [
        "Первая гипотеза утверждает, что пользователи по-разному слушают музыку в Москве и Санкт-Петербурге. Проверим это предположение по данным о трёх днях недели — понедельнике, среде и пятнице. Для этого:\n",
        "\n",
        "* Разделим пользователей Москвы и Санкт-Петербурга\n",
        "* Сравним, сколько треков послушала каждая группа пользователей в понедельник, среду и пятницу.\n"
      ]
    },
    {
      "cell_type": "markdown",
      "metadata": {
        "id": "8Dw_YMmT_Zcu"
      },
      "source": [
        "Сначала выполним каждый из расчётов по отдельности. \n",
        "\n",
        "Оценим активность пользователей в каждом городе. Сгруппируем данные по городу и посчитаем прослушивания в каждой группе.\n",
        "\n"
      ]
    },
    {
      "cell_type": "code",
      "execution_count": null,
      "metadata": {
        "id": "0_Qs96oh_Zcu",
        "outputId": "dfc43e43-30f7-4319-a204-2a419b532246"
      },
      "outputs": [
        {
          "data": {
            "text/plain": [
              "city\n",
              "Moscow              42741\n",
              "Saint-Petersburg    18512\n",
              "Name: track, dtype: int64"
            ]
          },
          "execution_count": 19,
          "metadata": {},
          "output_type": "execute_result"
        }
      ],
      "source": [
        "df.groupby('city')['track'].count()"
      ]
    },
    {
      "cell_type": "markdown",
      "metadata": {
        "id": "dzli3w8o_Zcu"
      },
      "source": [
        "Очевидно, что в Москве прослушиваний больше, чем в Петербурге. Из этого не следует, что московские пользователи чаще слушают музыку. Просто самих пользователей в Москве больше.\n",
        "\n",
        "Теперь сгруппируем данные по дню недели и подсчитаем прослушивания в понедельник, среду и пятницу. Примечательно, что в данных есть информация только о прослушиваниях только за эти дни.\n"
      ]
    },
    {
      "cell_type": "code",
      "execution_count": null,
      "metadata": {
        "id": "uZMKjiJz_Zcu",
        "outputId": "98bf7117-891f-4f97-cb58-5fc30838a3fe"
      },
      "outputs": [
        {
          "data": {
            "text/plain": [
              "day\n",
              "Friday       21840\n",
              "Monday       21354\n",
              "Wednesday    18059\n",
              "Name: track, dtype: int64"
            ]
          },
          "execution_count": 20,
          "metadata": {},
          "output_type": "execute_result"
        }
      ],
      "source": [
        "df.groupby('day')['track'].count()"
      ]
    },
    {
      "cell_type": "markdown",
      "metadata": {
        "id": "cC2tNrlL_Zcu"
      },
      "source": [
        "Отметим, что в среднем пользователи из двух городов менее активны по средам. Но картина может измениться, если рассмотреть каждый город в отдельности."
      ]
    },
    {
      "cell_type": "markdown",
      "metadata": {
        "id": "POzs8bGa_Zcu"
      },
      "source": [
        "Мы увидели, как работает группировка по городу и по дням недели. Теперь напишем функцию, которая объединит два эти расчёта.\n",
        "\n",
        "Создадим функцию `number_tracks()`, которая посчитает прослушивания для заданного дня и города. Ей понадобятся два параметра:\n",
        "* день недели,\n",
        "* название города.\n",
        "\n",
        "В функции сохраним в переменную строки исходной таблицы, у которых значение:\n",
        "  * в колонке `day` равно параметру `day`,\n",
        "  * в колонке `city` равно параметру `city`.\n",
        "\n",
        "Для этого применим последовательную фильтрацию с логической индексацией.\n",
        "\n",
        "Затем посчитаем значения в столбце `user_id` получившейся таблицы. Результат сохраним в новую переменную. Вернем эту переменную из функции."
      ]
    },
    {
      "cell_type": "code",
      "execution_count": null,
      "metadata": {
        "id": "Nz3GdQB1_Zcu"
      },
      "outputs": [],
      "source": [
        "def number_tracks(day, city):                           # Объявляется функция с двумя параметрами: day, city.\n",
        "    track_list = df[(df['day'] == day)]                 # В переменной track_list сохраняются те строки таблицы df, для которых \n",
        "                                                        # значение в столбце 'day' равно параметру day и одновременно значение\n",
        "    track_list = track_list[track_list['city'] == city] # в столбце 'city' равно параметру city.\n",
        "    track_list_count = track_list['user_id'].count()    # В переменной track_list_count сохраняется число значений столбца 'user_id',\n",
        "                                                        # рассчитанное методом count() для таблицы track_list.\n",
        "    return track_list_count                             # Функция возвращает число - значение track_list_count.\n",
        "    \n",
        "\n",
        "# Функция для подсчёта прослушиваний для конкретного города и дня.\n",
        "# С помощью последовательной фильтрации с логической индексацией она \n",
        "# сначала получит из исходной таблицы строки с нужным днём,\n",
        "# затем из результата отфильтрует строки с нужным городом,\n",
        "# методом count() посчитает количество значений в колонке user_id. \n",
        "# Это количество функция вернёт в качестве результата"
      ]
    },
    {
      "cell_type": "markdown",
      "metadata": {
        "id": "ytf7xFrFJQ2r"
      },
      "source": [
        "Вызовем `number_tracks()` шесть раз, меняя значение параметров — так, чтобы получить данные для каждого города в каждый из трёх дней."
      ]
    },
    {
      "cell_type": "code",
      "execution_count": null,
      "metadata": {
        "id": "rJcRATNQ_Zcu",
        "outputId": "3eaf629b-cc3d-4b7d-baaf-29b039e44551"
      },
      "outputs": [
        {
          "data": {
            "text/plain": [
              "15740"
            ]
          },
          "execution_count": 22,
          "metadata": {},
          "output_type": "execute_result"
        }
      ],
      "source": [
        "number_tracks('Monday', 'Moscow') # количество прослушиваний в Москве по понедельникам"
      ]
    },
    {
      "cell_type": "code",
      "execution_count": null,
      "metadata": {
        "id": "hq_ncZ5T_Zcu",
        "outputId": "6e126f14-b271-4b73-e141-354e5e630f33"
      },
      "outputs": [
        {
          "data": {
            "text/plain": [
              "5614"
            ]
          },
          "execution_count": 23,
          "metadata": {},
          "output_type": "execute_result"
        }
      ],
      "source": [
        "number_tracks('Monday', 'Saint-Petersburg') # количество прослушиваний в Санкт-Петербурге по понедельникам"
      ]
    },
    {
      "cell_type": "code",
      "execution_count": null,
      "metadata": {
        "id": "_NTy2VPU_Zcu",
        "outputId": "a4271192-abbb-4d6b-9046-f0fe2cafb912"
      },
      "outputs": [
        {
          "data": {
            "text/plain": [
              "11056"
            ]
          },
          "execution_count": 24,
          "metadata": {},
          "output_type": "execute_result"
        }
      ],
      "source": [
        "number_tracks('Wednesday', 'Moscow') # количество прослушиваний в Москве по средам"
      ]
    },
    {
      "cell_type": "code",
      "execution_count": null,
      "metadata": {
        "id": "j2y3TAwo_Zcu",
        "outputId": "789e1405-e0f5-4c35-89cb-39a70b823de9"
      },
      "outputs": [
        {
          "data": {
            "text/plain": [
              "7003"
            ]
          },
          "execution_count": 25,
          "metadata": {},
          "output_type": "execute_result"
        }
      ],
      "source": [
        "number_tracks('Wednesday', 'Saint-Petersburg') # количество прослушиваний в Санкт-Петербурге по средам"
      ]
    },
    {
      "cell_type": "code",
      "execution_count": null,
      "metadata": {
        "id": "vYDw5u_K_Zcu",
        "outputId": "82eacda2-34a5-4fa1-8efa-b72020f71b58"
      },
      "outputs": [
        {
          "data": {
            "text/plain": [
              "15945"
            ]
          },
          "execution_count": 26,
          "metadata": {},
          "output_type": "execute_result"
        }
      ],
      "source": [
        "number_tracks('Friday', 'Moscow') # количество прослушиваний в Москве по пятницам"
      ]
    },
    {
      "cell_type": "code",
      "execution_count": null,
      "metadata": {
        "id": "8_yzFtW3_Zcu",
        "outputId": "916fe372-f0e7-4004-95b0-96fadcaad15b"
      },
      "outputs": [
        {
          "data": {
            "text/plain": [
              "5895"
            ]
          },
          "execution_count": 27,
          "metadata": {},
          "output_type": "execute_result"
        }
      ],
      "source": [
        "number_tracks('Friday', 'Saint-Petersburg')# количество прослушиваний в Санкт-Петербурге по пятницам"
      ]
    },
    {
      "cell_type": "markdown",
      "metadata": {
        "id": "7QXffbO-_Zcu"
      },
      "source": [
        "Создадим c помощью конструктора `pd.DataFrame` таблицу, где\n",
        "* названия колонок — `['city', 'monday', 'wednesday', 'friday']`;\n",
        "* данные — результаты, которые вы получили с помощью `number_tracks`."
      ]
    },
    {
      "cell_type": "code",
      "execution_count": null,
      "metadata": {
        "id": "APAcLpOr_Zcu",
        "outputId": "ce9cec8f-5aa2-4f38-9d6d-c8b68230951e"
      },
      "outputs": [
        {
          "data": {
            "text/html": [
              "<div>\n",
              "<style scoped>\n",
              "    .dataframe tbody tr th:only-of-type {\n",
              "        vertical-align: middle;\n",
              "    }\n",
              "\n",
              "    .dataframe tbody tr th {\n",
              "        vertical-align: top;\n",
              "    }\n",
              "\n",
              "    .dataframe thead th {\n",
              "        text-align: right;\n",
              "    }\n",
              "</style>\n",
              "<table border=\"1\" class=\"dataframe\">\n",
              "  <thead>\n",
              "    <tr style=\"text-align: right;\">\n",
              "      <th></th>\n",
              "      <th>city</th>\n",
              "      <th>monday</th>\n",
              "      <th>wednesday</th>\n",
              "      <th>friday</th>\n",
              "    </tr>\n",
              "  </thead>\n",
              "  <tbody>\n",
              "    <tr>\n",
              "      <td>0</td>\n",
              "      <td>Moscow</td>\n",
              "      <td>15740</td>\n",
              "      <td>11056</td>\n",
              "      <td>15945</td>\n",
              "    </tr>\n",
              "    <tr>\n",
              "      <td>1</td>\n",
              "      <td>Saint-Petersburg</td>\n",
              "      <td>5614</td>\n",
              "      <td>7003</td>\n",
              "      <td>5895</td>\n",
              "    </tr>\n",
              "  </tbody>\n",
              "</table>\n",
              "</div>"
            ],
            "text/plain": [
              "               city monday wednesday friday\n",
              "0            Moscow  15740     11056  15945\n",
              "1  Saint-Petersburg   5614      7003   5895"
            ]
          },
          "metadata": {},
          "output_type": "display_data"
        }
      ],
      "source": [
        "rez = pd.DataFrame([\n",
        "    ['Moscow','15740','11056','15945'],\n",
        "    ['Saint-Petersburg','5614','7003','5895'],\n",
        "], columns=['city', 'monday', 'wednesday', 'friday'])\n",
        "\n",
        "display(rez)"
      ]
    },
    {
      "cell_type": "markdown",
      "metadata": {
        "id": "-EgPIHYu_Zcu"
      },
      "source": [
        "**Выводы**\n",
        "\n",
        "Данные показывают разницу поведения пользователей:\n",
        "\n",
        "- В Москве пик прослушиваний приходится на понедельник и пятницу, а в среду заметен спад.\n",
        "- В Петербурге, наоборот, больше слушают музыку по средам. Активность в понедельник и пятницу здесь почти в равной мере уступает среде.\n",
        "\n",
        "Значит, данные говорят в пользу первой гипотезы."
      ]
    },
    {
      "cell_type": "markdown",
      "metadata": {
        "id": "atZAxtq4_Zcu"
      },
      "source": [
        "### Музыка в начале и в конце недели"
      ]
    },
    {
      "cell_type": "markdown",
      "metadata": {
        "id": "eXrQqXFH_Zcu"
      },
      "source": [
        "Согласно второй гипотезе, утром в понедельник в Москве преобладают одни жанры, а в Петербурге — другие. Так же и вечером пятницы преобладают разные жанры — в зависимости от города."
      ]
    },
    {
      "cell_type": "markdown",
      "metadata": {
        "id": "S8UcW6Hw_Zcu"
      },
      "source": [
        "Сохраним таблицы с данными в две переменные:\n",
        "* по Москве — в `moscow_general`;\n",
        "* по Санкт-Петербургу — в `spb_general`."
      ]
    },
    {
      "cell_type": "code",
      "execution_count": null,
      "metadata": {
        "id": "qeaFfM_P_Zcu"
      },
      "outputs": [],
      "source": [
        "moscow_general = df[df['city'] == 'Moscow']  # получение таблицы moscow_general из тех строк таблицы df, \n",
        "                                             # для которых значение в столбце 'city' равно 'Moscow'"
      ]
    },
    {
      "cell_type": "code",
      "execution_count": null,
      "metadata": {
        "id": "ORaVRKto_Zcu"
      },
      "outputs": [],
      "source": [
        "spb_general = df[df['city'] == 'Saint-Petersburg']  # получение таблицы spb_general из тех строк таблицы df,\n",
        "                                                    # для которых значение в столбце 'city' равно 'Saint-Petersburg'\n"
      ]
    },
    {
      "cell_type": "markdown",
      "metadata": {
        "id": "MEJV-CX2_Zcu"
      },
      "source": [
        "Создам функцию `genre_weekday()` с четырьмя параметрами:\n",
        "* таблица (датафрейм) с данными,\n",
        "* день недели,\n",
        "* начальная временная метка в формате 'hh:mm', \n",
        "* последняя временная метка в формате 'hh:mm'.\n",
        "\n",
        "Функция вернет информацию о топ-10 жанров тех треков, которые прослушивали в указанный день, в промежутке между двумя отметками времени."
      ]
    },
    {
      "cell_type": "code",
      "execution_count": null,
      "metadata": {
        "id": "laJT9BYl_Zcu"
      },
      "outputs": [],
      "source": [
        "def genre_weekday(table, day, time1, time2):                           # Объявление функции genre_weekday() с параметрами table, day, time1, time2,\n",
        "                                                                       # которая возвращает информацию о самых популярных жанрах в указанный день в заданное время:\n",
        "                                                                       # 1) в переменную genre_df сохраняются те строки переданного датафрейма table, для которых одновременно:\n",
        "    genre_df = table[table['day'] == day]                              #    - значение в столбце day равно значению аргумента day\n",
        "    genre_df = genre_df[genre_df['time'] > time1]                      #    - значение в столбце time больше значения аргумента time1 \n",
        "    genre_df = genre_df[genre_df['time'] < time2]                      #    - значение в столбце time меньше значения аргумента time2\n",
        "    genre_df_count = genre_df.groupby('genre')['track'].count()        # 2) сгруппируем датафрейм genre_df по столбцу genre, возьмем один из его\n",
        "                                                                       #    столбцов и посчитаем методом count() количество записей для каждого из\n",
        "                                                                       #    присутствующих жанров, получившийся Series запишем в переменную genre_df_count\n",
        "    genre_df_sorted = genre_df_count.sort_values(ascending = False)    # 3) отсортируем genre_df_count по убыванию встречаемости и сохраним в переменную genre_df_sorted\n",
        "    return(genre_df_sorted.head(10))                                   # 4) выведем Series из 10 первых значений genre_df_sorted, это топ-10 популярных жанров (в указанный день, в заданное время)"
      ]
    },
    {
      "cell_type": "markdown",
      "metadata": {
        "id": "la2s2_PF_Zcu"
      },
      "source": [
        "Cравним результаты функции `genre_weekday()` для Москвы и Санкт-Петербурга в понедельник утром (с 7:00 до 11:00) и в пятницу вечером (с 17:00 до 23:00):"
      ]
    },
    {
      "cell_type": "code",
      "execution_count": null,
      "metadata": {
        "id": "yz7itPUQ_Zcu",
        "outputId": "60749c01-3df0-4d41-bd3d-7bbd000c5a9e"
      },
      "outputs": [
        {
          "data": {
            "text/plain": [
              "genre\n",
              "pop            781\n",
              "dance          549\n",
              "electronic     480\n",
              "rock           474\n",
              "hiphop         286\n",
              "ruspop         186\n",
              "world          181\n",
              "rusrap         175\n",
              "alternative    164\n",
              "unknown        161\n",
              "Name: track, dtype: int64"
            ]
          },
          "execution_count": 32,
          "metadata": {},
          "output_type": "execute_result"
        }
      ],
      "source": [
        "genre_weekday(moscow_general, 'Monday', '07:00', '11:00' ) # вызов функции для утра понедельника в Москве (вместо df — таблица moscow_general)"
      ]
    },
    {
      "cell_type": "code",
      "execution_count": null,
      "metadata": {
        "id": "kwUcHPdy_Zcu",
        "outputId": "e0152072-b9b3-4249-9f8f-cb8bdac2000b"
      },
      "outputs": [
        {
          "data": {
            "text/plain": [
              "genre\n",
              "pop            218\n",
              "dance          182\n",
              "rock           162\n",
              "electronic     147\n",
              "hiphop          80\n",
              "ruspop          64\n",
              "alternative     58\n",
              "rusrap          55\n",
              "jazz            44\n",
              "classical       40\n",
              "Name: track, dtype: int64"
            ]
          },
          "execution_count": 33,
          "metadata": {},
          "output_type": "execute_result"
        }
      ],
      "source": [
        "genre_weekday(spb_general, 'Monday', '07:00', '11:00' )# вызов функции для утра понедельника в Петербурге (вместо df — таблица spb_general)"
      ]
    },
    {
      "cell_type": "code",
      "execution_count": null,
      "metadata": {
        "id": "EzXVRE1o_Zcu",
        "outputId": "9163765d-9a35-40a8-8e68-639c20522461"
      },
      "outputs": [
        {
          "data": {
            "text/plain": [
              "genre\n",
              "pop            713\n",
              "rock           517\n",
              "dance          495\n",
              "electronic     482\n",
              "hiphop         273\n",
              "world          208\n",
              "ruspop         170\n",
              "alternative    163\n",
              "classical      163\n",
              "rusrap         142\n",
              "Name: track, dtype: int64"
            ]
          },
          "execution_count": 34,
          "metadata": {},
          "output_type": "execute_result"
        }
      ],
      "source": [
        "genre_weekday(moscow_general, 'Friday', '17:00', '23:00' ) # вызов функции для вечера пятницы в Москве"
      ]
    },
    {
      "cell_type": "code",
      "execution_count": null,
      "metadata": {
        "id": "JZaEKu5v_Zcu",
        "outputId": "e38c2ca4-ce83-49af-e78e-f8abc5e0ce7c"
      },
      "outputs": [
        {
          "data": {
            "text/plain": [
              "genre\n",
              "pop            256\n",
              "rock           216\n",
              "electronic     216\n",
              "dance          210\n",
              "hiphop          97\n",
              "alternative     63\n",
              "jazz            61\n",
              "classical       60\n",
              "rusrap          59\n",
              "world           54\n",
              "Name: track, dtype: int64"
            ]
          },
          "execution_count": 35,
          "metadata": {},
          "output_type": "execute_result"
        }
      ],
      "source": [
        "genre_weekday(spb_general, 'Friday', '17:00', '23:00' ) # вызов функции для вечера пятницы в Петербурге"
      ]
    },
    {
      "cell_type": "markdown",
      "metadata": {
        "id": "wrCe4MNX_Zcu"
      },
      "source": [
        "**Выводы**\n",
        "\n",
        "Если сравнить топ-10 жанров в понедельник утром, можно сделать такие выводы:\n",
        "\n",
        "1. В Москве и Петербурге слушают похожую музыку. Единственное отличие — в московский рейтинг вошёл жанр “world”, а в петербургский — джаз и классика.\n",
        "\n",
        "2. В Москве пропущенных значений оказалось так много, что значение `'unknown'` заняло десятое место среди самых популярных жанров. Значит, пропущенные значения занимают существенную долю в данных и угрожают достоверности исследования.\n",
        "\n",
        "Вечер пятницы не меняет эту картину. Некоторые жанры поднимаются немного выше, другие спускаются, но в целом топ-10 остаётся тем же самым.\n",
        "\n",
        "Таким образом, вторая гипотеза подтвердилась лишь частично:\n",
        "* Пользователи слушают похожую музыку в начале недели и в конце.\n",
        "* Разница между Москвой и Петербургом не слишком выражена. В Москве чаще слушают русскую популярную музыку, в Петербурге — джаз.\n",
        "\n",
        "Однако пропуски в данных ставят под сомнение этот результат. В Москве их так много, что рейтинг топ-10 мог бы выглядеть иначе, если бы не утерянные  данные о жанрах."
      ]
    },
    {
      "cell_type": "markdown",
      "metadata": {
        "id": "JolODAqr_Zcu"
      },
      "source": [
        "### Жанровые предпочтения в Москве и Петербурге\n",
        "\n",
        "Гипотеза: Петербург — столица рэпа, музыку этого жанра там слушают чаще, чем в Москве.  А Москва — город контрастов, в котором, тем не менее, преобладает поп-музыка."
      ]
    },
    {
      "cell_type": "markdown",
      "metadata": {
        "id": "DlegSvaT_Zcu"
      },
      "source": [
        "Сгруппируем таблицу `moscow_general` по жанру и посчитаем прослушивания треков каждого жанра методом `count()`. Затем отсортируем результат в порядке убывания и сохраним его в таблице `moscow_genres`."
      ]
    },
    {
      "cell_type": "code",
      "execution_count": null,
      "metadata": {
        "id": "r19lIPke_Zcu"
      },
      "outputs": [],
      "source": [
        "moscow_genres = moscow_general.groupby('genre')['genre'].count().sort_values(ascending = False)\n",
        "\n",
        "\n",
        "# группировка таблицы moscow_general по столбцу 'genre', \n",
        "# подсчёт числа значений 'genre' в этой группировке методом count(), \n",
        "# сортировка получившегося Series в порядке убывания и сохранение в moscow_genres"
      ]
    },
    {
      "cell_type": "raw",
      "metadata": {
        "id": "c5_Xx1nCAdr2"
      },
      "source": [
        "moscow_genres = moscow_general.groupby('genre')['day'].count() \\\n",
        "                    .sort_values(ascending=False)"
      ]
    },
    {
      "cell_type": "markdown",
      "metadata": {
        "id": "6kMuomxTiIr8"
      },
      "source": [
        "Выведем на экран первые десять строк `moscow_genres`:"
      ]
    },
    {
      "cell_type": "code",
      "execution_count": null,
      "metadata": {
        "id": "WhCSooF8_Zcv",
        "outputId": "4a0e8d95-6a45-4ba8-ebef-a463f844c044"
      },
      "outputs": [
        {
          "data": {
            "text/plain": [
              "genre\n",
              "pop            5892\n",
              "dance          4435\n",
              "rock           3965\n",
              "electronic     3786\n",
              "hiphop         2096\n",
              "classical      1616\n",
              "world          1432\n",
              "alternative    1379\n",
              "ruspop         1372\n",
              "rusrap         1161\n",
              "Name: genre, dtype: int64"
            ]
          },
          "execution_count": 37,
          "metadata": {},
          "output_type": "execute_result"
        }
      ],
      "source": [
        "moscow_genres.head(10)"
      ]
    },
    {
      "cell_type": "markdown",
      "metadata": {
        "id": "cnPG2vnN_Zcv"
      },
      "source": [
        "Теперь повторим то же и для Петербурга.\n",
        "\n",
        "Сгруппируем таблицу `spb_general` по жанру. Посчитаем прослушивания треков каждого жанра. Результат отсортируем в порядке убывания и сохраним в таблице `spb_genres`:\n"
      ]
    },
    {
      "cell_type": "code",
      "execution_count": null,
      "metadata": {
        "id": "gluLIpE7_Zcv"
      },
      "outputs": [],
      "source": [
        "spb_genres = spb_general.groupby('genre')['genre'].count().sort_values(ascending = False)\n",
        "\n",
        "# группировка таблицы spb_general по столбцу 'genre', \n",
        "# подсчёт числа значений 'genre' в этой группировке методом count(), \n",
        "# сортировка получившегося Series в порядке убывания и сохранение в spb_genres"
      ]
    },
    {
      "cell_type": "markdown",
      "metadata": {
        "id": "5Doha_ODgyQ8"
      },
      "source": [
        "Выведем на экран первые десять строк `spb_genres`:"
      ]
    },
    {
      "cell_type": "code",
      "execution_count": null,
      "metadata": {
        "id": "uaGJHjVU_Zcv",
        "outputId": "3077d03e-e9bb-4fd4-eda7-da7889f484e8"
      },
      "outputs": [
        {
          "data": {
            "text/plain": [
              "genre\n",
              "pop            2431\n",
              "dance          1932\n",
              "rock           1879\n",
              "electronic     1736\n",
              "hiphop          960\n",
              "alternative     649\n",
              "classical       646\n",
              "rusrap          564\n",
              "ruspop          538\n",
              "world           515\n",
              "Name: genre, dtype: int64"
            ]
          },
          "execution_count": 39,
          "metadata": {},
          "output_type": "execute_result"
        }
      ],
      "source": [
        "spb_genres.head(10)  # просмотр первых 10 строк spb_genres"
      ]
    },
    {
      "cell_type": "markdown",
      "metadata": {
        "id": "RY51YJYu_Zcv"
      },
      "source": [
        "**Выводы**"
      ]
    },
    {
      "cell_type": "markdown",
      "metadata": {
        "id": "nVhnJEm__Zcv"
      },
      "source": [
        "Гипотеза частично подтвердилась:\n",
        "* Поп-музыка — самый популярный жанр в Москве, как и предполагала гипотеза. Более того, в топ-10 жанров встречается близкий жанр — русская популярная музыка.\n",
        "* Вопреки ожиданиям, рэп одинаково популярен в Москве и Петербурге. \n"
      ]
    },
    {
      "cell_type": "markdown",
      "metadata": {
        "id": "ykKQ0N65_Zcv"
      },
      "source": [
        "## Итоги исследования"
      ]
    },
    {
      "cell_type": "markdown",
      "metadata": {
        "id": "tjUwbHb3_Zcv"
      },
      "source": [
        "Мы проверили три гипотезы и установили:\n",
        "\n",
        "1. День недели по-разному влияет на активность пользователей в Москве и Петербурге. \n",
        "\n",
        "Первая гипотеза полностью подтвердилась.\n",
        "\n",
        "2. Музыкальные предпочтения не сильно меняются в течение недели — будь то Москва или Петербург. Небольшие различия заметны в начале недели, по понедельникам:\n",
        "* в Москве слушают музыку жанра “world”,\n",
        "* в Петербурге — джаз и классику.\n",
        "\n",
        "Таким образом, вторая гипотеза подтвердилась лишь отчасти. Этот результат мог оказаться иным, если бы не пропуски в данных.\n",
        "\n",
        "3. Во вкусах пользователей Москвы и Петербурга больше общего чем различий. Вопреки ожиданиям, предпочтения жанров в Петербурге напоминают московские.\n",
        "\n",
        "Третья гипотеза не подтвердилась. Если различия в предпочтениях и существуют, на основной массе пользователей они незаметны.\n",
        "\n"
      ]
    }
  ],
  "metadata": {
    "ExecuteTimeLog": [
      {
        "duration": 326,
        "start_time": "2021-12-06T16:10:50.100Z"
      },
      {
        "duration": 275,
        "start_time": "2021-12-06T16:11:19.357Z"
      },
      {
        "duration": 653,
        "start_time": "2021-12-06T16:11:30.107Z"
      },
      {
        "duration": 2113,
        "start_time": "2021-12-06T16:11:33.516Z"
      },
      {
        "duration": 2,
        "start_time": "2021-12-06T16:12:03.770Z"
      },
      {
        "duration": 136,
        "start_time": "2021-12-06T16:12:07.023Z"
      },
      {
        "duration": 169,
        "start_time": "2021-12-06T16:12:19.926Z"
      },
      {
        "duration": 11,
        "start_time": "2021-12-06T16:12:48.355Z"
      },
      {
        "duration": 142,
        "start_time": "2021-12-06T16:13:01.415Z"
      },
      {
        "duration": 8,
        "start_time": "2021-12-06T16:13:15.627Z"
      },
      {
        "duration": 2,
        "start_time": "2021-12-06T16:18:45.137Z"
      },
      {
        "duration": 472,
        "start_time": "2021-12-06T16:24:00.161Z"
      },
      {
        "duration": 284,
        "start_time": "2021-12-06T16:24:25.689Z"
      },
      {
        "duration": 299,
        "start_time": "2021-12-06T16:24:35.776Z"
      },
      {
        "duration": 3,
        "start_time": "2021-12-06T16:24:49.964Z"
      },
      {
        "duration": 18,
        "start_time": "2021-12-06T16:30:40.622Z"
      },
      {
        "duration": 4,
        "start_time": "2021-12-06T16:31:16.727Z"
      },
      {
        "duration": 308,
        "start_time": "2021-12-06T16:33:59.944Z"
      },
      {
        "duration": 31,
        "start_time": "2021-12-06T16:34:30.798Z"
      },
      {
        "duration": 24,
        "start_time": "2021-12-06T16:34:54.360Z"
      },
      {
        "duration": 21,
        "start_time": "2021-12-06T16:50:31.229Z"
      },
      {
        "duration": 23,
        "start_time": "2021-12-06T16:50:45.361Z"
      },
      {
        "duration": 16,
        "start_time": "2021-12-06T16:53:49.226Z"
      },
      {
        "duration": 19,
        "start_time": "2021-12-06T17:00:41.851Z"
      },
      {
        "duration": 18,
        "start_time": "2021-12-06T17:00:46.649Z"
      },
      {
        "duration": 23,
        "start_time": "2021-12-06T17:00:52.583Z"
      },
      {
        "duration": 55,
        "start_time": "2021-12-06T17:03:44.086Z"
      },
      {
        "duration": 56,
        "start_time": "2021-12-06T17:04:48.297Z"
      },
      {
        "duration": 53,
        "start_time": "2021-12-06T17:05:12.858Z"
      },
      {
        "duration": 39,
        "start_time": "2021-12-06T17:18:28.765Z"
      },
      {
        "duration": 4,
        "start_time": "2021-12-06T17:23:08.737Z"
      },
      {
        "duration": 7,
        "start_time": "2021-12-06T17:27:21.404Z"
      },
      {
        "duration": 7,
        "start_time": "2021-12-06T17:29:06.001Z"
      },
      {
        "duration": 37,
        "start_time": "2021-12-06T17:29:41.644Z"
      },
      {
        "duration": 40,
        "start_time": "2021-12-06T17:29:54.014Z"
      },
      {
        "duration": 11,
        "start_time": "2021-12-06T17:43:39.118Z"
      },
      {
        "duration": 18,
        "start_time": "2021-12-06T17:46:19.674Z"
      },
      {
        "duration": 4,
        "start_time": "2021-12-06T17:55:50.699Z"
      },
      {
        "duration": 269,
        "start_time": "2021-12-06T17:57:39.840Z"
      },
      {
        "duration": 4,
        "start_time": "2021-12-06T18:00:27.742Z"
      },
      {
        "duration": 273,
        "start_time": "2021-12-06T18:00:28.794Z"
      },
      {
        "duration": 24,
        "start_time": "2021-12-06T18:00:46.018Z"
      },
      {
        "duration": 3,
        "start_time": "2021-12-06T18:01:31.469Z"
      },
      {
        "duration": 4,
        "start_time": "2021-12-06T18:01:38.848Z"
      },
      {
        "duration": 553,
        "start_time": "2021-12-06T18:01:40.919Z"
      },
      {
        "duration": 3,
        "start_time": "2021-12-06T18:01:51.339Z"
      },
      {
        "duration": 3,
        "start_time": "2021-12-06T18:02:25.437Z"
      },
      {
        "duration": 16,
        "start_time": "2021-12-06T18:02:50.206Z"
      },
      {
        "duration": 16,
        "start_time": "2021-12-06T18:03:24.945Z"
      },
      {
        "duration": 16,
        "start_time": "2021-12-06T18:05:13.412Z"
      },
      {
        "duration": 3,
        "start_time": "2021-12-06T18:06:01.472Z"
      },
      {
        "duration": 15,
        "start_time": "2021-12-06T18:06:21.040Z"
      },
      {
        "duration": 18,
        "start_time": "2021-12-06T18:07:12.296Z"
      },
      {
        "duration": 17,
        "start_time": "2021-12-06T18:07:29.319Z"
      },
      {
        "duration": 3,
        "start_time": "2021-12-06T18:14:44.613Z"
      },
      {
        "duration": 4,
        "start_time": "2021-12-06T18:15:16.095Z"
      },
      {
        "duration": 10,
        "start_time": "2021-12-06T18:16:44.063Z"
      },
      {
        "duration": 470,
        "start_time": "2021-12-07T08:03:53.992Z"
      },
      {
        "duration": 92,
        "start_time": "2021-12-07T08:04:03.747Z"
      },
      {
        "duration": 311,
        "start_time": "2021-12-07T08:04:10.806Z"
      },
      {
        "duration": 1073,
        "start_time": "2021-12-07T08:04:44.974Z"
      },
      {
        "duration": 190,
        "start_time": "2021-12-07T08:04:46.049Z"
      },
      {
        "duration": 31,
        "start_time": "2021-12-07T08:04:46.242Z"
      },
      {
        "duration": 13,
        "start_time": "2021-12-07T08:04:46.275Z"
      },
      {
        "duration": 10,
        "start_time": "2021-12-07T08:04:46.290Z"
      },
      {
        "duration": 28,
        "start_time": "2021-12-07T08:04:46.303Z"
      },
      {
        "duration": 7,
        "start_time": "2021-12-07T08:04:46.368Z"
      },
      {
        "duration": 34,
        "start_time": "2021-12-07T08:04:46.381Z"
      },
      {
        "duration": 64,
        "start_time": "2021-12-07T08:04:46.419Z"
      },
      {
        "duration": 33,
        "start_time": "2021-12-07T08:04:46.486Z"
      },
      {
        "duration": 115,
        "start_time": "2021-12-07T08:04:46.522Z"
      },
      {
        "duration": 101,
        "start_time": "2021-12-07T08:04:46.640Z"
      },
      {
        "duration": 89,
        "start_time": "2021-12-07T08:04:46.743Z"
      },
      {
        "duration": 67,
        "start_time": "2021-12-07T08:04:46.835Z"
      },
      {
        "duration": 3,
        "start_time": "2021-12-07T08:04:46.905Z"
      },
      {
        "duration": 13,
        "start_time": "2021-12-07T08:04:46.910Z"
      },
      {
        "duration": 82,
        "start_time": "2021-12-07T08:04:46.925Z"
      },
      {
        "duration": 22,
        "start_time": "2021-12-07T08:04:47.010Z"
      },
      {
        "duration": 40,
        "start_time": "2021-12-07T08:04:47.035Z"
      },
      {
        "duration": 4,
        "start_time": "2021-12-07T08:04:47.077Z"
      },
      {
        "duration": 43,
        "start_time": "2021-12-07T08:04:47.083Z"
      },
      {
        "duration": 21,
        "start_time": "2021-12-07T08:04:47.128Z"
      },
      {
        "duration": 21,
        "start_time": "2021-12-07T08:04:47.169Z"
      },
      {
        "duration": 20,
        "start_time": "2021-12-07T08:04:47.193Z"
      },
      {
        "duration": 51,
        "start_time": "2021-12-07T08:04:47.216Z"
      },
      {
        "duration": 22,
        "start_time": "2021-12-07T08:04:47.269Z"
      },
      {
        "duration": 13,
        "start_time": "2021-12-07T08:04:47.293Z"
      },
      {
        "duration": 26,
        "start_time": "2021-12-07T08:04:47.308Z"
      },
      {
        "duration": 31,
        "start_time": "2021-12-07T08:04:47.336Z"
      },
      {
        "duration": 3,
        "start_time": "2021-12-07T08:04:47.370Z"
      },
      {
        "duration": 18,
        "start_time": "2021-12-07T08:04:47.376Z"
      },
      {
        "duration": 10,
        "start_time": "2021-12-07T08:04:47.396Z"
      },
      {
        "duration": 15,
        "start_time": "2021-12-07T08:04:47.409Z"
      },
      {
        "duration": 11,
        "start_time": "2021-12-07T08:04:47.427Z"
      },
      {
        "duration": 18,
        "start_time": "2021-12-07T08:04:47.440Z"
      },
      {
        "duration": 8,
        "start_time": "2021-12-07T08:04:47.460Z"
      },
      {
        "duration": 9,
        "start_time": "2021-12-07T08:04:47.470Z"
      },
      {
        "duration": 9,
        "start_time": "2021-12-07T08:04:47.482Z"
      },
      {
        "duration": 14,
        "start_time": "2021-12-07T08:05:06.675Z"
      },
      {
        "duration": 19,
        "start_time": "2021-12-07T08:05:15.015Z"
      },
      {
        "duration": 32,
        "start_time": "2021-12-07T08:05:24.269Z"
      },
      {
        "duration": 16,
        "start_time": "2021-12-07T08:05:42.158Z"
      },
      {
        "duration": 13,
        "start_time": "2021-12-07T08:06:32.688Z"
      },
      {
        "duration": 12,
        "start_time": "2021-12-07T08:06:36.071Z"
      },
      {
        "duration": 321,
        "start_time": "2021-12-07T08:22:55.647Z"
      },
      {
        "duration": 319,
        "start_time": "2021-12-07T08:23:58.745Z"
      },
      {
        "duration": 5,
        "start_time": "2021-12-07T08:25:57.270Z"
      },
      {
        "duration": 22,
        "start_time": "2021-12-07T08:27:56.794Z"
      },
      {
        "duration": 6,
        "start_time": "2021-12-07T08:28:56.411Z"
      },
      {
        "duration": 25,
        "start_time": "2021-12-07T08:28:59.681Z"
      },
      {
        "duration": 6,
        "start_time": "2021-12-07T08:30:09.579Z"
      },
      {
        "duration": 15,
        "start_time": "2021-12-07T08:31:55.318Z"
      },
      {
        "duration": 6,
        "start_time": "2021-12-07T08:32:49.948Z"
      },
      {
        "duration": 25,
        "start_time": "2021-12-07T08:32:52.848Z"
      },
      {
        "duration": 14,
        "start_time": "2021-12-07T08:33:07.628Z"
      },
      {
        "duration": 19,
        "start_time": "2021-12-07T08:33:17.273Z"
      },
      {
        "duration": 17,
        "start_time": "2021-12-07T08:34:32.604Z"
      },
      {
        "duration": 24,
        "start_time": "2021-12-07T08:35:35.972Z"
      },
      {
        "duration": 25,
        "start_time": "2021-12-07T08:36:04.989Z"
      },
      {
        "duration": 19,
        "start_time": "2021-12-07T08:36:27.193Z"
      },
      {
        "duration": 633,
        "start_time": "2021-12-07T08:48:52.941Z"
      },
      {
        "duration": 292,
        "start_time": "2021-12-07T08:50:12.465Z"
      },
      {
        "duration": 485,
        "start_time": "2021-12-07T08:52:29.829Z"
      },
      {
        "duration": 304,
        "start_time": "2021-12-07T08:53:07.244Z"
      },
      {
        "duration": 375,
        "start_time": "2021-12-07T08:53:36.182Z"
      },
      {
        "duration": 41,
        "start_time": "2021-12-07T08:53:57.843Z"
      },
      {
        "duration": 44,
        "start_time": "2021-12-07T08:54:46.041Z"
      },
      {
        "duration": 139,
        "start_time": "2021-12-07T08:56:15.805Z"
      },
      {
        "duration": 97,
        "start_time": "2021-12-07T08:56:26.225Z"
      },
      {
        "duration": 304,
        "start_time": "2021-12-07T08:56:46.919Z"
      },
      {
        "duration": 15,
        "start_time": "2021-12-07T08:57:01.760Z"
      },
      {
        "duration": 12,
        "start_time": "2021-12-07T08:57:38.923Z"
      },
      {
        "duration": 8,
        "start_time": "2021-12-07T08:58:06.564Z"
      },
      {
        "duration": 336,
        "start_time": "2021-12-07T09:00:31.367Z"
      },
      {
        "duration": 9,
        "start_time": "2021-12-07T09:00:42.179Z"
      },
      {
        "duration": 6,
        "start_time": "2021-12-07T09:00:45.551Z"
      },
      {
        "duration": 795,
        "start_time": "2021-12-07T15:41:56.527Z"
      },
      {
        "duration": 169,
        "start_time": "2021-12-07T15:41:57.325Z"
      },
      {
        "duration": 33,
        "start_time": "2021-12-07T15:41:57.497Z"
      },
      {
        "duration": 13,
        "start_time": "2021-12-07T15:41:57.532Z"
      },
      {
        "duration": 8,
        "start_time": "2021-12-07T15:41:57.547Z"
      },
      {
        "duration": 25,
        "start_time": "2021-12-07T15:41:57.557Z"
      },
      {
        "duration": 5,
        "start_time": "2021-12-07T15:41:57.584Z"
      },
      {
        "duration": 31,
        "start_time": "2021-12-07T15:41:57.629Z"
      },
      {
        "duration": 21,
        "start_time": "2021-12-07T15:41:57.663Z"
      },
      {
        "duration": 48,
        "start_time": "2021-12-07T15:41:57.686Z"
      },
      {
        "duration": 126,
        "start_time": "2021-12-07T15:41:57.737Z"
      },
      {
        "duration": 118,
        "start_time": "2021-12-07T15:41:57.865Z"
      },
      {
        "duration": 103,
        "start_time": "2021-12-07T15:41:57.986Z"
      },
      {
        "duration": 98,
        "start_time": "2021-12-07T15:41:58.093Z"
      },
      {
        "duration": 4,
        "start_time": "2021-12-07T15:41:58.194Z"
      },
      {
        "duration": 31,
        "start_time": "2021-12-07T15:41:58.201Z"
      },
      {
        "duration": 108,
        "start_time": "2021-12-07T15:41:58.236Z"
      },
      {
        "duration": 23,
        "start_time": "2021-12-07T15:41:58.347Z"
      },
      {
        "duration": 18,
        "start_time": "2021-12-07T15:41:58.373Z"
      },
      {
        "duration": 34,
        "start_time": "2021-12-07T15:41:58.394Z"
      },
      {
        "duration": 47,
        "start_time": "2021-12-07T15:41:58.430Z"
      },
      {
        "duration": 28,
        "start_time": "2021-12-07T15:41:58.480Z"
      },
      {
        "duration": 30,
        "start_time": "2021-12-07T15:41:58.514Z"
      },
      {
        "duration": 23,
        "start_time": "2021-12-07T15:41:58.548Z"
      },
      {
        "duration": 51,
        "start_time": "2021-12-07T15:41:58.573Z"
      },
      {
        "duration": 18,
        "start_time": "2021-12-07T15:41:58.627Z"
      },
      {
        "duration": 27,
        "start_time": "2021-12-07T15:41:58.648Z"
      },
      {
        "duration": 30,
        "start_time": "2021-12-07T15:41:58.678Z"
      },
      {
        "duration": 26,
        "start_time": "2021-12-07T15:41:58.711Z"
      },
      {
        "duration": 31,
        "start_time": "2021-12-07T15:41:58.740Z"
      },
      {
        "duration": 78,
        "start_time": "2021-12-07T15:41:58.774Z"
      },
      {
        "duration": 25,
        "start_time": "2021-12-07T15:41:58.855Z"
      },
      {
        "duration": 46,
        "start_time": "2021-12-07T15:41:58.883Z"
      },
      {
        "duration": 33,
        "start_time": "2021-12-07T15:41:58.932Z"
      },
      {
        "duration": 15,
        "start_time": "2021-12-07T15:41:58.968Z"
      },
      {
        "duration": 27,
        "start_time": "2021-12-07T15:41:58.986Z"
      },
      {
        "duration": 21,
        "start_time": "2021-12-07T15:41:59.016Z"
      },
      {
        "duration": 27,
        "start_time": "2021-12-07T15:41:59.040Z"
      },
      {
        "duration": 48,
        "start_time": "2021-12-07T15:45:59.713Z"
      },
      {
        "duration": 818,
        "start_time": "2021-12-07T15:57:31.283Z"
      },
      {
        "duration": 185,
        "start_time": "2021-12-07T15:57:32.104Z"
      },
      {
        "duration": 34,
        "start_time": "2021-12-07T15:57:32.292Z"
      },
      {
        "duration": 35,
        "start_time": "2021-12-07T15:57:32.329Z"
      },
      {
        "duration": 81,
        "start_time": "2021-12-07T15:57:32.367Z"
      },
      {
        "duration": 30,
        "start_time": "2021-12-07T15:57:32.451Z"
      },
      {
        "duration": 57,
        "start_time": "2021-12-07T15:57:32.484Z"
      },
      {
        "duration": 24,
        "start_time": "2021-12-07T15:57:32.547Z"
      },
      {
        "duration": 62,
        "start_time": "2021-12-07T15:57:32.575Z"
      },
      {
        "duration": 60,
        "start_time": "2021-12-07T15:57:32.640Z"
      },
      {
        "duration": 47,
        "start_time": "2021-12-07T15:57:32.703Z"
      },
      {
        "duration": 126,
        "start_time": "2021-12-07T15:57:32.753Z"
      },
      {
        "duration": 127,
        "start_time": "2021-12-07T15:57:32.882Z"
      },
      {
        "duration": 111,
        "start_time": "2021-12-07T15:57:33.012Z"
      },
      {
        "duration": 103,
        "start_time": "2021-12-07T15:57:33.128Z"
      },
      {
        "duration": 5,
        "start_time": "2021-12-07T15:57:33.234Z"
      },
      {
        "duration": 18,
        "start_time": "2021-12-07T15:57:33.242Z"
      },
      {
        "duration": 81,
        "start_time": "2021-12-07T15:57:33.262Z"
      },
      {
        "duration": 18,
        "start_time": "2021-12-07T15:57:33.346Z"
      },
      {
        "duration": 17,
        "start_time": "2021-12-07T15:57:33.367Z"
      },
      {
        "duration": 39,
        "start_time": "2021-12-07T15:57:33.386Z"
      },
      {
        "duration": 49,
        "start_time": "2021-12-07T15:57:33.428Z"
      },
      {
        "duration": 21,
        "start_time": "2021-12-07T15:57:33.484Z"
      },
      {
        "duration": 26,
        "start_time": "2021-12-07T15:57:33.509Z"
      },
      {
        "duration": 19,
        "start_time": "2021-12-07T15:57:33.538Z"
      },
      {
        "duration": 27,
        "start_time": "2021-12-07T15:57:33.560Z"
      },
      {
        "duration": 49,
        "start_time": "2021-12-07T15:57:33.589Z"
      },
      {
        "duration": 13,
        "start_time": "2021-12-07T15:57:33.641Z"
      },
      {
        "duration": 25,
        "start_time": "2021-12-07T15:57:33.657Z"
      },
      {
        "duration": 39,
        "start_time": "2021-12-07T15:57:33.684Z"
      },
      {
        "duration": 6,
        "start_time": "2021-12-07T15:57:33.726Z"
      },
      {
        "duration": 31,
        "start_time": "2021-12-07T15:57:33.734Z"
      },
      {
        "duration": 17,
        "start_time": "2021-12-07T15:57:33.767Z"
      },
      {
        "duration": 51,
        "start_time": "2021-12-07T15:57:33.786Z"
      },
      {
        "duration": 17,
        "start_time": "2021-12-07T15:57:33.840Z"
      },
      {
        "duration": 10,
        "start_time": "2021-12-07T15:57:33.861Z"
      },
      {
        "duration": 7,
        "start_time": "2021-12-07T15:57:33.874Z"
      },
      {
        "duration": 12,
        "start_time": "2021-12-07T15:57:33.923Z"
      },
      {
        "duration": 6,
        "start_time": "2021-12-07T15:57:33.937Z"
      }
    ],
    "colab": {
      "collapsed_sections": [],
      "name": "ca7e16bf-6a81-42b6-9fa2-97903da3e767.ipynb",
      "provenance": []
    },
    "kernelspec": {
      "display_name": "Python 3 (ipykernel)",
      "language": "python",
      "name": "python3"
    },
    "language_info": {
      "codemirror_mode": {
        "name": "ipython",
        "version": 3
      },
      "file_extension": ".py",
      "mimetype": "text/x-python",
      "name": "python",
      "nbconvert_exporter": "python",
      "pygments_lexer": "ipython3",
      "version": "3.9.5"
    },
    "toc": {
      "base_numbering": 1,
      "nav_menu": {},
      "number_sections": true,
      "sideBar": true,
      "skip_h1_title": true,
      "title_cell": "Table of Contents",
      "title_sidebar": "Contents",
      "toc_cell": false,
      "toc_position": {
        "height": "calc(100% - 180px)",
        "left": "10px",
        "top": "150px",
        "width": "270.391px"
      },
      "toc_section_display": true,
      "toc_window_display": false
    }
  },
  "nbformat": 4,
  "nbformat_minor": 0
}