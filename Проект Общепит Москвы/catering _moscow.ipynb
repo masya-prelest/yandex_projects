{
  "cells": [
    {
      "cell_type": "markdown",
      "metadata": {
        "id": "TVq3Kk_6JyAL"
      },
      "source": [
        "# Рынок заведений общественного питания Москвы  \n",
        "\n",
        "### Описание проекта  \n",
        "Согласно заданию мы решили открыть небольшое кафе в Москве. Оно оригинальное — гостей должны обслуживать роботы. Проект многообещающий, но дорогой. Вместе с партнёрами мы решились обратиться к инвесторам. Их интересует текущее положение дел на рынке — сможете ли вы снискать популярность на долгое время, когда все зеваки насмотрятся на роботов-официантов?\n",
        "Мы — гуру аналитики, и партнёры просят нас подготовить исследование рынка. У нас есть открытые данные о заведениях общественного питания в Москве.  \n",
        "\n",
        "### Шаг 1.  Загрузим данные и подготовим их к анализу\n",
        "  \n",
        "Загрузим данные о заведениях общественного питания Москвы. Убедимся, что тип данных в каждой колонке — правильный, а также отсутствуют пропущенные значения и дубликаты. При необходимости обработаем их.\n",
        "\n",
        "Для начала импортируем все необходимые бабиотеки, а затем займемся загрузкой данных."
      ]
    },
    {
      "cell_type": "code",
      "execution_count": null,
      "metadata": {
        "id": "Y_fKH52VJyAM",
        "outputId": "dc0e0101-8e9d-411a-99eb-43c07d3ef1dc"
      },
      "outputs": [
        {
          "data": {
            "text/html": [
              "<div>\n",
              "<style scoped>\n",
              "    .dataframe tbody tr th:only-of-type {\n",
              "        vertical-align: middle;\n",
              "    }\n",
              "\n",
              "    .dataframe tbody tr th {\n",
              "        vertical-align: top;\n",
              "    }\n",
              "\n",
              "    .dataframe thead th {\n",
              "        text-align: right;\n",
              "    }\n",
              "</style>\n",
              "<table border=\"1\" class=\"dataframe\">\n",
              "  <thead>\n",
              "    <tr style=\"text-align: right;\">\n",
              "      <th></th>\n",
              "      <th>id</th>\n",
              "      <th>object_name</th>\n",
              "      <th>chain</th>\n",
              "      <th>object_type</th>\n",
              "      <th>address</th>\n",
              "      <th>number</th>\n",
              "    </tr>\n",
              "  </thead>\n",
              "  <tbody>\n",
              "    <tr>\n",
              "      <th>0</th>\n",
              "      <td>151635</td>\n",
              "      <td>СМЕТАНА</td>\n",
              "      <td>нет</td>\n",
              "      <td>кафе</td>\n",
              "      <td>город Москва, улица Егора Абакумова, дом 9</td>\n",
              "      <td>48</td>\n",
              "    </tr>\n",
              "    <tr>\n",
              "      <th>1</th>\n",
              "      <td>77874</td>\n",
              "      <td>Родник</td>\n",
              "      <td>нет</td>\n",
              "      <td>кафе</td>\n",
              "      <td>город Москва, улица Талалихина, дом 2/1, корпус 1</td>\n",
              "      <td>35</td>\n",
              "    </tr>\n",
              "    <tr>\n",
              "      <th>2</th>\n",
              "      <td>24309</td>\n",
              "      <td>Кафе «Академия»</td>\n",
              "      <td>нет</td>\n",
              "      <td>кафе</td>\n",
              "      <td>город Москва, Абельмановская улица, дом 6</td>\n",
              "      <td>95</td>\n",
              "    </tr>\n",
              "    <tr>\n",
              "      <th>3</th>\n",
              "      <td>21894</td>\n",
              "      <td>ПИЦЦЕТОРИЯ</td>\n",
              "      <td>да</td>\n",
              "      <td>кафе</td>\n",
              "      <td>город Москва, Абрамцевская улица, дом 1</td>\n",
              "      <td>40</td>\n",
              "    </tr>\n",
              "    <tr>\n",
              "      <th>4</th>\n",
              "      <td>119365</td>\n",
              "      <td>Кафе «Вишневая метель»</td>\n",
              "      <td>нет</td>\n",
              "      <td>кафе</td>\n",
              "      <td>город Москва, Абрамцевская улица, дом 9, корпус 1</td>\n",
              "      <td>50</td>\n",
              "    </tr>\n",
              "  </tbody>\n",
              "</table>\n",
              "</div>"
            ],
            "text/plain": [
              "       id             object_name chain object_type  \\\n",
              "0  151635                 СМЕТАНА   нет        кафе   \n",
              "1   77874                  Родник   нет        кафе   \n",
              "2   24309         Кафе «Академия»   нет        кафе   \n",
              "3   21894              ПИЦЦЕТОРИЯ    да        кафе   \n",
              "4  119365  Кафе «Вишневая метель»   нет        кафе   \n",
              "\n",
              "                                             address  number  \n",
              "0         город Москва, улица Егора Абакумова, дом 9      48  \n",
              "1  город Москва, улица Талалихина, дом 2/1, корпус 1      35  \n",
              "2          город Москва, Абельмановская улица, дом 6      95  \n",
              "3            город Москва, Абрамцевская улица, дом 1      40  \n",
              "4  город Москва, Абрамцевская улица, дом 9, корпус 1      50  "
            ]
          },
          "metadata": {},
          "output_type": "display_data"
        }
      ],
      "source": [
        "import pandas as pd\n",
        "import matplotlib.pyplot as plt\n",
        "import seaborn as sns\n",
        "\n",
        "data = pd.read_csv('/datasets/rest_data.csv')\n",
        "display(data.head())"
      ]
    },
    {
      "cell_type": "markdown",
      "metadata": {
        "id": "GxVXrF-WJyAN"
      },
      "source": [
        "Прверим типы данных и пропуски в колонках."
      ]
    },
    {
      "cell_type": "code",
      "execution_count": null,
      "metadata": {
        "id": "jYT-GYAUJyAO",
        "outputId": "3f8e95f0-93bf-4659-c61f-3f96716dc21f"
      },
      "outputs": [
        {
          "name": "stdout",
          "output_type": "stream",
          "text": [
            "<class 'pandas.core.frame.DataFrame'>\n",
            "RangeIndex: 15366 entries, 0 to 15365\n",
            "Data columns (total 6 columns):\n",
            " #   Column       Non-Null Count  Dtype \n",
            "---  ------       --------------  ----- \n",
            " 0   id           15366 non-null  int64 \n",
            " 1   object_name  15366 non-null  object\n",
            " 2   chain        15366 non-null  object\n",
            " 3   object_type  15366 non-null  object\n",
            " 4   address      15366 non-null  object\n",
            " 5   number       15366 non-null  int64 \n",
            "dtypes: int64(2), object(4)\n",
            "memory usage: 720.4+ KB\n"
          ]
        }
      ],
      "source": [
        "data.info()"
      ]
    },
    {
      "cell_type": "markdown",
      "metadata": {
        "id": "5eVX7RD3JyAO"
      },
      "source": [
        "Столбцы с id и номерами имеют целочисленный тип данных, остальные - строки.  \n",
        "Пропусков также не обнаружено.  \n",
        "Тут все вроде нормально. Проверим дубликаты."
      ]
    },
    {
      "cell_type": "code",
      "execution_count": null,
      "metadata": {
        "id": "mH-8bpbQJyAO",
        "outputId": "13da8bab-1891-45c7-e686-29c3057bd667"
      },
      "outputs": [
        {
          "data": {
            "text/plain": [
              "0"
            ]
          },
          "execution_count": 4,
          "metadata": {},
          "output_type": "execute_result"
        }
      ],
      "source": [
        "data.duplicated().sum()"
      ]
    },
    {
      "cell_type": "markdown",
      "metadata": {
        "id": "Cdw0VfjFJyAP"
      },
      "source": [
        "Дубликатов тоже нет. Можем переходить к анализу данных.  \n",
        "  \n",
        "### Шаг №2. Анализ данных.  \n",
        "\n",
        "- Исследуем соотношение видов объектов общественного питания по количеству. Построим соответствующий график."
      ]
    },
    {
      "cell_type": "code",
      "execution_count": null,
      "metadata": {
        "scrolled": true,
        "id": "5PAyH5WhJyAQ",
        "outputId": "61b6866a-b5fa-4740-9c6f-6cdbe72b1151"
      },
      "outputs": [
        {
          "data": {
            "image/png": "[encoded data removed]",
            "text/plain": [
              "<Figure size 432x288 with 1 Axes>"
            ]
          },
          "metadata": {
            "needs_background": "light"
          },
          "output_type": "display_data"
        }
      ],
      "source": [
        "graf1 = data.groupby(['object_type']).agg({'id':'nunique'}).reset_index()\n",
        "sns.barplot(x=graf1['id'], y=graf1['object_type'])\n",
        "plt.title('Соотношение видов объектов общественного питания по их количеству')\n",
        "plt.xlabel('Количество объектов')\n",
        "plt.ylabel('Вид объекта')\n",
        "plt.show()"
      ]
    },
    {
      "cell_type": "markdown",
      "metadata": {
        "id": "d6adjzc8JyAQ"
      },
      "source": [
        "Очевино, что кафе лидируют с большим отрывом. Так же можно отметить столовые, рестораны и предприятия быстрого обслуживания.  \n",
        "В сфере кафе огромная конкуренция, поэтому возможно стоит рассмотреть что-то менее популярное - бары, буфеты и закусочные.\n",
        "\n",
        "- Исследуем соотношение сетевых и несетевых заведений по количеству. Построим график."
      ]
    },
    {
      "cell_type": "code",
      "execution_count": null,
      "metadata": {
        "id": "owH4o-MFJyAR",
        "outputId": "ba073bca-b119-49c9-8999-a67b025fb12c"
      },
      "outputs": [
        {
          "data": {
            "image/png": "[encoded data removed]",
            "text/plain": [
              "<Figure size 432x288 with 1 Axes>"
            ]
          },
          "metadata": {
            "needs_background": "light"
          },
          "output_type": "display_data"
        }
      ],
      "source": [
        "graf1 = data.groupby(['chain']).agg({'id':'nunique'}).reset_index()\n",
        "sns.barplot(x=graf1['id'], y=graf1['chain'])\n",
        "\n",
        "plt.title('Соотношение сетевых и несетевых заведений по количеству')\n",
        "plt.xlabel('Количество объектов')\n",
        "plt.ylabel('Сетевое заведение')\n",
        "plt.show()"
      ]
    },
    {
      "cell_type": "markdown",
      "metadata": {
        "id": "6Ihy4zoeJyAR"
      },
      "source": [
        "Интересно, что несетевых заведений в несколько раз больше.  И если мы хотим остаться популярными и запоминающимися, то стоит подумать о сети заведений.\n",
        "\n",
        "- Изучим для какого вида объекта общественного питания характерно сетевое распространение?"
      ]
    },
    {
      "cell_type": "code",
      "execution_count": null,
      "metadata": {
        "id": "AVGB8rfzJyAR",
        "outputId": "0209e7ab-5de8-4108-8c5a-b80c422950a7"
      },
      "outputs": [
        {
          "data": {
            "image/png": "[encoded data removed]",
            "text/plain": [
              "<Figure size 432x288 with 1 Axes>"
            ]
          },
          "metadata": {
            "needs_background": "light"
          },
          "output_type": "display_data"
        }
      ],
      "source": [
        "graf12=data.groupby(['object_type']).agg({'id':'nunique'}).reset_index()\n",
        "graf1 = data.groupby(['object_type','chain']).agg({'id':'nunique'}).reset_index()\n",
        "graf1 = graf1.merge(graf12, how='left', on='object_type' )\n",
        "graf1['part'] = graf1['id_x']/graf1['id_y']\n",
        "graf1= graf1.sort_values(by='part')\n",
        "sns.barplot(x=graf1['part'], y=graf1['object_type'], hue =graf1['chain'],data=graf1)\n",
        "plt.title('Сетевое распространение по видам объектов общественного питания')\n",
        "plt.legend()\n",
        "plt.xlabel('Количество объектов')\n",
        "plt.ylabel('Вид объекта')\n",
        "\n",
        "plt.show()\n"
      ]
    },
    {
      "cell_type": "code",
      "execution_count": null,
      "metadata": {
        "id": "5jbqqLnOJyAT",
        "outputId": "5b0f6894-3e5d-41a6-fcf4-2736c2c78341"
      },
      "outputs": [
        {
          "data": {
            "text/html": [
              "<div>\n",
              "<style scoped>\n",
              "    .dataframe tbody tr th:only-of-type {\n",
              "        vertical-align: middle;\n",
              "    }\n",
              "\n",
              "    .dataframe tbody tr th {\n",
              "        vertical-align: top;\n",
              "    }\n",
              "\n",
              "    .dataframe thead th {\n",
              "        text-align: right;\n",
              "    }\n",
              "</style>\n",
              "<table border=\"1\" class=\"dataframe\">\n",
              "  <thead>\n",
              "    <tr style=\"text-align: right;\">\n",
              "      <th></th>\n",
              "      <th>ratio</th>\n",
              "    </tr>\n",
              "    <tr>\n",
              "      <th>object_type</th>\n",
              "      <th></th>\n",
              "    </tr>\n",
              "  </thead>\n",
              "  <tbody>\n",
              "    <tr>\n",
              "      <th>бар</th>\n",
              "      <td>0.043224</td>\n",
              "    </tr>\n",
              "    <tr>\n",
              "      <th>буфет</th>\n",
              "      <td>0.018803</td>\n",
              "    </tr>\n",
              "    <tr>\n",
              "      <th>закусочная</th>\n",
              "      <td>0.155556</td>\n",
              "    </tr>\n",
              "    <tr>\n",
              "      <th>кафе</th>\n",
              "      <td>0.228890</td>\n",
              "    </tr>\n",
              "    <tr>\n",
              "      <th>кафетерий</th>\n",
              "      <td>0.130653</td>\n",
              "    </tr>\n",
              "    <tr>\n",
              "      <th>магазин (отдел кулинарии)</th>\n",
              "      <td>0.285714</td>\n",
              "    </tr>\n",
              "    <tr>\n",
              "      <th>предприятие быстрого обслуживания</th>\n",
              "      <td>0.411336</td>\n",
              "    </tr>\n",
              "    <tr>\n",
              "      <th>ресторан</th>\n",
              "      <td>0.238074</td>\n",
              "    </tr>\n",
              "    <tr>\n",
              "      <th>столовая</th>\n",
              "      <td>0.001160</td>\n",
              "    </tr>\n",
              "  </tbody>\n",
              "</table>\n",
              "</div>"
            ],
            "text/plain": [
              "                                      ratio\n",
              "object_type                                \n",
              "бар                                0.043224\n",
              "буфет                              0.018803\n",
              "закусочная                         0.155556\n",
              "кафе                               0.228890\n",
              "кафетерий                          0.130653\n",
              "магазин (отдел кулинарии)          0.285714\n",
              "предприятие быстрого обслуживания  0.411336\n",
              "ресторан                           0.238074\n",
              "столовая                           0.001160"
            ]
          },
          "execution_count": 15,
          "metadata": {},
          "output_type": "execute_result"
        }
      ],
      "source": [
        "# Код ревьюера\n",
        "\n",
        "data.groupby(['object_type']).apply(lambda x : pd.Series(dict(ratio = (x['chain'] == 'да').mean())))\n",
        "                                    "
      ]
    },
    {
      "cell_type": "markdown",
      "metadata": {
        "id": "L9Zgkyo1JyAU"
      },
      "source": [
        "Сетевых объектов во всех видах заметно меньше, но доля сетевых к несетевым у фастфуда, кулинарии и ресторанов все же заметно выше других. Сетевыми кафе тоже никого не удивить,а вот если открыть сетевые бары, буфеты или закусочные?\n",
        "  \n",
        "- Изучим что характерно для сетевых заведений: много заведений с небольшим числом посадочных мест в каждом или мало заведений с большим количеством посадочных мест?"
      ]
    },
    {
      "cell_type": "code",
      "execution_count": null,
      "metadata": {
        "id": "9cdDQcXoJyAU",
        "outputId": "7cca8625-5063-4fe2-bfb1-b1af1f85a6e9"
      },
      "outputs": [
        {
          "data": {
            "image/png": "[encoded data removed]",
            "text/plain": [
              "<Figure size 432x432 with 3 Axes>"
            ]
          },
          "metadata": {
            "needs_background": "light"
          },
          "output_type": "display_data"
        }
      ],
      "source": [
        "graf2=data[['object_name', 'id', 'number','chain']]\n",
        "graf2=graf2[graf2['chain']=='да']\n",
        "graf2=graf2.groupby('object_name').agg({'id':'nunique', 'number': 'mean'}).reset_index()\n",
        "graf2=graf2[graf2['id']>1]\n",
        "\n",
        "sns.jointplot(x=graf2['number'], y=graf2['id'], data=graf2, kind='hex') \n",
        "\n",
        "#plt.title('Зависимость количества заведений по количеству посадочных мест для сетевых заведений')\n",
        "plt.xlabel('Количество посадочных мест')\n",
        "plt.ylabel('Количество заведений')\n",
        "\n",
        "plt.show()"
      ]
    },
    {
      "cell_type": "markdown",
      "metadata": {
        "id": "6-bH-WgWJyAU"
      },
      "source": [
        "Из графика можно сделать вывод, что количество посадочных мест менее 100, а количество заведений в сети менее 10 - можно считать маленьким. А все что больше - большим.  \n",
        "Посчитаем количество заведений в каждой группе."
      ]
    },
    {
      "cell_type": "code",
      "execution_count": null,
      "metadata": {
        "id": "4HOETy26JyAV",
        "outputId": "7e1a9b9d-2935-4e1e-b6e1-960dca7b4398"
      },
      "outputs": [
        {
          "name": "stdout",
          "output_type": "stream",
          "text": [
            "Cетей с большим числом посадочных мест и небольшим числом заведений в сети: 44\n",
            "Cетей с небольшим числом посадочных мест и большим числом заведений в сети: 37\n",
            "Cетей с небольшим числом посадочных мест и небольшим числом заведений в сети: 180\n",
            "Cетей с большим числом посадочных мест и большим числом заведений в сети: 7\n"
          ]
        }
      ],
      "source": [
        "bm=graf2[(graf2['number']>100) & (graf2['id']<10)]['object_name'].nunique()\n",
        "mb=graf2[(graf2['number']<100) & (graf2['id']>10)]['object_name'].nunique()\n",
        "mm=graf2[(graf2['number']<100) & (graf2['id']<10)]['object_name'].nunique()\n",
        "bb=graf2[(graf2['number']>100) & (graf2['id']>10)]['object_name'].nunique()\n",
        "\n",
        "print('Cетей с большим числом посадочных мест и небольшим числом заведений в сети:', bm)\n",
        "print('Cетей с небольшим числом посадочных мест и большим числом заведений в сети:', mb)\n",
        "print('Cетей с небольшим числом посадочных мест и небольшим числом заведений в сети:', mm)\n",
        "print('Cетей с большим числом посадочных мест и большим числом заведений в сети:', bb)\n"
      ]
    },
    {
      "cell_type": "markdown",
      "metadata": {
        "id": "FTucLDgnJyAV"
      },
      "source": [
        "Таким образом, отвечая на вопрос \"что чаще встречается - много заведений с небольшим числом посадочных мест в каждом или мало заведений с большим количеством посадочных мест?\" - мы можем точно ответить, что больше всего сетей с небольшим числом посадочных мест и небольшим числом заведений в сети.  \n"
      ]
    },
    {
      "cell_type": "markdown",
      "metadata": {
        "id": "o1kMT6SoJyAW"
      },
      "source": [
        "Очевидно, что мелких кафе с маленьким количеством посадочных мест гораздо больше в сфере сетевых заведений.  Примерной границей является 100 посадочных мест. Заведений меньше 100 посадочных мест - подавляющее большинство.\n",
        "\n",
        "Если мы хотим занять пустующую нишу, то возможно стоит подумать о заведении на большое количество посадочных мест, которых смогут обслуживать роботы.\n",
        "\n",
        "Однако, возможен и другой путь - сети небольших баров, закусочных.\n",
        "  \n",
        "- Для каждого вида объекта общественного питания опишим среднее количество посадочных мест. Изучим какой вид предоставляет в среднем самое большое количество посадочных мест?"
      ]
    },
    {
      "cell_type": "code",
      "execution_count": null,
      "metadata": {
        "id": "MRYAWSlJJyAW",
        "outputId": "b8ec4b1f-1186-4a17-c1af-42fd6ec201f8"
      },
      "outputs": [
        {
          "data": {
            "image/png": "[encoded data removed]",
            "text/plain": [
              "<Figure size 432x288 with 1 Axes>"
            ]
          },
          "metadata": {
            "needs_background": "light"
          },
          "output_type": "display_data"
        }
      ],
      "source": [
        "graf3 = data.groupby(['object_type']).agg({'number':'mean'}).reset_index()\n",
        "sns.barplot(x=graf3['number'], y=graf3['object_type'], data=graf3)\n",
        "plt.title('Среднее количество посадочных мест в каждом виде объектов общественного питания')\n",
        "plt.xlabel('Среднее количество посадочных мест')\n",
        "plt.ylabel('Вид объекта')\n",
        "\n",
        "plt.show()"
      ]
    },
    {
      "cell_type": "markdown",
      "metadata": {
        "id": "dXFGSeP2JyAX"
      },
      "source": [
        "Столовые и рестораны предагают в среднем самое большое количество посадочных мест. \n",
        "А самые маленькие - закусочные, кафетерии и кулинарии.\n",
        "\n",
        "Исходя из выводов ранее, можно сказать, что бар или буфет в среднем имеют количество посадочных место больше, чем кафе, поэтому вполне вероятно для их обслуживания не плохо использовать роботов;\n",
        "Выбирая вариант с большой площадью можно рассмотреть ресторан или столовую.\n",
        "\n",
        "- Выделим в отдельный столбец информацию об улице из столбца `address`."
      ]
    },
    {
      "cell_type": "code",
      "execution_count": null,
      "metadata": {
        "id": "aYjjGl7EJyAX",
        "outputId": "11fbf623-34e2-4781-aeb9-7c9e354b2f97"
      },
      "outputs": [
        {
          "data": {
            "text/html": [
              "<div>\n",
              "<style scoped>\n",
              "    .dataframe tbody tr th:only-of-type {\n",
              "        vertical-align: middle;\n",
              "    }\n",
              "\n",
              "    .dataframe tbody tr th {\n",
              "        vertical-align: top;\n",
              "    }\n",
              "\n",
              "    .dataframe thead th {\n",
              "        text-align: right;\n",
              "    }\n",
              "</style>\n",
              "<table border=\"1\" class=\"dataframe\">\n",
              "  <thead>\n",
              "    <tr style=\"text-align: right;\">\n",
              "      <th></th>\n",
              "      <th>id</th>\n",
              "      <th>object_name</th>\n",
              "      <th>chain</th>\n",
              "      <th>object_type</th>\n",
              "      <th>address</th>\n",
              "      <th>number</th>\n",
              "      <th>street</th>\n",
              "    </tr>\n",
              "  </thead>\n",
              "  <tbody>\n",
              "    <tr>\n",
              "      <th>0</th>\n",
              "      <td>151635</td>\n",
              "      <td>СМЕТАНА</td>\n",
              "      <td>нет</td>\n",
              "      <td>кафе</td>\n",
              "      <td>город Москва, улица Егора Абакумова, дом 9</td>\n",
              "      <td>48</td>\n",
              "      <td>улица Егора Абакумова</td>\n",
              "    </tr>\n",
              "    <tr>\n",
              "      <th>1</th>\n",
              "      <td>77874</td>\n",
              "      <td>Родник</td>\n",
              "      <td>нет</td>\n",
              "      <td>кафе</td>\n",
              "      <td>город Москва, улица Талалихина, дом 2/1, корпус 1</td>\n",
              "      <td>35</td>\n",
              "      <td>улица Талалихина</td>\n",
              "    </tr>\n",
              "    <tr>\n",
              "      <th>2</th>\n",
              "      <td>24309</td>\n",
              "      <td>Кафе «Академия»</td>\n",
              "      <td>нет</td>\n",
              "      <td>кафе</td>\n",
              "      <td>город Москва, Абельмановская улица, дом 6</td>\n",
              "      <td>95</td>\n",
              "      <td>Абельмановская улица</td>\n",
              "    </tr>\n",
              "    <tr>\n",
              "      <th>3</th>\n",
              "      <td>21894</td>\n",
              "      <td>ПИЦЦЕТОРИЯ</td>\n",
              "      <td>да</td>\n",
              "      <td>кафе</td>\n",
              "      <td>город Москва, Абрамцевская улица, дом 1</td>\n",
              "      <td>40</td>\n",
              "      <td>Абрамцевская улица</td>\n",
              "    </tr>\n",
              "    <tr>\n",
              "      <th>4</th>\n",
              "      <td>119365</td>\n",
              "      <td>Кафе «Вишневая метель»</td>\n",
              "      <td>нет</td>\n",
              "      <td>кафе</td>\n",
              "      <td>город Москва, Абрамцевская улица, дом 9, корпус 1</td>\n",
              "      <td>50</td>\n",
              "      <td>Абрамцевская улица</td>\n",
              "    </tr>\n",
              "    <tr>\n",
              "      <th>5</th>\n",
              "      <td>27429</td>\n",
              "      <td>СТОЛ. ПРИ ГОУ СОШ № 1051</td>\n",
              "      <td>нет</td>\n",
              "      <td>столовая</td>\n",
              "      <td>город Москва, Абрамцевская улица, дом 15, корп...</td>\n",
              "      <td>240</td>\n",
              "      <td>Абрамцевская улица</td>\n",
              "    </tr>\n",
              "    <tr>\n",
              "      <th>6</th>\n",
              "      <td>148815</td>\n",
              "      <td>Брусника</td>\n",
              "      <td>да</td>\n",
              "      <td>кафе</td>\n",
              "      <td>город Москва, переулок Сивцев Вражек, дом 6/2</td>\n",
              "      <td>10</td>\n",
              "      <td>переулок Сивцев Вражек</td>\n",
              "    </tr>\n",
              "    <tr>\n",
              "      <th>7</th>\n",
              "      <td>20957</td>\n",
              "      <td>Буфет МТУСИ</td>\n",
              "      <td>нет</td>\n",
              "      <td>столовая</td>\n",
              "      <td>город Москва, Авиамоторная улица, дом 8, строе...</td>\n",
              "      <td>90</td>\n",
              "      <td>Авиамоторная улица</td>\n",
              "    </tr>\n",
              "    <tr>\n",
              "      <th>8</th>\n",
              "      <td>20958</td>\n",
              "      <td>КПФ СЕМЬЯ-1</td>\n",
              "      <td>нет</td>\n",
              "      <td>столовая</td>\n",
              "      <td>город Москва, Авиамоторная улица, дом 8, строе...</td>\n",
              "      <td>150</td>\n",
              "      <td>Авиамоторная улица</td>\n",
              "    </tr>\n",
              "    <tr>\n",
              "      <th>9</th>\n",
              "      <td>28858</td>\n",
              "      <td>Столовая МТУСИ</td>\n",
              "      <td>нет</td>\n",
              "      <td>столовая</td>\n",
              "      <td>город Москва, Авиамоторная улица, дом 8, строе...</td>\n",
              "      <td>120</td>\n",
              "      <td>Авиамоторная улица</td>\n",
              "    </tr>\n",
              "  </tbody>\n",
              "</table>\n",
              "</div>"
            ],
            "text/plain": [
              "       id               object_name chain object_type  \\\n",
              "0  151635                   СМЕТАНА   нет        кафе   \n",
              "1   77874                    Родник   нет        кафе   \n",
              "2   24309           Кафе «Академия»   нет        кафе   \n",
              "3   21894                ПИЦЦЕТОРИЯ    да        кафе   \n",
              "4  119365    Кафе «Вишневая метель»   нет        кафе   \n",
              "5   27429  СТОЛ. ПРИ ГОУ СОШ № 1051   нет    столовая   \n",
              "6  148815                  Брусника    да        кафе   \n",
              "7   20957               Буфет МТУСИ   нет    столовая   \n",
              "8   20958               КПФ СЕМЬЯ-1   нет    столовая   \n",
              "9   28858            Столовая МТУСИ   нет    столовая   \n",
              "\n",
              "                                             address  number  \\\n",
              "0         город Москва, улица Егора Абакумова, дом 9      48   \n",
              "1  город Москва, улица Талалихина, дом 2/1, корпус 1      35   \n",
              "2          город Москва, Абельмановская улица, дом 6      95   \n",
              "3            город Москва, Абрамцевская улица, дом 1      40   \n",
              "4  город Москва, Абрамцевская улица, дом 9, корпус 1      50   \n",
              "5  город Москва, Абрамцевская улица, дом 15, корп...     240   \n",
              "6      город Москва, переулок Сивцев Вражек, дом 6/2      10   \n",
              "7  город Москва, Авиамоторная улица, дом 8, строе...      90   \n",
              "8  город Москва, Авиамоторная улица, дом 8, строе...     150   \n",
              "9  город Москва, Авиамоторная улица, дом 8, строе...     120   \n",
              "\n",
              "                   street  \n",
              "0   улица Егора Абакумова  \n",
              "1        улица Талалихина  \n",
              "2    Абельмановская улица  \n",
              "3      Абрамцевская улица  \n",
              "4      Абрамцевская улица  \n",
              "5      Абрамцевская улица  \n",
              "6  переулок Сивцев Вражек  \n",
              "7      Авиамоторная улица  \n",
              "8      Авиамоторная улица  \n",
              "9      Авиамоторная улица  "
            ]
          },
          "metadata": {},
          "output_type": "display_data"
        }
      ],
      "source": [
        "for i in range(len(data['address'])):\n",
        "    a = data.loc[i, 'address'].split(',')\n",
        "    for j in range(len(a)):\n",
        "        b=a[j].split(' ')\n",
        "        if ('город' not in b) and ('поселение' not in b):\n",
        "            data.loc[i, 'street']=a[j].strip()\n",
        "            break\n",
        "\n",
        "display(data.head(10))"
      ]
    },
    {
      "cell_type": "markdown",
      "metadata": {
        "id": "VyMP_csXJyAY"
      },
      "source": [
        "Улицы выделены, теперь: \n",
        "- Построим график топ-10 улиц по количеству объектов общественного питания. И ответим на вопрос — в каких районах Москвы находятся эти улицы?"
      ]
    },
    {
      "cell_type": "code",
      "execution_count": null,
      "metadata": {
        "id": "p_ZH8ZnQJyAY",
        "outputId": "a206fd9b-5bcb-41cf-e7fc-437d8a95fa09"
      },
      "outputs": [
        {
          "data": {
            "image/png": "[encoded data removed]",
            "text/plain": [
              "<Figure size 432x288 with 1 Axes>"
            ]
          },
          "metadata": {
            "needs_background": "light"
          },
          "output_type": "display_data"
        }
      ],
      "source": [
        "graf4 = data.groupby(['street']).agg({'id':'nunique'}).reset_index()\n",
        "graf4 = graf4.sort_values(by='id', ascending=False).head(10)\n",
        "\n",
        "sns.barplot(x=graf4['id'], y=graf4['street'], data=graf4)\n",
        "plt.title('топ-10 улиц по количеству объектов общественного питания')\n",
        "plt.xlabel('Количество объектов')\n",
        "plt.ylabel('Название улицы')\n",
        "\n",
        "plt.show()"
      ]
    },
    {
      "cell_type": "markdown",
      "metadata": {
        "id": "eS7jTYXyJyAY"
      },
      "source": [
        "Больше всего объектов общественного питания находится на Проспекте мира. Далее идут Профсоюзная улица и Ленинградский проспект. На этих улицах большая конкуренция, но и большая проходимость. Чтобы быть замеченными и посещаемыми, нужно удобно располагаться и не надеятся, что ради посещения нашего заведения поседители поедут в другой район Москвы.\n",
        "\n",
        "\n",
        "Для определения районов из внешнего источника загрузим файл с информацией к какому району относятся улицы и добавим эту информацию в нашу таблицу."
      ]
    },
    {
      "cell_type": "code",
      "execution_count": null,
      "metadata": {
        "id": "bL2OncwlJyAY"
      },
      "outputs": [],
      "source": [
        "from io import BytesIO\n",
        "import requests\n",
        "\n",
        "spreadsheet_id = '1WFZ5DIURsbFv4doz34aV3AEGBOYmtchyrRVuUgW9n4o'\n",
        "file_name = 'https://docs.google.com/spreadsheets/d/{}/export?format=csv'.format(spreadsheet_id) # указываем путь к файлу, но после d/ указываем id файла, при помощи .format()\n",
        "r = requests.get(file_name)\n",
        "area = pd.read_csv(BytesIO(r.content))\n",
        "\n",
        "area = area.groupby('streetname').agg({'area':lambda x: str.join(', ', x)}).reset_index()\n",
        "area = area.rename(columns={'streetname':'street'})\n",
        "\n",
        "pd.set_option('display.max_colwidth', 200)\n"
      ]
    },
    {
      "cell_type": "code",
      "execution_count": null,
      "metadata": {
        "id": "fBURXV7dJyAZ",
        "outputId": "cde7921b-2fea-4ad8-b34e-c50105d96f7e"
      },
      "outputs": [
        {
          "data": {
            "text/html": [
              "<div>\n",
              "<style scoped>\n",
              "    .dataframe tbody tr th:only-of-type {\n",
              "        vertical-align: middle;\n",
              "    }\n",
              "\n",
              "    .dataframe tbody tr th {\n",
              "        vertical-align: top;\n",
              "    }\n",
              "\n",
              "    .dataframe thead th {\n",
              "        text-align: right;\n",
              "    }\n",
              "</style>\n",
              "<table border=\"1\" class=\"dataframe\">\n",
              "  <thead>\n",
              "    <tr style=\"text-align: right;\">\n",
              "      <th></th>\n",
              "      <th>street</th>\n",
              "      <th>id</th>\n",
              "      <th>area</th>\n",
              "    </tr>\n",
              "  </thead>\n",
              "  <tbody>\n",
              "    <tr>\n",
              "      <th>0</th>\n",
              "      <td>проспект Мира</td>\n",
              "      <td>204</td>\n",
              "      <td>Алексеевский район, Ярославский Район, Район Марьина роща, Останкинский район, Район Ростокино, Район Свиблово, Мещанский район</td>\n",
              "    </tr>\n",
              "    <tr>\n",
              "      <th>1</th>\n",
              "      <td>Профсоюзная улица</td>\n",
              "      <td>183</td>\n",
              "      <td>Академический район, Район Черемушки, Район Ясенево, Район Коньково, Обручевский район, Район Теплый Стан</td>\n",
              "    </tr>\n",
              "    <tr>\n",
              "      <th>2</th>\n",
              "      <td>Ленинградский проспект</td>\n",
              "      <td>173</td>\n",
              "      <td>Район Аэропорт, Район Беговой, Хорошевский район, Район Сокол</td>\n",
              "    </tr>\n",
              "    <tr>\n",
              "      <th>3</th>\n",
              "      <td>Пресненская набережная</td>\n",
              "      <td>167</td>\n",
              "      <td>Пресненский район</td>\n",
              "    </tr>\n",
              "    <tr>\n",
              "      <th>4</th>\n",
              "      <td>Варшавское шоссе</td>\n",
              "      <td>165</td>\n",
              "      <td>Район Чертаново Центральное, Район Чертаново Северное, Район Чертаново Южное, Донской район, Район Нагатино-Садовники, Нагорный район, Район Северное Бутово, Район Южное Бутово</td>\n",
              "    </tr>\n",
              "    <tr>\n",
              "      <th>5</th>\n",
              "      <td>Ленинский проспект</td>\n",
              "      <td>148</td>\n",
              "      <td>Район Проспект Вернадского, Район Тропарево-Никулино, Донской район, Район Гагаринский, Ломоносовский район, Обручевский район, Район Теплый Стан, Район Якиманка</td>\n",
              "    </tr>\n",
              "    <tr>\n",
              "      <th>6</th>\n",
              "      <td>проспект Вернадского</td>\n",
              "      <td>132</td>\n",
              "      <td>Район Проспект Вернадского, Район Раменки, Район Тропарево-Никулино, Район Гагаринский, Ломоносовский район</td>\n",
              "    </tr>\n",
              "    <tr>\n",
              "      <th>7</th>\n",
              "      <td>Кутузовский проспект</td>\n",
              "      <td>114</td>\n",
              "      <td>Район Дорогомилово, Район Фили-Давыдково</td>\n",
              "    </tr>\n",
              "    <tr>\n",
              "      <th>8</th>\n",
              "      <td>Каширское шоссе</td>\n",
              "      <td>112</td>\n",
              "      <td>Район Москворечье-Сабурово, Район Нагатино-Садовники, Район Орехово-Борисово Южное, Район Орехово-Борисово Северное</td>\n",
              "    </tr>\n",
              "    <tr>\n",
              "      <th>9</th>\n",
              "      <td>Кировоградская улица</td>\n",
              "      <td>110</td>\n",
              "      <td>Район Чертаново Центральное, Район Чертаново Северное, Район Чертаново Южное</td>\n",
              "    </tr>\n",
              "  </tbody>\n",
              "</table>\n",
              "</div>"
            ],
            "text/plain": [
              "                   street   id  \\\n",
              "0           проспект Мира  204   \n",
              "1       Профсоюзная улица  183   \n",
              "2  Ленинградский проспект  173   \n",
              "3  Пресненская набережная  167   \n",
              "4        Варшавское шоссе  165   \n",
              "5      Ленинский проспект  148   \n",
              "6    проспект Вернадского  132   \n",
              "7    Кутузовский проспект  114   \n",
              "8         Каширское шоссе  112   \n",
              "9    Кировоградская улица  110   \n",
              "\n",
              "                                                                                                                                                                               area  \n",
              "0                                                   Алексеевский район, Ярославский Район, Район Марьина роща, Останкинский район, Район Ростокино, Район Свиблово, Мещанский район  \n",
              "1                                                                         Академический район, Район Черемушки, Район Ясенево, Район Коньково, Обручевский район, Район Теплый Стан  \n",
              "2                                                                                                                     Район Аэропорт, Район Беговой, Хорошевский район, Район Сокол  \n",
              "3                                                                                                                                                                 Пресненский район  \n",
              "4  Район Чертаново Центральное, Район Чертаново Северное, Район Чертаново Южное, Донской район, Район Нагатино-Садовники, Нагорный район, Район Северное Бутово, Район Южное Бутово  \n",
              "5                 Район Проспект Вернадского, Район Тропарево-Никулино, Донской район, Район Гагаринский, Ломоносовский район, Обручевский район, Район Теплый Стан, Район Якиманка  \n",
              "6                                                                       Район Проспект Вернадского, Район Раменки, Район Тропарево-Никулино, Район Гагаринский, Ломоносовский район  \n",
              "7                                                                                                                                          Район Дорогомилово, Район Фили-Давыдково  \n",
              "8                                                               Район Москворечье-Сабурово, Район Нагатино-Садовники, Район Орехово-Борисово Южное, Район Орехово-Борисово Северное  \n",
              "9                                                                                                      Район Чертаново Центральное, Район Чертаново Северное, Район Чертаново Южное  "
            ]
          },
          "metadata": {},
          "output_type": "display_data"
        }
      ],
      "source": [
        "graf4=graf4.merge(area, on='street', how = 'left')\n",
        "\n",
        "display(graf4)"
      ]
    },
    {
      "cell_type": "markdown",
      "metadata": {
        "id": "1huSQv1kJyAZ"
      },
      "source": [
        "Теперь районы в которых расположены улицы с самым большим количеством заведений общественного питания наглядно видны в таблице.\n",
        "\n",
        "\n",
        "- Найдем число улиц с одним объектом общественного питания. А также ответим на вопрос — в каких районах Москвы находятся эти улицы?  "
      ]
    },
    {
      "cell_type": "code",
      "execution_count": null,
      "metadata": {
        "id": "13FIaAWKJyAZ",
        "outputId": "a94b0819-cad0-4c1c-c3f9-46f9bbe47af0"
      },
      "outputs": [
        {
          "name": "stdout",
          "output_type": "stream",
          "text": [
            "Количество улиц с одним объектом общественного питания: 681\n"
          ]
        },
        {
          "data": {
            "text/html": [
              "<div>\n",
              "<style scoped>\n",
              "    .dataframe tbody tr th:only-of-type {\n",
              "        vertical-align: middle;\n",
              "    }\n",
              "\n",
              "    .dataframe tbody tr th {\n",
              "        vertical-align: top;\n",
              "    }\n",
              "\n",
              "    .dataframe thead th {\n",
              "        text-align: right;\n",
              "    }\n",
              "</style>\n",
              "<table border=\"1\" class=\"dataframe\">\n",
              "  <thead>\n",
              "    <tr style=\"text-align: right;\">\n",
              "      <th></th>\n",
              "      <th>street</th>\n",
              "      <th>id</th>\n",
              "      <th>area</th>\n",
              "    </tr>\n",
              "  </thead>\n",
              "  <tbody>\n",
              "    <tr>\n",
              "      <th>0</th>\n",
              "      <td>1-й Балтийский переулок</td>\n",
              "      <td>1</td>\n",
              "      <td>Район Аэропорт</td>\n",
              "    </tr>\n",
              "    <tr>\n",
              "      <th>1</th>\n",
              "      <td>1-й Басманный переулок</td>\n",
              "      <td>1</td>\n",
              "      <td>Басманный район, Красносельский район</td>\n",
              "    </tr>\n",
              "    <tr>\n",
              "      <th>2</th>\n",
              "      <td>1-й Ботанический проезд</td>\n",
              "      <td>1</td>\n",
              "      <td>Район Свиблово</td>\n",
              "    </tr>\n",
              "    <tr>\n",
              "      <th>3</th>\n",
              "      <td>1-й Вешняковский проезд</td>\n",
              "      <td>1</td>\n",
              "      <td>Рязанский район</td>\n",
              "    </tr>\n",
              "    <tr>\n",
              "      <th>4</th>\n",
              "      <td>1-й Голутвинский переулок</td>\n",
              "      <td>1</td>\n",
              "      <td>Район Якиманка</td>\n",
              "    </tr>\n",
              "    <tr>\n",
              "      <th>...</th>\n",
              "      <td>...</td>\n",
              "      <td>...</td>\n",
              "      <td>...</td>\n",
              "    </tr>\n",
              "    <tr>\n",
              "      <th>676</th>\n",
              "      <td>улица Шеногина</td>\n",
              "      <td>1</td>\n",
              "      <td>Район Хорошево-Мневники</td>\n",
              "    </tr>\n",
              "    <tr>\n",
              "      <th>677</th>\n",
              "      <td>улица Шумилова</td>\n",
              "      <td>1</td>\n",
              "      <td>Район Кузьминки</td>\n",
              "    </tr>\n",
              "    <tr>\n",
              "      <th>678</th>\n",
              "      <td>улица Шумкина</td>\n",
              "      <td>1</td>\n",
              "      <td>Район Сокольники</td>\n",
              "    </tr>\n",
              "    <tr>\n",
              "      <th>679</th>\n",
              "      <td>улица Щорса</td>\n",
              "      <td>1</td>\n",
              "      <td>Район Солнцево</td>\n",
              "    </tr>\n",
              "    <tr>\n",
              "      <th>680</th>\n",
              "      <td>шоссе Фрезер</td>\n",
              "      <td>1</td>\n",
              "      <td>Нижегородский район</td>\n",
              "    </tr>\n",
              "  </tbody>\n",
              "</table>\n",
              "<p>681 rows × 3 columns</p>\n",
              "</div>"
            ],
            "text/plain": [
              "                        street  id                                   area\n",
              "0      1-й Балтийский переулок   1                         Район Аэропорт\n",
              "1       1-й Басманный переулок   1  Басманный район, Красносельский район\n",
              "2      1-й Ботанический проезд   1                         Район Свиблово\n",
              "3      1-й Вешняковский проезд   1                        Рязанский район\n",
              "4    1-й Голутвинский переулок   1                         Район Якиманка\n",
              "..                         ...  ..                                    ...\n",
              "676             улица Шеногина   1                Район Хорошево-Мневники\n",
              "677             улица Шумилова   1                        Район Кузьминки\n",
              "678              улица Шумкина   1                       Район Сокольники\n",
              "679                улица Щорса   1                         Район Солнцево\n",
              "680               шоссе Фрезер   1                    Нижегородский район\n",
              "\n",
              "[681 rows x 3 columns]"
            ]
          },
          "metadata": {},
          "output_type": "display_data"
        }
      ],
      "source": [
        "graf5 = data.groupby(['street']).agg({'id':'nunique'}).reset_index()\n",
        "graf5 = graf5[graf5['id']==1]\n",
        "print('Количество улиц с одним объектом общественного питания:', graf5['id'].count())\n",
        "graf5 = graf5.merge(area, on='street', how='left')\n",
        "\n",
        "display(graf5)"
      ]
    },
    {
      "cell_type": "markdown",
      "metadata": {
        "id": "XinbUpYjJyAZ"
      },
      "source": [
        "Количество улиц с одним объектом общественного питания 681 штук. Достаточно много.  \n",
        "Районы к которым пренадлежат эти улицы, также представлены в таблице."
      ]
    },
    {
      "cell_type": "markdown",
      "metadata": {
        "id": "w3nUVX9VJyAa"
      },
      "source": [
        "- Посмотрим на распределение количества посадочных мест для улиц с большим количеством объектов общественного питания.\n"
      ]
    },
    {
      "cell_type": "code",
      "execution_count": null,
      "metadata": {
        "id": "W9OsheH1JyAa",
        "outputId": "5c3e56a7-0c67-44f4-c41b-9519c9812c67"
      },
      "outputs": [
        {
          "data": {
            "image/png": "[encoded data removed]",
            "text/plain": [
              "<Figure size 432x288 with 1 Axes>"
            ]
          },
          "metadata": {
            "needs_background": "light"
          },
          "output_type": "display_data"
        }
      ],
      "source": [
        "graf6=data[['street', 'number']]\n",
        "graf6 = graf6[graf6['street'].isin(graf4['street'])]\n",
        "\n",
        "sns.boxplot(x=graf6['number'], y=graf6['street'], data=graf6)\n",
        "plt.title('Распределение количества посадочных мест для улиц с большим количеством объектов общественного питания')\n",
        "plt.xlabel('Количество посадочных мест')\n",
        "plt.ylabel('Название улицы')\n",
        "\n",
        "plt.show()"
      ]
    },
    {
      "cell_type": "markdown",
      "metadata": {
        "id": "F2iZe5CZJyAb"
      },
      "source": [
        "Кафе с маленьким количеством посадочных мест есть везде, они занимают большую часть ранка. Больших заведений - единицы.  \n",
        "Большие заведения востребованы в основном для проведения торжеств, самые большие из них находятся на Кутузовском промпекте и преспекте Вернадского.\n",
        "\n",
        "Исключим большие заведения и расмотрим распределение ближе."
      ]
    },
    {
      "cell_type": "code",
      "execution_count": null,
      "metadata": {
        "id": "lhYZPgRiJyAb",
        "outputId": "7d48e38e-59d1-4a12-fa24-408b868df966"
      },
      "outputs": [
        {
          "data": {
            "image/png": "[encoded data removed]",
            "text/plain": [
              "<Figure size 432x288 with 1 Axes>"
            ]
          },
          "metadata": {
            "needs_background": "light"
          },
          "output_type": "display_data"
        }
      ],
      "source": [
        "graf6=data[['street', 'number']]\n",
        "graf6 = graf6[graf6['street'].isin(graf4['street'])]\n",
        "graf6 = graf6[graf6['number']<250]\n",
        "\n",
        "\n",
        "sns.boxplot(x=graf6['number'], y=graf6['street'], data=graf6)\n",
        "plt.title('Распределение количества посадочных мест для улиц с большим количеством объектов общественного питания')\n",
        "plt.xlabel('Количество посадочных мест')\n",
        "plt.ylabel('Название улицы')\n",
        "\n",
        "plt.show()"
      ]
    },
    {
      "cell_type": "markdown",
      "metadata": {
        "id": "6ZcnKV3yJyAb"
      },
      "source": [
        "Даже исключив большие заведения, на Кутузовском и Вернадского заведения с большим количеством посадочных мест. \n",
        "\n",
        "Если мы хотим сети небольших заведений, то тут особой раницы не будет, мелких заведений вехзде много и разница в средней посадке не так велика, нужно будет брать запоминаемостью и частовстречаемостью - сетью.\n",
        "\n",
        "Если же берем большое заведение, то лучшим местом будет Профсоюзная улица, Пресненская набережная и Кировоградской улице."
      ]
    },
    {
      "cell_type": "markdown",
      "metadata": {
        "id": "pvIz4kTJJyAb"
      },
      "source": [
        "### Вывод.\n",
        "\n",
        "Проведя анализ данных мы выяснили, что огромную часть общебита Москвы занимают кафе. Конкуренция в этой области очень велика, и когда посетители наглазеются на роботов - поддерживать потом клиентов будет сложно.\n",
        "Поэтому возможно стоит рассмотреть менее занятые ниши, такие как бары, буфеты или закусочные.  \n",
        "\n",
        "Несетевые объекты также занимают большую часть рынка, их много и они все разные, поэтому, для того, чтобы остаться узнаваемыми и запоминающимся возможно стоит рассмотреть вариант сразу сети заведений.  \n",
        "\n",
        "Заведения с большим количеством посадочных мест встречаются намного реже, однако, тут надо подумать, каким типом заведения мы все же хотим владеть.   \n",
        "Большое количество посадочных мест чаще используется редких для торжеств, чем для частых посиделок.   \n",
        "Однако, с другой стороны, если посетителей будут обслуживать роботы, то скорее всего, они смогут взять на себя и большой объем работы связанный с большим количеством посадочных мест. В таком случае, можно занять хорошую нишу, открыв ресторан или столовую.      \n",
        "   \n",
        "Изучая данные о местоположении точек общественного питания, можно сделать вывод, что наибольшее количество объектов находятся на улицах проспект Мира, Профсоюзная и Ленинградский проспект. А также в Москве есть 719 улиц на которых не более 1 объекта общественного питания.   \n",
        "Улицы, на которых много точек, с одной стороны, пораждают высокую конкуренцию, с другой стороны, скорее всего, имеют высокую проходимость и тем самым, люди смогут узнать о новом объекте даже без рекламы.  \n",
        "Улицы, на которых находится не более 1 объекта привлекательны в плане отсутствия конкуренции, но дополнительно необходимо изучить, не находятся ли они в промышленных зонах.  \n",
        "Также учитывая специфику заведения, скорее всего, она будет интересна людям более молодого пополения, поэтому можно выдвинуть предложение о размещении заведения ближе к центральному округу, на улицах из ТОП-10.   \n",
        "   \n",
        "Если мы хотим сети небольших заведений, то тут особой раницы не будет, мелких заведений вехзде много, нужно будет брать запоминаемостью и частовстречаемостью - сетью.   \n",
        "   \n",
        "Если же берем большое заведение, то лучшим местом будет Профсоюзная улица, Проспект мира, Варшавское шоссе или Пресненская набережная."
      ]
    },
    {
      "cell_type": "markdown",
      "metadata": {
        "id": "lo4UnCJ2JyAc"
      },
      "source": [
        "### Шаг №3. Презентация.  \n",
        "\n",
        "Презентация: https://drive.google.com/file/d/1ZCEe_RD-KcAL82FxY1v-A_3q0TZ4RHcT/view?usp=sharing"
      ]
    },
    {
      "cell_type": "code",
      "execution_count": null,
      "metadata": {
        "id": "bH0pP4LuJyAc"
      },
      "outputs": [],
      "source": [
        ""
      ]
    }
  ],
  "metadata": {
    "ExecuteTimeLog": [
      {
        "duration": 1871,
        "start_time": "2022-04-01T06:00:53.753Z"
      },
      {
        "duration": 22,
        "start_time": "2022-04-01T06:02:09.382Z"
      },
      {
        "duration": 26,
        "start_time": "2022-04-01T06:09:34.982Z"
      },
      {
        "duration": 147,
        "start_time": "2022-04-01T06:15:51.383Z"
      },
      {
        "duration": 21,
        "start_time": "2022-04-01T06:16:05.068Z"
      },
      {
        "duration": 9,
        "start_time": "2022-04-01T06:16:25.704Z"
      },
      {
        "duration": 10,
        "start_time": "2022-04-01T06:16:43.764Z"
      },
      {
        "duration": 250,
        "start_time": "2022-04-01T06:17:04.170Z"
      },
      {
        "duration": 10,
        "start_time": "2022-04-01T06:17:32.707Z"
      },
      {
        "duration": 112,
        "start_time": "2022-04-01T06:20:47.010Z"
      },
      {
        "duration": 17,
        "start_time": "2022-04-01T06:21:25.913Z"
      },
      {
        "duration": 113,
        "start_time": "2022-04-01T06:21:56.333Z"
      },
      {
        "duration": 15,
        "start_time": "2022-04-01T06:22:13.405Z"
      },
      {
        "duration": 14,
        "start_time": "2022-04-01T06:24:07.536Z"
      },
      {
        "duration": 10,
        "start_time": "2022-04-01T06:24:18.291Z"
      },
      {
        "duration": 13,
        "start_time": "2022-04-01T06:24:44.524Z"
      },
      {
        "duration": 315,
        "start_time": "2022-04-01T06:25:02.453Z"
      },
      {
        "duration": 236,
        "start_time": "2022-04-01T06:25:34.309Z"
      },
      {
        "duration": 523,
        "start_time": "2022-04-01T06:26:54.441Z"
      },
      {
        "duration": 15,
        "start_time": "2022-04-01T06:27:07.147Z"
      },
      {
        "duration": 230,
        "start_time": "2022-04-01T06:28:53.318Z"
      },
      {
        "duration": 227,
        "start_time": "2022-04-01T06:29:01.341Z"
      },
      {
        "duration": 10,
        "start_time": "2022-04-01T06:30:00.641Z"
      },
      {
        "duration": 193,
        "start_time": "2022-04-01T06:30:10.806Z"
      },
      {
        "duration": 12,
        "start_time": "2022-04-01T06:30:53.558Z"
      },
      {
        "duration": 18,
        "start_time": "2022-04-01T06:31:07.730Z"
      },
      {
        "duration": 2803,
        "start_time": "2022-04-01T06:31:48.378Z"
      },
      {
        "duration": 18,
        "start_time": "2022-04-01T06:32:05.154Z"
      },
      {
        "duration": 12,
        "start_time": "2022-04-01T06:32:09.649Z"
      },
      {
        "duration": 14,
        "start_time": "2022-04-01T06:32:37.326Z"
      },
      {
        "duration": 12,
        "start_time": "2022-04-01T06:32:56.873Z"
      },
      {
        "duration": 9,
        "start_time": "2022-04-01T06:33:01.919Z"
      },
      {
        "duration": 7,
        "start_time": "2022-04-01T06:33:26.857Z"
      },
      {
        "duration": 10,
        "start_time": "2022-04-01T06:33:40.959Z"
      },
      {
        "duration": 226,
        "start_time": "2022-04-01T06:33:50.664Z"
      },
      {
        "duration": 294,
        "start_time": "2022-04-01T06:34:58.901Z"
      },
      {
        "duration": 167,
        "start_time": "2022-04-01T06:38:01.445Z"
      },
      {
        "duration": 25,
        "start_time": "2022-04-01T06:38:28.546Z"
      },
      {
        "duration": 214,
        "start_time": "2022-04-01T06:39:57.321Z"
      },
      {
        "duration": 227,
        "start_time": "2022-04-01T06:41:57.201Z"
      },
      {
        "duration": 16,
        "start_time": "2022-04-01T06:43:35.590Z"
      },
      {
        "duration": 232,
        "start_time": "2022-04-01T06:43:40.686Z"
      },
      {
        "duration": 16,
        "start_time": "2022-04-01T06:45:43.852Z"
      },
      {
        "duration": 147,
        "start_time": "2022-04-01T06:45:52.920Z"
      },
      {
        "duration": 14,
        "start_time": "2022-04-01T06:45:55.479Z"
      },
      {
        "duration": 16,
        "start_time": "2022-04-01T06:46:02.920Z"
      },
      {
        "duration": 24,
        "start_time": "2022-04-01T06:47:41.215Z"
      },
      {
        "duration": 11,
        "start_time": "2022-04-01T06:48:29.424Z"
      },
      {
        "duration": 2260,
        "start_time": "2022-04-01T06:48:49.265Z"
      },
      {
        "duration": 12,
        "start_time": "2022-04-01T06:48:57.212Z"
      },
      {
        "duration": 18,
        "start_time": "2022-04-01T06:50:47.105Z"
      },
      {
        "duration": 16,
        "start_time": "2022-04-01T06:51:34.029Z"
      },
      {
        "duration": 268,
        "start_time": "2022-04-01T06:52:02.568Z"
      },
      {
        "duration": 229,
        "start_time": "2022-04-01T06:52:25.900Z"
      },
      {
        "duration": 215,
        "start_time": "2022-04-01T06:52:36.694Z"
      },
      {
        "duration": 227,
        "start_time": "2022-04-01T06:53:01.653Z"
      },
      {
        "duration": 220,
        "start_time": "2022-04-01T06:53:10.243Z"
      },
      {
        "duration": 195,
        "start_time": "2022-04-01T06:53:31.247Z"
      },
      {
        "duration": 334,
        "start_time": "2022-04-01T06:53:46.509Z"
      },
      {
        "duration": 9,
        "start_time": "2022-04-01T06:54:41.983Z"
      },
      {
        "duration": 16,
        "start_time": "2022-04-01T06:55:43.079Z"
      },
      {
        "duration": 348,
        "start_time": "2022-04-01T06:56:06.355Z"
      },
      {
        "duration": 228,
        "start_time": "2022-04-01T06:56:13.976Z"
      },
      {
        "duration": 241,
        "start_time": "2022-04-01T07:10:32.231Z"
      },
      {
        "duration": 244,
        "start_time": "2022-04-01T07:10:48.834Z"
      },
      {
        "duration": 175,
        "start_time": "2022-04-01T07:13:00.992Z"
      },
      {
        "duration": 171,
        "start_time": "2022-04-01T07:13:34.007Z"
      },
      {
        "duration": 19,
        "start_time": "2022-04-01T07:15:37.250Z"
      },
      {
        "duration": 15,
        "start_time": "2022-04-01T07:15:53.203Z"
      },
      {
        "duration": 16,
        "start_time": "2022-04-01T07:16:00.868Z"
      },
      {
        "duration": 327,
        "start_time": "2022-04-01T07:16:07.628Z"
      },
      {
        "duration": 299,
        "start_time": "2022-04-01T07:18:49.204Z"
      },
      {
        "duration": 23,
        "start_time": "2022-04-01T07:19:30.217Z"
      },
      {
        "duration": 14,
        "start_time": "2022-04-01T07:22:00.022Z"
      },
      {
        "duration": 297,
        "start_time": "2022-04-01T07:25:48.915Z"
      },
      {
        "duration": 307,
        "start_time": "2022-04-01T07:26:24.880Z"
      },
      {
        "duration": 328,
        "start_time": "2022-04-01T07:26:40.985Z"
      },
      {
        "duration": 22,
        "start_time": "2022-04-01T07:30:14.985Z"
      },
      {
        "duration": 22,
        "start_time": "2022-04-01T07:31:44.987Z"
      },
      {
        "duration": 338,
        "start_time": "2022-04-01T07:32:03.469Z"
      },
      {
        "duration": 529,
        "start_time": "2022-04-01T07:34:02.679Z"
      },
      {
        "duration": 295,
        "start_time": "2022-04-01T07:35:10.803Z"
      },
      {
        "duration": 303,
        "start_time": "2022-04-01T07:36:21.036Z"
      },
      {
        "duration": 304,
        "start_time": "2022-04-01T07:36:44.716Z"
      },
      {
        "duration": 332,
        "start_time": "2022-04-01T07:38:06.775Z"
      },
      {
        "duration": 303,
        "start_time": "2022-04-01T07:39:20.396Z"
      },
      {
        "duration": 303,
        "start_time": "2022-04-01T07:39:27.514Z"
      },
      {
        "duration": 298,
        "start_time": "2022-04-01T07:39:36.013Z"
      },
      {
        "duration": 311,
        "start_time": "2022-04-01T07:39:53.187Z"
      },
      {
        "duration": 414,
        "start_time": "2022-04-01T07:40:07.024Z"
      },
      {
        "duration": 304,
        "start_time": "2022-04-01T07:40:09.947Z"
      },
      {
        "duration": 411,
        "start_time": "2022-04-01T07:40:18.992Z"
      },
      {
        "duration": 305,
        "start_time": "2022-04-01T07:40:24.404Z"
      },
      {
        "duration": 22,
        "start_time": "2022-04-01T07:44:44.104Z"
      },
      {
        "duration": 23,
        "start_time": "2022-04-01T07:46:26.561Z"
      },
      {
        "duration": 12,
        "start_time": "2022-04-01T07:47:06.696Z"
      },
      {
        "duration": 23,
        "start_time": "2022-04-01T07:47:43.466Z"
      },
      {
        "duration": 24,
        "start_time": "2022-04-01T07:47:50.763Z"
      },
      {
        "duration": 23,
        "start_time": "2022-04-01T07:47:57.645Z"
      },
      {
        "duration": 22,
        "start_time": "2022-04-01T07:48:02.535Z"
      },
      {
        "duration": 258,
        "start_time": "2022-04-01T07:48:13.519Z"
      },
      {
        "duration": 258,
        "start_time": "2022-04-01T07:48:35.048Z"
      },
      {
        "duration": 29,
        "start_time": "2022-04-01T07:49:14.297Z"
      },
      {
        "duration": 44,
        "start_time": "2022-04-01T07:50:36.750Z"
      },
      {
        "duration": 49,
        "start_time": "2022-04-01T07:50:50.396Z"
      },
      {
        "duration": 43,
        "start_time": "2022-04-01T07:50:54.861Z"
      },
      {
        "duration": 39,
        "start_time": "2022-04-01T07:51:27.048Z"
      },
      {
        "duration": 5,
        "start_time": "2022-04-01T07:51:32.077Z"
      },
      {
        "duration": 178,
        "start_time": "2022-04-01T07:51:37.968Z"
      },
      {
        "duration": 39,
        "start_time": "2022-04-01T07:51:56.548Z"
      },
      {
        "duration": 34,
        "start_time": "2022-04-01T07:52:21.487Z"
      },
      {
        "duration": 192,
        "start_time": "2022-04-01T07:52:44.214Z"
      },
      {
        "duration": 819,
        "start_time": "2022-04-01T07:53:42.607Z"
      },
      {
        "duration": 259,
        "start_time": "2022-04-01T07:54:19.662Z"
      },
      {
        "duration": 278,
        "start_time": "2022-04-01T07:55:23.707Z"
      },
      {
        "duration": 387,
        "start_time": "2022-04-01T07:56:57.059Z"
      },
      {
        "duration": 182,
        "start_time": "2022-04-01T07:57:05.873Z"
      },
      {
        "duration": 264,
        "start_time": "2022-04-01T07:58:10.385Z"
      },
      {
        "duration": 205,
        "start_time": "2022-04-01T07:59:39.777Z"
      },
      {
        "duration": 260,
        "start_time": "2022-04-01T08:00:31.875Z"
      },
      {
        "duration": 45,
        "start_time": "2022-04-01T08:00:51.090Z"
      },
      {
        "duration": 45,
        "start_time": "2022-04-01T08:01:26.731Z"
      },
      {
        "duration": 17,
        "start_time": "2022-04-01T08:03:25.386Z"
      },
      {
        "duration": 24,
        "start_time": "2022-04-01T08:04:15.713Z"
      },
      {
        "duration": 24,
        "start_time": "2022-04-01T08:04:29.460Z"
      },
      {
        "duration": 34,
        "start_time": "2022-04-01T08:10:44.803Z"
      },
      {
        "duration": 26,
        "start_time": "2022-04-01T08:11:22.817Z"
      },
      {
        "duration": 26,
        "start_time": "2022-04-01T08:11:32.669Z"
      },
      {
        "duration": 34,
        "start_time": "2022-04-01T08:11:45.321Z"
      },
      {
        "duration": 25,
        "start_time": "2022-04-01T08:11:58.250Z"
      },
      {
        "duration": 25,
        "start_time": "2022-04-01T08:12:10.946Z"
      },
      {
        "duration": 170,
        "start_time": "2022-04-01T08:14:47.642Z"
      },
      {
        "duration": 16,
        "start_time": "2022-04-01T08:18:02.349Z"
      },
      {
        "duration": 22,
        "start_time": "2022-04-01T08:18:29.756Z"
      },
      {
        "duration": 22,
        "start_time": "2022-04-01T08:21:38.771Z"
      },
      {
        "duration": 25,
        "start_time": "2022-04-01T08:21:50.729Z"
      },
      {
        "duration": 29,
        "start_time": "2022-04-01T08:23:11.686Z"
      },
      {
        "duration": 22,
        "start_time": "2022-04-01T08:23:33.961Z"
      },
      {
        "duration": 17,
        "start_time": "2022-04-01T08:23:40.209Z"
      },
      {
        "duration": 396,
        "start_time": "2022-04-01T08:24:35.560Z"
      },
      {
        "duration": 3196,
        "start_time": "2022-04-01T08:25:20.676Z"
      },
      {
        "duration": 3588,
        "start_time": "2022-04-01T08:26:19.175Z"
      },
      {
        "duration": 15,
        "start_time": "2022-04-01T08:27:25.099Z"
      },
      {
        "duration": 18,
        "start_time": "2022-04-01T08:27:57.421Z"
      },
      {
        "duration": 2090,
        "start_time": "2022-04-01T08:36:09.096Z"
      },
      {
        "duration": 30,
        "start_time": "2022-04-01T08:36:16.642Z"
      },
      {
        "duration": 2121,
        "start_time": "2022-04-01T08:36:25.403Z"
      },
      {
        "duration": 16,
        "start_time": "2022-04-01T08:36:43.831Z"
      },
      {
        "duration": 188,
        "start_time": "2022-04-01T08:37:02.433Z"
      },
      {
        "duration": 12,
        "start_time": "2022-04-01T08:42:59.153Z"
      },
      {
        "duration": 7,
        "start_time": "2022-04-01T08:43:51.519Z"
      },
      {
        "duration": 14,
        "start_time": "2022-04-01T08:44:30.832Z"
      },
      {
        "duration": 1120,
        "start_time": "2022-04-01T08:46:12.973Z"
      },
      {
        "duration": 1128,
        "start_time": "2022-04-01T08:46:24.551Z"
      },
      {
        "duration": 1104,
        "start_time": "2022-04-01T08:46:40.843Z"
      },
      {
        "duration": 1086,
        "start_time": "2022-04-01T08:47:15.606Z"
      },
      {
        "duration": 1230,
        "start_time": "2022-04-01T08:47:26.120Z"
      },
      {
        "duration": 729,
        "start_time": "2022-04-01T08:48:23.501Z"
      },
      {
        "duration": 25,
        "start_time": "2022-04-01T08:49:25.380Z"
      },
      {
        "duration": 832,
        "start_time": "2022-04-01T08:49:33.369Z"
      },
      {
        "duration": 2113,
        "start_time": "2022-04-01T08:50:15.581Z"
      },
      {
        "duration": 390,
        "start_time": "2022-04-01T08:50:24.790Z"
      },
      {
        "duration": 1115,
        "start_time": "2022-04-01T08:50:54.927Z"
      },
      {
        "duration": 6,
        "start_time": "2022-04-01T08:52:02.963Z"
      },
      {
        "duration": 21,
        "start_time": "2022-04-01T08:52:08.933Z"
      },
      {
        "duration": 724,
        "start_time": "2022-04-01T08:52:49.681Z"
      },
      {
        "duration": 275,
        "start_time": "2022-04-01T08:52:52.773Z"
      },
      {
        "duration": 25,
        "start_time": "2022-04-01T08:54:14.239Z"
      },
      {
        "duration": 49,
        "start_time": "2022-04-01T08:55:26.615Z"
      },
      {
        "duration": 636,
        "start_time": "2022-04-01T08:55:36.715Z"
      },
      {
        "duration": 509,
        "start_time": "2022-04-01T08:55:44.460Z"
      },
      {
        "duration": 1119,
        "start_time": "2022-04-01T08:55:47.946Z"
      },
      {
        "duration": 24,
        "start_time": "2022-04-01T08:56:33.262Z"
      },
      {
        "duration": 280,
        "start_time": "2022-04-01T08:56:51.575Z"
      },
      {
        "duration": 7,
        "start_time": "2022-04-01T08:57:01.005Z"
      },
      {
        "duration": 5,
        "start_time": "2022-04-01T08:57:18.546Z"
      },
      {
        "duration": 267,
        "start_time": "2022-04-01T08:57:40.505Z"
      },
      {
        "duration": 13,
        "start_time": "2022-04-01T08:57:54.946Z"
      },
      {
        "duration": 18,
        "start_time": "2022-04-01T08:58:08.121Z"
      },
      {
        "duration": 405,
        "start_time": "2022-04-01T08:58:34.810Z"
      },
      {
        "duration": 177,
        "start_time": "2022-04-01T08:59:23.924Z"
      },
      {
        "duration": 341,
        "start_time": "2022-04-01T09:00:11.932Z"
      },
      {
        "duration": 2113,
        "start_time": "2022-04-01T09:07:07.844Z"
      },
      {
        "duration": 512,
        "start_time": "2022-04-01T09:07:29.555Z"
      },
      {
        "duration": 28,
        "start_time": "2022-04-01T09:08:47.837Z"
      },
      {
        "duration": 20,
        "start_time": "2022-04-01T09:09:08.369Z"
      },
      {
        "duration": 31,
        "start_time": "2022-04-01T09:09:35.583Z"
      },
      {
        "duration": 1291,
        "start_time": "2022-04-01T09:09:46.030Z"
      },
      {
        "duration": 146,
        "start_time": "2022-04-01T09:10:43.620Z"
      },
      {
        "duration": 22,
        "start_time": "2022-04-01T09:10:49.336Z"
      },
      {
        "duration": 367,
        "start_time": "2022-04-01T09:10:57.588Z"
      },
      {
        "duration": 264,
        "start_time": "2022-04-01T09:11:44.682Z"
      },
      {
        "duration": 254,
        "start_time": "2022-04-01T09:12:10.961Z"
      },
      {
        "duration": 253,
        "start_time": "2022-04-01T09:13:19.778Z"
      },
      {
        "duration": 251,
        "start_time": "2022-04-01T09:13:42.602Z"
      },
      {
        "duration": 252,
        "start_time": "2022-04-01T09:14:12.205Z"
      },
      {
        "duration": 249,
        "start_time": "2022-04-01T09:14:17.309Z"
      },
      {
        "duration": 226,
        "start_time": "2022-04-01T09:14:57.211Z"
      },
      {
        "duration": 253,
        "start_time": "2022-04-01T09:15:07.404Z"
      },
      {
        "duration": 22,
        "start_time": "2022-04-01T09:17:03.630Z"
      },
      {
        "duration": 21,
        "start_time": "2022-04-01T09:17:15.510Z"
      },
      {
        "duration": 23,
        "start_time": "2022-04-01T09:17:28.260Z"
      },
      {
        "duration": 229,
        "start_time": "2022-04-01T09:17:37.370Z"
      },
      {
        "duration": 24,
        "start_time": "2022-04-01T09:17:49.798Z"
      },
      {
        "duration": 29,
        "start_time": "2022-04-01T09:18:07.739Z"
      },
      {
        "duration": 3852,
        "start_time": "2022-04-01T09:18:21.149Z"
      },
      {
        "duration": 22,
        "start_time": "2022-04-01T09:19:17.253Z"
      },
      {
        "duration": 236,
        "start_time": "2022-04-01T09:20:19.834Z"
      },
      {
        "duration": 235,
        "start_time": "2022-04-01T09:20:37.069Z"
      },
      {
        "duration": 240,
        "start_time": "2022-04-01T09:21:19.982Z"
      },
      {
        "duration": 185,
        "start_time": "2022-04-01T09:21:50.223Z"
      },
      {
        "duration": 237,
        "start_time": "2022-04-01T09:22:37.158Z"
      },
      {
        "duration": 223,
        "start_time": "2022-04-01T09:22:50.706Z"
      },
      {
        "duration": 24,
        "start_time": "2022-04-01T09:23:40.544Z"
      },
      {
        "duration": 242,
        "start_time": "2022-04-01T09:23:49.944Z"
      },
      {
        "duration": 166,
        "start_time": "2022-04-01T09:24:54.390Z"
      },
      {
        "duration": 221,
        "start_time": "2022-04-01T09:24:58.201Z"
      },
      {
        "duration": 223,
        "start_time": "2022-04-01T09:25:04.804Z"
      },
      {
        "duration": 4088,
        "start_time": "2022-04-01T09:26:15.556Z"
      },
      {
        "duration": 4302,
        "start_time": "2022-04-01T09:26:26.724Z"
      },
      {
        "duration": 221,
        "start_time": "2022-04-01T09:27:02.703Z"
      },
      {
        "duration": 236,
        "start_time": "2022-04-01T09:27:37.312Z"
      },
      {
        "duration": 338,
        "start_time": "2022-04-01T09:27:51.396Z"
      },
      {
        "duration": 365,
        "start_time": "2022-04-01T09:29:43.594Z"
      },
      {
        "duration": 362,
        "start_time": "2022-04-01T09:29:50.325Z"
      },
      {
        "duration": 360,
        "start_time": "2022-04-01T09:30:38.189Z"
      },
      {
        "duration": 531,
        "start_time": "2022-04-01T09:30:53.117Z"
      },
      {
        "duration": 385,
        "start_time": "2022-04-01T09:31:40.333Z"
      },
      {
        "duration": 220,
        "start_time": "2022-04-01T09:33:08.111Z"
      },
      {
        "duration": 371,
        "start_time": "2022-04-01T09:34:55.575Z"
      },
      {
        "duration": 301,
        "start_time": "2022-04-01T09:35:01.008Z"
      },
      {
        "duration": 286,
        "start_time": "2022-04-01T09:36:03.864Z"
      },
      {
        "duration": 373,
        "start_time": "2022-04-01T09:36:46.313Z"
      },
      {
        "duration": 365,
        "start_time": "2022-04-01T09:37:01.641Z"
      },
      {
        "duration": 177,
        "start_time": "2022-04-01T09:37:11.838Z"
      },
      {
        "duration": 273,
        "start_time": "2022-04-01T09:37:16.703Z"
      },
      {
        "duration": 20,
        "start_time": "2022-04-01T09:43:10.345Z"
      },
      {
        "duration": 8,
        "start_time": "2022-04-01T09:45:02.658Z"
      },
      {
        "duration": 180,
        "start_time": "2022-04-01T09:45:12.313Z"
      },
      {
        "duration": 13,
        "start_time": "2022-04-01T09:45:24.404Z"
      },
      {
        "duration": 13,
        "start_time": "2022-04-01T09:46:01.539Z"
      },
      {
        "duration": 17,
        "start_time": "2022-04-01T09:46:07.407Z"
      },
      {
        "duration": 13,
        "start_time": "2022-04-01T09:47:25.559Z"
      },
      {
        "duration": 133,
        "start_time": "2022-04-01T09:47:45.111Z"
      },
      {
        "duration": 7,
        "start_time": "2022-04-01T09:47:48.043Z"
      },
      {
        "duration": 13,
        "start_time": "2022-04-01T09:50:19.057Z"
      },
      {
        "duration": 11830,
        "start_time": "2022-04-01T09:50:26.741Z"
      },
      {
        "duration": 13733,
        "start_time": "2022-04-01T09:51:01.725Z"
      },
      {
        "duration": 13991,
        "start_time": "2022-04-01T09:53:04.395Z"
      },
      {
        "duration": 18,
        "start_time": "2022-04-01T09:53:30.247Z"
      },
      {
        "duration": 20,
        "start_time": "2022-04-01T09:53:39.503Z"
      },
      {
        "duration": 22,
        "start_time": "2022-04-01T09:53:52.317Z"
      },
      {
        "duration": 23,
        "start_time": "2022-04-01T09:54:05.343Z"
      },
      {
        "duration": 14,
        "start_time": "2022-04-01T09:54:55.455Z"
      },
      {
        "duration": 25,
        "start_time": "2022-04-01T09:57:43.593Z"
      },
      {
        "duration": 24,
        "start_time": "2022-04-01T09:58:17.552Z"
      },
      {
        "duration": 23,
        "start_time": "2022-04-01T09:58:55.864Z"
      },
      {
        "duration": 24,
        "start_time": "2022-04-01T10:00:15.127Z"
      },
      {
        "duration": 21,
        "start_time": "2022-04-01T10:00:20.129Z"
      },
      {
        "duration": 25,
        "start_time": "2022-04-01T10:00:30.251Z"
      },
      {
        "duration": 27,
        "start_time": "2022-04-01T10:00:52.733Z"
      },
      {
        "duration": 28,
        "start_time": "2022-04-01T10:00:57.939Z"
      },
      {
        "duration": 23,
        "start_time": "2022-04-01T10:01:09.980Z"
      },
      {
        "duration": 8,
        "start_time": "2022-04-01T10:12:02.153Z"
      },
      {
        "duration": 183,
        "start_time": "2022-04-01T10:15:27.402Z"
      },
      {
        "duration": 120,
        "start_time": "2022-04-01T10:18:05.244Z"
      },
      {
        "duration": 15728,
        "start_time": "2022-04-01T10:18:17.250Z"
      },
      {
        "duration": 128,
        "start_time": "2022-04-01T10:18:46.171Z"
      },
      {
        "duration": 14951,
        "start_time": "2022-04-01T10:18:53.738Z"
      },
      {
        "duration": 3488,
        "start_time": "2022-04-01T10:25:38.095Z"
      },
      {
        "duration": 2958,
        "start_time": "2022-04-01T10:28:24.026Z"
      },
      {
        "duration": 55,
        "start_time": "2022-04-01T10:33:59.700Z"
      },
      {
        "duration": 11285,
        "start_time": "2022-04-01T10:34:11.956Z"
      },
      {
        "duration": 18,
        "start_time": "2022-04-01T10:36:28.008Z"
      },
      {
        "duration": 53883,
        "start_time": "2022-04-01T10:37:12.152Z"
      },
      {
        "duration": 24,
        "start_time": "2022-04-01T10:38:39.239Z"
      },
      {
        "duration": 20,
        "start_time": "2022-04-01T10:40:44.674Z"
      },
      {
        "duration": 16,
        "start_time": "2022-04-01T10:42:21.560Z"
      },
      {
        "duration": 13785,
        "start_time": "2022-04-01T10:43:08.766Z"
      },
      {
        "duration": 23773,
        "start_time": "2022-04-01T10:43:31.599Z"
      },
      {
        "duration": 24660,
        "start_time": "2022-04-01T10:44:40.187Z"
      },
      {
        "duration": 11,
        "start_time": "2022-04-01T10:45:13.023Z"
      },
      {
        "duration": 9,
        "start_time": "2022-04-01T10:45:39.483Z"
      },
      {
        "duration": 18,
        "start_time": "2022-04-01T10:46:23.272Z"
      },
      {
        "duration": 19,
        "start_time": "2022-04-01T10:46:33.015Z"
      },
      {
        "duration": 7,
        "start_time": "2022-04-01T10:46:44.918Z"
      },
      {
        "duration": 7,
        "start_time": "2022-04-01T10:46:56.851Z"
      },
      {
        "duration": 127,
        "start_time": "2022-04-01T10:48:01.389Z"
      },
      {
        "duration": 14,
        "start_time": "2022-04-01T10:48:04.583Z"
      },
      {
        "duration": 16,
        "start_time": "2022-04-01T10:48:07.653Z"
      },
      {
        "duration": 20,
        "start_time": "2022-04-01T10:48:28.182Z"
      },
      {
        "duration": 9,
        "start_time": "2022-04-01T10:48:47.350Z"
      },
      {
        "duration": 23,
        "start_time": "2022-04-01T10:49:04.481Z"
      },
      {
        "duration": 23,
        "start_time": "2022-04-01T10:49:14.940Z"
      },
      {
        "duration": 20,
        "start_time": "2022-04-01T10:49:54.585Z"
      },
      {
        "duration": 12,
        "start_time": "2022-04-01T10:50:12.018Z"
      },
      {
        "duration": 17,
        "start_time": "2022-04-01T10:50:29.179Z"
      },
      {
        "duration": 17,
        "start_time": "2022-04-01T10:50:54.980Z"
      },
      {
        "duration": 17,
        "start_time": "2022-04-01T10:51:40.318Z"
      },
      {
        "duration": 16,
        "start_time": "2022-04-01T10:52:03.686Z"
      },
      {
        "duration": 8,
        "start_time": "2022-04-01T10:52:15.465Z"
      },
      {
        "duration": 13740,
        "start_time": "2022-04-01T10:52:38.399Z"
      },
      {
        "duration": 11,
        "start_time": "2022-04-01T10:52:57.938Z"
      },
      {
        "duration": 14094,
        "start_time": "2022-04-01T10:54:28.671Z"
      },
      {
        "duration": 26,
        "start_time": "2022-04-01T10:54:52.487Z"
      },
      {
        "duration": 14037,
        "start_time": "2022-04-01T11:01:38.758Z"
      },
      {
        "duration": 26,
        "start_time": "2022-04-01T11:02:06.952Z"
      },
      {
        "duration": 321,
        "start_time": "2022-04-01T11:04:13.174Z"
      },
      {
        "duration": 11,
        "start_time": "2022-04-01T11:25:27.779Z"
      },
      {
        "duration": 15,
        "start_time": "2022-04-01T11:33:32.772Z"
      },
      {
        "duration": 13,
        "start_time": "2022-04-01T11:34:26.764Z"
      },
      {
        "duration": 13,
        "start_time": "2022-04-01T11:34:43.776Z"
      },
      {
        "duration": 15,
        "start_time": "2022-04-01T11:34:48.414Z"
      },
      {
        "duration": 30,
        "start_time": "2022-04-01T11:39:10.400Z"
      },
      {
        "duration": 29,
        "start_time": "2022-04-01T11:40:34.834Z"
      },
      {
        "duration": 32,
        "start_time": "2022-04-01T11:59:31.663Z"
      },
      {
        "duration": 27,
        "start_time": "2022-04-01T11:59:38.399Z"
      },
      {
        "duration": 20,
        "start_time": "2022-04-01T12:04:31.087Z"
      },
      {
        "duration": 23,
        "start_time": "2022-04-01T12:04:43.492Z"
      },
      {
        "duration": 20,
        "start_time": "2022-04-01T12:05:26.938Z"
      },
      {
        "duration": 19,
        "start_time": "2022-04-01T12:08:38.047Z"
      },
      {
        "duration": 6,
        "start_time": "2022-04-01T12:13:40.392Z"
      },
      {
        "duration": 132,
        "start_time": "2022-04-01T12:14:33.378Z"
      },
      {
        "duration": 16,
        "start_time": "2022-04-01T12:17:21.669Z"
      },
      {
        "duration": 1764,
        "start_time": "2022-04-01T12:18:22.592Z"
      },
      {
        "duration": 18,
        "start_time": "2022-04-01T12:18:50.574Z"
      },
      {
        "duration": 10,
        "start_time": "2022-04-01T12:19:36.111Z"
      },
      {
        "duration": 18,
        "start_time": "2022-04-01T12:20:10.295Z"
      },
      {
        "duration": 19,
        "start_time": "2022-04-01T12:20:15.551Z"
      },
      {
        "duration": 29,
        "start_time": "2022-04-01T12:20:25.409Z"
      },
      {
        "duration": 20,
        "start_time": "2022-04-01T12:23:49.067Z"
      },
      {
        "duration": 23,
        "start_time": "2022-04-01T12:24:25.473Z"
      },
      {
        "duration": 316,
        "start_time": "2022-04-01T12:24:28.419Z"
      },
      {
        "duration": 15,
        "start_time": "2022-04-01T12:24:31.469Z"
      },
      {
        "duration": 29,
        "start_time": "2022-04-01T12:24:36.169Z"
      },
      {
        "duration": 24,
        "start_time": "2022-04-01T12:24:38.983Z"
      },
      {
        "duration": 1897,
        "start_time": "2022-04-01T12:25:45.355Z"
      },
      {
        "duration": 649,
        "start_time": "2022-04-01T12:26:19.815Z"
      },
      {
        "duration": 315,
        "start_time": "2022-04-01T12:26:36.015Z"
      },
      {
        "duration": 481,
        "start_time": "2022-04-01T12:27:50.189Z"
      },
      {
        "duration": 14,
        "start_time": "2022-04-01T12:36:23.606Z"
      },
      {
        "duration": 288,
        "start_time": "2022-04-01T12:51:02.999Z"
      },
      {
        "duration": 112,
        "start_time": "2022-04-01T13:28:57.815Z"
      },
      {
        "duration": 335,
        "start_time": "2022-04-01T13:29:12.491Z"
      },
      {
        "duration": 269,
        "start_time": "2022-04-01T13:31:55.843Z"
      },
      {
        "duration": 43,
        "start_time": "2022-04-01T13:32:52.217Z"
      },
      {
        "duration": 247,
        "start_time": "2022-04-01T13:32:55.367Z"
      },
      {
        "duration": 1003,
        "start_time": "2022-04-01T13:33:44.402Z"
      },
      {
        "duration": 15,
        "start_time": "2022-04-01T13:34:56.100Z"
      },
      {
        "duration": 321,
        "start_time": "2022-04-01T13:35:08.822Z"
      },
      {
        "duration": 16,
        "start_time": "2022-04-01T13:35:12.357Z"
      },
      {
        "duration": 1556,
        "start_time": "2022-04-01T13:35:37.190Z"
      },
      {
        "duration": 114,
        "start_time": "2022-04-01T13:38:25.503Z"
      },
      {
        "duration": 3357,
        "start_time": "2022-04-01T13:38:54.274Z"
      },
      {
        "duration": 1466,
        "start_time": "2022-04-01T13:39:14.651Z"
      },
      {
        "duration": 1428,
        "start_time": "2022-04-01T13:40:12.970Z"
      },
      {
        "duration": 1703,
        "start_time": "2022-04-01T13:40:56.918Z"
      },
      {
        "duration": 955,
        "start_time": "2022-04-01T13:41:02.252Z"
      },
      {
        "duration": 118,
        "start_time": "2022-04-01T13:41:06.504Z"
      },
      {
        "duration": 908,
        "start_time": "2022-04-01T13:41:57.536Z"
      },
      {
        "duration": 916,
        "start_time": "2022-04-01T13:42:05.134Z"
      },
      {
        "duration": 14,
        "start_time": "2022-04-01T13:42:40.353Z"
      },
      {
        "duration": 7,
        "start_time": "2022-04-01T13:42:56.451Z"
      },
      {
        "duration": 118,
        "start_time": "2022-04-01T13:43:31.609Z"
      },
      {
        "duration": 915,
        "start_time": "2022-04-01T13:43:38.288Z"
      },
      {
        "duration": 976,
        "start_time": "2022-04-01T13:45:10.759Z"
      },
      {
        "duration": 36,
        "start_time": "2022-04-01T13:48:33.110Z"
      },
      {
        "duration": 36,
        "start_time": "2022-04-01T13:51:05.879Z"
      },
      {
        "duration": 39,
        "start_time": "2022-04-01T13:51:11.015Z"
      },
      {
        "duration": 24,
        "start_time": "2022-04-01T13:52:07.036Z"
      },
      {
        "duration": 36,
        "start_time": "2022-04-01T13:52:31.481Z"
      },
      {
        "duration": 41,
        "start_time": "2022-04-01T13:54:00.114Z"
      },
      {
        "duration": 46,
        "start_time": "2022-04-01T13:54:09.075Z"
      },
      {
        "duration": 321,
        "start_time": "2022-04-01T13:55:33.352Z"
      },
      {
        "duration": 10,
        "start_time": "2022-04-01T13:56:21.689Z"
      },
      {
        "duration": 22,
        "start_time": "2022-04-01T13:56:29.692Z"
      },
      {
        "duration": 19,
        "start_time": "2022-04-01T13:56:32.847Z"
      },
      {
        "duration": 1261,
        "start_time": "2022-04-01T13:57:09.504Z"
      },
      {
        "duration": 21,
        "start_time": "2022-04-01T13:57:14.320Z"
      },
      {
        "duration": 323,
        "start_time": "2022-04-01T13:57:21.214Z"
      },
      {
        "duration": 947,
        "start_time": "2022-04-01T13:57:25.409Z"
      },
      {
        "duration": 17,
        "start_time": "2022-04-01T13:57:30.362Z"
      },
      {
        "duration": 19,
        "start_time": "2022-04-01T13:57:55.936Z"
      },
      {
        "duration": 4,
        "start_time": "2022-04-01T13:58:11.857Z"
      },
      {
        "duration": 321,
        "start_time": "2022-04-01T13:58:16.433Z"
      },
      {
        "duration": 954,
        "start_time": "2022-04-01T13:58:20.247Z"
      },
      {
        "duration": 16,
        "start_time": "2022-04-01T13:58:23.786Z"
      },
      {
        "duration": 39,
        "start_time": "2022-04-01T13:58:31.795Z"
      },
      {
        "duration": 125,
        "start_time": "2022-04-01T14:00:00.251Z"
      },
      {
        "duration": 1249,
        "start_time": "2022-04-01T14:00:44.392Z"
      },
      {
        "duration": 1157,
        "start_time": "2022-04-01T14:01:10.491Z"
      },
      {
        "duration": 1099,
        "start_time": "2022-04-01T14:01:17.757Z"
      },
      {
        "duration": 20,
        "start_time": "2022-04-01T14:01:25.260Z"
      },
      {
        "duration": 317,
        "start_time": "2022-04-01T14:01:30.519Z"
      },
      {
        "duration": 17,
        "start_time": "2022-04-01T14:01:44.860Z"
      },
      {
        "duration": 1007,
        "start_time": "2022-04-01T14:02:07.352Z"
      },
      {
        "duration": 20,
        "start_time": "2022-04-01T14:02:19.857Z"
      },
      {
        "duration": 318,
        "start_time": "2022-04-01T14:02:25.004Z"
      },
      {
        "duration": 1159,
        "start_time": "2022-04-01T14:02:30.796Z"
      },
      {
        "duration": 17,
        "start_time": "2022-04-01T14:02:36.644Z"
      },
      {
        "duration": 39,
        "start_time": "2022-04-01T14:02:54.092Z"
      },
      {
        "duration": 39,
        "start_time": "2022-04-01T14:03:22.252Z"
      },
      {
        "duration": 2967,
        "start_time": "2022-04-01T14:15:04.206Z"
      },
      {
        "duration": 21,
        "start_time": "2022-04-01T14:15:14.606Z"
      },
      {
        "duration": 2136,
        "start_time": "2022-04-01T14:15:28.441Z"
      },
      {
        "duration": 406,
        "start_time": "2022-04-01T14:15:32.286Z"
      },
      {
        "duration": 18,
        "start_time": "2022-04-01T14:16:08.536Z"
      },
      {
        "duration": 113,
        "start_time": "2022-04-01T14:16:41.715Z"
      },
      {
        "duration": 114,
        "start_time": "2022-04-01T14:16:56.950Z"
      },
      {
        "duration": 1945,
        "start_time": "2022-04-01T14:17:01.934Z"
      },
      {
        "duration": 3899,
        "start_time": "2022-04-01T14:17:15.247Z"
      },
      {
        "duration": 20,
        "start_time": "2022-04-01T14:17:30.537Z"
      },
      {
        "duration": 29,
        "start_time": "2022-04-01T14:17:40.989Z"
      },
      {
        "duration": 18,
        "start_time": "2022-04-01T14:17:51.112Z"
      },
      {
        "duration": 10,
        "start_time": "2022-04-01T14:18:00.099Z"
      },
      {
        "duration": 12,
        "start_time": "2022-04-01T14:18:05.871Z"
      },
      {
        "duration": 21,
        "start_time": "2022-04-01T14:20:55.920Z"
      },
      {
        "duration": 21,
        "start_time": "2022-04-01T14:21:11.287Z"
      },
      {
        "duration": 23,
        "start_time": "2022-04-01T14:21:13.444Z"
      },
      {
        "duration": 19,
        "start_time": "2022-04-01T14:22:06.359Z"
      },
      {
        "duration": 22,
        "start_time": "2022-04-01T14:23:50.111Z"
      },
      {
        "duration": 19,
        "start_time": "2022-04-01T14:24:22.907Z"
      },
      {
        "duration": 313,
        "start_time": "2022-04-01T14:24:28.336Z"
      },
      {
        "duration": 1028,
        "start_time": "2022-04-01T14:24:38.186Z"
      },
      {
        "duration": 18,
        "start_time": "2022-04-01T14:24:52.729Z"
      },
      {
        "duration": 1635,
        "start_time": "2022-04-01T14:26:45.427Z"
      },
      {
        "duration": 26,
        "start_time": "2022-04-01T14:26:47.065Z"
      },
      {
        "duration": 33,
        "start_time": "2022-04-01T14:26:47.093Z"
      },
      {
        "duration": 309,
        "start_time": "2022-04-01T14:26:47.129Z"
      },
      {
        "duration": 198,
        "start_time": "2022-04-01T14:26:47.441Z"
      },
      {
        "duration": 386,
        "start_time": "2022-04-01T14:26:47.641Z"
      },
      {
        "duration": 499,
        "start_time": "2022-04-01T14:26:48.029Z"
      },
      {
        "duration": 321,
        "start_time": "2022-04-01T14:26:48.531Z"
      },
      {
        "duration": 11881,
        "start_time": "2022-04-01T14:26:48.854Z"
      },
      {
        "duration": 332,
        "start_time": "2022-04-01T14:27:00.739Z"
      },
      {
        "duration": 13,
        "start_time": "2022-04-01T14:27:01.074Z"
      },
      {
        "duration": 1035,
        "start_time": "2022-04-01T14:27:01.090Z"
      },
      {
        "duration": 13,
        "start_time": "2022-04-01T14:27:02.128Z"
      },
      {
        "duration": 44,
        "start_time": "2022-04-01T14:27:02.144Z"
      },
      {
        "duration": 37,
        "start_time": "2022-04-01T14:27:02.190Z"
      },
      {
        "duration": 444,
        "start_time": "2022-04-01T14:27:02.230Z"
      },
      {
        "duration": 1033,
        "start_time": "2022-04-01T14:27:37.341Z"
      },
      {
        "duration": 13,
        "start_time": "2022-04-01T14:27:46.564Z"
      },
      {
        "duration": 99,
        "start_time": "2022-04-01T14:28:50.528Z"
      },
      {
        "duration": 19,
        "start_time": "2022-04-01T14:28:56.103Z"
      },
      {
        "duration": 13,
        "start_time": "2022-04-01T14:29:27.582Z"
      },
      {
        "duration": 309,
        "start_time": "2022-04-01T14:29:36.907Z"
      },
      {
        "duration": 976,
        "start_time": "2022-04-01T14:29:40.416Z"
      },
      {
        "duration": 13,
        "start_time": "2022-04-01T14:29:44.394Z"
      },
      {
        "duration": 9,
        "start_time": "2022-04-01T14:29:46.653Z"
      },
      {
        "duration": 9,
        "start_time": "2022-04-01T14:30:21.177Z"
      },
      {
        "duration": 10,
        "start_time": "2022-04-01T14:30:23.515Z"
      },
      {
        "duration": 13765,
        "start_time": "2022-04-01T14:31:34.377Z"
      },
      {
        "duration": 339,
        "start_time": "2022-04-01T14:31:52.908Z"
      },
      {
        "duration": 976,
        "start_time": "2022-04-01T14:31:57.769Z"
      },
      {
        "duration": 16,
        "start_time": "2022-04-01T14:32:04.853Z"
      },
      {
        "duration": 11,
        "start_time": "2022-04-01T14:32:07.654Z"
      },
      {
        "duration": 17,
        "start_time": "2022-04-01T14:32:10.843Z"
      },
      {
        "duration": 37,
        "start_time": "2022-04-01T14:32:23.324Z"
      },
      {
        "duration": 35,
        "start_time": "2022-04-01T14:32:49.931Z"
      },
      {
        "duration": 10,
        "start_time": "2022-04-01T14:33:16.499Z"
      },
      {
        "duration": 11,
        "start_time": "2022-04-01T14:34:08.037Z"
      },
      {
        "duration": 10,
        "start_time": "2022-04-01T14:34:15.321Z"
      },
      {
        "duration": 10,
        "start_time": "2022-04-01T14:34:25.464Z"
      },
      {
        "duration": 10,
        "start_time": "2022-04-01T14:34:29.914Z"
      },
      {
        "duration": 10,
        "start_time": "2022-04-01T14:34:36.389Z"
      },
      {
        "duration": 9,
        "start_time": "2022-04-01T14:34:40.238Z"
      },
      {
        "duration": 10,
        "start_time": "2022-04-01T14:34:44.545Z"
      },
      {
        "duration": 10,
        "start_time": "2022-04-01T14:34:47.414Z"
      },
      {
        "duration": 32,
        "start_time": "2022-04-01T14:34:59.986Z"
      },
      {
        "duration": 37,
        "start_time": "2022-04-01T14:35:12.430Z"
      },
      {
        "duration": 1229,
        "start_time": "2022-04-01T14:37:15.746Z"
      },
      {
        "duration": 112,
        "start_time": "2022-04-01T14:39:13.483Z"
      },
      {
        "duration": 2629,
        "start_time": "2022-04-04T11:09:14.678Z"
      },
      {
        "duration": 29,
        "start_time": "2022-04-04T11:09:17.311Z"
      },
      {
        "duration": 57,
        "start_time": "2022-04-04T11:09:17.343Z"
      },
      {
        "duration": 452,
        "start_time": "2022-04-04T11:09:17.403Z"
      },
      {
        "duration": 276,
        "start_time": "2022-04-04T11:09:17.859Z"
      },
      {
        "duration": 381,
        "start_time": "2022-04-04T11:09:18.137Z"
      },
      {
        "duration": 389,
        "start_time": "2022-04-04T11:09:18.520Z"
      },
      {
        "duration": 298,
        "start_time": "2022-04-04T11:09:18.912Z"
      },
      {
        "duration": 11804,
        "start_time": "2022-04-04T11:09:19.212Z"
      },
      {
        "duration": 438,
        "start_time": "2022-04-04T11:09:31.018Z"
      },
      {
        "duration": 830,
        "start_time": "2022-04-04T11:09:31.458Z"
      },
      {
        "duration": 19,
        "start_time": "2022-04-04T11:09:32.290Z"
      },
      {
        "duration": 65,
        "start_time": "2022-04-04T11:09:32.311Z"
      },
      {
        "duration": 410,
        "start_time": "2022-04-04T11:09:32.379Z"
      },
      {
        "duration": 71,
        "start_time": "2022-04-04T13:20:31.000Z"
      },
      {
        "duration": 53,
        "start_time": "2022-04-04T17:00:14.793Z"
      },
      {
        "duration": 1520,
        "start_time": "2022-04-04T17:00:20.776Z"
      },
      {
        "duration": 18,
        "start_time": "2022-04-04T17:00:25.901Z"
      },
      {
        "duration": 2996,
        "start_time": "2022-04-04T17:00:28.124Z"
      },
      {
        "duration": 7,
        "start_time": "2022-04-04T17:01:07.043Z"
      },
      {
        "duration": 14,
        "start_time": "2022-04-04T17:05:18.817Z"
      },
      {
        "duration": 1289,
        "start_time": "2022-04-04T17:05:22.981Z"
      },
      {
        "duration": 16,
        "start_time": "2022-04-04T17:05:24.272Z"
      },
      {
        "duration": 12,
        "start_time": "2022-04-04T17:05:24.289Z"
      },
      {
        "duration": 195,
        "start_time": "2022-04-04T17:05:24.304Z"
      },
      {
        "duration": 114,
        "start_time": "2022-04-04T17:05:24.500Z"
      },
      {
        "duration": 236,
        "start_time": "2022-04-04T17:05:24.616Z"
      },
      {
        "duration": 241,
        "start_time": "2022-04-04T17:05:24.854Z"
      },
      {
        "duration": 182,
        "start_time": "2022-04-04T17:05:25.101Z"
      },
      {
        "duration": 7736,
        "start_time": "2022-04-04T17:05:25.284Z"
      },
      {
        "duration": 224,
        "start_time": "2022-04-04T17:05:33.023Z"
      },
      {
        "duration": 2450,
        "start_time": "2022-04-04T17:05:33.249Z"
      },
      {
        "duration": 14,
        "start_time": "2022-04-04T17:05:35.701Z"
      },
      {
        "duration": 28,
        "start_time": "2022-04-04T17:05:35.716Z"
      },
      {
        "duration": 309,
        "start_time": "2022-04-04T17:05:35.745Z"
      },
      {
        "duration": 294,
        "start_time": "2022-04-04T17:05:36.056Z"
      },
      {
        "duration": 20,
        "start_time": "2022-04-04T17:16:26.325Z"
      },
      {
        "duration": 19,
        "start_time": "2022-04-04T17:16:53.357Z"
      },
      {
        "duration": 22,
        "start_time": "2022-04-04T17:17:02.150Z"
      },
      {
        "duration": 18,
        "start_time": "2022-04-04T17:18:20.610Z"
      },
      {
        "duration": 17,
        "start_time": "2022-04-04T17:18:34.547Z"
      },
      {
        "duration": 15,
        "start_time": "2022-04-04T17:19:01.745Z"
      },
      {
        "duration": 17,
        "start_time": "2022-04-04T17:19:36.772Z"
      },
      {
        "duration": 21,
        "start_time": "2022-04-04T17:20:49.381Z"
      },
      {
        "duration": 19,
        "start_time": "2022-04-04T17:20:54.337Z"
      },
      {
        "duration": 684,
        "start_time": "2022-04-04T17:21:12.812Z"
      },
      {
        "duration": 13,
        "start_time": "2022-04-04T17:21:29.338Z"
      },
      {
        "duration": 14,
        "start_time": "2022-04-04T17:21:39.658Z"
      },
      {
        "duration": 16,
        "start_time": "2022-04-04T17:22:24.481Z"
      },
      {
        "duration": 16,
        "start_time": "2022-04-04T17:22:33.907Z"
      },
      {
        "duration": 23,
        "start_time": "2022-04-04T17:23:45.626Z"
      },
      {
        "duration": 153,
        "start_time": "2022-04-04T17:24:54.664Z"
      },
      {
        "duration": 24,
        "start_time": "2022-04-04T17:25:31.623Z"
      },
      {
        "duration": 24,
        "start_time": "2022-04-04T17:25:41.574Z"
      },
      {
        "duration": 24,
        "start_time": "2022-04-04T17:25:50.163Z"
      },
      {
        "duration": 22,
        "start_time": "2022-04-04T17:26:52.318Z"
      },
      {
        "duration": 23,
        "start_time": "2022-04-04T17:27:52.946Z"
      },
      {
        "duration": 277,
        "start_time": "2022-04-04T17:28:23.259Z"
      },
      {
        "duration": 29,
        "start_time": "2022-04-04T17:28:58.916Z"
      },
      {
        "duration": 30,
        "start_time": "2022-04-04T17:29:05.325Z"
      },
      {
        "duration": 272,
        "start_time": "2022-04-04T17:29:10.696Z"
      },
      {
        "duration": 8,
        "start_time": "2022-04-04T17:37:39.174Z"
      },
      {
        "duration": 133,
        "start_time": "2022-04-04T17:38:40.565Z"
      },
      {
        "duration": 13,
        "start_time": "2022-04-04T17:38:45.113Z"
      },
      {
        "duration": 15,
        "start_time": "2022-04-04T17:39:07.298Z"
      },
      {
        "duration": 13,
        "start_time": "2022-04-04T17:39:44.281Z"
      },
      {
        "duration": 16,
        "start_time": "2022-04-04T17:40:11.955Z"
      },
      {
        "duration": 17,
        "start_time": "2022-04-04T17:41:25.277Z"
      },
      {
        "duration": 170,
        "start_time": "2022-04-04T17:43:05.984Z"
      },
      {
        "duration": 5153,
        "start_time": "2022-04-04T17:45:47.182Z"
      },
      {
        "duration": 174,
        "start_time": "2022-04-04T17:46:06.299Z"
      },
      {
        "duration": 602,
        "start_time": "2022-04-04T17:50:00.202Z"
      },
      {
        "duration": 666,
        "start_time": "2022-04-04T17:50:27.278Z"
      },
      {
        "duration": 884,
        "start_time": "2022-04-04T17:50:34.948Z"
      },
      {
        "duration": 529,
        "start_time": "2022-04-04T17:51:50.464Z"
      },
      {
        "duration": 622,
        "start_time": "2022-04-04T17:52:02.607Z"
      },
      {
        "duration": 531,
        "start_time": "2022-04-04T17:52:15.062Z"
      },
      {
        "duration": 642,
        "start_time": "2022-04-04T17:52:36.569Z"
      },
      {
        "duration": 519,
        "start_time": "2022-04-04T17:53:27.567Z"
      },
      {
        "duration": 562,
        "start_time": "2022-04-04T17:53:38.915Z"
      },
      {
        "duration": 667,
        "start_time": "2022-04-04T17:57:23.508Z"
      },
      {
        "duration": 13,
        "start_time": "2022-04-04T18:00:30.123Z"
      },
      {
        "duration": 14,
        "start_time": "2022-04-04T18:01:17.527Z"
      },
      {
        "duration": 17,
        "start_time": "2022-04-04T18:01:47.725Z"
      },
      {
        "duration": 18,
        "start_time": "2022-04-04T18:01:51.834Z"
      },
      {
        "duration": 22,
        "start_time": "2022-04-04T18:02:00.926Z"
      },
      {
        "duration": 20,
        "start_time": "2022-04-04T18:02:20.790Z"
      },
      {
        "duration": 17,
        "start_time": "2022-04-04T18:02:36.953Z"
      },
      {
        "duration": 14,
        "start_time": "2022-04-04T18:02:46.835Z"
      },
      {
        "duration": 564,
        "start_time": "2022-04-04T18:03:37.373Z"
      },
      {
        "duration": 275,
        "start_time": "2022-04-04T18:10:36.389Z"
      },
      {
        "duration": 15,
        "start_time": "2022-04-04T18:11:06.738Z"
      },
      {
        "duration": 261,
        "start_time": "2022-04-04T18:11:21.926Z"
      },
      {
        "duration": 268,
        "start_time": "2022-04-04T18:11:30.246Z"
      },
      {
        "duration": 361,
        "start_time": "2022-04-04T18:11:40.979Z"
      },
      {
        "duration": 1429,
        "start_time": "2022-04-05T11:16:08.211Z"
      },
      {
        "duration": 16,
        "start_time": "2022-04-05T11:16:09.642Z"
      },
      {
        "duration": 11,
        "start_time": "2022-04-05T11:16:09.660Z"
      },
      {
        "duration": 190,
        "start_time": "2022-04-05T11:16:09.673Z"
      },
      {
        "duration": 155,
        "start_time": "2022-04-05T11:16:09.865Z"
      },
      {
        "duration": 257,
        "start_time": "2022-04-05T11:16:10.022Z"
      },
      {
        "duration": 313,
        "start_time": "2022-04-05T11:16:10.281Z"
      },
      {
        "duration": 0,
        "start_time": "2022-04-05T11:16:10.596Z"
      },
      {
        "duration": 0,
        "start_time": "2022-04-05T11:16:10.598Z"
      },
      {
        "duration": 0,
        "start_time": "2022-04-05T11:16:10.600Z"
      },
      {
        "duration": 0,
        "start_time": "2022-04-05T11:16:10.602Z"
      },
      {
        "duration": 0,
        "start_time": "2022-04-05T11:16:10.603Z"
      },
      {
        "duration": 0,
        "start_time": "2022-04-05T11:16:10.605Z"
      },
      {
        "duration": 0,
        "start_time": "2022-04-05T11:16:10.606Z"
      },
      {
        "duration": 0,
        "start_time": "2022-04-05T11:16:10.607Z"
      },
      {
        "duration": 0,
        "start_time": "2022-04-05T11:16:10.608Z"
      },
      {
        "duration": 0,
        "start_time": "2022-04-05T11:16:10.609Z"
      },
      {
        "duration": 20,
        "start_time": "2022-04-05T11:16:23.679Z"
      },
      {
        "duration": 62,
        "start_time": "2022-04-05T11:16:28.319Z"
      },
      {
        "duration": 12,
        "start_time": "2022-04-05T11:16:28.383Z"
      },
      {
        "duration": 19,
        "start_time": "2022-04-05T11:16:28.396Z"
      },
      {
        "duration": 167,
        "start_time": "2022-04-05T11:16:28.417Z"
      },
      {
        "duration": 103,
        "start_time": "2022-04-05T11:16:28.586Z"
      },
      {
        "duration": 239,
        "start_time": "2022-04-05T11:16:28.690Z"
      },
      {
        "duration": 19,
        "start_time": "2022-04-05T11:16:28.930Z"
      },
      {
        "duration": 668,
        "start_time": "2022-04-05T11:16:28.951Z"
      },
      {
        "duration": 15,
        "start_time": "2022-04-05T11:16:29.621Z"
      },
      {
        "duration": 233,
        "start_time": "2022-04-05T11:16:29.638Z"
      },
      {
        "duration": 8395,
        "start_time": "2022-04-05T11:16:29.872Z"
      },
      {
        "duration": 188,
        "start_time": "2022-04-05T11:16:38.269Z"
      },
      {
        "duration": 1286,
        "start_time": "2022-04-05T11:16:38.458Z"
      },
      {
        "duration": 14,
        "start_time": "2022-04-05T11:16:39.747Z"
      },
      {
        "duration": 39,
        "start_time": "2022-04-05T11:16:39.763Z"
      },
      {
        "duration": 259,
        "start_time": "2022-04-05T11:16:39.804Z"
      },
      {
        "duration": 255,
        "start_time": "2022-04-05T11:16:40.064Z"
      },
      {
        "duration": 41,
        "start_time": "2022-04-05T11:23:31.934Z"
      },
      {
        "duration": 1428,
        "start_time": "2022-04-05T11:23:36.109Z"
      },
      {
        "duration": 13,
        "start_time": "2022-04-05T11:23:41.504Z"
      },
      {
        "duration": 29,
        "start_time": "2022-04-05T11:23:44.457Z"
      }
    ],
    "kernelspec": {
      "display_name": "Python 3 (ipykernel)",
      "language": "python",
      "name": "python3"
    },
    "language_info": {
      "codemirror_mode": {
        "name": "ipython",
        "version": 3
      },
      "file_extension": ".py",
      "mimetype": "text/x-python",
      "name": "python",
      "nbconvert_exporter": "python",
      "pygments_lexer": "ipython3",
      "version": "3.9.5"
    },
    "toc": {
      "base_numbering": 1,
      "nav_menu": {},
      "number_sections": false,
      "sideBar": true,
      "skip_h1_title": true,
      "title_cell": "Table of Contents",
      "title_sidebar": "Contents",
      "toc_cell": false,
      "toc_position": {
        "height": "calc(100% - 180px)",
        "left": "10px",
        "top": "150px",
        "width": "270.398px"
      },
      "toc_section_display": true,
      "toc_window_display": false
    },
    "colab": {
      "name": "8.ipynb",
      "provenance": []
    }
  },
  "nbformat": 4,
  "nbformat_minor": 0
}